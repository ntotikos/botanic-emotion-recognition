{
 "cells": [
  {
   "cell_type": "markdown",
   "id": "55418780-d77e-478a-b365-f5795e54b630",
   "metadata": {},
   "source": [
    "# FCNN Baseline Classifier for Plant Waves\n",
    "----\n",
    "\n",
    "#### PREPROCESSING:"
   ]
  },
  {
   "cell_type": "code",
   "execution_count": 1,
   "id": "47863947-8b53-4c6f-b7f7-12b3636d3c91",
   "metadata": {},
   "outputs": [],
   "source": [
    "import numpy as np\n",
    "import torch\n",
    "import pickle\n",
    "import os\n",
    "import matplotlib.pyplot as plt\n",
    "from torch.utils.data import TensorDataset, DataLoader\n",
    "from tqdm import tqdm\n",
    "\n",
    "%run ../src/utils/constants.py"
   ]
  },
  {
   "cell_type": "markdown",
   "id": "959a9b2a-3313-4d0c-992f-da50d85acf8a",
   "metadata": {},
   "source": [
    "Load raw data that has been split into train, test, and validation sets for the 81k and 191k cases."
   ]
  },
  {
   "cell_type": "code",
   "execution_count": 2,
   "id": "a53efc89-4e97-4b8d-816e-1e372b76b565",
   "metadata": {},
   "outputs": [],
   "source": [
    "path_to_pickle_train81k = DATASETS_DIR / \"train-81k-stratified-without-neutral.pkl\"\n",
    "path_to_pickle_train191k = DATASETS_DIR / \"train-191k-stratified-without-neutral.pkl\"\n",
    "path_to_pickle_test81k = DATASETS_DIR / \"test-81k-stratified-without-neutral.pkl\"\n",
    "path_to_pickle_val81k = DATASETS_DIR / \"val-81k-stratified-without-neutral.pkl\""
   ]
  },
  {
   "cell_type": "code",
   "execution_count": null,
   "id": "70130b7b-9884-431a-940c-41277af5e7f9",
   "metadata": {},
   "outputs": [],
   "source": [
    "with open(path_to_pickle_train81k, 'rb') as train_81k_file:\n",
    "    train_81k = pickle.load(train_81k_file)"
   ]
  },
  {
   "cell_type": "code",
   "execution_count": 3,
   "id": "24736e8f-afa4-4e0e-a65b-6e4d36a9e219",
   "metadata": {},
   "outputs": [],
   "source": [
    "with open(path_to_pickle_train191k, 'rb') as train_191k_file:\n",
    "    train_191k = pickle.load(train_191k_file)"
   ]
  },
  {
   "cell_type": "code",
   "execution_count": 4,
   "id": "6936f8d8-0e4a-4f06-a15c-7f893f7c353f",
   "metadata": {},
   "outputs": [],
   "source": [
    "with open(path_to_pickle_test81k, 'rb') as test_81k_file:\n",
    "    test_81k = pickle.load(test_81k_file)"
   ]
  },
  {
   "cell_type": "code",
   "execution_count": 5,
   "id": "a2b47f0a-b530-42cb-9cf8-8c2d6bc3becc",
   "metadata": {},
   "outputs": [],
   "source": [
    "with open(path_to_pickle_val81k, 'rb') as val_81k_file:\n",
    "    val_81k = pickle.load(val_81k_file)"
   ]
  },
  {
   "cell_type": "markdown",
   "id": "a4bf1026-53f8-4025-9a1d-1c8bc95a2559",
   "metadata": {},
   "source": [
    "Just in case you want to use the 191k dataset, run the following line of code. Don't load the `train_81k_file`."
   ]
  },
  {
   "cell_type": "code",
   "execution_count": 6,
   "id": "168758d8-b295-470d-9a21-570bc77dde70",
   "metadata": {},
   "outputs": [
    {
     "data": {
      "text/plain": [
       "28742"
      ]
     },
     "execution_count": 6,
     "metadata": {},
     "output_type": "execute_result"
    }
   ],
   "source": [
    "train_81k = train_191k\n",
    "len(train_81k)"
   ]
  },
  {
   "cell_type": "markdown",
   "id": "ac9711e7-5c87-4de8-ac71-c1d3dd0122fb",
   "metadata": {},
   "source": [
    "While ignoring the class `Neutral`, separate wave slices and labels, and create a Tensor dataset for train, test, val."
   ]
  },
  {
   "cell_type": "markdown",
   "id": "26dd2e0f-6007-4010-8127-14a7917a3813",
   "metadata": {},
   "source": [
    "##### Train 81k"
   ]
  },
  {
   "cell_type": "code",
   "execution_count": 7,
   "id": "d1630bcb-bdcf-4bb1-a530-65793d60e1da",
   "metadata": {},
   "outputs": [],
   "source": [
    "wav_slices_train_81k = []\n",
    "labels_train_81k = []\n",
    "for segment_train_81k in train_81k:  \n",
    "    wav_slices_train_81k.append(segment_train_81k[0])\n",
    "    labels_train_81k.append(segment_train_81k[1])"
   ]
  },
  {
   "cell_type": "code",
   "execution_count": 8,
   "id": "01ea6b56-e125-44c6-af1d-a9a79c33db0c",
   "metadata": {},
   "outputs": [],
   "source": [
    "wav_slices_train_81k = torch.tensor(np.array(wav_slices_train_81k), dtype=torch.float32)\n",
    "labels_train_81k = torch.tensor(np.array(labels_train_81k), dtype=torch.long)\n",
    "dataset_train_81k = TensorDataset(wav_slices_train_81k, labels_train_81k)"
   ]
  },
  {
   "cell_type": "markdown",
   "id": "498ec12c-27db-479f-8d68-3c190ff203b0",
   "metadata": {},
   "source": [
    "Normalize the train samples using per-sample normalization."
   ]
  },
  {
   "cell_type": "code",
   "execution_count": 9,
   "id": "f533b2fc-bf01-4176-8b2f-59d1896c6f2c",
   "metadata": {},
   "outputs": [],
   "source": [
    "data_tensor_train_81k, labels_tensor_train_81k = dataset_train_81k.tensors\n",
    "mean_train_81k = torch.mean(data_tensor_train_81k, dim=1, keepdim=True)\n",
    "std_dev_train_81k = torch.std(data_tensor_train_81k, dim=1, keepdim=True)\n",
    "standardized_data_train_81k = (data_tensor_train_81k - mean_train_81k) / (std_dev_train_81k + 0.00000001)\n",
    "\n",
    "dataset_train_81k = TensorDataset(standardized_data_train_81k, labels_tensor_train_81k)"
   ]
  },
  {
   "cell_type": "markdown",
   "id": "9cd74e19-8547-43e4-80bf-84939afc3c80",
   "metadata": {},
   "source": [
    "##### Test 81k"
   ]
  },
  {
   "cell_type": "code",
   "execution_count": 10,
   "id": "bb7476b7-99ec-47dc-b75b-5b8e3e2e8079",
   "metadata": {},
   "outputs": [],
   "source": [
    "wav_slices_test_81k = []\n",
    "labels_test_81k = []\n",
    "for segment_test_81k in test_81k:  \n",
    "    wav_slices_test_81k.append(segment_test_81k[0])\n",
    "    labels_test_81k.append(segment_test_81k[1])"
   ]
  },
  {
   "cell_type": "code",
   "execution_count": 11,
   "id": "d42b0a58-e7bb-4bef-a83c-bdf4c07f9063",
   "metadata": {},
   "outputs": [],
   "source": [
    "wav_slices_test_81k = torch.tensor(np.array(wav_slices_test_81k), dtype=torch.float32)\n",
    "labels_test_81k = torch.tensor(np.array(labels_test_81k), dtype=torch.long)\n",
    "dataset_test_81k = TensorDataset(wav_slices_test_81k, labels_test_81k)"
   ]
  },
  {
   "cell_type": "markdown",
   "id": "0d279d7c-bf30-4ac4-9735-a7ffdd507b35",
   "metadata": {},
   "source": [
    "Normalize the test samples using per-sample normalization."
   ]
  },
  {
   "cell_type": "code",
   "execution_count": 12,
   "id": "aa6fd06d-21ff-43bc-ae51-6e3fa0f60b3c",
   "metadata": {},
   "outputs": [],
   "source": [
    "data_tensor_test_81k, labels_tensor_test_81k = dataset_test_81k.tensors\n",
    "mean_test_81k = torch.mean(data_tensor_test_81k, dim=1, keepdim=True)\n",
    "std_dev_test_81k = torch.std(data_tensor_test_81k, dim=1, keepdim=True)\n",
    "standardized_data_test_81k = (data_tensor_test_81k - mean_test_81k) / (std_dev_test_81k + 0.00000001)\n",
    "\n",
    "dataset_test_81k = TensorDataset(standardized_data_test_81k, labels_tensor_test_81k)"
   ]
  },
  {
   "cell_type": "markdown",
   "id": "c22cb01e-c2b8-4bdc-95a6-9f4f6737dfbf",
   "metadata": {},
   "source": [
    "##### Validation 81k"
   ]
  },
  {
   "cell_type": "code",
   "execution_count": 13,
   "id": "2eca67e6-2976-4503-8637-6d3b3b99939d",
   "metadata": {},
   "outputs": [],
   "source": [
    "wav_slices_val_81k = []\n",
    "labels_val_81k = []\n",
    "for segment_val_81k in val_81k:  \n",
    "    wav_slices_val_81k.append(segment_val_81k[0])\n",
    "    labels_val_81k.append(segment_val_81k[1])"
   ]
  },
  {
   "cell_type": "code",
   "execution_count": 14,
   "id": "b4d4a285-747c-44c9-a85b-30a6d4233c55",
   "metadata": {},
   "outputs": [],
   "source": [
    "wav_slices_val_81k = torch.tensor(np.array(wav_slices_val_81k), dtype=torch.float32)\n",
    "labels_val_81k = torch.tensor(np.array(labels_val_81k), dtype=torch.long)\n",
    "dataset_val_81k = TensorDataset(wav_slices_val_81k, labels_val_81k)"
   ]
  },
  {
   "cell_type": "markdown",
   "id": "a707a305-1068-404b-b3bd-565050b8d802",
   "metadata": {},
   "source": [
    "Normalize the validation samples using per-sample normalization."
   ]
  },
  {
   "cell_type": "code",
   "execution_count": 15,
   "id": "690affdd-ab9b-43aa-8be8-354360f16047",
   "metadata": {},
   "outputs": [],
   "source": [
    "data_tensor_val_81k, labels_tensor_val_81k = dataset_val_81k.tensors\n",
    "mean_val_81k = torch.mean(data_tensor_val_81k, dim=1, keepdim=True)\n",
    "std_dev_val_81k = torch.std(data_tensor_val_81k, dim=1, keepdim=True)\n",
    "standardized_data_val_81k = (data_tensor_val_81k - mean_val_81k) / (std_dev_val_81k + 0.00000001)\n",
    "\n",
    "dataset_val_81k = TensorDataset(standardized_data_val_81k, labels_tensor_val_81k)"
   ]
  },
  {
   "cell_type": "markdown",
   "id": "67fb008a-7abe-4bde-ad32-d8d25dc73fac",
   "metadata": {},
   "source": [
    "#### Create dataloaders"
   ]
  },
  {
   "cell_type": "code",
   "execution_count": 16,
   "id": "f9ce5a12-01f8-40ae-b74b-9e8871fd144d",
   "metadata": {},
   "outputs": [],
   "source": [
    "batch_size = 32"
   ]
  },
  {
   "cell_type": "code",
   "execution_count": 17,
   "id": "a63aefae-6310-4a3f-a89a-275513ef043c",
   "metadata": {},
   "outputs": [],
   "source": [
    "train81k_loader = DataLoader(dataset_train_81k, batch_size)\n",
    "test81k_loader = DataLoader(dataset_test_81k, batch_size)\n",
    "val81k_loader = DataLoader(dataset_val_81k, batch_size)"
   ]
  },
  {
   "cell_type": "markdown",
   "id": "90c235b1-590b-4888-9d99-76be48aef9cf",
   "metadata": {},
   "source": [
    "#### Hyperparameter Optimization"
   ]
  },
  {
   "cell_type": "code",
   "execution_count": 18,
   "id": "e03c7c87-349a-4a0c-81d8-cf6644209bc9",
   "metadata": {},
   "outputs": [
    {
     "name": "stderr",
     "output_type": "stream",
     "text": [
      "C:\\Users\\nekta\\OneDrive\\Desktop\\botanic-emotion-recognition\\venv\\Lib\\site-packages\\tqdm\\auto.py:21: TqdmWarning: IProgress not found. Please update jupyter and ipywidgets. See https://ipywidgets.readthedocs.io/en/stable/user_install.html\n",
      "  from .autonotebook import tqdm as notebook_tqdm\n"
     ]
    }
   ],
   "source": [
    "import wandb\n",
    "import math\n",
    "import optuna\n",
    "from optuna.trial import TrialState\n",
    "from sklearn.metrics import f1_score, accuracy_score, balanced_accuracy_score, precision_score, recall_score"
   ]
  },
  {
   "cell_type": "markdown",
   "id": "a249a2bc-e6ed-4e35-a8b5-03fb885cb7ee",
   "metadata": {},
   "source": [
    "Define the FCNN model."
   ]
  },
  {
   "cell_type": "code",
   "execution_count": 19,
   "id": "16f0d001-9473-4404-accb-11cad0776bae",
   "metadata": {},
   "outputs": [],
   "source": [
    "def define_model(trial):\n",
    "    layers = []\n",
    "\n",
    "    INPUT_DIM = 10000\n",
    "    N_CLASSES = 6\n",
    "    dropout_rate = trial.suggest_categorical(\"dropout_rate\", [0.0, 0.1, 0.2])\n",
    "\n",
    "    hidden_dim_1 = trial.suggest_categorical(\"hidden_dim_1\", [2 ** i for i in range(4, 8)])\n",
    "\n",
    "    layers.append(torch.nn.Linear(INPUT_DIM, hidden_dim_1))\n",
    "    layers.append(torch.nn.ReLU())\n",
    "    layers.append(torch.nn.Dropout(dropout_rate))\n",
    "\n",
    "    hidden_dim_2 = trial.suggest_categorical(\"hidden_dim_2\", [2 ** i for i in range(4, 7)])\n",
    "    \n",
    "    layers.append(torch.nn.Linear(hidden_dim_1, hidden_dim_2))\n",
    "    layers.append(torch.nn.ReLU())\n",
    "    layers.append(torch.nn.Dropout(dropout_rate))\n",
    "    \n",
    "    layers.append(torch.nn.Linear(hidden_dim_2, N_CLASSES))\n",
    "\n",
    "    config_dict = {\n",
    "        \"hidden_dim_1\": hidden_dim_1,\n",
    "        \"hidden_dim_2\": hidden_dim_2,\n",
    "        \"dropout_rate\": dropout_rate\n",
    "    }\n",
    "\n",
    "    return torch.nn.Sequential(*layers), config_dict"
   ]
  },
  {
   "cell_type": "markdown",
   "id": "41b00e8c-7614-4453-b3e1-7676d3f22198",
   "metadata": {},
   "source": [
    "Define the objective function for optuna for the hyperparameter optimization."
   ]
  },
  {
   "cell_type": "code",
   "execution_count": 20,
   "id": "6e7bb77c-a7ae-4808-b432-5fcc0caa33fd",
   "metadata": {},
   "outputs": [],
   "source": [
    "def objective(trial): \n",
    "    model, config_dict = define_model(trial)\n",
    "\n",
    "    lr = trial.suggest_categorical('lr', [0.0001, 0.001, 0.01])\n",
    "\n",
    "    criterion = torch.nn.CrossEntropyLoss()\n",
    "    optimizer = torch.optim.Adam(model.parameters(), lr=lr)\n",
    "\n",
    "    print(config_dict)\n",
    "    name_experiment = (f\"{trial.number}_{NAME_CORE}_lr-{lr}_hidden1-{config_dict['hidden_dim_1']}_hidden2-\"\n",
    "                       f\"{config_dict['hidden_dim_2']}_dr-{config_dict['dropout_rate']}\")\n",
    "\n",
    "    config_dict[\"lr\"] = lr\n",
    "    config_dict[\"epochs\"] = NUM_EPOCHS\n",
    "\n",
    "    wandb.init(\n",
    "        project=\"model_\" + NAME_CORE + \"-hpo\",\n",
    "        dir=LOGS_DIR,\n",
    "        name=name_experiment,\n",
    "        config=config_dict\n",
    "    )\n",
    "\n",
    "\n",
    "    for epoch in range(NUM_EPOCHS):\n",
    "        model.train()\n",
    "        for batch_data, batch_labels in tqdm(train81k_loader):          \n",
    "            # zero gradients\n",
    "            optimizer.zero_grad()\n",
    "\n",
    "            # forward + backward pass\n",
    "            outputs = model(batch_data)\n",
    "            loss = criterion(outputs, batch_labels)\n",
    "            loss.backward()\n",
    "            optimizer.step()\n",
    "\n",
    "        all_preds = []\n",
    "        all_labels = []\n",
    "\n",
    "        model.eval()\n",
    "        with torch.no_grad():\n",
    "            for batch_data, batch_labels in tqdm(val81k_loader): \n",
    "                output = model(batch_data)\n",
    "\n",
    "                predicted = output.argmax(dim=1)\n",
    "                all_preds.extend(predicted.numpy())\n",
    "                all_labels.extend(batch_labels.numpy())\n",
    "\n",
    "        # TODO: explicitely state in written thesis that zero_division=0.0\n",
    "        balanced_accuracy = balanced_accuracy_score(all_labels, all_preds)\n",
    "        accuracy = accuracy_score(all_labels, all_preds)\n",
    "        f1_class = f1_score(all_labels, all_preds, average=None, zero_division=0.0)\n",
    "        f1_weighted = f1_score(all_labels, all_preds, average=\"weighted\", zero_division=0.0)\n",
    "        recall = recall_score(all_labels, all_preds, average=\"weighted\", zero_division=0.0)\n",
    "        precision = precision_score(all_labels, all_preds, average=\"weighted\", zero_division=0.0)\n",
    "\n",
    "        trial.report(balanced_accuracy, epoch)\n",
    "\n",
    "        if trial.should_prune():\n",
    "            raise optuna.exceptions.TrialPruned()\n",
    "\n",
    "        metrics = {\n",
    "            \"balanced_accuracy\": balanced_accuracy,\n",
    "            \"accuracy\": accuracy,\n",
    "            \"f1_weighted\": f1_weighted,\n",
    "            \"recall\": recall,\n",
    "            \"precision\": precision\n",
    "        }\n",
    "\n",
    "        wandb_input = metrics\n",
    "        wandb.log(wandb_input)\n",
    "\n",
    "    wandb.finish()\n",
    "\n",
    "    return balanced_accuracy"
   ]
  },
  {
   "cell_type": "markdown",
   "id": "2a89f988-a9ea-423a-8d6f-1d5c7615d3b3",
   "metadata": {},
   "source": [
    "Run hyperparameter optimization using optuna. Specify a study name and define the search space for the grid search. "
   ]
  },
  {
   "cell_type": "code",
   "execution_count": 21,
   "id": "074591d0-6457-49af-af4a-1ffb94edb13d",
   "metadata": {},
   "outputs": [],
   "source": [
    "search_space = {\n",
    "    'lr': [0.0001, 0.001, 0.01],\n",
    "    'hidden_dim_1': [2 ** i for i in range(4, 8)],\n",
    "    'hidden_dim_2': [2 ** i for i in range(4, 7)],\n",
    "    \"dropout_rate\": [0, 0.1, 0.2]\n",
    "}"
   ]
  },
  {
   "cell_type": "code",
   "execution_count": 22,
   "id": "406a1c54-8983-4a95-b950-444596322cd5",
   "metadata": {},
   "outputs": [
    {
     "data": {
      "text/plain": [
       "108"
      ]
     },
     "execution_count": 22,
     "metadata": {},
     "output_type": "execute_result"
    }
   ],
   "source": [
    "num_combi = 1\n",
    "for i in search_space:\n",
    "    num_combi *= len(search_space[i])\n",
    "num_combi"
   ]
  },
  {
   "cell_type": "code",
   "execution_count": 23,
   "id": "1b2cd8f6-9f16-4c13-95ef-3f5d400511c3",
   "metadata": {},
   "outputs": [],
   "source": [
    "NAME_CORE = f\"fcnn_baseline_6_large_81k_search_{num_combi}\"\n",
    "NUM_EPOCHS = 20"
   ]
  },
  {
   "cell_type": "markdown",
   "id": "e4afc2c0-e05c-43cd-80be-9a41a6c64de0",
   "metadata": {},
   "source": [
    "#### Second Run:"
   ]
  },
  {
   "cell_type": "code",
   "execution_count": 24,
   "id": "d10e4065-cda8-4458-ae07-d0d1a9d2e6d2",
   "metadata": {},
   "outputs": [
    {
     "name": "stderr",
     "output_type": "stream",
     "text": [
      "[I 2024-02-14 20:49:20,989] A new study created in RDB with name: fcnn_baseline_6_large_81k_search_108\n"
     ]
    },
    {
     "name": "stdout",
     "output_type": "stream",
     "text": [
      "{'hidden_dim_1': 16, 'hidden_dim_2': 64, 'dropout_rate': 0}\n"
     ]
    },
    {
     "name": "stderr",
     "output_type": "stream",
     "text": [
      "\u001b[34m\u001b[1mwandb\u001b[0m: Currently logged in as: \u001b[33mtotikos\u001b[0m. Use \u001b[1m`wandb login --relogin`\u001b[0m to force relogin\n"
     ]
    },
    {
     "data": {
      "text/html": [
       "wandb version 0.16.3 is available!  To upgrade, please run:\n",
       " $ pip install wandb --upgrade"
      ],
      "text/plain": [
       "<IPython.core.display.HTML object>"
      ]
     },
     "metadata": {},
     "output_type": "display_data"
    },
    {
     "data": {
      "text/html": [
       "Tracking run with wandb version 0.15.12"
      ],
      "text/plain": [
       "<IPython.core.display.HTML object>"
      ]
     },
     "metadata": {},
     "output_type": "display_data"
    },
    {
     "data": {
      "text/html": [
       "Run data is saved locally in <code>C:\\Users\\nekta\\OneDrive\\Desktop\\botanic-emotion-recognition\\logs\\wandb\\run-20240214_204923-0vko5js8</code>"
      ],
      "text/plain": [
       "<IPython.core.display.HTML object>"
      ]
     },
     "metadata": {},
     "output_type": "display_data"
    },
    {
     "data": {
      "text/html": [
       "Syncing run <strong><a href='https://wandb.ai/totikos/model_fcnn_baseline_6_large_81k_search_108-hpo/runs/0vko5js8' target=\"_blank\">0_fcnn_baseline_6_large_81k_search_108_lr-0.01_hidden1-16_hidden2-64_dr-0</a></strong> to <a href='https://wandb.ai/totikos/model_fcnn_baseline_6_large_81k_search_108-hpo' target=\"_blank\">Weights & Biases</a> (<a href='https://wandb.me/run' target=\"_blank\">docs</a>)<br/>"
      ],
      "text/plain": [
       "<IPython.core.display.HTML object>"
      ]
     },
     "metadata": {},
     "output_type": "display_data"
    },
    {
     "data": {
      "text/html": [
       " View project at <a href='https://wandb.ai/totikos/model_fcnn_baseline_6_large_81k_search_108-hpo' target=\"_blank\">https://wandb.ai/totikos/model_fcnn_baseline_6_large_81k_search_108-hpo</a>"
      ],
      "text/plain": [
       "<IPython.core.display.HTML object>"
      ]
     },
     "metadata": {},
     "output_type": "display_data"
    },
    {
     "data": {
      "text/html": [
       " View run at <a href='https://wandb.ai/totikos/model_fcnn_baseline_6_large_81k_search_108-hpo/runs/0vko5js8' target=\"_blank\">https://wandb.ai/totikos/model_fcnn_baseline_6_large_81k_search_108-hpo/runs/0vko5js8</a>"
      ],
      "text/plain": [
       "<IPython.core.display.HTML object>"
      ]
     },
     "metadata": {},
     "output_type": "display_data"
    },
    {
     "name": "stderr",
     "output_type": "stream",
     "text": [
      "100%|███████████████████████████████████████| 899/899 [00:02<00:00, 353.81it/s]\n",
      "100%|█████████████████████████████████████████| 82/82 [00:00<00:00, 874.37it/s]\n",
      "100%|███████████████████████████████████████| 899/899 [00:02<00:00, 387.39it/s]\n",
      "100%|█████████████████████████████████████████| 82/82 [00:00<00:00, 850.26it/s]\n",
      "100%|███████████████████████████████████████| 899/899 [00:02<00:00, 379.78it/s]\n",
      "100%|█████████████████████████████████████████| 82/82 [00:00<00:00, 875.77it/s]\n",
      "100%|███████████████████████████████████████| 899/899 [00:02<00:00, 340.67it/s]\n",
      "100%|█████████████████████████████████████████| 82/82 [00:00<00:00, 731.28it/s]\n",
      "100%|███████████████████████████████████████| 899/899 [00:03<00:00, 288.75it/s]\n",
      "100%|█████████████████████████████████████████| 82/82 [00:00<00:00, 630.84it/s]\n",
      "100%|███████████████████████████████████████| 899/899 [00:04<00:00, 214.45it/s]\n",
      "100%|█████████████████████████████████████████| 82/82 [00:00<00:00, 762.36it/s]\n",
      "100%|███████████████████████████████████████| 899/899 [00:05<00:00, 175.40it/s]\n",
      "100%|█████████████████████████████████████████| 82/82 [00:00<00:00, 651.96it/s]\n",
      "100%|███████████████████████████████████████| 899/899 [00:06<00:00, 138.55it/s]\n",
      "100%|█████████████████████████████████████████| 82/82 [00:00<00:00, 622.52it/s]\n",
      "100%|███████████████████████████████████████| 899/899 [00:06<00:00, 148.13it/s]\n",
      "100%|█████████████████████████████████████████| 82/82 [00:00<00:00, 568.00it/s]\n",
      "100%|███████████████████████████████████████| 899/899 [00:05<00:00, 164.08it/s]\n",
      "100%|█████████████████████████████████████████| 82/82 [00:00<00:00, 651.70it/s]\n",
      "100%|███████████████████████████████████████| 899/899 [00:05<00:00, 164.65it/s]\n",
      "100%|█████████████████████████████████████████| 82/82 [00:00<00:00, 683.35it/s]\n",
      "100%|███████████████████████████████████████| 899/899 [00:04<00:00, 189.36it/s]\n",
      "100%|█████████████████████████████████████████| 82/82 [00:00<00:00, 597.30it/s]\n",
      "100%|███████████████████████████████████████| 899/899 [00:04<00:00, 190.40it/s]\n",
      "100%|█████████████████████████████████████████| 82/82 [00:00<00:00, 666.01it/s]\n",
      "100%|███████████████████████████████████████| 899/899 [00:05<00:00, 163.80it/s]\n",
      "100%|█████████████████████████████████████████| 82/82 [00:00<00:00, 738.44it/s]\n",
      "100%|███████████████████████████████████████| 899/899 [00:05<00:00, 164.57it/s]\n",
      "100%|█████████████████████████████████████████| 82/82 [00:00<00:00, 608.72it/s]\n",
      "100%|███████████████████████████████████████| 899/899 [00:05<00:00, 162.02it/s]\n",
      "100%|█████████████████████████████████████████| 82/82 [00:00<00:00, 704.38it/s]\n",
      "100%|███████████████████████████████████████| 899/899 [00:05<00:00, 157.64it/s]\n",
      "100%|█████████████████████████████████████████| 82/82 [00:00<00:00, 668.11it/s]\n",
      "100%|███████████████████████████████████████| 899/899 [00:05<00:00, 158.93it/s]\n",
      "100%|█████████████████████████████████████████| 82/82 [00:00<00:00, 659.95it/s]\n",
      "100%|███████████████████████████████████████| 899/899 [00:05<00:00, 155.36it/s]\n",
      "100%|█████████████████████████████████████████| 82/82 [00:00<00:00, 629.93it/s]\n",
      "100%|███████████████████████████████████████| 899/899 [00:05<00:00, 158.26it/s]\n",
      "100%|█████████████████████████████████████████| 82/82 [00:00<00:00, 702.89it/s]\n"
     ]
    },
    {
     "data": {
      "text/html": [
       "Waiting for W&B process to finish... <strong style=\"color:green\">(success).</strong>"
      ],
      "text/plain": [
       "<IPython.core.display.HTML object>"
      ]
     },
     "metadata": {},
     "output_type": "display_data"
    },
    {
     "data": {
      "text/html": [
       "<style>\n",
       "    table.wandb td:nth-child(1) { padding: 0 10px; text-align: left ; width: auto;} td:nth-child(2) {text-align: left ; width: 100%}\n",
       "    .wandb-row { display: flex; flex-direction: row; flex-wrap: wrap; justify-content: flex-start; width: 100% }\n",
       "    .wandb-col { display: flex; flex-direction: column; flex-basis: 100%; flex: 1; padding: 10px; }\n",
       "    </style>\n",
       "<div class=\"wandb-row\"><div class=\"wandb-col\"><h3>Run history:</h3><br/><table class=\"wandb\"><tr><td>accuracy</td><td>▁▁▁▁▁▁▁▁▁▁▁▁▁▁▁▁▁▁▁▁</td></tr><tr><td>balanced_accuracy</td><td>▁███████████████████</td></tr><tr><td>f1_weighted</td><td>█▁▁▁▁▁▁▁▁▁▁▁▁▁▁▁▁▁▁▁</td></tr><tr><td>precision</td><td>█▁▁▁▁▁▁▁▁▁▁▁▁▁▁▁▁▁▁▁</td></tr><tr><td>recall</td><td>▁▁▁▁▁▁▁▁▁▁▁▁▁▁▁▁▁▁▁▁</td></tr></table><br/></div><div class=\"wandb-col\"><h3>Run summary:</h3><br/><table class=\"wandb\"><tr><td>accuracy</td><td>0.23846</td></tr><tr><td>balanced_accuracy</td><td>0.16667</td></tr><tr><td>f1_weighted</td><td>0.09183</td></tr><tr><td>precision</td><td>0.05686</td></tr><tr><td>recall</td><td>0.23846</td></tr></table><br/></div></div>"
      ],
      "text/plain": [
       "<IPython.core.display.HTML object>"
      ]
     },
     "metadata": {},
     "output_type": "display_data"
    },
    {
     "data": {
      "text/html": [
       " View run <strong style=\"color:#cdcd00\">0_fcnn_baseline_6_large_81k_search_108_lr-0.01_hidden1-16_hidden2-64_dr-0</strong> at: <a href='https://wandb.ai/totikos/model_fcnn_baseline_6_large_81k_search_108-hpo/runs/0vko5js8' target=\"_blank\">https://wandb.ai/totikos/model_fcnn_baseline_6_large_81k_search_108-hpo/runs/0vko5js8</a><br/> View job at <a href='https://wandb.ai/totikos/model_fcnn_baseline_6_large_81k_search_108-hpo/jobs/QXJ0aWZhY3RDb2xsZWN0aW9uOjEzOTc4MjU0OA==/version_details/v0' target=\"_blank\">https://wandb.ai/totikos/model_fcnn_baseline_6_large_81k_search_108-hpo/jobs/QXJ0aWZhY3RDb2xsZWN0aW9uOjEzOTc4MjU0OA==/version_details/v0</a><br/>Synced 5 W&B file(s), 0 media file(s), 2 artifact file(s) and 0 other file(s)"
      ],
      "text/plain": [
       "<IPython.core.display.HTML object>"
      ]
     },
     "metadata": {},
     "output_type": "display_data"
    },
    {
     "data": {
      "text/html": [
       "Find logs at: <code>C:\\Users\\nekta\\OneDrive\\Desktop\\botanic-emotion-recognition\\logs\\wandb\\run-20240214_204923-0vko5js8\\logs</code>"
      ],
      "text/plain": [
       "<IPython.core.display.HTML object>"
      ]
     },
     "metadata": {},
     "output_type": "display_data"
    },
    {
     "name": "stderr",
     "output_type": "stream",
     "text": [
      "[I 2024-02-14 20:51:08,262] Trial 0 finished with value: 0.16666666666666666 and parameters: {'dropout_rate': 0.0, 'hidden_dim_1': 16, 'hidden_dim_2': 64, 'lr': 0.01}. Best is trial 0 with value: 0.16666666666666666.\n"
     ]
    },
    {
     "name": "stdout",
     "output_type": "stream",
     "text": [
      "{'hidden_dim_1': 128, 'hidden_dim_2': 32, 'dropout_rate': 0.1}\n"
     ]
    },
    {
     "data": {
      "text/html": [
       "wandb version 0.16.3 is available!  To upgrade, please run:\n",
       " $ pip install wandb --upgrade"
      ],
      "text/plain": [
       "<IPython.core.display.HTML object>"
      ]
     },
     "metadata": {},
     "output_type": "display_data"
    },
    {
     "data": {
      "text/html": [
       "Tracking run with wandb version 0.15.12"
      ],
      "text/plain": [
       "<IPython.core.display.HTML object>"
      ]
     },
     "metadata": {},
     "output_type": "display_data"
    },
    {
     "data": {
      "text/html": [
       "Run data is saved locally in <code>C:\\Users\\nekta\\OneDrive\\Desktop\\botanic-emotion-recognition\\logs\\wandb\\run-20240214_205108-6oaq6oy4</code>"
      ],
      "text/plain": [
       "<IPython.core.display.HTML object>"
      ]
     },
     "metadata": {},
     "output_type": "display_data"
    },
    {
     "data": {
      "text/html": [
       "Syncing run <strong><a href='https://wandb.ai/totikos/model_fcnn_baseline_6_large_81k_search_108-hpo/runs/6oaq6oy4' target=\"_blank\">1_fcnn_baseline_6_large_81k_search_108_lr-0.01_hidden1-128_hidden2-32_dr-0.1</a></strong> to <a href='https://wandb.ai/totikos/model_fcnn_baseline_6_large_81k_search_108-hpo' target=\"_blank\">Weights & Biases</a> (<a href='https://wandb.me/run' target=\"_blank\">docs</a>)<br/>"
      ],
      "text/plain": [
       "<IPython.core.display.HTML object>"
      ]
     },
     "metadata": {},
     "output_type": "display_data"
    },
    {
     "data": {
      "text/html": [
       " View project at <a href='https://wandb.ai/totikos/model_fcnn_baseline_6_large_81k_search_108-hpo' target=\"_blank\">https://wandb.ai/totikos/model_fcnn_baseline_6_large_81k_search_108-hpo</a>"
      ],
      "text/plain": [
       "<IPython.core.display.HTML object>"
      ]
     },
     "metadata": {},
     "output_type": "display_data"
    },
    {
     "data": {
      "text/html": [
       " View run at <a href='https://wandb.ai/totikos/model_fcnn_baseline_6_large_81k_search_108-hpo/runs/6oaq6oy4' target=\"_blank\">https://wandb.ai/totikos/model_fcnn_baseline_6_large_81k_search_108-hpo/runs/6oaq6oy4</a>"
      ],
      "text/plain": [
       "<IPython.core.display.HTML object>"
      ]
     },
     "metadata": {},
     "output_type": "display_data"
    },
    {
     "name": "stderr",
     "output_type": "stream",
     "text": [
      "100%|████████████████████████████████████████| 899/899 [00:12<00:00, 73.01it/s]\n",
      "100%|█████████████████████████████████████████| 82/82 [00:00<00:00, 418.21it/s]\n",
      "100%|████████████████████████████████████████| 899/899 [00:23<00:00, 37.89it/s]\n",
      "100%|█████████████████████████████████████████| 82/82 [00:00<00:00, 442.78it/s]\n",
      "100%|████████████████████████████████████████| 899/899 [00:14<00:00, 61.62it/s]\n",
      "100%|█████████████████████████████████████████| 82/82 [00:00<00:00, 418.93it/s]\n",
      "100%|████████████████████████████████████████| 899/899 [00:29<00:00, 30.14it/s]\n",
      "100%|█████████████████████████████████████████| 82/82 [00:00<00:00, 460.19it/s]\n",
      "100%|████████████████████████████████████████| 899/899 [00:30<00:00, 29.45it/s]\n",
      "100%|█████████████████████████████████████████| 82/82 [00:00<00:00, 435.76it/s]\n",
      "100%|████████████████████████████████████████| 899/899 [00:33<00:00, 27.17it/s]\n",
      "100%|█████████████████████████████████████████| 82/82 [00:00<00:00, 304.20it/s]\n",
      "100%|████████████████████████████████████████| 899/899 [00:32<00:00, 27.63it/s]\n",
      "100%|█████████████████████████████████████████| 82/82 [00:00<00:00, 410.71it/s]\n",
      "100%|████████████████████████████████████████| 899/899 [00:31<00:00, 28.52it/s]\n",
      "100%|█████████████████████████████████████████| 82/82 [00:00<00:00, 476.87it/s]\n",
      "100%|████████████████████████████████████████| 899/899 [00:32<00:00, 27.79it/s]\n",
      "100%|█████████████████████████████████████████| 82/82 [00:00<00:00, 482.27it/s]\n",
      "100%|████████████████████████████████████████| 899/899 [00:34<00:00, 26.27it/s]\n",
      "100%|█████████████████████████████████████████| 82/82 [00:00<00:00, 391.15it/s]\n",
      "100%|████████████████████████████████████████| 899/899 [00:33<00:00, 27.06it/s]\n",
      "100%|█████████████████████████████████████████| 82/82 [00:00<00:00, 490.42it/s]\n",
      "100%|████████████████████████████████████████| 899/899 [00:29<00:00, 30.38it/s]\n",
      "100%|█████████████████████████████████████████| 82/82 [00:00<00:00, 122.46it/s]\n",
      "100%|████████████████████████████████████████| 899/899 [00:31<00:00, 28.21it/s]\n",
      "100%|█████████████████████████████████████████| 82/82 [00:00<00:00, 483.11it/s]\n",
      "100%|████████████████████████████████████████| 899/899 [00:30<00:00, 29.14it/s]\n",
      "100%|█████████████████████████████████████████| 82/82 [00:00<00:00, 410.65it/s]\n",
      "100%|████████████████████████████████████████| 899/899 [00:30<00:00, 29.77it/s]\n",
      "100%|█████████████████████████████████████████| 82/82 [00:00<00:00, 501.79it/s]\n",
      "100%|████████████████████████████████████████| 899/899 [00:29<00:00, 30.44it/s]\n",
      "100%|█████████████████████████████████████████| 82/82 [00:00<00:00, 481.93it/s]\n",
      "100%|████████████████████████████████████████| 899/899 [00:29<00:00, 30.32it/s]\n",
      "100%|█████████████████████████████████████████| 82/82 [00:00<00:00, 467.52it/s]\n",
      "100%|████████████████████████████████████████| 899/899 [00:29<00:00, 30.29it/s]\n",
      "100%|█████████████████████████████████████████| 82/82 [00:00<00:00, 478.25it/s]\n",
      "100%|████████████████████████████████████████| 899/899 [00:35<00:00, 25.52it/s]\n",
      "100%|█████████████████████████████████████████| 82/82 [00:00<00:00, 364.33it/s]\n",
      "100%|████████████████████████████████████████| 899/899 [00:30<00:00, 29.44it/s]\n",
      "100%|█████████████████████████████████████████| 82/82 [00:00<00:00, 471.24it/s]\n"
     ]
    },
    {
     "data": {
      "text/html": [
       "Waiting for W&B process to finish... <strong style=\"color:green\">(success).</strong>"
      ],
      "text/plain": [
       "<IPython.core.display.HTML object>"
      ]
     },
     "metadata": {},
     "output_type": "display_data"
    },
    {
     "data": {
      "text/html": [
       "<style>\n",
       "    table.wandb td:nth-child(1) { padding: 0 10px; text-align: left ; width: auto;} td:nth-child(2) {text-align: left ; width: 100%}\n",
       "    .wandb-row { display: flex; flex-direction: row; flex-wrap: wrap; justify-content: flex-start; width: 100% }\n",
       "    .wandb-col { display: flex; flex-direction: column; flex-basis: 100%; flex: 1; padding: 10px; }\n",
       "    </style>\n",
       "<div class=\"wandb-row\"><div class=\"wandb-col\"><h3>Run history:</h3><br/><table class=\"wandb\"><tr><td>accuracy</td><td>▁▁▁▁▁▁▁▁▁▁▁▁▁▁▁▁▁▁▁▁</td></tr><tr><td>balanced_accuracy</td><td>▁▁▁▁▁▁▁▁▁▁▁▁▁▁▁▁▁▁▁▁</td></tr><tr><td>f1_weighted</td><td>▁▁▁▁▁▁▁▁▁▁▁▁▁▁▁▁▁▁▁▁</td></tr><tr><td>precision</td><td>▁▁▁▁▁▁▁▁▁▁▁▁▁▁▁▁▁▁▁▁</td></tr><tr><td>recall</td><td>▁▁▁▁▁▁▁▁▁▁▁▁▁▁▁▁▁▁▁▁</td></tr></table><br/></div><div class=\"wandb-col\"><h3>Run summary:</h3><br/><table class=\"wandb\"><tr><td>accuracy</td><td>0.23846</td></tr><tr><td>balanced_accuracy</td><td>0.16667</td></tr><tr><td>f1_weighted</td><td>0.09183</td></tr><tr><td>precision</td><td>0.05686</td></tr><tr><td>recall</td><td>0.23846</td></tr></table><br/></div></div>"
      ],
      "text/plain": [
       "<IPython.core.display.HTML object>"
      ]
     },
     "metadata": {},
     "output_type": "display_data"
    },
    {
     "data": {
      "text/html": [
       " View run <strong style=\"color:#cdcd00\">1_fcnn_baseline_6_large_81k_search_108_lr-0.01_hidden1-128_hidden2-32_dr-0.1</strong> at: <a href='https://wandb.ai/totikos/model_fcnn_baseline_6_large_81k_search_108-hpo/runs/6oaq6oy4' target=\"_blank\">https://wandb.ai/totikos/model_fcnn_baseline_6_large_81k_search_108-hpo/runs/6oaq6oy4</a><br/> View job at <a href='https://wandb.ai/totikos/model_fcnn_baseline_6_large_81k_search_108-hpo/jobs/QXJ0aWZhY3RDb2xsZWN0aW9uOjEzOTc4MjU0OA==/version_details/v0' target=\"_blank\">https://wandb.ai/totikos/model_fcnn_baseline_6_large_81k_search_108-hpo/jobs/QXJ0aWZhY3RDb2xsZWN0aW9uOjEzOTc4MjU0OA==/version_details/v0</a><br/>Synced 5 W&B file(s), 0 media file(s), 0 artifact file(s) and 0 other file(s)"
      ],
      "text/plain": [
       "<IPython.core.display.HTML object>"
      ]
     },
     "metadata": {},
     "output_type": "display_data"
    },
    {
     "data": {
      "text/html": [
       "Find logs at: <code>C:\\Users\\nekta\\OneDrive\\Desktop\\botanic-emotion-recognition\\logs\\wandb\\run-20240214_205108-6oaq6oy4\\logs</code>"
      ],
      "text/plain": [
       "<IPython.core.display.HTML object>"
      ]
     },
     "metadata": {},
     "output_type": "display_data"
    },
    {
     "name": "stderr",
     "output_type": "stream",
     "text": [
      "[I 2024-02-14 21:01:09,515] Trial 1 finished with value: 0.16666666666666666 and parameters: {'dropout_rate': 0.1, 'hidden_dim_1': 128, 'hidden_dim_2': 32, 'lr': 0.01}. Best is trial 0 with value: 0.16666666666666666.\n"
     ]
    },
    {
     "name": "stdout",
     "output_type": "stream",
     "text": [
      "{'hidden_dim_1': 16, 'hidden_dim_2': 64, 'dropout_rate': 0.2}\n"
     ]
    },
    {
     "data": {
      "text/html": [
       "wandb version 0.16.3 is available!  To upgrade, please run:\n",
       " $ pip install wandb --upgrade"
      ],
      "text/plain": [
       "<IPython.core.display.HTML object>"
      ]
     },
     "metadata": {},
     "output_type": "display_data"
    },
    {
     "data": {
      "text/html": [
       "Tracking run with wandb version 0.15.12"
      ],
      "text/plain": [
       "<IPython.core.display.HTML object>"
      ]
     },
     "metadata": {},
     "output_type": "display_data"
    },
    {
     "data": {
      "text/html": [
       "Run data is saved locally in <code>C:\\Users\\nekta\\OneDrive\\Desktop\\botanic-emotion-recognition\\logs\\wandb\\run-20240214_210109-t1amq5fm</code>"
      ],
      "text/plain": [
       "<IPython.core.display.HTML object>"
      ]
     },
     "metadata": {},
     "output_type": "display_data"
    },
    {
     "data": {
      "text/html": [
       "Syncing run <strong><a href='https://wandb.ai/totikos/model_fcnn_baseline_6_large_81k_search_108-hpo/runs/t1amq5fm' target=\"_blank\">2_fcnn_baseline_6_large_81k_search_108_lr-0.01_hidden1-16_hidden2-64_dr-0.2</a></strong> to <a href='https://wandb.ai/totikos/model_fcnn_baseline_6_large_81k_search_108-hpo' target=\"_blank\">Weights & Biases</a> (<a href='https://wandb.me/run' target=\"_blank\">docs</a>)<br/>"
      ],
      "text/plain": [
       "<IPython.core.display.HTML object>"
      ]
     },
     "metadata": {},
     "output_type": "display_data"
    },
    {
     "data": {
      "text/html": [
       " View project at <a href='https://wandb.ai/totikos/model_fcnn_baseline_6_large_81k_search_108-hpo' target=\"_blank\">https://wandb.ai/totikos/model_fcnn_baseline_6_large_81k_search_108-hpo</a>"
      ],
      "text/plain": [
       "<IPython.core.display.HTML object>"
      ]
     },
     "metadata": {},
     "output_type": "display_data"
    },
    {
     "data": {
      "text/html": [
       " View run at <a href='https://wandb.ai/totikos/model_fcnn_baseline_6_large_81k_search_108-hpo/runs/t1amq5fm' target=\"_blank\">https://wandb.ai/totikos/model_fcnn_baseline_6_large_81k_search_108-hpo/runs/t1amq5fm</a>"
      ],
      "text/plain": [
       "<IPython.core.display.HTML object>"
      ]
     },
     "metadata": {},
     "output_type": "display_data"
    },
    {
     "name": "stderr",
     "output_type": "stream",
     "text": [
      "100%|███████████████████████████████████████| 899/899 [00:03<00:00, 292.44it/s]\n",
      "100%|█████████████████████████████████████████| 82/82 [00:00<00:00, 671.86it/s]\n",
      "100%|███████████████████████████████████████| 899/899 [00:04<00:00, 215.36it/s]\n",
      "100%|█████████████████████████████████████████| 82/82 [00:00<00:00, 609.59it/s]\n",
      "100%|███████████████████████████████████████| 899/899 [00:04<00:00, 196.76it/s]\n",
      "100%|█████████████████████████████████████████| 82/82 [00:00<00:00, 453.14it/s]\n",
      "100%|███████████████████████████████████████| 899/899 [00:03<00:00, 267.88it/s]\n",
      "100%|█████████████████████████████████████████| 82/82 [00:00<00:00, 657.51it/s]\n",
      "100%|███████████████████████████████████████| 899/899 [00:03<00:00, 229.92it/s]\n",
      "100%|█████████████████████████████████████████| 82/82 [00:00<00:00, 500.14it/s]\n",
      "100%|███████████████████████████████████████| 899/899 [00:05<00:00, 161.52it/s]\n",
      "100%|█████████████████████████████████████████| 82/82 [00:00<00:00, 701.54it/s]\n",
      "100%|███████████████████████████████████████| 899/899 [00:06<00:00, 141.47it/s]\n",
      "100%|█████████████████████████████████████████| 82/82 [00:00<00:00, 589.74it/s]\n",
      "100%|███████████████████████████████████████| 899/899 [00:06<00:00, 137.10it/s]\n",
      "100%|█████████████████████████████████████████| 82/82 [00:00<00:00, 667.61it/s]\n",
      "100%|███████████████████████████████████████| 899/899 [00:06<00:00, 148.76it/s]\n",
      "100%|█████████████████████████████████████████| 82/82 [00:00<00:00, 693.80it/s]\n",
      "100%|███████████████████████████████████████| 899/899 [00:06<00:00, 131.53it/s]\n",
      "100%|█████████████████████████████████████████| 82/82 [00:00<00:00, 612.93it/s]\n",
      "100%|███████████████████████████████████████| 899/899 [00:06<00:00, 143.59it/s]\n",
      "100%|█████████████████████████████████████████| 82/82 [00:00<00:00, 643.73it/s]\n",
      "100%|███████████████████████████████████████| 899/899 [00:06<00:00, 142.27it/s]\n",
      "100%|█████████████████████████████████████████| 82/82 [00:00<00:00, 563.22it/s]\n",
      "100%|███████████████████████████████████████| 899/899 [00:06<00:00, 137.65it/s]\n",
      "100%|█████████████████████████████████████████| 82/82 [00:00<00:00, 490.58it/s]\n",
      "100%|███████████████████████████████████████| 899/899 [00:06<00:00, 135.66it/s]\n",
      "100%|█████████████████████████████████████████| 82/82 [00:00<00:00, 658.24it/s]\n",
      "100%|███████████████████████████████████████| 899/899 [00:07<00:00, 126.79it/s]\n",
      "100%|█████████████████████████████████████████| 82/82 [00:00<00:00, 581.23it/s]\n",
      "100%|███████████████████████████████████████| 899/899 [00:06<00:00, 146.41it/s]\n",
      "100%|█████████████████████████████████████████| 82/82 [00:00<00:00, 585.67it/s]\n",
      "100%|███████████████████████████████████████| 899/899 [00:06<00:00, 129.69it/s]\n",
      "100%|█████████████████████████████████████████| 82/82 [00:00<00:00, 626.16it/s]\n",
      "100%|███████████████████████████████████████| 899/899 [00:06<00:00, 145.48it/s]\n",
      "100%|█████████████████████████████████████████| 82/82 [00:00<00:00, 666.26it/s]\n",
      "100%|███████████████████████████████████████| 899/899 [00:05<00:00, 156.96it/s]\n",
      "100%|█████████████████████████████████████████| 82/82 [00:00<00:00, 680.10it/s]\n",
      "100%|███████████████████████████████████████| 899/899 [00:05<00:00, 157.94it/s]\n",
      "100%|█████████████████████████████████████████| 82/82 [00:00<00:00, 649.72it/s]\n"
     ]
    },
    {
     "data": {
      "text/html": [
       "Waiting for W&B process to finish... <strong style=\"color:green\">(success).</strong>"
      ],
      "text/plain": [
       "<IPython.core.display.HTML object>"
      ]
     },
     "metadata": {},
     "output_type": "display_data"
    },
    {
     "data": {
      "text/html": [
       "<style>\n",
       "    table.wandb td:nth-child(1) { padding: 0 10px; text-align: left ; width: auto;} td:nth-child(2) {text-align: left ; width: 100%}\n",
       "    .wandb-row { display: flex; flex-direction: row; flex-wrap: wrap; justify-content: flex-start; width: 100% }\n",
       "    .wandb-col { display: flex; flex-direction: column; flex-basis: 100%; flex: 1; padding: 10px; }\n",
       "    </style>\n",
       "<div class=\"wandb-row\"><div class=\"wandb-col\"><h3>Run history:</h3><br/><table class=\"wandb\"><tr><td>accuracy</td><td>▁█▁▁▁▁▁▁▁▁▁▁▁▁▁▁▁▁▁▁</td></tr><tr><td>balanced_accuracy</td><td>▁█▁▁▁▁▁▁▁▁▁▁▁▁▁▁▁▁▁▁</td></tr><tr><td>f1_weighted</td><td>▁█▁▁▁▁▁▁▁▁▁▁▁▁▁▁▁▁▁▁</td></tr><tr><td>precision</td><td>▁█▁▁▁▁▁▁▁▁▁▁▁▁▁▁▁▁▁▁</td></tr><tr><td>recall</td><td>▁█▁▁▁▁▁▁▁▁▁▁▁▁▁▁▁▁▁▁</td></tr></table><br/></div><div class=\"wandb-col\"><h3>Run summary:</h3><br/><table class=\"wandb\"><tr><td>accuracy</td><td>0.23846</td></tr><tr><td>balanced_accuracy</td><td>0.16667</td></tr><tr><td>f1_weighted</td><td>0.09183</td></tr><tr><td>precision</td><td>0.05686</td></tr><tr><td>recall</td><td>0.23846</td></tr></table><br/></div></div>"
      ],
      "text/plain": [
       "<IPython.core.display.HTML object>"
      ]
     },
     "metadata": {},
     "output_type": "display_data"
    },
    {
     "data": {
      "text/html": [
       " View run <strong style=\"color:#cdcd00\">2_fcnn_baseline_6_large_81k_search_108_lr-0.01_hidden1-16_hidden2-64_dr-0.2</strong> at: <a href='https://wandb.ai/totikos/model_fcnn_baseline_6_large_81k_search_108-hpo/runs/t1amq5fm' target=\"_blank\">https://wandb.ai/totikos/model_fcnn_baseline_6_large_81k_search_108-hpo/runs/t1amq5fm</a><br/> View job at <a href='https://wandb.ai/totikos/model_fcnn_baseline_6_large_81k_search_108-hpo/jobs/QXJ0aWZhY3RDb2xsZWN0aW9uOjEzOTc4MjU0OA==/version_details/v0' target=\"_blank\">https://wandb.ai/totikos/model_fcnn_baseline_6_large_81k_search_108-hpo/jobs/QXJ0aWZhY3RDb2xsZWN0aW9uOjEzOTc4MjU0OA==/version_details/v0</a><br/>Synced 5 W&B file(s), 0 media file(s), 0 artifact file(s) and 0 other file(s)"
      ],
      "text/plain": [
       "<IPython.core.display.HTML object>"
      ]
     },
     "metadata": {},
     "output_type": "display_data"
    },
    {
     "data": {
      "text/html": [
       "Find logs at: <code>C:\\Users\\nekta\\OneDrive\\Desktop\\botanic-emotion-recognition\\logs\\wandb\\run-20240214_210109-t1amq5fm\\logs</code>"
      ],
      "text/plain": [
       "<IPython.core.display.HTML object>"
      ]
     },
     "metadata": {},
     "output_type": "display_data"
    },
    {
     "name": "stderr",
     "output_type": "stream",
     "text": [
      "[I 2024-02-14 21:03:12,925] Trial 2 finished with value: 0.16666666666666666 and parameters: {'dropout_rate': 0.2, 'hidden_dim_1': 16, 'hidden_dim_2': 64, 'lr': 0.01}. Best is trial 0 with value: 0.16666666666666666.\n"
     ]
    },
    {
     "name": "stdout",
     "output_type": "stream",
     "text": [
      "{'hidden_dim_1': 16, 'hidden_dim_2': 64, 'dropout_rate': 0.2}\n"
     ]
    },
    {
     "data": {
      "text/html": [
       "wandb version 0.16.3 is available!  To upgrade, please run:\n",
       " $ pip install wandb --upgrade"
      ],
      "text/plain": [
       "<IPython.core.display.HTML object>"
      ]
     },
     "metadata": {},
     "output_type": "display_data"
    },
    {
     "data": {
      "text/html": [
       "Tracking run with wandb version 0.15.12"
      ],
      "text/plain": [
       "<IPython.core.display.HTML object>"
      ]
     },
     "metadata": {},
     "output_type": "display_data"
    },
    {
     "data": {
      "text/html": [
       "Run data is saved locally in <code>C:\\Users\\nekta\\OneDrive\\Desktop\\botanic-emotion-recognition\\logs\\wandb\\run-20240214_210312-k1xcqp3m</code>"
      ],
      "text/plain": [
       "<IPython.core.display.HTML object>"
      ]
     },
     "metadata": {},
     "output_type": "display_data"
    },
    {
     "data": {
      "text/html": [
       "Syncing run <strong><a href='https://wandb.ai/totikos/model_fcnn_baseline_6_large_81k_search_108-hpo/runs/k1xcqp3m' target=\"_blank\">3_fcnn_baseline_6_large_81k_search_108_lr-0.001_hidden1-16_hidden2-64_dr-0.2</a></strong> to <a href='https://wandb.ai/totikos/model_fcnn_baseline_6_large_81k_search_108-hpo' target=\"_blank\">Weights & Biases</a> (<a href='https://wandb.me/run' target=\"_blank\">docs</a>)<br/>"
      ],
      "text/plain": [
       "<IPython.core.display.HTML object>"
      ]
     },
     "metadata": {},
     "output_type": "display_data"
    },
    {
     "data": {
      "text/html": [
       " View project at <a href='https://wandb.ai/totikos/model_fcnn_baseline_6_large_81k_search_108-hpo' target=\"_blank\">https://wandb.ai/totikos/model_fcnn_baseline_6_large_81k_search_108-hpo</a>"
      ],
      "text/plain": [
       "<IPython.core.display.HTML object>"
      ]
     },
     "metadata": {},
     "output_type": "display_data"
    },
    {
     "data": {
      "text/html": [
       " View run at <a href='https://wandb.ai/totikos/model_fcnn_baseline_6_large_81k_search_108-hpo/runs/k1xcqp3m' target=\"_blank\">https://wandb.ai/totikos/model_fcnn_baseline_6_large_81k_search_108-hpo/runs/k1xcqp3m</a>"
      ],
      "text/plain": [
       "<IPython.core.display.HTML object>"
      ]
     },
     "metadata": {},
     "output_type": "display_data"
    },
    {
     "name": "stderr",
     "output_type": "stream",
     "text": [
      "100%|███████████████████████████████████████| 899/899 [00:02<00:00, 351.81it/s]\n",
      "100%|█████████████████████████████████████████| 82/82 [00:00<00:00, 820.16it/s]\n",
      "100%|███████████████████████████████████████| 899/899 [00:03<00:00, 290.11it/s]\n",
      "100%|█████████████████████████████████████████| 82/82 [00:00<00:00, 615.89it/s]\n",
      "100%|███████████████████████████████████████| 899/899 [00:03<00:00, 281.80it/s]\n",
      "100%|█████████████████████████████████████████| 82/82 [00:00<00:00, 632.71it/s]\n",
      "100%|███████████████████████████████████████| 899/899 [00:03<00:00, 285.70it/s]\n",
      "100%|█████████████████████████████████████████| 82/82 [00:00<00:00, 657.40it/s]\n",
      "100%|███████████████████████████████████████| 899/899 [00:03<00:00, 293.30it/s]\n",
      "100%|█████████████████████████████████████████| 82/82 [00:00<00:00, 691.74it/s]\n",
      "100%|███████████████████████████████████████| 899/899 [00:03<00:00, 291.05it/s]\n",
      "100%|█████████████████████████████████████████| 82/82 [00:00<00:00, 721.90it/s]\n",
      "100%|███████████████████████████████████████| 899/899 [00:03<00:00, 286.34it/s]\n",
      "100%|█████████████████████████████████████████| 82/82 [00:00<00:00, 622.74it/s]\n",
      "100%|███████████████████████████████████████| 899/899 [00:03<00:00, 269.79it/s]\n",
      "100%|█████████████████████████████████████████| 82/82 [00:00<00:00, 659.72it/s]\n",
      "100%|███████████████████████████████████████| 899/899 [00:03<00:00, 285.41it/s]\n",
      "100%|█████████████████████████████████████████| 82/82 [00:00<00:00, 718.00it/s]\n",
      "100%|███████████████████████████████████████| 899/899 [00:03<00:00, 288.36it/s]\n",
      "100%|█████████████████████████████████████████| 82/82 [00:00<00:00, 672.82it/s]\n",
      "100%|███████████████████████████████████████| 899/899 [00:03<00:00, 289.10it/s]\n",
      "100%|█████████████████████████████████████████| 82/82 [00:00<00:00, 699.79it/s]\n",
      "100%|███████████████████████████████████████| 899/899 [00:03<00:00, 288.14it/s]\n",
      "100%|█████████████████████████████████████████| 82/82 [00:00<00:00, 649.66it/s]\n",
      "100%|███████████████████████████████████████| 899/899 [00:03<00:00, 285.63it/s]\n",
      "100%|█████████████████████████████████████████| 82/82 [00:00<00:00, 632.39it/s]\n",
      "100%|███████████████████████████████████████| 899/899 [00:03<00:00, 259.80it/s]\n",
      "100%|█████████████████████████████████████████| 82/82 [00:00<00:00, 669.02it/s]\n",
      "100%|███████████████████████████████████████| 899/899 [00:03<00:00, 285.59it/s]\n",
      "100%|█████████████████████████████████████████| 82/82 [00:00<00:00, 662.90it/s]\n",
      "100%|███████████████████████████████████████| 899/899 [00:03<00:00, 287.45it/s]\n",
      "100%|█████████████████████████████████████████| 82/82 [00:00<00:00, 654.27it/s]\n",
      "100%|███████████████████████████████████████| 899/899 [00:03<00:00, 270.78it/s]\n",
      "100%|█████████████████████████████████████████| 82/82 [00:00<00:00, 654.39it/s]\n",
      "100%|███████████████████████████████████████| 899/899 [00:03<00:00, 277.46it/s]\n",
      "100%|█████████████████████████████████████████| 82/82 [00:00<00:00, 658.39it/s]\n",
      "100%|███████████████████████████████████████| 899/899 [00:03<00:00, 280.05it/s]\n",
      "100%|█████████████████████████████████████████| 82/82 [00:00<00:00, 630.34it/s]\n",
      "100%|███████████████████████████████████████| 899/899 [00:03<00:00, 277.09it/s]\n",
      "100%|█████████████████████████████████████████| 82/82 [00:00<00:00, 654.68it/s]\n"
     ]
    },
    {
     "data": {
      "text/html": [
       "Waiting for W&B process to finish... <strong style=\"color:green\">(success).</strong>"
      ],
      "text/plain": [
       "<IPython.core.display.HTML object>"
      ]
     },
     "metadata": {},
     "output_type": "display_data"
    },
    {
     "data": {
      "text/html": [
       "<style>\n",
       "    table.wandb td:nth-child(1) { padding: 0 10px; text-align: left ; width: auto;} td:nth-child(2) {text-align: left ; width: 100%}\n",
       "    .wandb-row { display: flex; flex-direction: row; flex-wrap: wrap; justify-content: flex-start; width: 100% }\n",
       "    .wandb-col { display: flex; flex-direction: column; flex-basis: 100%; flex: 1; padding: 10px; }\n",
       "    </style>\n",
       "<div class=\"wandb-row\"><div class=\"wandb-col\"><h3>Run history:</h3><br/><table class=\"wandb\"><tr><td>accuracy</td><td>▂▁▁▅▄▆▃▂▃▃▂▅▄█▇▆▅▅▅▆</td></tr><tr><td>balanced_accuracy</td><td>▂▅▄▅▄▆▃▄▃█▃▆▃▄▆▅▁▃▄▄</td></tr><tr><td>f1_weighted</td><td>▅▁▂▆▆█▅▃▅▅▄▇▆▆█▇▆▆▆▇</td></tr><tr><td>precision</td><td>▃▁▁▃▅▅▁▁▁▅▁▆▁▂▅▂▄▂▂█</td></tr><tr><td>recall</td><td>▂▁▁▅▄▆▃▂▃▃▂▅▄█▇▆▅▅▅▆</td></tr></table><br/></div><div class=\"wandb-col\"><h3>Run summary:</h3><br/><table class=\"wandb\"><tr><td>accuracy</td><td>0.27885</td></tr><tr><td>balanced_accuracy</td><td>0.16568</td></tr><tr><td>f1_weighted</td><td>0.20121</td></tr><tr><td>precision</td><td>0.28796</td></tr><tr><td>recall</td><td>0.27885</td></tr></table><br/></div></div>"
      ],
      "text/plain": [
       "<IPython.core.display.HTML object>"
      ]
     },
     "metadata": {},
     "output_type": "display_data"
    },
    {
     "data": {
      "text/html": [
       " View run <strong style=\"color:#cdcd00\">3_fcnn_baseline_6_large_81k_search_108_lr-0.001_hidden1-16_hidden2-64_dr-0.2</strong> at: <a href='https://wandb.ai/totikos/model_fcnn_baseline_6_large_81k_search_108-hpo/runs/k1xcqp3m' target=\"_blank\">https://wandb.ai/totikos/model_fcnn_baseline_6_large_81k_search_108-hpo/runs/k1xcqp3m</a><br/> View job at <a href='https://wandb.ai/totikos/model_fcnn_baseline_6_large_81k_search_108-hpo/jobs/QXJ0aWZhY3RDb2xsZWN0aW9uOjEzOTc4MjU0OA==/version_details/v0' target=\"_blank\">https://wandb.ai/totikos/model_fcnn_baseline_6_large_81k_search_108-hpo/jobs/QXJ0aWZhY3RDb2xsZWN0aW9uOjEzOTc4MjU0OA==/version_details/v0</a><br/>Synced 5 W&B file(s), 0 media file(s), 0 artifact file(s) and 0 other file(s)"
      ],
      "text/plain": [
       "<IPython.core.display.HTML object>"
      ]
     },
     "metadata": {},
     "output_type": "display_data"
    },
    {
     "data": {
      "text/html": [
       "Find logs at: <code>C:\\Users\\nekta\\OneDrive\\Desktop\\botanic-emotion-recognition\\logs\\wandb\\run-20240214_210312-k1xcqp3m\\logs</code>"
      ],
      "text/plain": [
       "<IPython.core.display.HTML object>"
      ]
     },
     "metadata": {},
     "output_type": "display_data"
    },
    {
     "name": "stderr",
     "output_type": "stream",
     "text": [
      "[I 2024-02-14 21:04:25,980] Trial 3 finished with value: 0.16567810404743757 and parameters: {'dropout_rate': 0.2, 'hidden_dim_1': 16, 'hidden_dim_2': 64, 'lr': 0.001}. Best is trial 0 with value: 0.16666666666666666.\n"
     ]
    },
    {
     "name": "stdout",
     "output_type": "stream",
     "text": [
      "{'hidden_dim_1': 32, 'hidden_dim_2': 64, 'dropout_rate': 0}\n"
     ]
    },
    {
     "data": {
      "text/html": [
       "wandb version 0.16.3 is available!  To upgrade, please run:\n",
       " $ pip install wandb --upgrade"
      ],
      "text/plain": [
       "<IPython.core.display.HTML object>"
      ]
     },
     "metadata": {},
     "output_type": "display_data"
    },
    {
     "data": {
      "text/html": [
       "Tracking run with wandb version 0.15.12"
      ],
      "text/plain": [
       "<IPython.core.display.HTML object>"
      ]
     },
     "metadata": {},
     "output_type": "display_data"
    },
    {
     "data": {
      "text/html": [
       "Run data is saved locally in <code>C:\\Users\\nekta\\OneDrive\\Desktop\\botanic-emotion-recognition\\logs\\wandb\\run-20240214_210426-gx9yrsuk</code>"
      ],
      "text/plain": [
       "<IPython.core.display.HTML object>"
      ]
     },
     "metadata": {},
     "output_type": "display_data"
    },
    {
     "data": {
      "text/html": [
       "Syncing run <strong><a href='https://wandb.ai/totikos/model_fcnn_baseline_6_large_81k_search_108-hpo/runs/gx9yrsuk' target=\"_blank\">4_fcnn_baseline_6_large_81k_search_108_lr-0.01_hidden1-32_hidden2-64_dr-0</a></strong> to <a href='https://wandb.ai/totikos/model_fcnn_baseline_6_large_81k_search_108-hpo' target=\"_blank\">Weights & Biases</a> (<a href='https://wandb.me/run' target=\"_blank\">docs</a>)<br/>"
      ],
      "text/plain": [
       "<IPython.core.display.HTML object>"
      ]
     },
     "metadata": {},
     "output_type": "display_data"
    },
    {
     "data": {
      "text/html": [
       " View project at <a href='https://wandb.ai/totikos/model_fcnn_baseline_6_large_81k_search_108-hpo' target=\"_blank\">https://wandb.ai/totikos/model_fcnn_baseline_6_large_81k_search_108-hpo</a>"
      ],
      "text/plain": [
       "<IPython.core.display.HTML object>"
      ]
     },
     "metadata": {},
     "output_type": "display_data"
    },
    {
     "data": {
      "text/html": [
       " View run at <a href='https://wandb.ai/totikos/model_fcnn_baseline_6_large_81k_search_108-hpo/runs/gx9yrsuk' target=\"_blank\">https://wandb.ai/totikos/model_fcnn_baseline_6_large_81k_search_108-hpo/runs/gx9yrsuk</a>"
      ],
      "text/plain": [
       "<IPython.core.display.HTML object>"
      ]
     },
     "metadata": {},
     "output_type": "display_data"
    },
    {
     "name": "stderr",
     "output_type": "stream",
     "text": [
      "100%|███████████████████████████████████████| 899/899 [00:03<00:00, 227.66it/s]\n",
      "100%|█████████████████████████████████████████| 82/82 [00:00<00:00, 713.28it/s]\n",
      "100%|███████████████████████████████████████| 899/899 [00:05<00:00, 152.11it/s]\n",
      "100%|█████████████████████████████████████████| 82/82 [00:00<00:00, 523.23it/s]\n",
      "100%|███████████████████████████████████████| 899/899 [00:07<00:00, 116.80it/s]\n",
      "100%|█████████████████████████████████████████| 82/82 [00:00<00:00, 630.72it/s]\n",
      "100%|███████████████████████████████████████| 899/899 [00:04<00:00, 183.80it/s]\n",
      "100%|█████████████████████████████████████████| 82/82 [00:00<00:00, 617.90it/s]\n",
      "100%|███████████████████████████████████████| 899/899 [00:05<00:00, 178.37it/s]\n",
      "100%|█████████████████████████████████████████| 82/82 [00:00<00:00, 619.37it/s]\n",
      "100%|███████████████████████████████████████| 899/899 [00:07<00:00, 118.49it/s]\n",
      "100%|█████████████████████████████████████████| 82/82 [00:00<00:00, 685.55it/s]\n",
      "100%|███████████████████████████████████████| 899/899 [00:07<00:00, 118.82it/s]\n",
      "100%|█████████████████████████████████████████| 82/82 [00:00<00:00, 685.12it/s]\n",
      "100%|████████████████████████████████████████| 899/899 [00:09<00:00, 94.76it/s]\n",
      "100%|█████████████████████████████████████████| 82/82 [00:00<00:00, 688.58it/s]\n",
      "100%|████████████████████████████████████████| 899/899 [00:09<00:00, 95.21it/s]\n",
      "100%|█████████████████████████████████████████| 82/82 [00:00<00:00, 648.97it/s]\n",
      "100%|████████████████████████████████████████| 899/899 [00:09<00:00, 94.84it/s]\n",
      "100%|█████████████████████████████████████████| 82/82 [00:00<00:00, 634.30it/s]\n",
      "100%|████████████████████████████████████████| 899/899 [00:10<00:00, 89.50it/s]\n",
      "100%|█████████████████████████████████████████| 82/82 [00:00<00:00, 728.76it/s]\n",
      "100%|████████████████████████████████████████| 899/899 [00:09<00:00, 92.00it/s]\n",
      "100%|█████████████████████████████████████████| 82/82 [00:00<00:00, 592.74it/s]\n",
      "100%|████████████████████████████████████████| 899/899 [00:10<00:00, 83.03it/s]\n",
      "100%|█████████████████████████████████████████| 82/82 [00:00<00:00, 679.55it/s]\n",
      "100%|████████████████████████████████████████| 899/899 [00:09<00:00, 93.57it/s]\n",
      "100%|█████████████████████████████████████████| 82/82 [00:00<00:00, 681.47it/s]\n",
      "100%|████████████████████████████████████████| 899/899 [00:09<00:00, 91.64it/s]\n",
      "100%|█████████████████████████████████████████| 82/82 [00:00<00:00, 683.24it/s]\n",
      "100%|████████████████████████████████████████| 899/899 [00:09<00:00, 94.69it/s]\n",
      "100%|█████████████████████████████████████████| 82/82 [00:00<00:00, 703.75it/s]\n",
      "100%|████████████████████████████████████████| 899/899 [00:09<00:00, 95.95it/s]\n",
      "100%|█████████████████████████████████████████| 82/82 [00:00<00:00, 662.10it/s]\n",
      "100%|████████████████████████████████████████| 899/899 [00:09<00:00, 95.13it/s]\n",
      "100%|█████████████████████████████████████████| 82/82 [00:00<00:00, 645.27it/s]\n",
      "100%|████████████████████████████████████████| 899/899 [00:09<00:00, 93.86it/s]\n",
      "100%|█████████████████████████████████████████| 82/82 [00:00<00:00, 672.67it/s]\n",
      "100%|████████████████████████████████████████| 899/899 [00:09<00:00, 91.41it/s]\n",
      "100%|█████████████████████████████████████████| 82/82 [00:00<00:00, 721.22it/s]\n"
     ]
    },
    {
     "data": {
      "text/html": [
       "Waiting for W&B process to finish... <strong style=\"color:green\">(success).</strong>"
      ],
      "text/plain": [
       "<IPython.core.display.HTML object>"
      ]
     },
     "metadata": {},
     "output_type": "display_data"
    },
    {
     "data": {
      "text/html": [
       "<style>\n",
       "    table.wandb td:nth-child(1) { padding: 0 10px; text-align: left ; width: auto;} td:nth-child(2) {text-align: left ; width: 100%}\n",
       "    .wandb-row { display: flex; flex-direction: row; flex-wrap: wrap; justify-content: flex-start; width: 100% }\n",
       "    .wandb-col { display: flex; flex-direction: column; flex-basis: 100%; flex: 1; padding: 10px; }\n",
       "    </style>\n",
       "<div class=\"wandb-row\"><div class=\"wandb-col\"><h3>Run history:</h3><br/><table class=\"wandb\"><tr><td>accuracy</td><td>█▁▁▁▁▁▁▁▁▁▁▁▁▁▁▁▁▁▁▁</td></tr><tr><td>balanced_accuracy</td><td>█▁▁▁▁▁▁▁▁▁▁▁▁▁▁▁▁▁▁▁</td></tr><tr><td>f1_weighted</td><td>█▁▁▁▁▁▁▁▁▁▁▁▁▁▁▁▁▁▁▁</td></tr><tr><td>precision</td><td>█▁▃▁▁▁▁▁▁▁▁▁▁▁▁▁▁▁▁▁</td></tr><tr><td>recall</td><td>█▁▁▁▁▁▁▁▁▁▁▁▁▁▁▁▁▁▁▁</td></tr></table><br/></div><div class=\"wandb-col\"><h3>Run summary:</h3><br/><table class=\"wandb\"><tr><td>accuracy</td><td>0.23846</td></tr><tr><td>balanced_accuracy</td><td>0.16667</td></tr><tr><td>f1_weighted</td><td>0.09183</td></tr><tr><td>precision</td><td>0.05686</td></tr><tr><td>recall</td><td>0.23846</td></tr></table><br/></div></div>"
      ],
      "text/plain": [
       "<IPython.core.display.HTML object>"
      ]
     },
     "metadata": {},
     "output_type": "display_data"
    },
    {
     "data": {
      "text/html": [
       " View run <strong style=\"color:#cdcd00\">4_fcnn_baseline_6_large_81k_search_108_lr-0.01_hidden1-32_hidden2-64_dr-0</strong> at: <a href='https://wandb.ai/totikos/model_fcnn_baseline_6_large_81k_search_108-hpo/runs/gx9yrsuk' target=\"_blank\">https://wandb.ai/totikos/model_fcnn_baseline_6_large_81k_search_108-hpo/runs/gx9yrsuk</a><br/> View job at <a href='https://wandb.ai/totikos/model_fcnn_baseline_6_large_81k_search_108-hpo/jobs/QXJ0aWZhY3RDb2xsZWN0aW9uOjEzOTc4MjU0OA==/version_details/v0' target=\"_blank\">https://wandb.ai/totikos/model_fcnn_baseline_6_large_81k_search_108-hpo/jobs/QXJ0aWZhY3RDb2xsZWN0aW9uOjEzOTc4MjU0OA==/version_details/v0</a><br/>Synced 5 W&B file(s), 0 media file(s), 0 artifact file(s) and 0 other file(s)"
      ],
      "text/plain": [
       "<IPython.core.display.HTML object>"
      ]
     },
     "metadata": {},
     "output_type": "display_data"
    },
    {
     "data": {
      "text/html": [
       "Find logs at: <code>C:\\Users\\nekta\\OneDrive\\Desktop\\botanic-emotion-recognition\\logs\\wandb\\run-20240214_210426-gx9yrsuk\\logs</code>"
      ],
      "text/plain": [
       "<IPython.core.display.HTML object>"
      ]
     },
     "metadata": {},
     "output_type": "display_data"
    },
    {
     "name": "stderr",
     "output_type": "stream",
     "text": [
      "[I 2024-02-14 21:07:25,940] Trial 4 finished with value: 0.16666666666666666 and parameters: {'dropout_rate': 0.0, 'hidden_dim_1': 32, 'hidden_dim_2': 64, 'lr': 0.01}. Best is trial 0 with value: 0.16666666666666666.\n"
     ]
    },
    {
     "name": "stdout",
     "output_type": "stream",
     "text": [
      "{'hidden_dim_1': 128, 'hidden_dim_2': 32, 'dropout_rate': 0.2}\n"
     ]
    },
    {
     "data": {
      "text/html": [
       "wandb version 0.16.3 is available!  To upgrade, please run:\n",
       " $ pip install wandb --upgrade"
      ],
      "text/plain": [
       "<IPython.core.display.HTML object>"
      ]
     },
     "metadata": {},
     "output_type": "display_data"
    },
    {
     "data": {
      "text/html": [
       "Tracking run with wandb version 0.15.12"
      ],
      "text/plain": [
       "<IPython.core.display.HTML object>"
      ]
     },
     "metadata": {},
     "output_type": "display_data"
    },
    {
     "data": {
      "text/html": [
       "Run data is saved locally in <code>C:\\Users\\nekta\\OneDrive\\Desktop\\botanic-emotion-recognition\\logs\\wandb\\run-20240214_210726-m8e5f988</code>"
      ],
      "text/plain": [
       "<IPython.core.display.HTML object>"
      ]
     },
     "metadata": {},
     "output_type": "display_data"
    },
    {
     "data": {
      "text/html": [
       "Syncing run <strong><a href='https://wandb.ai/totikos/model_fcnn_baseline_6_large_81k_search_108-hpo/runs/m8e5f988' target=\"_blank\">5_fcnn_baseline_6_large_81k_search_108_lr-0.001_hidden1-128_hidden2-32_dr-0.2</a></strong> to <a href='https://wandb.ai/totikos/model_fcnn_baseline_6_large_81k_search_108-hpo' target=\"_blank\">Weights & Biases</a> (<a href='https://wandb.me/run' target=\"_blank\">docs</a>)<br/>"
      ],
      "text/plain": [
       "<IPython.core.display.HTML object>"
      ]
     },
     "metadata": {},
     "output_type": "display_data"
    },
    {
     "data": {
      "text/html": [
       " View project at <a href='https://wandb.ai/totikos/model_fcnn_baseline_6_large_81k_search_108-hpo' target=\"_blank\">https://wandb.ai/totikos/model_fcnn_baseline_6_large_81k_search_108-hpo</a>"
      ],
      "text/plain": [
       "<IPython.core.display.HTML object>"
      ]
     },
     "metadata": {},
     "output_type": "display_data"
    },
    {
     "data": {
      "text/html": [
       " View run at <a href='https://wandb.ai/totikos/model_fcnn_baseline_6_large_81k_search_108-hpo/runs/m8e5f988' target=\"_blank\">https://wandb.ai/totikos/model_fcnn_baseline_6_large_81k_search_108-hpo/runs/m8e5f988</a>"
      ],
      "text/plain": [
       "<IPython.core.display.HTML object>"
      ]
     },
     "metadata": {},
     "output_type": "display_data"
    },
    {
     "name": "stderr",
     "output_type": "stream",
     "text": [
      "100%|████████████████████████████████████████| 899/899 [00:10<00:00, 85.38it/s]\n",
      "100%|█████████████████████████████████████████| 82/82 [00:00<00:00, 451.01it/s]\n",
      "100%|████████████████████████████████████████| 899/899 [00:11<00:00, 79.76it/s]\n",
      "100%|█████████████████████████████████████████| 82/82 [00:00<00:00, 487.27it/s]\n",
      "100%|████████████████████████████████████████| 899/899 [00:12<00:00, 71.77it/s]\n",
      "100%|█████████████████████████████████████████| 82/82 [00:00<00:00, 335.13it/s]\n",
      "100%|████████████████████████████████████████| 899/899 [00:11<00:00, 76.21it/s]\n",
      "100%|█████████████████████████████████████████| 82/82 [00:00<00:00, 476.85it/s]\n",
      "100%|████████████████████████████████████████| 899/899 [00:11<00:00, 76.16it/s]\n",
      "100%|█████████████████████████████████████████| 82/82 [00:00<00:00, 468.42it/s]\n",
      "100%|████████████████████████████████████████| 899/899 [00:11<00:00, 76.46it/s]\n",
      "100%|█████████████████████████████████████████| 82/82 [00:00<00:00, 477.46it/s]\n",
      "100%|████████████████████████████████████████| 899/899 [00:11<00:00, 75.32it/s]\n",
      "100%|█████████████████████████████████████████| 82/82 [00:00<00:00, 408.77it/s]\n",
      "100%|████████████████████████████████████████| 899/899 [00:11<00:00, 76.69it/s]\n",
      "100%|█████████████████████████████████████████| 82/82 [00:00<00:00, 459.26it/s]\n",
      "100%|████████████████████████████████████████| 899/899 [00:11<00:00, 76.67it/s]\n",
      "100%|█████████████████████████████████████████| 82/82 [00:00<00:00, 457.27it/s]\n",
      "100%|████████████████████████████████████████| 899/899 [00:11<00:00, 76.03it/s]\n",
      "100%|█████████████████████████████████████████| 82/82 [00:00<00:00, 464.92it/s]\n",
      "100%|████████████████████████████████████████| 899/899 [00:11<00:00, 76.41it/s]\n",
      "100%|█████████████████████████████████████████| 82/82 [00:00<00:00, 457.56it/s]\n",
      "100%|████████████████████████████████████████| 899/899 [00:11<00:00, 75.65it/s]\n",
      "100%|█████████████████████████████████████████| 82/82 [00:00<00:00, 457.65it/s]\n",
      "100%|████████████████████████████████████████| 899/899 [00:11<00:00, 75.91it/s]\n",
      "100%|█████████████████████████████████████████| 82/82 [00:00<00:00, 456.86it/s]\n",
      "100%|████████████████████████████████████████| 899/899 [00:11<00:00, 76.64it/s]\n",
      "100%|█████████████████████████████████████████| 82/82 [00:00<00:00, 458.62it/s]\n",
      "100%|████████████████████████████████████████| 899/899 [00:11<00:00, 77.90it/s]\n",
      "100%|█████████████████████████████████████████| 82/82 [00:00<00:00, 467.84it/s]\n",
      "100%|████████████████████████████████████████| 899/899 [00:11<00:00, 78.62it/s]\n",
      "100%|█████████████████████████████████████████| 82/82 [00:00<00:00, 495.83it/s]\n",
      "100%|████████████████████████████████████████| 899/899 [00:11<00:00, 79.19it/s]\n",
      "100%|█████████████████████████████████████████| 82/82 [00:00<00:00, 445.59it/s]\n",
      "100%|████████████████████████████████████████| 899/899 [00:11<00:00, 77.85it/s]\n",
      "100%|█████████████████████████████████████████| 82/82 [00:00<00:00, 432.08it/s]\n",
      "100%|████████████████████████████████████████| 899/899 [00:11<00:00, 75.99it/s]\n",
      "100%|█████████████████████████████████████████| 82/82 [00:00<00:00, 457.45it/s]\n",
      "100%|████████████████████████████████████████| 899/899 [00:11<00:00, 76.05it/s]\n",
      "100%|█████████████████████████████████████████| 82/82 [00:00<00:00, 461.12it/s]\n"
     ]
    },
    {
     "data": {
      "text/html": [
       "Waiting for W&B process to finish... <strong style=\"color:green\">(success).</strong>"
      ],
      "text/plain": [
       "<IPython.core.display.HTML object>"
      ]
     },
     "metadata": {},
     "output_type": "display_data"
    },
    {
     "data": {
      "text/html": [
       "<style>\n",
       "    table.wandb td:nth-child(1) { padding: 0 10px; text-align: left ; width: auto;} td:nth-child(2) {text-align: left ; width: 100%}\n",
       "    .wandb-row { display: flex; flex-direction: row; flex-wrap: wrap; justify-content: flex-start; width: 100% }\n",
       "    .wandb-col { display: flex; flex-direction: column; flex-basis: 100%; flex: 1; padding: 10px; }\n",
       "    </style>\n",
       "<div class=\"wandb-row\"><div class=\"wandb-col\"><h3>Run history:</h3><br/><table class=\"wandb\"><tr><td>accuracy</td><td>▁▂▅▅▆█▇▇█▇████▇██▇██</td></tr><tr><td>balanced_accuracy</td><td>█▂▁▂▄▆▄▅█▃▆▆▆▆▆▆▆▇▆▆</td></tr><tr><td>f1_weighted</td><td>▆█▇▇█▁▁▂▂▃▁▁▁▁▂▁▁▄▁▂</td></tr><tr><td>precision</td><td>▄▄▄▄▄▁▃▄█▄▁▁▁▁▄▁▅▅▁▅</td></tr><tr><td>recall</td><td>▁▂▅▅▆█▇▇█▇████▇██▇██</td></tr></table><br/></div><div class=\"wandb-col\"><h3>Run summary:</h3><br/><table class=\"wandb\"><tr><td>accuracy</td><td>0.31615</td></tr><tr><td>balanced_accuracy</td><td>0.16673</td></tr><tr><td>f1_weighted</td><td>0.15926</td></tr><tr><td>precision</td><td>0.17055</td></tr><tr><td>recall</td><td>0.31615</td></tr></table><br/></div></div>"
      ],
      "text/plain": [
       "<IPython.core.display.HTML object>"
      ]
     },
     "metadata": {},
     "output_type": "display_data"
    },
    {
     "data": {
      "text/html": [
       " View run <strong style=\"color:#cdcd00\">5_fcnn_baseline_6_large_81k_search_108_lr-0.001_hidden1-128_hidden2-32_dr-0.2</strong> at: <a href='https://wandb.ai/totikos/model_fcnn_baseline_6_large_81k_search_108-hpo/runs/m8e5f988' target=\"_blank\">https://wandb.ai/totikos/model_fcnn_baseline_6_large_81k_search_108-hpo/runs/m8e5f988</a><br/> View job at <a href='https://wandb.ai/totikos/model_fcnn_baseline_6_large_81k_search_108-hpo/jobs/QXJ0aWZhY3RDb2xsZWN0aW9uOjEzOTc4MjU0OA==/version_details/v0' target=\"_blank\">https://wandb.ai/totikos/model_fcnn_baseline_6_large_81k_search_108-hpo/jobs/QXJ0aWZhY3RDb2xsZWN0aW9uOjEzOTc4MjU0OA==/version_details/v0</a><br/>Synced 5 W&B file(s), 0 media file(s), 0 artifact file(s) and 0 other file(s)"
      ],
      "text/plain": [
       "<IPython.core.display.HTML object>"
      ]
     },
     "metadata": {},
     "output_type": "display_data"
    },
    {
     "data": {
      "text/html": [
       "Find logs at: <code>C:\\Users\\nekta\\OneDrive\\Desktop\\botanic-emotion-recognition\\logs\\wandb\\run-20240214_210726-m8e5f988\\logs</code>"
      ],
      "text/plain": [
       "<IPython.core.display.HTML object>"
      ]
     },
     "metadata": {},
     "output_type": "display_data"
    },
    {
     "name": "stderr",
     "output_type": "stream",
     "text": [
      "[I 2024-02-14 21:11:31,394] Trial 5 finished with value: 0.16672857608341482 and parameters: {'dropout_rate': 0.2, 'hidden_dim_1': 128, 'hidden_dim_2': 32, 'lr': 0.001}. Best is trial 5 with value: 0.16672857608341482.\n"
     ]
    },
    {
     "name": "stdout",
     "output_type": "stream",
     "text": [
      "{'hidden_dim_1': 64, 'hidden_dim_2': 16, 'dropout_rate': 0.2}\n"
     ]
    },
    {
     "data": {
      "text/html": [
       "wandb version 0.16.3 is available!  To upgrade, please run:\n",
       " $ pip install wandb --upgrade"
      ],
      "text/plain": [
       "<IPython.core.display.HTML object>"
      ]
     },
     "metadata": {},
     "output_type": "display_data"
    },
    {
     "data": {
      "text/html": [
       "Tracking run with wandb version 0.15.12"
      ],
      "text/plain": [
       "<IPython.core.display.HTML object>"
      ]
     },
     "metadata": {},
     "output_type": "display_data"
    },
    {
     "data": {
      "text/html": [
       "Run data is saved locally in <code>C:\\Users\\nekta\\OneDrive\\Desktop\\botanic-emotion-recognition\\logs\\wandb\\run-20240214_211131-p6cyzfj8</code>"
      ],
      "text/plain": [
       "<IPython.core.display.HTML object>"
      ]
     },
     "metadata": {},
     "output_type": "display_data"
    },
    {
     "data": {
      "text/html": [
       "Syncing run <strong><a href='https://wandb.ai/totikos/model_fcnn_baseline_6_large_81k_search_108-hpo/runs/p6cyzfj8' target=\"_blank\">6_fcnn_baseline_6_large_81k_search_108_lr-0.001_hidden1-64_hidden2-16_dr-0.2</a></strong> to <a href='https://wandb.ai/totikos/model_fcnn_baseline_6_large_81k_search_108-hpo' target=\"_blank\">Weights & Biases</a> (<a href='https://wandb.me/run' target=\"_blank\">docs</a>)<br/>"
      ],
      "text/plain": [
       "<IPython.core.display.HTML object>"
      ]
     },
     "metadata": {},
     "output_type": "display_data"
    },
    {
     "data": {
      "text/html": [
       " View project at <a href='https://wandb.ai/totikos/model_fcnn_baseline_6_large_81k_search_108-hpo' target=\"_blank\">https://wandb.ai/totikos/model_fcnn_baseline_6_large_81k_search_108-hpo</a>"
      ],
      "text/plain": [
       "<IPython.core.display.HTML object>"
      ]
     },
     "metadata": {},
     "output_type": "display_data"
    },
    {
     "data": {
      "text/html": [
       " View run at <a href='https://wandb.ai/totikos/model_fcnn_baseline_6_large_81k_search_108-hpo/runs/p6cyzfj8' target=\"_blank\">https://wandb.ai/totikos/model_fcnn_baseline_6_large_81k_search_108-hpo/runs/p6cyzfj8</a>"
      ],
      "text/plain": [
       "<IPython.core.display.HTML object>"
      ]
     },
     "metadata": {},
     "output_type": "display_data"
    },
    {
     "name": "stderr",
     "output_type": "stream",
     "text": [
      "100%|███████████████████████████████████████| 899/899 [00:06<00:00, 143.62it/s]\n",
      "100%|█████████████████████████████████████████| 82/82 [00:00<00:00, 607.71it/s]\n",
      "100%|███████████████████████████████████████| 899/899 [00:07<00:00, 127.79it/s]\n",
      "100%|█████████████████████████████████████████| 82/82 [00:00<00:00, 546.10it/s]\n",
      "100%|███████████████████████████████████████| 899/899 [00:07<00:00, 127.63it/s]\n",
      "100%|█████████████████████████████████████████| 82/82 [00:00<00:00, 600.29it/s]\n",
      "100%|███████████████████████████████████████| 899/899 [00:07<00:00, 127.70it/s]\n",
      "100%|█████████████████████████████████████████| 82/82 [00:00<00:00, 600.26it/s]\n",
      "100%|███████████████████████████████████████| 899/899 [00:07<00:00, 128.29it/s]\n",
      "100%|█████████████████████████████████████████| 82/82 [00:00<00:00, 577.88it/s]\n",
      "100%|███████████████████████████████████████| 899/899 [00:07<00:00, 127.34it/s]\n",
      "100%|█████████████████████████████████████████| 82/82 [00:00<00:00, 580.32it/s]\n",
      "100%|███████████████████████████████████████| 899/899 [00:06<00:00, 128.98it/s]\n",
      "100%|█████████████████████████████████████████| 82/82 [00:00<00:00, 596.04it/s]\n",
      "100%|███████████████████████████████████████| 899/899 [00:07<00:00, 128.18it/s]\n",
      "100%|█████████████████████████████████████████| 82/82 [00:00<00:00, 615.24it/s]\n",
      "100%|███████████████████████████████████████| 899/899 [00:07<00:00, 126.27it/s]\n",
      "100%|█████████████████████████████████████████| 82/82 [00:00<00:00, 603.44it/s]\n",
      "100%|███████████████████████████████████████| 899/899 [00:07<00:00, 126.86it/s]\n",
      "100%|█████████████████████████████████████████| 82/82 [00:00<00:00, 626.56it/s]\n",
      "100%|███████████████████████████████████████| 899/899 [00:07<00:00, 127.83it/s]\n",
      "100%|█████████████████████████████████████████| 82/82 [00:00<00:00, 620.82it/s]\n",
      "100%|███████████████████████████████████████| 899/899 [00:07<00:00, 117.25it/s]\n",
      "100%|█████████████████████████████████████████| 82/82 [00:00<00:00, 585.36it/s]\n",
      "100%|███████████████████████████████████████| 899/899 [00:07<00:00, 128.25it/s]\n",
      "100%|█████████████████████████████████████████| 82/82 [00:00<00:00, 626.78it/s]\n",
      "100%|███████████████████████████████████████| 899/899 [00:07<00:00, 124.33it/s]\n",
      "100%|█████████████████████████████████████████| 82/82 [00:00<00:00, 579.96it/s]\n",
      "100%|███████████████████████████████████████| 899/899 [00:07<00:00, 120.10it/s]\n",
      "100%|█████████████████████████████████████████| 82/82 [00:00<00:00, 571.29it/s]\n",
      "100%|███████████████████████████████████████| 899/899 [00:07<00:00, 123.28it/s]\n",
      "100%|█████████████████████████████████████████| 82/82 [00:00<00:00, 559.55it/s]\n",
      "100%|███████████████████████████████████████| 899/899 [00:07<00:00, 126.77it/s]\n",
      "100%|█████████████████████████████████████████| 82/82 [00:00<00:00, 595.77it/s]\n",
      "100%|███████████████████████████████████████| 899/899 [00:07<00:00, 124.42it/s]\n",
      "100%|█████████████████████████████████████████| 82/82 [00:00<00:00, 561.14it/s]\n",
      "100%|███████████████████████████████████████| 899/899 [00:07<00:00, 120.83it/s]\n",
      "100%|█████████████████████████████████████████| 82/82 [00:00<00:00, 601.18it/s]\n",
      "100%|███████████████████████████████████████| 899/899 [00:06<00:00, 129.01it/s]\n",
      "100%|█████████████████████████████████████████| 82/82 [00:00<00:00, 576.69it/s]\n"
     ]
    },
    {
     "data": {
      "text/html": [
       "Waiting for W&B process to finish... <strong style=\"color:green\">(success).</strong>"
      ],
      "text/plain": [
       "<IPython.core.display.HTML object>"
      ]
     },
     "metadata": {},
     "output_type": "display_data"
    },
    {
     "data": {
      "text/html": [
       "<style>\n",
       "    table.wandb td:nth-child(1) { padding: 0 10px; text-align: left ; width: auto;} td:nth-child(2) {text-align: left ; width: 100%}\n",
       "    .wandb-row { display: flex; flex-direction: row; flex-wrap: wrap; justify-content: flex-start; width: 100% }\n",
       "    .wandb-col { display: flex; flex-direction: column; flex-basis: 100%; flex: 1; padding: 10px; }\n",
       "    </style>\n",
       "<div class=\"wandb-row\"><div class=\"wandb-col\"><h3>Run history:</h3><br/><table class=\"wandb\"><tr><td>accuracy</td><td>▁▂▂▃▃▆▆▇▄█▃▅▄▃▅▇▅▅▄█</td></tr><tr><td>balanced_accuracy</td><td>▄▃▄▂▁▇▄▇▇█▄▆▄▄▅▃▆▆▅▇</td></tr><tr><td>f1_weighted</td><td>▃▅▅▆▆█▆▆▇▇▇█▇▇▇▁██▇▅</td></tr><tr><td>precision</td><td>▃▁▂▂▁▄▃▆▄▆▃▄▃▃▃▄▄▄▃█</td></tr><tr><td>recall</td><td>▁▂▂▃▃▆▆▇▄█▃▅▄▃▅▇▅▅▄█</td></tr></table><br/></div><div class=\"wandb-col\"><h3>Run summary:</h3><br/><table class=\"wandb\"><tr><td>accuracy</td><td>0.31462</td></tr><tr><td>balanced_accuracy</td><td>0.17126</td></tr><tr><td>f1_weighted</td><td>0.1945</td></tr><tr><td>precision</td><td>0.17217</td></tr><tr><td>recall</td><td>0.31462</td></tr></table><br/></div></div>"
      ],
      "text/plain": [
       "<IPython.core.display.HTML object>"
      ]
     },
     "metadata": {},
     "output_type": "display_data"
    },
    {
     "data": {
      "text/html": [
       " View run <strong style=\"color:#cdcd00\">6_fcnn_baseline_6_large_81k_search_108_lr-0.001_hidden1-64_hidden2-16_dr-0.2</strong> at: <a href='https://wandb.ai/totikos/model_fcnn_baseline_6_large_81k_search_108-hpo/runs/p6cyzfj8' target=\"_blank\">https://wandb.ai/totikos/model_fcnn_baseline_6_large_81k_search_108-hpo/runs/p6cyzfj8</a><br/> View job at <a href='https://wandb.ai/totikos/model_fcnn_baseline_6_large_81k_search_108-hpo/jobs/QXJ0aWZhY3RDb2xsZWN0aW9uOjEzOTc4MjU0OA==/version_details/v0' target=\"_blank\">https://wandb.ai/totikos/model_fcnn_baseline_6_large_81k_search_108-hpo/jobs/QXJ0aWZhY3RDb2xsZWN0aW9uOjEzOTc4MjU0OA==/version_details/v0</a><br/>Synced 5 W&B file(s), 0 media file(s), 0 artifact file(s) and 0 other file(s)"
      ],
      "text/plain": [
       "<IPython.core.display.HTML object>"
      ]
     },
     "metadata": {},
     "output_type": "display_data"
    },
    {
     "data": {
      "text/html": [
       "Find logs at: <code>C:\\Users\\nekta\\OneDrive\\Desktop\\botanic-emotion-recognition\\logs\\wandb\\run-20240214_211131-p6cyzfj8\\logs</code>"
      ],
      "text/plain": [
       "<IPython.core.display.HTML object>"
      ]
     },
     "metadata": {},
     "output_type": "display_data"
    },
    {
     "name": "stderr",
     "output_type": "stream",
     "text": [
      "[I 2024-02-14 21:14:03,193] Trial 6 finished with value: 0.17126425545780385 and parameters: {'dropout_rate': 0.2, 'hidden_dim_1': 64, 'hidden_dim_2': 16, 'lr': 0.001}. Best is trial 6 with value: 0.17126425545780385.\n"
     ]
    },
    {
     "name": "stdout",
     "output_type": "stream",
     "text": [
      "{'hidden_dim_1': 32, 'hidden_dim_2': 32, 'dropout_rate': 0.1}\n"
     ]
    },
    {
     "data": {
      "text/html": [
       "wandb version 0.16.3 is available!  To upgrade, please run:\n",
       " $ pip install wandb --upgrade"
      ],
      "text/plain": [
       "<IPython.core.display.HTML object>"
      ]
     },
     "metadata": {},
     "output_type": "display_data"
    },
    {
     "data": {
      "text/html": [
       "Tracking run with wandb version 0.15.12"
      ],
      "text/plain": [
       "<IPython.core.display.HTML object>"
      ]
     },
     "metadata": {},
     "output_type": "display_data"
    },
    {
     "data": {
      "text/html": [
       "Run data is saved locally in <code>C:\\Users\\nekta\\OneDrive\\Desktop\\botanic-emotion-recognition\\logs\\wandb\\run-20240214_211403-7hwbf458</code>"
      ],
      "text/plain": [
       "<IPython.core.display.HTML object>"
      ]
     },
     "metadata": {},
     "output_type": "display_data"
    },
    {
     "data": {
      "text/html": [
       "Syncing run <strong><a href='https://wandb.ai/totikos/model_fcnn_baseline_6_large_81k_search_108-hpo/runs/7hwbf458' target=\"_blank\">7_fcnn_baseline_6_large_81k_search_108_lr-0.0001_hidden1-32_hidden2-32_dr-0.1</a></strong> to <a href='https://wandb.ai/totikos/model_fcnn_baseline_6_large_81k_search_108-hpo' target=\"_blank\">Weights & Biases</a> (<a href='https://wandb.me/run' target=\"_blank\">docs</a>)<br/>"
      ],
      "text/plain": [
       "<IPython.core.display.HTML object>"
      ]
     },
     "metadata": {},
     "output_type": "display_data"
    },
    {
     "data": {
      "text/html": [
       " View project at <a href='https://wandb.ai/totikos/model_fcnn_baseline_6_large_81k_search_108-hpo' target=\"_blank\">https://wandb.ai/totikos/model_fcnn_baseline_6_large_81k_search_108-hpo</a>"
      ],
      "text/plain": [
       "<IPython.core.display.HTML object>"
      ]
     },
     "metadata": {},
     "output_type": "display_data"
    },
    {
     "data": {
      "text/html": [
       " View run at <a href='https://wandb.ai/totikos/model_fcnn_baseline_6_large_81k_search_108-hpo/runs/7hwbf458' target=\"_blank\">https://wandb.ai/totikos/model_fcnn_baseline_6_large_81k_search_108-hpo/runs/7hwbf458</a>"
      ],
      "text/plain": [
       "<IPython.core.display.HTML object>"
      ]
     },
     "metadata": {},
     "output_type": "display_data"
    },
    {
     "name": "stderr",
     "output_type": "stream",
     "text": [
      "100%|███████████████████████████████████████| 899/899 [00:04<00:00, 223.36it/s]\n",
      "100%|█████████████████████████████████████████| 82/82 [00:00<00:00, 772.78it/s]\n",
      "100%|███████████████████████████████████████| 899/899 [00:04<00:00, 195.85it/s]\n",
      "100%|█████████████████████████████████████████| 82/82 [00:00<00:00, 681.30it/s]\n",
      "100%|███████████████████████████████████████| 899/899 [00:04<00:00, 187.00it/s]\n",
      "100%|█████████████████████████████████████████| 82/82 [00:00<00:00, 675.29it/s]\n",
      "100%|███████████████████████████████████████| 899/899 [00:04<00:00, 188.58it/s]\n",
      "100%|█████████████████████████████████████████| 82/82 [00:00<00:00, 670.79it/s]\n",
      "100%|███████████████████████████████████████| 899/899 [00:04<00:00, 189.06it/s]\n",
      "100%|█████████████████████████████████████████| 82/82 [00:00<00:00, 733.44it/s]\n",
      "100%|███████████████████████████████████████| 899/899 [00:04<00:00, 191.08it/s]\n",
      "100%|█████████████████████████████████████████| 82/82 [00:00<00:00, 669.41it/s]\n",
      "100%|███████████████████████████████████████| 899/899 [00:04<00:00, 189.02it/s]\n",
      "100%|█████████████████████████████████████████| 82/82 [00:00<00:00, 673.83it/s]\n",
      "100%|███████████████████████████████████████| 899/899 [00:04<00:00, 189.01it/s]\n",
      "100%|█████████████████████████████████████████| 82/82 [00:00<00:00, 672.60it/s]\n",
      "100%|███████████████████████████████████████| 899/899 [00:04<00:00, 190.06it/s]\n",
      "100%|█████████████████████████████████████████| 82/82 [00:00<00:00, 657.96it/s]\n",
      "100%|███████████████████████████████████████| 899/899 [00:04<00:00, 190.12it/s]\n",
      "100%|█████████████████████████████████████████| 82/82 [00:00<00:00, 641.56it/s]\n",
      "100%|███████████████████████████████████████| 899/899 [00:04<00:00, 190.11it/s]\n",
      "100%|█████████████████████████████████████████| 82/82 [00:00<00:00, 656.82it/s]\n",
      "100%|███████████████████████████████████████| 899/899 [00:04<00:00, 183.66it/s]\n",
      "100%|█████████████████████████████████████████| 82/82 [00:00<00:00, 665.78it/s]\n",
      "100%|███████████████████████████████████████| 899/899 [00:05<00:00, 171.61it/s]\n",
      "100%|█████████████████████████████████████████| 82/82 [00:00<00:00, 577.51it/s]\n",
      "100%|███████████████████████████████████████| 899/899 [00:07<00:00, 123.96it/s]\n",
      "100%|█████████████████████████████████████████| 82/82 [00:00<00:00, 412.70it/s]\n",
      "100%|███████████████████████████████████████| 899/899 [00:05<00:00, 152.55it/s]\n",
      "100%|█████████████████████████████████████████| 82/82 [00:00<00:00, 514.06it/s]\n",
      "100%|███████████████████████████████████████| 899/899 [00:05<00:00, 169.38it/s]\n",
      "100%|█████████████████████████████████████████| 82/82 [00:00<00:00, 648.75it/s]\n",
      "100%|███████████████████████████████████████| 899/899 [00:05<00:00, 165.57it/s]\n",
      "100%|█████████████████████████████████████████| 82/82 [00:00<00:00, 525.11it/s]\n",
      "100%|███████████████████████████████████████| 899/899 [00:05<00:00, 151.79it/s]\n",
      "100%|█████████████████████████████████████████| 82/82 [00:00<00:00, 616.44it/s]\n",
      "100%|███████████████████████████████████████| 899/899 [00:06<00:00, 147.85it/s]\n",
      "100%|█████████████████████████████████████████| 82/82 [00:00<00:00, 683.40it/s]\n",
      "100%|███████████████████████████████████████| 899/899 [00:05<00:00, 161.56it/s]\n",
      "100%|█████████████████████████████████████████| 82/82 [00:00<00:00, 574.85it/s]\n"
     ]
    },
    {
     "data": {
      "text/html": [
       "Waiting for W&B process to finish... <strong style=\"color:green\">(success).</strong>"
      ],
      "text/plain": [
       "<IPython.core.display.HTML object>"
      ]
     },
     "metadata": {},
     "output_type": "display_data"
    },
    {
     "data": {
      "text/html": [
       "<style>\n",
       "    table.wandb td:nth-child(1) { padding: 0 10px; text-align: left ; width: auto;} td:nth-child(2) {text-align: left ; width: 100%}\n",
       "    .wandb-row { display: flex; flex-direction: row; flex-wrap: wrap; justify-content: flex-start; width: 100% }\n",
       "    .wandb-col { display: flex; flex-direction: column; flex-basis: 100%; flex: 1; padding: 10px; }\n",
       "    </style>\n",
       "<div class=\"wandb-row\"><div class=\"wandb-col\"><h3>Run history:</h3><br/><table class=\"wandb\"><tr><td>accuracy</td><td>█▆▇▆▅▂▇▅▄▄▃▃▃▂▂▁▃▃▁▅</td></tr><tr><td>balanced_accuracy</td><td>█▇▅▆▅▁▇▇▆█▂▅▅▅▂▃▆▄▄▆</td></tr><tr><td>f1_weighted</td><td>█▅▆▅▅▄▆▃▄▂▄▂▃▁▄▂▂▃▁▄</td></tr><tr><td>precision</td><td>▆▁▁▆▄▂█▄▅▄▂▃▃▄▂▄▄▂▄▂</td></tr><tr><td>recall</td><td>█▆▇▆▅▂▇▅▄▄▃▃▃▂▂▁▃▃▁▅</td></tr></table><br/></div><div class=\"wandb-col\"><h3>Run summary:</h3><br/><table class=\"wandb\"><tr><td>accuracy</td><td>0.25615</td></tr><tr><td>balanced_accuracy</td><td>0.16605</td></tr><tr><td>f1_weighted</td><td>0.17344</td></tr><tr><td>precision</td><td>0.17572</td></tr><tr><td>recall</td><td>0.25615</td></tr></table><br/></div></div>"
      ],
      "text/plain": [
       "<IPython.core.display.HTML object>"
      ]
     },
     "metadata": {},
     "output_type": "display_data"
    },
    {
     "data": {
      "text/html": [
       " View run <strong style=\"color:#cdcd00\">7_fcnn_baseline_6_large_81k_search_108_lr-0.0001_hidden1-32_hidden2-32_dr-0.1</strong> at: <a href='https://wandb.ai/totikos/model_fcnn_baseline_6_large_81k_search_108-hpo/runs/7hwbf458' target=\"_blank\">https://wandb.ai/totikos/model_fcnn_baseline_6_large_81k_search_108-hpo/runs/7hwbf458</a><br/> View job at <a href='https://wandb.ai/totikos/model_fcnn_baseline_6_large_81k_search_108-hpo/jobs/QXJ0aWZhY3RDb2xsZWN0aW9uOjEzOTc4MjU0OA==/version_details/v0' target=\"_blank\">https://wandb.ai/totikos/model_fcnn_baseline_6_large_81k_search_108-hpo/jobs/QXJ0aWZhY3RDb2xsZWN0aW9uOjEzOTc4MjU0OA==/version_details/v0</a><br/>Synced 5 W&B file(s), 0 media file(s), 0 artifact file(s) and 0 other file(s)"
      ],
      "text/plain": [
       "<IPython.core.display.HTML object>"
      ]
     },
     "metadata": {},
     "output_type": "display_data"
    },
    {
     "data": {
      "text/html": [
       "Find logs at: <code>C:\\Users\\nekta\\OneDrive\\Desktop\\botanic-emotion-recognition\\logs\\wandb\\run-20240214_211403-7hwbf458\\logs</code>"
      ],
      "text/plain": [
       "<IPython.core.display.HTML object>"
      ]
     },
     "metadata": {},
     "output_type": "display_data"
    },
    {
     "name": "stderr",
     "output_type": "stream",
     "text": [
      "[I 2024-02-14 21:15:56,490] Trial 7 finished with value: 0.16604956054792633 and parameters: {'dropout_rate': 0.1, 'hidden_dim_1': 32, 'hidden_dim_2': 32, 'lr': 0.0001}. Best is trial 6 with value: 0.17126425545780385.\n"
     ]
    },
    {
     "name": "stdout",
     "output_type": "stream",
     "text": [
      "{'hidden_dim_1': 16, 'hidden_dim_2': 16, 'dropout_rate': 0}\n"
     ]
    },
    {
     "data": {
      "text/html": [
       "wandb version 0.16.3 is available!  To upgrade, please run:\n",
       " $ pip install wandb --upgrade"
      ],
      "text/plain": [
       "<IPython.core.display.HTML object>"
      ]
     },
     "metadata": {},
     "output_type": "display_data"
    },
    {
     "data": {
      "text/html": [
       "Tracking run with wandb version 0.15.12"
      ],
      "text/plain": [
       "<IPython.core.display.HTML object>"
      ]
     },
     "metadata": {},
     "output_type": "display_data"
    },
    {
     "data": {
      "text/html": [
       "Run data is saved locally in <code>C:\\Users\\nekta\\OneDrive\\Desktop\\botanic-emotion-recognition\\logs\\wandb\\run-20240214_211556-v4c8pfph</code>"
      ],
      "text/plain": [
       "<IPython.core.display.HTML object>"
      ]
     },
     "metadata": {},
     "output_type": "display_data"
    },
    {
     "data": {
      "text/html": [
       "Syncing run <strong><a href='https://wandb.ai/totikos/model_fcnn_baseline_6_large_81k_search_108-hpo/runs/v4c8pfph' target=\"_blank\">8_fcnn_baseline_6_large_81k_search_108_lr-0.0001_hidden1-16_hidden2-16_dr-0</a></strong> to <a href='https://wandb.ai/totikos/model_fcnn_baseline_6_large_81k_search_108-hpo' target=\"_blank\">Weights & Biases</a> (<a href='https://wandb.me/run' target=\"_blank\">docs</a>)<br/>"
      ],
      "text/plain": [
       "<IPython.core.display.HTML object>"
      ]
     },
     "metadata": {},
     "output_type": "display_data"
    },
    {
     "data": {
      "text/html": [
       " View project at <a href='https://wandb.ai/totikos/model_fcnn_baseline_6_large_81k_search_108-hpo' target=\"_blank\">https://wandb.ai/totikos/model_fcnn_baseline_6_large_81k_search_108-hpo</a>"
      ],
      "text/plain": [
       "<IPython.core.display.HTML object>"
      ]
     },
     "metadata": {},
     "output_type": "display_data"
    },
    {
     "data": {
      "text/html": [
       " View run at <a href='https://wandb.ai/totikos/model_fcnn_baseline_6_large_81k_search_108-hpo/runs/v4c8pfph' target=\"_blank\">https://wandb.ai/totikos/model_fcnn_baseline_6_large_81k_search_108-hpo/runs/v4c8pfph</a>"
      ],
      "text/plain": [
       "<IPython.core.display.HTML object>"
      ]
     },
     "metadata": {},
     "output_type": "display_data"
    },
    {
     "name": "stderr",
     "output_type": "stream",
     "text": [
      "100%|███████████████████████████████████████| 899/899 [00:02<00:00, 357.93it/s]\n",
      "100%|█████████████████████████████████████████| 82/82 [00:00<00:00, 900.85it/s]\n",
      "[I 2024-02-14 21:16:00,758] Trial 8 pruned. \n"
     ]
    },
    {
     "name": "stdout",
     "output_type": "stream",
     "text": [
      "{'hidden_dim_1': 128, 'hidden_dim_2': 32, 'dropout_rate': 0}\n"
     ]
    },
    {
     "data": {
      "text/html": [
       "Finishing last run (ID:v4c8pfph) before initializing another..."
      ],
      "text/plain": [
       "<IPython.core.display.HTML object>"
      ]
     },
     "metadata": {},
     "output_type": "display_data"
    },
    {
     "data": {
      "text/html": [
       "Waiting for W&B process to finish... <strong style=\"color:green\">(success).</strong>"
      ],
      "text/plain": [
       "<IPython.core.display.HTML object>"
      ]
     },
     "metadata": {},
     "output_type": "display_data"
    },
    {
     "data": {
      "text/html": [
       " View run <strong style=\"color:#cdcd00\">8_fcnn_baseline_6_large_81k_search_108_lr-0.0001_hidden1-16_hidden2-16_dr-0</strong> at: <a href='https://wandb.ai/totikos/model_fcnn_baseline_6_large_81k_search_108-hpo/runs/v4c8pfph' target=\"_blank\">https://wandb.ai/totikos/model_fcnn_baseline_6_large_81k_search_108-hpo/runs/v4c8pfph</a><br/> View job at <a href='https://wandb.ai/totikos/model_fcnn_baseline_6_large_81k_search_108-hpo/jobs/QXJ0aWZhY3RDb2xsZWN0aW9uOjEzOTc4MjU0OA==/version_details/v1' target=\"_blank\">https://wandb.ai/totikos/model_fcnn_baseline_6_large_81k_search_108-hpo/jobs/QXJ0aWZhY3RDb2xsZWN0aW9uOjEzOTc4MjU0OA==/version_details/v1</a><br/>Synced 5 W&B file(s), 0 media file(s), 2 artifact file(s) and 0 other file(s)"
      ],
      "text/plain": [
       "<IPython.core.display.HTML object>"
      ]
     },
     "metadata": {},
     "output_type": "display_data"
    },
    {
     "data": {
      "text/html": [
       "Find logs at: <code>C:\\Users\\nekta\\OneDrive\\Desktop\\botanic-emotion-recognition\\logs\\wandb\\run-20240214_211556-v4c8pfph\\logs</code>"
      ],
      "text/plain": [
       "<IPython.core.display.HTML object>"
      ]
     },
     "metadata": {},
     "output_type": "display_data"
    },
    {
     "data": {
      "text/html": [
       "Successfully finished last run (ID:v4c8pfph). Initializing new run:<br/>"
      ],
      "text/plain": [
       "<IPython.core.display.HTML object>"
      ]
     },
     "metadata": {},
     "output_type": "display_data"
    },
    {
     "data": {
      "text/html": [
       "wandb version 0.16.3 is available!  To upgrade, please run:\n",
       " $ pip install wandb --upgrade"
      ],
      "text/plain": [
       "<IPython.core.display.HTML object>"
      ]
     },
     "metadata": {},
     "output_type": "display_data"
    },
    {
     "data": {
      "text/html": [
       "Tracking run with wandb version 0.15.12"
      ],
      "text/plain": [
       "<IPython.core.display.HTML object>"
      ]
     },
     "metadata": {},
     "output_type": "display_data"
    },
    {
     "data": {
      "text/html": [
       "Run data is saved locally in <code>C:\\Users\\nekta\\OneDrive\\Desktop\\botanic-emotion-recognition\\logs\\wandb\\run-20240214_211600-b8d7tx1v</code>"
      ],
      "text/plain": [
       "<IPython.core.display.HTML object>"
      ]
     },
     "metadata": {},
     "output_type": "display_data"
    },
    {
     "data": {
      "text/html": [
       "Syncing run <strong><a href='https://wandb.ai/totikos/model_fcnn_baseline_6_large_81k_search_108-hpo/runs/b8d7tx1v' target=\"_blank\">9_fcnn_baseline_6_large_81k_search_108_lr-0.01_hidden1-128_hidden2-32_dr-0</a></strong> to <a href='https://wandb.ai/totikos/model_fcnn_baseline_6_large_81k_search_108-hpo' target=\"_blank\">Weights & Biases</a> (<a href='https://wandb.me/run' target=\"_blank\">docs</a>)<br/>"
      ],
      "text/plain": [
       "<IPython.core.display.HTML object>"
      ]
     },
     "metadata": {},
     "output_type": "display_data"
    },
    {
     "data": {
      "text/html": [
       " View project at <a href='https://wandb.ai/totikos/model_fcnn_baseline_6_large_81k_search_108-hpo' target=\"_blank\">https://wandb.ai/totikos/model_fcnn_baseline_6_large_81k_search_108-hpo</a>"
      ],
      "text/plain": [
       "<IPython.core.display.HTML object>"
      ]
     },
     "metadata": {},
     "output_type": "display_data"
    },
    {
     "data": {
      "text/html": [
       " View run at <a href='https://wandb.ai/totikos/model_fcnn_baseline_6_large_81k_search_108-hpo/runs/b8d7tx1v' target=\"_blank\">https://wandb.ai/totikos/model_fcnn_baseline_6_large_81k_search_108-hpo/runs/b8d7tx1v</a>"
      ],
      "text/plain": [
       "<IPython.core.display.HTML object>"
      ]
     },
     "metadata": {},
     "output_type": "display_data"
    },
    {
     "name": "stderr",
     "output_type": "stream",
     "text": [
      "100%|████████████████████████████████████████| 899/899 [00:13<00:00, 66.46it/s]\n",
      "100%|█████████████████████████████████████████| 82/82 [00:00<00:00, 283.00it/s]\n",
      "[I 2024-02-14 21:16:27,892] Trial 9 pruned. \n"
     ]
    },
    {
     "name": "stdout",
     "output_type": "stream",
     "text": [
      "{'hidden_dim_1': 128, 'hidden_dim_2': 16, 'dropout_rate': 0}\n"
     ]
    },
    {
     "data": {
      "text/html": [
       "Finishing last run (ID:b8d7tx1v) before initializing another..."
      ],
      "text/plain": [
       "<IPython.core.display.HTML object>"
      ]
     },
     "metadata": {},
     "output_type": "display_data"
    },
    {
     "data": {
      "text/html": [
       "Waiting for W&B process to finish... <strong style=\"color:green\">(success).</strong>"
      ],
      "text/plain": [
       "<IPython.core.display.HTML object>"
      ]
     },
     "metadata": {},
     "output_type": "display_data"
    },
    {
     "data": {
      "text/html": [
       " View run <strong style=\"color:#cdcd00\">9_fcnn_baseline_6_large_81k_search_108_lr-0.01_hidden1-128_hidden2-32_dr-0</strong> at: <a href='https://wandb.ai/totikos/model_fcnn_baseline_6_large_81k_search_108-hpo/runs/b8d7tx1v' target=\"_blank\">https://wandb.ai/totikos/model_fcnn_baseline_6_large_81k_search_108-hpo/runs/b8d7tx1v</a><br/> View job at <a href='https://wandb.ai/totikos/model_fcnn_baseline_6_large_81k_search_108-hpo/jobs/QXJ0aWZhY3RDb2xsZWN0aW9uOjEzOTc4MjU0OA==/version_details/v1' target=\"_blank\">https://wandb.ai/totikos/model_fcnn_baseline_6_large_81k_search_108-hpo/jobs/QXJ0aWZhY3RDb2xsZWN0aW9uOjEzOTc4MjU0OA==/version_details/v1</a><br/>Synced 5 W&B file(s), 0 media file(s), 0 artifact file(s) and 0 other file(s)"
      ],
      "text/plain": [
       "<IPython.core.display.HTML object>"
      ]
     },
     "metadata": {},
     "output_type": "display_data"
    },
    {
     "data": {
      "text/html": [
       "Find logs at: <code>C:\\Users\\nekta\\OneDrive\\Desktop\\botanic-emotion-recognition\\logs\\wandb\\run-20240214_211600-b8d7tx1v\\logs</code>"
      ],
      "text/plain": [
       "<IPython.core.display.HTML object>"
      ]
     },
     "metadata": {},
     "output_type": "display_data"
    },
    {
     "data": {
      "text/html": [
       "Successfully finished last run (ID:b8d7tx1v). Initializing new run:<br/>"
      ],
      "text/plain": [
       "<IPython.core.display.HTML object>"
      ]
     },
     "metadata": {},
     "output_type": "display_data"
    },
    {
     "data": {
      "text/html": [
       "wandb version 0.16.3 is available!  To upgrade, please run:\n",
       " $ pip install wandb --upgrade"
      ],
      "text/plain": [
       "<IPython.core.display.HTML object>"
      ]
     },
     "metadata": {},
     "output_type": "display_data"
    },
    {
     "data": {
      "text/html": [
       "Tracking run with wandb version 0.15.12"
      ],
      "text/plain": [
       "<IPython.core.display.HTML object>"
      ]
     },
     "metadata": {},
     "output_type": "display_data"
    },
    {
     "data": {
      "text/html": [
       "Run data is saved locally in <code>C:\\Users\\nekta\\OneDrive\\Desktop\\botanic-emotion-recognition\\logs\\wandb\\run-20240214_211628-0gbaq9pd</code>"
      ],
      "text/plain": [
       "<IPython.core.display.HTML object>"
      ]
     },
     "metadata": {},
     "output_type": "display_data"
    },
    {
     "data": {
      "text/html": [
       "Syncing run <strong><a href='https://wandb.ai/totikos/model_fcnn_baseline_6_large_81k_search_108-hpo/runs/0gbaq9pd' target=\"_blank\">10_fcnn_baseline_6_large_81k_search_108_lr-0.01_hidden1-128_hidden2-16_dr-0</a></strong> to <a href='https://wandb.ai/totikos/model_fcnn_baseline_6_large_81k_search_108-hpo' target=\"_blank\">Weights & Biases</a> (<a href='https://wandb.me/run' target=\"_blank\">docs</a>)<br/>"
      ],
      "text/plain": [
       "<IPython.core.display.HTML object>"
      ]
     },
     "metadata": {},
     "output_type": "display_data"
    },
    {
     "data": {
      "text/html": [
       " View project at <a href='https://wandb.ai/totikos/model_fcnn_baseline_6_large_81k_search_108-hpo' target=\"_blank\">https://wandb.ai/totikos/model_fcnn_baseline_6_large_81k_search_108-hpo</a>"
      ],
      "text/plain": [
       "<IPython.core.display.HTML object>"
      ]
     },
     "metadata": {},
     "output_type": "display_data"
    },
    {
     "data": {
      "text/html": [
       " View run at <a href='https://wandb.ai/totikos/model_fcnn_baseline_6_large_81k_search_108-hpo/runs/0gbaq9pd' target=\"_blank\">https://wandb.ai/totikos/model_fcnn_baseline_6_large_81k_search_108-hpo/runs/0gbaq9pd</a>"
      ],
      "text/plain": [
       "<IPython.core.display.HTML object>"
      ]
     },
     "metadata": {},
     "output_type": "display_data"
    },
    {
     "name": "stderr",
     "output_type": "stream",
     "text": [
      "100%|████████████████████████████████████████| 899/899 [00:17<00:00, 51.45it/s]\n",
      "100%|█████████████████████████████████████████| 82/82 [00:00<00:00, 478.28it/s]\n",
      "[I 2024-02-14 21:16:54,330] Trial 10 pruned. \n"
     ]
    },
    {
     "name": "stdout",
     "output_type": "stream",
     "text": [
      "{'hidden_dim_1': 32, 'hidden_dim_2': 16, 'dropout_rate': 0.1}\n"
     ]
    },
    {
     "data": {
      "text/html": [
       "Finishing last run (ID:0gbaq9pd) before initializing another..."
      ],
      "text/plain": [
       "<IPython.core.display.HTML object>"
      ]
     },
     "metadata": {},
     "output_type": "display_data"
    },
    {
     "data": {
      "text/html": [
       "Waiting for W&B process to finish... <strong style=\"color:green\">(success).</strong>"
      ],
      "text/plain": [
       "<IPython.core.display.HTML object>"
      ]
     },
     "metadata": {},
     "output_type": "display_data"
    },
    {
     "data": {
      "text/html": [
       " View run <strong style=\"color:#cdcd00\">10_fcnn_baseline_6_large_81k_search_108_lr-0.01_hidden1-128_hidden2-16_dr-0</strong> at: <a href='https://wandb.ai/totikos/model_fcnn_baseline_6_large_81k_search_108-hpo/runs/0gbaq9pd' target=\"_blank\">https://wandb.ai/totikos/model_fcnn_baseline_6_large_81k_search_108-hpo/runs/0gbaq9pd</a><br/> View job at <a href='https://wandb.ai/totikos/model_fcnn_baseline_6_large_81k_search_108-hpo/jobs/QXJ0aWZhY3RDb2xsZWN0aW9uOjEzOTc4MjU0OA==/version_details/v1' target=\"_blank\">https://wandb.ai/totikos/model_fcnn_baseline_6_large_81k_search_108-hpo/jobs/QXJ0aWZhY3RDb2xsZWN0aW9uOjEzOTc4MjU0OA==/version_details/v1</a><br/>Synced 5 W&B file(s), 0 media file(s), 0 artifact file(s) and 0 other file(s)"
      ],
      "text/plain": [
       "<IPython.core.display.HTML object>"
      ]
     },
     "metadata": {},
     "output_type": "display_data"
    },
    {
     "data": {
      "text/html": [
       "Find logs at: <code>C:\\Users\\nekta\\OneDrive\\Desktop\\botanic-emotion-recognition\\logs\\wandb\\run-20240214_211628-0gbaq9pd\\logs</code>"
      ],
      "text/plain": [
       "<IPython.core.display.HTML object>"
      ]
     },
     "metadata": {},
     "output_type": "display_data"
    },
    {
     "data": {
      "text/html": [
       "Successfully finished last run (ID:0gbaq9pd). Initializing new run:<br/>"
      ],
      "text/plain": [
       "<IPython.core.display.HTML object>"
      ]
     },
     "metadata": {},
     "output_type": "display_data"
    },
    {
     "data": {
      "text/html": [
       "wandb version 0.16.3 is available!  To upgrade, please run:\n",
       " $ pip install wandb --upgrade"
      ],
      "text/plain": [
       "<IPython.core.display.HTML object>"
      ]
     },
     "metadata": {},
     "output_type": "display_data"
    },
    {
     "data": {
      "text/html": [
       "Tracking run with wandb version 0.15.12"
      ],
      "text/plain": [
       "<IPython.core.display.HTML object>"
      ]
     },
     "metadata": {},
     "output_type": "display_data"
    },
    {
     "data": {
      "text/html": [
       "Run data is saved locally in <code>C:\\Users\\nekta\\OneDrive\\Desktop\\botanic-emotion-recognition\\logs\\wandb\\run-20240214_211654-yvmqrm5e</code>"
      ],
      "text/plain": [
       "<IPython.core.display.HTML object>"
      ]
     },
     "metadata": {},
     "output_type": "display_data"
    },
    {
     "data": {
      "text/html": [
       "Syncing run <strong><a href='https://wandb.ai/totikos/model_fcnn_baseline_6_large_81k_search_108-hpo/runs/yvmqrm5e' target=\"_blank\">11_fcnn_baseline_6_large_81k_search_108_lr-0.001_hidden1-32_hidden2-16_dr-0.1</a></strong> to <a href='https://wandb.ai/totikos/model_fcnn_baseline_6_large_81k_search_108-hpo' target=\"_blank\">Weights & Biases</a> (<a href='https://wandb.me/run' target=\"_blank\">docs</a>)<br/>"
      ],
      "text/plain": [
       "<IPython.core.display.HTML object>"
      ]
     },
     "metadata": {},
     "output_type": "display_data"
    },
    {
     "data": {
      "text/html": [
       " View project at <a href='https://wandb.ai/totikos/model_fcnn_baseline_6_large_81k_search_108-hpo' target=\"_blank\">https://wandb.ai/totikos/model_fcnn_baseline_6_large_81k_search_108-hpo</a>"
      ],
      "text/plain": [
       "<IPython.core.display.HTML object>"
      ]
     },
     "metadata": {},
     "output_type": "display_data"
    },
    {
     "data": {
      "text/html": [
       " View run at <a href='https://wandb.ai/totikos/model_fcnn_baseline_6_large_81k_search_108-hpo/runs/yvmqrm5e' target=\"_blank\">https://wandb.ai/totikos/model_fcnn_baseline_6_large_81k_search_108-hpo/runs/yvmqrm5e</a>"
      ],
      "text/plain": [
       "<IPython.core.display.HTML object>"
      ]
     },
     "metadata": {},
     "output_type": "display_data"
    },
    {
     "name": "stderr",
     "output_type": "stream",
     "text": [
      "100%|███████████████████████████████████████| 899/899 [00:03<00:00, 225.60it/s]\n",
      "100%|█████████████████████████████████████████| 82/82 [00:00<00:00, 820.02it/s]\n",
      "100%|███████████████████████████████████████| 899/899 [00:04<00:00, 221.14it/s]\n",
      "100%|█████████████████████████████████████████| 82/82 [00:00<00:00, 821.92it/s]\n",
      "100%|███████████████████████████████████████| 899/899 [00:04<00:00, 193.04it/s]\n",
      "100%|█████████████████████████████████████████| 82/82 [00:00<00:00, 684.55it/s]\n",
      "100%|███████████████████████████████████████| 899/899 [00:06<00:00, 147.80it/s]\n",
      "100%|█████████████████████████████████████████| 82/82 [00:00<00:00, 480.03it/s]\n",
      "100%|███████████████████████████████████████| 899/899 [00:05<00:00, 161.63it/s]\n",
      "100%|█████████████████████████████████████████| 82/82 [00:00<00:00, 681.93it/s]\n",
      "100%|███████████████████████████████████████| 899/899 [00:05<00:00, 170.90it/s]\n",
      "100%|█████████████████████████████████████████| 82/82 [00:00<00:00, 587.95it/s]\n",
      "100%|███████████████████████████████████████| 899/899 [00:05<00:00, 175.57it/s]\n",
      "100%|█████████████████████████████████████████| 82/82 [00:00<00:00, 622.98it/s]\n",
      "100%|███████████████████████████████████████| 899/899 [00:05<00:00, 177.33it/s]\n",
      "100%|█████████████████████████████████████████| 82/82 [00:00<00:00, 581.90it/s]\n",
      "100%|███████████████████████████████████████| 899/899 [00:05<00:00, 175.93it/s]\n",
      "100%|█████████████████████████████████████████| 82/82 [00:00<00:00, 649.82it/s]\n",
      "100%|███████████████████████████████████████| 899/899 [00:05<00:00, 174.85it/s]\n",
      "100%|█████████████████████████████████████████| 82/82 [00:00<00:00, 630.35it/s]\n",
      "100%|███████████████████████████████████████| 899/899 [00:05<00:00, 158.53it/s]\n",
      "100%|█████████████████████████████████████████| 82/82 [00:00<00:00, 617.98it/s]\n",
      "100%|███████████████████████████████████████| 899/899 [00:04<00:00, 183.46it/s]\n",
      "100%|█████████████████████████████████████████| 82/82 [00:00<00:00, 614.87it/s]\n",
      "100%|███████████████████████████████████████| 899/899 [00:04<00:00, 183.62it/s]\n",
      "100%|█████████████████████████████████████████| 82/82 [00:00<00:00, 644.41it/s]\n",
      "100%|███████████████████████████████████████| 899/899 [00:05<00:00, 177.88it/s]\n",
      "100%|█████████████████████████████████████████| 82/82 [00:00<00:00, 605.49it/s]\n",
      "100%|███████████████████████████████████████| 899/899 [00:04<00:00, 182.35it/s]\n",
      "100%|█████████████████████████████████████████| 82/82 [00:00<00:00, 683.36it/s]\n",
      "100%|███████████████████████████████████████| 899/899 [00:04<00:00, 183.56it/s]\n",
      "100%|█████████████████████████████████████████| 82/82 [00:00<00:00, 630.72it/s]\n",
      "100%|███████████████████████████████████████| 899/899 [00:04<00:00, 180.16it/s]\n",
      "100%|█████████████████████████████████████████| 82/82 [00:00<00:00, 548.19it/s]\n",
      "100%|███████████████████████████████████████| 899/899 [00:06<00:00, 139.83it/s]\n",
      "100%|█████████████████████████████████████████| 82/82 [00:00<00:00, 432.19it/s]\n",
      "100%|███████████████████████████████████████| 899/899 [00:06<00:00, 133.07it/s]\n",
      "100%|█████████████████████████████████████████| 82/82 [00:00<00:00, 553.18it/s]\n",
      "100%|███████████████████████████████████████| 899/899 [00:06<00:00, 136.44it/s]\n",
      "100%|█████████████████████████████████████████| 82/82 [00:00<00:00, 570.10it/s]\n"
     ]
    },
    {
     "data": {
      "text/html": [
       "Waiting for W&B process to finish... <strong style=\"color:green\">(success).</strong>"
      ],
      "text/plain": [
       "<IPython.core.display.HTML object>"
      ]
     },
     "metadata": {},
     "output_type": "display_data"
    },
    {
     "data": {
      "text/html": [
       "<style>\n",
       "    table.wandb td:nth-child(1) { padding: 0 10px; text-align: left ; width: auto;} td:nth-child(2) {text-align: left ; width: 100%}\n",
       "    .wandb-row { display: flex; flex-direction: row; flex-wrap: wrap; justify-content: flex-start; width: 100% }\n",
       "    .wandb-col { display: flex; flex-direction: column; flex-basis: 100%; flex: 1; padding: 10px; }\n",
       "    </style>\n",
       "<div class=\"wandb-row\"><div class=\"wandb-col\"><h3>Run history:</h3><br/><table class=\"wandb\"><tr><td>accuracy</td><td>▁▁▂▃▄▄▅▅▆▆▇██▅▇▇▆▆▅▇</td></tr><tr><td>balanced_accuracy</td><td>▃▃▄▁▁▃▂▄▃▃▅▃▃▃██▄▅▃▄</td></tr><tr><td>f1_weighted</td><td>▁▁▅▅▅▅▆▆▆▆▆▄▄▆▇█▆▆▆▆</td></tr><tr><td>precision</td><td>█▁▅▃▃▃▃▆▃▃▃▅▃▃▆▅▃▃▃▅</td></tr><tr><td>recall</td><td>▁▁▂▃▄▄▅▅▆▆▇██▅▇▇▆▆▅▇</td></tr></table><br/></div><div class=\"wandb-col\"><h3>Run summary:</h3><br/><table class=\"wandb\"><tr><td>accuracy</td><td>0.30385</td></tr><tr><td>balanced_accuracy</td><td>0.16851</td></tr><tr><td>f1_weighted</td><td>0.20933</td></tr><tr><td>precision</td><td>0.21938</td></tr><tr><td>recall</td><td>0.30385</td></tr></table><br/></div></div>"
      ],
      "text/plain": [
       "<IPython.core.display.HTML object>"
      ]
     },
     "metadata": {},
     "output_type": "display_data"
    },
    {
     "data": {
      "text/html": [
       " View run <strong style=\"color:#cdcd00\">11_fcnn_baseline_6_large_81k_search_108_lr-0.001_hidden1-32_hidden2-16_dr-0.1</strong> at: <a href='https://wandb.ai/totikos/model_fcnn_baseline_6_large_81k_search_108-hpo/runs/yvmqrm5e' target=\"_blank\">https://wandb.ai/totikos/model_fcnn_baseline_6_large_81k_search_108-hpo/runs/yvmqrm5e</a><br/> View job at <a href='https://wandb.ai/totikos/model_fcnn_baseline_6_large_81k_search_108-hpo/jobs/QXJ0aWZhY3RDb2xsZWN0aW9uOjEzOTc4MjU0OA==/version_details/v2' target=\"_blank\">https://wandb.ai/totikos/model_fcnn_baseline_6_large_81k_search_108-hpo/jobs/QXJ0aWZhY3RDb2xsZWN0aW9uOjEzOTc4MjU0OA==/version_details/v2</a><br/>Synced 5 W&B file(s), 0 media file(s), 0 artifact file(s) and 0 other file(s)"
      ],
      "text/plain": [
       "<IPython.core.display.HTML object>"
      ]
     },
     "metadata": {},
     "output_type": "display_data"
    },
    {
     "data": {
      "text/html": [
       "Find logs at: <code>C:\\Users\\nekta\\OneDrive\\Desktop\\botanic-emotion-recognition\\logs\\wandb\\run-20240214_211654-yvmqrm5e\\logs</code>"
      ],
      "text/plain": [
       "<IPython.core.display.HTML object>"
      ]
     },
     "metadata": {},
     "output_type": "display_data"
    },
    {
     "name": "stderr",
     "output_type": "stream",
     "text": [
      "[I 2024-02-14 21:19:00,465] Trial 11 finished with value: 0.16851411658147483 and parameters: {'dropout_rate': 0.1, 'hidden_dim_1': 32, 'hidden_dim_2': 16, 'lr': 0.001}. Best is trial 6 with value: 0.17126425545780385.\n"
     ]
    },
    {
     "name": "stdout",
     "output_type": "stream",
     "text": [
      "{'hidden_dim_1': 64, 'hidden_dim_2': 32, 'dropout_rate': 0.2}\n"
     ]
    },
    {
     "data": {
      "text/html": [
       "wandb version 0.16.3 is available!  To upgrade, please run:\n",
       " $ pip install wandb --upgrade"
      ],
      "text/plain": [
       "<IPython.core.display.HTML object>"
      ]
     },
     "metadata": {},
     "output_type": "display_data"
    },
    {
     "data": {
      "text/html": [
       "Tracking run with wandb version 0.15.12"
      ],
      "text/plain": [
       "<IPython.core.display.HTML object>"
      ]
     },
     "metadata": {},
     "output_type": "display_data"
    },
    {
     "data": {
      "text/html": [
       "Run data is saved locally in <code>C:\\Users\\nekta\\OneDrive\\Desktop\\botanic-emotion-recognition\\logs\\wandb\\run-20240214_211900-0dnwmh0i</code>"
      ],
      "text/plain": [
       "<IPython.core.display.HTML object>"
      ]
     },
     "metadata": {},
     "output_type": "display_data"
    },
    {
     "data": {
      "text/html": [
       "Syncing run <strong><a href='https://wandb.ai/totikos/model_fcnn_baseline_6_large_81k_search_108-hpo/runs/0dnwmh0i' target=\"_blank\">12_fcnn_baseline_6_large_81k_search_108_lr-0.01_hidden1-64_hidden2-32_dr-0.2</a></strong> to <a href='https://wandb.ai/totikos/model_fcnn_baseline_6_large_81k_search_108-hpo' target=\"_blank\">Weights & Biases</a> (<a href='https://wandb.me/run' target=\"_blank\">docs</a>)<br/>"
      ],
      "text/plain": [
       "<IPython.core.display.HTML object>"
      ]
     },
     "metadata": {},
     "output_type": "display_data"
    },
    {
     "data": {
      "text/html": [
       " View project at <a href='https://wandb.ai/totikos/model_fcnn_baseline_6_large_81k_search_108-hpo' target=\"_blank\">https://wandb.ai/totikos/model_fcnn_baseline_6_large_81k_search_108-hpo</a>"
      ],
      "text/plain": [
       "<IPython.core.display.HTML object>"
      ]
     },
     "metadata": {},
     "output_type": "display_data"
    },
    {
     "data": {
      "text/html": [
       " View run at <a href='https://wandb.ai/totikos/model_fcnn_baseline_6_large_81k_search_108-hpo/runs/0dnwmh0i' target=\"_blank\">https://wandb.ai/totikos/model_fcnn_baseline_6_large_81k_search_108-hpo/runs/0dnwmh0i</a>"
      ],
      "text/plain": [
       "<IPython.core.display.HTML object>"
      ]
     },
     "metadata": {},
     "output_type": "display_data"
    },
    {
     "name": "stderr",
     "output_type": "stream",
     "text": [
      "100%|███████████████████████████████████████| 899/899 [00:06<00:00, 137.57it/s]\n",
      "100%|█████████████████████████████████████████| 82/82 [00:00<00:00, 573.85it/s]\n",
      "[I 2024-02-14 21:19:08,898] Trial 12 pruned. \n"
     ]
    },
    {
     "name": "stdout",
     "output_type": "stream",
     "text": [
      "{'hidden_dim_1': 128, 'hidden_dim_2': 16, 'dropout_rate': 0.1}\n"
     ]
    },
    {
     "data": {
      "text/html": [
       "Finishing last run (ID:0dnwmh0i) before initializing another..."
      ],
      "text/plain": [
       "<IPython.core.display.HTML object>"
      ]
     },
     "metadata": {},
     "output_type": "display_data"
    },
    {
     "data": {
      "text/html": [
       "Waiting for W&B process to finish... <strong style=\"color:green\">(success).</strong>"
      ],
      "text/plain": [
       "<IPython.core.display.HTML object>"
      ]
     },
     "metadata": {},
     "output_type": "display_data"
    },
    {
     "data": {
      "text/html": [
       " View run <strong style=\"color:#cdcd00\">12_fcnn_baseline_6_large_81k_search_108_lr-0.01_hidden1-64_hidden2-32_dr-0.2</strong> at: <a href='https://wandb.ai/totikos/model_fcnn_baseline_6_large_81k_search_108-hpo/runs/0dnwmh0i' target=\"_blank\">https://wandb.ai/totikos/model_fcnn_baseline_6_large_81k_search_108-hpo/runs/0dnwmh0i</a><br/> View job at <a href='https://wandb.ai/totikos/model_fcnn_baseline_6_large_81k_search_108-hpo/jobs/QXJ0aWZhY3RDb2xsZWN0aW9uOjEzOTc4MjU0OA==/version_details/v1' target=\"_blank\">https://wandb.ai/totikos/model_fcnn_baseline_6_large_81k_search_108-hpo/jobs/QXJ0aWZhY3RDb2xsZWN0aW9uOjEzOTc4MjU0OA==/version_details/v1</a><br/>Synced 5 W&B file(s), 0 media file(s), 0 artifact file(s) and 0 other file(s)"
      ],
      "text/plain": [
       "<IPython.core.display.HTML object>"
      ]
     },
     "metadata": {},
     "output_type": "display_data"
    },
    {
     "data": {
      "text/html": [
       "Find logs at: <code>C:\\Users\\nekta\\OneDrive\\Desktop\\botanic-emotion-recognition\\logs\\wandb\\run-20240214_211900-0dnwmh0i\\logs</code>"
      ],
      "text/plain": [
       "<IPython.core.display.HTML object>"
      ]
     },
     "metadata": {},
     "output_type": "display_data"
    },
    {
     "data": {
      "text/html": [
       "Successfully finished last run (ID:0dnwmh0i). Initializing new run:<br/>"
      ],
      "text/plain": [
       "<IPython.core.display.HTML object>"
      ]
     },
     "metadata": {},
     "output_type": "display_data"
    },
    {
     "data": {
      "text/html": [
       "wandb version 0.16.3 is available!  To upgrade, please run:\n",
       " $ pip install wandb --upgrade"
      ],
      "text/plain": [
       "<IPython.core.display.HTML object>"
      ]
     },
     "metadata": {},
     "output_type": "display_data"
    },
    {
     "data": {
      "text/html": [
       "Tracking run with wandb version 0.15.12"
      ],
      "text/plain": [
       "<IPython.core.display.HTML object>"
      ]
     },
     "metadata": {},
     "output_type": "display_data"
    },
    {
     "data": {
      "text/html": [
       "Run data is saved locally in <code>C:\\Users\\nekta\\OneDrive\\Desktop\\botanic-emotion-recognition\\logs\\wandb\\run-20240214_211908-9qhhgwvv</code>"
      ],
      "text/plain": [
       "<IPython.core.display.HTML object>"
      ]
     },
     "metadata": {},
     "output_type": "display_data"
    },
    {
     "data": {
      "text/html": [
       "Syncing run <strong><a href='https://wandb.ai/totikos/model_fcnn_baseline_6_large_81k_search_108-hpo/runs/9qhhgwvv' target=\"_blank\">13_fcnn_baseline_6_large_81k_search_108_lr-0.01_hidden1-128_hidden2-16_dr-0.1</a></strong> to <a href='https://wandb.ai/totikos/model_fcnn_baseline_6_large_81k_search_108-hpo' target=\"_blank\">Weights & Biases</a> (<a href='https://wandb.me/run' target=\"_blank\">docs</a>)<br/>"
      ],
      "text/plain": [
       "<IPython.core.display.HTML object>"
      ]
     },
     "metadata": {},
     "output_type": "display_data"
    },
    {
     "data": {
      "text/html": [
       " View project at <a href='https://wandb.ai/totikos/model_fcnn_baseline_6_large_81k_search_108-hpo' target=\"_blank\">https://wandb.ai/totikos/model_fcnn_baseline_6_large_81k_search_108-hpo</a>"
      ],
      "text/plain": [
       "<IPython.core.display.HTML object>"
      ]
     },
     "metadata": {},
     "output_type": "display_data"
    },
    {
     "data": {
      "text/html": [
       " View run at <a href='https://wandb.ai/totikos/model_fcnn_baseline_6_large_81k_search_108-hpo/runs/9qhhgwvv' target=\"_blank\">https://wandb.ai/totikos/model_fcnn_baseline_6_large_81k_search_108-hpo/runs/9qhhgwvv</a>"
      ],
      "text/plain": [
       "<IPython.core.display.HTML object>"
      ]
     },
     "metadata": {},
     "output_type": "display_data"
    },
    {
     "name": "stderr",
     "output_type": "stream",
     "text": [
      "100%|████████████████████████████████████████| 899/899 [00:13<00:00, 68.54it/s]\n",
      "100%|█████████████████████████████████████████| 82/82 [00:00<00:00, 476.38it/s]\n",
      "[I 2024-02-14 21:19:29,012] Trial 13 pruned. \n"
     ]
    },
    {
     "name": "stdout",
     "output_type": "stream",
     "text": [
      "{'hidden_dim_1': 16, 'hidden_dim_2': 32, 'dropout_rate': 0}\n"
     ]
    },
    {
     "data": {
      "text/html": [
       "Finishing last run (ID:9qhhgwvv) before initializing another..."
      ],
      "text/plain": [
       "<IPython.core.display.HTML object>"
      ]
     },
     "metadata": {},
     "output_type": "display_data"
    },
    {
     "data": {
      "text/html": [
       "Waiting for W&B process to finish... <strong style=\"color:green\">(success).</strong>"
      ],
      "text/plain": [
       "<IPython.core.display.HTML object>"
      ]
     },
     "metadata": {},
     "output_type": "display_data"
    },
    {
     "data": {
      "text/html": [
       " View run <strong style=\"color:#cdcd00\">13_fcnn_baseline_6_large_81k_search_108_lr-0.01_hidden1-128_hidden2-16_dr-0.1</strong> at: <a href='https://wandb.ai/totikos/model_fcnn_baseline_6_large_81k_search_108-hpo/runs/9qhhgwvv' target=\"_blank\">https://wandb.ai/totikos/model_fcnn_baseline_6_large_81k_search_108-hpo/runs/9qhhgwvv</a><br/> View job at <a href='https://wandb.ai/totikos/model_fcnn_baseline_6_large_81k_search_108-hpo/jobs/QXJ0aWZhY3RDb2xsZWN0aW9uOjEzOTc4MjU0OA==/version_details/v1' target=\"_blank\">https://wandb.ai/totikos/model_fcnn_baseline_6_large_81k_search_108-hpo/jobs/QXJ0aWZhY3RDb2xsZWN0aW9uOjEzOTc4MjU0OA==/version_details/v1</a><br/>Synced 5 W&B file(s), 0 media file(s), 0 artifact file(s) and 0 other file(s)"
      ],
      "text/plain": [
       "<IPython.core.display.HTML object>"
      ]
     },
     "metadata": {},
     "output_type": "display_data"
    },
    {
     "data": {
      "text/html": [
       "Find logs at: <code>C:\\Users\\nekta\\OneDrive\\Desktop\\botanic-emotion-recognition\\logs\\wandb\\run-20240214_211908-9qhhgwvv\\logs</code>"
      ],
      "text/plain": [
       "<IPython.core.display.HTML object>"
      ]
     },
     "metadata": {},
     "output_type": "display_data"
    },
    {
     "data": {
      "text/html": [
       "Successfully finished last run (ID:9qhhgwvv). Initializing new run:<br/>"
      ],
      "text/plain": [
       "<IPython.core.display.HTML object>"
      ]
     },
     "metadata": {},
     "output_type": "display_data"
    },
    {
     "data": {
      "text/html": [
       "wandb version 0.16.3 is available!  To upgrade, please run:\n",
       " $ pip install wandb --upgrade"
      ],
      "text/plain": [
       "<IPython.core.display.HTML object>"
      ]
     },
     "metadata": {},
     "output_type": "display_data"
    },
    {
     "data": {
      "text/html": [
       "Tracking run with wandb version 0.15.12"
      ],
      "text/plain": [
       "<IPython.core.display.HTML object>"
      ]
     },
     "metadata": {},
     "output_type": "display_data"
    },
    {
     "data": {
      "text/html": [
       "Run data is saved locally in <code>C:\\Users\\nekta\\OneDrive\\Desktop\\botanic-emotion-recognition\\logs\\wandb\\run-20240214_211929-8a9crgn5</code>"
      ],
      "text/plain": [
       "<IPython.core.display.HTML object>"
      ]
     },
     "metadata": {},
     "output_type": "display_data"
    },
    {
     "data": {
      "text/html": [
       "Syncing run <strong><a href='https://wandb.ai/totikos/model_fcnn_baseline_6_large_81k_search_108-hpo/runs/8a9crgn5' target=\"_blank\">14_fcnn_baseline_6_large_81k_search_108_lr-0.01_hidden1-16_hidden2-32_dr-0</a></strong> to <a href='https://wandb.ai/totikos/model_fcnn_baseline_6_large_81k_search_108-hpo' target=\"_blank\">Weights & Biases</a> (<a href='https://wandb.me/run' target=\"_blank\">docs</a>)<br/>"
      ],
      "text/plain": [
       "<IPython.core.display.HTML object>"
      ]
     },
     "metadata": {},
     "output_type": "display_data"
    },
    {
     "data": {
      "text/html": [
       " View project at <a href='https://wandb.ai/totikos/model_fcnn_baseline_6_large_81k_search_108-hpo' target=\"_blank\">https://wandb.ai/totikos/model_fcnn_baseline_6_large_81k_search_108-hpo</a>"
      ],
      "text/plain": [
       "<IPython.core.display.HTML object>"
      ]
     },
     "metadata": {},
     "output_type": "display_data"
    },
    {
     "data": {
      "text/html": [
       " View run at <a href='https://wandb.ai/totikos/model_fcnn_baseline_6_large_81k_search_108-hpo/runs/8a9crgn5' target=\"_blank\">https://wandb.ai/totikos/model_fcnn_baseline_6_large_81k_search_108-hpo/runs/8a9crgn5</a>"
      ],
      "text/plain": [
       "<IPython.core.display.HTML object>"
      ]
     },
     "metadata": {},
     "output_type": "display_data"
    },
    {
     "name": "stderr",
     "output_type": "stream",
     "text": [
      "100%|███████████████████████████████████████| 899/899 [00:02<00:00, 356.99it/s]\n",
      "100%|█████████████████████████████████████████| 82/82 [00:00<00:00, 809.36it/s]\n",
      "[I 2024-02-14 21:19:38,992] Trial 14 pruned. \n"
     ]
    },
    {
     "name": "stdout",
     "output_type": "stream",
     "text": [
      "{'hidden_dim_1': 64, 'hidden_dim_2': 64, 'dropout_rate': 0}\n"
     ]
    },
    {
     "data": {
      "text/html": [
       "Finishing last run (ID:8a9crgn5) before initializing another..."
      ],
      "text/plain": [
       "<IPython.core.display.HTML object>"
      ]
     },
     "metadata": {},
     "output_type": "display_data"
    },
    {
     "data": {
      "text/html": [
       "Waiting for W&B process to finish... <strong style=\"color:green\">(success).</strong>"
      ],
      "text/plain": [
       "<IPython.core.display.HTML object>"
      ]
     },
     "metadata": {},
     "output_type": "display_data"
    },
    {
     "data": {
      "text/html": [
       " View run <strong style=\"color:#cdcd00\">14_fcnn_baseline_6_large_81k_search_108_lr-0.01_hidden1-16_hidden2-32_dr-0</strong> at: <a href='https://wandb.ai/totikos/model_fcnn_baseline_6_large_81k_search_108-hpo/runs/8a9crgn5' target=\"_blank\">https://wandb.ai/totikos/model_fcnn_baseline_6_large_81k_search_108-hpo/runs/8a9crgn5</a><br/> View job at <a href='https://wandb.ai/totikos/model_fcnn_baseline_6_large_81k_search_108-hpo/jobs/QXJ0aWZhY3RDb2xsZWN0aW9uOjEzOTc4MjU0OA==/version_details/v1' target=\"_blank\">https://wandb.ai/totikos/model_fcnn_baseline_6_large_81k_search_108-hpo/jobs/QXJ0aWZhY3RDb2xsZWN0aW9uOjEzOTc4MjU0OA==/version_details/v1</a><br/>Synced 5 W&B file(s), 0 media file(s), 0 artifact file(s) and 0 other file(s)"
      ],
      "text/plain": [
       "<IPython.core.display.HTML object>"
      ]
     },
     "metadata": {},
     "output_type": "display_data"
    },
    {
     "data": {
      "text/html": [
       "Find logs at: <code>C:\\Users\\nekta\\OneDrive\\Desktop\\botanic-emotion-recognition\\logs\\wandb\\run-20240214_211929-8a9crgn5\\logs</code>"
      ],
      "text/plain": [
       "<IPython.core.display.HTML object>"
      ]
     },
     "metadata": {},
     "output_type": "display_data"
    },
    {
     "data": {
      "text/html": [
       "Successfully finished last run (ID:8a9crgn5). Initializing new run:<br/>"
      ],
      "text/plain": [
       "<IPython.core.display.HTML object>"
      ]
     },
     "metadata": {},
     "output_type": "display_data"
    },
    {
     "data": {
      "text/html": [
       "wandb version 0.16.3 is available!  To upgrade, please run:\n",
       " $ pip install wandb --upgrade"
      ],
      "text/plain": [
       "<IPython.core.display.HTML object>"
      ]
     },
     "metadata": {},
     "output_type": "display_data"
    },
    {
     "data": {
      "text/html": [
       "Tracking run with wandb version 0.15.12"
      ],
      "text/plain": [
       "<IPython.core.display.HTML object>"
      ]
     },
     "metadata": {},
     "output_type": "display_data"
    },
    {
     "data": {
      "text/html": [
       "Run data is saved locally in <code>C:\\Users\\nekta\\OneDrive\\Desktop\\botanic-emotion-recognition\\logs\\wandb\\run-20240214_211939-aiclzmh8</code>"
      ],
      "text/plain": [
       "<IPython.core.display.HTML object>"
      ]
     },
     "metadata": {},
     "output_type": "display_data"
    },
    {
     "data": {
      "text/html": [
       "Syncing run <strong><a href='https://wandb.ai/totikos/model_fcnn_baseline_6_large_81k_search_108-hpo/runs/aiclzmh8' target=\"_blank\">15_fcnn_baseline_6_large_81k_search_108_lr-0.01_hidden1-64_hidden2-64_dr-0</a></strong> to <a href='https://wandb.ai/totikos/model_fcnn_baseline_6_large_81k_search_108-hpo' target=\"_blank\">Weights & Biases</a> (<a href='https://wandb.me/run' target=\"_blank\">docs</a>)<br/>"
      ],
      "text/plain": [
       "<IPython.core.display.HTML object>"
      ]
     },
     "metadata": {},
     "output_type": "display_data"
    },
    {
     "data": {
      "text/html": [
       " View project at <a href='https://wandb.ai/totikos/model_fcnn_baseline_6_large_81k_search_108-hpo' target=\"_blank\">https://wandb.ai/totikos/model_fcnn_baseline_6_large_81k_search_108-hpo</a>"
      ],
      "text/plain": [
       "<IPython.core.display.HTML object>"
      ]
     },
     "metadata": {},
     "output_type": "display_data"
    },
    {
     "data": {
      "text/html": [
       " View run at <a href='https://wandb.ai/totikos/model_fcnn_baseline_6_large_81k_search_108-hpo/runs/aiclzmh8' target=\"_blank\">https://wandb.ai/totikos/model_fcnn_baseline_6_large_81k_search_108-hpo/runs/aiclzmh8</a>"
      ],
      "text/plain": [
       "<IPython.core.display.HTML object>"
      ]
     },
     "metadata": {},
     "output_type": "display_data"
    },
    {
     "name": "stderr",
     "output_type": "stream",
     "text": [
      "100%|███████████████████████████████████████| 899/899 [00:06<00:00, 141.81it/s]\n",
      "100%|█████████████████████████████████████████| 82/82 [00:00<00:00, 579.34it/s]\n",
      "[I 2024-02-14 21:19:52,392] Trial 15 pruned. \n"
     ]
    },
    {
     "name": "stdout",
     "output_type": "stream",
     "text": [
      "{'hidden_dim_1': 128, 'hidden_dim_2': 64, 'dropout_rate': 0.1}\n"
     ]
    },
    {
     "data": {
      "text/html": [
       "Finishing last run (ID:aiclzmh8) before initializing another..."
      ],
      "text/plain": [
       "<IPython.core.display.HTML object>"
      ]
     },
     "metadata": {},
     "output_type": "display_data"
    },
    {
     "data": {
      "text/html": [
       "Waiting for W&B process to finish... <strong style=\"color:green\">(success).</strong>"
      ],
      "text/plain": [
       "<IPython.core.display.HTML object>"
      ]
     },
     "metadata": {},
     "output_type": "display_data"
    },
    {
     "data": {
      "text/html": [
       " View run <strong style=\"color:#cdcd00\">15_fcnn_baseline_6_large_81k_search_108_lr-0.01_hidden1-64_hidden2-64_dr-0</strong> at: <a href='https://wandb.ai/totikos/model_fcnn_baseline_6_large_81k_search_108-hpo/runs/aiclzmh8' target=\"_blank\">https://wandb.ai/totikos/model_fcnn_baseline_6_large_81k_search_108-hpo/runs/aiclzmh8</a><br/> View job at <a href='https://wandb.ai/totikos/model_fcnn_baseline_6_large_81k_search_108-hpo/jobs/QXJ0aWZhY3RDb2xsZWN0aW9uOjEzOTc4MjU0OA==/version_details/v1' target=\"_blank\">https://wandb.ai/totikos/model_fcnn_baseline_6_large_81k_search_108-hpo/jobs/QXJ0aWZhY3RDb2xsZWN0aW9uOjEzOTc4MjU0OA==/version_details/v1</a><br/>Synced 5 W&B file(s), 0 media file(s), 0 artifact file(s) and 0 other file(s)"
      ],
      "text/plain": [
       "<IPython.core.display.HTML object>"
      ]
     },
     "metadata": {},
     "output_type": "display_data"
    },
    {
     "data": {
      "text/html": [
       "Find logs at: <code>C:\\Users\\nekta\\OneDrive\\Desktop\\botanic-emotion-recognition\\logs\\wandb\\run-20240214_211939-aiclzmh8\\logs</code>"
      ],
      "text/plain": [
       "<IPython.core.display.HTML object>"
      ]
     },
     "metadata": {},
     "output_type": "display_data"
    },
    {
     "data": {
      "text/html": [
       "Successfully finished last run (ID:aiclzmh8). Initializing new run:<br/>"
      ],
      "text/plain": [
       "<IPython.core.display.HTML object>"
      ]
     },
     "metadata": {},
     "output_type": "display_data"
    },
    {
     "data": {
      "text/html": [
       "wandb version 0.16.3 is available!  To upgrade, please run:\n",
       " $ pip install wandb --upgrade"
      ],
      "text/plain": [
       "<IPython.core.display.HTML object>"
      ]
     },
     "metadata": {},
     "output_type": "display_data"
    },
    {
     "data": {
      "text/html": [
       "Tracking run with wandb version 0.15.12"
      ],
      "text/plain": [
       "<IPython.core.display.HTML object>"
      ]
     },
     "metadata": {},
     "output_type": "display_data"
    },
    {
     "data": {
      "text/html": [
       "Run data is saved locally in <code>C:\\Users\\nekta\\OneDrive\\Desktop\\botanic-emotion-recognition\\logs\\wandb\\run-20240214_211952-hub1n97m</code>"
      ],
      "text/plain": [
       "<IPython.core.display.HTML object>"
      ]
     },
     "metadata": {},
     "output_type": "display_data"
    },
    {
     "data": {
      "text/html": [
       "Syncing run <strong><a href='https://wandb.ai/totikos/model_fcnn_baseline_6_large_81k_search_108-hpo/runs/hub1n97m' target=\"_blank\">16_fcnn_baseline_6_large_81k_search_108_lr-0.0001_hidden1-128_hidden2-64_dr-0.1</a></strong> to <a href='https://wandb.ai/totikos/model_fcnn_baseline_6_large_81k_search_108-hpo' target=\"_blank\">Weights & Biases</a> (<a href='https://wandb.me/run' target=\"_blank\">docs</a>)<br/>"
      ],
      "text/plain": [
       "<IPython.core.display.HTML object>"
      ]
     },
     "metadata": {},
     "output_type": "display_data"
    },
    {
     "data": {
      "text/html": [
       " View project at <a href='https://wandb.ai/totikos/model_fcnn_baseline_6_large_81k_search_108-hpo' target=\"_blank\">https://wandb.ai/totikos/model_fcnn_baseline_6_large_81k_search_108-hpo</a>"
      ],
      "text/plain": [
       "<IPython.core.display.HTML object>"
      ]
     },
     "metadata": {},
     "output_type": "display_data"
    },
    {
     "data": {
      "text/html": [
       " View run at <a href='https://wandb.ai/totikos/model_fcnn_baseline_6_large_81k_search_108-hpo/runs/hub1n97m' target=\"_blank\">https://wandb.ai/totikos/model_fcnn_baseline_6_large_81k_search_108-hpo/runs/hub1n97m</a>"
      ],
      "text/plain": [
       "<IPython.core.display.HTML object>"
      ]
     },
     "metadata": {},
     "output_type": "display_data"
    },
    {
     "name": "stderr",
     "output_type": "stream",
     "text": [
      "100%|████████████████████████████████████████| 899/899 [00:12<00:00, 73.44it/s]\n",
      "100%|█████████████████████████████████████████| 82/82 [00:00<00:00, 507.02it/s]\n",
      "[I 2024-02-14 21:20:11,958] Trial 16 pruned. \n"
     ]
    },
    {
     "name": "stdout",
     "output_type": "stream",
     "text": [
      "{'hidden_dim_1': 32, 'hidden_dim_2': 32, 'dropout_rate': 0.2}\n"
     ]
    },
    {
     "data": {
      "text/html": [
       "Finishing last run (ID:hub1n97m) before initializing another..."
      ],
      "text/plain": [
       "<IPython.core.display.HTML object>"
      ]
     },
     "metadata": {},
     "output_type": "display_data"
    },
    {
     "data": {
      "text/html": [
       "Waiting for W&B process to finish... <strong style=\"color:green\">(success).</strong>"
      ],
      "text/plain": [
       "<IPython.core.display.HTML object>"
      ]
     },
     "metadata": {},
     "output_type": "display_data"
    },
    {
     "data": {
      "text/html": [
       " View run <strong style=\"color:#cdcd00\">16_fcnn_baseline_6_large_81k_search_108_lr-0.0001_hidden1-128_hidden2-64_dr-0.1</strong> at: <a href='https://wandb.ai/totikos/model_fcnn_baseline_6_large_81k_search_108-hpo/runs/hub1n97m' target=\"_blank\">https://wandb.ai/totikos/model_fcnn_baseline_6_large_81k_search_108-hpo/runs/hub1n97m</a><br/> View job at <a href='https://wandb.ai/totikos/model_fcnn_baseline_6_large_81k_search_108-hpo/jobs/QXJ0aWZhY3RDb2xsZWN0aW9uOjEzOTc4MjU0OA==/version_details/v1' target=\"_blank\">https://wandb.ai/totikos/model_fcnn_baseline_6_large_81k_search_108-hpo/jobs/QXJ0aWZhY3RDb2xsZWN0aW9uOjEzOTc4MjU0OA==/version_details/v1</a><br/>Synced 5 W&B file(s), 0 media file(s), 0 artifact file(s) and 0 other file(s)"
      ],
      "text/plain": [
       "<IPython.core.display.HTML object>"
      ]
     },
     "metadata": {},
     "output_type": "display_data"
    },
    {
     "data": {
      "text/html": [
       "Find logs at: <code>C:\\Users\\nekta\\OneDrive\\Desktop\\botanic-emotion-recognition\\logs\\wandb\\run-20240214_211952-hub1n97m\\logs</code>"
      ],
      "text/plain": [
       "<IPython.core.display.HTML object>"
      ]
     },
     "metadata": {},
     "output_type": "display_data"
    },
    {
     "data": {
      "text/html": [
       "Successfully finished last run (ID:hub1n97m). Initializing new run:<br/>"
      ],
      "text/plain": [
       "<IPython.core.display.HTML object>"
      ]
     },
     "metadata": {},
     "output_type": "display_data"
    },
    {
     "data": {
      "text/html": [
       "wandb version 0.16.3 is available!  To upgrade, please run:\n",
       " $ pip install wandb --upgrade"
      ],
      "text/plain": [
       "<IPython.core.display.HTML object>"
      ]
     },
     "metadata": {},
     "output_type": "display_data"
    },
    {
     "data": {
      "text/html": [
       "Tracking run with wandb version 0.15.12"
      ],
      "text/plain": [
       "<IPython.core.display.HTML object>"
      ]
     },
     "metadata": {},
     "output_type": "display_data"
    },
    {
     "data": {
      "text/html": [
       "Run data is saved locally in <code>C:\\Users\\nekta\\OneDrive\\Desktop\\botanic-emotion-recognition\\logs\\wandb\\run-20240214_212012-76be13uo</code>"
      ],
      "text/plain": [
       "<IPython.core.display.HTML object>"
      ]
     },
     "metadata": {},
     "output_type": "display_data"
    },
    {
     "data": {
      "text/html": [
       "Syncing run <strong><a href='https://wandb.ai/totikos/model_fcnn_baseline_6_large_81k_search_108-hpo/runs/76be13uo' target=\"_blank\">17_fcnn_baseline_6_large_81k_search_108_lr-0.01_hidden1-32_hidden2-32_dr-0.2</a></strong> to <a href='https://wandb.ai/totikos/model_fcnn_baseline_6_large_81k_search_108-hpo' target=\"_blank\">Weights & Biases</a> (<a href='https://wandb.me/run' target=\"_blank\">docs</a>)<br/>"
      ],
      "text/plain": [
       "<IPython.core.display.HTML object>"
      ]
     },
     "metadata": {},
     "output_type": "display_data"
    },
    {
     "data": {
      "text/html": [
       " View project at <a href='https://wandb.ai/totikos/model_fcnn_baseline_6_large_81k_search_108-hpo' target=\"_blank\">https://wandb.ai/totikos/model_fcnn_baseline_6_large_81k_search_108-hpo</a>"
      ],
      "text/plain": [
       "<IPython.core.display.HTML object>"
      ]
     },
     "metadata": {},
     "output_type": "display_data"
    },
    {
     "data": {
      "text/html": [
       " View run at <a href='https://wandb.ai/totikos/model_fcnn_baseline_6_large_81k_search_108-hpo/runs/76be13uo' target=\"_blank\">https://wandb.ai/totikos/model_fcnn_baseline_6_large_81k_search_108-hpo/runs/76be13uo</a>"
      ],
      "text/plain": [
       "<IPython.core.display.HTML object>"
      ]
     },
     "metadata": {},
     "output_type": "display_data"
    },
    {
     "name": "stderr",
     "output_type": "stream",
     "text": [
      "100%|███████████████████████████████████████| 899/899 [00:04<00:00, 186.38it/s]\n",
      "100%|█████████████████████████████████████████| 82/82 [00:00<00:00, 655.49it/s]\n",
      "[I 2024-02-14 21:20:24,223] Trial 17 pruned. \n"
     ]
    },
    {
     "name": "stdout",
     "output_type": "stream",
     "text": [
      "{'hidden_dim_1': 128, 'hidden_dim_2': 16, 'dropout_rate': 0}\n"
     ]
    },
    {
     "data": {
      "text/html": [
       "Finishing last run (ID:76be13uo) before initializing another..."
      ],
      "text/plain": [
       "<IPython.core.display.HTML object>"
      ]
     },
     "metadata": {},
     "output_type": "display_data"
    },
    {
     "data": {
      "text/html": [
       "Waiting for W&B process to finish... <strong style=\"color:green\">(success).</strong>"
      ],
      "text/plain": [
       "<IPython.core.display.HTML object>"
      ]
     },
     "metadata": {},
     "output_type": "display_data"
    },
    {
     "data": {
      "text/html": [
       " View run <strong style=\"color:#cdcd00\">17_fcnn_baseline_6_large_81k_search_108_lr-0.01_hidden1-32_hidden2-32_dr-0.2</strong> at: <a href='https://wandb.ai/totikos/model_fcnn_baseline_6_large_81k_search_108-hpo/runs/76be13uo' target=\"_blank\">https://wandb.ai/totikos/model_fcnn_baseline_6_large_81k_search_108-hpo/runs/76be13uo</a><br/> View job at <a href='https://wandb.ai/totikos/model_fcnn_baseline_6_large_81k_search_108-hpo/jobs/QXJ0aWZhY3RDb2xsZWN0aW9uOjEzOTc4MjU0OA==/version_details/v1' target=\"_blank\">https://wandb.ai/totikos/model_fcnn_baseline_6_large_81k_search_108-hpo/jobs/QXJ0aWZhY3RDb2xsZWN0aW9uOjEzOTc4MjU0OA==/version_details/v1</a><br/>Synced 5 W&B file(s), 0 media file(s), 0 artifact file(s) and 0 other file(s)"
      ],
      "text/plain": [
       "<IPython.core.display.HTML object>"
      ]
     },
     "metadata": {},
     "output_type": "display_data"
    },
    {
     "data": {
      "text/html": [
       "Find logs at: <code>C:\\Users\\nekta\\OneDrive\\Desktop\\botanic-emotion-recognition\\logs\\wandb\\run-20240214_212012-76be13uo\\logs</code>"
      ],
      "text/plain": [
       "<IPython.core.display.HTML object>"
      ]
     },
     "metadata": {},
     "output_type": "display_data"
    },
    {
     "data": {
      "text/html": [
       "Successfully finished last run (ID:76be13uo). Initializing new run:<br/>"
      ],
      "text/plain": [
       "<IPython.core.display.HTML object>"
      ]
     },
     "metadata": {},
     "output_type": "display_data"
    },
    {
     "data": {
      "text/html": [
       "wandb version 0.16.3 is available!  To upgrade, please run:\n",
       " $ pip install wandb --upgrade"
      ],
      "text/plain": [
       "<IPython.core.display.HTML object>"
      ]
     },
     "metadata": {},
     "output_type": "display_data"
    },
    {
     "data": {
      "text/html": [
       "Tracking run with wandb version 0.15.12"
      ],
      "text/plain": [
       "<IPython.core.display.HTML object>"
      ]
     },
     "metadata": {},
     "output_type": "display_data"
    },
    {
     "data": {
      "text/html": [
       "Run data is saved locally in <code>C:\\Users\\nekta\\OneDrive\\Desktop\\botanic-emotion-recognition\\logs\\wandb\\run-20240214_212024-3u5w5br2</code>"
      ],
      "text/plain": [
       "<IPython.core.display.HTML object>"
      ]
     },
     "metadata": {},
     "output_type": "display_data"
    },
    {
     "data": {
      "text/html": [
       "Syncing run <strong><a href='https://wandb.ai/totikos/model_fcnn_baseline_6_large_81k_search_108-hpo/runs/3u5w5br2' target=\"_blank\">18_fcnn_baseline_6_large_81k_search_108_lr-0.0001_hidden1-128_hidden2-16_dr-0</a></strong> to <a href='https://wandb.ai/totikos/model_fcnn_baseline_6_large_81k_search_108-hpo' target=\"_blank\">Weights & Biases</a> (<a href='https://wandb.me/run' target=\"_blank\">docs</a>)<br/>"
      ],
      "text/plain": [
       "<IPython.core.display.HTML object>"
      ]
     },
     "metadata": {},
     "output_type": "display_data"
    },
    {
     "data": {
      "text/html": [
       " View project at <a href='https://wandb.ai/totikos/model_fcnn_baseline_6_large_81k_search_108-hpo' target=\"_blank\">https://wandb.ai/totikos/model_fcnn_baseline_6_large_81k_search_108-hpo</a>"
      ],
      "text/plain": [
       "<IPython.core.display.HTML object>"
      ]
     },
     "metadata": {},
     "output_type": "display_data"
    },
    {
     "data": {
      "text/html": [
       " View run at <a href='https://wandb.ai/totikos/model_fcnn_baseline_6_large_81k_search_108-hpo/runs/3u5w5br2' target=\"_blank\">https://wandb.ai/totikos/model_fcnn_baseline_6_large_81k_search_108-hpo/runs/3u5w5br2</a>"
      ],
      "text/plain": [
       "<IPython.core.display.HTML object>"
      ]
     },
     "metadata": {},
     "output_type": "display_data"
    },
    {
     "name": "stderr",
     "output_type": "stream",
     "text": [
      "100%|████████████████████████████████████████| 899/899 [00:12<00:00, 70.88it/s]\n",
      "100%|█████████████████████████████████████████| 82/82 [00:00<00:00, 390.41it/s]\n",
      "[I 2024-02-14 21:20:45,167] Trial 18 pruned. \n"
     ]
    },
    {
     "name": "stdout",
     "output_type": "stream",
     "text": [
      "{'hidden_dim_1': 64, 'hidden_dim_2': 32, 'dropout_rate': 0}\n"
     ]
    },
    {
     "data": {
      "text/html": [
       "Finishing last run (ID:3u5w5br2) before initializing another..."
      ],
      "text/plain": [
       "<IPython.core.display.HTML object>"
      ]
     },
     "metadata": {},
     "output_type": "display_data"
    },
    {
     "data": {
      "text/html": [
       "Waiting for W&B process to finish... <strong style=\"color:green\">(success).</strong>"
      ],
      "text/plain": [
       "<IPython.core.display.HTML object>"
      ]
     },
     "metadata": {},
     "output_type": "display_data"
    },
    {
     "data": {
      "text/html": [
       " View run <strong style=\"color:#cdcd00\">18_fcnn_baseline_6_large_81k_search_108_lr-0.0001_hidden1-128_hidden2-16_dr-0</strong> at: <a href='https://wandb.ai/totikos/model_fcnn_baseline_6_large_81k_search_108-hpo/runs/3u5w5br2' target=\"_blank\">https://wandb.ai/totikos/model_fcnn_baseline_6_large_81k_search_108-hpo/runs/3u5w5br2</a><br/> View job at <a href='https://wandb.ai/totikos/model_fcnn_baseline_6_large_81k_search_108-hpo/jobs/QXJ0aWZhY3RDb2xsZWN0aW9uOjEzOTc4MjU0OA==/version_details/v1' target=\"_blank\">https://wandb.ai/totikos/model_fcnn_baseline_6_large_81k_search_108-hpo/jobs/QXJ0aWZhY3RDb2xsZWN0aW9uOjEzOTc4MjU0OA==/version_details/v1</a><br/>Synced 5 W&B file(s), 0 media file(s), 0 artifact file(s) and 0 other file(s)"
      ],
      "text/plain": [
       "<IPython.core.display.HTML object>"
      ]
     },
     "metadata": {},
     "output_type": "display_data"
    },
    {
     "data": {
      "text/html": [
       "Find logs at: <code>C:\\Users\\nekta\\OneDrive\\Desktop\\botanic-emotion-recognition\\logs\\wandb\\run-20240214_212024-3u5w5br2\\logs</code>"
      ],
      "text/plain": [
       "<IPython.core.display.HTML object>"
      ]
     },
     "metadata": {},
     "output_type": "display_data"
    },
    {
     "data": {
      "text/html": [
       "Successfully finished last run (ID:3u5w5br2). Initializing new run:<br/>"
      ],
      "text/plain": [
       "<IPython.core.display.HTML object>"
      ]
     },
     "metadata": {},
     "output_type": "display_data"
    },
    {
     "data": {
      "text/html": [
       "wandb version 0.16.3 is available!  To upgrade, please run:\n",
       " $ pip install wandb --upgrade"
      ],
      "text/plain": [
       "<IPython.core.display.HTML object>"
      ]
     },
     "metadata": {},
     "output_type": "display_data"
    },
    {
     "data": {
      "text/html": [
       "Tracking run with wandb version 0.15.12"
      ],
      "text/plain": [
       "<IPython.core.display.HTML object>"
      ]
     },
     "metadata": {},
     "output_type": "display_data"
    },
    {
     "data": {
      "text/html": [
       "Run data is saved locally in <code>C:\\Users\\nekta\\OneDrive\\Desktop\\botanic-emotion-recognition\\logs\\wandb\\run-20240214_212045-r9pl3r9t</code>"
      ],
      "text/plain": [
       "<IPython.core.display.HTML object>"
      ]
     },
     "metadata": {},
     "output_type": "display_data"
    },
    {
     "data": {
      "text/html": [
       "Syncing run <strong><a href='https://wandb.ai/totikos/model_fcnn_baseline_6_large_81k_search_108-hpo/runs/r9pl3r9t' target=\"_blank\">19_fcnn_baseline_6_large_81k_search_108_lr-0.0001_hidden1-64_hidden2-32_dr-0</a></strong> to <a href='https://wandb.ai/totikos/model_fcnn_baseline_6_large_81k_search_108-hpo' target=\"_blank\">Weights & Biases</a> (<a href='https://wandb.me/run' target=\"_blank\">docs</a>)<br/>"
      ],
      "text/plain": [
       "<IPython.core.display.HTML object>"
      ]
     },
     "metadata": {},
     "output_type": "display_data"
    },
    {
     "data": {
      "text/html": [
       " View project at <a href='https://wandb.ai/totikos/model_fcnn_baseline_6_large_81k_search_108-hpo' target=\"_blank\">https://wandb.ai/totikos/model_fcnn_baseline_6_large_81k_search_108-hpo</a>"
      ],
      "text/plain": [
       "<IPython.core.display.HTML object>"
      ]
     },
     "metadata": {},
     "output_type": "display_data"
    },
    {
     "data": {
      "text/html": [
       " View run at <a href='https://wandb.ai/totikos/model_fcnn_baseline_6_large_81k_search_108-hpo/runs/r9pl3r9t' target=\"_blank\">https://wandb.ai/totikos/model_fcnn_baseline_6_large_81k_search_108-hpo/runs/r9pl3r9t</a>"
      ],
      "text/plain": [
       "<IPython.core.display.HTML object>"
      ]
     },
     "metadata": {},
     "output_type": "display_data"
    },
    {
     "name": "stderr",
     "output_type": "stream",
     "text": [
      "100%|███████████████████████████████████████| 899/899 [00:06<00:00, 140.67it/s]\n",
      "100%|█████████████████████████████████████████| 82/82 [00:00<00:00, 515.41it/s]\n",
      "100%|███████████████████████████████████████| 899/899 [00:08<00:00, 104.90it/s]\n",
      "100%|█████████████████████████████████████████| 82/82 [00:00<00:00, 553.41it/s]\n",
      "100%|███████████████████████████████████████| 899/899 [00:07<00:00, 128.10it/s]\n",
      "100%|█████████████████████████████████████████| 82/82 [00:00<00:00, 589.66it/s]\n",
      "100%|███████████████████████████████████████| 899/899 [00:07<00:00, 128.42it/s]\n",
      "100%|█████████████████████████████████████████| 82/82 [00:00<00:00, 523.42it/s]\n",
      "100%|███████████████████████████████████████| 899/899 [00:06<00:00, 132.53it/s]\n",
      "100%|█████████████████████████████████████████| 82/82 [00:00<00:00, 501.37it/s]\n",
      "100%|███████████████████████████████████████| 899/899 [00:07<00:00, 123.58it/s]\n",
      "100%|█████████████████████████████████████████| 82/82 [00:00<00:00, 515.38it/s]\n",
      "100%|███████████████████████████████████████| 899/899 [00:06<00:00, 132.53it/s]\n",
      "100%|█████████████████████████████████████████| 82/82 [00:00<00:00, 601.10it/s]\n",
      "100%|███████████████████████████████████████| 899/899 [00:06<00:00, 129.98it/s]\n",
      "100%|█████████████████████████████████████████| 82/82 [00:00<00:00, 593.12it/s]\n",
      "100%|███████████████████████████████████████| 899/899 [00:06<00:00, 133.48it/s]\n",
      "100%|█████████████████████████████████████████| 82/82 [00:00<00:00, 587.06it/s]\n",
      "100%|███████████████████████████████████████| 899/899 [00:06<00:00, 132.60it/s]\n",
      "100%|█████████████████████████████████████████| 82/82 [00:00<00:00, 607.99it/s]\n",
      "100%|███████████████████████████████████████| 899/899 [00:06<00:00, 132.43it/s]\n",
      "100%|█████████████████████████████████████████| 82/82 [00:00<00:00, 563.93it/s]\n",
      "100%|███████████████████████████████████████| 899/899 [00:06<00:00, 133.51it/s]\n",
      "100%|█████████████████████████████████████████| 82/82 [00:00<00:00, 575.50it/s]\n",
      "100%|███████████████████████████████████████| 899/899 [00:06<00:00, 132.56it/s]\n",
      "100%|█████████████████████████████████████████| 82/82 [00:00<00:00, 609.43it/s]\n",
      "100%|███████████████████████████████████████| 899/899 [00:06<00:00, 133.00it/s]\n",
      "100%|█████████████████████████████████████████| 82/82 [00:00<00:00, 591.58it/s]\n",
      "100%|███████████████████████████████████████| 899/899 [00:06<00:00, 132.21it/s]\n",
      "100%|█████████████████████████████████████████| 82/82 [00:00<00:00, 581.34it/s]\n",
      "100%|███████████████████████████████████████| 899/899 [00:06<00:00, 132.73it/s]\n",
      "100%|█████████████████████████████████████████| 82/82 [00:00<00:00, 561.04it/s]\n",
      "100%|███████████████████████████████████████| 899/899 [00:06<00:00, 132.59it/s]\n",
      "100%|█████████████████████████████████████████| 82/82 [00:00<00:00, 586.41it/s]\n",
      "100%|███████████████████████████████████████| 899/899 [00:07<00:00, 122.64it/s]\n",
      "100%|█████████████████████████████████████████| 82/82 [00:00<00:00, 453.06it/s]\n",
      "100%|███████████████████████████████████████| 899/899 [00:07<00:00, 126.91it/s]\n",
      "100%|█████████████████████████████████████████| 82/82 [00:00<00:00, 572.28it/s]\n",
      "100%|███████████████████████████████████████| 899/899 [00:06<00:00, 132.62it/s]\n",
      "100%|█████████████████████████████████████████| 82/82 [00:00<00:00, 596.87it/s]\n"
     ]
    },
    {
     "data": {
      "text/html": [
       "Waiting for W&B process to finish... <strong style=\"color:green\">(success).</strong>"
      ],
      "text/plain": [
       "<IPython.core.display.HTML object>"
      ]
     },
     "metadata": {},
     "output_type": "display_data"
    },
    {
     "data": {
      "text/html": [
       "<style>\n",
       "    table.wandb td:nth-child(1) { padding: 0 10px; text-align: left ; width: auto;} td:nth-child(2) {text-align: left ; width: 100%}\n",
       "    .wandb-row { display: flex; flex-direction: row; flex-wrap: wrap; justify-content: flex-start; width: 100% }\n",
       "    .wandb-col { display: flex; flex-direction: column; flex-basis: 100%; flex: 1; padding: 10px; }\n",
       "    </style>\n",
       "<div class=\"wandb-row\"><div class=\"wandb-col\"><h3>Run history:</h3><br/><table class=\"wandb\"><tr><td>accuracy</td><td>▅▁▃▃▅▃▂██▅▃▅▇▄▄▃▇▃▃█</td></tr><tr><td>balanced_accuracy</td><td>▆▆▇▆▆▅▄▅█▆▇▃▅▃▆▁▆▃▄▇</td></tr><tr><td>f1_weighted</td><td>▇▂▆▂▄▁▁▅██▁▅▄▃▂▃▅▂▃▅</td></tr><tr><td>precision</td><td>▆▆▆▇▄▄▄██▇▆▄▁▁▂▂▅▁▄▅</td></tr><tr><td>recall</td><td>▅▁▃▃▅▃▂██▅▃▅▇▄▄▃▇▃▃█</td></tr></table><br/></div><div class=\"wandb-col\"><h3>Run summary:</h3><br/><table class=\"wandb\"><tr><td>accuracy</td><td>0.27846</td></tr><tr><td>balanced_accuracy</td><td>0.1703</td></tr><tr><td>f1_weighted</td><td>0.20357</td></tr><tr><td>precision</td><td>0.20931</td></tr><tr><td>recall</td><td>0.27846</td></tr></table><br/></div></div>"
      ],
      "text/plain": [
       "<IPython.core.display.HTML object>"
      ]
     },
     "metadata": {},
     "output_type": "display_data"
    },
    {
     "data": {
      "text/html": [
       " View run <strong style=\"color:#cdcd00\">19_fcnn_baseline_6_large_81k_search_108_lr-0.0001_hidden1-64_hidden2-32_dr-0</strong> at: <a href='https://wandb.ai/totikos/model_fcnn_baseline_6_large_81k_search_108-hpo/runs/r9pl3r9t' target=\"_blank\">https://wandb.ai/totikos/model_fcnn_baseline_6_large_81k_search_108-hpo/runs/r9pl3r9t</a><br/> View job at <a href='https://wandb.ai/totikos/model_fcnn_baseline_6_large_81k_search_108-hpo/jobs/QXJ0aWZhY3RDb2xsZWN0aW9uOjEzOTc4MjU0OA==/version_details/v2' target=\"_blank\">https://wandb.ai/totikos/model_fcnn_baseline_6_large_81k_search_108-hpo/jobs/QXJ0aWZhY3RDb2xsZWN0aW9uOjEzOTc4MjU0OA==/version_details/v2</a><br/>Synced 5 W&B file(s), 0 media file(s), 0 artifact file(s) and 0 other file(s)"
      ],
      "text/plain": [
       "<IPython.core.display.HTML object>"
      ]
     },
     "metadata": {},
     "output_type": "display_data"
    },
    {
     "data": {
      "text/html": [
       "Find logs at: <code>C:\\Users\\nekta\\OneDrive\\Desktop\\botanic-emotion-recognition\\logs\\wandb\\run-20240214_212045-r9pl3r9t\\logs</code>"
      ],
      "text/plain": [
       "<IPython.core.display.HTML object>"
      ]
     },
     "metadata": {},
     "output_type": "display_data"
    },
    {
     "name": "stderr",
     "output_type": "stream",
     "text": [
      "[I 2024-02-14 21:23:20,807] Trial 19 finished with value: 0.17029866664370005 and parameters: {'dropout_rate': 0.0, 'hidden_dim_1': 64, 'hidden_dim_2': 32, 'lr': 0.0001}. Best is trial 6 with value: 0.17126425545780385.\n"
     ]
    },
    {
     "name": "stdout",
     "output_type": "stream",
     "text": [
      "{'hidden_dim_1': 16, 'hidden_dim_2': 32, 'dropout_rate': 0.1}\n"
     ]
    },
    {
     "data": {
      "text/html": [
       "wandb version 0.16.3 is available!  To upgrade, please run:\n",
       " $ pip install wandb --upgrade"
      ],
      "text/plain": [
       "<IPython.core.display.HTML object>"
      ]
     },
     "metadata": {},
     "output_type": "display_data"
    },
    {
     "data": {
      "text/html": [
       "Tracking run with wandb version 0.15.12"
      ],
      "text/plain": [
       "<IPython.core.display.HTML object>"
      ]
     },
     "metadata": {},
     "output_type": "display_data"
    },
    {
     "data": {
      "text/html": [
       "Run data is saved locally in <code>C:\\Users\\nekta\\OneDrive\\Desktop\\botanic-emotion-recognition\\logs\\wandb\\run-20240214_212320-ccdjhlyk</code>"
      ],
      "text/plain": [
       "<IPython.core.display.HTML object>"
      ]
     },
     "metadata": {},
     "output_type": "display_data"
    },
    {
     "data": {
      "text/html": [
       "Syncing run <strong><a href='https://wandb.ai/totikos/model_fcnn_baseline_6_large_81k_search_108-hpo/runs/ccdjhlyk' target=\"_blank\">20_fcnn_baseline_6_large_81k_search_108_lr-0.01_hidden1-16_hidden2-32_dr-0.1</a></strong> to <a href='https://wandb.ai/totikos/model_fcnn_baseline_6_large_81k_search_108-hpo' target=\"_blank\">Weights & Biases</a> (<a href='https://wandb.me/run' target=\"_blank\">docs</a>)<br/>"
      ],
      "text/plain": [
       "<IPython.core.display.HTML object>"
      ]
     },
     "metadata": {},
     "output_type": "display_data"
    },
    {
     "data": {
      "text/html": [
       " View project at <a href='https://wandb.ai/totikos/model_fcnn_baseline_6_large_81k_search_108-hpo' target=\"_blank\">https://wandb.ai/totikos/model_fcnn_baseline_6_large_81k_search_108-hpo</a>"
      ],
      "text/plain": [
       "<IPython.core.display.HTML object>"
      ]
     },
     "metadata": {},
     "output_type": "display_data"
    },
    {
     "data": {
      "text/html": [
       " View run at <a href='https://wandb.ai/totikos/model_fcnn_baseline_6_large_81k_search_108-hpo/runs/ccdjhlyk' target=\"_blank\">https://wandb.ai/totikos/model_fcnn_baseline_6_large_81k_search_108-hpo/runs/ccdjhlyk</a>"
      ],
      "text/plain": [
       "<IPython.core.display.HTML object>"
      ]
     },
     "metadata": {},
     "output_type": "display_data"
    },
    {
     "name": "stderr",
     "output_type": "stream",
     "text": [
      "100%|███████████████████████████████████████| 899/899 [00:02<00:00, 351.91it/s]\n",
      "100%|█████████████████████████████████████████| 82/82 [00:00<00:00, 855.48it/s]\n",
      "[I 2024-02-14 21:23:25,079] Trial 20 pruned. \n"
     ]
    },
    {
     "name": "stdout",
     "output_type": "stream",
     "text": [
      "{'hidden_dim_1': 64, 'hidden_dim_2': 32, 'dropout_rate': 0}\n"
     ]
    },
    {
     "data": {
      "text/html": [
       "Finishing last run (ID:ccdjhlyk) before initializing another..."
      ],
      "text/plain": [
       "<IPython.core.display.HTML object>"
      ]
     },
     "metadata": {},
     "output_type": "display_data"
    },
    {
     "data": {
      "text/html": [
       "Waiting for W&B process to finish... <strong style=\"color:green\">(success).</strong>"
      ],
      "text/plain": [
       "<IPython.core.display.HTML object>"
      ]
     },
     "metadata": {},
     "output_type": "display_data"
    },
    {
     "data": {
      "text/html": [
       " View run <strong style=\"color:#cdcd00\">20_fcnn_baseline_6_large_81k_search_108_lr-0.01_hidden1-16_hidden2-32_dr-0.1</strong> at: <a href='https://wandb.ai/totikos/model_fcnn_baseline_6_large_81k_search_108-hpo/runs/ccdjhlyk' target=\"_blank\">https://wandb.ai/totikos/model_fcnn_baseline_6_large_81k_search_108-hpo/runs/ccdjhlyk</a><br/> View job at <a href='https://wandb.ai/totikos/model_fcnn_baseline_6_large_81k_search_108-hpo/jobs/QXJ0aWZhY3RDb2xsZWN0aW9uOjEzOTc4MjU0OA==/version_details/v1' target=\"_blank\">https://wandb.ai/totikos/model_fcnn_baseline_6_large_81k_search_108-hpo/jobs/QXJ0aWZhY3RDb2xsZWN0aW9uOjEzOTc4MjU0OA==/version_details/v1</a><br/>Synced 5 W&B file(s), 0 media file(s), 0 artifact file(s) and 0 other file(s)"
      ],
      "text/plain": [
       "<IPython.core.display.HTML object>"
      ]
     },
     "metadata": {},
     "output_type": "display_data"
    },
    {
     "data": {
      "text/html": [
       "Find logs at: <code>C:\\Users\\nekta\\OneDrive\\Desktop\\botanic-emotion-recognition\\logs\\wandb\\run-20240214_212320-ccdjhlyk\\logs</code>"
      ],
      "text/plain": [
       "<IPython.core.display.HTML object>"
      ]
     },
     "metadata": {},
     "output_type": "display_data"
    },
    {
     "data": {
      "text/html": [
       "Successfully finished last run (ID:ccdjhlyk). Initializing new run:<br/>"
      ],
      "text/plain": [
       "<IPython.core.display.HTML object>"
      ]
     },
     "metadata": {},
     "output_type": "display_data"
    },
    {
     "data": {
      "text/html": [
       "wandb version 0.16.3 is available!  To upgrade, please run:\n",
       " $ pip install wandb --upgrade"
      ],
      "text/plain": [
       "<IPython.core.display.HTML object>"
      ]
     },
     "metadata": {},
     "output_type": "display_data"
    },
    {
     "data": {
      "text/html": [
       "Tracking run with wandb version 0.15.12"
      ],
      "text/plain": [
       "<IPython.core.display.HTML object>"
      ]
     },
     "metadata": {},
     "output_type": "display_data"
    },
    {
     "data": {
      "text/html": [
       "Run data is saved locally in <code>C:\\Users\\nekta\\OneDrive\\Desktop\\botanic-emotion-recognition\\logs\\wandb\\run-20240214_212325-036bgq6i</code>"
      ],
      "text/plain": [
       "<IPython.core.display.HTML object>"
      ]
     },
     "metadata": {},
     "output_type": "display_data"
    },
    {
     "data": {
      "text/html": [
       "Syncing run <strong><a href='https://wandb.ai/totikos/model_fcnn_baseline_6_large_81k_search_108-hpo/runs/036bgq6i' target=\"_blank\">21_fcnn_baseline_6_large_81k_search_108_lr-0.001_hidden1-64_hidden2-32_dr-0</a></strong> to <a href='https://wandb.ai/totikos/model_fcnn_baseline_6_large_81k_search_108-hpo' target=\"_blank\">Weights & Biases</a> (<a href='https://wandb.me/run' target=\"_blank\">docs</a>)<br/>"
      ],
      "text/plain": [
       "<IPython.core.display.HTML object>"
      ]
     },
     "metadata": {},
     "output_type": "display_data"
    },
    {
     "data": {
      "text/html": [
       " View project at <a href='https://wandb.ai/totikos/model_fcnn_baseline_6_large_81k_search_108-hpo' target=\"_blank\">https://wandb.ai/totikos/model_fcnn_baseline_6_large_81k_search_108-hpo</a>"
      ],
      "text/plain": [
       "<IPython.core.display.HTML object>"
      ]
     },
     "metadata": {},
     "output_type": "display_data"
    },
    {
     "data": {
      "text/html": [
       " View run at <a href='https://wandb.ai/totikos/model_fcnn_baseline_6_large_81k_search_108-hpo/runs/036bgq6i' target=\"_blank\">https://wandb.ai/totikos/model_fcnn_baseline_6_large_81k_search_108-hpo/runs/036bgq6i</a>"
      ],
      "text/plain": [
       "<IPython.core.display.HTML object>"
      ]
     },
     "metadata": {},
     "output_type": "display_data"
    },
    {
     "name": "stderr",
     "output_type": "stream",
     "text": [
      "100%|███████████████████████████████████████| 899/899 [00:05<00:00, 151.36it/s]\n",
      "100%|█████████████████████████████████████████| 82/82 [00:00<00:00, 683.12it/s]\n",
      "[I 2024-02-14 21:23:38,097] Trial 21 pruned. \n"
     ]
    },
    {
     "name": "stdout",
     "output_type": "stream",
     "text": [
      "{'hidden_dim_1': 64, 'hidden_dim_2': 32, 'dropout_rate': 0.1}\n"
     ]
    },
    {
     "data": {
      "text/html": [
       "Finishing last run (ID:036bgq6i) before initializing another..."
      ],
      "text/plain": [
       "<IPython.core.display.HTML object>"
      ]
     },
     "metadata": {},
     "output_type": "display_data"
    },
    {
     "data": {
      "text/html": [
       "Waiting for W&B process to finish... <strong style=\"color:green\">(success).</strong>"
      ],
      "text/plain": [
       "<IPython.core.display.HTML object>"
      ]
     },
     "metadata": {},
     "output_type": "display_data"
    },
    {
     "data": {
      "text/html": [
       " View run <strong style=\"color:#cdcd00\">21_fcnn_baseline_6_large_81k_search_108_lr-0.001_hidden1-64_hidden2-32_dr-0</strong> at: <a href='https://wandb.ai/totikos/model_fcnn_baseline_6_large_81k_search_108-hpo/runs/036bgq6i' target=\"_blank\">https://wandb.ai/totikos/model_fcnn_baseline_6_large_81k_search_108-hpo/runs/036bgq6i</a><br/> View job at <a href='https://wandb.ai/totikos/model_fcnn_baseline_6_large_81k_search_108-hpo/jobs/QXJ0aWZhY3RDb2xsZWN0aW9uOjEzOTc4MjU0OA==/version_details/v1' target=\"_blank\">https://wandb.ai/totikos/model_fcnn_baseline_6_large_81k_search_108-hpo/jobs/QXJ0aWZhY3RDb2xsZWN0aW9uOjEzOTc4MjU0OA==/version_details/v1</a><br/>Synced 5 W&B file(s), 0 media file(s), 0 artifact file(s) and 0 other file(s)"
      ],
      "text/plain": [
       "<IPython.core.display.HTML object>"
      ]
     },
     "metadata": {},
     "output_type": "display_data"
    },
    {
     "data": {
      "text/html": [
       "Find logs at: <code>C:\\Users\\nekta\\OneDrive\\Desktop\\botanic-emotion-recognition\\logs\\wandb\\run-20240214_212325-036bgq6i\\logs</code>"
      ],
      "text/plain": [
       "<IPython.core.display.HTML object>"
      ]
     },
     "metadata": {},
     "output_type": "display_data"
    },
    {
     "data": {
      "text/html": [
       "Successfully finished last run (ID:036bgq6i). Initializing new run:<br/>"
      ],
      "text/plain": [
       "<IPython.core.display.HTML object>"
      ]
     },
     "metadata": {},
     "output_type": "display_data"
    },
    {
     "data": {
      "text/html": [
       "wandb version 0.16.3 is available!  To upgrade, please run:\n",
       " $ pip install wandb --upgrade"
      ],
      "text/plain": [
       "<IPython.core.display.HTML object>"
      ]
     },
     "metadata": {},
     "output_type": "display_data"
    },
    {
     "data": {
      "text/html": [
       "Tracking run with wandb version 0.15.12"
      ],
      "text/plain": [
       "<IPython.core.display.HTML object>"
      ]
     },
     "metadata": {},
     "output_type": "display_data"
    },
    {
     "data": {
      "text/html": [
       "Run data is saved locally in <code>C:\\Users\\nekta\\OneDrive\\Desktop\\botanic-emotion-recognition\\logs\\wandb\\run-20240214_212338-dmunznit</code>"
      ],
      "text/plain": [
       "<IPython.core.display.HTML object>"
      ]
     },
     "metadata": {},
     "output_type": "display_data"
    },
    {
     "data": {
      "text/html": [
       "Syncing run <strong><a href='https://wandb.ai/totikos/model_fcnn_baseline_6_large_81k_search_108-hpo/runs/dmunznit' target=\"_blank\">22_fcnn_baseline_6_large_81k_search_108_lr-0.001_hidden1-64_hidden2-32_dr-0.1</a></strong> to <a href='https://wandb.ai/totikos/model_fcnn_baseline_6_large_81k_search_108-hpo' target=\"_blank\">Weights & Biases</a> (<a href='https://wandb.me/run' target=\"_blank\">docs</a>)<br/>"
      ],
      "text/plain": [
       "<IPython.core.display.HTML object>"
      ]
     },
     "metadata": {},
     "output_type": "display_data"
    },
    {
     "data": {
      "text/html": [
       " View project at <a href='https://wandb.ai/totikos/model_fcnn_baseline_6_large_81k_search_108-hpo' target=\"_blank\">https://wandb.ai/totikos/model_fcnn_baseline_6_large_81k_search_108-hpo</a>"
      ],
      "text/plain": [
       "<IPython.core.display.HTML object>"
      ]
     },
     "metadata": {},
     "output_type": "display_data"
    },
    {
     "data": {
      "text/html": [
       " View run at <a href='https://wandb.ai/totikos/model_fcnn_baseline_6_large_81k_search_108-hpo/runs/dmunznit' target=\"_blank\">https://wandb.ai/totikos/model_fcnn_baseline_6_large_81k_search_108-hpo/runs/dmunznit</a>"
      ],
      "text/plain": [
       "<IPython.core.display.HTML object>"
      ]
     },
     "metadata": {},
     "output_type": "display_data"
    },
    {
     "name": "stderr",
     "output_type": "stream",
     "text": [
      "100%|███████████████████████████████████████| 899/899 [00:05<00:00, 150.34it/s]\n",
      "100%|█████████████████████████████████████████| 82/82 [00:00<00:00, 655.73it/s]\n",
      "100%|███████████████████████████████████████| 899/899 [00:06<00:00, 135.08it/s]\n",
      "100%|█████████████████████████████████████████| 82/82 [00:00<00:00, 586.27it/s]\n",
      "100%|███████████████████████████████████████| 899/899 [00:06<00:00, 129.54it/s]\n",
      "100%|█████████████████████████████████████████| 82/82 [00:00<00:00, 583.80it/s]\n",
      "100%|███████████████████████████████████████| 899/899 [00:06<00:00, 130.01it/s]\n",
      "100%|█████████████████████████████████████████| 82/82 [00:00<00:00, 629.46it/s]\n",
      "100%|███████████████████████████████████████| 899/899 [00:07<00:00, 123.46it/s]\n",
      "100%|█████████████████████████████████████████| 82/82 [00:00<00:00, 580.47it/s]\n",
      "100%|███████████████████████████████████████| 899/899 [00:06<00:00, 130.85it/s]\n",
      "100%|█████████████████████████████████████████| 82/82 [00:00<00:00, 579.38it/s]\n",
      "100%|███████████████████████████████████████| 899/899 [00:07<00:00, 126.70it/s]\n",
      "100%|█████████████████████████████████████████| 82/82 [00:00<00:00, 512.03it/s]\n",
      "100%|███████████████████████████████████████| 899/899 [00:07<00:00, 122.72it/s]\n",
      "100%|█████████████████████████████████████████| 82/82 [00:00<00:00, 536.63it/s]\n",
      "100%|███████████████████████████████████████| 899/899 [00:06<00:00, 129.67it/s]\n",
      "100%|█████████████████████████████████████████| 82/82 [00:00<00:00, 575.89it/s]\n",
      "100%|███████████████████████████████████████| 899/899 [00:06<00:00, 130.01it/s]\n",
      "100%|█████████████████████████████████████████| 82/82 [00:00<00:00, 561.05it/s]\n",
      "100%|███████████████████████████████████████| 899/899 [00:06<00:00, 129.48it/s]\n",
      "100%|█████████████████████████████████████████| 82/82 [00:00<00:00, 614.12it/s]\n",
      "100%|███████████████████████████████████████| 899/899 [00:06<00:00, 130.15it/s]\n",
      "100%|█████████████████████████████████████████| 82/82 [00:00<00:00, 589.21it/s]\n",
      "100%|███████████████████████████████████████| 899/899 [00:06<00:00, 129.85it/s]\n",
      "100%|█████████████████████████████████████████| 82/82 [00:00<00:00, 580.74it/s]\n",
      "100%|███████████████████████████████████████| 899/899 [00:06<00:00, 130.79it/s]\n",
      "100%|█████████████████████████████████████████| 82/82 [00:00<00:00, 580.49it/s]\n",
      "100%|███████████████████████████████████████| 899/899 [00:06<00:00, 130.39it/s]\n",
      "100%|█████████████████████████████████████████| 82/82 [00:00<00:00, 533.54it/s]\n",
      "100%|████████████████████████████████████████| 899/899 [00:10<00:00, 87.87it/s]\n",
      "100%|█████████████████████████████████████████| 82/82 [00:00<00:00, 586.17it/s]\n",
      "100%|███████████████████████████████████████| 899/899 [00:07<00:00, 123.66it/s]\n",
      "100%|█████████████████████████████████████████| 82/82 [00:00<00:00, 523.77it/s]\n",
      "100%|███████████████████████████████████████| 899/899 [00:08<00:00, 101.13it/s]\n",
      "100%|█████████████████████████████████████████| 82/82 [00:00<00:00, 492.68it/s]\n",
      "100%|███████████████████████████████████████| 899/899 [00:08<00:00, 103.58it/s]\n",
      "100%|█████████████████████████████████████████| 82/82 [00:00<00:00, 510.58it/s]\n",
      "100%|███████████████████████████████████████| 899/899 [00:07<00:00, 119.51it/s]\n",
      "100%|█████████████████████████████████████████| 82/82 [00:00<00:00, 525.36it/s]\n"
     ]
    },
    {
     "data": {
      "text/html": [
       "Waiting for W&B process to finish... <strong style=\"color:green\">(success).</strong>"
      ],
      "text/plain": [
       "<IPython.core.display.HTML object>"
      ]
     },
     "metadata": {},
     "output_type": "display_data"
    },
    {
     "data": {
      "text/html": [
       "<style>\n",
       "    table.wandb td:nth-child(1) { padding: 0 10px; text-align: left ; width: auto;} td:nth-child(2) {text-align: left ; width: 100%}\n",
       "    .wandb-row { display: flex; flex-direction: row; flex-wrap: wrap; justify-content: flex-start; width: 100% }\n",
       "    .wandb-col { display: flex; flex-direction: column; flex-basis: 100%; flex: 1; padding: 10px; }\n",
       "    </style>\n",
       "<div class=\"wandb-row\"><div class=\"wandb-col\"><h3>Run history:</h3><br/><table class=\"wandb\"><tr><td>accuracy</td><td>▁▁▁▂▅▆▄▇██▆▅▇▅▆▆▆▆▆▅</td></tr><tr><td>balanced_accuracy</td><td>▄▅▁▆▅▄█▃▄▄▇▄▅▅▂▅▅▆▄▄</td></tr><tr><td>f1_weighted</td><td>▁▃▆▆██▄▅▄▅████▇█████</td></tr><tr><td>precision</td><td>▄▆▅▆▃▅▅█▁▄▃▃▃▃▃▃▃▃▆▃</td></tr><tr><td>recall</td><td>▁▁▁▂▅▆▄▇██▆▅▇▅▆▆▆▆▆▅</td></tr></table><br/></div><div class=\"wandb-col\"><h3>Run summary:</h3><br/><table class=\"wandb\"><tr><td>accuracy</td><td>0.28269</td></tr><tr><td>balanced_accuracy</td><td>0.16652</td></tr><tr><td>f1_weighted</td><td>0.20197</td></tr><tr><td>precision</td><td>0.1571</td></tr><tr><td>recall</td><td>0.28269</td></tr></table><br/></div></div>"
      ],
      "text/plain": [
       "<IPython.core.display.HTML object>"
      ]
     },
     "metadata": {},
     "output_type": "display_data"
    },
    {
     "data": {
      "text/html": [
       " View run <strong style=\"color:#cdcd00\">22_fcnn_baseline_6_large_81k_search_108_lr-0.001_hidden1-64_hidden2-32_dr-0.1</strong> at: <a href='https://wandb.ai/totikos/model_fcnn_baseline_6_large_81k_search_108-hpo/runs/dmunznit' target=\"_blank\">https://wandb.ai/totikos/model_fcnn_baseline_6_large_81k_search_108-hpo/runs/dmunznit</a><br/> View job at <a href='https://wandb.ai/totikos/model_fcnn_baseline_6_large_81k_search_108-hpo/jobs/QXJ0aWZhY3RDb2xsZWN0aW9uOjEzOTc4MjU0OA==/version_details/v2' target=\"_blank\">https://wandb.ai/totikos/model_fcnn_baseline_6_large_81k_search_108-hpo/jobs/QXJ0aWZhY3RDb2xsZWN0aW9uOjEzOTc4MjU0OA==/version_details/v2</a><br/>Synced 5 W&B file(s), 0 media file(s), 0 artifact file(s) and 0 other file(s)"
      ],
      "text/plain": [
       "<IPython.core.display.HTML object>"
      ]
     },
     "metadata": {},
     "output_type": "display_data"
    },
    {
     "data": {
      "text/html": [
       "Find logs at: <code>C:\\Users\\nekta\\OneDrive\\Desktop\\botanic-emotion-recognition\\logs\\wandb\\run-20240214_212338-dmunznit\\logs</code>"
      ],
      "text/plain": [
       "<IPython.core.display.HTML object>"
      ]
     },
     "metadata": {},
     "output_type": "display_data"
    },
    {
     "name": "stderr",
     "output_type": "stream",
     "text": [
      "[I 2024-02-14 21:26:23,899] Trial 22 finished with value: 0.16652003910068425 and parameters: {'dropout_rate': 0.1, 'hidden_dim_1': 64, 'hidden_dim_2': 32, 'lr': 0.001}. Best is trial 6 with value: 0.17126425545780385.\n"
     ]
    },
    {
     "name": "stdout",
     "output_type": "stream",
     "text": [
      "{'hidden_dim_1': 16, 'hidden_dim_2': 16, 'dropout_rate': 0.1}\n"
     ]
    },
    {
     "data": {
      "text/html": [
       "wandb version 0.16.3 is available!  To upgrade, please run:\n",
       " $ pip install wandb --upgrade"
      ],
      "text/plain": [
       "<IPython.core.display.HTML object>"
      ]
     },
     "metadata": {},
     "output_type": "display_data"
    },
    {
     "data": {
      "text/html": [
       "Tracking run with wandb version 0.15.12"
      ],
      "text/plain": [
       "<IPython.core.display.HTML object>"
      ]
     },
     "metadata": {},
     "output_type": "display_data"
    },
    {
     "data": {
      "text/html": [
       "Run data is saved locally in <code>C:\\Users\\nekta\\OneDrive\\Desktop\\botanic-emotion-recognition\\logs\\wandb\\run-20240214_212623-jpb5l2mf</code>"
      ],
      "text/plain": [
       "<IPython.core.display.HTML object>"
      ]
     },
     "metadata": {},
     "output_type": "display_data"
    },
    {
     "data": {
      "text/html": [
       "Syncing run <strong><a href='https://wandb.ai/totikos/model_fcnn_baseline_6_large_81k_search_108-hpo/runs/jpb5l2mf' target=\"_blank\">23_fcnn_baseline_6_large_81k_search_108_lr-0.01_hidden1-16_hidden2-16_dr-0.1</a></strong> to <a href='https://wandb.ai/totikos/model_fcnn_baseline_6_large_81k_search_108-hpo' target=\"_blank\">Weights & Biases</a> (<a href='https://wandb.me/run' target=\"_blank\">docs</a>)<br/>"
      ],
      "text/plain": [
       "<IPython.core.display.HTML object>"
      ]
     },
     "metadata": {},
     "output_type": "display_data"
    },
    {
     "data": {
      "text/html": [
       " View project at <a href='https://wandb.ai/totikos/model_fcnn_baseline_6_large_81k_search_108-hpo' target=\"_blank\">https://wandb.ai/totikos/model_fcnn_baseline_6_large_81k_search_108-hpo</a>"
      ],
      "text/plain": [
       "<IPython.core.display.HTML object>"
      ]
     },
     "metadata": {},
     "output_type": "display_data"
    },
    {
     "data": {
      "text/html": [
       " View run at <a href='https://wandb.ai/totikos/model_fcnn_baseline_6_large_81k_search_108-hpo/runs/jpb5l2mf' target=\"_blank\">https://wandb.ai/totikos/model_fcnn_baseline_6_large_81k_search_108-hpo/runs/jpb5l2mf</a>"
      ],
      "text/plain": [
       "<IPython.core.display.HTML object>"
      ]
     },
     "metadata": {},
     "output_type": "display_data"
    },
    {
     "name": "stderr",
     "output_type": "stream",
     "text": [
      "100%|███████████████████████████████████████| 899/899 [00:02<00:00, 346.34it/s]\n",
      "100%|█████████████████████████████████████████| 82/82 [00:00<00:00, 828.82it/s]\n",
      "[I 2024-02-14 21:26:28,189] Trial 23 pruned. \n"
     ]
    },
    {
     "name": "stdout",
     "output_type": "stream",
     "text": [
      "{'hidden_dim_1': 128, 'hidden_dim_2': 32, 'dropout_rate': 0.1}\n"
     ]
    },
    {
     "data": {
      "text/html": [
       "Finishing last run (ID:jpb5l2mf) before initializing another..."
      ],
      "text/plain": [
       "<IPython.core.display.HTML object>"
      ]
     },
     "metadata": {},
     "output_type": "display_data"
    },
    {
     "data": {
      "text/html": [
       "Waiting for W&B process to finish... <strong style=\"color:green\">(success).</strong>"
      ],
      "text/plain": [
       "<IPython.core.display.HTML object>"
      ]
     },
     "metadata": {},
     "output_type": "display_data"
    },
    {
     "data": {
      "text/html": [
       " View run <strong style=\"color:#cdcd00\">23_fcnn_baseline_6_large_81k_search_108_lr-0.01_hidden1-16_hidden2-16_dr-0.1</strong> at: <a href='https://wandb.ai/totikos/model_fcnn_baseline_6_large_81k_search_108-hpo/runs/jpb5l2mf' target=\"_blank\">https://wandb.ai/totikos/model_fcnn_baseline_6_large_81k_search_108-hpo/runs/jpb5l2mf</a><br/> View job at <a href='https://wandb.ai/totikos/model_fcnn_baseline_6_large_81k_search_108-hpo/jobs/QXJ0aWZhY3RDb2xsZWN0aW9uOjEzOTc4MjU0OA==/version_details/v1' target=\"_blank\">https://wandb.ai/totikos/model_fcnn_baseline_6_large_81k_search_108-hpo/jobs/QXJ0aWZhY3RDb2xsZWN0aW9uOjEzOTc4MjU0OA==/version_details/v1</a><br/>Synced 5 W&B file(s), 0 media file(s), 0 artifact file(s) and 0 other file(s)"
      ],
      "text/plain": [
       "<IPython.core.display.HTML object>"
      ]
     },
     "metadata": {},
     "output_type": "display_data"
    },
    {
     "data": {
      "text/html": [
       "Find logs at: <code>C:\\Users\\nekta\\OneDrive\\Desktop\\botanic-emotion-recognition\\logs\\wandb\\run-20240214_212623-jpb5l2mf\\logs</code>"
      ],
      "text/plain": [
       "<IPython.core.display.HTML object>"
      ]
     },
     "metadata": {},
     "output_type": "display_data"
    },
    {
     "data": {
      "text/html": [
       "Successfully finished last run (ID:jpb5l2mf). Initializing new run:<br/>"
      ],
      "text/plain": [
       "<IPython.core.display.HTML object>"
      ]
     },
     "metadata": {},
     "output_type": "display_data"
    },
    {
     "data": {
      "text/html": [
       "wandb version 0.16.3 is available!  To upgrade, please run:\n",
       " $ pip install wandb --upgrade"
      ],
      "text/plain": [
       "<IPython.core.display.HTML object>"
      ]
     },
     "metadata": {},
     "output_type": "display_data"
    },
    {
     "data": {
      "text/html": [
       "Tracking run with wandb version 0.15.12"
      ],
      "text/plain": [
       "<IPython.core.display.HTML object>"
      ]
     },
     "metadata": {},
     "output_type": "display_data"
    },
    {
     "data": {
      "text/html": [
       "Run data is saved locally in <code>C:\\Users\\nekta\\OneDrive\\Desktop\\botanic-emotion-recognition\\logs\\wandb\\run-20240214_212628-jjdp0x1y</code>"
      ],
      "text/plain": [
       "<IPython.core.display.HTML object>"
      ]
     },
     "metadata": {},
     "output_type": "display_data"
    },
    {
     "data": {
      "text/html": [
       "Syncing run <strong><a href='https://wandb.ai/totikos/model_fcnn_baseline_6_large_81k_search_108-hpo/runs/jjdp0x1y' target=\"_blank\">24_fcnn_baseline_6_large_81k_search_108_lr-0.0001_hidden1-128_hidden2-32_dr-0.1</a></strong> to <a href='https://wandb.ai/totikos/model_fcnn_baseline_6_large_81k_search_108-hpo' target=\"_blank\">Weights & Biases</a> (<a href='https://wandb.me/run' target=\"_blank\">docs</a>)<br/>"
      ],
      "text/plain": [
       "<IPython.core.display.HTML object>"
      ]
     },
     "metadata": {},
     "output_type": "display_data"
    },
    {
     "data": {
      "text/html": [
       " View project at <a href='https://wandb.ai/totikos/model_fcnn_baseline_6_large_81k_search_108-hpo' target=\"_blank\">https://wandb.ai/totikos/model_fcnn_baseline_6_large_81k_search_108-hpo</a>"
      ],
      "text/plain": [
       "<IPython.core.display.HTML object>"
      ]
     },
     "metadata": {},
     "output_type": "display_data"
    },
    {
     "data": {
      "text/html": [
       " View run at <a href='https://wandb.ai/totikos/model_fcnn_baseline_6_large_81k_search_108-hpo/runs/jjdp0x1y' target=\"_blank\">https://wandb.ai/totikos/model_fcnn_baseline_6_large_81k_search_108-hpo/runs/jjdp0x1y</a>"
      ],
      "text/plain": [
       "<IPython.core.display.HTML object>"
      ]
     },
     "metadata": {},
     "output_type": "display_data"
    },
    {
     "name": "stderr",
     "output_type": "stream",
     "text": [
      "100%|████████████████████████████████████████| 899/899 [00:10<00:00, 83.05it/s]\n",
      "100%|█████████████████████████████████████████| 82/82 [00:00<00:00, 438.07it/s]\n",
      "100%|████████████████████████████████████████| 899/899 [00:11<00:00, 76.50it/s]\n",
      "100%|█████████████████████████████████████████| 82/82 [00:00<00:00, 437.22it/s]\n",
      "100%|████████████████████████████████████████| 899/899 [00:11<00:00, 78.40it/s]\n",
      "100%|█████████████████████████████████████████| 82/82 [00:00<00:00, 454.79it/s]\n",
      "100%|████████████████████████████████████████| 899/899 [00:11<00:00, 78.01it/s]\n",
      "100%|█████████████████████████████████████████| 82/82 [00:00<00:00, 429.09it/s]\n",
      "100%|████████████████████████████████████████| 899/899 [00:14<00:00, 63.03it/s]\n",
      "100%|█████████████████████████████████████████| 82/82 [00:00<00:00, 335.45it/s]\n",
      "100%|████████████████████████████████████████| 899/899 [00:12<00:00, 72.89it/s]\n",
      "100%|█████████████████████████████████████████| 82/82 [00:00<00:00, 445.19it/s]\n",
      "100%|████████████████████████████████████████| 899/899 [00:11<00:00, 77.57it/s]\n",
      "100%|█████████████████████████████████████████| 82/82 [00:00<00:00, 426.76it/s]\n",
      "100%|████████████████████████████████████████| 899/899 [00:11<00:00, 75.27it/s]\n",
      "100%|█████████████████████████████████████████| 82/82 [00:00<00:00, 436.58it/s]\n",
      "100%|████████████████████████████████████████| 899/899 [00:12<00:00, 74.45it/s]\n",
      "100%|█████████████████████████████████████████| 82/82 [00:00<00:00, 362.14it/s]\n",
      "100%|████████████████████████████████████████| 899/899 [00:11<00:00, 76.72it/s]\n",
      "100%|█████████████████████████████████████████| 82/82 [00:00<00:00, 437.91it/s]\n",
      "100%|████████████████████████████████████████| 899/899 [00:11<00:00, 77.49it/s]\n",
      "100%|█████████████████████████████████████████| 82/82 [00:00<00:00, 452.03it/s]\n",
      "100%|████████████████████████████████████████| 899/899 [00:12<00:00, 74.64it/s]\n",
      "100%|█████████████████████████████████████████| 82/82 [00:00<00:00, 420.54it/s]\n",
      "100%|████████████████████████████████████████| 899/899 [00:11<00:00, 77.60it/s]\n",
      "100%|█████████████████████████████████████████| 82/82 [00:00<00:00, 423.09it/s]\n",
      "100%|████████████████████████████████████████| 899/899 [00:11<00:00, 75.65it/s]\n",
      "100%|█████████████████████████████████████████| 82/82 [00:00<00:00, 447.94it/s]\n",
      "100%|████████████████████████████████████████| 899/899 [00:11<00:00, 76.87it/s]\n",
      "100%|█████████████████████████████████████████| 82/82 [00:00<00:00, 436.86it/s]\n",
      "100%|████████████████████████████████████████| 899/899 [00:11<00:00, 77.73it/s]\n",
      "100%|█████████████████████████████████████████| 82/82 [00:00<00:00, 426.39it/s]\n",
      "100%|████████████████████████████████████████| 899/899 [00:11<00:00, 75.59it/s]\n",
      "100%|█████████████████████████████████████████| 82/82 [00:00<00:00, 443.09it/s]\n",
      "100%|████████████████████████████████████████| 899/899 [00:11<00:00, 76.96it/s]\n",
      "100%|█████████████████████████████████████████| 82/82 [00:00<00:00, 435.11it/s]\n",
      "100%|████████████████████████████████████████| 899/899 [00:11<00:00, 77.09it/s]\n",
      "100%|█████████████████████████████████████████| 82/82 [00:00<00:00, 419.41it/s]\n",
      "100%|████████████████████████████████████████| 899/899 [00:11<00:00, 77.16it/s]\n",
      "100%|█████████████████████████████████████████| 82/82 [00:00<00:00, 431.45it/s]\n"
     ]
    },
    {
     "data": {
      "text/html": [
       "Waiting for W&B process to finish... <strong style=\"color:green\">(success).</strong>"
      ],
      "text/plain": [
       "<IPython.core.display.HTML object>"
      ]
     },
     "metadata": {},
     "output_type": "display_data"
    },
    {
     "data": {
      "text/html": [
       "<style>\n",
       "    table.wandb td:nth-child(1) { padding: 0 10px; text-align: left ; width: auto;} td:nth-child(2) {text-align: left ; width: 100%}\n",
       "    .wandb-row { display: flex; flex-direction: row; flex-wrap: wrap; justify-content: flex-start; width: 100% }\n",
       "    .wandb-col { display: flex; flex-direction: column; flex-basis: 100%; flex: 1; padding: 10px; }\n",
       "    </style>\n",
       "<div class=\"wandb-row\"><div class=\"wandb-col\"><h3>Run history:</h3><br/><table class=\"wandb\"><tr><td>accuracy</td><td>▂▁▁▁▂▃▁▂▂▅▄▄▄▆▃▄▅██▃</td></tr><tr><td>balanced_accuracy</td><td>▆▄▄▃▄▅▁▄▄▂▁▇▂▆▂▅▆██▂</td></tr><tr><td>f1_weighted</td><td>▁▁▁▂▂▃▃▂▂▅▅▅▅▅▄▅▇▆█▄</td></tr><tr><td>precision</td><td>▁▁▄█▁▄▅▅▃▃▂▃▃▄█▄▃▄▄▃</td></tr><tr><td>recall</td><td>▂▁▁▁▂▃▁▂▂▅▄▄▄▆▃▄▅██▃</td></tr></table><br/></div><div class=\"wandb-col\"><h3>Run summary:</h3><br/><table class=\"wandb\"><tr><td>accuracy</td><td>0.24346</td></tr><tr><td>balanced_accuracy</td><td>0.16293</td></tr><tr><td>f1_weighted</td><td>0.15201</td></tr><tr><td>precision</td><td>0.19991</td></tr><tr><td>recall</td><td>0.24346</td></tr></table><br/></div></div>"
      ],
      "text/plain": [
       "<IPython.core.display.HTML object>"
      ]
     },
     "metadata": {},
     "output_type": "display_data"
    },
    {
     "data": {
      "text/html": [
       " View run <strong style=\"color:#cdcd00\">24_fcnn_baseline_6_large_81k_search_108_lr-0.0001_hidden1-128_hidden2-32_dr-0.1</strong> at: <a href='https://wandb.ai/totikos/model_fcnn_baseline_6_large_81k_search_108-hpo/runs/jjdp0x1y' target=\"_blank\">https://wandb.ai/totikos/model_fcnn_baseline_6_large_81k_search_108-hpo/runs/jjdp0x1y</a><br/> View job at <a href='https://wandb.ai/totikos/model_fcnn_baseline_6_large_81k_search_108-hpo/jobs/QXJ0aWZhY3RDb2xsZWN0aW9uOjEzOTc4MjU0OA==/version_details/v2' target=\"_blank\">https://wandb.ai/totikos/model_fcnn_baseline_6_large_81k_search_108-hpo/jobs/QXJ0aWZhY3RDb2xsZWN0aW9uOjEzOTc4MjU0OA==/version_details/v2</a><br/>Synced 5 W&B file(s), 0 media file(s), 0 artifact file(s) and 0 other file(s)"
      ],
      "text/plain": [
       "<IPython.core.display.HTML object>"
      ]
     },
     "metadata": {},
     "output_type": "display_data"
    },
    {
     "data": {
      "text/html": [
       "Find logs at: <code>C:\\Users\\nekta\\OneDrive\\Desktop\\botanic-emotion-recognition\\logs\\wandb\\run-20240214_212628-jjdp0x1y\\logs</code>"
      ],
      "text/plain": [
       "<IPython.core.display.HTML object>"
      ]
     },
     "metadata": {},
     "output_type": "display_data"
    },
    {
     "name": "stderr",
     "output_type": "stream",
     "text": [
      "[I 2024-02-14 21:30:41,182] Trial 24 finished with value: 0.1629308934161854 and parameters: {'dropout_rate': 0.1, 'hidden_dim_1': 128, 'hidden_dim_2': 32, 'lr': 0.0001}. Best is trial 6 with value: 0.17126425545780385.\n"
     ]
    },
    {
     "name": "stdout",
     "output_type": "stream",
     "text": [
      "{'hidden_dim_1': 32, 'hidden_dim_2': 16, 'dropout_rate': 0.2}\n"
     ]
    },
    {
     "data": {
      "text/html": [
       "wandb version 0.16.3 is available!  To upgrade, please run:\n",
       " $ pip install wandb --upgrade"
      ],
      "text/plain": [
       "<IPython.core.display.HTML object>"
      ]
     },
     "metadata": {},
     "output_type": "display_data"
    },
    {
     "data": {
      "text/html": [
       "Tracking run with wandb version 0.15.12"
      ],
      "text/plain": [
       "<IPython.core.display.HTML object>"
      ]
     },
     "metadata": {},
     "output_type": "display_data"
    },
    {
     "data": {
      "text/html": [
       "Run data is saved locally in <code>C:\\Users\\nekta\\OneDrive\\Desktop\\botanic-emotion-recognition\\logs\\wandb\\run-20240214_213041-kn8dhk2e</code>"
      ],
      "text/plain": [
       "<IPython.core.display.HTML object>"
      ]
     },
     "metadata": {},
     "output_type": "display_data"
    },
    {
     "data": {
      "text/html": [
       "Syncing run <strong><a href='https://wandb.ai/totikos/model_fcnn_baseline_6_large_81k_search_108-hpo/runs/kn8dhk2e' target=\"_blank\">25_fcnn_baseline_6_large_81k_search_108_lr-0.001_hidden1-32_hidden2-16_dr-0.2</a></strong> to <a href='https://wandb.ai/totikos/model_fcnn_baseline_6_large_81k_search_108-hpo' target=\"_blank\">Weights & Biases</a> (<a href='https://wandb.me/run' target=\"_blank\">docs</a>)<br/>"
      ],
      "text/plain": [
       "<IPython.core.display.HTML object>"
      ]
     },
     "metadata": {},
     "output_type": "display_data"
    },
    {
     "data": {
      "text/html": [
       " View project at <a href='https://wandb.ai/totikos/model_fcnn_baseline_6_large_81k_search_108-hpo' target=\"_blank\">https://wandb.ai/totikos/model_fcnn_baseline_6_large_81k_search_108-hpo</a>"
      ],
      "text/plain": [
       "<IPython.core.display.HTML object>"
      ]
     },
     "metadata": {},
     "output_type": "display_data"
    },
    {
     "data": {
      "text/html": [
       " View run at <a href='https://wandb.ai/totikos/model_fcnn_baseline_6_large_81k_search_108-hpo/runs/kn8dhk2e' target=\"_blank\">https://wandb.ai/totikos/model_fcnn_baseline_6_large_81k_search_108-hpo/runs/kn8dhk2e</a>"
      ],
      "text/plain": [
       "<IPython.core.display.HTML object>"
      ]
     },
     "metadata": {},
     "output_type": "display_data"
    },
    {
     "name": "stderr",
     "output_type": "stream",
     "text": [
      "100%|███████████████████████████████████████| 899/899 [00:04<00:00, 199.45it/s]\n",
      "100%|█████████████████████████████████████████| 82/82 [00:00<00:00, 703.07it/s]\n",
      "[I 2024-02-14 21:30:47,449] Trial 25 pruned. \n"
     ]
    },
    {
     "name": "stdout",
     "output_type": "stream",
     "text": [
      "{'hidden_dim_1': 64, 'hidden_dim_2': 16, 'dropout_rate': 0.2}\n"
     ]
    },
    {
     "data": {
      "text/html": [
       "Finishing last run (ID:kn8dhk2e) before initializing another..."
      ],
      "text/plain": [
       "<IPython.core.display.HTML object>"
      ]
     },
     "metadata": {},
     "output_type": "display_data"
    },
    {
     "data": {
      "text/html": [
       "Waiting for W&B process to finish... <strong style=\"color:green\">(success).</strong>"
      ],
      "text/plain": [
       "<IPython.core.display.HTML object>"
      ]
     },
     "metadata": {},
     "output_type": "display_data"
    },
    {
     "data": {
      "text/html": [
       " View run <strong style=\"color:#cdcd00\">25_fcnn_baseline_6_large_81k_search_108_lr-0.001_hidden1-32_hidden2-16_dr-0.2</strong> at: <a href='https://wandb.ai/totikos/model_fcnn_baseline_6_large_81k_search_108-hpo/runs/kn8dhk2e' target=\"_blank\">https://wandb.ai/totikos/model_fcnn_baseline_6_large_81k_search_108-hpo/runs/kn8dhk2e</a><br/> View job at <a href='https://wandb.ai/totikos/model_fcnn_baseline_6_large_81k_search_108-hpo/jobs/QXJ0aWZhY3RDb2xsZWN0aW9uOjEzOTc4MjU0OA==/version_details/v1' target=\"_blank\">https://wandb.ai/totikos/model_fcnn_baseline_6_large_81k_search_108-hpo/jobs/QXJ0aWZhY3RDb2xsZWN0aW9uOjEzOTc4MjU0OA==/version_details/v1</a><br/>Synced 5 W&B file(s), 0 media file(s), 0 artifact file(s) and 0 other file(s)"
      ],
      "text/plain": [
       "<IPython.core.display.HTML object>"
      ]
     },
     "metadata": {},
     "output_type": "display_data"
    },
    {
     "data": {
      "text/html": [
       "Find logs at: <code>C:\\Users\\nekta\\OneDrive\\Desktop\\botanic-emotion-recognition\\logs\\wandb\\run-20240214_213041-kn8dhk2e\\logs</code>"
      ],
      "text/plain": [
       "<IPython.core.display.HTML object>"
      ]
     },
     "metadata": {},
     "output_type": "display_data"
    },
    {
     "data": {
      "text/html": [
       "Successfully finished last run (ID:kn8dhk2e). Initializing new run:<br/>"
      ],
      "text/plain": [
       "<IPython.core.display.HTML object>"
      ]
     },
     "metadata": {},
     "output_type": "display_data"
    },
    {
     "data": {
      "text/html": [
       "wandb version 0.16.3 is available!  To upgrade, please run:\n",
       " $ pip install wandb --upgrade"
      ],
      "text/plain": [
       "<IPython.core.display.HTML object>"
      ]
     },
     "metadata": {},
     "output_type": "display_data"
    },
    {
     "data": {
      "text/html": [
       "Tracking run with wandb version 0.15.12"
      ],
      "text/plain": [
       "<IPython.core.display.HTML object>"
      ]
     },
     "metadata": {},
     "output_type": "display_data"
    },
    {
     "data": {
      "text/html": [
       "Run data is saved locally in <code>C:\\Users\\nekta\\OneDrive\\Desktop\\botanic-emotion-recognition\\logs\\wandb\\run-20240214_213047-39zok4xd</code>"
      ],
      "text/plain": [
       "<IPython.core.display.HTML object>"
      ]
     },
     "metadata": {},
     "output_type": "display_data"
    },
    {
     "data": {
      "text/html": [
       "Syncing run <strong><a href='https://wandb.ai/totikos/model_fcnn_baseline_6_large_81k_search_108-hpo/runs/39zok4xd' target=\"_blank\">26_fcnn_baseline_6_large_81k_search_108_lr-0.0001_hidden1-64_hidden2-16_dr-0.2</a></strong> to <a href='https://wandb.ai/totikos/model_fcnn_baseline_6_large_81k_search_108-hpo' target=\"_blank\">Weights & Biases</a> (<a href='https://wandb.me/run' target=\"_blank\">docs</a>)<br/>"
      ],
      "text/plain": [
       "<IPython.core.display.HTML object>"
      ]
     },
     "metadata": {},
     "output_type": "display_data"
    },
    {
     "data": {
      "text/html": [
       " View project at <a href='https://wandb.ai/totikos/model_fcnn_baseline_6_large_81k_search_108-hpo' target=\"_blank\">https://wandb.ai/totikos/model_fcnn_baseline_6_large_81k_search_108-hpo</a>"
      ],
      "text/plain": [
       "<IPython.core.display.HTML object>"
      ]
     },
     "metadata": {},
     "output_type": "display_data"
    },
    {
     "data": {
      "text/html": [
       " View run at <a href='https://wandb.ai/totikos/model_fcnn_baseline_6_large_81k_search_108-hpo/runs/39zok4xd' target=\"_blank\">https://wandb.ai/totikos/model_fcnn_baseline_6_large_81k_search_108-hpo/runs/39zok4xd</a>"
      ],
      "text/plain": [
       "<IPython.core.display.HTML object>"
      ]
     },
     "metadata": {},
     "output_type": "display_data"
    },
    {
     "name": "stderr",
     "output_type": "stream",
     "text": [
      "100%|███████████████████████████████████████| 899/899 [00:06<00:00, 131.77it/s]\n",
      "100%|█████████████████████████████████████████| 82/82 [00:00<00:00, 549.44it/s]\n",
      "100%|███████████████████████████████████████| 899/899 [00:07<00:00, 126.11it/s]\n",
      "100%|█████████████████████████████████████████| 82/82 [00:00<00:00, 544.58it/s]\n",
      "100%|███████████████████████████████████████| 899/899 [00:07<00:00, 127.32it/s]\n",
      "100%|█████████████████████████████████████████| 82/82 [00:00<00:00, 569.39it/s]\n",
      "100%|███████████████████████████████████████| 899/899 [00:07<00:00, 127.13it/s]\n",
      "100%|█████████████████████████████████████████| 82/82 [00:00<00:00, 555.38it/s]\n",
      "100%|███████████████████████████████████████| 899/899 [00:07<00:00, 127.98it/s]\n",
      "100%|█████████████████████████████████████████| 82/82 [00:00<00:00, 556.81it/s]\n",
      "100%|███████████████████████████████████████| 899/899 [00:07<00:00, 126.32it/s]\n",
      "100%|█████████████████████████████████████████| 82/82 [00:00<00:00, 568.21it/s]\n",
      "100%|███████████████████████████████████████| 899/899 [00:07<00:00, 126.35it/s]\n",
      "100%|█████████████████████████████████████████| 82/82 [00:00<00:00, 532.52it/s]\n",
      "100%|███████████████████████████████████████| 899/899 [00:07<00:00, 126.03it/s]\n",
      "100%|█████████████████████████████████████████| 82/82 [00:00<00:00, 540.40it/s]\n",
      "100%|███████████████████████████████████████| 899/899 [00:07<00:00, 126.63it/s]\n",
      "100%|█████████████████████████████████████████| 82/82 [00:00<00:00, 553.76it/s]\n",
      "100%|███████████████████████████████████████| 899/899 [00:07<00:00, 126.85it/s]\n",
      "100%|█████████████████████████████████████████| 82/82 [00:00<00:00, 458.67it/s]\n",
      "100%|███████████████████████████████████████| 899/899 [00:07<00:00, 120.46it/s]\n",
      "100%|█████████████████████████████████████████| 82/82 [00:00<00:00, 528.61it/s]\n",
      "100%|███████████████████████████████████████| 899/899 [00:07<00:00, 124.46it/s]\n",
      "100%|█████████████████████████████████████████| 82/82 [00:00<00:00, 526.33it/s]\n",
      "100%|███████████████████████████████████████| 899/899 [00:07<00:00, 123.53it/s]\n",
      "100%|█████████████████████████████████████████| 82/82 [00:00<00:00, 475.39it/s]\n",
      "100%|███████████████████████████████████████| 899/899 [00:07<00:00, 125.78it/s]\n",
      "100%|█████████████████████████████████████████| 82/82 [00:00<00:00, 549.80it/s]\n",
      "100%|███████████████████████████████████████| 899/899 [00:07<00:00, 121.41it/s]\n",
      "100%|█████████████████████████████████████████| 82/82 [00:00<00:00, 511.63it/s]\n",
      "100%|███████████████████████████████████████| 899/899 [00:07<00:00, 124.55it/s]\n",
      "100%|█████████████████████████████████████████| 82/82 [00:00<00:00, 546.51it/s]\n",
      "100%|███████████████████████████████████████| 899/899 [00:07<00:00, 122.51it/s]\n",
      "100%|█████████████████████████████████████████| 82/82 [00:00<00:00, 537.19it/s]\n",
      "100%|███████████████████████████████████████| 899/899 [00:07<00:00, 119.24it/s]\n",
      "100%|█████████████████████████████████████████| 82/82 [00:00<00:00, 526.06it/s]\n",
      "100%|███████████████████████████████████████| 899/899 [00:07<00:00, 118.20it/s]\n",
      "100%|█████████████████████████████████████████| 82/82 [00:00<00:00, 527.19it/s]\n",
      "100%|███████████████████████████████████████| 899/899 [00:07<00:00, 123.43it/s]\n",
      "100%|█████████████████████████████████████████| 82/82 [00:00<00:00, 528.96it/s]\n"
     ]
    },
    {
     "data": {
      "text/html": [
       "Waiting for W&B process to finish... <strong style=\"color:green\">(success).</strong>"
      ],
      "text/plain": [
       "<IPython.core.display.HTML object>"
      ]
     },
     "metadata": {},
     "output_type": "display_data"
    },
    {
     "data": {
      "text/html": [
       "<style>\n",
       "    table.wandb td:nth-child(1) { padding: 0 10px; text-align: left ; width: auto;} td:nth-child(2) {text-align: left ; width: 100%}\n",
       "    .wandb-row { display: flex; flex-direction: row; flex-wrap: wrap; justify-content: flex-start; width: 100% }\n",
       "    .wandb-col { display: flex; flex-direction: column; flex-basis: 100%; flex: 1; padding: 10px; }\n",
       "    </style>\n",
       "<div class=\"wandb-row\"><div class=\"wandb-col\"><h3>Run history:</h3><br/><table class=\"wandb\"><tr><td>accuracy</td><td>▃▆▇▆█▇█▄▄▆▃▅▄▅▆▄▃▅▁▁</td></tr><tr><td>balanced_accuracy</td><td>▅▆▆▅█▆█▄▄█▃▆▄▅▃▁▄▄▁▃</td></tr><tr><td>f1_weighted</td><td>▃▇█▇█▇█▆▆▇▅▇▆▆▇▆▅▆▃▁</td></tr><tr><td>precision</td><td>▁▁▁▁▁▁▁▁▁▅▁▅█▁▂▁▃█▃▁</td></tr><tr><td>recall</td><td>▃▆▇▆█▇█▄▄▆▃▅▄▅▆▄▃▅▁▁</td></tr></table><br/></div><div class=\"wandb-col\"><h3>Run summary:</h3><br/><table class=\"wandb\"><tr><td>accuracy</td><td>0.24423</td></tr><tr><td>balanced_accuracy</td><td>0.16195</td></tr><tr><td>f1_weighted</td><td>0.15344</td></tr><tr><td>precision</td><td>0.16149</td></tr><tr><td>recall</td><td>0.24423</td></tr></table><br/></div></div>"
      ],
      "text/plain": [
       "<IPython.core.display.HTML object>"
      ]
     },
     "metadata": {},
     "output_type": "display_data"
    },
    {
     "data": {
      "text/html": [
       " View run <strong style=\"color:#cdcd00\">26_fcnn_baseline_6_large_81k_search_108_lr-0.0001_hidden1-64_hidden2-16_dr-0.2</strong> at: <a href='https://wandb.ai/totikos/model_fcnn_baseline_6_large_81k_search_108-hpo/runs/39zok4xd' target=\"_blank\">https://wandb.ai/totikos/model_fcnn_baseline_6_large_81k_search_108-hpo/runs/39zok4xd</a><br/> View job at <a href='https://wandb.ai/totikos/model_fcnn_baseline_6_large_81k_search_108-hpo/jobs/QXJ0aWZhY3RDb2xsZWN0aW9uOjEzOTc4MjU0OA==/version_details/v2' target=\"_blank\">https://wandb.ai/totikos/model_fcnn_baseline_6_large_81k_search_108-hpo/jobs/QXJ0aWZhY3RDb2xsZWN0aW9uOjEzOTc4MjU0OA==/version_details/v2</a><br/>Synced 5 W&B file(s), 0 media file(s), 0 artifact file(s) and 0 other file(s)"
      ],
      "text/plain": [
       "<IPython.core.display.HTML object>"
      ]
     },
     "metadata": {},
     "output_type": "display_data"
    },
    {
     "data": {
      "text/html": [
       "Find logs at: <code>C:\\Users\\nekta\\OneDrive\\Desktop\\botanic-emotion-recognition\\logs\\wandb\\run-20240214_213047-39zok4xd\\logs</code>"
      ],
      "text/plain": [
       "<IPython.core.display.HTML object>"
      ]
     },
     "metadata": {},
     "output_type": "display_data"
    },
    {
     "name": "stderr",
     "output_type": "stream",
     "text": [
      "[I 2024-02-14 21:33:28,732] Trial 26 finished with value: 0.1619485174323884 and parameters: {'dropout_rate': 0.2, 'hidden_dim_1': 64, 'hidden_dim_2': 16, 'lr': 0.0001}. Best is trial 6 with value: 0.17126425545780385.\n"
     ]
    },
    {
     "name": "stdout",
     "output_type": "stream",
     "text": [
      "{'hidden_dim_1': 128, 'hidden_dim_2': 64, 'dropout_rate': 0.2}\n"
     ]
    },
    {
     "data": {
      "text/html": [
       "wandb version 0.16.3 is available!  To upgrade, please run:\n",
       " $ pip install wandb --upgrade"
      ],
      "text/plain": [
       "<IPython.core.display.HTML object>"
      ]
     },
     "metadata": {},
     "output_type": "display_data"
    },
    {
     "data": {
      "text/html": [
       "Tracking run with wandb version 0.15.12"
      ],
      "text/plain": [
       "<IPython.core.display.HTML object>"
      ]
     },
     "metadata": {},
     "output_type": "display_data"
    },
    {
     "data": {
      "text/html": [
       "Run data is saved locally in <code>C:\\Users\\nekta\\OneDrive\\Desktop\\botanic-emotion-recognition\\logs\\wandb\\run-20240214_213328-bf8biyl9</code>"
      ],
      "text/plain": [
       "<IPython.core.display.HTML object>"
      ]
     },
     "metadata": {},
     "output_type": "display_data"
    },
    {
     "data": {
      "text/html": [
       "Syncing run <strong><a href='https://wandb.ai/totikos/model_fcnn_baseline_6_large_81k_search_108-hpo/runs/bf8biyl9' target=\"_blank\">27_fcnn_baseline_6_large_81k_search_108_lr-0.001_hidden1-128_hidden2-64_dr-0.2</a></strong> to <a href='https://wandb.ai/totikos/model_fcnn_baseline_6_large_81k_search_108-hpo' target=\"_blank\">Weights & Biases</a> (<a href='https://wandb.me/run' target=\"_blank\">docs</a>)<br/>"
      ],
      "text/plain": [
       "<IPython.core.display.HTML object>"
      ]
     },
     "metadata": {},
     "output_type": "display_data"
    },
    {
     "data": {
      "text/html": [
       " View project at <a href='https://wandb.ai/totikos/model_fcnn_baseline_6_large_81k_search_108-hpo' target=\"_blank\">https://wandb.ai/totikos/model_fcnn_baseline_6_large_81k_search_108-hpo</a>"
      ],
      "text/plain": [
       "<IPython.core.display.HTML object>"
      ]
     },
     "metadata": {},
     "output_type": "display_data"
    },
    {
     "data": {
      "text/html": [
       " View run at <a href='https://wandb.ai/totikos/model_fcnn_baseline_6_large_81k_search_108-hpo/runs/bf8biyl9' target=\"_blank\">https://wandb.ai/totikos/model_fcnn_baseline_6_large_81k_search_108-hpo/runs/bf8biyl9</a>"
      ],
      "text/plain": [
       "<IPython.core.display.HTML object>"
      ]
     },
     "metadata": {},
     "output_type": "display_data"
    },
    {
     "name": "stderr",
     "output_type": "stream",
     "text": [
      "100%|████████████████████████████████████████| 899/899 [00:10<00:00, 82.75it/s]\n",
      "100%|█████████████████████████████████████████| 82/82 [00:00<00:00, 409.86it/s]\n",
      "[I 2024-02-14 21:33:41,481] Trial 27 pruned. \n"
     ]
    },
    {
     "name": "stdout",
     "output_type": "stream",
     "text": [
      "{'hidden_dim_1': 32, 'hidden_dim_2': 64, 'dropout_rate': 0.2}\n"
     ]
    },
    {
     "data": {
      "text/html": [
       "Finishing last run (ID:bf8biyl9) before initializing another..."
      ],
      "text/plain": [
       "<IPython.core.display.HTML object>"
      ]
     },
     "metadata": {},
     "output_type": "display_data"
    },
    {
     "data": {
      "text/html": [
       "Waiting for W&B process to finish... <strong style=\"color:green\">(success).</strong>"
      ],
      "text/plain": [
       "<IPython.core.display.HTML object>"
      ]
     },
     "metadata": {},
     "output_type": "display_data"
    },
    {
     "data": {
      "text/html": [
       " View run <strong style=\"color:#cdcd00\">27_fcnn_baseline_6_large_81k_search_108_lr-0.001_hidden1-128_hidden2-64_dr-0.2</strong> at: <a href='https://wandb.ai/totikos/model_fcnn_baseline_6_large_81k_search_108-hpo/runs/bf8biyl9' target=\"_blank\">https://wandb.ai/totikos/model_fcnn_baseline_6_large_81k_search_108-hpo/runs/bf8biyl9</a><br/> View job at <a href='https://wandb.ai/totikos/model_fcnn_baseline_6_large_81k_search_108-hpo/jobs/QXJ0aWZhY3RDb2xsZWN0aW9uOjEzOTc4MjU0OA==/version_details/v1' target=\"_blank\">https://wandb.ai/totikos/model_fcnn_baseline_6_large_81k_search_108-hpo/jobs/QXJ0aWZhY3RDb2xsZWN0aW9uOjEzOTc4MjU0OA==/version_details/v1</a><br/>Synced 5 W&B file(s), 0 media file(s), 0 artifact file(s) and 0 other file(s)"
      ],
      "text/plain": [
       "<IPython.core.display.HTML object>"
      ]
     },
     "metadata": {},
     "output_type": "display_data"
    },
    {
     "data": {
      "text/html": [
       "Find logs at: <code>C:\\Users\\nekta\\OneDrive\\Desktop\\botanic-emotion-recognition\\logs\\wandb\\run-20240214_213328-bf8biyl9\\logs</code>"
      ],
      "text/plain": [
       "<IPython.core.display.HTML object>"
      ]
     },
     "metadata": {},
     "output_type": "display_data"
    },
    {
     "data": {
      "text/html": [
       "Successfully finished last run (ID:bf8biyl9). Initializing new run:<br/>"
      ],
      "text/plain": [
       "<IPython.core.display.HTML object>"
      ]
     },
     "metadata": {},
     "output_type": "display_data"
    },
    {
     "data": {
      "text/html": [
       "wandb version 0.16.3 is available!  To upgrade, please run:\n",
       " $ pip install wandb --upgrade"
      ],
      "text/plain": [
       "<IPython.core.display.HTML object>"
      ]
     },
     "metadata": {},
     "output_type": "display_data"
    },
    {
     "data": {
      "text/html": [
       "Tracking run with wandb version 0.15.12"
      ],
      "text/plain": [
       "<IPython.core.display.HTML object>"
      ]
     },
     "metadata": {},
     "output_type": "display_data"
    },
    {
     "data": {
      "text/html": [
       "Run data is saved locally in <code>C:\\Users\\nekta\\OneDrive\\Desktop\\botanic-emotion-recognition\\logs\\wandb\\run-20240214_213341-3azomvo0</code>"
      ],
      "text/plain": [
       "<IPython.core.display.HTML object>"
      ]
     },
     "metadata": {},
     "output_type": "display_data"
    },
    {
     "data": {
      "text/html": [
       "Syncing run <strong><a href='https://wandb.ai/totikos/model_fcnn_baseline_6_large_81k_search_108-hpo/runs/3azomvo0' target=\"_blank\">28_fcnn_baseline_6_large_81k_search_108_lr-0.001_hidden1-32_hidden2-64_dr-0.2</a></strong> to <a href='https://wandb.ai/totikos/model_fcnn_baseline_6_large_81k_search_108-hpo' target=\"_blank\">Weights & Biases</a> (<a href='https://wandb.me/run' target=\"_blank\">docs</a>)<br/>"
      ],
      "text/plain": [
       "<IPython.core.display.HTML object>"
      ]
     },
     "metadata": {},
     "output_type": "display_data"
    },
    {
     "data": {
      "text/html": [
       " View project at <a href='https://wandb.ai/totikos/model_fcnn_baseline_6_large_81k_search_108-hpo' target=\"_blank\">https://wandb.ai/totikos/model_fcnn_baseline_6_large_81k_search_108-hpo</a>"
      ],
      "text/plain": [
       "<IPython.core.display.HTML object>"
      ]
     },
     "metadata": {},
     "output_type": "display_data"
    },
    {
     "data": {
      "text/html": [
       " View run at <a href='https://wandb.ai/totikos/model_fcnn_baseline_6_large_81k_search_108-hpo/runs/3azomvo0' target=\"_blank\">https://wandb.ai/totikos/model_fcnn_baseline_6_large_81k_search_108-hpo/runs/3azomvo0</a>"
      ],
      "text/plain": [
       "<IPython.core.display.HTML object>"
      ]
     },
     "metadata": {},
     "output_type": "display_data"
    },
    {
     "name": "stderr",
     "output_type": "stream",
     "text": [
      "100%|███████████████████████████████████████| 899/899 [00:04<00:00, 214.99it/s]\n",
      "100%|█████████████████████████████████████████| 82/82 [00:00<00:00, 745.80it/s]\n",
      "[I 2024-02-14 21:33:53,205] Trial 28 pruned. \n"
     ]
    },
    {
     "name": "stdout",
     "output_type": "stream",
     "text": [
      "{'hidden_dim_1': 64, 'hidden_dim_2': 32, 'dropout_rate': 0.2}\n"
     ]
    },
    {
     "data": {
      "text/html": [
       "Finishing last run (ID:3azomvo0) before initializing another..."
      ],
      "text/plain": [
       "<IPython.core.display.HTML object>"
      ]
     },
     "metadata": {},
     "output_type": "display_data"
    },
    {
     "data": {
      "text/html": [
       "Waiting for W&B process to finish... <strong style=\"color:green\">(success).</strong>"
      ],
      "text/plain": [
       "<IPython.core.display.HTML object>"
      ]
     },
     "metadata": {},
     "output_type": "display_data"
    },
    {
     "data": {
      "text/html": [
       " View run <strong style=\"color:#cdcd00\">28_fcnn_baseline_6_large_81k_search_108_lr-0.001_hidden1-32_hidden2-64_dr-0.2</strong> at: <a href='https://wandb.ai/totikos/model_fcnn_baseline_6_large_81k_search_108-hpo/runs/3azomvo0' target=\"_blank\">https://wandb.ai/totikos/model_fcnn_baseline_6_large_81k_search_108-hpo/runs/3azomvo0</a><br/> View job at <a href='https://wandb.ai/totikos/model_fcnn_baseline_6_large_81k_search_108-hpo/jobs/QXJ0aWZhY3RDb2xsZWN0aW9uOjEzOTc4MjU0OA==/version_details/v1' target=\"_blank\">https://wandb.ai/totikos/model_fcnn_baseline_6_large_81k_search_108-hpo/jobs/QXJ0aWZhY3RDb2xsZWN0aW9uOjEzOTc4MjU0OA==/version_details/v1</a><br/>Synced 5 W&B file(s), 0 media file(s), 0 artifact file(s) and 0 other file(s)"
      ],
      "text/plain": [
       "<IPython.core.display.HTML object>"
      ]
     },
     "metadata": {},
     "output_type": "display_data"
    },
    {
     "data": {
      "text/html": [
       "Find logs at: <code>C:\\Users\\nekta\\OneDrive\\Desktop\\botanic-emotion-recognition\\logs\\wandb\\run-20240214_213341-3azomvo0\\logs</code>"
      ],
      "text/plain": [
       "<IPython.core.display.HTML object>"
      ]
     },
     "metadata": {},
     "output_type": "display_data"
    },
    {
     "data": {
      "text/html": [
       "Successfully finished last run (ID:3azomvo0). Initializing new run:<br/>"
      ],
      "text/plain": [
       "<IPython.core.display.HTML object>"
      ]
     },
     "metadata": {},
     "output_type": "display_data"
    },
    {
     "data": {
      "text/html": [
       "wandb version 0.16.3 is available!  To upgrade, please run:\n",
       " $ pip install wandb --upgrade"
      ],
      "text/plain": [
       "<IPython.core.display.HTML object>"
      ]
     },
     "metadata": {},
     "output_type": "display_data"
    },
    {
     "data": {
      "text/html": [
       "Tracking run with wandb version 0.15.12"
      ],
      "text/plain": [
       "<IPython.core.display.HTML object>"
      ]
     },
     "metadata": {},
     "output_type": "display_data"
    },
    {
     "data": {
      "text/html": [
       "Run data is saved locally in <code>C:\\Users\\nekta\\OneDrive\\Desktop\\botanic-emotion-recognition\\logs\\wandb\\run-20240214_213353-kvddpstg</code>"
      ],
      "text/plain": [
       "<IPython.core.display.HTML object>"
      ]
     },
     "metadata": {},
     "output_type": "display_data"
    },
    {
     "data": {
      "text/html": [
       "Syncing run <strong><a href='https://wandb.ai/totikos/model_fcnn_baseline_6_large_81k_search_108-hpo/runs/kvddpstg' target=\"_blank\">29_fcnn_baseline_6_large_81k_search_108_lr-0.0001_hidden1-64_hidden2-32_dr-0.2</a></strong> to <a href='https://wandb.ai/totikos/model_fcnn_baseline_6_large_81k_search_108-hpo' target=\"_blank\">Weights & Biases</a> (<a href='https://wandb.me/run' target=\"_blank\">docs</a>)<br/>"
      ],
      "text/plain": [
       "<IPython.core.display.HTML object>"
      ]
     },
     "metadata": {},
     "output_type": "display_data"
    },
    {
     "data": {
      "text/html": [
       " View project at <a href='https://wandb.ai/totikos/model_fcnn_baseline_6_large_81k_search_108-hpo' target=\"_blank\">https://wandb.ai/totikos/model_fcnn_baseline_6_large_81k_search_108-hpo</a>"
      ],
      "text/plain": [
       "<IPython.core.display.HTML object>"
      ]
     },
     "metadata": {},
     "output_type": "display_data"
    },
    {
     "data": {
      "text/html": [
       " View run at <a href='https://wandb.ai/totikos/model_fcnn_baseline_6_large_81k_search_108-hpo/runs/kvddpstg' target=\"_blank\">https://wandb.ai/totikos/model_fcnn_baseline_6_large_81k_search_108-hpo/runs/kvddpstg</a>"
      ],
      "text/plain": [
       "<IPython.core.display.HTML object>"
      ]
     },
     "metadata": {},
     "output_type": "display_data"
    },
    {
     "name": "stderr",
     "output_type": "stream",
     "text": [
      "100%|███████████████████████████████████████| 899/899 [00:06<00:00, 145.01it/s]\n",
      "100%|█████████████████████████████████████████| 82/82 [00:00<00:00, 658.45it/s]\n",
      "100%|███████████████████████████████████████| 899/899 [00:06<00:00, 129.89it/s]\n",
      "100%|█████████████████████████████████████████| 82/82 [00:00<00:00, 537.81it/s]\n",
      "100%|███████████████████████████████████████| 899/899 [00:07<00:00, 126.55it/s]\n",
      "100%|█████████████████████████████████████████| 82/82 [00:00<00:00, 561.39it/s]\n",
      "100%|███████████████████████████████████████| 899/899 [00:07<00:00, 124.47it/s]\n",
      "100%|█████████████████████████████████████████| 82/82 [00:00<00:00, 564.34it/s]\n",
      "100%|███████████████████████████████████████| 899/899 [00:07<00:00, 126.33it/s]\n",
      "100%|█████████████████████████████████████████| 82/82 [00:00<00:00, 571.60it/s]\n",
      "100%|███████████████████████████████████████| 899/899 [00:07<00:00, 121.86it/s]\n",
      "100%|█████████████████████████████████████████| 82/82 [00:00<00:00, 598.17it/s]\n",
      "100%|███████████████████████████████████████| 899/899 [00:07<00:00, 117.51it/s]\n",
      "100%|█████████████████████████████████████████| 82/82 [00:00<00:00, 547.25it/s]\n",
      "100%|███████████████████████████████████████| 899/899 [00:07<00:00, 123.79it/s]\n",
      "100%|█████████████████████████████████████████| 82/82 [00:00<00:00, 562.03it/s]\n",
      "100%|███████████████████████████████████████| 899/899 [00:07<00:00, 121.61it/s]\n",
      "100%|█████████████████████████████████████████| 82/82 [00:00<00:00, 569.41it/s]\n",
      "100%|███████████████████████████████████████| 899/899 [00:07<00:00, 124.29it/s]\n",
      "100%|█████████████████████████████████████████| 82/82 [00:00<00:00, 578.30it/s]\n",
      "100%|███████████████████████████████████████| 899/899 [00:07<00:00, 124.35it/s]\n",
      "100%|█████████████████████████████████████████| 82/82 [00:00<00:00, 527.84it/s]\n",
      "100%|███████████████████████████████████████| 899/899 [00:07<00:00, 123.69it/s]\n",
      "100%|█████████████████████████████████████████| 82/82 [00:00<00:00, 543.93it/s]\n",
      "100%|███████████████████████████████████████| 899/899 [00:07<00:00, 122.91it/s]\n",
      "100%|█████████████████████████████████████████| 82/82 [00:00<00:00, 561.52it/s]\n",
      "100%|███████████████████████████████████████| 899/899 [00:07<00:00, 118.88it/s]\n",
      "100%|█████████████████████████████████████████| 82/82 [00:00<00:00, 536.51it/s]\n",
      "100%|███████████████████████████████████████| 899/899 [00:07<00:00, 116.17it/s]\n",
      "100%|█████████████████████████████████████████| 82/82 [00:00<00:00, 175.06it/s]\n",
      "100%|███████████████████████████████████████| 899/899 [00:07<00:00, 120.68it/s]\n",
      "100%|█████████████████████████████████████████| 82/82 [00:00<00:00, 566.05it/s]\n",
      "100%|███████████████████████████████████████| 899/899 [00:07<00:00, 122.85it/s]\n",
      "100%|█████████████████████████████████████████| 82/82 [00:00<00:00, 550.48it/s]\n",
      "100%|███████████████████████████████████████| 899/899 [00:07<00:00, 122.93it/s]\n",
      "100%|█████████████████████████████████████████| 82/82 [00:00<00:00, 546.30it/s]\n",
      "100%|███████████████████████████████████████| 899/899 [00:07<00:00, 123.79it/s]\n",
      "100%|█████████████████████████████████████████| 82/82 [00:00<00:00, 560.25it/s]\n",
      "100%|███████████████████████████████████████| 899/899 [00:07<00:00, 124.06it/s]\n",
      "100%|█████████████████████████████████████████| 82/82 [00:00<00:00, 555.29it/s]\n"
     ]
    },
    {
     "data": {
      "text/html": [
       "Waiting for W&B process to finish... <strong style=\"color:green\">(success).</strong>"
      ],
      "text/plain": [
       "<IPython.core.display.HTML object>"
      ]
     },
     "metadata": {},
     "output_type": "display_data"
    },
    {
     "data": {
      "text/html": [
       "<style>\n",
       "    table.wandb td:nth-child(1) { padding: 0 10px; text-align: left ; width: auto;} td:nth-child(2) {text-align: left ; width: 100%}\n",
       "    .wandb-row { display: flex; flex-direction: row; flex-wrap: wrap; justify-content: flex-start; width: 100% }\n",
       "    .wandb-col { display: flex; flex-direction: column; flex-basis: 100%; flex: 1; padding: 10px; }\n",
       "    </style>\n",
       "<div class=\"wandb-row\"><div class=\"wandb-col\"><h3>Run history:</h3><br/><table class=\"wandb\"><tr><td>accuracy</td><td>▃▂▂▅█▃▃▅▅▅█▅▁▆▅█▅▆▇▅</td></tr><tr><td>balanced_accuracy</td><td>▇▆▅██▅▄█▇▄▇▄▁█▆█▅▇█▅</td></tr><tr><td>f1_weighted</td><td>▂▁▂▅▆▄▅▅▆▆▇▇▃▇▆█▆▅▆▅</td></tr><tr><td>precision</td><td>█▅▄▆▁▄▅▅▆▃▅▅▃▆▅▆▅▃▄▄</td></tr><tr><td>recall</td><td>▃▂▂▅█▃▃▅▅▅█▅▁▆▅█▅▆▇▅</td></tr></table><br/></div><div class=\"wandb-col\"><h3>Run summary:</h3><br/><table class=\"wandb\"><tr><td>accuracy</td><td>0.25654</td></tr><tr><td>balanced_accuracy</td><td>0.16533</td></tr><tr><td>f1_weighted</td><td>0.17971</td></tr><tr><td>precision</td><td>0.21634</td></tr><tr><td>recall</td><td>0.25654</td></tr></table><br/></div></div>"
      ],
      "text/plain": [
       "<IPython.core.display.HTML object>"
      ]
     },
     "metadata": {},
     "output_type": "display_data"
    },
    {
     "data": {
      "text/html": [
       " View run <strong style=\"color:#cdcd00\">29_fcnn_baseline_6_large_81k_search_108_lr-0.0001_hidden1-64_hidden2-32_dr-0.2</strong> at: <a href='https://wandb.ai/totikos/model_fcnn_baseline_6_large_81k_search_108-hpo/runs/kvddpstg' target=\"_blank\">https://wandb.ai/totikos/model_fcnn_baseline_6_large_81k_search_108-hpo/runs/kvddpstg</a><br/> View job at <a href='https://wandb.ai/totikos/model_fcnn_baseline_6_large_81k_search_108-hpo/jobs/QXJ0aWZhY3RDb2xsZWN0aW9uOjEzOTc4MjU0OA==/version_details/v2' target=\"_blank\">https://wandb.ai/totikos/model_fcnn_baseline_6_large_81k_search_108-hpo/jobs/QXJ0aWZhY3RDb2xsZWN0aW9uOjEzOTc4MjU0OA==/version_details/v2</a><br/>Synced 5 W&B file(s), 0 media file(s), 0 artifact file(s) and 0 other file(s)"
      ],
      "text/plain": [
       "<IPython.core.display.HTML object>"
      ]
     },
     "metadata": {},
     "output_type": "display_data"
    },
    {
     "data": {
      "text/html": [
       "Find logs at: <code>C:\\Users\\nekta\\OneDrive\\Desktop\\botanic-emotion-recognition\\logs\\wandb\\run-20240214_213353-kvddpstg\\logs</code>"
      ],
      "text/plain": [
       "<IPython.core.display.HTML object>"
      ]
     },
     "metadata": {},
     "output_type": "display_data"
    },
    {
     "name": "stderr",
     "output_type": "stream",
     "text": [
      "[I 2024-02-14 21:36:39,480] Trial 29 finished with value: 0.1653296213520741 and parameters: {'dropout_rate': 0.2, 'hidden_dim_1': 64, 'hidden_dim_2': 32, 'lr': 0.0001}. Best is trial 6 with value: 0.17126425545780385.\n"
     ]
    },
    {
     "name": "stdout",
     "output_type": "stream",
     "text": [
      "{'hidden_dim_1': 32, 'hidden_dim_2': 16, 'dropout_rate': 0.2}\n"
     ]
    },
    {
     "data": {
      "text/html": [
       "wandb version 0.16.3 is available!  To upgrade, please run:\n",
       " $ pip install wandb --upgrade"
      ],
      "text/plain": [
       "<IPython.core.display.HTML object>"
      ]
     },
     "metadata": {},
     "output_type": "display_data"
    },
    {
     "data": {
      "text/html": [
       "Tracking run with wandb version 0.15.12"
      ],
      "text/plain": [
       "<IPython.core.display.HTML object>"
      ]
     },
     "metadata": {},
     "output_type": "display_data"
    },
    {
     "data": {
      "text/html": [
       "Run data is saved locally in <code>C:\\Users\\nekta\\OneDrive\\Desktop\\botanic-emotion-recognition\\logs\\wandb\\run-20240214_213639-odigtcbb</code>"
      ],
      "text/plain": [
       "<IPython.core.display.HTML object>"
      ]
     },
     "metadata": {},
     "output_type": "display_data"
    },
    {
     "data": {
      "text/html": [
       "Syncing run <strong><a href='https://wandb.ai/totikos/model_fcnn_baseline_6_large_81k_search_108-hpo/runs/odigtcbb' target=\"_blank\">30_fcnn_baseline_6_large_81k_search_108_lr-0.01_hidden1-32_hidden2-16_dr-0.2</a></strong> to <a href='https://wandb.ai/totikos/model_fcnn_baseline_6_large_81k_search_108-hpo' target=\"_blank\">Weights & Biases</a> (<a href='https://wandb.me/run' target=\"_blank\">docs</a>)<br/>"
      ],
      "text/plain": [
       "<IPython.core.display.HTML object>"
      ]
     },
     "metadata": {},
     "output_type": "display_data"
    },
    {
     "data": {
      "text/html": [
       " View project at <a href='https://wandb.ai/totikos/model_fcnn_baseline_6_large_81k_search_108-hpo' target=\"_blank\">https://wandb.ai/totikos/model_fcnn_baseline_6_large_81k_search_108-hpo</a>"
      ],
      "text/plain": [
       "<IPython.core.display.HTML object>"
      ]
     },
     "metadata": {},
     "output_type": "display_data"
    },
    {
     "data": {
      "text/html": [
       " View run at <a href='https://wandb.ai/totikos/model_fcnn_baseline_6_large_81k_search_108-hpo/runs/odigtcbb' target=\"_blank\">https://wandb.ai/totikos/model_fcnn_baseline_6_large_81k_search_108-hpo/runs/odigtcbb</a>"
      ],
      "text/plain": [
       "<IPython.core.display.HTML object>"
      ]
     },
     "metadata": {},
     "output_type": "display_data"
    },
    {
     "name": "stderr",
     "output_type": "stream",
     "text": [
      "100%|███████████████████████████████████████| 899/899 [00:04<00:00, 212.54it/s]\n",
      "100%|█████████████████████████████████████████| 82/82 [00:00<00:00, 720.58it/s]\n",
      "[I 2024-02-14 21:36:45,495] Trial 30 pruned. \n"
     ]
    },
    {
     "name": "stdout",
     "output_type": "stream",
     "text": [
      "{'hidden_dim_1': 32, 'hidden_dim_2': 16, 'dropout_rate': 0}\n"
     ]
    },
    {
     "data": {
      "text/html": [
       "Finishing last run (ID:odigtcbb) before initializing another..."
      ],
      "text/plain": [
       "<IPython.core.display.HTML object>"
      ]
     },
     "metadata": {},
     "output_type": "display_data"
    },
    {
     "data": {
      "text/html": [
       "Waiting for W&B process to finish... <strong style=\"color:green\">(success).</strong>"
      ],
      "text/plain": [
       "<IPython.core.display.HTML object>"
      ]
     },
     "metadata": {},
     "output_type": "display_data"
    },
    {
     "data": {
      "text/html": [
       " View run <strong style=\"color:#cdcd00\">30_fcnn_baseline_6_large_81k_search_108_lr-0.01_hidden1-32_hidden2-16_dr-0.2</strong> at: <a href='https://wandb.ai/totikos/model_fcnn_baseline_6_large_81k_search_108-hpo/runs/odigtcbb' target=\"_blank\">https://wandb.ai/totikos/model_fcnn_baseline_6_large_81k_search_108-hpo/runs/odigtcbb</a><br/> View job at <a href='https://wandb.ai/totikos/model_fcnn_baseline_6_large_81k_search_108-hpo/jobs/QXJ0aWZhY3RDb2xsZWN0aW9uOjEzOTc4MjU0OA==/version_details/v1' target=\"_blank\">https://wandb.ai/totikos/model_fcnn_baseline_6_large_81k_search_108-hpo/jobs/QXJ0aWZhY3RDb2xsZWN0aW9uOjEzOTc4MjU0OA==/version_details/v1</a><br/>Synced 5 W&B file(s), 0 media file(s), 0 artifact file(s) and 0 other file(s)"
      ],
      "text/plain": [
       "<IPython.core.display.HTML object>"
      ]
     },
     "metadata": {},
     "output_type": "display_data"
    },
    {
     "data": {
      "text/html": [
       "Find logs at: <code>C:\\Users\\nekta\\OneDrive\\Desktop\\botanic-emotion-recognition\\logs\\wandb\\run-20240214_213639-odigtcbb\\logs</code>"
      ],
      "text/plain": [
       "<IPython.core.display.HTML object>"
      ]
     },
     "metadata": {},
     "output_type": "display_data"
    },
    {
     "data": {
      "text/html": [
       "Successfully finished last run (ID:odigtcbb). Initializing new run:<br/>"
      ],
      "text/plain": [
       "<IPython.core.display.HTML object>"
      ]
     },
     "metadata": {},
     "output_type": "display_data"
    },
    {
     "data": {
      "text/html": [
       "wandb version 0.16.3 is available!  To upgrade, please run:\n",
       " $ pip install wandb --upgrade"
      ],
      "text/plain": [
       "<IPython.core.display.HTML object>"
      ]
     },
     "metadata": {},
     "output_type": "display_data"
    },
    {
     "data": {
      "text/html": [
       "Tracking run with wandb version 0.15.12"
      ],
      "text/plain": [
       "<IPython.core.display.HTML object>"
      ]
     },
     "metadata": {},
     "output_type": "display_data"
    },
    {
     "data": {
      "text/html": [
       "Run data is saved locally in <code>C:\\Users\\nekta\\OneDrive\\Desktop\\botanic-emotion-recognition\\logs\\wandb\\run-20240214_213645-p2s2rp2o</code>"
      ],
      "text/plain": [
       "<IPython.core.display.HTML object>"
      ]
     },
     "metadata": {},
     "output_type": "display_data"
    },
    {
     "data": {
      "text/html": [
       "Syncing run <strong><a href='https://wandb.ai/totikos/model_fcnn_baseline_6_large_81k_search_108-hpo/runs/p2s2rp2o' target=\"_blank\">31_fcnn_baseline_6_large_81k_search_108_lr-0.01_hidden1-32_hidden2-16_dr-0</a></strong> to <a href='https://wandb.ai/totikos/model_fcnn_baseline_6_large_81k_search_108-hpo' target=\"_blank\">Weights & Biases</a> (<a href='https://wandb.me/run' target=\"_blank\">docs</a>)<br/>"
      ],
      "text/plain": [
       "<IPython.core.display.HTML object>"
      ]
     },
     "metadata": {},
     "output_type": "display_data"
    },
    {
     "data": {
      "text/html": [
       " View project at <a href='https://wandb.ai/totikos/model_fcnn_baseline_6_large_81k_search_108-hpo' target=\"_blank\">https://wandb.ai/totikos/model_fcnn_baseline_6_large_81k_search_108-hpo</a>"
      ],
      "text/plain": [
       "<IPython.core.display.HTML object>"
      ]
     },
     "metadata": {},
     "output_type": "display_data"
    },
    {
     "data": {
      "text/html": [
       " View run at <a href='https://wandb.ai/totikos/model_fcnn_baseline_6_large_81k_search_108-hpo/runs/p2s2rp2o' target=\"_blank\">https://wandb.ai/totikos/model_fcnn_baseline_6_large_81k_search_108-hpo/runs/p2s2rp2o</a>"
      ],
      "text/plain": [
       "<IPython.core.display.HTML object>"
      ]
     },
     "metadata": {},
     "output_type": "display_data"
    },
    {
     "name": "stderr",
     "output_type": "stream",
     "text": [
      "100%|███████████████████████████████████████| 899/899 [00:04<00:00, 209.24it/s]\n",
      "100%|█████████████████████████████████████████| 82/82 [00:00<00:00, 777.27it/s]\n",
      "[I 2024-02-14 21:36:57,205] Trial 31 pruned. \n"
     ]
    },
    {
     "name": "stdout",
     "output_type": "stream",
     "text": [
      "{'hidden_dim_1': 16, 'hidden_dim_2': 32, 'dropout_rate': 0.2}\n"
     ]
    },
    {
     "data": {
      "text/html": [
       "Finishing last run (ID:p2s2rp2o) before initializing another..."
      ],
      "text/plain": [
       "<IPython.core.display.HTML object>"
      ]
     },
     "metadata": {},
     "output_type": "display_data"
    },
    {
     "data": {
      "text/html": [
       "Waiting for W&B process to finish... <strong style=\"color:green\">(success).</strong>"
      ],
      "text/plain": [
       "<IPython.core.display.HTML object>"
      ]
     },
     "metadata": {},
     "output_type": "display_data"
    },
    {
     "data": {
      "text/html": [
       " View run <strong style=\"color:#cdcd00\">31_fcnn_baseline_6_large_81k_search_108_lr-0.01_hidden1-32_hidden2-16_dr-0</strong> at: <a href='https://wandb.ai/totikos/model_fcnn_baseline_6_large_81k_search_108-hpo/runs/p2s2rp2o' target=\"_blank\">https://wandb.ai/totikos/model_fcnn_baseline_6_large_81k_search_108-hpo/runs/p2s2rp2o</a><br/> View job at <a href='https://wandb.ai/totikos/model_fcnn_baseline_6_large_81k_search_108-hpo/jobs/QXJ0aWZhY3RDb2xsZWN0aW9uOjEzOTc4MjU0OA==/version_details/v1' target=\"_blank\">https://wandb.ai/totikos/model_fcnn_baseline_6_large_81k_search_108-hpo/jobs/QXJ0aWZhY3RDb2xsZWN0aW9uOjEzOTc4MjU0OA==/version_details/v1</a><br/>Synced 5 W&B file(s), 0 media file(s), 0 artifact file(s) and 0 other file(s)"
      ],
      "text/plain": [
       "<IPython.core.display.HTML object>"
      ]
     },
     "metadata": {},
     "output_type": "display_data"
    },
    {
     "data": {
      "text/html": [
       "Find logs at: <code>C:\\Users\\nekta\\OneDrive\\Desktop\\botanic-emotion-recognition\\logs\\wandb\\run-20240214_213645-p2s2rp2o\\logs</code>"
      ],
      "text/plain": [
       "<IPython.core.display.HTML object>"
      ]
     },
     "metadata": {},
     "output_type": "display_data"
    },
    {
     "data": {
      "text/html": [
       "Successfully finished last run (ID:p2s2rp2o). Initializing new run:<br/>"
      ],
      "text/plain": [
       "<IPython.core.display.HTML object>"
      ]
     },
     "metadata": {},
     "output_type": "display_data"
    },
    {
     "data": {
      "text/html": [
       "wandb version 0.16.3 is available!  To upgrade, please run:\n",
       " $ pip install wandb --upgrade"
      ],
      "text/plain": [
       "<IPython.core.display.HTML object>"
      ]
     },
     "metadata": {},
     "output_type": "display_data"
    },
    {
     "data": {
      "text/html": [
       "Tracking run with wandb version 0.15.12"
      ],
      "text/plain": [
       "<IPython.core.display.HTML object>"
      ]
     },
     "metadata": {},
     "output_type": "display_data"
    },
    {
     "data": {
      "text/html": [
       "Run data is saved locally in <code>C:\\Users\\nekta\\OneDrive\\Desktop\\botanic-emotion-recognition\\logs\\wandb\\run-20240214_213657-0m0cc0qu</code>"
      ],
      "text/plain": [
       "<IPython.core.display.HTML object>"
      ]
     },
     "metadata": {},
     "output_type": "display_data"
    },
    {
     "data": {
      "text/html": [
       "Syncing run <strong><a href='https://wandb.ai/totikos/model_fcnn_baseline_6_large_81k_search_108-hpo/runs/0m0cc0qu' target=\"_blank\">32_fcnn_baseline_6_large_81k_search_108_lr-0.001_hidden1-16_hidden2-32_dr-0.2</a></strong> to <a href='https://wandb.ai/totikos/model_fcnn_baseline_6_large_81k_search_108-hpo' target=\"_blank\">Weights & Biases</a> (<a href='https://wandb.me/run' target=\"_blank\">docs</a>)<br/>"
      ],
      "text/plain": [
       "<IPython.core.display.HTML object>"
      ]
     },
     "metadata": {},
     "output_type": "display_data"
    },
    {
     "data": {
      "text/html": [
       " View project at <a href='https://wandb.ai/totikos/model_fcnn_baseline_6_large_81k_search_108-hpo' target=\"_blank\">https://wandb.ai/totikos/model_fcnn_baseline_6_large_81k_search_108-hpo</a>"
      ],
      "text/plain": [
       "<IPython.core.display.HTML object>"
      ]
     },
     "metadata": {},
     "output_type": "display_data"
    },
    {
     "data": {
      "text/html": [
       " View run at <a href='https://wandb.ai/totikos/model_fcnn_baseline_6_large_81k_search_108-hpo/runs/0m0cc0qu' target=\"_blank\">https://wandb.ai/totikos/model_fcnn_baseline_6_large_81k_search_108-hpo/runs/0m0cc0qu</a>"
      ],
      "text/plain": [
       "<IPython.core.display.HTML object>"
      ]
     },
     "metadata": {},
     "output_type": "display_data"
    },
    {
     "name": "stderr",
     "output_type": "stream",
     "text": [
      "100%|███████████████████████████████████████| 899/899 [00:02<00:00, 350.75it/s]\n",
      "100%|█████████████████████████████████████████| 82/82 [00:00<00:00, 794.94it/s]\n",
      "100%|███████████████████████████████████████| 899/899 [00:02<00:00, 347.11it/s]\n",
      "100%|█████████████████████████████████████████| 82/82 [00:00<00:00, 781.83it/s]\n",
      "100%|███████████████████████████████████████| 899/899 [00:02<00:00, 338.12it/s]\n",
      "100%|█████████████████████████████████████████| 82/82 [00:00<00:00, 675.27it/s]\n",
      "100%|███████████████████████████████████████| 899/899 [00:03<00:00, 285.17it/s]\n",
      "100%|█████████████████████████████████████████| 82/82 [00:00<00:00, 642.80it/s]\n",
      "100%|███████████████████████████████████████| 899/899 [00:03<00:00, 288.83it/s]\n",
      "100%|█████████████████████████████████████████| 82/82 [00:00<00:00, 639.27it/s]\n",
      "100%|███████████████████████████████████████| 899/899 [00:03<00:00, 285.39it/s]\n",
      "100%|█████████████████████████████████████████| 82/82 [00:00<00:00, 642.32it/s]\n",
      "100%|███████████████████████████████████████| 899/899 [00:03<00:00, 285.79it/s]\n",
      "100%|█████████████████████████████████████████| 82/82 [00:00<00:00, 675.60it/s]\n",
      "100%|███████████████████████████████████████| 899/899 [00:03<00:00, 289.79it/s]\n",
      "100%|█████████████████████████████████████████| 82/82 [00:00<00:00, 692.43it/s]\n",
      "100%|███████████████████████████████████████| 899/899 [00:03<00:00, 287.20it/s]\n",
      "100%|█████████████████████████████████████████| 82/82 [00:00<00:00, 613.06it/s]\n",
      "100%|███████████████████████████████████████| 899/899 [00:03<00:00, 282.03it/s]\n",
      "100%|█████████████████████████████████████████| 82/82 [00:00<00:00, 689.58it/s]\n",
      "100%|███████████████████████████████████████| 899/899 [00:03<00:00, 280.94it/s]\n",
      "100%|█████████████████████████████████████████| 82/82 [00:00<00:00, 667.87it/s]\n",
      "100%|███████████████████████████████████████| 899/899 [00:03<00:00, 285.57it/s]\n",
      "100%|█████████████████████████████████████████| 82/82 [00:00<00:00, 638.65it/s]\n",
      "100%|███████████████████████████████████████| 899/899 [00:03<00:00, 285.39it/s]\n",
      "100%|█████████████████████████████████████████| 82/82 [00:00<00:00, 660.34it/s]\n",
      "100%|███████████████████████████████████████| 899/899 [00:03<00:00, 289.14it/s]\n",
      "100%|█████████████████████████████████████████| 82/82 [00:00<00:00, 680.94it/s]\n",
      "100%|███████████████████████████████████████| 899/899 [00:03<00:00, 285.37it/s]\n",
      "100%|█████████████████████████████████████████| 82/82 [00:00<00:00, 190.15it/s]\n",
      "100%|███████████████████████████████████████| 899/899 [00:03<00:00, 282.26it/s]\n",
      "100%|█████████████████████████████████████████| 82/82 [00:00<00:00, 704.06it/s]\n",
      "100%|███████████████████████████████████████| 899/899 [00:03<00:00, 284.24it/s]\n",
      "100%|█████████████████████████████████████████| 82/82 [00:00<00:00, 656.25it/s]\n",
      "100%|███████████████████████████████████████| 899/899 [00:03<00:00, 259.31it/s]\n",
      "100%|█████████████████████████████████████████| 82/82 [00:00<00:00, 613.51it/s]\n",
      "100%|███████████████████████████████████████| 899/899 [00:03<00:00, 284.93it/s]\n",
      "100%|█████████████████████████████████████████| 82/82 [00:00<00:00, 657.66it/s]\n",
      "100%|███████████████████████████████████████| 899/899 [00:03<00:00, 275.37it/s]\n",
      "100%|█████████████████████████████████████████| 82/82 [00:00<00:00, 714.69it/s]\n"
     ]
    },
    {
     "data": {
      "text/html": [
       "Waiting for W&B process to finish... <strong style=\"color:green\">(success).</strong>"
      ],
      "text/plain": [
       "<IPython.core.display.HTML object>"
      ]
     },
     "metadata": {},
     "output_type": "display_data"
    },
    {
     "data": {
      "text/html": [
       "<style>\n",
       "    table.wandb td:nth-child(1) { padding: 0 10px; text-align: left ; width: auto;} td:nth-child(2) {text-align: left ; width: 100%}\n",
       "    .wandb-row { display: flex; flex-direction: row; flex-wrap: wrap; justify-content: flex-start; width: 100% }\n",
       "    .wandb-col { display: flex; flex-direction: column; flex-basis: 100%; flex: 1; padding: 10px; }\n",
       "    </style>\n",
       "<div class=\"wandb-row\"><div class=\"wandb-col\"><h3>Run history:</h3><br/><table class=\"wandb\"><tr><td>accuracy</td><td>▁▂▃▃▂▄▃▅▁▁▃▄▁▃▂▆█▃▅▃</td></tr><tr><td>balanced_accuracy</td><td>▄▃▄▄▁▃▄▅▃▃▁▅▄▂▂▅█▁▄▂</td></tr><tr><td>f1_weighted</td><td>▁▃▃▄▄▅▄▅▃▁▅▄▁▄▄▆█▅▇▄</td></tr><tr><td>precision</td><td>▄▃▃▄▃▃▄▄▃▁▃▄▆▃▃▄█▃▇▃</td></tr><tr><td>recall</td><td>▁▂▃▃▂▄▃▅▁▁▃▄▁▃▂▆█▃▅▃</td></tr></table><br/></div><div class=\"wandb-col\"><h3>Run summary:</h3><br/><table class=\"wandb\"><tr><td>accuracy</td><td>0.25269</td></tr><tr><td>balanced_accuracy</td><td>0.16406</td></tr><tr><td>f1_weighted</td><td>0.16809</td></tr><tr><td>precision</td><td>0.15004</td></tr><tr><td>recall</td><td>0.25269</td></tr></table><br/></div></div>"
      ],
      "text/plain": [
       "<IPython.core.display.HTML object>"
      ]
     },
     "metadata": {},
     "output_type": "display_data"
    },
    {
     "data": {
      "text/html": [
       " View run <strong style=\"color:#cdcd00\">32_fcnn_baseline_6_large_81k_search_108_lr-0.001_hidden1-16_hidden2-32_dr-0.2</strong> at: <a href='https://wandb.ai/totikos/model_fcnn_baseline_6_large_81k_search_108-hpo/runs/0m0cc0qu' target=\"_blank\">https://wandb.ai/totikos/model_fcnn_baseline_6_large_81k_search_108-hpo/runs/0m0cc0qu</a><br/> View job at <a href='https://wandb.ai/totikos/model_fcnn_baseline_6_large_81k_search_108-hpo/jobs/QXJ0aWZhY3RDb2xsZWN0aW9uOjEzOTc4MjU0OA==/version_details/v2' target=\"_blank\">https://wandb.ai/totikos/model_fcnn_baseline_6_large_81k_search_108-hpo/jobs/QXJ0aWZhY3RDb2xsZWN0aW9uOjEzOTc4MjU0OA==/version_details/v2</a><br/>Synced 5 W&B file(s), 0 media file(s), 0 artifact file(s) and 0 other file(s)"
      ],
      "text/plain": [
       "<IPython.core.display.HTML object>"
      ]
     },
     "metadata": {},
     "output_type": "display_data"
    },
    {
     "data": {
      "text/html": [
       "Find logs at: <code>C:\\Users\\nekta\\OneDrive\\Desktop\\botanic-emotion-recognition\\logs\\wandb\\run-20240214_213657-0m0cc0qu\\logs</code>"
      ],
      "text/plain": [
       "<IPython.core.display.HTML object>"
      ]
     },
     "metadata": {},
     "output_type": "display_data"
    },
    {
     "name": "stderr",
     "output_type": "stream",
     "text": [
      "[I 2024-02-14 21:38:15,225] Trial 32 finished with value: 0.1640550667970023 and parameters: {'dropout_rate': 0.2, 'hidden_dim_1': 16, 'hidden_dim_2': 32, 'lr': 0.001}. Best is trial 6 with value: 0.17126425545780385.\n"
     ]
    },
    {
     "name": "stdout",
     "output_type": "stream",
     "text": [
      "{'hidden_dim_1': 32, 'hidden_dim_2': 32, 'dropout_rate': 0}\n"
     ]
    },
    {
     "data": {
      "text/html": [
       "wandb version 0.16.3 is available!  To upgrade, please run:\n",
       " $ pip install wandb --upgrade"
      ],
      "text/plain": [
       "<IPython.core.display.HTML object>"
      ]
     },
     "metadata": {},
     "output_type": "display_data"
    },
    {
     "data": {
      "text/html": [
       "Tracking run with wandb version 0.15.12"
      ],
      "text/plain": [
       "<IPython.core.display.HTML object>"
      ]
     },
     "metadata": {},
     "output_type": "display_data"
    },
    {
     "data": {
      "text/html": [
       "Run data is saved locally in <code>C:\\Users\\nekta\\OneDrive\\Desktop\\botanic-emotion-recognition\\logs\\wandb\\run-20240214_213815-rbpfol48</code>"
      ],
      "text/plain": [
       "<IPython.core.display.HTML object>"
      ]
     },
     "metadata": {},
     "output_type": "display_data"
    },
    {
     "data": {
      "text/html": [
       "Syncing run <strong><a href='https://wandb.ai/totikos/model_fcnn_baseline_6_large_81k_search_108-hpo/runs/rbpfol48' target=\"_blank\">33_fcnn_baseline_6_large_81k_search_108_lr-0.01_hidden1-32_hidden2-32_dr-0</a></strong> to <a href='https://wandb.ai/totikos/model_fcnn_baseline_6_large_81k_search_108-hpo' target=\"_blank\">Weights & Biases</a> (<a href='https://wandb.me/run' target=\"_blank\">docs</a>)<br/>"
      ],
      "text/plain": [
       "<IPython.core.display.HTML object>"
      ]
     },
     "metadata": {},
     "output_type": "display_data"
    },
    {
     "data": {
      "text/html": [
       " View project at <a href='https://wandb.ai/totikos/model_fcnn_baseline_6_large_81k_search_108-hpo' target=\"_blank\">https://wandb.ai/totikos/model_fcnn_baseline_6_large_81k_search_108-hpo</a>"
      ],
      "text/plain": [
       "<IPython.core.display.HTML object>"
      ]
     },
     "metadata": {},
     "output_type": "display_data"
    },
    {
     "data": {
      "text/html": [
       " View run at <a href='https://wandb.ai/totikos/model_fcnn_baseline_6_large_81k_search_108-hpo/runs/rbpfol48' target=\"_blank\">https://wandb.ai/totikos/model_fcnn_baseline_6_large_81k_search_108-hpo/runs/rbpfol48</a>"
      ],
      "text/plain": [
       "<IPython.core.display.HTML object>"
      ]
     },
     "metadata": {},
     "output_type": "display_data"
    },
    {
     "name": "stderr",
     "output_type": "stream",
     "text": [
      "100%|███████████████████████████████████████| 899/899 [00:04<00:00, 210.23it/s]\n",
      "100%|█████████████████████████████████████████| 82/82 [00:00<00:00, 681.82it/s]\n",
      "[I 2024-02-14 21:38:21,294] Trial 33 pruned. \n"
     ]
    },
    {
     "name": "stdout",
     "output_type": "stream",
     "text": [
      "{'hidden_dim_1': 16, 'hidden_dim_2': 32, 'dropout_rate': 0.1}\n"
     ]
    },
    {
     "data": {
      "text/html": [
       "Finishing last run (ID:rbpfol48) before initializing another..."
      ],
      "text/plain": [
       "<IPython.core.display.HTML object>"
      ]
     },
     "metadata": {},
     "output_type": "display_data"
    },
    {
     "data": {
      "text/html": [
       "Waiting for W&B process to finish... <strong style=\"color:green\">(success).</strong>"
      ],
      "text/plain": [
       "<IPython.core.display.HTML object>"
      ]
     },
     "metadata": {},
     "output_type": "display_data"
    },
    {
     "data": {
      "text/html": [
       " View run <strong style=\"color:#cdcd00\">33_fcnn_baseline_6_large_81k_search_108_lr-0.01_hidden1-32_hidden2-32_dr-0</strong> at: <a href='https://wandb.ai/totikos/model_fcnn_baseline_6_large_81k_search_108-hpo/runs/rbpfol48' target=\"_blank\">https://wandb.ai/totikos/model_fcnn_baseline_6_large_81k_search_108-hpo/runs/rbpfol48</a><br/> View job at <a href='https://wandb.ai/totikos/model_fcnn_baseline_6_large_81k_search_108-hpo/jobs/QXJ0aWZhY3RDb2xsZWN0aW9uOjEzOTc4MjU0OA==/version_details/v1' target=\"_blank\">https://wandb.ai/totikos/model_fcnn_baseline_6_large_81k_search_108-hpo/jobs/QXJ0aWZhY3RDb2xsZWN0aW9uOjEzOTc4MjU0OA==/version_details/v1</a><br/>Synced 5 W&B file(s), 0 media file(s), 0 artifact file(s) and 0 other file(s)"
      ],
      "text/plain": [
       "<IPython.core.display.HTML object>"
      ]
     },
     "metadata": {},
     "output_type": "display_data"
    },
    {
     "data": {
      "text/html": [
       "Find logs at: <code>C:\\Users\\nekta\\OneDrive\\Desktop\\botanic-emotion-recognition\\logs\\wandb\\run-20240214_213815-rbpfol48\\logs</code>"
      ],
      "text/plain": [
       "<IPython.core.display.HTML object>"
      ]
     },
     "metadata": {},
     "output_type": "display_data"
    },
    {
     "data": {
      "text/html": [
       "Successfully finished last run (ID:rbpfol48). Initializing new run:<br/>"
      ],
      "text/plain": [
       "<IPython.core.display.HTML object>"
      ]
     },
     "metadata": {},
     "output_type": "display_data"
    },
    {
     "data": {
      "text/html": [
       "wandb version 0.16.3 is available!  To upgrade, please run:\n",
       " $ pip install wandb --upgrade"
      ],
      "text/plain": [
       "<IPython.core.display.HTML object>"
      ]
     },
     "metadata": {},
     "output_type": "display_data"
    },
    {
     "data": {
      "text/html": [
       "Tracking run with wandb version 0.15.12"
      ],
      "text/plain": [
       "<IPython.core.display.HTML object>"
      ]
     },
     "metadata": {},
     "output_type": "display_data"
    },
    {
     "data": {
      "text/html": [
       "Run data is saved locally in <code>C:\\Users\\nekta\\OneDrive\\Desktop\\botanic-emotion-recognition\\logs\\wandb\\run-20240214_213821-sksfv0zu</code>"
      ],
      "text/plain": [
       "<IPython.core.display.HTML object>"
      ]
     },
     "metadata": {},
     "output_type": "display_data"
    },
    {
     "data": {
      "text/html": [
       "Syncing run <strong><a href='https://wandb.ai/totikos/model_fcnn_baseline_6_large_81k_search_108-hpo/runs/sksfv0zu' target=\"_blank\">34_fcnn_baseline_6_large_81k_search_108_lr-0.0001_hidden1-16_hidden2-32_dr-0.1</a></strong> to <a href='https://wandb.ai/totikos/model_fcnn_baseline_6_large_81k_search_108-hpo' target=\"_blank\">Weights & Biases</a> (<a href='https://wandb.me/run' target=\"_blank\">docs</a>)<br/>"
      ],
      "text/plain": [
       "<IPython.core.display.HTML object>"
      ]
     },
     "metadata": {},
     "output_type": "display_data"
    },
    {
     "data": {
      "text/html": [
       " View project at <a href='https://wandb.ai/totikos/model_fcnn_baseline_6_large_81k_search_108-hpo' target=\"_blank\">https://wandb.ai/totikos/model_fcnn_baseline_6_large_81k_search_108-hpo</a>"
      ],
      "text/plain": [
       "<IPython.core.display.HTML object>"
      ]
     },
     "metadata": {},
     "output_type": "display_data"
    },
    {
     "data": {
      "text/html": [
       " View run at <a href='https://wandb.ai/totikos/model_fcnn_baseline_6_large_81k_search_108-hpo/runs/sksfv0zu' target=\"_blank\">https://wandb.ai/totikos/model_fcnn_baseline_6_large_81k_search_108-hpo/runs/sksfv0zu</a>"
      ],
      "text/plain": [
       "<IPython.core.display.HTML object>"
      ]
     },
     "metadata": {},
     "output_type": "display_data"
    },
    {
     "name": "stderr",
     "output_type": "stream",
     "text": [
      "100%|███████████████████████████████████████| 899/899 [00:02<00:00, 347.13it/s]\n",
      "100%|█████████████████████████████████████████| 82/82 [00:00<00:00, 912.57it/s]\n",
      "[I 2024-02-14 21:38:31,205] Trial 34 pruned. \n"
     ]
    },
    {
     "name": "stdout",
     "output_type": "stream",
     "text": [
      "{'hidden_dim_1': 64, 'hidden_dim_2': 32, 'dropout_rate': 0}\n"
     ]
    },
    {
     "data": {
      "text/html": [
       "Finishing last run (ID:sksfv0zu) before initializing another..."
      ],
      "text/plain": [
       "<IPython.core.display.HTML object>"
      ]
     },
     "metadata": {},
     "output_type": "display_data"
    },
    {
     "data": {
      "text/html": [
       "Waiting for W&B process to finish... <strong style=\"color:green\">(success).</strong>"
      ],
      "text/plain": [
       "<IPython.core.display.HTML object>"
      ]
     },
     "metadata": {},
     "output_type": "display_data"
    },
    {
     "data": {
      "text/html": [
       " View run <strong style=\"color:#cdcd00\">34_fcnn_baseline_6_large_81k_search_108_lr-0.0001_hidden1-16_hidden2-32_dr-0.1</strong> at: <a href='https://wandb.ai/totikos/model_fcnn_baseline_6_large_81k_search_108-hpo/runs/sksfv0zu' target=\"_blank\">https://wandb.ai/totikos/model_fcnn_baseline_6_large_81k_search_108-hpo/runs/sksfv0zu</a><br/> View job at <a href='https://wandb.ai/totikos/model_fcnn_baseline_6_large_81k_search_108-hpo/jobs/QXJ0aWZhY3RDb2xsZWN0aW9uOjEzOTc4MjU0OA==/version_details/v1' target=\"_blank\">https://wandb.ai/totikos/model_fcnn_baseline_6_large_81k_search_108-hpo/jobs/QXJ0aWZhY3RDb2xsZWN0aW9uOjEzOTc4MjU0OA==/version_details/v1</a><br/>Synced 5 W&B file(s), 0 media file(s), 0 artifact file(s) and 0 other file(s)"
      ],
      "text/plain": [
       "<IPython.core.display.HTML object>"
      ]
     },
     "metadata": {},
     "output_type": "display_data"
    },
    {
     "data": {
      "text/html": [
       "Find logs at: <code>C:\\Users\\nekta\\OneDrive\\Desktop\\botanic-emotion-recognition\\logs\\wandb\\run-20240214_213821-sksfv0zu\\logs</code>"
      ],
      "text/plain": [
       "<IPython.core.display.HTML object>"
      ]
     },
     "metadata": {},
     "output_type": "display_data"
    },
    {
     "data": {
      "text/html": [
       "Successfully finished last run (ID:sksfv0zu). Initializing new run:<br/>"
      ],
      "text/plain": [
       "<IPython.core.display.HTML object>"
      ]
     },
     "metadata": {},
     "output_type": "display_data"
    },
    {
     "data": {
      "text/html": [
       "wandb version 0.16.3 is available!  To upgrade, please run:\n",
       " $ pip install wandb --upgrade"
      ],
      "text/plain": [
       "<IPython.core.display.HTML object>"
      ]
     },
     "metadata": {},
     "output_type": "display_data"
    },
    {
     "data": {
      "text/html": [
       "Tracking run with wandb version 0.15.12"
      ],
      "text/plain": [
       "<IPython.core.display.HTML object>"
      ]
     },
     "metadata": {},
     "output_type": "display_data"
    },
    {
     "data": {
      "text/html": [
       "Run data is saved locally in <code>C:\\Users\\nekta\\OneDrive\\Desktop\\botanic-emotion-recognition\\logs\\wandb\\run-20240214_213831-w08cp60r</code>"
      ],
      "text/plain": [
       "<IPython.core.display.HTML object>"
      ]
     },
     "metadata": {},
     "output_type": "display_data"
    },
    {
     "data": {
      "text/html": [
       "Syncing run <strong><a href='https://wandb.ai/totikos/model_fcnn_baseline_6_large_81k_search_108-hpo/runs/w08cp60r' target=\"_blank\">35_fcnn_baseline_6_large_81k_search_108_lr-0.01_hidden1-64_hidden2-32_dr-0</a></strong> to <a href='https://wandb.ai/totikos/model_fcnn_baseline_6_large_81k_search_108-hpo' target=\"_blank\">Weights & Biases</a> (<a href='https://wandb.me/run' target=\"_blank\">docs</a>)<br/>"
      ],
      "text/plain": [
       "<IPython.core.display.HTML object>"
      ]
     },
     "metadata": {},
     "output_type": "display_data"
    },
    {
     "data": {
      "text/html": [
       " View project at <a href='https://wandb.ai/totikos/model_fcnn_baseline_6_large_81k_search_108-hpo' target=\"_blank\">https://wandb.ai/totikos/model_fcnn_baseline_6_large_81k_search_108-hpo</a>"
      ],
      "text/plain": [
       "<IPython.core.display.HTML object>"
      ]
     },
     "metadata": {},
     "output_type": "display_data"
    },
    {
     "data": {
      "text/html": [
       " View run at <a href='https://wandb.ai/totikos/model_fcnn_baseline_6_large_81k_search_108-hpo/runs/w08cp60r' target=\"_blank\">https://wandb.ai/totikos/model_fcnn_baseline_6_large_81k_search_108-hpo/runs/w08cp60r</a>"
      ],
      "text/plain": [
       "<IPython.core.display.HTML object>"
      ]
     },
     "metadata": {},
     "output_type": "display_data"
    },
    {
     "name": "stderr",
     "output_type": "stream",
     "text": [
      "100%|███████████████████████████████████████| 899/899 [00:06<00:00, 144.79it/s]\n",
      "100%|█████████████████████████████████████████| 82/82 [00:00<00:00, 594.73it/s]\n",
      "[I 2024-02-14 21:38:46,383] Trial 35 pruned. \n"
     ]
    },
    {
     "name": "stdout",
     "output_type": "stream",
     "text": [
      "{'hidden_dim_1': 128, 'hidden_dim_2': 16, 'dropout_rate': 0.1}\n"
     ]
    },
    {
     "data": {
      "text/html": [
       "Finishing last run (ID:w08cp60r) before initializing another..."
      ],
      "text/plain": [
       "<IPython.core.display.HTML object>"
      ]
     },
     "metadata": {},
     "output_type": "display_data"
    },
    {
     "data": {
      "text/html": [
       "Waiting for W&B process to finish... <strong style=\"color:green\">(success).</strong>"
      ],
      "text/plain": [
       "<IPython.core.display.HTML object>"
      ]
     },
     "metadata": {},
     "output_type": "display_data"
    },
    {
     "data": {
      "text/html": [
       " View run <strong style=\"color:#cdcd00\">35_fcnn_baseline_6_large_81k_search_108_lr-0.01_hidden1-64_hidden2-32_dr-0</strong> at: <a href='https://wandb.ai/totikos/model_fcnn_baseline_6_large_81k_search_108-hpo/runs/w08cp60r' target=\"_blank\">https://wandb.ai/totikos/model_fcnn_baseline_6_large_81k_search_108-hpo/runs/w08cp60r</a><br/> View job at <a href='https://wandb.ai/totikos/model_fcnn_baseline_6_large_81k_search_108-hpo/jobs/QXJ0aWZhY3RDb2xsZWN0aW9uOjEzOTc4MjU0OA==/version_details/v1' target=\"_blank\">https://wandb.ai/totikos/model_fcnn_baseline_6_large_81k_search_108-hpo/jobs/QXJ0aWZhY3RDb2xsZWN0aW9uOjEzOTc4MjU0OA==/version_details/v1</a><br/>Synced 5 W&B file(s), 0 media file(s), 0 artifact file(s) and 0 other file(s)"
      ],
      "text/plain": [
       "<IPython.core.display.HTML object>"
      ]
     },
     "metadata": {},
     "output_type": "display_data"
    },
    {
     "data": {
      "text/html": [
       "Find logs at: <code>C:\\Users\\nekta\\OneDrive\\Desktop\\botanic-emotion-recognition\\logs\\wandb\\run-20240214_213831-w08cp60r\\logs</code>"
      ],
      "text/plain": [
       "<IPython.core.display.HTML object>"
      ]
     },
     "metadata": {},
     "output_type": "display_data"
    },
    {
     "data": {
      "text/html": [
       "Successfully finished last run (ID:w08cp60r). Initializing new run:<br/>"
      ],
      "text/plain": [
       "<IPython.core.display.HTML object>"
      ]
     },
     "metadata": {},
     "output_type": "display_data"
    },
    {
     "data": {
      "text/html": [
       "wandb version 0.16.3 is available!  To upgrade, please run:\n",
       " $ pip install wandb --upgrade"
      ],
      "text/plain": [
       "<IPython.core.display.HTML object>"
      ]
     },
     "metadata": {},
     "output_type": "display_data"
    },
    {
     "data": {
      "text/html": [
       "Tracking run with wandb version 0.15.12"
      ],
      "text/plain": [
       "<IPython.core.display.HTML object>"
      ]
     },
     "metadata": {},
     "output_type": "display_data"
    },
    {
     "data": {
      "text/html": [
       "Run data is saved locally in <code>C:\\Users\\nekta\\OneDrive\\Desktop\\botanic-emotion-recognition\\logs\\wandb\\run-20240214_213846-3pb6cy9s</code>"
      ],
      "text/plain": [
       "<IPython.core.display.HTML object>"
      ]
     },
     "metadata": {},
     "output_type": "display_data"
    },
    {
     "data": {
      "text/html": [
       "Syncing run <strong><a href='https://wandb.ai/totikos/model_fcnn_baseline_6_large_81k_search_108-hpo/runs/3pb6cy9s' target=\"_blank\">36_fcnn_baseline_6_large_81k_search_108_lr-0.0001_hidden1-128_hidden2-16_dr-0.1</a></strong> to <a href='https://wandb.ai/totikos/model_fcnn_baseline_6_large_81k_search_108-hpo' target=\"_blank\">Weights & Biases</a> (<a href='https://wandb.me/run' target=\"_blank\">docs</a>)<br/>"
      ],
      "text/plain": [
       "<IPython.core.display.HTML object>"
      ]
     },
     "metadata": {},
     "output_type": "display_data"
    },
    {
     "data": {
      "text/html": [
       " View project at <a href='https://wandb.ai/totikos/model_fcnn_baseline_6_large_81k_search_108-hpo' target=\"_blank\">https://wandb.ai/totikos/model_fcnn_baseline_6_large_81k_search_108-hpo</a>"
      ],
      "text/plain": [
       "<IPython.core.display.HTML object>"
      ]
     },
     "metadata": {},
     "output_type": "display_data"
    },
    {
     "data": {
      "text/html": [
       " View run at <a href='https://wandb.ai/totikos/model_fcnn_baseline_6_large_81k_search_108-hpo/runs/3pb6cy9s' target=\"_blank\">https://wandb.ai/totikos/model_fcnn_baseline_6_large_81k_search_108-hpo/runs/3pb6cy9s</a>"
      ],
      "text/plain": [
       "<IPython.core.display.HTML object>"
      ]
     },
     "metadata": {},
     "output_type": "display_data"
    },
    {
     "name": "stderr",
     "output_type": "stream",
     "text": [
      "100%|████████████████████████████████████████| 899/899 [00:11<00:00, 78.16it/s]\n",
      "100%|█████████████████████████████████████████| 82/82 [00:00<00:00, 437.23it/s]\n",
      "[I 2024-02-14 21:39:05,650] Trial 36 pruned. \n"
     ]
    },
    {
     "name": "stdout",
     "output_type": "stream",
     "text": [
      "{'hidden_dim_1': 128, 'hidden_dim_2': 16, 'dropout_rate': 0.2}\n"
     ]
    },
    {
     "data": {
      "text/html": [
       "Finishing last run (ID:3pb6cy9s) before initializing another..."
      ],
      "text/plain": [
       "<IPython.core.display.HTML object>"
      ]
     },
     "metadata": {},
     "output_type": "display_data"
    },
    {
     "data": {
      "text/html": [
       "Waiting for W&B process to finish... <strong style=\"color:green\">(success).</strong>"
      ],
      "text/plain": [
       "<IPython.core.display.HTML object>"
      ]
     },
     "metadata": {},
     "output_type": "display_data"
    },
    {
     "data": {
      "text/html": [
       " View run <strong style=\"color:#cdcd00\">36_fcnn_baseline_6_large_81k_search_108_lr-0.0001_hidden1-128_hidden2-16_dr-0.1</strong> at: <a href='https://wandb.ai/totikos/model_fcnn_baseline_6_large_81k_search_108-hpo/runs/3pb6cy9s' target=\"_blank\">https://wandb.ai/totikos/model_fcnn_baseline_6_large_81k_search_108-hpo/runs/3pb6cy9s</a><br/> View job at <a href='https://wandb.ai/totikos/model_fcnn_baseline_6_large_81k_search_108-hpo/jobs/QXJ0aWZhY3RDb2xsZWN0aW9uOjEzOTc4MjU0OA==/version_details/v1' target=\"_blank\">https://wandb.ai/totikos/model_fcnn_baseline_6_large_81k_search_108-hpo/jobs/QXJ0aWZhY3RDb2xsZWN0aW9uOjEzOTc4MjU0OA==/version_details/v1</a><br/>Synced 5 W&B file(s), 0 media file(s), 0 artifact file(s) and 0 other file(s)"
      ],
      "text/plain": [
       "<IPython.core.display.HTML object>"
      ]
     },
     "metadata": {},
     "output_type": "display_data"
    },
    {
     "data": {
      "text/html": [
       "Find logs at: <code>C:\\Users\\nekta\\OneDrive\\Desktop\\botanic-emotion-recognition\\logs\\wandb\\run-20240214_213846-3pb6cy9s\\logs</code>"
      ],
      "text/plain": [
       "<IPython.core.display.HTML object>"
      ]
     },
     "metadata": {},
     "output_type": "display_data"
    },
    {
     "data": {
      "text/html": [
       "Successfully finished last run (ID:3pb6cy9s). Initializing new run:<br/>"
      ],
      "text/plain": [
       "<IPython.core.display.HTML object>"
      ]
     },
     "metadata": {},
     "output_type": "display_data"
    },
    {
     "data": {
      "text/html": [
       "wandb version 0.16.3 is available!  To upgrade, please run:\n",
       " $ pip install wandb --upgrade"
      ],
      "text/plain": [
       "<IPython.core.display.HTML object>"
      ]
     },
     "metadata": {},
     "output_type": "display_data"
    },
    {
     "data": {
      "text/html": [
       "Tracking run with wandb version 0.15.12"
      ],
      "text/plain": [
       "<IPython.core.display.HTML object>"
      ]
     },
     "metadata": {},
     "output_type": "display_data"
    },
    {
     "data": {
      "text/html": [
       "Run data is saved locally in <code>C:\\Users\\nekta\\OneDrive\\Desktop\\botanic-emotion-recognition\\logs\\wandb\\run-20240214_213905-nhknr8id</code>"
      ],
      "text/plain": [
       "<IPython.core.display.HTML object>"
      ]
     },
     "metadata": {},
     "output_type": "display_data"
    },
    {
     "data": {
      "text/html": [
       "Syncing run <strong><a href='https://wandb.ai/totikos/model_fcnn_baseline_6_large_81k_search_108-hpo/runs/nhknr8id' target=\"_blank\">37_fcnn_baseline_6_large_81k_search_108_lr-0.01_hidden1-128_hidden2-16_dr-0.2</a></strong> to <a href='https://wandb.ai/totikos/model_fcnn_baseline_6_large_81k_search_108-hpo' target=\"_blank\">Weights & Biases</a> (<a href='https://wandb.me/run' target=\"_blank\">docs</a>)<br/>"
      ],
      "text/plain": [
       "<IPython.core.display.HTML object>"
      ]
     },
     "metadata": {},
     "output_type": "display_data"
    },
    {
     "data": {
      "text/html": [
       " View project at <a href='https://wandb.ai/totikos/model_fcnn_baseline_6_large_81k_search_108-hpo' target=\"_blank\">https://wandb.ai/totikos/model_fcnn_baseline_6_large_81k_search_108-hpo</a>"
      ],
      "text/plain": [
       "<IPython.core.display.HTML object>"
      ]
     },
     "metadata": {},
     "output_type": "display_data"
    },
    {
     "data": {
      "text/html": [
       " View run at <a href='https://wandb.ai/totikos/model_fcnn_baseline_6_large_81k_search_108-hpo/runs/nhknr8id' target=\"_blank\">https://wandb.ai/totikos/model_fcnn_baseline_6_large_81k_search_108-hpo/runs/nhknr8id</a>"
      ],
      "text/plain": [
       "<IPython.core.display.HTML object>"
      ]
     },
     "metadata": {},
     "output_type": "display_data"
    },
    {
     "name": "stderr",
     "output_type": "stream",
     "text": [
      "100%|████████████████████████████████████████| 899/899 [00:11<00:00, 80.24it/s]\n",
      "100%|█████████████████████████████████████████| 82/82 [00:00<00:00, 459.20it/s]\n",
      "[I 2024-02-14 21:39:23,880] Trial 37 pruned. \n"
     ]
    },
    {
     "name": "stdout",
     "output_type": "stream",
     "text": [
      "{'hidden_dim_1': 128, 'hidden_dim_2': 32, 'dropout_rate': 0}\n"
     ]
    },
    {
     "data": {
      "text/html": [
       "Finishing last run (ID:nhknr8id) before initializing another..."
      ],
      "text/plain": [
       "<IPython.core.display.HTML object>"
      ]
     },
     "metadata": {},
     "output_type": "display_data"
    },
    {
     "data": {
      "text/html": [
       "Waiting for W&B process to finish... <strong style=\"color:green\">(success).</strong>"
      ],
      "text/plain": [
       "<IPython.core.display.HTML object>"
      ]
     },
     "metadata": {},
     "output_type": "display_data"
    },
    {
     "data": {
      "text/html": [
       " View run <strong style=\"color:#cdcd00\">37_fcnn_baseline_6_large_81k_search_108_lr-0.01_hidden1-128_hidden2-16_dr-0.2</strong> at: <a href='https://wandb.ai/totikos/model_fcnn_baseline_6_large_81k_search_108-hpo/runs/nhknr8id' target=\"_blank\">https://wandb.ai/totikos/model_fcnn_baseline_6_large_81k_search_108-hpo/runs/nhknr8id</a><br/> View job at <a href='https://wandb.ai/totikos/model_fcnn_baseline_6_large_81k_search_108-hpo/jobs/QXJ0aWZhY3RDb2xsZWN0aW9uOjEzOTc4MjU0OA==/version_details/v1' target=\"_blank\">https://wandb.ai/totikos/model_fcnn_baseline_6_large_81k_search_108-hpo/jobs/QXJ0aWZhY3RDb2xsZWN0aW9uOjEzOTc4MjU0OA==/version_details/v1</a><br/>Synced 5 W&B file(s), 0 media file(s), 0 artifact file(s) and 0 other file(s)"
      ],
      "text/plain": [
       "<IPython.core.display.HTML object>"
      ]
     },
     "metadata": {},
     "output_type": "display_data"
    },
    {
     "data": {
      "text/html": [
       "Find logs at: <code>C:\\Users\\nekta\\OneDrive\\Desktop\\botanic-emotion-recognition\\logs\\wandb\\run-20240214_213905-nhknr8id\\logs</code>"
      ],
      "text/plain": [
       "<IPython.core.display.HTML object>"
      ]
     },
     "metadata": {},
     "output_type": "display_data"
    },
    {
     "data": {
      "text/html": [
       "Successfully finished last run (ID:nhknr8id). Initializing new run:<br/>"
      ],
      "text/plain": [
       "<IPython.core.display.HTML object>"
      ]
     },
     "metadata": {},
     "output_type": "display_data"
    },
    {
     "data": {
      "text/html": [
       "wandb version 0.16.3 is available!  To upgrade, please run:\n",
       " $ pip install wandb --upgrade"
      ],
      "text/plain": [
       "<IPython.core.display.HTML object>"
      ]
     },
     "metadata": {},
     "output_type": "display_data"
    },
    {
     "data": {
      "text/html": [
       "Tracking run with wandb version 0.15.12"
      ],
      "text/plain": [
       "<IPython.core.display.HTML object>"
      ]
     },
     "metadata": {},
     "output_type": "display_data"
    },
    {
     "data": {
      "text/html": [
       "Run data is saved locally in <code>C:\\Users\\nekta\\OneDrive\\Desktop\\botanic-emotion-recognition\\logs\\wandb\\run-20240214_213923-fjneaaaz</code>"
      ],
      "text/plain": [
       "<IPython.core.display.HTML object>"
      ]
     },
     "metadata": {},
     "output_type": "display_data"
    },
    {
     "data": {
      "text/html": [
       "Syncing run <strong><a href='https://wandb.ai/totikos/model_fcnn_baseline_6_large_81k_search_108-hpo/runs/fjneaaaz' target=\"_blank\">38_fcnn_baseline_6_large_81k_search_108_lr-0.0001_hidden1-128_hidden2-32_dr-0</a></strong> to <a href='https://wandb.ai/totikos/model_fcnn_baseline_6_large_81k_search_108-hpo' target=\"_blank\">Weights & Biases</a> (<a href='https://wandb.me/run' target=\"_blank\">docs</a>)<br/>"
      ],
      "text/plain": [
       "<IPython.core.display.HTML object>"
      ]
     },
     "metadata": {},
     "output_type": "display_data"
    },
    {
     "data": {
      "text/html": [
       " View project at <a href='https://wandb.ai/totikos/model_fcnn_baseline_6_large_81k_search_108-hpo' target=\"_blank\">https://wandb.ai/totikos/model_fcnn_baseline_6_large_81k_search_108-hpo</a>"
      ],
      "text/plain": [
       "<IPython.core.display.HTML object>"
      ]
     },
     "metadata": {},
     "output_type": "display_data"
    },
    {
     "data": {
      "text/html": [
       " View run at <a href='https://wandb.ai/totikos/model_fcnn_baseline_6_large_81k_search_108-hpo/runs/fjneaaaz' target=\"_blank\">https://wandb.ai/totikos/model_fcnn_baseline_6_large_81k_search_108-hpo/runs/fjneaaaz</a>"
      ],
      "text/plain": [
       "<IPython.core.display.HTML object>"
      ]
     },
     "metadata": {},
     "output_type": "display_data"
    },
    {
     "name": "stderr",
     "output_type": "stream",
     "text": [
      "100%|████████████████████████████████████████| 899/899 [00:10<00:00, 82.53it/s]\n",
      "100%|█████████████████████████████████████████| 82/82 [00:00<00:00, 425.30it/s]\n",
      "[I 2024-02-14 21:39:41,146] Trial 38 pruned. \n"
     ]
    },
    {
     "name": "stdout",
     "output_type": "stream",
     "text": [
      "{'hidden_dim_1': 32, 'hidden_dim_2': 64, 'dropout_rate': 0.2}\n"
     ]
    },
    {
     "data": {
      "text/html": [
       "Finishing last run (ID:fjneaaaz) before initializing another..."
      ],
      "text/plain": [
       "<IPython.core.display.HTML object>"
      ]
     },
     "metadata": {},
     "output_type": "display_data"
    },
    {
     "data": {
      "text/html": [
       "Waiting for W&B process to finish... <strong style=\"color:green\">(success).</strong>"
      ],
      "text/plain": [
       "<IPython.core.display.HTML object>"
      ]
     },
     "metadata": {},
     "output_type": "display_data"
    },
    {
     "data": {
      "text/html": [
       " View run <strong style=\"color:#cdcd00\">38_fcnn_baseline_6_large_81k_search_108_lr-0.0001_hidden1-128_hidden2-32_dr-0</strong> at: <a href='https://wandb.ai/totikos/model_fcnn_baseline_6_large_81k_search_108-hpo/runs/fjneaaaz' target=\"_blank\">https://wandb.ai/totikos/model_fcnn_baseline_6_large_81k_search_108-hpo/runs/fjneaaaz</a><br/> View job at <a href='https://wandb.ai/totikos/model_fcnn_baseline_6_large_81k_search_108-hpo/jobs/QXJ0aWZhY3RDb2xsZWN0aW9uOjEzOTc4MjU0OA==/version_details/v1' target=\"_blank\">https://wandb.ai/totikos/model_fcnn_baseline_6_large_81k_search_108-hpo/jobs/QXJ0aWZhY3RDb2xsZWN0aW9uOjEzOTc4MjU0OA==/version_details/v1</a><br/>Synced 5 W&B file(s), 0 media file(s), 0 artifact file(s) and 0 other file(s)"
      ],
      "text/plain": [
       "<IPython.core.display.HTML object>"
      ]
     },
     "metadata": {},
     "output_type": "display_data"
    },
    {
     "data": {
      "text/html": [
       "Find logs at: <code>C:\\Users\\nekta\\OneDrive\\Desktop\\botanic-emotion-recognition\\logs\\wandb\\run-20240214_213923-fjneaaaz\\logs</code>"
      ],
      "text/plain": [
       "<IPython.core.display.HTML object>"
      ]
     },
     "metadata": {},
     "output_type": "display_data"
    },
    {
     "data": {
      "text/html": [
       "Successfully finished last run (ID:fjneaaaz). Initializing new run:<br/>"
      ],
      "text/plain": [
       "<IPython.core.display.HTML object>"
      ]
     },
     "metadata": {},
     "output_type": "display_data"
    },
    {
     "data": {
      "text/html": [
       "wandb version 0.16.3 is available!  To upgrade, please run:\n",
       " $ pip install wandb --upgrade"
      ],
      "text/plain": [
       "<IPython.core.display.HTML object>"
      ]
     },
     "metadata": {},
     "output_type": "display_data"
    },
    {
     "data": {
      "text/html": [
       "Tracking run with wandb version 0.15.12"
      ],
      "text/plain": [
       "<IPython.core.display.HTML object>"
      ]
     },
     "metadata": {},
     "output_type": "display_data"
    },
    {
     "data": {
      "text/html": [
       "Run data is saved locally in <code>C:\\Users\\nekta\\OneDrive\\Desktop\\botanic-emotion-recognition\\logs\\wandb\\run-20240214_213941-44my7b2h</code>"
      ],
      "text/plain": [
       "<IPython.core.display.HTML object>"
      ]
     },
     "metadata": {},
     "output_type": "display_data"
    },
    {
     "data": {
      "text/html": [
       "Syncing run <strong><a href='https://wandb.ai/totikos/model_fcnn_baseline_6_large_81k_search_108-hpo/runs/44my7b2h' target=\"_blank\">39_fcnn_baseline_6_large_81k_search_108_lr-0.0001_hidden1-32_hidden2-64_dr-0.2</a></strong> to <a href='https://wandb.ai/totikos/model_fcnn_baseline_6_large_81k_search_108-hpo' target=\"_blank\">Weights & Biases</a> (<a href='https://wandb.me/run' target=\"_blank\">docs</a>)<br/>"
      ],
      "text/plain": [
       "<IPython.core.display.HTML object>"
      ]
     },
     "metadata": {},
     "output_type": "display_data"
    },
    {
     "data": {
      "text/html": [
       " View project at <a href='https://wandb.ai/totikos/model_fcnn_baseline_6_large_81k_search_108-hpo' target=\"_blank\">https://wandb.ai/totikos/model_fcnn_baseline_6_large_81k_search_108-hpo</a>"
      ],
      "text/plain": [
       "<IPython.core.display.HTML object>"
      ]
     },
     "metadata": {},
     "output_type": "display_data"
    },
    {
     "data": {
      "text/html": [
       " View run at <a href='https://wandb.ai/totikos/model_fcnn_baseline_6_large_81k_search_108-hpo/runs/44my7b2h' target=\"_blank\">https://wandb.ai/totikos/model_fcnn_baseline_6_large_81k_search_108-hpo/runs/44my7b2h</a>"
      ],
      "text/plain": [
       "<IPython.core.display.HTML object>"
      ]
     },
     "metadata": {},
     "output_type": "display_data"
    },
    {
     "name": "stderr",
     "output_type": "stream",
     "text": [
      "100%|███████████████████████████████████████| 899/899 [00:04<00:00, 202.65it/s]\n",
      "100%|█████████████████████████████████████████| 82/82 [00:00<00:00, 726.31it/s]\n",
      "[I 2024-02-14 21:39:53,178] Trial 39 pruned. \n"
     ]
    },
    {
     "name": "stdout",
     "output_type": "stream",
     "text": [
      "{'hidden_dim_1': 32, 'hidden_dim_2': 64, 'dropout_rate': 0}\n"
     ]
    },
    {
     "data": {
      "text/html": [
       "Finishing last run (ID:44my7b2h) before initializing another..."
      ],
      "text/plain": [
       "<IPython.core.display.HTML object>"
      ]
     },
     "metadata": {},
     "output_type": "display_data"
    },
    {
     "data": {
      "text/html": [
       "Waiting for W&B process to finish... <strong style=\"color:green\">(success).</strong>"
      ],
      "text/plain": [
       "<IPython.core.display.HTML object>"
      ]
     },
     "metadata": {},
     "output_type": "display_data"
    },
    {
     "data": {
      "text/html": [
       " View run <strong style=\"color:#cdcd00\">39_fcnn_baseline_6_large_81k_search_108_lr-0.0001_hidden1-32_hidden2-64_dr-0.2</strong> at: <a href='https://wandb.ai/totikos/model_fcnn_baseline_6_large_81k_search_108-hpo/runs/44my7b2h' target=\"_blank\">https://wandb.ai/totikos/model_fcnn_baseline_6_large_81k_search_108-hpo/runs/44my7b2h</a><br/> View job at <a href='https://wandb.ai/totikos/model_fcnn_baseline_6_large_81k_search_108-hpo/jobs/QXJ0aWZhY3RDb2xsZWN0aW9uOjEzOTc4MjU0OA==/version_details/v1' target=\"_blank\">https://wandb.ai/totikos/model_fcnn_baseline_6_large_81k_search_108-hpo/jobs/QXJ0aWZhY3RDb2xsZWN0aW9uOjEzOTc4MjU0OA==/version_details/v1</a><br/>Synced 5 W&B file(s), 0 media file(s), 0 artifact file(s) and 0 other file(s)"
      ],
      "text/plain": [
       "<IPython.core.display.HTML object>"
      ]
     },
     "metadata": {},
     "output_type": "display_data"
    },
    {
     "data": {
      "text/html": [
       "Find logs at: <code>C:\\Users\\nekta\\OneDrive\\Desktop\\botanic-emotion-recognition\\logs\\wandb\\run-20240214_213941-44my7b2h\\logs</code>"
      ],
      "text/plain": [
       "<IPython.core.display.HTML object>"
      ]
     },
     "metadata": {},
     "output_type": "display_data"
    },
    {
     "data": {
      "text/html": [
       "Successfully finished last run (ID:44my7b2h). Initializing new run:<br/>"
      ],
      "text/plain": [
       "<IPython.core.display.HTML object>"
      ]
     },
     "metadata": {},
     "output_type": "display_data"
    },
    {
     "data": {
      "text/html": [
       "wandb version 0.16.3 is available!  To upgrade, please run:\n",
       " $ pip install wandb --upgrade"
      ],
      "text/plain": [
       "<IPython.core.display.HTML object>"
      ]
     },
     "metadata": {},
     "output_type": "display_data"
    },
    {
     "data": {
      "text/html": [
       "Tracking run with wandb version 0.15.12"
      ],
      "text/plain": [
       "<IPython.core.display.HTML object>"
      ]
     },
     "metadata": {},
     "output_type": "display_data"
    },
    {
     "data": {
      "text/html": [
       "Run data is saved locally in <code>C:\\Users\\nekta\\OneDrive\\Desktop\\botanic-emotion-recognition\\logs\\wandb\\run-20240214_213953-jazik1my</code>"
      ],
      "text/plain": [
       "<IPython.core.display.HTML object>"
      ]
     },
     "metadata": {},
     "output_type": "display_data"
    },
    {
     "data": {
      "text/html": [
       "Syncing run <strong><a href='https://wandb.ai/totikos/model_fcnn_baseline_6_large_81k_search_108-hpo/runs/jazik1my' target=\"_blank\">40_fcnn_baseline_6_large_81k_search_108_lr-0.001_hidden1-32_hidden2-64_dr-0</a></strong> to <a href='https://wandb.ai/totikos/model_fcnn_baseline_6_large_81k_search_108-hpo' target=\"_blank\">Weights & Biases</a> (<a href='https://wandb.me/run' target=\"_blank\">docs</a>)<br/>"
      ],
      "text/plain": [
       "<IPython.core.display.HTML object>"
      ]
     },
     "metadata": {},
     "output_type": "display_data"
    },
    {
     "data": {
      "text/html": [
       " View project at <a href='https://wandb.ai/totikos/model_fcnn_baseline_6_large_81k_search_108-hpo' target=\"_blank\">https://wandb.ai/totikos/model_fcnn_baseline_6_large_81k_search_108-hpo</a>"
      ],
      "text/plain": [
       "<IPython.core.display.HTML object>"
      ]
     },
     "metadata": {},
     "output_type": "display_data"
    },
    {
     "data": {
      "text/html": [
       " View run at <a href='https://wandb.ai/totikos/model_fcnn_baseline_6_large_81k_search_108-hpo/runs/jazik1my' target=\"_blank\">https://wandb.ai/totikos/model_fcnn_baseline_6_large_81k_search_108-hpo/runs/jazik1my</a>"
      ],
      "text/plain": [
       "<IPython.core.display.HTML object>"
      ]
     },
     "metadata": {},
     "output_type": "display_data"
    },
    {
     "name": "stderr",
     "output_type": "stream",
     "text": [
      "100%|███████████████████████████████████████| 899/899 [00:04<00:00, 218.06it/s]\n",
      "100%|█████████████████████████████████████████| 82/82 [00:00<00:00, 779.64it/s]\n",
      "[I 2024-02-14 21:40:04,812] Trial 40 pruned. \n"
     ]
    },
    {
     "name": "stdout",
     "output_type": "stream",
     "text": [
      "{'hidden_dim_1': 64, 'hidden_dim_2': 16, 'dropout_rate': 0.1}\n"
     ]
    },
    {
     "data": {
      "text/html": [
       "Finishing last run (ID:jazik1my) before initializing another..."
      ],
      "text/plain": [
       "<IPython.core.display.HTML object>"
      ]
     },
     "metadata": {},
     "output_type": "display_data"
    },
    {
     "data": {
      "text/html": [
       "Waiting for W&B process to finish... <strong style=\"color:green\">(success).</strong>"
      ],
      "text/plain": [
       "<IPython.core.display.HTML object>"
      ]
     },
     "metadata": {},
     "output_type": "display_data"
    },
    {
     "data": {
      "text/html": [
       " View run <strong style=\"color:#cdcd00\">40_fcnn_baseline_6_large_81k_search_108_lr-0.001_hidden1-32_hidden2-64_dr-0</strong> at: <a href='https://wandb.ai/totikos/model_fcnn_baseline_6_large_81k_search_108-hpo/runs/jazik1my' target=\"_blank\">https://wandb.ai/totikos/model_fcnn_baseline_6_large_81k_search_108-hpo/runs/jazik1my</a><br/> View job at <a href='https://wandb.ai/totikos/model_fcnn_baseline_6_large_81k_search_108-hpo/jobs/QXJ0aWZhY3RDb2xsZWN0aW9uOjEzOTc4MjU0OA==/version_details/v1' target=\"_blank\">https://wandb.ai/totikos/model_fcnn_baseline_6_large_81k_search_108-hpo/jobs/QXJ0aWZhY3RDb2xsZWN0aW9uOjEzOTc4MjU0OA==/version_details/v1</a><br/>Synced 5 W&B file(s), 0 media file(s), 0 artifact file(s) and 0 other file(s)"
      ],
      "text/plain": [
       "<IPython.core.display.HTML object>"
      ]
     },
     "metadata": {},
     "output_type": "display_data"
    },
    {
     "data": {
      "text/html": [
       "Find logs at: <code>C:\\Users\\nekta\\OneDrive\\Desktop\\botanic-emotion-recognition\\logs\\wandb\\run-20240214_213953-jazik1my\\logs</code>"
      ],
      "text/plain": [
       "<IPython.core.display.HTML object>"
      ]
     },
     "metadata": {},
     "output_type": "display_data"
    },
    {
     "data": {
      "text/html": [
       "Successfully finished last run (ID:jazik1my). Initializing new run:<br/>"
      ],
      "text/plain": [
       "<IPython.core.display.HTML object>"
      ]
     },
     "metadata": {},
     "output_type": "display_data"
    },
    {
     "data": {
      "text/html": [
       "wandb version 0.16.3 is available!  To upgrade, please run:\n",
       " $ pip install wandb --upgrade"
      ],
      "text/plain": [
       "<IPython.core.display.HTML object>"
      ]
     },
     "metadata": {},
     "output_type": "display_data"
    },
    {
     "data": {
      "text/html": [
       "Tracking run with wandb version 0.15.12"
      ],
      "text/plain": [
       "<IPython.core.display.HTML object>"
      ]
     },
     "metadata": {},
     "output_type": "display_data"
    },
    {
     "data": {
      "text/html": [
       "Run data is saved locally in <code>C:\\Users\\nekta\\OneDrive\\Desktop\\botanic-emotion-recognition\\logs\\wandb\\run-20240214_214004-gxa1sw1g</code>"
      ],
      "text/plain": [
       "<IPython.core.display.HTML object>"
      ]
     },
     "metadata": {},
     "output_type": "display_data"
    },
    {
     "data": {
      "text/html": [
       "Syncing run <strong><a href='https://wandb.ai/totikos/model_fcnn_baseline_6_large_81k_search_108-hpo/runs/gxa1sw1g' target=\"_blank\">41_fcnn_baseline_6_large_81k_search_108_lr-0.001_hidden1-64_hidden2-16_dr-0.1</a></strong> to <a href='https://wandb.ai/totikos/model_fcnn_baseline_6_large_81k_search_108-hpo' target=\"_blank\">Weights & Biases</a> (<a href='https://wandb.me/run' target=\"_blank\">docs</a>)<br/>"
      ],
      "text/plain": [
       "<IPython.core.display.HTML object>"
      ]
     },
     "metadata": {},
     "output_type": "display_data"
    },
    {
     "data": {
      "text/html": [
       " View project at <a href='https://wandb.ai/totikos/model_fcnn_baseline_6_large_81k_search_108-hpo' target=\"_blank\">https://wandb.ai/totikos/model_fcnn_baseline_6_large_81k_search_108-hpo</a>"
      ],
      "text/plain": [
       "<IPython.core.display.HTML object>"
      ]
     },
     "metadata": {},
     "output_type": "display_data"
    },
    {
     "data": {
      "text/html": [
       " View run at <a href='https://wandb.ai/totikos/model_fcnn_baseline_6_large_81k_search_108-hpo/runs/gxa1sw1g' target=\"_blank\">https://wandb.ai/totikos/model_fcnn_baseline_6_large_81k_search_108-hpo/runs/gxa1sw1g</a>"
      ],
      "text/plain": [
       "<IPython.core.display.HTML object>"
      ]
     },
     "metadata": {},
     "output_type": "display_data"
    },
    {
     "name": "stderr",
     "output_type": "stream",
     "text": [
      "100%|███████████████████████████████████████| 899/899 [00:05<00:00, 150.05it/s]\n",
      "100%|█████████████████████████████████████████| 82/82 [00:00<00:00, 668.48it/s]\n",
      "100%|███████████████████████████████████████| 899/899 [00:06<00:00, 130.22it/s]\n",
      "100%|█████████████████████████████████████████| 82/82 [00:00<00:00, 556.13it/s]\n",
      "100%|███████████████████████████████████████| 899/899 [00:07<00:00, 128.36it/s]\n",
      "100%|█████████████████████████████████████████| 82/82 [00:00<00:00, 541.22it/s]\n",
      "100%|███████████████████████████████████████| 899/899 [00:06<00:00, 128.51it/s]\n",
      "100%|█████████████████████████████████████████| 82/82 [00:00<00:00, 550.10it/s]\n",
      "100%|███████████████████████████████████████| 899/899 [00:07<00:00, 127.84it/s]\n",
      "100%|█████████████████████████████████████████| 82/82 [00:00<00:00, 586.45it/s]\n",
      "100%|███████████████████████████████████████| 899/899 [00:07<00:00, 123.04it/s]\n",
      "100%|█████████████████████████████████████████| 82/82 [00:00<00:00, 572.45it/s]\n",
      "100%|███████████████████████████████████████| 899/899 [00:06<00:00, 129.52it/s]\n",
      "100%|█████████████████████████████████████████| 82/82 [00:00<00:00, 568.05it/s]\n",
      "100%|███████████████████████████████████████| 899/899 [00:06<00:00, 130.04it/s]\n",
      "100%|█████████████████████████████████████████| 82/82 [00:00<00:00, 529.54it/s]\n",
      "100%|███████████████████████████████████████| 899/899 [00:06<00:00, 129.32it/s]\n",
      "100%|█████████████████████████████████████████| 82/82 [00:00<00:00, 573.39it/s]\n",
      "100%|███████████████████████████████████████| 899/899 [00:06<00:00, 128.96it/s]\n",
      "100%|█████████████████████████████████████████| 82/82 [00:00<00:00, 551.58it/s]\n",
      "100%|███████████████████████████████████████| 899/899 [00:06<00:00, 129.24it/s]\n",
      "100%|█████████████████████████████████████████| 82/82 [00:00<00:00, 567.75it/s]\n",
      "100%|███████████████████████████████████████| 899/899 [00:07<00:00, 127.12it/s]\n",
      "100%|█████████████████████████████████████████| 82/82 [00:00<00:00, 582.16it/s]\n",
      "100%|███████████████████████████████████████| 899/899 [00:07<00:00, 127.34it/s]\n",
      "100%|█████████████████████████████████████████| 82/82 [00:00<00:00, 540.44it/s]\n",
      "100%|███████████████████████████████████████| 899/899 [00:06<00:00, 128.95it/s]\n",
      "100%|█████████████████████████████████████████| 82/82 [00:00<00:00, 589.42it/s]\n",
      "100%|███████████████████████████████████████| 899/899 [00:07<00:00, 127.84it/s]\n",
      "100%|█████████████████████████████████████████| 82/82 [00:00<00:00, 450.04it/s]\n",
      "100%|███████████████████████████████████████| 899/899 [00:07<00:00, 120.15it/s]\n",
      "100%|█████████████████████████████████████████| 82/82 [00:00<00:00, 587.52it/s]\n",
      "100%|███████████████████████████████████████| 899/899 [00:07<00:00, 127.31it/s]\n",
      "100%|█████████████████████████████████████████| 82/82 [00:00<00:00, 552.98it/s]\n",
      "100%|███████████████████████████████████████| 899/899 [00:06<00:00, 129.21it/s]\n",
      "100%|█████████████████████████████████████████| 82/82 [00:00<00:00, 586.41it/s]\n",
      "100%|███████████████████████████████████████| 899/899 [00:06<00:00, 128.80it/s]\n",
      "100%|█████████████████████████████████████████| 82/82 [00:00<00:00, 574.40it/s]\n",
      "100%|███████████████████████████████████████| 899/899 [00:06<00:00, 128.45it/s]\n",
      "100%|█████████████████████████████████████████| 82/82 [00:00<00:00, 562.88it/s]\n"
     ]
    },
    {
     "data": {
      "text/html": [
       "Waiting for W&B process to finish... <strong style=\"color:green\">(success).</strong>"
      ],
      "text/plain": [
       "<IPython.core.display.HTML object>"
      ]
     },
     "metadata": {},
     "output_type": "display_data"
    },
    {
     "data": {
      "text/html": [
       "<style>\n",
       "    table.wandb td:nth-child(1) { padding: 0 10px; text-align: left ; width: auto;} td:nth-child(2) {text-align: left ; width: 100%}\n",
       "    .wandb-row { display: flex; flex-direction: row; flex-wrap: wrap; justify-content: flex-start; width: 100% }\n",
       "    .wandb-col { display: flex; flex-direction: column; flex-basis: 100%; flex: 1; padding: 10px; }\n",
       "    </style>\n",
       "<div class=\"wandb-row\"><div class=\"wandb-col\"><h3>Run history:</h3><br/><table class=\"wandb\"><tr><td>accuracy</td><td>▃▃▂▃▄▇▄▄▂▁▆▇▅▃▄▆▄█▆▆</td></tr><tr><td>balanced_accuracy</td><td>█▃▇▃▂▇▃▁▅▅▄▅▅▃▁▃▃▆▅▅</td></tr><tr><td>f1_weighted</td><td>▄▄▁▄▅▆▅▄▇▂▅▅▅▄▄▄▅█▆▆</td></tr><tr><td>precision</td><td>▃▁▁▁▁▁▁▁▃▃▁█▁▁▁▁▁▃█▁</td></tr><tr><td>recall</td><td>▃▃▂▃▄▇▄▄▂▁▆▇▅▃▄▆▄█▆▆</td></tr></table><br/></div><div class=\"wandb-col\"><h3>Run summary:</h3><br/><table class=\"wandb\"><tr><td>accuracy</td><td>0.28808</td></tr><tr><td>balanced_accuracy</td><td>0.16661</td></tr><tr><td>f1_weighted</td><td>0.20288</td></tr><tr><td>precision</td><td>0.15748</td></tr><tr><td>recall</td><td>0.28808</td></tr></table><br/></div></div>"
      ],
      "text/plain": [
       "<IPython.core.display.HTML object>"
      ]
     },
     "metadata": {},
     "output_type": "display_data"
    },
    {
     "data": {
      "text/html": [
       " View run <strong style=\"color:#cdcd00\">41_fcnn_baseline_6_large_81k_search_108_lr-0.001_hidden1-64_hidden2-16_dr-0.1</strong> at: <a href='https://wandb.ai/totikos/model_fcnn_baseline_6_large_81k_search_108-hpo/runs/gxa1sw1g' target=\"_blank\">https://wandb.ai/totikos/model_fcnn_baseline_6_large_81k_search_108-hpo/runs/gxa1sw1g</a><br/> View job at <a href='https://wandb.ai/totikos/model_fcnn_baseline_6_large_81k_search_108-hpo/jobs/QXJ0aWZhY3RDb2xsZWN0aW9uOjEzOTc4MjU0OA==/version_details/v2' target=\"_blank\">https://wandb.ai/totikos/model_fcnn_baseline_6_large_81k_search_108-hpo/jobs/QXJ0aWZhY3RDb2xsZWN0aW9uOjEzOTc4MjU0OA==/version_details/v2</a><br/>Synced 5 W&B file(s), 0 media file(s), 0 artifact file(s) and 0 other file(s)"
      ],
      "text/plain": [
       "<IPython.core.display.HTML object>"
      ]
     },
     "metadata": {},
     "output_type": "display_data"
    },
    {
     "data": {
      "text/html": [
       "Find logs at: <code>C:\\Users\\nekta\\OneDrive\\Desktop\\botanic-emotion-recognition\\logs\\wandb\\run-20240214_214004-gxa1sw1g\\logs</code>"
      ],
      "text/plain": [
       "<IPython.core.display.HTML object>"
      ]
     },
     "metadata": {},
     "output_type": "display_data"
    },
    {
     "name": "stderr",
     "output_type": "stream",
     "text": [
      "[I 2024-02-14 21:42:40,255] Trial 41 finished with value: 0.1666096448354513 and parameters: {'dropout_rate': 0.1, 'hidden_dim_1': 64, 'hidden_dim_2': 16, 'lr': 0.001}. Best is trial 6 with value: 0.17126425545780385.\n"
     ]
    },
    {
     "name": "stdout",
     "output_type": "stream",
     "text": [
      "{'hidden_dim_1': 32, 'hidden_dim_2': 64, 'dropout_rate': 0.1}\n"
     ]
    },
    {
     "data": {
      "text/html": [
       "wandb version 0.16.3 is available!  To upgrade, please run:\n",
       " $ pip install wandb --upgrade"
      ],
      "text/plain": [
       "<IPython.core.display.HTML object>"
      ]
     },
     "metadata": {},
     "output_type": "display_data"
    },
    {
     "data": {
      "text/html": [
       "Tracking run with wandb version 0.15.12"
      ],
      "text/plain": [
       "<IPython.core.display.HTML object>"
      ]
     },
     "metadata": {},
     "output_type": "display_data"
    },
    {
     "data": {
      "text/html": [
       "Run data is saved locally in <code>C:\\Users\\nekta\\OneDrive\\Desktop\\botanic-emotion-recognition\\logs\\wandb\\run-20240214_214240-tisgkww8</code>"
      ],
      "text/plain": [
       "<IPython.core.display.HTML object>"
      ]
     },
     "metadata": {},
     "output_type": "display_data"
    },
    {
     "data": {
      "text/html": [
       "Syncing run <strong><a href='https://wandb.ai/totikos/model_fcnn_baseline_6_large_81k_search_108-hpo/runs/tisgkww8' target=\"_blank\">42_fcnn_baseline_6_large_81k_search_108_lr-0.01_hidden1-32_hidden2-64_dr-0.1</a></strong> to <a href='https://wandb.ai/totikos/model_fcnn_baseline_6_large_81k_search_108-hpo' target=\"_blank\">Weights & Biases</a> (<a href='https://wandb.me/run' target=\"_blank\">docs</a>)<br/>"
      ],
      "text/plain": [
       "<IPython.core.display.HTML object>"
      ]
     },
     "metadata": {},
     "output_type": "display_data"
    },
    {
     "data": {
      "text/html": [
       " View project at <a href='https://wandb.ai/totikos/model_fcnn_baseline_6_large_81k_search_108-hpo' target=\"_blank\">https://wandb.ai/totikos/model_fcnn_baseline_6_large_81k_search_108-hpo</a>"
      ],
      "text/plain": [
       "<IPython.core.display.HTML object>"
      ]
     },
     "metadata": {},
     "output_type": "display_data"
    },
    {
     "data": {
      "text/html": [
       " View run at <a href='https://wandb.ai/totikos/model_fcnn_baseline_6_large_81k_search_108-hpo/runs/tisgkww8' target=\"_blank\">https://wandb.ai/totikos/model_fcnn_baseline_6_large_81k_search_108-hpo/runs/tisgkww8</a>"
      ],
      "text/plain": [
       "<IPython.core.display.HTML object>"
      ]
     },
     "metadata": {},
     "output_type": "display_data"
    },
    {
     "name": "stderr",
     "output_type": "stream",
     "text": [
      "100%|███████████████████████████████████████| 899/899 [00:04<00:00, 213.75it/s]\n",
      "100%|█████████████████████████████████████████| 82/82 [00:00<00:00, 714.96it/s]\n",
      "[I 2024-02-14 21:42:46,189] Trial 42 pruned. \n"
     ]
    },
    {
     "name": "stdout",
     "output_type": "stream",
     "text": [
      "{'hidden_dim_1': 16, 'hidden_dim_2': 64, 'dropout_rate': 0.1}\n"
     ]
    },
    {
     "data": {
      "text/html": [
       "Finishing last run (ID:tisgkww8) before initializing another..."
      ],
      "text/plain": [
       "<IPython.core.display.HTML object>"
      ]
     },
     "metadata": {},
     "output_type": "display_data"
    },
    {
     "data": {
      "text/html": [
       "Waiting for W&B process to finish... <strong style=\"color:green\">(success).</strong>"
      ],
      "text/plain": [
       "<IPython.core.display.HTML object>"
      ]
     },
     "metadata": {},
     "output_type": "display_data"
    },
    {
     "data": {
      "text/html": [
       " View run <strong style=\"color:#cdcd00\">42_fcnn_baseline_6_large_81k_search_108_lr-0.01_hidden1-32_hidden2-64_dr-0.1</strong> at: <a href='https://wandb.ai/totikos/model_fcnn_baseline_6_large_81k_search_108-hpo/runs/tisgkww8' target=\"_blank\">https://wandb.ai/totikos/model_fcnn_baseline_6_large_81k_search_108-hpo/runs/tisgkww8</a><br/> View job at <a href='https://wandb.ai/totikos/model_fcnn_baseline_6_large_81k_search_108-hpo/jobs/QXJ0aWZhY3RDb2xsZWN0aW9uOjEzOTc4MjU0OA==/version_details/v1' target=\"_blank\">https://wandb.ai/totikos/model_fcnn_baseline_6_large_81k_search_108-hpo/jobs/QXJ0aWZhY3RDb2xsZWN0aW9uOjEzOTc4MjU0OA==/version_details/v1</a><br/>Synced 5 W&B file(s), 0 media file(s), 0 artifact file(s) and 0 other file(s)"
      ],
      "text/plain": [
       "<IPython.core.display.HTML object>"
      ]
     },
     "metadata": {},
     "output_type": "display_data"
    },
    {
     "data": {
      "text/html": [
       "Find logs at: <code>C:\\Users\\nekta\\OneDrive\\Desktop\\botanic-emotion-recognition\\logs\\wandb\\run-20240214_214240-tisgkww8\\logs</code>"
      ],
      "text/plain": [
       "<IPython.core.display.HTML object>"
      ]
     },
     "metadata": {},
     "output_type": "display_data"
    },
    {
     "data": {
      "text/html": [
       "Successfully finished last run (ID:tisgkww8). Initializing new run:<br/>"
      ],
      "text/plain": [
       "<IPython.core.display.HTML object>"
      ]
     },
     "metadata": {},
     "output_type": "display_data"
    },
    {
     "data": {
      "text/html": [
       "wandb version 0.16.3 is available!  To upgrade, please run:\n",
       " $ pip install wandb --upgrade"
      ],
      "text/plain": [
       "<IPython.core.display.HTML object>"
      ]
     },
     "metadata": {},
     "output_type": "display_data"
    },
    {
     "data": {
      "text/html": [
       "Tracking run with wandb version 0.15.12"
      ],
      "text/plain": [
       "<IPython.core.display.HTML object>"
      ]
     },
     "metadata": {},
     "output_type": "display_data"
    },
    {
     "data": {
      "text/html": [
       "Run data is saved locally in <code>C:\\Users\\nekta\\OneDrive\\Desktop\\botanic-emotion-recognition\\logs\\wandb\\run-20240214_214246-uhjd6k3k</code>"
      ],
      "text/plain": [
       "<IPython.core.display.HTML object>"
      ]
     },
     "metadata": {},
     "output_type": "display_data"
    },
    {
     "data": {
      "text/html": [
       "Syncing run <strong><a href='https://wandb.ai/totikos/model_fcnn_baseline_6_large_81k_search_108-hpo/runs/uhjd6k3k' target=\"_blank\">43_fcnn_baseline_6_large_81k_search_108_lr-0.0001_hidden1-16_hidden2-64_dr-0.1</a></strong> to <a href='https://wandb.ai/totikos/model_fcnn_baseline_6_large_81k_search_108-hpo' target=\"_blank\">Weights & Biases</a> (<a href='https://wandb.me/run' target=\"_blank\">docs</a>)<br/>"
      ],
      "text/plain": [
       "<IPython.core.display.HTML object>"
      ]
     },
     "metadata": {},
     "output_type": "display_data"
    },
    {
     "data": {
      "text/html": [
       " View project at <a href='https://wandb.ai/totikos/model_fcnn_baseline_6_large_81k_search_108-hpo' target=\"_blank\">https://wandb.ai/totikos/model_fcnn_baseline_6_large_81k_search_108-hpo</a>"
      ],
      "text/plain": [
       "<IPython.core.display.HTML object>"
      ]
     },
     "metadata": {},
     "output_type": "display_data"
    },
    {
     "data": {
      "text/html": [
       " View run at <a href='https://wandb.ai/totikos/model_fcnn_baseline_6_large_81k_search_108-hpo/runs/uhjd6k3k' target=\"_blank\">https://wandb.ai/totikos/model_fcnn_baseline_6_large_81k_search_108-hpo/runs/uhjd6k3k</a>"
      ],
      "text/plain": [
       "<IPython.core.display.HTML object>"
      ]
     },
     "metadata": {},
     "output_type": "display_data"
    },
    {
     "name": "stderr",
     "output_type": "stream",
     "text": [
      "100%|███████████████████████████████████████| 899/899 [00:02<00:00, 345.07it/s]\n",
      "100%|█████████████████████████████████████████| 82/82 [00:00<00:00, 869.95it/s]\n",
      "[I 2024-02-14 21:42:56,097] Trial 43 pruned. \n"
     ]
    },
    {
     "name": "stdout",
     "output_type": "stream",
     "text": [
      "{'hidden_dim_1': 32, 'hidden_dim_2': 32, 'dropout_rate': 0}\n"
     ]
    },
    {
     "data": {
      "text/html": [
       "Finishing last run (ID:uhjd6k3k) before initializing another..."
      ],
      "text/plain": [
       "<IPython.core.display.HTML object>"
      ]
     },
     "metadata": {},
     "output_type": "display_data"
    },
    {
     "data": {
      "text/html": [
       "Waiting for W&B process to finish... <strong style=\"color:green\">(success).</strong>"
      ],
      "text/plain": [
       "<IPython.core.display.HTML object>"
      ]
     },
     "metadata": {},
     "output_type": "display_data"
    },
    {
     "data": {
      "text/html": [
       " View run <strong style=\"color:#cdcd00\">43_fcnn_baseline_6_large_81k_search_108_lr-0.0001_hidden1-16_hidden2-64_dr-0.1</strong> at: <a href='https://wandb.ai/totikos/model_fcnn_baseline_6_large_81k_search_108-hpo/runs/uhjd6k3k' target=\"_blank\">https://wandb.ai/totikos/model_fcnn_baseline_6_large_81k_search_108-hpo/runs/uhjd6k3k</a><br/> View job at <a href='https://wandb.ai/totikos/model_fcnn_baseline_6_large_81k_search_108-hpo/jobs/QXJ0aWZhY3RDb2xsZWN0aW9uOjEzOTc4MjU0OA==/version_details/v1' target=\"_blank\">https://wandb.ai/totikos/model_fcnn_baseline_6_large_81k_search_108-hpo/jobs/QXJ0aWZhY3RDb2xsZWN0aW9uOjEzOTc4MjU0OA==/version_details/v1</a><br/>Synced 5 W&B file(s), 0 media file(s), 0 artifact file(s) and 0 other file(s)"
      ],
      "text/plain": [
       "<IPython.core.display.HTML object>"
      ]
     },
     "metadata": {},
     "output_type": "display_data"
    },
    {
     "data": {
      "text/html": [
       "Find logs at: <code>C:\\Users\\nekta\\OneDrive\\Desktop\\botanic-emotion-recognition\\logs\\wandb\\run-20240214_214246-uhjd6k3k\\logs</code>"
      ],
      "text/plain": [
       "<IPython.core.display.HTML object>"
      ]
     },
     "metadata": {},
     "output_type": "display_data"
    },
    {
     "data": {
      "text/html": [
       "Successfully finished last run (ID:uhjd6k3k). Initializing new run:<br/>"
      ],
      "text/plain": [
       "<IPython.core.display.HTML object>"
      ]
     },
     "metadata": {},
     "output_type": "display_data"
    },
    {
     "data": {
      "text/html": [
       "wandb version 0.16.3 is available!  To upgrade, please run:\n",
       " $ pip install wandb --upgrade"
      ],
      "text/plain": [
       "<IPython.core.display.HTML object>"
      ]
     },
     "metadata": {},
     "output_type": "display_data"
    },
    {
     "data": {
      "text/html": [
       "Tracking run with wandb version 0.15.12"
      ],
      "text/plain": [
       "<IPython.core.display.HTML object>"
      ]
     },
     "metadata": {},
     "output_type": "display_data"
    },
    {
     "data": {
      "text/html": [
       "Run data is saved locally in <code>C:\\Users\\nekta\\OneDrive\\Desktop\\botanic-emotion-recognition\\logs\\wandb\\run-20240214_214256-di0mosuk</code>"
      ],
      "text/plain": [
       "<IPython.core.display.HTML object>"
      ]
     },
     "metadata": {},
     "output_type": "display_data"
    },
    {
     "data": {
      "text/html": [
       "Syncing run <strong><a href='https://wandb.ai/totikos/model_fcnn_baseline_6_large_81k_search_108-hpo/runs/di0mosuk' target=\"_blank\">44_fcnn_baseline_6_large_81k_search_108_lr-0.0001_hidden1-32_hidden2-32_dr-0</a></strong> to <a href='https://wandb.ai/totikos/model_fcnn_baseline_6_large_81k_search_108-hpo' target=\"_blank\">Weights & Biases</a> (<a href='https://wandb.me/run' target=\"_blank\">docs</a>)<br/>"
      ],
      "text/plain": [
       "<IPython.core.display.HTML object>"
      ]
     },
     "metadata": {},
     "output_type": "display_data"
    },
    {
     "data": {
      "text/html": [
       " View project at <a href='https://wandb.ai/totikos/model_fcnn_baseline_6_large_81k_search_108-hpo' target=\"_blank\">https://wandb.ai/totikos/model_fcnn_baseline_6_large_81k_search_108-hpo</a>"
      ],
      "text/plain": [
       "<IPython.core.display.HTML object>"
      ]
     },
     "metadata": {},
     "output_type": "display_data"
    },
    {
     "data": {
      "text/html": [
       " View run at <a href='https://wandb.ai/totikos/model_fcnn_baseline_6_large_81k_search_108-hpo/runs/di0mosuk' target=\"_blank\">https://wandb.ai/totikos/model_fcnn_baseline_6_large_81k_search_108-hpo/runs/di0mosuk</a>"
      ],
      "text/plain": [
       "<IPython.core.display.HTML object>"
      ]
     },
     "metadata": {},
     "output_type": "display_data"
    },
    {
     "name": "stderr",
     "output_type": "stream",
     "text": [
      "100%|███████████████████████████████████████| 899/899 [00:04<00:00, 208.13it/s]\n",
      "100%|█████████████████████████████████████████| 82/82 [00:00<00:00, 728.52it/s]\n",
      "[I 2024-02-14 21:43:07,401] Trial 44 pruned. \n"
     ]
    },
    {
     "name": "stdout",
     "output_type": "stream",
     "text": [
      "{'hidden_dim_1': 32, 'hidden_dim_2': 16, 'dropout_rate': 0}\n"
     ]
    },
    {
     "data": {
      "text/html": [
       "Finishing last run (ID:di0mosuk) before initializing another..."
      ],
      "text/plain": [
       "<IPython.core.display.HTML object>"
      ]
     },
     "metadata": {},
     "output_type": "display_data"
    },
    {
     "data": {
      "text/html": [
       "Waiting for W&B process to finish... <strong style=\"color:green\">(success).</strong>"
      ],
      "text/plain": [
       "<IPython.core.display.HTML object>"
      ]
     },
     "metadata": {},
     "output_type": "display_data"
    },
    {
     "data": {
      "text/html": [
       " View run <strong style=\"color:#cdcd00\">44_fcnn_baseline_6_large_81k_search_108_lr-0.0001_hidden1-32_hidden2-32_dr-0</strong> at: <a href='https://wandb.ai/totikos/model_fcnn_baseline_6_large_81k_search_108-hpo/runs/di0mosuk' target=\"_blank\">https://wandb.ai/totikos/model_fcnn_baseline_6_large_81k_search_108-hpo/runs/di0mosuk</a><br/> View job at <a href='https://wandb.ai/totikos/model_fcnn_baseline_6_large_81k_search_108-hpo/jobs/QXJ0aWZhY3RDb2xsZWN0aW9uOjEzOTc4MjU0OA==/version_details/v1' target=\"_blank\">https://wandb.ai/totikos/model_fcnn_baseline_6_large_81k_search_108-hpo/jobs/QXJ0aWZhY3RDb2xsZWN0aW9uOjEzOTc4MjU0OA==/version_details/v1</a><br/>Synced 5 W&B file(s), 0 media file(s), 0 artifact file(s) and 0 other file(s)"
      ],
      "text/plain": [
       "<IPython.core.display.HTML object>"
      ]
     },
     "metadata": {},
     "output_type": "display_data"
    },
    {
     "data": {
      "text/html": [
       "Find logs at: <code>C:\\Users\\nekta\\OneDrive\\Desktop\\botanic-emotion-recognition\\logs\\wandb\\run-20240214_214256-di0mosuk\\logs</code>"
      ],
      "text/plain": [
       "<IPython.core.display.HTML object>"
      ]
     },
     "metadata": {},
     "output_type": "display_data"
    },
    {
     "data": {
      "text/html": [
       "Successfully finished last run (ID:di0mosuk). Initializing new run:<br/>"
      ],
      "text/plain": [
       "<IPython.core.display.HTML object>"
      ]
     },
     "metadata": {},
     "output_type": "display_data"
    },
    {
     "data": {
      "text/html": [
       "wandb version 0.16.3 is available!  To upgrade, please run:\n",
       " $ pip install wandb --upgrade"
      ],
      "text/plain": [
       "<IPython.core.display.HTML object>"
      ]
     },
     "metadata": {},
     "output_type": "display_data"
    },
    {
     "data": {
      "text/html": [
       "Tracking run with wandb version 0.15.12"
      ],
      "text/plain": [
       "<IPython.core.display.HTML object>"
      ]
     },
     "metadata": {},
     "output_type": "display_data"
    },
    {
     "data": {
      "text/html": [
       "Run data is saved locally in <code>C:\\Users\\nekta\\OneDrive\\Desktop\\botanic-emotion-recognition\\logs\\wandb\\run-20240214_214307-ztv450cq</code>"
      ],
      "text/plain": [
       "<IPython.core.display.HTML object>"
      ]
     },
     "metadata": {},
     "output_type": "display_data"
    },
    {
     "data": {
      "text/html": [
       "Syncing run <strong><a href='https://wandb.ai/totikos/model_fcnn_baseline_6_large_81k_search_108-hpo/runs/ztv450cq' target=\"_blank\">45_fcnn_baseline_6_large_81k_search_108_lr-0.0001_hidden1-32_hidden2-16_dr-0</a></strong> to <a href='https://wandb.ai/totikos/model_fcnn_baseline_6_large_81k_search_108-hpo' target=\"_blank\">Weights & Biases</a> (<a href='https://wandb.me/run' target=\"_blank\">docs</a>)<br/>"
      ],
      "text/plain": [
       "<IPython.core.display.HTML object>"
      ]
     },
     "metadata": {},
     "output_type": "display_data"
    },
    {
     "data": {
      "text/html": [
       " View project at <a href='https://wandb.ai/totikos/model_fcnn_baseline_6_large_81k_search_108-hpo' target=\"_blank\">https://wandb.ai/totikos/model_fcnn_baseline_6_large_81k_search_108-hpo</a>"
      ],
      "text/plain": [
       "<IPython.core.display.HTML object>"
      ]
     },
     "metadata": {},
     "output_type": "display_data"
    },
    {
     "data": {
      "text/html": [
       " View run at <a href='https://wandb.ai/totikos/model_fcnn_baseline_6_large_81k_search_108-hpo/runs/ztv450cq' target=\"_blank\">https://wandb.ai/totikos/model_fcnn_baseline_6_large_81k_search_108-hpo/runs/ztv450cq</a>"
      ],
      "text/plain": [
       "<IPython.core.display.HTML object>"
      ]
     },
     "metadata": {},
     "output_type": "display_data"
    },
    {
     "name": "stderr",
     "output_type": "stream",
     "text": [
      "100%|███████████████████████████████████████| 899/899 [00:04<00:00, 220.69it/s]\n",
      "100%|█████████████████████████████████████████| 82/82 [00:00<00:00, 619.99it/s]\n",
      "[I 2024-02-14 21:43:18,738] Trial 45 pruned. \n"
     ]
    },
    {
     "name": "stdout",
     "output_type": "stream",
     "text": [
      "{'hidden_dim_1': 64, 'hidden_dim_2': 16, 'dropout_rate': 0}\n"
     ]
    },
    {
     "data": {
      "text/html": [
       "Finishing last run (ID:ztv450cq) before initializing another..."
      ],
      "text/plain": [
       "<IPython.core.display.HTML object>"
      ]
     },
     "metadata": {},
     "output_type": "display_data"
    },
    {
     "data": {
      "text/html": [
       "Waiting for W&B process to finish... <strong style=\"color:green\">(success).</strong>"
      ],
      "text/plain": [
       "<IPython.core.display.HTML object>"
      ]
     },
     "metadata": {},
     "output_type": "display_data"
    },
    {
     "data": {
      "text/html": [
       " View run <strong style=\"color:#cdcd00\">45_fcnn_baseline_6_large_81k_search_108_lr-0.0001_hidden1-32_hidden2-16_dr-0</strong> at: <a href='https://wandb.ai/totikos/model_fcnn_baseline_6_large_81k_search_108-hpo/runs/ztv450cq' target=\"_blank\">https://wandb.ai/totikos/model_fcnn_baseline_6_large_81k_search_108-hpo/runs/ztv450cq</a><br/> View job at <a href='https://wandb.ai/totikos/model_fcnn_baseline_6_large_81k_search_108-hpo/jobs/QXJ0aWZhY3RDb2xsZWN0aW9uOjEzOTc4MjU0OA==/version_details/v1' target=\"_blank\">https://wandb.ai/totikos/model_fcnn_baseline_6_large_81k_search_108-hpo/jobs/QXJ0aWZhY3RDb2xsZWN0aW9uOjEzOTc4MjU0OA==/version_details/v1</a><br/>Synced 5 W&B file(s), 0 media file(s), 0 artifact file(s) and 0 other file(s)"
      ],
      "text/plain": [
       "<IPython.core.display.HTML object>"
      ]
     },
     "metadata": {},
     "output_type": "display_data"
    },
    {
     "data": {
      "text/html": [
       "Find logs at: <code>C:\\Users\\nekta\\OneDrive\\Desktop\\botanic-emotion-recognition\\logs\\wandb\\run-20240214_214307-ztv450cq\\logs</code>"
      ],
      "text/plain": [
       "<IPython.core.display.HTML object>"
      ]
     },
     "metadata": {},
     "output_type": "display_data"
    },
    {
     "data": {
      "text/html": [
       "Successfully finished last run (ID:ztv450cq). Initializing new run:<br/>"
      ],
      "text/plain": [
       "<IPython.core.display.HTML object>"
      ]
     },
     "metadata": {},
     "output_type": "display_data"
    },
    {
     "data": {
      "text/html": [
       "wandb version 0.16.3 is available!  To upgrade, please run:\n",
       " $ pip install wandb --upgrade"
      ],
      "text/plain": [
       "<IPython.core.display.HTML object>"
      ]
     },
     "metadata": {},
     "output_type": "display_data"
    },
    {
     "data": {
      "text/html": [
       "Tracking run with wandb version 0.15.12"
      ],
      "text/plain": [
       "<IPython.core.display.HTML object>"
      ]
     },
     "metadata": {},
     "output_type": "display_data"
    },
    {
     "data": {
      "text/html": [
       "Run data is saved locally in <code>C:\\Users\\nekta\\OneDrive\\Desktop\\botanic-emotion-recognition\\logs\\wandb\\run-20240214_214318-kj7owtgw</code>"
      ],
      "text/plain": [
       "<IPython.core.display.HTML object>"
      ]
     },
     "metadata": {},
     "output_type": "display_data"
    },
    {
     "data": {
      "text/html": [
       "Syncing run <strong><a href='https://wandb.ai/totikos/model_fcnn_baseline_6_large_81k_search_108-hpo/runs/kj7owtgw' target=\"_blank\">46_fcnn_baseline_6_large_81k_search_108_lr-0.01_hidden1-64_hidden2-16_dr-0</a></strong> to <a href='https://wandb.ai/totikos/model_fcnn_baseline_6_large_81k_search_108-hpo' target=\"_blank\">Weights & Biases</a> (<a href='https://wandb.me/run' target=\"_blank\">docs</a>)<br/>"
      ],
      "text/plain": [
       "<IPython.core.display.HTML object>"
      ]
     },
     "metadata": {},
     "output_type": "display_data"
    },
    {
     "data": {
      "text/html": [
       " View project at <a href='https://wandb.ai/totikos/model_fcnn_baseline_6_large_81k_search_108-hpo' target=\"_blank\">https://wandb.ai/totikos/model_fcnn_baseline_6_large_81k_search_108-hpo</a>"
      ],
      "text/plain": [
       "<IPython.core.display.HTML object>"
      ]
     },
     "metadata": {},
     "output_type": "display_data"
    },
    {
     "data": {
      "text/html": [
       " View run at <a href='https://wandb.ai/totikos/model_fcnn_baseline_6_large_81k_search_108-hpo/runs/kj7owtgw' target=\"_blank\">https://wandb.ai/totikos/model_fcnn_baseline_6_large_81k_search_108-hpo/runs/kj7owtgw</a>"
      ],
      "text/plain": [
       "<IPython.core.display.HTML object>"
      ]
     },
     "metadata": {},
     "output_type": "display_data"
    },
    {
     "name": "stderr",
     "output_type": "stream",
     "text": [
      "100%|███████████████████████████████████████| 899/899 [00:06<00:00, 142.64it/s]\n",
      "100%|█████████████████████████████████████████| 82/82 [00:00<00:00, 562.16it/s]\n",
      "[I 2024-02-14 21:43:32,544] Trial 46 pruned. \n"
     ]
    },
    {
     "name": "stdout",
     "output_type": "stream",
     "text": [
      "{'hidden_dim_1': 128, 'hidden_dim_2': 64, 'dropout_rate': 0.1}\n"
     ]
    },
    {
     "data": {
      "text/html": [
       "Finishing last run (ID:kj7owtgw) before initializing another..."
      ],
      "text/plain": [
       "<IPython.core.display.HTML object>"
      ]
     },
     "metadata": {},
     "output_type": "display_data"
    },
    {
     "data": {
      "text/html": [
       "Waiting for W&B process to finish... <strong style=\"color:green\">(success).</strong>"
      ],
      "text/plain": [
       "<IPython.core.display.HTML object>"
      ]
     },
     "metadata": {},
     "output_type": "display_data"
    },
    {
     "data": {
      "text/html": [
       " View run <strong style=\"color:#cdcd00\">46_fcnn_baseline_6_large_81k_search_108_lr-0.01_hidden1-64_hidden2-16_dr-0</strong> at: <a href='https://wandb.ai/totikos/model_fcnn_baseline_6_large_81k_search_108-hpo/runs/kj7owtgw' target=\"_blank\">https://wandb.ai/totikos/model_fcnn_baseline_6_large_81k_search_108-hpo/runs/kj7owtgw</a><br/> View job at <a href='https://wandb.ai/totikos/model_fcnn_baseline_6_large_81k_search_108-hpo/jobs/QXJ0aWZhY3RDb2xsZWN0aW9uOjEzOTc4MjU0OA==/version_details/v1' target=\"_blank\">https://wandb.ai/totikos/model_fcnn_baseline_6_large_81k_search_108-hpo/jobs/QXJ0aWZhY3RDb2xsZWN0aW9uOjEzOTc4MjU0OA==/version_details/v1</a><br/>Synced 5 W&B file(s), 0 media file(s), 0 artifact file(s) and 0 other file(s)"
      ],
      "text/plain": [
       "<IPython.core.display.HTML object>"
      ]
     },
     "metadata": {},
     "output_type": "display_data"
    },
    {
     "data": {
      "text/html": [
       "Find logs at: <code>C:\\Users\\nekta\\OneDrive\\Desktop\\botanic-emotion-recognition\\logs\\wandb\\run-20240214_214318-kj7owtgw\\logs</code>"
      ],
      "text/plain": [
       "<IPython.core.display.HTML object>"
      ]
     },
     "metadata": {},
     "output_type": "display_data"
    },
    {
     "data": {
      "text/html": [
       "Successfully finished last run (ID:kj7owtgw). Initializing new run:<br/>"
      ],
      "text/plain": [
       "<IPython.core.display.HTML object>"
      ]
     },
     "metadata": {},
     "output_type": "display_data"
    },
    {
     "data": {
      "text/html": [
       "wandb version 0.16.3 is available!  To upgrade, please run:\n",
       " $ pip install wandb --upgrade"
      ],
      "text/plain": [
       "<IPython.core.display.HTML object>"
      ]
     },
     "metadata": {},
     "output_type": "display_data"
    },
    {
     "data": {
      "text/html": [
       "Tracking run with wandb version 0.15.12"
      ],
      "text/plain": [
       "<IPython.core.display.HTML object>"
      ]
     },
     "metadata": {},
     "output_type": "display_data"
    },
    {
     "data": {
      "text/html": [
       "Run data is saved locally in <code>C:\\Users\\nekta\\OneDrive\\Desktop\\botanic-emotion-recognition\\logs\\wandb\\run-20240214_214332-menucd2c</code>"
      ],
      "text/plain": [
       "<IPython.core.display.HTML object>"
      ]
     },
     "metadata": {},
     "output_type": "display_data"
    },
    {
     "data": {
      "text/html": [
       "Syncing run <strong><a href='https://wandb.ai/totikos/model_fcnn_baseline_6_large_81k_search_108-hpo/runs/menucd2c' target=\"_blank\">47_fcnn_baseline_6_large_81k_search_108_lr-0.01_hidden1-128_hidden2-64_dr-0.1</a></strong> to <a href='https://wandb.ai/totikos/model_fcnn_baseline_6_large_81k_search_108-hpo' target=\"_blank\">Weights & Biases</a> (<a href='https://wandb.me/run' target=\"_blank\">docs</a>)<br/>"
      ],
      "text/plain": [
       "<IPython.core.display.HTML object>"
      ]
     },
     "metadata": {},
     "output_type": "display_data"
    },
    {
     "data": {
      "text/html": [
       " View project at <a href='https://wandb.ai/totikos/model_fcnn_baseline_6_large_81k_search_108-hpo' target=\"_blank\">https://wandb.ai/totikos/model_fcnn_baseline_6_large_81k_search_108-hpo</a>"
      ],
      "text/plain": [
       "<IPython.core.display.HTML object>"
      ]
     },
     "metadata": {},
     "output_type": "display_data"
    },
    {
     "data": {
      "text/html": [
       " View run at <a href='https://wandb.ai/totikos/model_fcnn_baseline_6_large_81k_search_108-hpo/runs/menucd2c' target=\"_blank\">https://wandb.ai/totikos/model_fcnn_baseline_6_large_81k_search_108-hpo/runs/menucd2c</a>"
      ],
      "text/plain": [
       "<IPython.core.display.HTML object>"
      ]
     },
     "metadata": {},
     "output_type": "display_data"
    },
    {
     "name": "stderr",
     "output_type": "stream",
     "text": [
      "100%|████████████████████████████████████████| 899/899 [00:10<00:00, 82.94it/s]\n",
      "100%|█████████████████████████████████████████| 82/82 [00:00<00:00, 451.23it/s]\n",
      "[I 2024-02-14 21:43:52,736] Trial 47 pruned. \n"
     ]
    },
    {
     "name": "stdout",
     "output_type": "stream",
     "text": [
      "{'hidden_dim_1': 16, 'hidden_dim_2': 64, 'dropout_rate': 0.2}\n"
     ]
    },
    {
     "data": {
      "text/html": [
       "Finishing last run (ID:menucd2c) before initializing another..."
      ],
      "text/plain": [
       "<IPython.core.display.HTML object>"
      ]
     },
     "metadata": {},
     "output_type": "display_data"
    },
    {
     "data": {
      "text/html": [
       "Waiting for W&B process to finish... <strong style=\"color:green\">(success).</strong>"
      ],
      "text/plain": [
       "<IPython.core.display.HTML object>"
      ]
     },
     "metadata": {},
     "output_type": "display_data"
    },
    {
     "data": {
      "text/html": [
       " View run <strong style=\"color:#cdcd00\">47_fcnn_baseline_6_large_81k_search_108_lr-0.01_hidden1-128_hidden2-64_dr-0.1</strong> at: <a href='https://wandb.ai/totikos/model_fcnn_baseline_6_large_81k_search_108-hpo/runs/menucd2c' target=\"_blank\">https://wandb.ai/totikos/model_fcnn_baseline_6_large_81k_search_108-hpo/runs/menucd2c</a><br/> View job at <a href='https://wandb.ai/totikos/model_fcnn_baseline_6_large_81k_search_108-hpo/jobs/QXJ0aWZhY3RDb2xsZWN0aW9uOjEzOTc4MjU0OA==/version_details/v1' target=\"_blank\">https://wandb.ai/totikos/model_fcnn_baseline_6_large_81k_search_108-hpo/jobs/QXJ0aWZhY3RDb2xsZWN0aW9uOjEzOTc4MjU0OA==/version_details/v1</a><br/>Synced 5 W&B file(s), 0 media file(s), 0 artifact file(s) and 0 other file(s)"
      ],
      "text/plain": [
       "<IPython.core.display.HTML object>"
      ]
     },
     "metadata": {},
     "output_type": "display_data"
    },
    {
     "data": {
      "text/html": [
       "Find logs at: <code>C:\\Users\\nekta\\OneDrive\\Desktop\\botanic-emotion-recognition\\logs\\wandb\\run-20240214_214332-menucd2c\\logs</code>"
      ],
      "text/plain": [
       "<IPython.core.display.HTML object>"
      ]
     },
     "metadata": {},
     "output_type": "display_data"
    },
    {
     "data": {
      "text/html": [
       "Successfully finished last run (ID:menucd2c). Initializing new run:<br/>"
      ],
      "text/plain": [
       "<IPython.core.display.HTML object>"
      ]
     },
     "metadata": {},
     "output_type": "display_data"
    },
    {
     "data": {
      "text/html": [
       "wandb version 0.16.3 is available!  To upgrade, please run:\n",
       " $ pip install wandb --upgrade"
      ],
      "text/plain": [
       "<IPython.core.display.HTML object>"
      ]
     },
     "metadata": {},
     "output_type": "display_data"
    },
    {
     "data": {
      "text/html": [
       "Tracking run with wandb version 0.15.12"
      ],
      "text/plain": [
       "<IPython.core.display.HTML object>"
      ]
     },
     "metadata": {},
     "output_type": "display_data"
    },
    {
     "data": {
      "text/html": [
       "Run data is saved locally in <code>C:\\Users\\nekta\\OneDrive\\Desktop\\botanic-emotion-recognition\\logs\\wandb\\run-20240214_214352-siqo8n3p</code>"
      ],
      "text/plain": [
       "<IPython.core.display.HTML object>"
      ]
     },
     "metadata": {},
     "output_type": "display_data"
    },
    {
     "data": {
      "text/html": [
       "Syncing run <strong><a href='https://wandb.ai/totikos/model_fcnn_baseline_6_large_81k_search_108-hpo/runs/siqo8n3p' target=\"_blank\">48_fcnn_baseline_6_large_81k_search_108_lr-0.0001_hidden1-16_hidden2-64_dr-0.2</a></strong> to <a href='https://wandb.ai/totikos/model_fcnn_baseline_6_large_81k_search_108-hpo' target=\"_blank\">Weights & Biases</a> (<a href='https://wandb.me/run' target=\"_blank\">docs</a>)<br/>"
      ],
      "text/plain": [
       "<IPython.core.display.HTML object>"
      ]
     },
     "metadata": {},
     "output_type": "display_data"
    },
    {
     "data": {
      "text/html": [
       " View project at <a href='https://wandb.ai/totikos/model_fcnn_baseline_6_large_81k_search_108-hpo' target=\"_blank\">https://wandb.ai/totikos/model_fcnn_baseline_6_large_81k_search_108-hpo</a>"
      ],
      "text/plain": [
       "<IPython.core.display.HTML object>"
      ]
     },
     "metadata": {},
     "output_type": "display_data"
    },
    {
     "data": {
      "text/html": [
       " View run at <a href='https://wandb.ai/totikos/model_fcnn_baseline_6_large_81k_search_108-hpo/runs/siqo8n3p' target=\"_blank\">https://wandb.ai/totikos/model_fcnn_baseline_6_large_81k_search_108-hpo/runs/siqo8n3p</a>"
      ],
      "text/plain": [
       "<IPython.core.display.HTML object>"
      ]
     },
     "metadata": {},
     "output_type": "display_data"
    },
    {
     "name": "stderr",
     "output_type": "stream",
     "text": [
      "100%|███████████████████████████████████████| 899/899 [00:02<00:00, 339.99it/s]\n",
      "100%|█████████████████████████████████████████| 82/82 [00:00<00:00, 821.77it/s]\n",
      "[I 2024-02-14 21:44:03,048] Trial 48 pruned. \n"
     ]
    },
    {
     "name": "stdout",
     "output_type": "stream",
     "text": [
      "{'hidden_dim_1': 128, 'hidden_dim_2': 64, 'dropout_rate': 0.2}\n"
     ]
    },
    {
     "data": {
      "text/html": [
       "Finishing last run (ID:siqo8n3p) before initializing another..."
      ],
      "text/plain": [
       "<IPython.core.display.HTML object>"
      ]
     },
     "metadata": {},
     "output_type": "display_data"
    },
    {
     "data": {
      "text/html": [
       "Waiting for W&B process to finish... <strong style=\"color:green\">(success).</strong>"
      ],
      "text/plain": [
       "<IPython.core.display.HTML object>"
      ]
     },
     "metadata": {},
     "output_type": "display_data"
    },
    {
     "data": {
      "text/html": [
       " View run <strong style=\"color:#cdcd00\">48_fcnn_baseline_6_large_81k_search_108_lr-0.0001_hidden1-16_hidden2-64_dr-0.2</strong> at: <a href='https://wandb.ai/totikos/model_fcnn_baseline_6_large_81k_search_108-hpo/runs/siqo8n3p' target=\"_blank\">https://wandb.ai/totikos/model_fcnn_baseline_6_large_81k_search_108-hpo/runs/siqo8n3p</a><br/> View job at <a href='https://wandb.ai/totikos/model_fcnn_baseline_6_large_81k_search_108-hpo/jobs/QXJ0aWZhY3RDb2xsZWN0aW9uOjEzOTc4MjU0OA==/version_details/v1' target=\"_blank\">https://wandb.ai/totikos/model_fcnn_baseline_6_large_81k_search_108-hpo/jobs/QXJ0aWZhY3RDb2xsZWN0aW9uOjEzOTc4MjU0OA==/version_details/v1</a><br/>Synced 5 W&B file(s), 0 media file(s), 0 artifact file(s) and 0 other file(s)"
      ],
      "text/plain": [
       "<IPython.core.display.HTML object>"
      ]
     },
     "metadata": {},
     "output_type": "display_data"
    },
    {
     "data": {
      "text/html": [
       "Find logs at: <code>C:\\Users\\nekta\\OneDrive\\Desktop\\botanic-emotion-recognition\\logs\\wandb\\run-20240214_214352-siqo8n3p\\logs</code>"
      ],
      "text/plain": [
       "<IPython.core.display.HTML object>"
      ]
     },
     "metadata": {},
     "output_type": "display_data"
    },
    {
     "data": {
      "text/html": [
       "Successfully finished last run (ID:siqo8n3p). Initializing new run:<br/>"
      ],
      "text/plain": [
       "<IPython.core.display.HTML object>"
      ]
     },
     "metadata": {},
     "output_type": "display_data"
    },
    {
     "data": {
      "text/html": [
       "wandb version 0.16.3 is available!  To upgrade, please run:\n",
       " $ pip install wandb --upgrade"
      ],
      "text/plain": [
       "<IPython.core.display.HTML object>"
      ]
     },
     "metadata": {},
     "output_type": "display_data"
    },
    {
     "data": {
      "text/html": [
       "Tracking run with wandb version 0.15.12"
      ],
      "text/plain": [
       "<IPython.core.display.HTML object>"
      ]
     },
     "metadata": {},
     "output_type": "display_data"
    },
    {
     "data": {
      "text/html": [
       "Run data is saved locally in <code>C:\\Users\\nekta\\OneDrive\\Desktop\\botanic-emotion-recognition\\logs\\wandb\\run-20240214_214403-i5bq7tey</code>"
      ],
      "text/plain": [
       "<IPython.core.display.HTML object>"
      ]
     },
     "metadata": {},
     "output_type": "display_data"
    },
    {
     "data": {
      "text/html": [
       "Syncing run <strong><a href='https://wandb.ai/totikos/model_fcnn_baseline_6_large_81k_search_108-hpo/runs/i5bq7tey' target=\"_blank\">49_fcnn_baseline_6_large_81k_search_108_lr-0.01_hidden1-128_hidden2-64_dr-0.2</a></strong> to <a href='https://wandb.ai/totikos/model_fcnn_baseline_6_large_81k_search_108-hpo' target=\"_blank\">Weights & Biases</a> (<a href='https://wandb.me/run' target=\"_blank\">docs</a>)<br/>"
      ],
      "text/plain": [
       "<IPython.core.display.HTML object>"
      ]
     },
     "metadata": {},
     "output_type": "display_data"
    },
    {
     "data": {
      "text/html": [
       " View project at <a href='https://wandb.ai/totikos/model_fcnn_baseline_6_large_81k_search_108-hpo' target=\"_blank\">https://wandb.ai/totikos/model_fcnn_baseline_6_large_81k_search_108-hpo</a>"
      ],
      "text/plain": [
       "<IPython.core.display.HTML object>"
      ]
     },
     "metadata": {},
     "output_type": "display_data"
    },
    {
     "data": {
      "text/html": [
       " View run at <a href='https://wandb.ai/totikos/model_fcnn_baseline_6_large_81k_search_108-hpo/runs/i5bq7tey' target=\"_blank\">https://wandb.ai/totikos/model_fcnn_baseline_6_large_81k_search_108-hpo/runs/i5bq7tey</a>"
      ],
      "text/plain": [
       "<IPython.core.display.HTML object>"
      ]
     },
     "metadata": {},
     "output_type": "display_data"
    },
    {
     "name": "stderr",
     "output_type": "stream",
     "text": [
      "100%|████████████████████████████████████████| 899/899 [00:10<00:00, 82.71it/s]\n",
      "100%|█████████████████████████████████████████| 82/82 [00:00<00:00, 420.87it/s]\n",
      "[I 2024-02-14 21:44:20,948] Trial 49 pruned. \n"
     ]
    },
    {
     "name": "stdout",
     "output_type": "stream",
     "text": [
      "{'hidden_dim_1': 32, 'hidden_dim_2': 64, 'dropout_rate': 0}\n"
     ]
    },
    {
     "data": {
      "text/html": [
       "Finishing last run (ID:i5bq7tey) before initializing another..."
      ],
      "text/plain": [
       "<IPython.core.display.HTML object>"
      ]
     },
     "metadata": {},
     "output_type": "display_data"
    },
    {
     "data": {
      "text/html": [
       "Waiting for W&B process to finish... <strong style=\"color:green\">(success).</strong>"
      ],
      "text/plain": [
       "<IPython.core.display.HTML object>"
      ]
     },
     "metadata": {},
     "output_type": "display_data"
    },
    {
     "data": {
      "text/html": [
       " View run <strong style=\"color:#cdcd00\">49_fcnn_baseline_6_large_81k_search_108_lr-0.01_hidden1-128_hidden2-64_dr-0.2</strong> at: <a href='https://wandb.ai/totikos/model_fcnn_baseline_6_large_81k_search_108-hpo/runs/i5bq7tey' target=\"_blank\">https://wandb.ai/totikos/model_fcnn_baseline_6_large_81k_search_108-hpo/runs/i5bq7tey</a><br/> View job at <a href='https://wandb.ai/totikos/model_fcnn_baseline_6_large_81k_search_108-hpo/jobs/QXJ0aWZhY3RDb2xsZWN0aW9uOjEzOTc4MjU0OA==/version_details/v1' target=\"_blank\">https://wandb.ai/totikos/model_fcnn_baseline_6_large_81k_search_108-hpo/jobs/QXJ0aWZhY3RDb2xsZWN0aW9uOjEzOTc4MjU0OA==/version_details/v1</a><br/>Synced 5 W&B file(s), 0 media file(s), 0 artifact file(s) and 0 other file(s)"
      ],
      "text/plain": [
       "<IPython.core.display.HTML object>"
      ]
     },
     "metadata": {},
     "output_type": "display_data"
    },
    {
     "data": {
      "text/html": [
       "Find logs at: <code>C:\\Users\\nekta\\OneDrive\\Desktop\\botanic-emotion-recognition\\logs\\wandb\\run-20240214_214403-i5bq7tey\\logs</code>"
      ],
      "text/plain": [
       "<IPython.core.display.HTML object>"
      ]
     },
     "metadata": {},
     "output_type": "display_data"
    },
    {
     "data": {
      "text/html": [
       "Successfully finished last run (ID:i5bq7tey). Initializing new run:<br/>"
      ],
      "text/plain": [
       "<IPython.core.display.HTML object>"
      ]
     },
     "metadata": {},
     "output_type": "display_data"
    },
    {
     "data": {
      "text/html": [
       "wandb version 0.16.3 is available!  To upgrade, please run:\n",
       " $ pip install wandb --upgrade"
      ],
      "text/plain": [
       "<IPython.core.display.HTML object>"
      ]
     },
     "metadata": {},
     "output_type": "display_data"
    },
    {
     "data": {
      "text/html": [
       "Tracking run with wandb version 0.15.12"
      ],
      "text/plain": [
       "<IPython.core.display.HTML object>"
      ]
     },
     "metadata": {},
     "output_type": "display_data"
    },
    {
     "data": {
      "text/html": [
       "Run data is saved locally in <code>C:\\Users\\nekta\\OneDrive\\Desktop\\botanic-emotion-recognition\\logs\\wandb\\run-20240214_214421-g0jwp7il</code>"
      ],
      "text/plain": [
       "<IPython.core.display.HTML object>"
      ]
     },
     "metadata": {},
     "output_type": "display_data"
    },
    {
     "data": {
      "text/html": [
       "Syncing run <strong><a href='https://wandb.ai/totikos/model_fcnn_baseline_6_large_81k_search_108-hpo/runs/g0jwp7il' target=\"_blank\">50_fcnn_baseline_6_large_81k_search_108_lr-0.0001_hidden1-32_hidden2-64_dr-0</a></strong> to <a href='https://wandb.ai/totikos/model_fcnn_baseline_6_large_81k_search_108-hpo' target=\"_blank\">Weights & Biases</a> (<a href='https://wandb.me/run' target=\"_blank\">docs</a>)<br/>"
      ],
      "text/plain": [
       "<IPython.core.display.HTML object>"
      ]
     },
     "metadata": {},
     "output_type": "display_data"
    },
    {
     "data": {
      "text/html": [
       " View project at <a href='https://wandb.ai/totikos/model_fcnn_baseline_6_large_81k_search_108-hpo' target=\"_blank\">https://wandb.ai/totikos/model_fcnn_baseline_6_large_81k_search_108-hpo</a>"
      ],
      "text/plain": [
       "<IPython.core.display.HTML object>"
      ]
     },
     "metadata": {},
     "output_type": "display_data"
    },
    {
     "data": {
      "text/html": [
       " View run at <a href='https://wandb.ai/totikos/model_fcnn_baseline_6_large_81k_search_108-hpo/runs/g0jwp7il' target=\"_blank\">https://wandb.ai/totikos/model_fcnn_baseline_6_large_81k_search_108-hpo/runs/g0jwp7il</a>"
      ],
      "text/plain": [
       "<IPython.core.display.HTML object>"
      ]
     },
     "metadata": {},
     "output_type": "display_data"
    },
    {
     "name": "stderr",
     "output_type": "stream",
     "text": [
      "100%|███████████████████████████████████████| 899/899 [00:04<00:00, 222.45it/s]\n",
      "100%|█████████████████████████████████████████| 82/82 [00:00<00:00, 856.00it/s]\n",
      "[I 2024-02-14 21:44:32,674] Trial 50 pruned. \n"
     ]
    },
    {
     "name": "stdout",
     "output_type": "stream",
     "text": [
      "{'hidden_dim_1': 16, 'hidden_dim_2': 32, 'dropout_rate': 0.2}\n"
     ]
    },
    {
     "data": {
      "text/html": [
       "Finishing last run (ID:g0jwp7il) before initializing another..."
      ],
      "text/plain": [
       "<IPython.core.display.HTML object>"
      ]
     },
     "metadata": {},
     "output_type": "display_data"
    },
    {
     "data": {
      "text/html": [
       "Waiting for W&B process to finish... <strong style=\"color:green\">(success).</strong>"
      ],
      "text/plain": [
       "<IPython.core.display.HTML object>"
      ]
     },
     "metadata": {},
     "output_type": "display_data"
    },
    {
     "data": {
      "text/html": [
       " View run <strong style=\"color:#cdcd00\">50_fcnn_baseline_6_large_81k_search_108_lr-0.0001_hidden1-32_hidden2-64_dr-0</strong> at: <a href='https://wandb.ai/totikos/model_fcnn_baseline_6_large_81k_search_108-hpo/runs/g0jwp7il' target=\"_blank\">https://wandb.ai/totikos/model_fcnn_baseline_6_large_81k_search_108-hpo/runs/g0jwp7il</a><br/> View job at <a href='https://wandb.ai/totikos/model_fcnn_baseline_6_large_81k_search_108-hpo/jobs/QXJ0aWZhY3RDb2xsZWN0aW9uOjEzOTc4MjU0OA==/version_details/v1' target=\"_blank\">https://wandb.ai/totikos/model_fcnn_baseline_6_large_81k_search_108-hpo/jobs/QXJ0aWZhY3RDb2xsZWN0aW9uOjEzOTc4MjU0OA==/version_details/v1</a><br/>Synced 5 W&B file(s), 0 media file(s), 0 artifact file(s) and 0 other file(s)"
      ],
      "text/plain": [
       "<IPython.core.display.HTML object>"
      ]
     },
     "metadata": {},
     "output_type": "display_data"
    },
    {
     "data": {
      "text/html": [
       "Find logs at: <code>C:\\Users\\nekta\\OneDrive\\Desktop\\botanic-emotion-recognition\\logs\\wandb\\run-20240214_214421-g0jwp7il\\logs</code>"
      ],
      "text/plain": [
       "<IPython.core.display.HTML object>"
      ]
     },
     "metadata": {},
     "output_type": "display_data"
    },
    {
     "data": {
      "text/html": [
       "Successfully finished last run (ID:g0jwp7il). Initializing new run:<br/>"
      ],
      "text/plain": [
       "<IPython.core.display.HTML object>"
      ]
     },
     "metadata": {},
     "output_type": "display_data"
    },
    {
     "data": {
      "text/html": [
       "wandb version 0.16.3 is available!  To upgrade, please run:\n",
       " $ pip install wandb --upgrade"
      ],
      "text/plain": [
       "<IPython.core.display.HTML object>"
      ]
     },
     "metadata": {},
     "output_type": "display_data"
    },
    {
     "data": {
      "text/html": [
       "Tracking run with wandb version 0.15.12"
      ],
      "text/plain": [
       "<IPython.core.display.HTML object>"
      ]
     },
     "metadata": {},
     "output_type": "display_data"
    },
    {
     "data": {
      "text/html": [
       "Run data is saved locally in <code>C:\\Users\\nekta\\OneDrive\\Desktop\\botanic-emotion-recognition\\logs\\wandb\\run-20240214_214432-v0zruein</code>"
      ],
      "text/plain": [
       "<IPython.core.display.HTML object>"
      ]
     },
     "metadata": {},
     "output_type": "display_data"
    },
    {
     "data": {
      "text/html": [
       "Syncing run <strong><a href='https://wandb.ai/totikos/model_fcnn_baseline_6_large_81k_search_108-hpo/runs/v0zruein' target=\"_blank\">51_fcnn_baseline_6_large_81k_search_108_lr-0.0001_hidden1-16_hidden2-32_dr-0.2</a></strong> to <a href='https://wandb.ai/totikos/model_fcnn_baseline_6_large_81k_search_108-hpo' target=\"_blank\">Weights & Biases</a> (<a href='https://wandb.me/run' target=\"_blank\">docs</a>)<br/>"
      ],
      "text/plain": [
       "<IPython.core.display.HTML object>"
      ]
     },
     "metadata": {},
     "output_type": "display_data"
    },
    {
     "data": {
      "text/html": [
       " View project at <a href='https://wandb.ai/totikos/model_fcnn_baseline_6_large_81k_search_108-hpo' target=\"_blank\">https://wandb.ai/totikos/model_fcnn_baseline_6_large_81k_search_108-hpo</a>"
      ],
      "text/plain": [
       "<IPython.core.display.HTML object>"
      ]
     },
     "metadata": {},
     "output_type": "display_data"
    },
    {
     "data": {
      "text/html": [
       " View run at <a href='https://wandb.ai/totikos/model_fcnn_baseline_6_large_81k_search_108-hpo/runs/v0zruein' target=\"_blank\">https://wandb.ai/totikos/model_fcnn_baseline_6_large_81k_search_108-hpo/runs/v0zruein</a>"
      ],
      "text/plain": [
       "<IPython.core.display.HTML object>"
      ]
     },
     "metadata": {},
     "output_type": "display_data"
    },
    {
     "name": "stderr",
     "output_type": "stream",
     "text": [
      "100%|███████████████████████████████████████| 899/899 [00:02<00:00, 319.17it/s]\n",
      "100%|█████████████████████████████████████████| 82/82 [00:00<00:00, 863.41it/s]\n",
      "[I 2024-02-14 21:44:44,839] Trial 51 pruned. \n"
     ]
    },
    {
     "name": "stdout",
     "output_type": "stream",
     "text": [
      "{'hidden_dim_1': 64, 'hidden_dim_2': 32, 'dropout_rate': 0.1}\n"
     ]
    },
    {
     "data": {
      "text/html": [
       "Finishing last run (ID:v0zruein) before initializing another..."
      ],
      "text/plain": [
       "<IPython.core.display.HTML object>"
      ]
     },
     "metadata": {},
     "output_type": "display_data"
    },
    {
     "data": {
      "text/html": [
       "Waiting for W&B process to finish... <strong style=\"color:green\">(success).</strong>"
      ],
      "text/plain": [
       "<IPython.core.display.HTML object>"
      ]
     },
     "metadata": {},
     "output_type": "display_data"
    },
    {
     "data": {
      "text/html": [
       " View run <strong style=\"color:#cdcd00\">51_fcnn_baseline_6_large_81k_search_108_lr-0.0001_hidden1-16_hidden2-32_dr-0.2</strong> at: <a href='https://wandb.ai/totikos/model_fcnn_baseline_6_large_81k_search_108-hpo/runs/v0zruein' target=\"_blank\">https://wandb.ai/totikos/model_fcnn_baseline_6_large_81k_search_108-hpo/runs/v0zruein</a><br/> View job at <a href='https://wandb.ai/totikos/model_fcnn_baseline_6_large_81k_search_108-hpo/jobs/QXJ0aWZhY3RDb2xsZWN0aW9uOjEzOTc4MjU0OA==/version_details/v1' target=\"_blank\">https://wandb.ai/totikos/model_fcnn_baseline_6_large_81k_search_108-hpo/jobs/QXJ0aWZhY3RDb2xsZWN0aW9uOjEzOTc4MjU0OA==/version_details/v1</a><br/>Synced 5 W&B file(s), 0 media file(s), 0 artifact file(s) and 0 other file(s)"
      ],
      "text/plain": [
       "<IPython.core.display.HTML object>"
      ]
     },
     "metadata": {},
     "output_type": "display_data"
    },
    {
     "data": {
      "text/html": [
       "Find logs at: <code>C:\\Users\\nekta\\OneDrive\\Desktop\\botanic-emotion-recognition\\logs\\wandb\\run-20240214_214432-v0zruein\\logs</code>"
      ],
      "text/plain": [
       "<IPython.core.display.HTML object>"
      ]
     },
     "metadata": {},
     "output_type": "display_data"
    },
    {
     "data": {
      "text/html": [
       "Successfully finished last run (ID:v0zruein). Initializing new run:<br/>"
      ],
      "text/plain": [
       "<IPython.core.display.HTML object>"
      ]
     },
     "metadata": {},
     "output_type": "display_data"
    },
    {
     "data": {
      "text/html": [
       "wandb version 0.16.3 is available!  To upgrade, please run:\n",
       " $ pip install wandb --upgrade"
      ],
      "text/plain": [
       "<IPython.core.display.HTML object>"
      ]
     },
     "metadata": {},
     "output_type": "display_data"
    },
    {
     "data": {
      "text/html": [
       "Tracking run with wandb version 0.15.12"
      ],
      "text/plain": [
       "<IPython.core.display.HTML object>"
      ]
     },
     "metadata": {},
     "output_type": "display_data"
    },
    {
     "data": {
      "text/html": [
       "Run data is saved locally in <code>C:\\Users\\nekta\\OneDrive\\Desktop\\botanic-emotion-recognition\\logs\\wandb\\run-20240214_214444-m2e0ybwv</code>"
      ],
      "text/plain": [
       "<IPython.core.display.HTML object>"
      ]
     },
     "metadata": {},
     "output_type": "display_data"
    },
    {
     "data": {
      "text/html": [
       "Syncing run <strong><a href='https://wandb.ai/totikos/model_fcnn_baseline_6_large_81k_search_108-hpo/runs/m2e0ybwv' target=\"_blank\">52_fcnn_baseline_6_large_81k_search_108_lr-0.01_hidden1-64_hidden2-32_dr-0.1</a></strong> to <a href='https://wandb.ai/totikos/model_fcnn_baseline_6_large_81k_search_108-hpo' target=\"_blank\">Weights & Biases</a> (<a href='https://wandb.me/run' target=\"_blank\">docs</a>)<br/>"
      ],
      "text/plain": [
       "<IPython.core.display.HTML object>"
      ]
     },
     "metadata": {},
     "output_type": "display_data"
    },
    {
     "data": {
      "text/html": [
       " View project at <a href='https://wandb.ai/totikos/model_fcnn_baseline_6_large_81k_search_108-hpo' target=\"_blank\">https://wandb.ai/totikos/model_fcnn_baseline_6_large_81k_search_108-hpo</a>"
      ],
      "text/plain": [
       "<IPython.core.display.HTML object>"
      ]
     },
     "metadata": {},
     "output_type": "display_data"
    },
    {
     "data": {
      "text/html": [
       " View run at <a href='https://wandb.ai/totikos/model_fcnn_baseline_6_large_81k_search_108-hpo/runs/m2e0ybwv' target=\"_blank\">https://wandb.ai/totikos/model_fcnn_baseline_6_large_81k_search_108-hpo/runs/m2e0ybwv</a>"
      ],
      "text/plain": [
       "<IPython.core.display.HTML object>"
      ]
     },
     "metadata": {},
     "output_type": "display_data"
    },
    {
     "name": "stderr",
     "output_type": "stream",
     "text": [
      "100%|███████████████████████████████████████| 899/899 [00:05<00:00, 150.86it/s]\n",
      "100%|█████████████████████████████████████████| 82/82 [00:00<00:00, 692.85it/s]\n",
      "[I 2024-02-14 21:44:58,424] Trial 52 pruned. \n"
     ]
    },
    {
     "name": "stdout",
     "output_type": "stream",
     "text": [
      "{'hidden_dim_1': 16, 'hidden_dim_2': 16, 'dropout_rate': 0.2}\n"
     ]
    },
    {
     "data": {
      "text/html": [
       "Finishing last run (ID:m2e0ybwv) before initializing another..."
      ],
      "text/plain": [
       "<IPython.core.display.HTML object>"
      ]
     },
     "metadata": {},
     "output_type": "display_data"
    },
    {
     "data": {
      "text/html": [
       "Waiting for W&B process to finish... <strong style=\"color:green\">(success).</strong>"
      ],
      "text/plain": [
       "<IPython.core.display.HTML object>"
      ]
     },
     "metadata": {},
     "output_type": "display_data"
    },
    {
     "data": {
      "text/html": [
       " View run <strong style=\"color:#cdcd00\">52_fcnn_baseline_6_large_81k_search_108_lr-0.01_hidden1-64_hidden2-32_dr-0.1</strong> at: <a href='https://wandb.ai/totikos/model_fcnn_baseline_6_large_81k_search_108-hpo/runs/m2e0ybwv' target=\"_blank\">https://wandb.ai/totikos/model_fcnn_baseline_6_large_81k_search_108-hpo/runs/m2e0ybwv</a><br/> View job at <a href='https://wandb.ai/totikos/model_fcnn_baseline_6_large_81k_search_108-hpo/jobs/QXJ0aWZhY3RDb2xsZWN0aW9uOjEzOTc4MjU0OA==/version_details/v1' target=\"_blank\">https://wandb.ai/totikos/model_fcnn_baseline_6_large_81k_search_108-hpo/jobs/QXJ0aWZhY3RDb2xsZWN0aW9uOjEzOTc4MjU0OA==/version_details/v1</a><br/>Synced 5 W&B file(s), 0 media file(s), 0 artifact file(s) and 0 other file(s)"
      ],
      "text/plain": [
       "<IPython.core.display.HTML object>"
      ]
     },
     "metadata": {},
     "output_type": "display_data"
    },
    {
     "data": {
      "text/html": [
       "Find logs at: <code>C:\\Users\\nekta\\OneDrive\\Desktop\\botanic-emotion-recognition\\logs\\wandb\\run-20240214_214444-m2e0ybwv\\logs</code>"
      ],
      "text/plain": [
       "<IPython.core.display.HTML object>"
      ]
     },
     "metadata": {},
     "output_type": "display_data"
    },
    {
     "data": {
      "text/html": [
       "Successfully finished last run (ID:m2e0ybwv). Initializing new run:<br/>"
      ],
      "text/plain": [
       "<IPython.core.display.HTML object>"
      ]
     },
     "metadata": {},
     "output_type": "display_data"
    },
    {
     "data": {
      "text/html": [
       "wandb version 0.16.3 is available!  To upgrade, please run:\n",
       " $ pip install wandb --upgrade"
      ],
      "text/plain": [
       "<IPython.core.display.HTML object>"
      ]
     },
     "metadata": {},
     "output_type": "display_data"
    },
    {
     "data": {
      "text/html": [
       "Tracking run with wandb version 0.15.12"
      ],
      "text/plain": [
       "<IPython.core.display.HTML object>"
      ]
     },
     "metadata": {},
     "output_type": "display_data"
    },
    {
     "data": {
      "text/html": [
       "Run data is saved locally in <code>C:\\Users\\nekta\\OneDrive\\Desktop\\botanic-emotion-recognition\\logs\\wandb\\run-20240214_214458-exlh82xe</code>"
      ],
      "text/plain": [
       "<IPython.core.display.HTML object>"
      ]
     },
     "metadata": {},
     "output_type": "display_data"
    },
    {
     "data": {
      "text/html": [
       "Syncing run <strong><a href='https://wandb.ai/totikos/model_fcnn_baseline_6_large_81k_search_108-hpo/runs/exlh82xe' target=\"_blank\">53_fcnn_baseline_6_large_81k_search_108_lr-0.01_hidden1-16_hidden2-16_dr-0.2</a></strong> to <a href='https://wandb.ai/totikos/model_fcnn_baseline_6_large_81k_search_108-hpo' target=\"_blank\">Weights & Biases</a> (<a href='https://wandb.me/run' target=\"_blank\">docs</a>)<br/>"
      ],
      "text/plain": [
       "<IPython.core.display.HTML object>"
      ]
     },
     "metadata": {},
     "output_type": "display_data"
    },
    {
     "data": {
      "text/html": [
       " View project at <a href='https://wandb.ai/totikos/model_fcnn_baseline_6_large_81k_search_108-hpo' target=\"_blank\">https://wandb.ai/totikos/model_fcnn_baseline_6_large_81k_search_108-hpo</a>"
      ],
      "text/plain": [
       "<IPython.core.display.HTML object>"
      ]
     },
     "metadata": {},
     "output_type": "display_data"
    },
    {
     "data": {
      "text/html": [
       " View run at <a href='https://wandb.ai/totikos/model_fcnn_baseline_6_large_81k_search_108-hpo/runs/exlh82xe' target=\"_blank\">https://wandb.ai/totikos/model_fcnn_baseline_6_large_81k_search_108-hpo/runs/exlh82xe</a>"
      ],
      "text/plain": [
       "<IPython.core.display.HTML object>"
      ]
     },
     "metadata": {},
     "output_type": "display_data"
    },
    {
     "name": "stderr",
     "output_type": "stream",
     "text": [
      "100%|███████████████████████████████████████| 899/899 [00:02<00:00, 359.23it/s]\n",
      "100%|█████████████████████████████████████████| 82/82 [00:00<00:00, 951.94it/s]\n",
      "[I 2024-02-14 21:45:12,637] Trial 53 pruned. \n"
     ]
    },
    {
     "name": "stdout",
     "output_type": "stream",
     "text": [
      "{'hidden_dim_1': 128, 'hidden_dim_2': 16, 'dropout_rate': 0.1}\n"
     ]
    },
    {
     "data": {
      "text/html": [
       "Finishing last run (ID:exlh82xe) before initializing another..."
      ],
      "text/plain": [
       "<IPython.core.display.HTML object>"
      ]
     },
     "metadata": {},
     "output_type": "display_data"
    },
    {
     "data": {
      "text/html": [
       "Waiting for W&B process to finish... <strong style=\"color:green\">(success).</strong>"
      ],
      "text/plain": [
       "<IPython.core.display.HTML object>"
      ]
     },
     "metadata": {},
     "output_type": "display_data"
    },
    {
     "data": {
      "text/html": [
       " View run <strong style=\"color:#cdcd00\">53_fcnn_baseline_6_large_81k_search_108_lr-0.01_hidden1-16_hidden2-16_dr-0.2</strong> at: <a href='https://wandb.ai/totikos/model_fcnn_baseline_6_large_81k_search_108-hpo/runs/exlh82xe' target=\"_blank\">https://wandb.ai/totikos/model_fcnn_baseline_6_large_81k_search_108-hpo/runs/exlh82xe</a><br/> View job at <a href='https://wandb.ai/totikos/model_fcnn_baseline_6_large_81k_search_108-hpo/jobs/QXJ0aWZhY3RDb2xsZWN0aW9uOjEzOTc4MjU0OA==/version_details/v1' target=\"_blank\">https://wandb.ai/totikos/model_fcnn_baseline_6_large_81k_search_108-hpo/jobs/QXJ0aWZhY3RDb2xsZWN0aW9uOjEzOTc4MjU0OA==/version_details/v1</a><br/>Synced 5 W&B file(s), 0 media file(s), 0 artifact file(s) and 0 other file(s)"
      ],
      "text/plain": [
       "<IPython.core.display.HTML object>"
      ]
     },
     "metadata": {},
     "output_type": "display_data"
    },
    {
     "data": {
      "text/html": [
       "Find logs at: <code>C:\\Users\\nekta\\OneDrive\\Desktop\\botanic-emotion-recognition\\logs\\wandb\\run-20240214_214458-exlh82xe\\logs</code>"
      ],
      "text/plain": [
       "<IPython.core.display.HTML object>"
      ]
     },
     "metadata": {},
     "output_type": "display_data"
    },
    {
     "data": {
      "text/html": [
       "Successfully finished last run (ID:exlh82xe). Initializing new run:<br/>"
      ],
      "text/plain": [
       "<IPython.core.display.HTML object>"
      ]
     },
     "metadata": {},
     "output_type": "display_data"
    },
    {
     "data": {
      "text/html": [
       "wandb version 0.16.3 is available!  To upgrade, please run:\n",
       " $ pip install wandb --upgrade"
      ],
      "text/plain": [
       "<IPython.core.display.HTML object>"
      ]
     },
     "metadata": {},
     "output_type": "display_data"
    },
    {
     "data": {
      "text/html": [
       "Tracking run with wandb version 0.15.12"
      ],
      "text/plain": [
       "<IPython.core.display.HTML object>"
      ]
     },
     "metadata": {},
     "output_type": "display_data"
    },
    {
     "data": {
      "text/html": [
       "Run data is saved locally in <code>C:\\Users\\nekta\\OneDrive\\Desktop\\botanic-emotion-recognition\\logs\\wandb\\run-20240214_214512-8umq67gf</code>"
      ],
      "text/plain": [
       "<IPython.core.display.HTML object>"
      ]
     },
     "metadata": {},
     "output_type": "display_data"
    },
    {
     "data": {
      "text/html": [
       "Syncing run <strong><a href='https://wandb.ai/totikos/model_fcnn_baseline_6_large_81k_search_108-hpo/runs/8umq67gf' target=\"_blank\">54_fcnn_baseline_6_large_81k_search_108_lr-0.001_hidden1-128_hidden2-16_dr-0.1</a></strong> to <a href='https://wandb.ai/totikos/model_fcnn_baseline_6_large_81k_search_108-hpo' target=\"_blank\">Weights & Biases</a> (<a href='https://wandb.me/run' target=\"_blank\">docs</a>)<br/>"
      ],
      "text/plain": [
       "<IPython.core.display.HTML object>"
      ]
     },
     "metadata": {},
     "output_type": "display_data"
    },
    {
     "data": {
      "text/html": [
       " View project at <a href='https://wandb.ai/totikos/model_fcnn_baseline_6_large_81k_search_108-hpo' target=\"_blank\">https://wandb.ai/totikos/model_fcnn_baseline_6_large_81k_search_108-hpo</a>"
      ],
      "text/plain": [
       "<IPython.core.display.HTML object>"
      ]
     },
     "metadata": {},
     "output_type": "display_data"
    },
    {
     "data": {
      "text/html": [
       " View run at <a href='https://wandb.ai/totikos/model_fcnn_baseline_6_large_81k_search_108-hpo/runs/8umq67gf' target=\"_blank\">https://wandb.ai/totikos/model_fcnn_baseline_6_large_81k_search_108-hpo/runs/8umq67gf</a>"
      ],
      "text/plain": [
       "<IPython.core.display.HTML object>"
      ]
     },
     "metadata": {},
     "output_type": "display_data"
    },
    {
     "name": "stderr",
     "output_type": "stream",
     "text": [
      "100%|████████████████████████████████████████| 899/899 [00:10<00:00, 83.37it/s]\n",
      "100%|█████████████████████████████████████████| 82/82 [00:00<00:00, 444.89it/s]\n",
      "[I 2024-02-14 21:45:30,584] Trial 54 pruned. \n"
     ]
    },
    {
     "name": "stdout",
     "output_type": "stream",
     "text": [
      "{'hidden_dim_1': 16, 'hidden_dim_2': 16, 'dropout_rate': 0.2}\n"
     ]
    },
    {
     "data": {
      "text/html": [
       "Finishing last run (ID:8umq67gf) before initializing another..."
      ],
      "text/plain": [
       "<IPython.core.display.HTML object>"
      ]
     },
     "metadata": {},
     "output_type": "display_data"
    },
    {
     "data": {
      "text/html": [
       "Waiting for W&B process to finish... <strong style=\"color:green\">(success).</strong>"
      ],
      "text/plain": [
       "<IPython.core.display.HTML object>"
      ]
     },
     "metadata": {},
     "output_type": "display_data"
    },
    {
     "data": {
      "text/html": [
       " View run <strong style=\"color:#cdcd00\">54_fcnn_baseline_6_large_81k_search_108_lr-0.001_hidden1-128_hidden2-16_dr-0.1</strong> at: <a href='https://wandb.ai/totikos/model_fcnn_baseline_6_large_81k_search_108-hpo/runs/8umq67gf' target=\"_blank\">https://wandb.ai/totikos/model_fcnn_baseline_6_large_81k_search_108-hpo/runs/8umq67gf</a><br/> View job at <a href='https://wandb.ai/totikos/model_fcnn_baseline_6_large_81k_search_108-hpo/jobs/QXJ0aWZhY3RDb2xsZWN0aW9uOjEzOTc4MjU0OA==/version_details/v1' target=\"_blank\">https://wandb.ai/totikos/model_fcnn_baseline_6_large_81k_search_108-hpo/jobs/QXJ0aWZhY3RDb2xsZWN0aW9uOjEzOTc4MjU0OA==/version_details/v1</a><br/>Synced 5 W&B file(s), 0 media file(s), 0 artifact file(s) and 0 other file(s)"
      ],
      "text/plain": [
       "<IPython.core.display.HTML object>"
      ]
     },
     "metadata": {},
     "output_type": "display_data"
    },
    {
     "data": {
      "text/html": [
       "Find logs at: <code>C:\\Users\\nekta\\OneDrive\\Desktop\\botanic-emotion-recognition\\logs\\wandb\\run-20240214_214512-8umq67gf\\logs</code>"
      ],
      "text/plain": [
       "<IPython.core.display.HTML object>"
      ]
     },
     "metadata": {},
     "output_type": "display_data"
    },
    {
     "data": {
      "text/html": [
       "Successfully finished last run (ID:8umq67gf). Initializing new run:<br/>"
      ],
      "text/plain": [
       "<IPython.core.display.HTML object>"
      ]
     },
     "metadata": {},
     "output_type": "display_data"
    },
    {
     "data": {
      "text/html": [
       "wandb version 0.16.3 is available!  To upgrade, please run:\n",
       " $ pip install wandb --upgrade"
      ],
      "text/plain": [
       "<IPython.core.display.HTML object>"
      ]
     },
     "metadata": {},
     "output_type": "display_data"
    },
    {
     "data": {
      "text/html": [
       "Tracking run with wandb version 0.15.12"
      ],
      "text/plain": [
       "<IPython.core.display.HTML object>"
      ]
     },
     "metadata": {},
     "output_type": "display_data"
    },
    {
     "data": {
      "text/html": [
       "Run data is saved locally in <code>C:\\Users\\nekta\\OneDrive\\Desktop\\botanic-emotion-recognition\\logs\\wandb\\run-20240214_214530-lj9bw3xt</code>"
      ],
      "text/plain": [
       "<IPython.core.display.HTML object>"
      ]
     },
     "metadata": {},
     "output_type": "display_data"
    },
    {
     "data": {
      "text/html": [
       "Syncing run <strong><a href='https://wandb.ai/totikos/model_fcnn_baseline_6_large_81k_search_108-hpo/runs/lj9bw3xt' target=\"_blank\">55_fcnn_baseline_6_large_81k_search_108_lr-0.0001_hidden1-16_hidden2-16_dr-0.2</a></strong> to <a href='https://wandb.ai/totikos/model_fcnn_baseline_6_large_81k_search_108-hpo' target=\"_blank\">Weights & Biases</a> (<a href='https://wandb.me/run' target=\"_blank\">docs</a>)<br/>"
      ],
      "text/plain": [
       "<IPython.core.display.HTML object>"
      ]
     },
     "metadata": {},
     "output_type": "display_data"
    },
    {
     "data": {
      "text/html": [
       " View project at <a href='https://wandb.ai/totikos/model_fcnn_baseline_6_large_81k_search_108-hpo' target=\"_blank\">https://wandb.ai/totikos/model_fcnn_baseline_6_large_81k_search_108-hpo</a>"
      ],
      "text/plain": [
       "<IPython.core.display.HTML object>"
      ]
     },
     "metadata": {},
     "output_type": "display_data"
    },
    {
     "data": {
      "text/html": [
       " View run at <a href='https://wandb.ai/totikos/model_fcnn_baseline_6_large_81k_search_108-hpo/runs/lj9bw3xt' target=\"_blank\">https://wandb.ai/totikos/model_fcnn_baseline_6_large_81k_search_108-hpo/runs/lj9bw3xt</a>"
      ],
      "text/plain": [
       "<IPython.core.display.HTML object>"
      ]
     },
     "metadata": {},
     "output_type": "display_data"
    },
    {
     "name": "stderr",
     "output_type": "stream",
     "text": [
      "100%|███████████████████████████████████████| 899/899 [00:02<00:00, 351.99it/s]\n",
      "100%|█████████████████████████████████████████| 82/82 [00:00<00:00, 830.24it/s]\n",
      "100%|███████████████████████████████████████| 899/899 [00:02<00:00, 351.62it/s]\n",
      "100%|█████████████████████████████████████████| 82/82 [00:00<00:00, 910.17it/s]\n",
      "100%|███████████████████████████████████████| 899/899 [00:03<00:00, 290.96it/s]\n",
      "100%|█████████████████████████████████████████| 82/82 [00:00<00:00, 663.01it/s]\n",
      "100%|███████████████████████████████████████| 899/899 [00:03<00:00, 287.68it/s]\n",
      "100%|█████████████████████████████████████████| 82/82 [00:00<00:00, 670.40it/s]\n",
      "100%|███████████████████████████████████████| 899/899 [00:03<00:00, 288.26it/s]\n",
      "100%|█████████████████████████████████████████| 82/82 [00:00<00:00, 674.17it/s]\n",
      "100%|███████████████████████████████████████| 899/899 [00:03<00:00, 289.52it/s]\n",
      "100%|█████████████████████████████████████████| 82/82 [00:00<00:00, 691.38it/s]\n",
      "100%|███████████████████████████████████████| 899/899 [00:03<00:00, 290.55it/s]\n",
      "100%|█████████████████████████████████████████| 82/82 [00:00<00:00, 679.07it/s]\n",
      "100%|███████████████████████████████████████| 899/899 [00:03<00:00, 293.90it/s]\n",
      "100%|█████████████████████████████████████████| 82/82 [00:00<00:00, 649.94it/s]\n",
      "100%|███████████████████████████████████████| 899/899 [00:03<00:00, 290.15it/s]\n",
      "100%|█████████████████████████████████████████| 82/82 [00:00<00:00, 629.70it/s]\n",
      "100%|███████████████████████████████████████| 899/899 [00:03<00:00, 259.49it/s]\n",
      "100%|█████████████████████████████████████████| 82/82 [00:00<00:00, 618.93it/s]\n",
      "100%|███████████████████████████████████████| 899/899 [00:03<00:00, 283.94it/s]\n",
      "100%|█████████████████████████████████████████| 82/82 [00:00<00:00, 640.78it/s]\n",
      "100%|███████████████████████████████████████| 899/899 [00:03<00:00, 290.67it/s]\n",
      "100%|█████████████████████████████████████████| 82/82 [00:00<00:00, 683.77it/s]\n",
      "100%|███████████████████████████████████████| 899/899 [00:03<00:00, 289.75it/s]\n",
      "100%|█████████████████████████████████████████| 82/82 [00:00<00:00, 680.22it/s]\n",
      "100%|███████████████████████████████████████| 899/899 [00:03<00:00, 288.18it/s]\n",
      "100%|█████████████████████████████████████████| 82/82 [00:00<00:00, 674.23it/s]\n",
      "100%|███████████████████████████████████████| 899/899 [00:03<00:00, 293.44it/s]\n",
      "100%|█████████████████████████████████████████| 82/82 [00:00<00:00, 669.37it/s]\n",
      "100%|███████████████████████████████████████| 899/899 [00:03<00:00, 288.12it/s]\n",
      "100%|█████████████████████████████████████████| 82/82 [00:00<00:00, 710.58it/s]\n",
      "100%|███████████████████████████████████████| 899/899 [00:03<00:00, 291.77it/s]\n",
      "100%|█████████████████████████████████████████| 82/82 [00:00<00:00, 650.85it/s]\n",
      "100%|███████████████████████████████████████| 899/899 [00:03<00:00, 283.86it/s]\n",
      "100%|█████████████████████████████████████████| 82/82 [00:00<00:00, 681.38it/s]\n",
      "100%|███████████████████████████████████████| 899/899 [00:03<00:00, 285.75it/s]\n",
      "100%|█████████████████████████████████████████| 82/82 [00:00<00:00, 626.63it/s]\n",
      "100%|███████████████████████████████████████| 899/899 [00:03<00:00, 283.37it/s]\n",
      "100%|█████████████████████████████████████████| 82/82 [00:00<00:00, 700.49it/s]\n"
     ]
    },
    {
     "data": {
      "text/html": [
       "Waiting for W&B process to finish... <strong style=\"color:green\">(success).</strong>"
      ],
      "text/plain": [
       "<IPython.core.display.HTML object>"
      ]
     },
     "metadata": {},
     "output_type": "display_data"
    },
    {
     "data": {
      "text/html": [
       "<style>\n",
       "    table.wandb td:nth-child(1) { padding: 0 10px; text-align: left ; width: auto;} td:nth-child(2) {text-align: left ; width: 100%}\n",
       "    .wandb-row { display: flex; flex-direction: row; flex-wrap: wrap; justify-content: flex-start; width: 100% }\n",
       "    .wandb-col { display: flex; flex-direction: column; flex-basis: 100%; flex: 1; padding: 10px; }\n",
       "    </style>\n",
       "<div class=\"wandb-row\"><div class=\"wandb-col\"><h3>Run history:</h3><br/><table class=\"wandb\"><tr><td>accuracy</td><td>▆▃▂▁▃▅▂▂▅▃▆▄▄▆▃█▄▆▇█</td></tr><tr><td>balanced_accuracy</td><td>█▅▄▂▄▃▃▁▂▄▃▂▄▄▄▄▂▂▁▅</td></tr><tr><td>f1_weighted</td><td>█▂▁▁▃▆▃▄▇▄█▆▅▇▅█▅▇██</td></tr><tr><td>precision</td><td>█▄▅▃▃▅▅▃▃▃▄▃▄▁▄▄▃▃▃▅</td></tr><tr><td>recall</td><td>▆▃▂▁▃▅▂▂▅▃▆▄▄▆▃█▄▆▇█</td></tr></table><br/></div><div class=\"wandb-col\"><h3>Run summary:</h3><br/><table class=\"wandb\"><tr><td>accuracy</td><td>0.27115</td></tr><tr><td>balanced_accuracy</td><td>0.16833</td></tr><tr><td>f1_weighted</td><td>0.19893</td></tr><tr><td>precision</td><td>0.21833</td></tr><tr><td>recall</td><td>0.27115</td></tr></table><br/></div></div>"
      ],
      "text/plain": [
       "<IPython.core.display.HTML object>"
      ]
     },
     "metadata": {},
     "output_type": "display_data"
    },
    {
     "data": {
      "text/html": [
       " View run <strong style=\"color:#cdcd00\">55_fcnn_baseline_6_large_81k_search_108_lr-0.0001_hidden1-16_hidden2-16_dr-0.2</strong> at: <a href='https://wandb.ai/totikos/model_fcnn_baseline_6_large_81k_search_108-hpo/runs/lj9bw3xt' target=\"_blank\">https://wandb.ai/totikos/model_fcnn_baseline_6_large_81k_search_108-hpo/runs/lj9bw3xt</a><br/> View job at <a href='https://wandb.ai/totikos/model_fcnn_baseline_6_large_81k_search_108-hpo/jobs/QXJ0aWZhY3RDb2xsZWN0aW9uOjEzOTc4MjU0OA==/version_details/v2' target=\"_blank\">https://wandb.ai/totikos/model_fcnn_baseline_6_large_81k_search_108-hpo/jobs/QXJ0aWZhY3RDb2xsZWN0aW9uOjEzOTc4MjU0OA==/version_details/v2</a><br/>Synced 5 W&B file(s), 0 media file(s), 0 artifact file(s) and 0 other file(s)"
      ],
      "text/plain": [
       "<IPython.core.display.HTML object>"
      ]
     },
     "metadata": {},
     "output_type": "display_data"
    },
    {
     "data": {
      "text/html": [
       "Find logs at: <code>C:\\Users\\nekta\\OneDrive\\Desktop\\botanic-emotion-recognition\\logs\\wandb\\run-20240214_214530-lj9bw3xt\\logs</code>"
      ],
      "text/plain": [
       "<IPython.core.display.HTML object>"
      ]
     },
     "metadata": {},
     "output_type": "display_data"
    },
    {
     "name": "stderr",
     "output_type": "stream",
     "text": [
      "[I 2024-02-14 21:46:49,026] Trial 55 finished with value: 0.16833059886918067 and parameters: {'dropout_rate': 0.2, 'hidden_dim_1': 16, 'hidden_dim_2': 16, 'lr': 0.0001}. Best is trial 6 with value: 0.17126425545780385.\n"
     ]
    },
    {
     "name": "stdout",
     "output_type": "stream",
     "text": [
      "{'hidden_dim_1': 128, 'hidden_dim_2': 32, 'dropout_rate': 0.2}\n"
     ]
    },
    {
     "data": {
      "text/html": [
       "wandb version 0.16.3 is available!  To upgrade, please run:\n",
       " $ pip install wandb --upgrade"
      ],
      "text/plain": [
       "<IPython.core.display.HTML object>"
      ]
     },
     "metadata": {},
     "output_type": "display_data"
    },
    {
     "data": {
      "text/html": [
       "Tracking run with wandb version 0.15.12"
      ],
      "text/plain": [
       "<IPython.core.display.HTML object>"
      ]
     },
     "metadata": {},
     "output_type": "display_data"
    },
    {
     "data": {
      "text/html": [
       "Run data is saved locally in <code>C:\\Users\\nekta\\OneDrive\\Desktop\\botanic-emotion-recognition\\logs\\wandb\\run-20240214_214649-7kxydcv1</code>"
      ],
      "text/plain": [
       "<IPython.core.display.HTML object>"
      ]
     },
     "metadata": {},
     "output_type": "display_data"
    },
    {
     "data": {
      "text/html": [
       "Syncing run <strong><a href='https://wandb.ai/totikos/model_fcnn_baseline_6_large_81k_search_108-hpo/runs/7kxydcv1' target=\"_blank\">56_fcnn_baseline_6_large_81k_search_108_lr-0.0001_hidden1-128_hidden2-32_dr-0.2</a></strong> to <a href='https://wandb.ai/totikos/model_fcnn_baseline_6_large_81k_search_108-hpo' target=\"_blank\">Weights & Biases</a> (<a href='https://wandb.me/run' target=\"_blank\">docs</a>)<br/>"
      ],
      "text/plain": [
       "<IPython.core.display.HTML object>"
      ]
     },
     "metadata": {},
     "output_type": "display_data"
    },
    {
     "data": {
      "text/html": [
       " View project at <a href='https://wandb.ai/totikos/model_fcnn_baseline_6_large_81k_search_108-hpo' target=\"_blank\">https://wandb.ai/totikos/model_fcnn_baseline_6_large_81k_search_108-hpo</a>"
      ],
      "text/plain": [
       "<IPython.core.display.HTML object>"
      ]
     },
     "metadata": {},
     "output_type": "display_data"
    },
    {
     "data": {
      "text/html": [
       " View run at <a href='https://wandb.ai/totikos/model_fcnn_baseline_6_large_81k_search_108-hpo/runs/7kxydcv1' target=\"_blank\">https://wandb.ai/totikos/model_fcnn_baseline_6_large_81k_search_108-hpo/runs/7kxydcv1</a>"
      ],
      "text/plain": [
       "<IPython.core.display.HTML object>"
      ]
     },
     "metadata": {},
     "output_type": "display_data"
    },
    {
     "name": "stderr",
     "output_type": "stream",
     "text": [
      "100%|████████████████████████████████████████| 899/899 [00:11<00:00, 75.87it/s]\n",
      "100%|█████████████████████████████████████████| 82/82 [00:00<00:00, 329.10it/s]\n",
      "[I 2024-02-14 21:47:02,816] Trial 56 pruned. \n"
     ]
    },
    {
     "name": "stdout",
     "output_type": "stream",
     "text": [
      "{'hidden_dim_1': 64, 'hidden_dim_2': 32, 'dropout_rate': 0.1}\n"
     ]
    },
    {
     "data": {
      "text/html": [
       "Finishing last run (ID:7kxydcv1) before initializing another..."
      ],
      "text/plain": [
       "<IPython.core.display.HTML object>"
      ]
     },
     "metadata": {},
     "output_type": "display_data"
    },
    {
     "data": {
      "text/html": [
       "Waiting for W&B process to finish... <strong style=\"color:green\">(success).</strong>"
      ],
      "text/plain": [
       "<IPython.core.display.HTML object>"
      ]
     },
     "metadata": {},
     "output_type": "display_data"
    },
    {
     "data": {
      "text/html": [
       " View run <strong style=\"color:#cdcd00\">56_fcnn_baseline_6_large_81k_search_108_lr-0.0001_hidden1-128_hidden2-32_dr-0.2</strong> at: <a href='https://wandb.ai/totikos/model_fcnn_baseline_6_large_81k_search_108-hpo/runs/7kxydcv1' target=\"_blank\">https://wandb.ai/totikos/model_fcnn_baseline_6_large_81k_search_108-hpo/runs/7kxydcv1</a><br/> View job at <a href='https://wandb.ai/totikos/model_fcnn_baseline_6_large_81k_search_108-hpo/jobs/QXJ0aWZhY3RDb2xsZWN0aW9uOjEzOTc4MjU0OA==/version_details/v1' target=\"_blank\">https://wandb.ai/totikos/model_fcnn_baseline_6_large_81k_search_108-hpo/jobs/QXJ0aWZhY3RDb2xsZWN0aW9uOjEzOTc4MjU0OA==/version_details/v1</a><br/>Synced 5 W&B file(s), 0 media file(s), 0 artifact file(s) and 0 other file(s)"
      ],
      "text/plain": [
       "<IPython.core.display.HTML object>"
      ]
     },
     "metadata": {},
     "output_type": "display_data"
    },
    {
     "data": {
      "text/html": [
       "Find logs at: <code>C:\\Users\\nekta\\OneDrive\\Desktop\\botanic-emotion-recognition\\logs\\wandb\\run-20240214_214649-7kxydcv1\\logs</code>"
      ],
      "text/plain": [
       "<IPython.core.display.HTML object>"
      ]
     },
     "metadata": {},
     "output_type": "display_data"
    },
    {
     "data": {
      "text/html": [
       "Successfully finished last run (ID:7kxydcv1). Initializing new run:<br/>"
      ],
      "text/plain": [
       "<IPython.core.display.HTML object>"
      ]
     },
     "metadata": {},
     "output_type": "display_data"
    },
    {
     "data": {
      "text/html": [
       "wandb version 0.16.3 is available!  To upgrade, please run:\n",
       " $ pip install wandb --upgrade"
      ],
      "text/plain": [
       "<IPython.core.display.HTML object>"
      ]
     },
     "metadata": {},
     "output_type": "display_data"
    },
    {
     "data": {
      "text/html": [
       "Tracking run with wandb version 0.15.12"
      ],
      "text/plain": [
       "<IPython.core.display.HTML object>"
      ]
     },
     "metadata": {},
     "output_type": "display_data"
    },
    {
     "data": {
      "text/html": [
       "Run data is saved locally in <code>C:\\Users\\nekta\\OneDrive\\Desktop\\botanic-emotion-recognition\\logs\\wandb\\run-20240214_214702-37p5n0xd</code>"
      ],
      "text/plain": [
       "<IPython.core.display.HTML object>"
      ]
     },
     "metadata": {},
     "output_type": "display_data"
    },
    {
     "data": {
      "text/html": [
       "Syncing run <strong><a href='https://wandb.ai/totikos/model_fcnn_baseline_6_large_81k_search_108-hpo/runs/37p5n0xd' target=\"_blank\">57_fcnn_baseline_6_large_81k_search_108_lr-0.0001_hidden1-64_hidden2-32_dr-0.1</a></strong> to <a href='https://wandb.ai/totikos/model_fcnn_baseline_6_large_81k_search_108-hpo' target=\"_blank\">Weights & Biases</a> (<a href='https://wandb.me/run' target=\"_blank\">docs</a>)<br/>"
      ],
      "text/plain": [
       "<IPython.core.display.HTML object>"
      ]
     },
     "metadata": {},
     "output_type": "display_data"
    },
    {
     "data": {
      "text/html": [
       " View project at <a href='https://wandb.ai/totikos/model_fcnn_baseline_6_large_81k_search_108-hpo' target=\"_blank\">https://wandb.ai/totikos/model_fcnn_baseline_6_large_81k_search_108-hpo</a>"
      ],
      "text/plain": [
       "<IPython.core.display.HTML object>"
      ]
     },
     "metadata": {},
     "output_type": "display_data"
    },
    {
     "data": {
      "text/html": [
       " View run at <a href='https://wandb.ai/totikos/model_fcnn_baseline_6_large_81k_search_108-hpo/runs/37p5n0xd' target=\"_blank\">https://wandb.ai/totikos/model_fcnn_baseline_6_large_81k_search_108-hpo/runs/37p5n0xd</a>"
      ],
      "text/plain": [
       "<IPython.core.display.HTML object>"
      ]
     },
     "metadata": {},
     "output_type": "display_data"
    },
    {
     "name": "stderr",
     "output_type": "stream",
     "text": [
      "100%|███████████████████████████████████████| 899/899 [00:07<00:00, 127.42it/s]\n",
      "100%|█████████████████████████████████████████| 82/82 [00:00<00:00, 463.14it/s]\n",
      "[I 2024-02-14 21:47:18,593] Trial 57 pruned. \n"
     ]
    },
    {
     "name": "stdout",
     "output_type": "stream",
     "text": [
      "{'hidden_dim_1': 16, 'hidden_dim_2': 16, 'dropout_rate': 0}\n"
     ]
    },
    {
     "data": {
      "text/html": [
       "Finishing last run (ID:37p5n0xd) before initializing another..."
      ],
      "text/plain": [
       "<IPython.core.display.HTML object>"
      ]
     },
     "metadata": {},
     "output_type": "display_data"
    },
    {
     "data": {
      "text/html": [
       "Waiting for W&B process to finish... <strong style=\"color:green\">(success).</strong>"
      ],
      "text/plain": [
       "<IPython.core.display.HTML object>"
      ]
     },
     "metadata": {},
     "output_type": "display_data"
    },
    {
     "data": {
      "text/html": [
       " View run <strong style=\"color:#cdcd00\">57_fcnn_baseline_6_large_81k_search_108_lr-0.0001_hidden1-64_hidden2-32_dr-0.1</strong> at: <a href='https://wandb.ai/totikos/model_fcnn_baseline_6_large_81k_search_108-hpo/runs/37p5n0xd' target=\"_blank\">https://wandb.ai/totikos/model_fcnn_baseline_6_large_81k_search_108-hpo/runs/37p5n0xd</a><br/> View job at <a href='https://wandb.ai/totikos/model_fcnn_baseline_6_large_81k_search_108-hpo/jobs/QXJ0aWZhY3RDb2xsZWN0aW9uOjEzOTc4MjU0OA==/version_details/v1' target=\"_blank\">https://wandb.ai/totikos/model_fcnn_baseline_6_large_81k_search_108-hpo/jobs/QXJ0aWZhY3RDb2xsZWN0aW9uOjEzOTc4MjU0OA==/version_details/v1</a><br/>Synced 5 W&B file(s), 0 media file(s), 0 artifact file(s) and 0 other file(s)"
      ],
      "text/plain": [
       "<IPython.core.display.HTML object>"
      ]
     },
     "metadata": {},
     "output_type": "display_data"
    },
    {
     "data": {
      "text/html": [
       "Find logs at: <code>C:\\Users\\nekta\\OneDrive\\Desktop\\botanic-emotion-recognition\\logs\\wandb\\run-20240214_214702-37p5n0xd\\logs</code>"
      ],
      "text/plain": [
       "<IPython.core.display.HTML object>"
      ]
     },
     "metadata": {},
     "output_type": "display_data"
    },
    {
     "data": {
      "text/html": [
       "Successfully finished last run (ID:37p5n0xd). Initializing new run:<br/>"
      ],
      "text/plain": [
       "<IPython.core.display.HTML object>"
      ]
     },
     "metadata": {},
     "output_type": "display_data"
    },
    {
     "data": {
      "text/html": [
       "wandb version 0.16.3 is available!  To upgrade, please run:\n",
       " $ pip install wandb --upgrade"
      ],
      "text/plain": [
       "<IPython.core.display.HTML object>"
      ]
     },
     "metadata": {},
     "output_type": "display_data"
    },
    {
     "data": {
      "text/html": [
       "Tracking run with wandb version 0.15.12"
      ],
      "text/plain": [
       "<IPython.core.display.HTML object>"
      ]
     },
     "metadata": {},
     "output_type": "display_data"
    },
    {
     "data": {
      "text/html": [
       "Run data is saved locally in <code>C:\\Users\\nekta\\OneDrive\\Desktop\\botanic-emotion-recognition\\logs\\wandb\\run-20240214_214718-p4v9g3is</code>"
      ],
      "text/plain": [
       "<IPython.core.display.HTML object>"
      ]
     },
     "metadata": {},
     "output_type": "display_data"
    },
    {
     "data": {
      "text/html": [
       "Syncing run <strong><a href='https://wandb.ai/totikos/model_fcnn_baseline_6_large_81k_search_108-hpo/runs/p4v9g3is' target=\"_blank\">58_fcnn_baseline_6_large_81k_search_108_lr-0.001_hidden1-16_hidden2-16_dr-0</a></strong> to <a href='https://wandb.ai/totikos/model_fcnn_baseline_6_large_81k_search_108-hpo' target=\"_blank\">Weights & Biases</a> (<a href='https://wandb.me/run' target=\"_blank\">docs</a>)<br/>"
      ],
      "text/plain": [
       "<IPython.core.display.HTML object>"
      ]
     },
     "metadata": {},
     "output_type": "display_data"
    },
    {
     "data": {
      "text/html": [
       " View project at <a href='https://wandb.ai/totikos/model_fcnn_baseline_6_large_81k_search_108-hpo' target=\"_blank\">https://wandb.ai/totikos/model_fcnn_baseline_6_large_81k_search_108-hpo</a>"
      ],
      "text/plain": [
       "<IPython.core.display.HTML object>"
      ]
     },
     "metadata": {},
     "output_type": "display_data"
    },
    {
     "data": {
      "text/html": [
       " View run at <a href='https://wandb.ai/totikos/model_fcnn_baseline_6_large_81k_search_108-hpo/runs/p4v9g3is' target=\"_blank\">https://wandb.ai/totikos/model_fcnn_baseline_6_large_81k_search_108-hpo/runs/p4v9g3is</a>"
      ],
      "text/plain": [
       "<IPython.core.display.HTML object>"
      ]
     },
     "metadata": {},
     "output_type": "display_data"
    },
    {
     "name": "stderr",
     "output_type": "stream",
     "text": [
      "100%|███████████████████████████████████████| 899/899 [00:03<00:00, 260.21it/s]\n",
      "100%|█████████████████████████████████████████| 82/82 [00:00<00:00, 473.53it/s]\n",
      "[I 2024-02-14 21:47:29,497] Trial 58 pruned. \n"
     ]
    },
    {
     "name": "stdout",
     "output_type": "stream",
     "text": [
      "{'hidden_dim_1': 64, 'hidden_dim_2': 64, 'dropout_rate': 0}\n"
     ]
    },
    {
     "data": {
      "text/html": [
       "Finishing last run (ID:p4v9g3is) before initializing another..."
      ],
      "text/plain": [
       "<IPython.core.display.HTML object>"
      ]
     },
     "metadata": {},
     "output_type": "display_data"
    },
    {
     "data": {
      "text/html": [
       "Waiting for W&B process to finish... <strong style=\"color:green\">(success).</strong>"
      ],
      "text/plain": [
       "<IPython.core.display.HTML object>"
      ]
     },
     "metadata": {},
     "output_type": "display_data"
    },
    {
     "data": {
      "text/html": [
       " View run <strong style=\"color:#cdcd00\">58_fcnn_baseline_6_large_81k_search_108_lr-0.001_hidden1-16_hidden2-16_dr-0</strong> at: <a href='https://wandb.ai/totikos/model_fcnn_baseline_6_large_81k_search_108-hpo/runs/p4v9g3is' target=\"_blank\">https://wandb.ai/totikos/model_fcnn_baseline_6_large_81k_search_108-hpo/runs/p4v9g3is</a><br/> View job at <a href='https://wandb.ai/totikos/model_fcnn_baseline_6_large_81k_search_108-hpo/jobs/QXJ0aWZhY3RDb2xsZWN0aW9uOjEzOTc4MjU0OA==/version_details/v1' target=\"_blank\">https://wandb.ai/totikos/model_fcnn_baseline_6_large_81k_search_108-hpo/jobs/QXJ0aWZhY3RDb2xsZWN0aW9uOjEzOTc4MjU0OA==/version_details/v1</a><br/>Synced 5 W&B file(s), 0 media file(s), 0 artifact file(s) and 0 other file(s)"
      ],
      "text/plain": [
       "<IPython.core.display.HTML object>"
      ]
     },
     "metadata": {},
     "output_type": "display_data"
    },
    {
     "data": {
      "text/html": [
       "Find logs at: <code>C:\\Users\\nekta\\OneDrive\\Desktop\\botanic-emotion-recognition\\logs\\wandb\\run-20240214_214718-p4v9g3is\\logs</code>"
      ],
      "text/plain": [
       "<IPython.core.display.HTML object>"
      ]
     },
     "metadata": {},
     "output_type": "display_data"
    },
    {
     "data": {
      "text/html": [
       "Successfully finished last run (ID:p4v9g3is). Initializing new run:<br/>"
      ],
      "text/plain": [
       "<IPython.core.display.HTML object>"
      ]
     },
     "metadata": {},
     "output_type": "display_data"
    },
    {
     "data": {
      "text/html": [
       "wandb version 0.16.3 is available!  To upgrade, please run:\n",
       " $ pip install wandb --upgrade"
      ],
      "text/plain": [
       "<IPython.core.display.HTML object>"
      ]
     },
     "metadata": {},
     "output_type": "display_data"
    },
    {
     "data": {
      "text/html": [
       "Tracking run with wandb version 0.15.12"
      ],
      "text/plain": [
       "<IPython.core.display.HTML object>"
      ]
     },
     "metadata": {},
     "output_type": "display_data"
    },
    {
     "data": {
      "text/html": [
       "Run data is saved locally in <code>C:\\Users\\nekta\\OneDrive\\Desktop\\botanic-emotion-recognition\\logs\\wandb\\run-20240214_214729-lo5neyrm</code>"
      ],
      "text/plain": [
       "<IPython.core.display.HTML object>"
      ]
     },
     "metadata": {},
     "output_type": "display_data"
    },
    {
     "data": {
      "text/html": [
       "Syncing run <strong><a href='https://wandb.ai/totikos/model_fcnn_baseline_6_large_81k_search_108-hpo/runs/lo5neyrm' target=\"_blank\">59_fcnn_baseline_6_large_81k_search_108_lr-0.0001_hidden1-64_hidden2-64_dr-0</a></strong> to <a href='https://wandb.ai/totikos/model_fcnn_baseline_6_large_81k_search_108-hpo' target=\"_blank\">Weights & Biases</a> (<a href='https://wandb.me/run' target=\"_blank\">docs</a>)<br/>"
      ],
      "text/plain": [
       "<IPython.core.display.HTML object>"
      ]
     },
     "metadata": {},
     "output_type": "display_data"
    },
    {
     "data": {
      "text/html": [
       " View project at <a href='https://wandb.ai/totikos/model_fcnn_baseline_6_large_81k_search_108-hpo' target=\"_blank\">https://wandb.ai/totikos/model_fcnn_baseline_6_large_81k_search_108-hpo</a>"
      ],
      "text/plain": [
       "<IPython.core.display.HTML object>"
      ]
     },
     "metadata": {},
     "output_type": "display_data"
    },
    {
     "data": {
      "text/html": [
       " View run at <a href='https://wandb.ai/totikos/model_fcnn_baseline_6_large_81k_search_108-hpo/runs/lo5neyrm' target=\"_blank\">https://wandb.ai/totikos/model_fcnn_baseline_6_large_81k_search_108-hpo/runs/lo5neyrm</a>"
      ],
      "text/plain": [
       "<IPython.core.display.HTML object>"
      ]
     },
     "metadata": {},
     "output_type": "display_data"
    },
    {
     "name": "stderr",
     "output_type": "stream",
     "text": [
      "100%|███████████████████████████████████████| 899/899 [00:08<00:00, 108.72it/s]\n",
      "100%|█████████████████████████████████████████| 82/82 [00:00<00:00, 432.02it/s]\n",
      "100%|███████████████████████████████████████| 899/899 [00:08<00:00, 110.01it/s]\n",
      "100%|█████████████████████████████████████████| 82/82 [00:00<00:00, 341.81it/s]\n",
      "100%|████████████████████████████████████████| 899/899 [00:09<00:00, 93.93it/s]\n",
      "100%|█████████████████████████████████████████| 82/82 [00:00<00:00, 333.26it/s]\n",
      "100%|████████████████████████████████████████| 899/899 [00:09<00:00, 92.66it/s]\n",
      "100%|█████████████████████████████████████████| 82/82 [00:00<00:00, 339.64it/s]\n",
      "100%|███████████████████████████████████████| 899/899 [00:08<00:00, 108.05it/s]\n",
      "100%|█████████████████████████████████████████| 82/82 [00:00<00:00, 554.99it/s]\n",
      "100%|███████████████████████████████████████| 899/899 [00:06<00:00, 128.49it/s]\n",
      "100%|█████████████████████████████████████████| 82/82 [00:00<00:00, 546.58it/s]\n",
      "100%|███████████████████████████████████████| 899/899 [00:07<00:00, 127.09it/s]\n",
      "100%|█████████████████████████████████████████| 82/82 [00:00<00:00, 543.81it/s]\n",
      "100%|███████████████████████████████████████| 899/899 [00:07<00:00, 127.91it/s]\n",
      "100%|█████████████████████████████████████████| 82/82 [00:00<00:00, 539.10it/s]\n",
      "100%|███████████████████████████████████████| 899/899 [00:07<00:00, 121.63it/s]\n",
      "100%|█████████████████████████████████████████| 82/82 [00:00<00:00, 579.33it/s]\n",
      "100%|███████████████████████████████████████| 899/899 [00:06<00:00, 129.42it/s]\n",
      "100%|█████████████████████████████████████████| 82/82 [00:00<00:00, 571.08it/s]\n",
      "100%|███████████████████████████████████████| 899/899 [00:06<00:00, 128.73it/s]\n",
      "100%|█████████████████████████████████████████| 82/82 [00:00<00:00, 545.51it/s]\n",
      "100%|███████████████████████████████████████| 899/899 [00:06<00:00, 129.75it/s]\n",
      "100%|█████████████████████████████████████████| 82/82 [00:00<00:00, 531.45it/s]\n",
      "100%|███████████████████████████████████████| 899/899 [00:06<00:00, 129.41it/s]\n",
      "100%|█████████████████████████████████████████| 82/82 [00:00<00:00, 497.70it/s]\n",
      "100%|███████████████████████████████████████| 899/899 [00:06<00:00, 129.20it/s]\n",
      "100%|█████████████████████████████████████████| 82/82 [00:00<00:00, 525.21it/s]\n",
      "100%|███████████████████████████████████████| 899/899 [00:06<00:00, 129.52it/s]\n",
      "100%|█████████████████████████████████████████| 82/82 [00:00<00:00, 517.88it/s]\n",
      "100%|███████████████████████████████████████| 899/899 [00:06<00:00, 128.53it/s]\n",
      "100%|█████████████████████████████████████████| 82/82 [00:00<00:00, 523.07it/s]\n",
      "100%|███████████████████████████████████████| 899/899 [00:06<00:00, 129.38it/s]\n",
      "100%|█████████████████████████████████████████| 82/82 [00:00<00:00, 171.38it/s]\n",
      "100%|███████████████████████████████████████| 899/899 [00:06<00:00, 129.52it/s]\n",
      "100%|█████████████████████████████████████████| 82/82 [00:00<00:00, 516.63it/s]\n",
      "100%|███████████████████████████████████████| 899/899 [00:07<00:00, 125.05it/s]\n",
      "100%|█████████████████████████████████████████| 82/82 [00:00<00:00, 522.36it/s]\n",
      "100%|███████████████████████████████████████| 899/899 [00:06<00:00, 129.15it/s]\n",
      "100%|█████████████████████████████████████████| 82/82 [00:00<00:00, 518.73it/s]\n"
     ]
    },
    {
     "data": {
      "text/html": [
       "Waiting for W&B process to finish... <strong style=\"color:green\">(success).</strong>"
      ],
      "text/plain": [
       "<IPython.core.display.HTML object>"
      ]
     },
     "metadata": {},
     "output_type": "display_data"
    },
    {
     "data": {
      "text/html": [
       "<style>\n",
       "    table.wandb td:nth-child(1) { padding: 0 10px; text-align: left ; width: auto;} td:nth-child(2) {text-align: left ; width: 100%}\n",
       "    .wandb-row { display: flex; flex-direction: row; flex-wrap: wrap; justify-content: flex-start; width: 100% }\n",
       "    .wandb-col { display: flex; flex-direction: column; flex-basis: 100%; flex: 1; padding: 10px; }\n",
       "    </style>\n",
       "<div class=\"wandb-row\"><div class=\"wandb-col\"><h3>Run history:</h3><br/><table class=\"wandb\"><tr><td>accuracy</td><td>▂▄▂▃▂▁▁▃▁▃▂▃▄▁▁▂█▂▅▄</td></tr><tr><td>balanced_accuracy</td><td>▄▄▃▃▂▁▃▃▂▄▃▂▆▂▂▃█▁▅▄</td></tr><tr><td>f1_weighted</td><td>▃▄▁▃▂▂▁▄▃▂▂▄▆▃▃▄█▅▆▆</td></tr><tr><td>precision</td><td>▂▄█▅▁▆▂▆▆▅▆▅▆▆▆▆▆▄▆▅</td></tr><tr><td>recall</td><td>▂▄▂▃▂▁▁▃▁▃▂▃▄▁▁▂█▂▅▄</td></tr></table><br/></div><div class=\"wandb-col\"><h3>Run summary:</h3><br/><table class=\"wandb\"><tr><td>accuracy</td><td>0.26346</td></tr><tr><td>balanced_accuracy</td><td>0.17066</td></tr><tr><td>f1_weighted</td><td>0.22283</td></tr><tr><td>precision</td><td>0.23139</td></tr><tr><td>recall</td><td>0.26346</td></tr></table><br/></div></div>"
      ],
      "text/plain": [
       "<IPython.core.display.HTML object>"
      ]
     },
     "metadata": {},
     "output_type": "display_data"
    },
    {
     "data": {
      "text/html": [
       " View run <strong style=\"color:#cdcd00\">59_fcnn_baseline_6_large_81k_search_108_lr-0.0001_hidden1-64_hidden2-64_dr-0</strong> at: <a href='https://wandb.ai/totikos/model_fcnn_baseline_6_large_81k_search_108-hpo/runs/lo5neyrm' target=\"_blank\">https://wandb.ai/totikos/model_fcnn_baseline_6_large_81k_search_108-hpo/runs/lo5neyrm</a><br/> View job at <a href='https://wandb.ai/totikos/model_fcnn_baseline_6_large_81k_search_108-hpo/jobs/QXJ0aWZhY3RDb2xsZWN0aW9uOjEzOTc4MjU0OA==/version_details/v2' target=\"_blank\">https://wandb.ai/totikos/model_fcnn_baseline_6_large_81k_search_108-hpo/jobs/QXJ0aWZhY3RDb2xsZWN0aW9uOjEzOTc4MjU0OA==/version_details/v2</a><br/>Synced 5 W&B file(s), 0 media file(s), 0 artifact file(s) and 0 other file(s)"
      ],
      "text/plain": [
       "<IPython.core.display.HTML object>"
      ]
     },
     "metadata": {},
     "output_type": "display_data"
    },
    {
     "data": {
      "text/html": [
       "Find logs at: <code>C:\\Users\\nekta\\OneDrive\\Desktop\\botanic-emotion-recognition\\logs\\wandb\\run-20240214_214729-lo5neyrm\\logs</code>"
      ],
      "text/plain": [
       "<IPython.core.display.HTML object>"
      ]
     },
     "metadata": {},
     "output_type": "display_data"
    },
    {
     "name": "stderr",
     "output_type": "stream",
     "text": [
      "[I 2024-02-14 21:50:16,849] Trial 59 finished with value: 0.17065507282574213 and parameters: {'dropout_rate': 0.0, 'hidden_dim_1': 64, 'hidden_dim_2': 64, 'lr': 0.0001}. Best is trial 6 with value: 0.17126425545780385.\n"
     ]
    },
    {
     "name": "stdout",
     "output_type": "stream",
     "text": [
      "{'hidden_dim_1': 128, 'hidden_dim_2': 32, 'dropout_rate': 0.1}\n"
     ]
    },
    {
     "data": {
      "text/html": [
       "wandb version 0.16.3 is available!  To upgrade, please run:\n",
       " $ pip install wandb --upgrade"
      ],
      "text/plain": [
       "<IPython.core.display.HTML object>"
      ]
     },
     "metadata": {},
     "output_type": "display_data"
    },
    {
     "data": {
      "text/html": [
       "Tracking run with wandb version 0.15.12"
      ],
      "text/plain": [
       "<IPython.core.display.HTML object>"
      ]
     },
     "metadata": {},
     "output_type": "display_data"
    },
    {
     "data": {
      "text/html": [
       "Run data is saved locally in <code>C:\\Users\\nekta\\OneDrive\\Desktop\\botanic-emotion-recognition\\logs\\wandb\\run-20240214_215016-6pdxtrx3</code>"
      ],
      "text/plain": [
       "<IPython.core.display.HTML object>"
      ]
     },
     "metadata": {},
     "output_type": "display_data"
    },
    {
     "data": {
      "text/html": [
       "Syncing run <strong><a href='https://wandb.ai/totikos/model_fcnn_baseline_6_large_81k_search_108-hpo/runs/6pdxtrx3' target=\"_blank\">60_fcnn_baseline_6_large_81k_search_108_lr-0.001_hidden1-128_hidden2-32_dr-0.1</a></strong> to <a href='https://wandb.ai/totikos/model_fcnn_baseline_6_large_81k_search_108-hpo' target=\"_blank\">Weights & Biases</a> (<a href='https://wandb.me/run' target=\"_blank\">docs</a>)<br/>"
      ],
      "text/plain": [
       "<IPython.core.display.HTML object>"
      ]
     },
     "metadata": {},
     "output_type": "display_data"
    },
    {
     "data": {
      "text/html": [
       " View project at <a href='https://wandb.ai/totikos/model_fcnn_baseline_6_large_81k_search_108-hpo' target=\"_blank\">https://wandb.ai/totikos/model_fcnn_baseline_6_large_81k_search_108-hpo</a>"
      ],
      "text/plain": [
       "<IPython.core.display.HTML object>"
      ]
     },
     "metadata": {},
     "output_type": "display_data"
    },
    {
     "data": {
      "text/html": [
       " View run at <a href='https://wandb.ai/totikos/model_fcnn_baseline_6_large_81k_search_108-hpo/runs/6pdxtrx3' target=\"_blank\">https://wandb.ai/totikos/model_fcnn_baseline_6_large_81k_search_108-hpo/runs/6pdxtrx3</a>"
      ],
      "text/plain": [
       "<IPython.core.display.HTML object>"
      ]
     },
     "metadata": {},
     "output_type": "display_data"
    },
    {
     "name": "stderr",
     "output_type": "stream",
     "text": [
      "100%|████████████████████████████████████████| 899/899 [00:11<00:00, 81.51it/s]\n",
      "100%|█████████████████████████████████████████| 82/82 [00:00<00:00, 436.11it/s]\n",
      "[I 2024-02-14 21:50:28,913] Trial 60 pruned. \n"
     ]
    },
    {
     "name": "stdout",
     "output_type": "stream",
     "text": [
      "{'hidden_dim_1': 64, 'hidden_dim_2': 64, 'dropout_rate': 0.2}\n"
     ]
    },
    {
     "data": {
      "text/html": [
       "Finishing last run (ID:6pdxtrx3) before initializing another..."
      ],
      "text/plain": [
       "<IPython.core.display.HTML object>"
      ]
     },
     "metadata": {},
     "output_type": "display_data"
    },
    {
     "data": {
      "text/html": [
       "Waiting for W&B process to finish... <strong style=\"color:green\">(success).</strong>"
      ],
      "text/plain": [
       "<IPython.core.display.HTML object>"
      ]
     },
     "metadata": {},
     "output_type": "display_data"
    },
    {
     "data": {
      "text/html": [
       " View run <strong style=\"color:#cdcd00\">60_fcnn_baseline_6_large_81k_search_108_lr-0.001_hidden1-128_hidden2-32_dr-0.1</strong> at: <a href='https://wandb.ai/totikos/model_fcnn_baseline_6_large_81k_search_108-hpo/runs/6pdxtrx3' target=\"_blank\">https://wandb.ai/totikos/model_fcnn_baseline_6_large_81k_search_108-hpo/runs/6pdxtrx3</a><br/> View job at <a href='https://wandb.ai/totikos/model_fcnn_baseline_6_large_81k_search_108-hpo/jobs/QXJ0aWZhY3RDb2xsZWN0aW9uOjEzOTc4MjU0OA==/version_details/v1' target=\"_blank\">https://wandb.ai/totikos/model_fcnn_baseline_6_large_81k_search_108-hpo/jobs/QXJ0aWZhY3RDb2xsZWN0aW9uOjEzOTc4MjU0OA==/version_details/v1</a><br/>Synced 5 W&B file(s), 0 media file(s), 0 artifact file(s) and 0 other file(s)"
      ],
      "text/plain": [
       "<IPython.core.display.HTML object>"
      ]
     },
     "metadata": {},
     "output_type": "display_data"
    },
    {
     "data": {
      "text/html": [
       "Find logs at: <code>C:\\Users\\nekta\\OneDrive\\Desktop\\botanic-emotion-recognition\\logs\\wandb\\run-20240214_215016-6pdxtrx3\\logs</code>"
      ],
      "text/plain": [
       "<IPython.core.display.HTML object>"
      ]
     },
     "metadata": {},
     "output_type": "display_data"
    },
    {
     "data": {
      "text/html": [
       "Successfully finished last run (ID:6pdxtrx3). Initializing new run:<br/>"
      ],
      "text/plain": [
       "<IPython.core.display.HTML object>"
      ]
     },
     "metadata": {},
     "output_type": "display_data"
    },
    {
     "data": {
      "text/html": [
       "wandb version 0.16.3 is available!  To upgrade, please run:\n",
       " $ pip install wandb --upgrade"
      ],
      "text/plain": [
       "<IPython.core.display.HTML object>"
      ]
     },
     "metadata": {},
     "output_type": "display_data"
    },
    {
     "data": {
      "text/html": [
       "Tracking run with wandb version 0.15.12"
      ],
      "text/plain": [
       "<IPython.core.display.HTML object>"
      ]
     },
     "metadata": {},
     "output_type": "display_data"
    },
    {
     "data": {
      "text/html": [
       "Run data is saved locally in <code>C:\\Users\\nekta\\OneDrive\\Desktop\\botanic-emotion-recognition\\logs\\wandb\\run-20240214_215029-jxjp60hx</code>"
      ],
      "text/plain": [
       "<IPython.core.display.HTML object>"
      ]
     },
     "metadata": {},
     "output_type": "display_data"
    },
    {
     "data": {
      "text/html": [
       "Syncing run <strong><a href='https://wandb.ai/totikos/model_fcnn_baseline_6_large_81k_search_108-hpo/runs/jxjp60hx' target=\"_blank\">61_fcnn_baseline_6_large_81k_search_108_lr-0.0001_hidden1-64_hidden2-64_dr-0.2</a></strong> to <a href='https://wandb.ai/totikos/model_fcnn_baseline_6_large_81k_search_108-hpo' target=\"_blank\">Weights & Biases</a> (<a href='https://wandb.me/run' target=\"_blank\">docs</a>)<br/>"
      ],
      "text/plain": [
       "<IPython.core.display.HTML object>"
      ]
     },
     "metadata": {},
     "output_type": "display_data"
    },
    {
     "data": {
      "text/html": [
       " View project at <a href='https://wandb.ai/totikos/model_fcnn_baseline_6_large_81k_search_108-hpo' target=\"_blank\">https://wandb.ai/totikos/model_fcnn_baseline_6_large_81k_search_108-hpo</a>"
      ],
      "text/plain": [
       "<IPython.core.display.HTML object>"
      ]
     },
     "metadata": {},
     "output_type": "display_data"
    },
    {
     "data": {
      "text/html": [
       " View run at <a href='https://wandb.ai/totikos/model_fcnn_baseline_6_large_81k_search_108-hpo/runs/jxjp60hx' target=\"_blank\">https://wandb.ai/totikos/model_fcnn_baseline_6_large_81k_search_108-hpo/runs/jxjp60hx</a>"
      ],
      "text/plain": [
       "<IPython.core.display.HTML object>"
      ]
     },
     "metadata": {},
     "output_type": "display_data"
    },
    {
     "name": "stderr",
     "output_type": "stream",
     "text": [
      "100%|███████████████████████████████████████| 899/899 [00:06<00:00, 143.93it/s]\n",
      "100%|█████████████████████████████████████████| 82/82 [00:00<00:00, 651.45it/s]\n",
      "[I 2024-02-14 21:50:43,263] Trial 61 pruned. \n"
     ]
    },
    {
     "name": "stdout",
     "output_type": "stream",
     "text": [
      "{'hidden_dim_1': 32, 'hidden_dim_2': 16, 'dropout_rate': 0.2}\n"
     ]
    },
    {
     "data": {
      "text/html": [
       "Finishing last run (ID:jxjp60hx) before initializing another..."
      ],
      "text/plain": [
       "<IPython.core.display.HTML object>"
      ]
     },
     "metadata": {},
     "output_type": "display_data"
    },
    {
     "data": {
      "text/html": [
       "Waiting for W&B process to finish... <strong style=\"color:green\">(success).</strong>"
      ],
      "text/plain": [
       "<IPython.core.display.HTML object>"
      ]
     },
     "metadata": {},
     "output_type": "display_data"
    },
    {
     "data": {
      "text/html": [
       " View run <strong style=\"color:#cdcd00\">61_fcnn_baseline_6_large_81k_search_108_lr-0.0001_hidden1-64_hidden2-64_dr-0.2</strong> at: <a href='https://wandb.ai/totikos/model_fcnn_baseline_6_large_81k_search_108-hpo/runs/jxjp60hx' target=\"_blank\">https://wandb.ai/totikos/model_fcnn_baseline_6_large_81k_search_108-hpo/runs/jxjp60hx</a><br/> View job at <a href='https://wandb.ai/totikos/model_fcnn_baseline_6_large_81k_search_108-hpo/jobs/QXJ0aWZhY3RDb2xsZWN0aW9uOjEzOTc4MjU0OA==/version_details/v1' target=\"_blank\">https://wandb.ai/totikos/model_fcnn_baseline_6_large_81k_search_108-hpo/jobs/QXJ0aWZhY3RDb2xsZWN0aW9uOjEzOTc4MjU0OA==/version_details/v1</a><br/>Synced 5 W&B file(s), 0 media file(s), 0 artifact file(s) and 0 other file(s)"
      ],
      "text/plain": [
       "<IPython.core.display.HTML object>"
      ]
     },
     "metadata": {},
     "output_type": "display_data"
    },
    {
     "data": {
      "text/html": [
       "Find logs at: <code>C:\\Users\\nekta\\OneDrive\\Desktop\\botanic-emotion-recognition\\logs\\wandb\\run-20240214_215029-jxjp60hx\\logs</code>"
      ],
      "text/plain": [
       "<IPython.core.display.HTML object>"
      ]
     },
     "metadata": {},
     "output_type": "display_data"
    },
    {
     "data": {
      "text/html": [
       "Successfully finished last run (ID:jxjp60hx). Initializing new run:<br/>"
      ],
      "text/plain": [
       "<IPython.core.display.HTML object>"
      ]
     },
     "metadata": {},
     "output_type": "display_data"
    },
    {
     "data": {
      "text/html": [
       "wandb version 0.16.3 is available!  To upgrade, please run:\n",
       " $ pip install wandb --upgrade"
      ],
      "text/plain": [
       "<IPython.core.display.HTML object>"
      ]
     },
     "metadata": {},
     "output_type": "display_data"
    },
    {
     "data": {
      "text/html": [
       "Tracking run with wandb version 0.15.12"
      ],
      "text/plain": [
       "<IPython.core.display.HTML object>"
      ]
     },
     "metadata": {},
     "output_type": "display_data"
    },
    {
     "data": {
      "text/html": [
       "Run data is saved locally in <code>C:\\Users\\nekta\\OneDrive\\Desktop\\botanic-emotion-recognition\\logs\\wandb\\run-20240214_215043-5thevxbq</code>"
      ],
      "text/plain": [
       "<IPython.core.display.HTML object>"
      ]
     },
     "metadata": {},
     "output_type": "display_data"
    },
    {
     "data": {
      "text/html": [
       "Syncing run <strong><a href='https://wandb.ai/totikos/model_fcnn_baseline_6_large_81k_search_108-hpo/runs/5thevxbq' target=\"_blank\">62_fcnn_baseline_6_large_81k_search_108_lr-0.0001_hidden1-32_hidden2-16_dr-0.2</a></strong> to <a href='https://wandb.ai/totikos/model_fcnn_baseline_6_large_81k_search_108-hpo' target=\"_blank\">Weights & Biases</a> (<a href='https://wandb.me/run' target=\"_blank\">docs</a>)<br/>"
      ],
      "text/plain": [
       "<IPython.core.display.HTML object>"
      ]
     },
     "metadata": {},
     "output_type": "display_data"
    },
    {
     "data": {
      "text/html": [
       " View project at <a href='https://wandb.ai/totikos/model_fcnn_baseline_6_large_81k_search_108-hpo' target=\"_blank\">https://wandb.ai/totikos/model_fcnn_baseline_6_large_81k_search_108-hpo</a>"
      ],
      "text/plain": [
       "<IPython.core.display.HTML object>"
      ]
     },
     "metadata": {},
     "output_type": "display_data"
    },
    {
     "data": {
      "text/html": [
       " View run at <a href='https://wandb.ai/totikos/model_fcnn_baseline_6_large_81k_search_108-hpo/runs/5thevxbq' target=\"_blank\">https://wandb.ai/totikos/model_fcnn_baseline_6_large_81k_search_108-hpo/runs/5thevxbq</a>"
      ],
      "text/plain": [
       "<IPython.core.display.HTML object>"
      ]
     },
     "metadata": {},
     "output_type": "display_data"
    },
    {
     "name": "stderr",
     "output_type": "stream",
     "text": [
      "100%|███████████████████████████████████████| 899/899 [00:04<00:00, 198.75it/s]\n",
      "100%|█████████████████████████████████████████| 82/82 [00:00<00:00, 781.14it/s]\n",
      "100%|███████████████████████████████████████| 899/899 [00:04<00:00, 182.25it/s]\n",
      "100%|█████████████████████████████████████████| 82/82 [00:00<00:00, 628.24it/s]\n",
      "100%|███████████████████████████████████████| 899/899 [00:06<00:00, 140.80it/s]\n",
      "100%|█████████████████████████████████████████| 82/82 [00:00<00:00, 463.22it/s]\n",
      "100%|███████████████████████████████████████| 899/899 [00:05<00:00, 176.16it/s]\n",
      "100%|█████████████████████████████████████████| 82/82 [00:00<00:00, 585.00it/s]\n",
      "100%|███████████████████████████████████████| 899/899 [00:05<00:00, 175.76it/s]\n",
      "100%|█████████████████████████████████████████| 82/82 [00:00<00:00, 564.11it/s]\n",
      "100%|███████████████████████████████████████| 899/899 [00:06<00:00, 148.01it/s]\n",
      "100%|█████████████████████████████████████████| 82/82 [00:00<00:00, 510.73it/s]\n",
      "100%|███████████████████████████████████████| 899/899 [00:05<00:00, 170.63it/s]\n",
      "100%|█████████████████████████████████████████| 82/82 [00:00<00:00, 454.36it/s]\n",
      "100%|███████████████████████████████████████| 899/899 [00:05<00:00, 174.87it/s]\n",
      "100%|█████████████████████████████████████████| 82/82 [00:00<00:00, 619.04it/s]\n",
      "100%|███████████████████████████████████████| 899/899 [00:05<00:00, 157.44it/s]\n",
      "100%|█████████████████████████████████████████| 82/82 [00:00<00:00, 533.75it/s]\n",
      "100%|███████████████████████████████████████| 899/899 [00:05<00:00, 159.95it/s]\n",
      "100%|█████████████████████████████████████████| 82/82 [00:00<00:00, 586.24it/s]\n",
      "100%|███████████████████████████████████████| 899/899 [00:05<00:00, 179.69it/s]\n",
      "100%|█████████████████████████████████████████| 82/82 [00:00<00:00, 560.57it/s]\n",
      "100%|███████████████████████████████████████| 899/899 [00:05<00:00, 173.46it/s]\n",
      "100%|█████████████████████████████████████████| 82/82 [00:00<00:00, 571.71it/s]\n",
      "100%|███████████████████████████████████████| 899/899 [00:04<00:00, 182.14it/s]\n",
      "100%|█████████████████████████████████████████| 82/82 [00:00<00:00, 626.34it/s]\n",
      "100%|███████████████████████████████████████| 899/899 [00:05<00:00, 178.56it/s]\n",
      "100%|█████████████████████████████████████████| 82/82 [00:00<00:00, 588.71it/s]\n",
      "100%|███████████████████████████████████████| 899/899 [00:04<00:00, 181.26it/s]\n",
      "100%|█████████████████████████████████████████| 82/82 [00:00<00:00, 619.11it/s]\n",
      "100%|███████████████████████████████████████| 899/899 [00:04<00:00, 182.41it/s]\n",
      "100%|█████████████████████████████████████████| 82/82 [00:00<00:00, 598.47it/s]\n",
      "100%|███████████████████████████████████████| 899/899 [00:04<00:00, 181.13it/s]\n",
      "100%|█████████████████████████████████████████| 82/82 [00:00<00:00, 594.87it/s]\n",
      "100%|███████████████████████████████████████| 899/899 [00:04<00:00, 183.13it/s]\n",
      "100%|█████████████████████████████████████████| 82/82 [00:00<00:00, 584.44it/s]\n",
      "100%|███████████████████████████████████████| 899/899 [00:04<00:00, 181.31it/s]\n",
      "100%|█████████████████████████████████████████| 82/82 [00:00<00:00, 613.30it/s]\n",
      "100%|███████████████████████████████████████| 899/899 [00:05<00:00, 177.51it/s]\n",
      "100%|█████████████████████████████████████████| 82/82 [00:00<00:00, 626.35it/s]\n"
     ]
    },
    {
     "data": {
      "text/html": [
       "Waiting for W&B process to finish... <strong style=\"color:green\">(success).</strong>"
      ],
      "text/plain": [
       "<IPython.core.display.HTML object>"
      ]
     },
     "metadata": {},
     "output_type": "display_data"
    },
    {
     "data": {
      "text/html": [
       "<style>\n",
       "    table.wandb td:nth-child(1) { padding: 0 10px; text-align: left ; width: auto;} td:nth-child(2) {text-align: left ; width: 100%}\n",
       "    .wandb-row { display: flex; flex-direction: row; flex-wrap: wrap; justify-content: flex-start; width: 100% }\n",
       "    .wandb-col { display: flex; flex-direction: column; flex-basis: 100%; flex: 1; padding: 10px; }\n",
       "    </style>\n",
       "<div class=\"wandb-row\"><div class=\"wandb-col\"><h3>Run history:</h3><br/><table class=\"wandb\"><tr><td>accuracy</td><td>▇▅██▄▄▂▁▆▂▃▆▅▃▅▄▆▁▁▂</td></tr><tr><td>balanced_accuracy</td><td>▅▄▁▄▁▃▃▂▅▃▄▇█▁▅▆█▂▂▃</td></tr><tr><td>f1_weighted</td><td>▇▅██▅▄▁▁▆▂▄▅▄▄▅▂▅▁▁▃</td></tr><tr><td>precision</td><td>▁▅▁▃▅▄▂▄▃▁▅▆▆▁▄█▄▃▃▄</td></tr><tr><td>recall</td><td>▇▅██▄▄▂▁▆▂▃▆▅▃▅▄▆▁▁▂</td></tr></table><br/></div><div class=\"wandb-col\"><h3>Run summary:</h3><br/><table class=\"wandb\"><tr><td>accuracy</td><td>0.25346</td></tr><tr><td>balanced_accuracy</td><td>0.16819</td></tr><tr><td>f1_weighted</td><td>0.16126</td></tr><tr><td>precision</td><td>0.24676</td></tr><tr><td>recall</td><td>0.25346</td></tr></table><br/></div></div>"
      ],
      "text/plain": [
       "<IPython.core.display.HTML object>"
      ]
     },
     "metadata": {},
     "output_type": "display_data"
    },
    {
     "data": {
      "text/html": [
       " View run <strong style=\"color:#cdcd00\">62_fcnn_baseline_6_large_81k_search_108_lr-0.0001_hidden1-32_hidden2-16_dr-0.2</strong> at: <a href='https://wandb.ai/totikos/model_fcnn_baseline_6_large_81k_search_108-hpo/runs/5thevxbq' target=\"_blank\">https://wandb.ai/totikos/model_fcnn_baseline_6_large_81k_search_108-hpo/runs/5thevxbq</a><br/> View job at <a href='https://wandb.ai/totikos/model_fcnn_baseline_6_large_81k_search_108-hpo/jobs/QXJ0aWZhY3RDb2xsZWN0aW9uOjEzOTc4MjU0OA==/version_details/v2' target=\"_blank\">https://wandb.ai/totikos/model_fcnn_baseline_6_large_81k_search_108-hpo/jobs/QXJ0aWZhY3RDb2xsZWN0aW9uOjEzOTc4MjU0OA==/version_details/v2</a><br/>Synced 5 W&B file(s), 0 media file(s), 0 artifact file(s) and 0 other file(s)"
      ],
      "text/plain": [
       "<IPython.core.display.HTML object>"
      ]
     },
     "metadata": {},
     "output_type": "display_data"
    },
    {
     "data": {
      "text/html": [
       "Find logs at: <code>C:\\Users\\nekta\\OneDrive\\Desktop\\botanic-emotion-recognition\\logs\\wandb\\run-20240214_215043-5thevxbq\\logs</code>"
      ],
      "text/plain": [
       "<IPython.core.display.HTML object>"
      ]
     },
     "metadata": {},
     "output_type": "display_data"
    },
    {
     "name": "stderr",
     "output_type": "stream",
     "text": [
      "[I 2024-02-14 21:52:42,393] Trial 62 finished with value: 0.16819429910875128 and parameters: {'dropout_rate': 0.2, 'hidden_dim_1': 32, 'hidden_dim_2': 16, 'lr': 0.0001}. Best is trial 6 with value: 0.17126425545780385.\n"
     ]
    },
    {
     "name": "stdout",
     "output_type": "stream",
     "text": [
      "{'hidden_dim_1': 64, 'hidden_dim_2': 32, 'dropout_rate': 0.2}\n"
     ]
    },
    {
     "data": {
      "text/html": [
       "wandb version 0.16.3 is available!  To upgrade, please run:\n",
       " $ pip install wandb --upgrade"
      ],
      "text/plain": [
       "<IPython.core.display.HTML object>"
      ]
     },
     "metadata": {},
     "output_type": "display_data"
    },
    {
     "data": {
      "text/html": [
       "Tracking run with wandb version 0.15.12"
      ],
      "text/plain": [
       "<IPython.core.display.HTML object>"
      ]
     },
     "metadata": {},
     "output_type": "display_data"
    },
    {
     "data": {
      "text/html": [
       "Run data is saved locally in <code>C:\\Users\\nekta\\OneDrive\\Desktop\\botanic-emotion-recognition\\logs\\wandb\\run-20240214_215242-wqddyh42</code>"
      ],
      "text/plain": [
       "<IPython.core.display.HTML object>"
      ]
     },
     "metadata": {},
     "output_type": "display_data"
    },
    {
     "data": {
      "text/html": [
       "Syncing run <strong><a href='https://wandb.ai/totikos/model_fcnn_baseline_6_large_81k_search_108-hpo/runs/wqddyh42' target=\"_blank\">63_fcnn_baseline_6_large_81k_search_108_lr-0.001_hidden1-64_hidden2-32_dr-0.2</a></strong> to <a href='https://wandb.ai/totikos/model_fcnn_baseline_6_large_81k_search_108-hpo' target=\"_blank\">Weights & Biases</a> (<a href='https://wandb.me/run' target=\"_blank\">docs</a>)<br/>"
      ],
      "text/plain": [
       "<IPython.core.display.HTML object>"
      ]
     },
     "metadata": {},
     "output_type": "display_data"
    },
    {
     "data": {
      "text/html": [
       " View project at <a href='https://wandb.ai/totikos/model_fcnn_baseline_6_large_81k_search_108-hpo' target=\"_blank\">https://wandb.ai/totikos/model_fcnn_baseline_6_large_81k_search_108-hpo</a>"
      ],
      "text/plain": [
       "<IPython.core.display.HTML object>"
      ]
     },
     "metadata": {},
     "output_type": "display_data"
    },
    {
     "data": {
      "text/html": [
       " View run at <a href='https://wandb.ai/totikos/model_fcnn_baseline_6_large_81k_search_108-hpo/runs/wqddyh42' target=\"_blank\">https://wandb.ai/totikos/model_fcnn_baseline_6_large_81k_search_108-hpo/runs/wqddyh42</a>"
      ],
      "text/plain": [
       "<IPython.core.display.HTML object>"
      ]
     },
     "metadata": {},
     "output_type": "display_data"
    },
    {
     "name": "stderr",
     "output_type": "stream",
     "text": [
      "100%|███████████████████████████████████████| 899/899 [00:06<00:00, 135.09it/s]\n",
      "100%|█████████████████████████████████████████| 82/82 [00:00<00:00, 554.03it/s]\n",
      "[I 2024-02-14 21:52:51,094] Trial 63 pruned. \n"
     ]
    },
    {
     "name": "stdout",
     "output_type": "stream",
     "text": [
      "{'hidden_dim_1': 128, 'hidden_dim_2': 64, 'dropout_rate': 0.1}\n"
     ]
    },
    {
     "data": {
      "text/html": [
       "Finishing last run (ID:wqddyh42) before initializing another..."
      ],
      "text/plain": [
       "<IPython.core.display.HTML object>"
      ]
     },
     "metadata": {},
     "output_type": "display_data"
    },
    {
     "data": {
      "text/html": [
       "Waiting for W&B process to finish... <strong style=\"color:green\">(success).</strong>"
      ],
      "text/plain": [
       "<IPython.core.display.HTML object>"
      ]
     },
     "metadata": {},
     "output_type": "display_data"
    },
    {
     "data": {
      "text/html": [
       " View run <strong style=\"color:#cdcd00\">63_fcnn_baseline_6_large_81k_search_108_lr-0.001_hidden1-64_hidden2-32_dr-0.2</strong> at: <a href='https://wandb.ai/totikos/model_fcnn_baseline_6_large_81k_search_108-hpo/runs/wqddyh42' target=\"_blank\">https://wandb.ai/totikos/model_fcnn_baseline_6_large_81k_search_108-hpo/runs/wqddyh42</a><br/> View job at <a href='https://wandb.ai/totikos/model_fcnn_baseline_6_large_81k_search_108-hpo/jobs/QXJ0aWZhY3RDb2xsZWN0aW9uOjEzOTc4MjU0OA==/version_details/v1' target=\"_blank\">https://wandb.ai/totikos/model_fcnn_baseline_6_large_81k_search_108-hpo/jobs/QXJ0aWZhY3RDb2xsZWN0aW9uOjEzOTc4MjU0OA==/version_details/v1</a><br/>Synced 5 W&B file(s), 0 media file(s), 0 artifact file(s) and 0 other file(s)"
      ],
      "text/plain": [
       "<IPython.core.display.HTML object>"
      ]
     },
     "metadata": {},
     "output_type": "display_data"
    },
    {
     "data": {
      "text/html": [
       "Find logs at: <code>C:\\Users\\nekta\\OneDrive\\Desktop\\botanic-emotion-recognition\\logs\\wandb\\run-20240214_215242-wqddyh42\\logs</code>"
      ],
      "text/plain": [
       "<IPython.core.display.HTML object>"
      ]
     },
     "metadata": {},
     "output_type": "display_data"
    },
    {
     "data": {
      "text/html": [
       "Successfully finished last run (ID:wqddyh42). Initializing new run:<br/>"
      ],
      "text/plain": [
       "<IPython.core.display.HTML object>"
      ]
     },
     "metadata": {},
     "output_type": "display_data"
    },
    {
     "data": {
      "text/html": [
       "wandb version 0.16.3 is available!  To upgrade, please run:\n",
       " $ pip install wandb --upgrade"
      ],
      "text/plain": [
       "<IPython.core.display.HTML object>"
      ]
     },
     "metadata": {},
     "output_type": "display_data"
    },
    {
     "data": {
      "text/html": [
       "Tracking run with wandb version 0.15.12"
      ],
      "text/plain": [
       "<IPython.core.display.HTML object>"
      ]
     },
     "metadata": {},
     "output_type": "display_data"
    },
    {
     "data": {
      "text/html": [
       "Run data is saved locally in <code>C:\\Users\\nekta\\OneDrive\\Desktop\\botanic-emotion-recognition\\logs\\wandb\\run-20240214_215251-rubkujeb</code>"
      ],
      "text/plain": [
       "<IPython.core.display.HTML object>"
      ]
     },
     "metadata": {},
     "output_type": "display_data"
    },
    {
     "data": {
      "text/html": [
       "Syncing run <strong><a href='https://wandb.ai/totikos/model_fcnn_baseline_6_large_81k_search_108-hpo/runs/rubkujeb' target=\"_blank\">64_fcnn_baseline_6_large_81k_search_108_lr-0.001_hidden1-128_hidden2-64_dr-0.1</a></strong> to <a href='https://wandb.ai/totikos/model_fcnn_baseline_6_large_81k_search_108-hpo' target=\"_blank\">Weights & Biases</a> (<a href='https://wandb.me/run' target=\"_blank\">docs</a>)<br/>"
      ],
      "text/plain": [
       "<IPython.core.display.HTML object>"
      ]
     },
     "metadata": {},
     "output_type": "display_data"
    },
    {
     "data": {
      "text/html": [
       " View project at <a href='https://wandb.ai/totikos/model_fcnn_baseline_6_large_81k_search_108-hpo' target=\"_blank\">https://wandb.ai/totikos/model_fcnn_baseline_6_large_81k_search_108-hpo</a>"
      ],
      "text/plain": [
       "<IPython.core.display.HTML object>"
      ]
     },
     "metadata": {},
     "output_type": "display_data"
    },
    {
     "data": {
      "text/html": [
       " View run at <a href='https://wandb.ai/totikos/model_fcnn_baseline_6_large_81k_search_108-hpo/runs/rubkujeb' target=\"_blank\">https://wandb.ai/totikos/model_fcnn_baseline_6_large_81k_search_108-hpo/runs/rubkujeb</a>"
      ],
      "text/plain": [
       "<IPython.core.display.HTML object>"
      ]
     },
     "metadata": {},
     "output_type": "display_data"
    },
    {
     "name": "stderr",
     "output_type": "stream",
     "text": [
      "100%|████████████████████████████████████████| 899/899 [00:11<00:00, 81.27it/s]\n",
      "100%|█████████████████████████████████████████| 82/82 [00:00<00:00, 449.91it/s]\n",
      "[I 2024-02-14 21:53:08,904] Trial 64 pruned. \n"
     ]
    },
    {
     "name": "stdout",
     "output_type": "stream",
     "text": [
      "{'hidden_dim_1': 64, 'hidden_dim_2': 16, 'dropout_rate': 0.1}\n"
     ]
    },
    {
     "data": {
      "text/html": [
       "Finishing last run (ID:rubkujeb) before initializing another..."
      ],
      "text/plain": [
       "<IPython.core.display.HTML object>"
      ]
     },
     "metadata": {},
     "output_type": "display_data"
    },
    {
     "data": {
      "text/html": [
       "Waiting for W&B process to finish... <strong style=\"color:green\">(success).</strong>"
      ],
      "text/plain": [
       "<IPython.core.display.HTML object>"
      ]
     },
     "metadata": {},
     "output_type": "display_data"
    },
    {
     "data": {
      "text/html": [
       " View run <strong style=\"color:#cdcd00\">64_fcnn_baseline_6_large_81k_search_108_lr-0.001_hidden1-128_hidden2-64_dr-0.1</strong> at: <a href='https://wandb.ai/totikos/model_fcnn_baseline_6_large_81k_search_108-hpo/runs/rubkujeb' target=\"_blank\">https://wandb.ai/totikos/model_fcnn_baseline_6_large_81k_search_108-hpo/runs/rubkujeb</a><br/> View job at <a href='https://wandb.ai/totikos/model_fcnn_baseline_6_large_81k_search_108-hpo/jobs/QXJ0aWZhY3RDb2xsZWN0aW9uOjEzOTc4MjU0OA==/version_details/v1' target=\"_blank\">https://wandb.ai/totikos/model_fcnn_baseline_6_large_81k_search_108-hpo/jobs/QXJ0aWZhY3RDb2xsZWN0aW9uOjEzOTc4MjU0OA==/version_details/v1</a><br/>Synced 5 W&B file(s), 0 media file(s), 0 artifact file(s) and 0 other file(s)"
      ],
      "text/plain": [
       "<IPython.core.display.HTML object>"
      ]
     },
     "metadata": {},
     "output_type": "display_data"
    },
    {
     "data": {
      "text/html": [
       "Find logs at: <code>C:\\Users\\nekta\\OneDrive\\Desktop\\botanic-emotion-recognition\\logs\\wandb\\run-20240214_215251-rubkujeb\\logs</code>"
      ],
      "text/plain": [
       "<IPython.core.display.HTML object>"
      ]
     },
     "metadata": {},
     "output_type": "display_data"
    },
    {
     "data": {
      "text/html": [
       "Successfully finished last run (ID:rubkujeb). Initializing new run:<br/>"
      ],
      "text/plain": [
       "<IPython.core.display.HTML object>"
      ]
     },
     "metadata": {},
     "output_type": "display_data"
    },
    {
     "data": {
      "text/html": [
       "wandb version 0.16.3 is available!  To upgrade, please run:\n",
       " $ pip install wandb --upgrade"
      ],
      "text/plain": [
       "<IPython.core.display.HTML object>"
      ]
     },
     "metadata": {},
     "output_type": "display_data"
    },
    {
     "data": {
      "text/html": [
       "Tracking run with wandb version 0.15.12"
      ],
      "text/plain": [
       "<IPython.core.display.HTML object>"
      ]
     },
     "metadata": {},
     "output_type": "display_data"
    },
    {
     "data": {
      "text/html": [
       "Run data is saved locally in <code>C:\\Users\\nekta\\OneDrive\\Desktop\\botanic-emotion-recognition\\logs\\wandb\\run-20240214_215309-ost8ameb</code>"
      ],
      "text/plain": [
       "<IPython.core.display.HTML object>"
      ]
     },
     "metadata": {},
     "output_type": "display_data"
    },
    {
     "data": {
      "text/html": [
       "Syncing run <strong><a href='https://wandb.ai/totikos/model_fcnn_baseline_6_large_81k_search_108-hpo/runs/ost8ameb' target=\"_blank\">65_fcnn_baseline_6_large_81k_search_108_lr-0.01_hidden1-64_hidden2-16_dr-0.1</a></strong> to <a href='https://wandb.ai/totikos/model_fcnn_baseline_6_large_81k_search_108-hpo' target=\"_blank\">Weights & Biases</a> (<a href='https://wandb.me/run' target=\"_blank\">docs</a>)<br/>"
      ],
      "text/plain": [
       "<IPython.core.display.HTML object>"
      ]
     },
     "metadata": {},
     "output_type": "display_data"
    },
    {
     "data": {
      "text/html": [
       " View project at <a href='https://wandb.ai/totikos/model_fcnn_baseline_6_large_81k_search_108-hpo' target=\"_blank\">https://wandb.ai/totikos/model_fcnn_baseline_6_large_81k_search_108-hpo</a>"
      ],
      "text/plain": [
       "<IPython.core.display.HTML object>"
      ]
     },
     "metadata": {},
     "output_type": "display_data"
    },
    {
     "data": {
      "text/html": [
       " View run at <a href='https://wandb.ai/totikos/model_fcnn_baseline_6_large_81k_search_108-hpo/runs/ost8ameb' target=\"_blank\">https://wandb.ai/totikos/model_fcnn_baseline_6_large_81k_search_108-hpo/runs/ost8ameb</a>"
      ],
      "text/plain": [
       "<IPython.core.display.HTML object>"
      ]
     },
     "metadata": {},
     "output_type": "display_data"
    },
    {
     "name": "stderr",
     "output_type": "stream",
     "text": [
      "100%|███████████████████████████████████████| 899/899 [00:06<00:00, 137.80it/s]\n",
      "100%|█████████████████████████████████████████| 82/82 [00:00<00:00, 546.69it/s]\n",
      "[I 2024-02-14 21:53:22,884] Trial 65 pruned. \n"
     ]
    },
    {
     "name": "stdout",
     "output_type": "stream",
     "text": [
      "{'hidden_dim_1': 16, 'hidden_dim_2': 64, 'dropout_rate': 0.1}\n"
     ]
    },
    {
     "data": {
      "text/html": [
       "Finishing last run (ID:ost8ameb) before initializing another..."
      ],
      "text/plain": [
       "<IPython.core.display.HTML object>"
      ]
     },
     "metadata": {},
     "output_type": "display_data"
    },
    {
     "data": {
      "text/html": [
       "Waiting for W&B process to finish... <strong style=\"color:green\">(success).</strong>"
      ],
      "text/plain": [
       "<IPython.core.display.HTML object>"
      ]
     },
     "metadata": {},
     "output_type": "display_data"
    },
    {
     "data": {
      "text/html": [
       " View run <strong style=\"color:#cdcd00\">65_fcnn_baseline_6_large_81k_search_108_lr-0.01_hidden1-64_hidden2-16_dr-0.1</strong> at: <a href='https://wandb.ai/totikos/model_fcnn_baseline_6_large_81k_search_108-hpo/runs/ost8ameb' target=\"_blank\">https://wandb.ai/totikos/model_fcnn_baseline_6_large_81k_search_108-hpo/runs/ost8ameb</a><br/> View job at <a href='https://wandb.ai/totikos/model_fcnn_baseline_6_large_81k_search_108-hpo/jobs/QXJ0aWZhY3RDb2xsZWN0aW9uOjEzOTc4MjU0OA==/version_details/v1' target=\"_blank\">https://wandb.ai/totikos/model_fcnn_baseline_6_large_81k_search_108-hpo/jobs/QXJ0aWZhY3RDb2xsZWN0aW9uOjEzOTc4MjU0OA==/version_details/v1</a><br/>Synced 5 W&B file(s), 0 media file(s), 0 artifact file(s) and 0 other file(s)"
      ],
      "text/plain": [
       "<IPython.core.display.HTML object>"
      ]
     },
     "metadata": {},
     "output_type": "display_data"
    },
    {
     "data": {
      "text/html": [
       "Find logs at: <code>C:\\Users\\nekta\\OneDrive\\Desktop\\botanic-emotion-recognition\\logs\\wandb\\run-20240214_215309-ost8ameb\\logs</code>"
      ],
      "text/plain": [
       "<IPython.core.display.HTML object>"
      ]
     },
     "metadata": {},
     "output_type": "display_data"
    },
    {
     "data": {
      "text/html": [
       "Successfully finished last run (ID:ost8ameb). Initializing new run:<br/>"
      ],
      "text/plain": [
       "<IPython.core.display.HTML object>"
      ]
     },
     "metadata": {},
     "output_type": "display_data"
    },
    {
     "data": {
      "text/html": [
       "wandb version 0.16.3 is available!  To upgrade, please run:\n",
       " $ pip install wandb --upgrade"
      ],
      "text/plain": [
       "<IPython.core.display.HTML object>"
      ]
     },
     "metadata": {},
     "output_type": "display_data"
    },
    {
     "data": {
      "text/html": [
       "Tracking run with wandb version 0.15.12"
      ],
      "text/plain": [
       "<IPython.core.display.HTML object>"
      ]
     },
     "metadata": {},
     "output_type": "display_data"
    },
    {
     "data": {
      "text/html": [
       "Run data is saved locally in <code>C:\\Users\\nekta\\OneDrive\\Desktop\\botanic-emotion-recognition\\logs\\wandb\\run-20240214_215322-135ah7uk</code>"
      ],
      "text/plain": [
       "<IPython.core.display.HTML object>"
      ]
     },
     "metadata": {},
     "output_type": "display_data"
    },
    {
     "data": {
      "text/html": [
       "Syncing run <strong><a href='https://wandb.ai/totikos/model_fcnn_baseline_6_large_81k_search_108-hpo/runs/135ah7uk' target=\"_blank\">66_fcnn_baseline_6_large_81k_search_108_lr-0.01_hidden1-16_hidden2-64_dr-0.1</a></strong> to <a href='https://wandb.ai/totikos/model_fcnn_baseline_6_large_81k_search_108-hpo' target=\"_blank\">Weights & Biases</a> (<a href='https://wandb.me/run' target=\"_blank\">docs</a>)<br/>"
      ],
      "text/plain": [
       "<IPython.core.display.HTML object>"
      ]
     },
     "metadata": {},
     "output_type": "display_data"
    },
    {
     "data": {
      "text/html": [
       " View project at <a href='https://wandb.ai/totikos/model_fcnn_baseline_6_large_81k_search_108-hpo' target=\"_blank\">https://wandb.ai/totikos/model_fcnn_baseline_6_large_81k_search_108-hpo</a>"
      ],
      "text/plain": [
       "<IPython.core.display.HTML object>"
      ]
     },
     "metadata": {},
     "output_type": "display_data"
    },
    {
     "data": {
      "text/html": [
       " View run at <a href='https://wandb.ai/totikos/model_fcnn_baseline_6_large_81k_search_108-hpo/runs/135ah7uk' target=\"_blank\">https://wandb.ai/totikos/model_fcnn_baseline_6_large_81k_search_108-hpo/runs/135ah7uk</a>"
      ],
      "text/plain": [
       "<IPython.core.display.HTML object>"
      ]
     },
     "metadata": {},
     "output_type": "display_data"
    },
    {
     "name": "stderr",
     "output_type": "stream",
     "text": [
      "100%|███████████████████████████████████████| 899/899 [00:02<00:00, 337.49it/s]\n",
      "100%|█████████████████████████████████████████| 82/82 [00:00<00:00, 851.92it/s]\n",
      "[I 2024-02-14 21:53:32,642] Trial 66 pruned. \n"
     ]
    },
    {
     "name": "stdout",
     "output_type": "stream",
     "text": [
      "{'hidden_dim_1': 16, 'hidden_dim_2': 64, 'dropout_rate': 0}\n"
     ]
    },
    {
     "data": {
      "text/html": [
       "Finishing last run (ID:135ah7uk) before initializing another..."
      ],
      "text/plain": [
       "<IPython.core.display.HTML object>"
      ]
     },
     "metadata": {},
     "output_type": "display_data"
    },
    {
     "data": {
      "text/html": [
       "Waiting for W&B process to finish... <strong style=\"color:green\">(success).</strong>"
      ],
      "text/plain": [
       "<IPython.core.display.HTML object>"
      ]
     },
     "metadata": {},
     "output_type": "display_data"
    },
    {
     "data": {
      "text/html": [
       " View run <strong style=\"color:#cdcd00\">66_fcnn_baseline_6_large_81k_search_108_lr-0.01_hidden1-16_hidden2-64_dr-0.1</strong> at: <a href='https://wandb.ai/totikos/model_fcnn_baseline_6_large_81k_search_108-hpo/runs/135ah7uk' target=\"_blank\">https://wandb.ai/totikos/model_fcnn_baseline_6_large_81k_search_108-hpo/runs/135ah7uk</a><br/> View job at <a href='https://wandb.ai/totikos/model_fcnn_baseline_6_large_81k_search_108-hpo/jobs/QXJ0aWZhY3RDb2xsZWN0aW9uOjEzOTc4MjU0OA==/version_details/v1' target=\"_blank\">https://wandb.ai/totikos/model_fcnn_baseline_6_large_81k_search_108-hpo/jobs/QXJ0aWZhY3RDb2xsZWN0aW9uOjEzOTc4MjU0OA==/version_details/v1</a><br/>Synced 5 W&B file(s), 0 media file(s), 0 artifact file(s) and 0 other file(s)"
      ],
      "text/plain": [
       "<IPython.core.display.HTML object>"
      ]
     },
     "metadata": {},
     "output_type": "display_data"
    },
    {
     "data": {
      "text/html": [
       "Find logs at: <code>C:\\Users\\nekta\\OneDrive\\Desktop\\botanic-emotion-recognition\\logs\\wandb\\run-20240214_215322-135ah7uk\\logs</code>"
      ],
      "text/plain": [
       "<IPython.core.display.HTML object>"
      ]
     },
     "metadata": {},
     "output_type": "display_data"
    },
    {
     "data": {
      "text/html": [
       "Successfully finished last run (ID:135ah7uk). Initializing new run:<br/>"
      ],
      "text/plain": [
       "<IPython.core.display.HTML object>"
      ]
     },
     "metadata": {},
     "output_type": "display_data"
    },
    {
     "data": {
      "text/html": [
       "wandb version 0.16.3 is available!  To upgrade, please run:\n",
       " $ pip install wandb --upgrade"
      ],
      "text/plain": [
       "<IPython.core.display.HTML object>"
      ]
     },
     "metadata": {},
     "output_type": "display_data"
    },
    {
     "data": {
      "text/html": [
       "Tracking run with wandb version 0.15.12"
      ],
      "text/plain": [
       "<IPython.core.display.HTML object>"
      ]
     },
     "metadata": {},
     "output_type": "display_data"
    },
    {
     "data": {
      "text/html": [
       "Run data is saved locally in <code>C:\\Users\\nekta\\OneDrive\\Desktop\\botanic-emotion-recognition\\logs\\wandb\\run-20240214_215332-v7p2a6v7</code>"
      ],
      "text/plain": [
       "<IPython.core.display.HTML object>"
      ]
     },
     "metadata": {},
     "output_type": "display_data"
    },
    {
     "data": {
      "text/html": [
       "Syncing run <strong><a href='https://wandb.ai/totikos/model_fcnn_baseline_6_large_81k_search_108-hpo/runs/v7p2a6v7' target=\"_blank\">67_fcnn_baseline_6_large_81k_search_108_lr-0.001_hidden1-16_hidden2-64_dr-0</a></strong> to <a href='https://wandb.ai/totikos/model_fcnn_baseline_6_large_81k_search_108-hpo' target=\"_blank\">Weights & Biases</a> (<a href='https://wandb.me/run' target=\"_blank\">docs</a>)<br/>"
      ],
      "text/plain": [
       "<IPython.core.display.HTML object>"
      ]
     },
     "metadata": {},
     "output_type": "display_data"
    },
    {
     "data": {
      "text/html": [
       " View project at <a href='https://wandb.ai/totikos/model_fcnn_baseline_6_large_81k_search_108-hpo' target=\"_blank\">https://wandb.ai/totikos/model_fcnn_baseline_6_large_81k_search_108-hpo</a>"
      ],
      "text/plain": [
       "<IPython.core.display.HTML object>"
      ]
     },
     "metadata": {},
     "output_type": "display_data"
    },
    {
     "data": {
      "text/html": [
       " View run at <a href='https://wandb.ai/totikos/model_fcnn_baseline_6_large_81k_search_108-hpo/runs/v7p2a6v7' target=\"_blank\">https://wandb.ai/totikos/model_fcnn_baseline_6_large_81k_search_108-hpo/runs/v7p2a6v7</a>"
      ],
      "text/plain": [
       "<IPython.core.display.HTML object>"
      ]
     },
     "metadata": {},
     "output_type": "display_data"
    },
    {
     "name": "stderr",
     "output_type": "stream",
     "text": [
      "100%|███████████████████████████████████████| 899/899 [00:02<00:00, 344.23it/s]\n",
      "100%|█████████████████████████████████████████| 82/82 [00:00<00:00, 697.45it/s]\n",
      "100%|███████████████████████████████████████| 899/899 [00:02<00:00, 344.65it/s]\n",
      "100%|█████████████████████████████████████████| 82/82 [00:00<00:00, 726.87it/s]\n",
      "100%|███████████████████████████████████████| 899/899 [00:02<00:00, 314.32it/s]\n",
      "100%|█████████████████████████████████████████| 82/82 [00:00<00:00, 566.94it/s]\n",
      "100%|███████████████████████████████████████| 899/899 [00:03<00:00, 284.49it/s]\n",
      "100%|█████████████████████████████████████████| 82/82 [00:00<00:00, 649.71it/s]\n",
      "100%|███████████████████████████████████████| 899/899 [00:03<00:00, 291.49it/s]\n",
      "100%|█████████████████████████████████████████| 82/82 [00:00<00:00, 615.85it/s]\n",
      "100%|███████████████████████████████████████| 899/899 [00:03<00:00, 291.60it/s]\n",
      "100%|█████████████████████████████████████████| 82/82 [00:00<00:00, 653.49it/s]\n",
      "100%|███████████████████████████████████████| 899/899 [00:03<00:00, 288.59it/s]\n",
      "100%|█████████████████████████████████████████| 82/82 [00:00<00:00, 647.96it/s]\n",
      "100%|███████████████████████████████████████| 899/899 [00:03<00:00, 291.89it/s]\n",
      "100%|█████████████████████████████████████████| 82/82 [00:00<00:00, 654.27it/s]\n",
      "100%|███████████████████████████████████████| 899/899 [00:03<00:00, 294.93it/s]\n",
      "100%|█████████████████████████████████████████| 82/82 [00:00<00:00, 662.68it/s]\n",
      "100%|███████████████████████████████████████| 899/899 [00:03<00:00, 287.11it/s]\n",
      "100%|█████████████████████████████████████████| 82/82 [00:00<00:00, 649.66it/s]\n",
      "100%|███████████████████████████████████████| 899/899 [00:03<00:00, 267.33it/s]\n",
      "100%|█████████████████████████████████████████| 82/82 [00:00<00:00, 660.24it/s]\n",
      "100%|███████████████████████████████████████| 899/899 [00:03<00:00, 290.85it/s]\n",
      "100%|█████████████████████████████████████████| 82/82 [00:00<00:00, 630.22it/s]\n",
      "100%|███████████████████████████████████████| 899/899 [00:03<00:00, 262.33it/s]\n",
      "100%|█████████████████████████████████████████| 82/82 [00:00<00:00, 637.82it/s]\n",
      "100%|███████████████████████████████████████| 899/899 [00:03<00:00, 289.55it/s]\n",
      "100%|█████████████████████████████████████████| 82/82 [00:00<00:00, 644.39it/s]\n",
      "100%|███████████████████████████████████████| 899/899 [00:03<00:00, 291.28it/s]\n",
      "100%|█████████████████████████████████████████| 82/82 [00:00<00:00, 633.43it/s]\n",
      "100%|███████████████████████████████████████| 899/899 [00:03<00:00, 287.91it/s]\n",
      "100%|█████████████████████████████████████████| 82/82 [00:00<00:00, 627.50it/s]\n",
      "100%|███████████████████████████████████████| 899/899 [00:03<00:00, 282.25it/s]\n",
      "100%|█████████████████████████████████████████| 82/82 [00:00<00:00, 651.01it/s]\n",
      "100%|███████████████████████████████████████| 899/899 [00:03<00:00, 287.49it/s]\n",
      "100%|█████████████████████████████████████████| 82/82 [00:00<00:00, 633.32it/s]\n",
      "100%|███████████████████████████████████████| 899/899 [00:03<00:00, 261.15it/s]\n",
      "100%|█████████████████████████████████████████| 82/82 [00:00<00:00, 626.65it/s]\n",
      "100%|███████████████████████████████████████| 899/899 [00:03<00:00, 286.33it/s]\n",
      "100%|█████████████████████████████████████████| 82/82 [00:00<00:00, 607.36it/s]\n"
     ]
    },
    {
     "data": {
      "text/html": [
       "Waiting for W&B process to finish... <strong style=\"color:green\">(success).</strong>"
      ],
      "text/plain": [
       "<IPython.core.display.HTML object>"
      ]
     },
     "metadata": {},
     "output_type": "display_data"
    },
    {
     "data": {
      "text/html": [
       "<style>\n",
       "    table.wandb td:nth-child(1) { padding: 0 10px; text-align: left ; width: auto;} td:nth-child(2) {text-align: left ; width: 100%}\n",
       "    .wandb-row { display: flex; flex-direction: row; flex-wrap: wrap; justify-content: flex-start; width: 100% }\n",
       "    .wandb-col { display: flex; flex-direction: column; flex-basis: 100%; flex: 1; padding: 10px; }\n",
       "    </style>\n",
       "<div class=\"wandb-row\"><div class=\"wandb-col\"><h3>Run history:</h3><br/><table class=\"wandb\"><tr><td>accuracy</td><td>▅▄▁▁▂▃▄▆▅▄▁█▅▆▅▇▆▄▃▆</td></tr><tr><td>balanced_accuracy</td><td>▄▂▄▃▃▄▃▆▄▃▁█▅▅▂▆▃▆▆▄</td></tr><tr><td>f1_weighted</td><td>▆▆▁▁▃▄▅█▆▆▃▇▆▇▆▇▇█▅█</td></tr><tr><td>precision</td><td>▃█▇▁▃▄▃▆▃▃▂▃▃▃▃▇▃▆▅▆</td></tr><tr><td>recall</td><td>▅▄▁▁▂▃▄▆▅▄▁█▅▆▅▇▆▄▃▆</td></tr></table><br/></div><div class=\"wandb-col\"><h3>Run summary:</h3><br/><table class=\"wandb\"><tr><td>accuracy</td><td>0.28</td></tr><tr><td>balanced_accuracy</td><td>0.16693</td></tr><tr><td>f1_weighted</td><td>0.2146</td></tr><tr><td>precision</td><td>0.23589</td></tr><tr><td>recall</td><td>0.28</td></tr></table><br/></div></div>"
      ],
      "text/plain": [
       "<IPython.core.display.HTML object>"
      ]
     },
     "metadata": {},
     "output_type": "display_data"
    },
    {
     "data": {
      "text/html": [
       " View run <strong style=\"color:#cdcd00\">67_fcnn_baseline_6_large_81k_search_108_lr-0.001_hidden1-16_hidden2-64_dr-0</strong> at: <a href='https://wandb.ai/totikos/model_fcnn_baseline_6_large_81k_search_108-hpo/runs/v7p2a6v7' target=\"_blank\">https://wandb.ai/totikos/model_fcnn_baseline_6_large_81k_search_108-hpo/runs/v7p2a6v7</a><br/> View job at <a href='https://wandb.ai/totikos/model_fcnn_baseline_6_large_81k_search_108-hpo/jobs/QXJ0aWZhY3RDb2xsZWN0aW9uOjEzOTc4MjU0OA==/version_details/v2' target=\"_blank\">https://wandb.ai/totikos/model_fcnn_baseline_6_large_81k_search_108-hpo/jobs/QXJ0aWZhY3RDb2xsZWN0aW9uOjEzOTc4MjU0OA==/version_details/v2</a><br/>Synced 5 W&B file(s), 0 media file(s), 0 artifact file(s) and 0 other file(s)"
      ],
      "text/plain": [
       "<IPython.core.display.HTML object>"
      ]
     },
     "metadata": {},
     "output_type": "display_data"
    },
    {
     "data": {
      "text/html": [
       "Find logs at: <code>C:\\Users\\nekta\\OneDrive\\Desktop\\botanic-emotion-recognition\\logs\\wandb\\run-20240214_215332-v7p2a6v7\\logs</code>"
      ],
      "text/plain": [
       "<IPython.core.display.HTML object>"
      ]
     },
     "metadata": {},
     "output_type": "display_data"
    },
    {
     "name": "stderr",
     "output_type": "stream",
     "text": [
      "[I 2024-02-14 21:54:49,258] Trial 67 finished with value: 0.16693269199024494 and parameters: {'dropout_rate': 0.0, 'hidden_dim_1': 16, 'hidden_dim_2': 64, 'lr': 0.001}. Best is trial 6 with value: 0.17126425545780385.\n"
     ]
    },
    {
     "name": "stdout",
     "output_type": "stream",
     "text": [
      "{'hidden_dim_1': 64, 'hidden_dim_2': 64, 'dropout_rate': 0.2}\n"
     ]
    },
    {
     "data": {
      "text/html": [
       "wandb version 0.16.3 is available!  To upgrade, please run:\n",
       " $ pip install wandb --upgrade"
      ],
      "text/plain": [
       "<IPython.core.display.HTML object>"
      ]
     },
     "metadata": {},
     "output_type": "display_data"
    },
    {
     "data": {
      "text/html": [
       "Tracking run with wandb version 0.15.12"
      ],
      "text/plain": [
       "<IPython.core.display.HTML object>"
      ]
     },
     "metadata": {},
     "output_type": "display_data"
    },
    {
     "data": {
      "text/html": [
       "Run data is saved locally in <code>C:\\Users\\nekta\\OneDrive\\Desktop\\botanic-emotion-recognition\\logs\\wandb\\run-20240214_215449-bh2ersy6</code>"
      ],
      "text/plain": [
       "<IPython.core.display.HTML object>"
      ]
     },
     "metadata": {},
     "output_type": "display_data"
    },
    {
     "data": {
      "text/html": [
       "Syncing run <strong><a href='https://wandb.ai/totikos/model_fcnn_baseline_6_large_81k_search_108-hpo/runs/bh2ersy6' target=\"_blank\">68_fcnn_baseline_6_large_81k_search_108_lr-0.001_hidden1-64_hidden2-64_dr-0.2</a></strong> to <a href='https://wandb.ai/totikos/model_fcnn_baseline_6_large_81k_search_108-hpo' target=\"_blank\">Weights & Biases</a> (<a href='https://wandb.me/run' target=\"_blank\">docs</a>)<br/>"
      ],
      "text/plain": [
       "<IPython.core.display.HTML object>"
      ]
     },
     "metadata": {},
     "output_type": "display_data"
    },
    {
     "data": {
      "text/html": [
       " View project at <a href='https://wandb.ai/totikos/model_fcnn_baseline_6_large_81k_search_108-hpo' target=\"_blank\">https://wandb.ai/totikos/model_fcnn_baseline_6_large_81k_search_108-hpo</a>"
      ],
      "text/plain": [
       "<IPython.core.display.HTML object>"
      ]
     },
     "metadata": {},
     "output_type": "display_data"
    },
    {
     "data": {
      "text/html": [
       " View run at <a href='https://wandb.ai/totikos/model_fcnn_baseline_6_large_81k_search_108-hpo/runs/bh2ersy6' target=\"_blank\">https://wandb.ai/totikos/model_fcnn_baseline_6_large_81k_search_108-hpo/runs/bh2ersy6</a>"
      ],
      "text/plain": [
       "<IPython.core.display.HTML object>"
      ]
     },
     "metadata": {},
     "output_type": "display_data"
    },
    {
     "name": "stderr",
     "output_type": "stream",
     "text": [
      "100%|███████████████████████████████████████| 899/899 [00:06<00:00, 136.94it/s]\n",
      "100%|█████████████████████████████████████████| 82/82 [00:00<00:00, 512.72it/s]\n",
      "100%|███████████████████████████████████████| 899/899 [00:07<00:00, 123.13it/s]\n",
      "100%|█████████████████████████████████████████| 82/82 [00:00<00:00, 503.95it/s]\n",
      "100%|███████████████████████████████████████| 899/899 [00:07<00:00, 124.98it/s]\n",
      "100%|█████████████████████████████████████████| 82/82 [00:00<00:00, 550.40it/s]\n",
      "100%|███████████████████████████████████████| 899/899 [00:07<00:00, 124.25it/s]\n",
      "100%|█████████████████████████████████████████| 82/82 [00:00<00:00, 524.43it/s]\n",
      "100%|███████████████████████████████████████| 899/899 [00:07<00:00, 122.94it/s]\n",
      "100%|█████████████████████████████████████████| 82/82 [00:00<00:00, 545.05it/s]\n",
      "100%|███████████████████████████████████████| 899/899 [00:07<00:00, 124.85it/s]\n",
      "100%|█████████████████████████████████████████| 82/82 [00:00<00:00, 519.80it/s]\n",
      "100%|███████████████████████████████████████| 899/899 [00:07<00:00, 118.11it/s]\n",
      "100%|█████████████████████████████████████████| 82/82 [00:00<00:00, 548.63it/s]\n",
      "100%|███████████████████████████████████████| 899/899 [00:07<00:00, 124.78it/s]\n",
      "100%|█████████████████████████████████████████| 82/82 [00:00<00:00, 543.76it/s]\n",
      "100%|███████████████████████████████████████| 899/899 [00:07<00:00, 125.28it/s]\n",
      "100%|█████████████████████████████████████████| 82/82 [00:00<00:00, 566.88it/s]\n",
      "100%|███████████████████████████████████████| 899/899 [00:07<00:00, 124.11it/s]\n",
      "100%|█████████████████████████████████████████| 82/82 [00:00<00:00, 483.51it/s]\n",
      "100%|███████████████████████████████████████| 899/899 [00:07<00:00, 121.04it/s]\n",
      "100%|█████████████████████████████████████████| 82/82 [00:00<00:00, 546.73it/s]\n",
      "100%|███████████████████████████████████████| 899/899 [00:07<00:00, 124.03it/s]\n",
      "100%|█████████████████████████████████████████| 82/82 [00:00<00:00, 540.46it/s]\n",
      "100%|███████████████████████████████████████| 899/899 [00:07<00:00, 124.52it/s]\n",
      "100%|█████████████████████████████████████████| 82/82 [00:00<00:00, 546.09it/s]\n",
      "100%|███████████████████████████████████████| 899/899 [00:07<00:00, 122.81it/s]\n",
      "100%|█████████████████████████████████████████| 82/82 [00:00<00:00, 529.09it/s]\n",
      "100%|███████████████████████████████████████| 899/899 [00:07<00:00, 120.39it/s]\n",
      "100%|█████████████████████████████████████████| 82/82 [00:00<00:00, 465.15it/s]\n",
      "100%|███████████████████████████████████████| 899/899 [00:07<00:00, 118.14it/s]\n",
      "100%|█████████████████████████████████████████| 82/82 [00:00<00:00, 497.80it/s]\n",
      "100%|███████████████████████████████████████| 899/899 [00:07<00:00, 117.47it/s]\n",
      "100%|█████████████████████████████████████████| 82/82 [00:00<00:00, 527.92it/s]\n",
      "100%|███████████████████████████████████████| 899/899 [00:07<00:00, 122.99it/s]\n",
      "100%|█████████████████████████████████████████| 82/82 [00:00<00:00, 498.35it/s]\n",
      "100%|███████████████████████████████████████| 899/899 [00:07<00:00, 123.42it/s]\n",
      "100%|█████████████████████████████████████████| 82/82 [00:00<00:00, 514.28it/s]\n",
      "100%|███████████████████████████████████████| 899/899 [00:07<00:00, 123.30it/s]\n",
      "100%|█████████████████████████████████████████| 82/82 [00:00<00:00, 528.67it/s]\n"
     ]
    },
    {
     "data": {
      "text/html": [
       "Waiting for W&B process to finish... <strong style=\"color:green\">(success).</strong>"
      ],
      "text/plain": [
       "<IPython.core.display.HTML object>"
      ]
     },
     "metadata": {},
     "output_type": "display_data"
    },
    {
     "data": {
      "text/html": [
       "<style>\n",
       "    table.wandb td:nth-child(1) { padding: 0 10px; text-align: left ; width: auto;} td:nth-child(2) {text-align: left ; width: 100%}\n",
       "    .wandb-row { display: flex; flex-direction: row; flex-wrap: wrap; justify-content: flex-start; width: 100% }\n",
       "    .wandb-col { display: flex; flex-direction: column; flex-basis: 100%; flex: 1; padding: 10px; }\n",
       "    </style>\n",
       "<div class=\"wandb-row\"><div class=\"wandb-col\"><h3>Run history:</h3><br/><table class=\"wandb\"><tr><td>accuracy</td><td>▂▁▄▆▂▄▅█▇▄▅▆▆▅▅▇█▇▆█</td></tr><tr><td>balanced_accuracy</td><td>█▂▆▆▄▃▂▃▄▂▄▁▂▂▃▃▂▃▃▄</td></tr><tr><td>f1_weighted</td><td>▁▂▇█▅▃▃▃▄▃▃▅▃▃▃▃▂▄▃▇</td></tr><tr><td>precision</td><td>▃▂▃▃▃▁▁▃▁▁▁▃▁█▁▁▁▃▁▃</td></tr><tr><td>recall</td><td>▂▁▄▆▂▄▅█▇▄▅▆▆▅▅▇█▇▆█</td></tr></table><br/></div><div class=\"wandb-col\"><h3>Run summary:</h3><br/><table class=\"wandb\"><tr><td>accuracy</td><td>0.29846</td></tr><tr><td>balanced_accuracy</td><td>0.16917</td></tr><tr><td>f1_weighted</td><td>0.24267</td></tr><tr><td>precision</td><td>0.23507</td></tr><tr><td>recall</td><td>0.29846</td></tr></table><br/></div></div>"
      ],
      "text/plain": [
       "<IPython.core.display.HTML object>"
      ]
     },
     "metadata": {},
     "output_type": "display_data"
    },
    {
     "data": {
      "text/html": [
       " View run <strong style=\"color:#cdcd00\">68_fcnn_baseline_6_large_81k_search_108_lr-0.001_hidden1-64_hidden2-64_dr-0.2</strong> at: <a href='https://wandb.ai/totikos/model_fcnn_baseline_6_large_81k_search_108-hpo/runs/bh2ersy6' target=\"_blank\">https://wandb.ai/totikos/model_fcnn_baseline_6_large_81k_search_108-hpo/runs/bh2ersy6</a><br/> View job at <a href='https://wandb.ai/totikos/model_fcnn_baseline_6_large_81k_search_108-hpo/jobs/QXJ0aWZhY3RDb2xsZWN0aW9uOjEzOTc4MjU0OA==/version_details/v2' target=\"_blank\">https://wandb.ai/totikos/model_fcnn_baseline_6_large_81k_search_108-hpo/jobs/QXJ0aWZhY3RDb2xsZWN0aW9uOjEzOTc4MjU0OA==/version_details/v2</a><br/>Synced 5 W&B file(s), 0 media file(s), 0 artifact file(s) and 0 other file(s)"
      ],
      "text/plain": [
       "<IPython.core.display.HTML object>"
      ]
     },
     "metadata": {},
     "output_type": "display_data"
    },
    {
     "data": {
      "text/html": [
       "Find logs at: <code>C:\\Users\\nekta\\OneDrive\\Desktop\\botanic-emotion-recognition\\logs\\wandb\\run-20240214_215449-bh2ersy6\\logs</code>"
      ],
      "text/plain": [
       "<IPython.core.display.HTML object>"
      ]
     },
     "metadata": {},
     "output_type": "display_data"
    },
    {
     "name": "stderr",
     "output_type": "stream",
     "text": [
      "[I 2024-02-14 21:57:27,252] Trial 68 finished with value: 0.16917309373398617 and parameters: {'dropout_rate': 0.2, 'hidden_dim_1': 64, 'hidden_dim_2': 64, 'lr': 0.001}. Best is trial 6 with value: 0.17126425545780385.\n"
     ]
    },
    {
     "name": "stdout",
     "output_type": "stream",
     "text": [
      "{'hidden_dim_1': 64, 'hidden_dim_2': 64, 'dropout_rate': 0.1}\n"
     ]
    },
    {
     "data": {
      "text/html": [
       "wandb version 0.16.3 is available!  To upgrade, please run:\n",
       " $ pip install wandb --upgrade"
      ],
      "text/plain": [
       "<IPython.core.display.HTML object>"
      ]
     },
     "metadata": {},
     "output_type": "display_data"
    },
    {
     "data": {
      "text/html": [
       "Tracking run with wandb version 0.15.12"
      ],
      "text/plain": [
       "<IPython.core.display.HTML object>"
      ]
     },
     "metadata": {},
     "output_type": "display_data"
    },
    {
     "data": {
      "text/html": [
       "Run data is saved locally in <code>C:\\Users\\nekta\\OneDrive\\Desktop\\botanic-emotion-recognition\\logs\\wandb\\run-20240214_215727-nlj5eege</code>"
      ],
      "text/plain": [
       "<IPython.core.display.HTML object>"
      ]
     },
     "metadata": {},
     "output_type": "display_data"
    },
    {
     "data": {
      "text/html": [
       "Syncing run <strong><a href='https://wandb.ai/totikos/model_fcnn_baseline_6_large_81k_search_108-hpo/runs/nlj5eege' target=\"_blank\">69_fcnn_baseline_6_large_81k_search_108_lr-0.01_hidden1-64_hidden2-64_dr-0.1</a></strong> to <a href='https://wandb.ai/totikos/model_fcnn_baseline_6_large_81k_search_108-hpo' target=\"_blank\">Weights & Biases</a> (<a href='https://wandb.me/run' target=\"_blank\">docs</a>)<br/>"
      ],
      "text/plain": [
       "<IPython.core.display.HTML object>"
      ]
     },
     "metadata": {},
     "output_type": "display_data"
    },
    {
     "data": {
      "text/html": [
       " View project at <a href='https://wandb.ai/totikos/model_fcnn_baseline_6_large_81k_search_108-hpo' target=\"_blank\">https://wandb.ai/totikos/model_fcnn_baseline_6_large_81k_search_108-hpo</a>"
      ],
      "text/plain": [
       "<IPython.core.display.HTML object>"
      ]
     },
     "metadata": {},
     "output_type": "display_data"
    },
    {
     "data": {
      "text/html": [
       " View run at <a href='https://wandb.ai/totikos/model_fcnn_baseline_6_large_81k_search_108-hpo/runs/nlj5eege' target=\"_blank\">https://wandb.ai/totikos/model_fcnn_baseline_6_large_81k_search_108-hpo/runs/nlj5eege</a>"
      ],
      "text/plain": [
       "<IPython.core.display.HTML object>"
      ]
     },
     "metadata": {},
     "output_type": "display_data"
    },
    {
     "name": "stderr",
     "output_type": "stream",
     "text": [
      "100%|███████████████████████████████████████| 899/899 [00:06<00:00, 140.52it/s]\n",
      "100%|█████████████████████████████████████████| 82/82 [00:00<00:00, 619.63it/s]\n",
      "[I 2024-02-14 21:57:35,587] Trial 69 pruned. \n"
     ]
    },
    {
     "name": "stdout",
     "output_type": "stream",
     "text": [
      "{'hidden_dim_1': 16, 'hidden_dim_2': 16, 'dropout_rate': 0.2}\n"
     ]
    },
    {
     "data": {
      "text/html": [
       "Finishing last run (ID:nlj5eege) before initializing another..."
      ],
      "text/plain": [
       "<IPython.core.display.HTML object>"
      ]
     },
     "metadata": {},
     "output_type": "display_data"
    },
    {
     "data": {
      "text/html": [
       "Waiting for W&B process to finish... <strong style=\"color:green\">(success).</strong>"
      ],
      "text/plain": [
       "<IPython.core.display.HTML object>"
      ]
     },
     "metadata": {},
     "output_type": "display_data"
    },
    {
     "data": {
      "text/html": [
       " View run <strong style=\"color:#cdcd00\">69_fcnn_baseline_6_large_81k_search_108_lr-0.01_hidden1-64_hidden2-64_dr-0.1</strong> at: <a href='https://wandb.ai/totikos/model_fcnn_baseline_6_large_81k_search_108-hpo/runs/nlj5eege' target=\"_blank\">https://wandb.ai/totikos/model_fcnn_baseline_6_large_81k_search_108-hpo/runs/nlj5eege</a><br/> View job at <a href='https://wandb.ai/totikos/model_fcnn_baseline_6_large_81k_search_108-hpo/jobs/QXJ0aWZhY3RDb2xsZWN0aW9uOjEzOTc4MjU0OA==/version_details/v1' target=\"_blank\">https://wandb.ai/totikos/model_fcnn_baseline_6_large_81k_search_108-hpo/jobs/QXJ0aWZhY3RDb2xsZWN0aW9uOjEzOTc4MjU0OA==/version_details/v1</a><br/>Synced 5 W&B file(s), 0 media file(s), 0 artifact file(s) and 0 other file(s)"
      ],
      "text/plain": [
       "<IPython.core.display.HTML object>"
      ]
     },
     "metadata": {},
     "output_type": "display_data"
    },
    {
     "data": {
      "text/html": [
       "Find logs at: <code>C:\\Users\\nekta\\OneDrive\\Desktop\\botanic-emotion-recognition\\logs\\wandb\\run-20240214_215727-nlj5eege\\logs</code>"
      ],
      "text/plain": [
       "<IPython.core.display.HTML object>"
      ]
     },
     "metadata": {},
     "output_type": "display_data"
    },
    {
     "data": {
      "text/html": [
       "Successfully finished last run (ID:nlj5eege). Initializing new run:<br/>"
      ],
      "text/plain": [
       "<IPython.core.display.HTML object>"
      ]
     },
     "metadata": {},
     "output_type": "display_data"
    },
    {
     "data": {
      "text/html": [
       "wandb version 0.16.3 is available!  To upgrade, please run:\n",
       " $ pip install wandb --upgrade"
      ],
      "text/plain": [
       "<IPython.core.display.HTML object>"
      ]
     },
     "metadata": {},
     "output_type": "display_data"
    },
    {
     "data": {
      "text/html": [
       "Tracking run with wandb version 0.15.12"
      ],
      "text/plain": [
       "<IPython.core.display.HTML object>"
      ]
     },
     "metadata": {},
     "output_type": "display_data"
    },
    {
     "data": {
      "text/html": [
       "Run data is saved locally in <code>C:\\Users\\nekta\\OneDrive\\Desktop\\botanic-emotion-recognition\\logs\\wandb\\run-20240214_215735-5c5j1hfn</code>"
      ],
      "text/plain": [
       "<IPython.core.display.HTML object>"
      ]
     },
     "metadata": {},
     "output_type": "display_data"
    },
    {
     "data": {
      "text/html": [
       "Syncing run <strong><a href='https://wandb.ai/totikos/model_fcnn_baseline_6_large_81k_search_108-hpo/runs/5c5j1hfn' target=\"_blank\">70_fcnn_baseline_6_large_81k_search_108_lr-0.001_hidden1-16_hidden2-16_dr-0.2</a></strong> to <a href='https://wandb.ai/totikos/model_fcnn_baseline_6_large_81k_search_108-hpo' target=\"_blank\">Weights & Biases</a> (<a href='https://wandb.me/run' target=\"_blank\">docs</a>)<br/>"
      ],
      "text/plain": [
       "<IPython.core.display.HTML object>"
      ]
     },
     "metadata": {},
     "output_type": "display_data"
    },
    {
     "data": {
      "text/html": [
       " View project at <a href='https://wandb.ai/totikos/model_fcnn_baseline_6_large_81k_search_108-hpo' target=\"_blank\">https://wandb.ai/totikos/model_fcnn_baseline_6_large_81k_search_108-hpo</a>"
      ],
      "text/plain": [
       "<IPython.core.display.HTML object>"
      ]
     },
     "metadata": {},
     "output_type": "display_data"
    },
    {
     "data": {
      "text/html": [
       " View run at <a href='https://wandb.ai/totikos/model_fcnn_baseline_6_large_81k_search_108-hpo/runs/5c5j1hfn' target=\"_blank\">https://wandb.ai/totikos/model_fcnn_baseline_6_large_81k_search_108-hpo/runs/5c5j1hfn</a>"
      ],
      "text/plain": [
       "<IPython.core.display.HTML object>"
      ]
     },
     "metadata": {},
     "output_type": "display_data"
    },
    {
     "name": "stderr",
     "output_type": "stream",
     "text": [
      "100%|███████████████████████████████████████| 899/899 [00:02<00:00, 337.07it/s]\n",
      "100%|█████████████████████████████████████████| 82/82 [00:00<00:00, 822.58it/s]\n",
      "100%|███████████████████████████████████████| 899/899 [00:02<00:00, 333.56it/s]\n",
      "100%|█████████████████████████████████████████| 82/82 [00:00<00:00, 822.58it/s]\n",
      "100%|███████████████████████████████████████| 899/899 [00:03<00:00, 273.70it/s]\n",
      "100%|█████████████████████████████████████████| 82/82 [00:00<00:00, 621.88it/s]\n",
      "100%|███████████████████████████████████████| 899/899 [00:03<00:00, 259.41it/s]\n",
      "100%|█████████████████████████████████████████| 82/82 [00:00<00:00, 668.35it/s]\n",
      "100%|███████████████████████████████████████| 899/899 [00:03<00:00, 284.77it/s]\n",
      "100%|█████████████████████████████████████████| 82/82 [00:00<00:00, 651.76it/s]\n",
      "100%|███████████████████████████████████████| 899/899 [00:03<00:00, 271.79it/s]\n",
      "100%|█████████████████████████████████████████| 82/82 [00:00<00:00, 690.46it/s]\n",
      "100%|███████████████████████████████████████| 899/899 [00:03<00:00, 284.80it/s]\n",
      "100%|█████████████████████████████████████████| 82/82 [00:00<00:00, 632.75it/s]\n",
      "100%|███████████████████████████████████████| 899/899 [00:03<00:00, 274.35it/s]\n",
      "100%|█████████████████████████████████████████| 82/82 [00:00<00:00, 649.61it/s]\n",
      "100%|███████████████████████████████████████| 899/899 [00:03<00:00, 258.62it/s]\n",
      "100%|█████████████████████████████████████████| 82/82 [00:00<00:00, 576.21it/s]\n",
      "100%|███████████████████████████████████████| 899/899 [00:03<00:00, 237.25it/s]\n",
      "100%|█████████████████████████████████████████| 82/82 [00:00<00:00, 585.52it/s]\n",
      "100%|███████████████████████████████████████| 899/899 [00:03<00:00, 226.67it/s]\n",
      "100%|█████████████████████████████████████████| 82/82 [00:00<00:00, 568.03it/s]\n",
      "100%|███████████████████████████████████████| 899/899 [00:03<00:00, 233.51it/s]\n",
      "100%|█████████████████████████████████████████| 82/82 [00:00<00:00, 550.83it/s]\n",
      "100%|███████████████████████████████████████| 899/899 [00:03<00:00, 244.32it/s]\n",
      "100%|█████████████████████████████████████████| 82/82 [00:00<00:00, 606.54it/s]\n",
      "100%|███████████████████████████████████████| 899/899 [00:03<00:00, 269.77it/s]\n",
      "100%|█████████████████████████████████████████| 82/82 [00:00<00:00, 670.95it/s]\n",
      "100%|███████████████████████████████████████| 899/899 [00:03<00:00, 279.12it/s]\n",
      "100%|█████████████████████████████████████████| 82/82 [00:00<00:00, 646.15it/s]\n",
      "100%|███████████████████████████████████████| 899/899 [00:03<00:00, 279.14it/s]\n",
      "100%|█████████████████████████████████████████| 82/82 [00:00<00:00, 591.62it/s]\n",
      "100%|███████████████████████████████████████| 899/899 [00:03<00:00, 277.90it/s]\n",
      "100%|█████████████████████████████████████████| 82/82 [00:00<00:00, 664.16it/s]\n",
      "100%|███████████████████████████████████████| 899/899 [00:03<00:00, 279.21it/s]\n",
      "100%|█████████████████████████████████████████| 82/82 [00:00<00:00, 655.58it/s]\n",
      "100%|███████████████████████████████████████| 899/899 [00:03<00:00, 283.54it/s]\n",
      "100%|█████████████████████████████████████████| 82/82 [00:00<00:00, 635.49it/s]\n",
      "100%|███████████████████████████████████████| 899/899 [00:03<00:00, 276.74it/s]\n",
      "100%|█████████████████████████████████████████| 82/82 [00:00<00:00, 660.60it/s]\n"
     ]
    },
    {
     "data": {
      "text/html": [
       "Waiting for W&B process to finish... <strong style=\"color:green\">(success).</strong>"
      ],
      "text/plain": [
       "<IPython.core.display.HTML object>"
      ]
     },
     "metadata": {},
     "output_type": "display_data"
    },
    {
     "data": {
      "text/html": [
       "<style>\n",
       "    table.wandb td:nth-child(1) { padding: 0 10px; text-align: left ; width: auto;} td:nth-child(2) {text-align: left ; width: 100%}\n",
       "    .wandb-row { display: flex; flex-direction: row; flex-wrap: wrap; justify-content: flex-start; width: 100% }\n",
       "    .wandb-col { display: flex; flex-direction: column; flex-basis: 100%; flex: 1; padding: 10px; }\n",
       "    </style>\n",
       "<div class=\"wandb-row\"><div class=\"wandb-col\"><h3>Run history:</h3><br/><table class=\"wandb\"><tr><td>accuracy</td><td>▃▃▂▄▃▁▂▂▁▃▂█▄▇█▂▄▆██</td></tr><tr><td>balanced_accuracy</td><td>▇██▅▄▄▆▄▂▂▁▆▅▆▆▅▁▇▆▆</td></tr><tr><td>f1_weighted</td><td>▄▅▃▇▆▁▄▃▃▆█▃▇▅▃▄▇█▄▃</td></tr><tr><td>precision</td><td>▄▄▄▄▄▄▄▄▄▄█▁█▄▁▄▄▄▆▁</td></tr><tr><td>recall</td><td>▃▃▂▄▃▁▂▂▁▃▂█▄▇█▂▄▆██</td></tr></table><br/></div><div class=\"wandb-col\"><h3>Run summary:</h3><br/><table class=\"wandb\"><tr><td>accuracy</td><td>0.31731</td></tr><tr><td>balanced_accuracy</td><td>0.16667</td></tr><tr><td>f1_weighted</td><td>0.15286</td></tr><tr><td>precision</td><td>0.10068</td></tr><tr><td>recall</td><td>0.31731</td></tr></table><br/></div></div>"
      ],
      "text/plain": [
       "<IPython.core.display.HTML object>"
      ]
     },
     "metadata": {},
     "output_type": "display_data"
    },
    {
     "data": {
      "text/html": [
       " View run <strong style=\"color:#cdcd00\">70_fcnn_baseline_6_large_81k_search_108_lr-0.001_hidden1-16_hidden2-16_dr-0.2</strong> at: <a href='https://wandb.ai/totikos/model_fcnn_baseline_6_large_81k_search_108-hpo/runs/5c5j1hfn' target=\"_blank\">https://wandb.ai/totikos/model_fcnn_baseline_6_large_81k_search_108-hpo/runs/5c5j1hfn</a><br/> View job at <a href='https://wandb.ai/totikos/model_fcnn_baseline_6_large_81k_search_108-hpo/jobs/QXJ0aWZhY3RDb2xsZWN0aW9uOjEzOTc4MjU0OA==/version_details/v2' target=\"_blank\">https://wandb.ai/totikos/model_fcnn_baseline_6_large_81k_search_108-hpo/jobs/QXJ0aWZhY3RDb2xsZWN0aW9uOjEzOTc4MjU0OA==/version_details/v2</a><br/>Synced 5 W&B file(s), 0 media file(s), 0 artifact file(s) and 0 other file(s)"
      ],
      "text/plain": [
       "<IPython.core.display.HTML object>"
      ]
     },
     "metadata": {},
     "output_type": "display_data"
    },
    {
     "data": {
      "text/html": [
       "Find logs at: <code>C:\\Users\\nekta\\OneDrive\\Desktop\\botanic-emotion-recognition\\logs\\wandb\\run-20240214_215735-5c5j1hfn\\logs</code>"
      ],
      "text/plain": [
       "<IPython.core.display.HTML object>"
      ]
     },
     "metadata": {},
     "output_type": "display_data"
    },
    {
     "name": "stderr",
     "output_type": "stream",
     "text": [
      "[I 2024-02-14 21:58:58,127] Trial 70 finished with value: 0.16666666666666666 and parameters: {'dropout_rate': 0.2, 'hidden_dim_1': 16, 'hidden_dim_2': 16, 'lr': 0.001}. Best is trial 6 with value: 0.17126425545780385.\n"
     ]
    },
    {
     "name": "stdout",
     "output_type": "stream",
     "text": [
      "{'hidden_dim_1': 16, 'hidden_dim_2': 16, 'dropout_rate': 0}\n"
     ]
    },
    {
     "data": {
      "text/html": [
       "wandb version 0.16.3 is available!  To upgrade, please run:\n",
       " $ pip install wandb --upgrade"
      ],
      "text/plain": [
       "<IPython.core.display.HTML object>"
      ]
     },
     "metadata": {},
     "output_type": "display_data"
    },
    {
     "data": {
      "text/html": [
       "Tracking run with wandb version 0.15.12"
      ],
      "text/plain": [
       "<IPython.core.display.HTML object>"
      ]
     },
     "metadata": {},
     "output_type": "display_data"
    },
    {
     "data": {
      "text/html": [
       "Run data is saved locally in <code>C:\\Users\\nekta\\OneDrive\\Desktop\\botanic-emotion-recognition\\logs\\wandb\\run-20240214_215858-wlrimbwm</code>"
      ],
      "text/plain": [
       "<IPython.core.display.HTML object>"
      ]
     },
     "metadata": {},
     "output_type": "display_data"
    },
    {
     "data": {
      "text/html": [
       "Syncing run <strong><a href='https://wandb.ai/totikos/model_fcnn_baseline_6_large_81k_search_108-hpo/runs/wlrimbwm' target=\"_blank\">71_fcnn_baseline_6_large_81k_search_108_lr-0.01_hidden1-16_hidden2-16_dr-0</a></strong> to <a href='https://wandb.ai/totikos/model_fcnn_baseline_6_large_81k_search_108-hpo' target=\"_blank\">Weights & Biases</a> (<a href='https://wandb.me/run' target=\"_blank\">docs</a>)<br/>"
      ],
      "text/plain": [
       "<IPython.core.display.HTML object>"
      ]
     },
     "metadata": {},
     "output_type": "display_data"
    },
    {
     "data": {
      "text/html": [
       " View project at <a href='https://wandb.ai/totikos/model_fcnn_baseline_6_large_81k_search_108-hpo' target=\"_blank\">https://wandb.ai/totikos/model_fcnn_baseline_6_large_81k_search_108-hpo</a>"
      ],
      "text/plain": [
       "<IPython.core.display.HTML object>"
      ]
     },
     "metadata": {},
     "output_type": "display_data"
    },
    {
     "data": {
      "text/html": [
       " View run at <a href='https://wandb.ai/totikos/model_fcnn_baseline_6_large_81k_search_108-hpo/runs/wlrimbwm' target=\"_blank\">https://wandb.ai/totikos/model_fcnn_baseline_6_large_81k_search_108-hpo/runs/wlrimbwm</a>"
      ],
      "text/plain": [
       "<IPython.core.display.HTML object>"
      ]
     },
     "metadata": {},
     "output_type": "display_data"
    },
    {
     "name": "stderr",
     "output_type": "stream",
     "text": [
      "100%|███████████████████████████████████████| 899/899 [00:02<00:00, 346.36it/s]\n",
      "100%|█████████████████████████████████████████| 82/82 [00:00<00:00, 832.89it/s]\n",
      "[I 2024-02-14 21:59:02,515] Trial 71 pruned. \n"
     ]
    },
    {
     "name": "stdout",
     "output_type": "stream",
     "text": [
      "{'hidden_dim_1': 128, 'hidden_dim_2': 16, 'dropout_rate': 0.2}\n"
     ]
    },
    {
     "data": {
      "text/html": [
       "Finishing last run (ID:wlrimbwm) before initializing another..."
      ],
      "text/plain": [
       "<IPython.core.display.HTML object>"
      ]
     },
     "metadata": {},
     "output_type": "display_data"
    },
    {
     "data": {
      "text/html": [
       "Waiting for W&B process to finish... <strong style=\"color:green\">(success).</strong>"
      ],
      "text/plain": [
       "<IPython.core.display.HTML object>"
      ]
     },
     "metadata": {},
     "output_type": "display_data"
    },
    {
     "data": {
      "text/html": [
       " View run <strong style=\"color:#cdcd00\">71_fcnn_baseline_6_large_81k_search_108_lr-0.01_hidden1-16_hidden2-16_dr-0</strong> at: <a href='https://wandb.ai/totikos/model_fcnn_baseline_6_large_81k_search_108-hpo/runs/wlrimbwm' target=\"_blank\">https://wandb.ai/totikos/model_fcnn_baseline_6_large_81k_search_108-hpo/runs/wlrimbwm</a><br/> View job at <a href='https://wandb.ai/totikos/model_fcnn_baseline_6_large_81k_search_108-hpo/jobs/QXJ0aWZhY3RDb2xsZWN0aW9uOjEzOTc4MjU0OA==/version_details/v1' target=\"_blank\">https://wandb.ai/totikos/model_fcnn_baseline_6_large_81k_search_108-hpo/jobs/QXJ0aWZhY3RDb2xsZWN0aW9uOjEzOTc4MjU0OA==/version_details/v1</a><br/>Synced 5 W&B file(s), 0 media file(s), 0 artifact file(s) and 0 other file(s)"
      ],
      "text/plain": [
       "<IPython.core.display.HTML object>"
      ]
     },
     "metadata": {},
     "output_type": "display_data"
    },
    {
     "data": {
      "text/html": [
       "Find logs at: <code>C:\\Users\\nekta\\OneDrive\\Desktop\\botanic-emotion-recognition\\logs\\wandb\\run-20240214_215858-wlrimbwm\\logs</code>"
      ],
      "text/plain": [
       "<IPython.core.display.HTML object>"
      ]
     },
     "metadata": {},
     "output_type": "display_data"
    },
    {
     "data": {
      "text/html": [
       "Successfully finished last run (ID:wlrimbwm). Initializing new run:<br/>"
      ],
      "text/plain": [
       "<IPython.core.display.HTML object>"
      ]
     },
     "metadata": {},
     "output_type": "display_data"
    },
    {
     "data": {
      "text/html": [
       "wandb version 0.16.3 is available!  To upgrade, please run:\n",
       " $ pip install wandb --upgrade"
      ],
      "text/plain": [
       "<IPython.core.display.HTML object>"
      ]
     },
     "metadata": {},
     "output_type": "display_data"
    },
    {
     "data": {
      "text/html": [
       "Tracking run with wandb version 0.15.12"
      ],
      "text/plain": [
       "<IPython.core.display.HTML object>"
      ]
     },
     "metadata": {},
     "output_type": "display_data"
    },
    {
     "data": {
      "text/html": [
       "Run data is saved locally in <code>C:\\Users\\nekta\\OneDrive\\Desktop\\botanic-emotion-recognition\\logs\\wandb\\run-20240214_215902-letkfoao</code>"
      ],
      "text/plain": [
       "<IPython.core.display.HTML object>"
      ]
     },
     "metadata": {},
     "output_type": "display_data"
    },
    {
     "data": {
      "text/html": [
       "Syncing run <strong><a href='https://wandb.ai/totikos/model_fcnn_baseline_6_large_81k_search_108-hpo/runs/letkfoao' target=\"_blank\">72_fcnn_baseline_6_large_81k_search_108_lr-0.001_hidden1-128_hidden2-16_dr-0.2</a></strong> to <a href='https://wandb.ai/totikos/model_fcnn_baseline_6_large_81k_search_108-hpo' target=\"_blank\">Weights & Biases</a> (<a href='https://wandb.me/run' target=\"_blank\">docs</a>)<br/>"
      ],
      "text/plain": [
       "<IPython.core.display.HTML object>"
      ]
     },
     "metadata": {},
     "output_type": "display_data"
    },
    {
     "data": {
      "text/html": [
       " View project at <a href='https://wandb.ai/totikos/model_fcnn_baseline_6_large_81k_search_108-hpo' target=\"_blank\">https://wandb.ai/totikos/model_fcnn_baseline_6_large_81k_search_108-hpo</a>"
      ],
      "text/plain": [
       "<IPython.core.display.HTML object>"
      ]
     },
     "metadata": {},
     "output_type": "display_data"
    },
    {
     "data": {
      "text/html": [
       " View run at <a href='https://wandb.ai/totikos/model_fcnn_baseline_6_large_81k_search_108-hpo/runs/letkfoao' target=\"_blank\">https://wandb.ai/totikos/model_fcnn_baseline_6_large_81k_search_108-hpo/runs/letkfoao</a>"
      ],
      "text/plain": [
       "<IPython.core.display.HTML object>"
      ]
     },
     "metadata": {},
     "output_type": "display_data"
    },
    {
     "name": "stderr",
     "output_type": "stream",
     "text": [
      "100%|████████████████████████████████████████| 899/899 [00:10<00:00, 81.92it/s]\n",
      "100%|█████████████████████████████████████████| 82/82 [00:00<00:00, 431.44it/s]\n",
      "100%|████████████████████████████████████████| 899/899 [00:11<00:00, 76.58it/s]\n",
      "100%|█████████████████████████████████████████| 82/82 [00:00<00:00, 409.82it/s]\n",
      "100%|████████████████████████████████████████| 899/899 [00:11<00:00, 75.81it/s]\n",
      "100%|█████████████████████████████████████████| 82/82 [00:00<00:00, 417.53it/s]\n",
      "100%|████████████████████████████████████████| 899/899 [00:12<00:00, 74.66it/s]\n",
      "100%|█████████████████████████████████████████| 82/82 [00:00<00:00, 427.47it/s]\n",
      "100%|████████████████████████████████████████| 899/899 [00:12<00:00, 74.23it/s]\n",
      "100%|█████████████████████████████████████████| 82/82 [00:00<00:00, 432.68it/s]\n",
      "100%|████████████████████████████████████████| 899/899 [00:11<00:00, 77.17it/s]\n",
      "100%|█████████████████████████████████████████| 82/82 [00:00<00:00, 409.46it/s]\n",
      "100%|████████████████████████████████████████| 899/899 [00:11<00:00, 75.39it/s]\n",
      "100%|█████████████████████████████████████████| 82/82 [00:00<00:00, 429.20it/s]\n",
      "100%|████████████████████████████████████████| 899/899 [00:11<00:00, 75.17it/s]\n",
      "100%|█████████████████████████████████████████| 82/82 [00:00<00:00, 435.96it/s]\n",
      "100%|████████████████████████████████████████| 899/899 [00:11<00:00, 75.54it/s]\n",
      "100%|█████████████████████████████████████████| 82/82 [00:00<00:00, 390.46it/s]\n",
      "100%|████████████████████████████████████████| 899/899 [00:12<00:00, 73.77it/s]\n",
      "100%|█████████████████████████████████████████| 82/82 [00:00<00:00, 370.55it/s]\n",
      "100%|████████████████████████████████████████| 899/899 [00:12<00:00, 73.90it/s]\n",
      "100%|█████████████████████████████████████████| 82/82 [00:00<00:00, 442.32it/s]\n",
      "100%|████████████████████████████████████████| 899/899 [00:11<00:00, 76.17it/s]\n",
      "100%|█████████████████████████████████████████| 82/82 [00:00<00:00, 427.86it/s]\n",
      "100%|████████████████████████████████████████| 899/899 [00:11<00:00, 76.01it/s]\n",
      "100%|█████████████████████████████████████████| 82/82 [00:00<00:00, 438.81it/s]\n",
      "100%|████████████████████████████████████████| 899/899 [00:11<00:00, 76.62it/s]\n",
      "100%|█████████████████████████████████████████| 82/82 [00:00<00:00, 413.11it/s]\n",
      "100%|████████████████████████████████████████| 899/899 [00:11<00:00, 76.11it/s]\n",
      "100%|█████████████████████████████████████████| 82/82 [00:00<00:00, 423.31it/s]\n",
      "100%|████████████████████████████████████████| 899/899 [00:11<00:00, 76.74it/s]\n",
      "100%|█████████████████████████████████████████| 82/82 [00:00<00:00, 431.38it/s]\n",
      "100%|████████████████████████████████████████| 899/899 [00:11<00:00, 76.04it/s]\n",
      "100%|█████████████████████████████████████████| 82/82 [00:00<00:00, 419.00it/s]\n",
      "100%|████████████████████████████████████████| 899/899 [00:12<00:00, 71.91it/s]\n",
      "100%|█████████████████████████████████████████| 82/82 [00:00<00:00, 431.67it/s]\n",
      "100%|████████████████████████████████████████| 899/899 [00:11<00:00, 76.05it/s]\n",
      "100%|█████████████████████████████████████████| 82/82 [00:00<00:00, 447.80it/s]\n",
      "100%|████████████████████████████████████████| 899/899 [00:11<00:00, 76.46it/s]\n",
      "100%|█████████████████████████████████████████| 82/82 [00:00<00:00, 433.71it/s]\n"
     ]
    },
    {
     "data": {
      "text/html": [
       "Waiting for W&B process to finish... <strong style=\"color:green\">(success).</strong>"
      ],
      "text/plain": [
       "<IPython.core.display.HTML object>"
      ]
     },
     "metadata": {},
     "output_type": "display_data"
    },
    {
     "data": {
      "text/html": [
       "<style>\n",
       "    table.wandb td:nth-child(1) { padding: 0 10px; text-align: left ; width: auto;} td:nth-child(2) {text-align: left ; width: 100%}\n",
       "    .wandb-row { display: flex; flex-direction: row; flex-wrap: wrap; justify-content: flex-start; width: 100% }\n",
       "    .wandb-col { display: flex; flex-direction: column; flex-basis: 100%; flex: 1; padding: 10px; }\n",
       "    </style>\n",
       "<div class=\"wandb-row\"><div class=\"wandb-col\"><h3>Run history:</h3><br/><table class=\"wandb\"><tr><td>accuracy</td><td>▁▂▂▆█▇█▇████████████</td></tr><tr><td>balanced_accuracy</td><td>█▁▁▃▃▃▃▃▃▃▃▃▃▃▃▃▃▃▃▃</td></tr><tr><td>f1_weighted</td><td>▆███▄▆▁▄▁▁▂▁▁▁▁▁▁▁▁▁</td></tr><tr><td>precision</td><td>▅▇▇▇██▁█▁▁▇▁▁▁▁▁▁▁▁▁</td></tr><tr><td>recall</td><td>▁▂▂▆█▇█▇████████████</td></tr></table><br/></div><div class=\"wandb-col\"><h3>Run summary:</h3><br/><table class=\"wandb\"><tr><td>accuracy</td><td>0.31731</td></tr><tr><td>balanced_accuracy</td><td>0.16667</td></tr><tr><td>f1_weighted</td><td>0.15286</td></tr><tr><td>precision</td><td>0.10068</td></tr><tr><td>recall</td><td>0.31731</td></tr></table><br/></div></div>"
      ],
      "text/plain": [
       "<IPython.core.display.HTML object>"
      ]
     },
     "metadata": {},
     "output_type": "display_data"
    },
    {
     "data": {
      "text/html": [
       " View run <strong style=\"color:#cdcd00\">72_fcnn_baseline_6_large_81k_search_108_lr-0.001_hidden1-128_hidden2-16_dr-0.2</strong> at: <a href='https://wandb.ai/totikos/model_fcnn_baseline_6_large_81k_search_108-hpo/runs/letkfoao' target=\"_blank\">https://wandb.ai/totikos/model_fcnn_baseline_6_large_81k_search_108-hpo/runs/letkfoao</a><br/> View job at <a href='https://wandb.ai/totikos/model_fcnn_baseline_6_large_81k_search_108-hpo/jobs/QXJ0aWZhY3RDb2xsZWN0aW9uOjEzOTc4MjU0OA==/version_details/v2' target=\"_blank\">https://wandb.ai/totikos/model_fcnn_baseline_6_large_81k_search_108-hpo/jobs/QXJ0aWZhY3RDb2xsZWN0aW9uOjEzOTc4MjU0OA==/version_details/v2</a><br/>Synced 5 W&B file(s), 0 media file(s), 0 artifact file(s) and 0 other file(s)"
      ],
      "text/plain": [
       "<IPython.core.display.HTML object>"
      ]
     },
     "metadata": {},
     "output_type": "display_data"
    },
    {
     "data": {
      "text/html": [
       "Find logs at: <code>C:\\Users\\nekta\\OneDrive\\Desktop\\botanic-emotion-recognition\\logs\\wandb\\run-20240214_215902-letkfoao\\logs</code>"
      ],
      "text/plain": [
       "<IPython.core.display.HTML object>"
      ]
     },
     "metadata": {},
     "output_type": "display_data"
    },
    {
     "name": "stderr",
     "output_type": "stream",
     "text": [
      "[I 2024-02-14 22:03:17,720] Trial 72 finished with value: 0.16666666666666666 and parameters: {'dropout_rate': 0.2, 'hidden_dim_1': 128, 'hidden_dim_2': 16, 'lr': 0.001}. Best is trial 6 with value: 0.17126425545780385.\n"
     ]
    },
    {
     "name": "stdout",
     "output_type": "stream",
     "text": [
      "{'hidden_dim_1': 64, 'hidden_dim_2': 64, 'dropout_rate': 0}\n"
     ]
    },
    {
     "data": {
      "text/html": [
       "wandb version 0.16.3 is available!  To upgrade, please run:\n",
       " $ pip install wandb --upgrade"
      ],
      "text/plain": [
       "<IPython.core.display.HTML object>"
      ]
     },
     "metadata": {},
     "output_type": "display_data"
    },
    {
     "data": {
      "text/html": [
       "Tracking run with wandb version 0.15.12"
      ],
      "text/plain": [
       "<IPython.core.display.HTML object>"
      ]
     },
     "metadata": {},
     "output_type": "display_data"
    },
    {
     "data": {
      "text/html": [
       "Run data is saved locally in <code>C:\\Users\\nekta\\OneDrive\\Desktop\\botanic-emotion-recognition\\logs\\wandb\\run-20240214_220317-cogsh5li</code>"
      ],
      "text/plain": [
       "<IPython.core.display.HTML object>"
      ]
     },
     "metadata": {},
     "output_type": "display_data"
    },
    {
     "data": {
      "text/html": [
       "Syncing run <strong><a href='https://wandb.ai/totikos/model_fcnn_baseline_6_large_81k_search_108-hpo/runs/cogsh5li' target=\"_blank\">73_fcnn_baseline_6_large_81k_search_108_lr-0.001_hidden1-64_hidden2-64_dr-0</a></strong> to <a href='https://wandb.ai/totikos/model_fcnn_baseline_6_large_81k_search_108-hpo' target=\"_blank\">Weights & Biases</a> (<a href='https://wandb.me/run' target=\"_blank\">docs</a>)<br/>"
      ],
      "text/plain": [
       "<IPython.core.display.HTML object>"
      ]
     },
     "metadata": {},
     "output_type": "display_data"
    },
    {
     "data": {
      "text/html": [
       " View project at <a href='https://wandb.ai/totikos/model_fcnn_baseline_6_large_81k_search_108-hpo' target=\"_blank\">https://wandb.ai/totikos/model_fcnn_baseline_6_large_81k_search_108-hpo</a>"
      ],
      "text/plain": [
       "<IPython.core.display.HTML object>"
      ]
     },
     "metadata": {},
     "output_type": "display_data"
    },
    {
     "data": {
      "text/html": [
       " View run at <a href='https://wandb.ai/totikos/model_fcnn_baseline_6_large_81k_search_108-hpo/runs/cogsh5li' target=\"_blank\">https://wandb.ai/totikos/model_fcnn_baseline_6_large_81k_search_108-hpo/runs/cogsh5li</a>"
      ],
      "text/plain": [
       "<IPython.core.display.HTML object>"
      ]
     },
     "metadata": {},
     "output_type": "display_data"
    },
    {
     "name": "stderr",
     "output_type": "stream",
     "text": [
      "100%|███████████████████████████████████████| 899/899 [00:06<00:00, 141.87it/s]\n",
      "100%|█████████████████████████████████████████| 82/82 [00:00<00:00, 520.17it/s]\n",
      "[I 2024-02-14 22:03:25,868] Trial 73 pruned. \n"
     ]
    },
    {
     "name": "stdout",
     "output_type": "stream",
     "text": [
      "{'hidden_dim_1': 64, 'hidden_dim_2': 64, 'dropout_rate': 0.1}\n"
     ]
    },
    {
     "data": {
      "text/html": [
       "Finishing last run (ID:cogsh5li) before initializing another..."
      ],
      "text/plain": [
       "<IPython.core.display.HTML object>"
      ]
     },
     "metadata": {},
     "output_type": "display_data"
    },
    {
     "data": {
      "text/html": [
       "Waiting for W&B process to finish... <strong style=\"color:green\">(success).</strong>"
      ],
      "text/plain": [
       "<IPython.core.display.HTML object>"
      ]
     },
     "metadata": {},
     "output_type": "display_data"
    },
    {
     "data": {
      "text/html": [
       " View run <strong style=\"color:#cdcd00\">73_fcnn_baseline_6_large_81k_search_108_lr-0.001_hidden1-64_hidden2-64_dr-0</strong> at: <a href='https://wandb.ai/totikos/model_fcnn_baseline_6_large_81k_search_108-hpo/runs/cogsh5li' target=\"_blank\">https://wandb.ai/totikos/model_fcnn_baseline_6_large_81k_search_108-hpo/runs/cogsh5li</a><br/> View job at <a href='https://wandb.ai/totikos/model_fcnn_baseline_6_large_81k_search_108-hpo/jobs/QXJ0aWZhY3RDb2xsZWN0aW9uOjEzOTc4MjU0OA==/version_details/v1' target=\"_blank\">https://wandb.ai/totikos/model_fcnn_baseline_6_large_81k_search_108-hpo/jobs/QXJ0aWZhY3RDb2xsZWN0aW9uOjEzOTc4MjU0OA==/version_details/v1</a><br/>Synced 5 W&B file(s), 0 media file(s), 0 artifact file(s) and 0 other file(s)"
      ],
      "text/plain": [
       "<IPython.core.display.HTML object>"
      ]
     },
     "metadata": {},
     "output_type": "display_data"
    },
    {
     "data": {
      "text/html": [
       "Find logs at: <code>C:\\Users\\nekta\\OneDrive\\Desktop\\botanic-emotion-recognition\\logs\\wandb\\run-20240214_220317-cogsh5li\\logs</code>"
      ],
      "text/plain": [
       "<IPython.core.display.HTML object>"
      ]
     },
     "metadata": {},
     "output_type": "display_data"
    },
    {
     "data": {
      "text/html": [
       "Successfully finished last run (ID:cogsh5li). Initializing new run:<br/>"
      ],
      "text/plain": [
       "<IPython.core.display.HTML object>"
      ]
     },
     "metadata": {},
     "output_type": "display_data"
    },
    {
     "data": {
      "text/html": [
       "wandb version 0.16.3 is available!  To upgrade, please run:\n",
       " $ pip install wandb --upgrade"
      ],
      "text/plain": [
       "<IPython.core.display.HTML object>"
      ]
     },
     "metadata": {},
     "output_type": "display_data"
    },
    {
     "data": {
      "text/html": [
       "Tracking run with wandb version 0.15.12"
      ],
      "text/plain": [
       "<IPython.core.display.HTML object>"
      ]
     },
     "metadata": {},
     "output_type": "display_data"
    },
    {
     "data": {
      "text/html": [
       "Run data is saved locally in <code>C:\\Users\\nekta\\OneDrive\\Desktop\\botanic-emotion-recognition\\logs\\wandb\\run-20240214_220325-w4ri8cme</code>"
      ],
      "text/plain": [
       "<IPython.core.display.HTML object>"
      ]
     },
     "metadata": {},
     "output_type": "display_data"
    },
    {
     "data": {
      "text/html": [
       "Syncing run <strong><a href='https://wandb.ai/totikos/model_fcnn_baseline_6_large_81k_search_108-hpo/runs/w4ri8cme' target=\"_blank\">74_fcnn_baseline_6_large_81k_search_108_lr-0.001_hidden1-64_hidden2-64_dr-0.1</a></strong> to <a href='https://wandb.ai/totikos/model_fcnn_baseline_6_large_81k_search_108-hpo' target=\"_blank\">Weights & Biases</a> (<a href='https://wandb.me/run' target=\"_blank\">docs</a>)<br/>"
      ],
      "text/plain": [
       "<IPython.core.display.HTML object>"
      ]
     },
     "metadata": {},
     "output_type": "display_data"
    },
    {
     "data": {
      "text/html": [
       " View project at <a href='https://wandb.ai/totikos/model_fcnn_baseline_6_large_81k_search_108-hpo' target=\"_blank\">https://wandb.ai/totikos/model_fcnn_baseline_6_large_81k_search_108-hpo</a>"
      ],
      "text/plain": [
       "<IPython.core.display.HTML object>"
      ]
     },
     "metadata": {},
     "output_type": "display_data"
    },
    {
     "data": {
      "text/html": [
       " View run at <a href='https://wandb.ai/totikos/model_fcnn_baseline_6_large_81k_search_108-hpo/runs/w4ri8cme' target=\"_blank\">https://wandb.ai/totikos/model_fcnn_baseline_6_large_81k_search_108-hpo/runs/w4ri8cme</a>"
      ],
      "text/plain": [
       "<IPython.core.display.HTML object>"
      ]
     },
     "metadata": {},
     "output_type": "display_data"
    },
    {
     "name": "stderr",
     "output_type": "stream",
     "text": [
      "100%|███████████████████████████████████████| 899/899 [00:06<00:00, 133.23it/s]\n",
      "100%|█████████████████████████████████████████| 82/82 [00:00<00:00, 477.94it/s]\n",
      "[I 2024-02-14 22:03:40,084] Trial 74 pruned. \n"
     ]
    },
    {
     "name": "stdout",
     "output_type": "stream",
     "text": [
      "{'hidden_dim_1': 64, 'hidden_dim_2': 16, 'dropout_rate': 0}\n"
     ]
    },
    {
     "data": {
      "text/html": [
       "Finishing last run (ID:w4ri8cme) before initializing another..."
      ],
      "text/plain": [
       "<IPython.core.display.HTML object>"
      ]
     },
     "metadata": {},
     "output_type": "display_data"
    },
    {
     "data": {
      "text/html": [
       "Waiting for W&B process to finish... <strong style=\"color:green\">(success).</strong>"
      ],
      "text/plain": [
       "<IPython.core.display.HTML object>"
      ]
     },
     "metadata": {},
     "output_type": "display_data"
    },
    {
     "data": {
      "text/html": [
       " View run <strong style=\"color:#cdcd00\">74_fcnn_baseline_6_large_81k_search_108_lr-0.001_hidden1-64_hidden2-64_dr-0.1</strong> at: <a href='https://wandb.ai/totikos/model_fcnn_baseline_6_large_81k_search_108-hpo/runs/w4ri8cme' target=\"_blank\">https://wandb.ai/totikos/model_fcnn_baseline_6_large_81k_search_108-hpo/runs/w4ri8cme</a><br/> View job at <a href='https://wandb.ai/totikos/model_fcnn_baseline_6_large_81k_search_108-hpo/jobs/QXJ0aWZhY3RDb2xsZWN0aW9uOjEzOTc4MjU0OA==/version_details/v1' target=\"_blank\">https://wandb.ai/totikos/model_fcnn_baseline_6_large_81k_search_108-hpo/jobs/QXJ0aWZhY3RDb2xsZWN0aW9uOjEzOTc4MjU0OA==/version_details/v1</a><br/>Synced 5 W&B file(s), 0 media file(s), 0 artifact file(s) and 0 other file(s)"
      ],
      "text/plain": [
       "<IPython.core.display.HTML object>"
      ]
     },
     "metadata": {},
     "output_type": "display_data"
    },
    {
     "data": {
      "text/html": [
       "Find logs at: <code>C:\\Users\\nekta\\OneDrive\\Desktop\\botanic-emotion-recognition\\logs\\wandb\\run-20240214_220325-w4ri8cme\\logs</code>"
      ],
      "text/plain": [
       "<IPython.core.display.HTML object>"
      ]
     },
     "metadata": {},
     "output_type": "display_data"
    },
    {
     "data": {
      "text/html": [
       "Successfully finished last run (ID:w4ri8cme). Initializing new run:<br/>"
      ],
      "text/plain": [
       "<IPython.core.display.HTML object>"
      ]
     },
     "metadata": {},
     "output_type": "display_data"
    },
    {
     "data": {
      "text/html": [
       "wandb version 0.16.3 is available!  To upgrade, please run:\n",
       " $ pip install wandb --upgrade"
      ],
      "text/plain": [
       "<IPython.core.display.HTML object>"
      ]
     },
     "metadata": {},
     "output_type": "display_data"
    },
    {
     "data": {
      "text/html": [
       "Tracking run with wandb version 0.15.12"
      ],
      "text/plain": [
       "<IPython.core.display.HTML object>"
      ]
     },
     "metadata": {},
     "output_type": "display_data"
    },
    {
     "data": {
      "text/html": [
       "Run data is saved locally in <code>C:\\Users\\nekta\\OneDrive\\Desktop\\botanic-emotion-recognition\\logs\\wandb\\run-20240214_220340-4393shdu</code>"
      ],
      "text/plain": [
       "<IPython.core.display.HTML object>"
      ]
     },
     "metadata": {},
     "output_type": "display_data"
    },
    {
     "data": {
      "text/html": [
       "Syncing run <strong><a href='https://wandb.ai/totikos/model_fcnn_baseline_6_large_81k_search_108-hpo/runs/4393shdu' target=\"_blank\">75_fcnn_baseline_6_large_81k_search_108_lr-0.0001_hidden1-64_hidden2-16_dr-0</a></strong> to <a href='https://wandb.ai/totikos/model_fcnn_baseline_6_large_81k_search_108-hpo' target=\"_blank\">Weights & Biases</a> (<a href='https://wandb.me/run' target=\"_blank\">docs</a>)<br/>"
      ],
      "text/plain": [
       "<IPython.core.display.HTML object>"
      ]
     },
     "metadata": {},
     "output_type": "display_data"
    },
    {
     "data": {
      "text/html": [
       " View project at <a href='https://wandb.ai/totikos/model_fcnn_baseline_6_large_81k_search_108-hpo' target=\"_blank\">https://wandb.ai/totikos/model_fcnn_baseline_6_large_81k_search_108-hpo</a>"
      ],
      "text/plain": [
       "<IPython.core.display.HTML object>"
      ]
     },
     "metadata": {},
     "output_type": "display_data"
    },
    {
     "data": {
      "text/html": [
       " View run at <a href='https://wandb.ai/totikos/model_fcnn_baseline_6_large_81k_search_108-hpo/runs/4393shdu' target=\"_blank\">https://wandb.ai/totikos/model_fcnn_baseline_6_large_81k_search_108-hpo/runs/4393shdu</a>"
      ],
      "text/plain": [
       "<IPython.core.display.HTML object>"
      ]
     },
     "metadata": {},
     "output_type": "display_data"
    },
    {
     "name": "stderr",
     "output_type": "stream",
     "text": [
      "100%|███████████████████████████████████████| 899/899 [00:06<00:00, 143.72it/s]\n",
      "100%|█████████████████████████████████████████| 82/82 [00:00<00:00, 542.92it/s]\n",
      "[I 2024-02-14 22:03:54,111] Trial 75 pruned. \n"
     ]
    },
    {
     "name": "stdout",
     "output_type": "stream",
     "text": [
      "{'hidden_dim_1': 128, 'hidden_dim_2': 64, 'dropout_rate': 0}\n"
     ]
    },
    {
     "data": {
      "text/html": [
       "Finishing last run (ID:4393shdu) before initializing another..."
      ],
      "text/plain": [
       "<IPython.core.display.HTML object>"
      ]
     },
     "metadata": {},
     "output_type": "display_data"
    },
    {
     "data": {
      "text/html": [
       "Waiting for W&B process to finish... <strong style=\"color:green\">(success).</strong>"
      ],
      "text/plain": [
       "<IPython.core.display.HTML object>"
      ]
     },
     "metadata": {},
     "output_type": "display_data"
    },
    {
     "data": {
      "text/html": [
       " View run <strong style=\"color:#cdcd00\">75_fcnn_baseline_6_large_81k_search_108_lr-0.0001_hidden1-64_hidden2-16_dr-0</strong> at: <a href='https://wandb.ai/totikos/model_fcnn_baseline_6_large_81k_search_108-hpo/runs/4393shdu' target=\"_blank\">https://wandb.ai/totikos/model_fcnn_baseline_6_large_81k_search_108-hpo/runs/4393shdu</a><br/> View job at <a href='https://wandb.ai/totikos/model_fcnn_baseline_6_large_81k_search_108-hpo/jobs/QXJ0aWZhY3RDb2xsZWN0aW9uOjEzOTc4MjU0OA==/version_details/v1' target=\"_blank\">https://wandb.ai/totikos/model_fcnn_baseline_6_large_81k_search_108-hpo/jobs/QXJ0aWZhY3RDb2xsZWN0aW9uOjEzOTc4MjU0OA==/version_details/v1</a><br/>Synced 5 W&B file(s), 0 media file(s), 0 artifact file(s) and 0 other file(s)"
      ],
      "text/plain": [
       "<IPython.core.display.HTML object>"
      ]
     },
     "metadata": {},
     "output_type": "display_data"
    },
    {
     "data": {
      "text/html": [
       "Find logs at: <code>C:\\Users\\nekta\\OneDrive\\Desktop\\botanic-emotion-recognition\\logs\\wandb\\run-20240214_220340-4393shdu\\logs</code>"
      ],
      "text/plain": [
       "<IPython.core.display.HTML object>"
      ]
     },
     "metadata": {},
     "output_type": "display_data"
    },
    {
     "data": {
      "text/html": [
       "Successfully finished last run (ID:4393shdu). Initializing new run:<br/>"
      ],
      "text/plain": [
       "<IPython.core.display.HTML object>"
      ]
     },
     "metadata": {},
     "output_type": "display_data"
    },
    {
     "data": {
      "text/html": [
       "wandb version 0.16.3 is available!  To upgrade, please run:\n",
       " $ pip install wandb --upgrade"
      ],
      "text/plain": [
       "<IPython.core.display.HTML object>"
      ]
     },
     "metadata": {},
     "output_type": "display_data"
    },
    {
     "data": {
      "text/html": [
       "Tracking run with wandb version 0.15.12"
      ],
      "text/plain": [
       "<IPython.core.display.HTML object>"
      ]
     },
     "metadata": {},
     "output_type": "display_data"
    },
    {
     "data": {
      "text/html": [
       "Run data is saved locally in <code>C:\\Users\\nekta\\OneDrive\\Desktop\\botanic-emotion-recognition\\logs\\wandb\\run-20240214_220354-1rdt8w4n</code>"
      ],
      "text/plain": [
       "<IPython.core.display.HTML object>"
      ]
     },
     "metadata": {},
     "output_type": "display_data"
    },
    {
     "data": {
      "text/html": [
       "Syncing run <strong><a href='https://wandb.ai/totikos/model_fcnn_baseline_6_large_81k_search_108-hpo/runs/1rdt8w4n' target=\"_blank\">76_fcnn_baseline_6_large_81k_search_108_lr-0.01_hidden1-128_hidden2-64_dr-0</a></strong> to <a href='https://wandb.ai/totikos/model_fcnn_baseline_6_large_81k_search_108-hpo' target=\"_blank\">Weights & Biases</a> (<a href='https://wandb.me/run' target=\"_blank\">docs</a>)<br/>"
      ],
      "text/plain": [
       "<IPython.core.display.HTML object>"
      ]
     },
     "metadata": {},
     "output_type": "display_data"
    },
    {
     "data": {
      "text/html": [
       " View project at <a href='https://wandb.ai/totikos/model_fcnn_baseline_6_large_81k_search_108-hpo' target=\"_blank\">https://wandb.ai/totikos/model_fcnn_baseline_6_large_81k_search_108-hpo</a>"
      ],
      "text/plain": [
       "<IPython.core.display.HTML object>"
      ]
     },
     "metadata": {},
     "output_type": "display_data"
    },
    {
     "data": {
      "text/html": [
       " View run at <a href='https://wandb.ai/totikos/model_fcnn_baseline_6_large_81k_search_108-hpo/runs/1rdt8w4n' target=\"_blank\">https://wandb.ai/totikos/model_fcnn_baseline_6_large_81k_search_108-hpo/runs/1rdt8w4n</a>"
      ],
      "text/plain": [
       "<IPython.core.display.HTML object>"
      ]
     },
     "metadata": {},
     "output_type": "display_data"
    },
    {
     "name": "stderr",
     "output_type": "stream",
     "text": [
      "100%|████████████████████████████████████████| 899/899 [00:11<00:00, 77.24it/s]\n",
      "100%|█████████████████████████████████████████| 82/82 [00:00<00:00, 417.84it/s]\n",
      "[I 2024-02-14 22:04:17,483] Trial 76 pruned. \n"
     ]
    },
    {
     "name": "stdout",
     "output_type": "stream",
     "text": [
      "{'hidden_dim_1': 32, 'hidden_dim_2': 32, 'dropout_rate': 0.2}\n"
     ]
    },
    {
     "data": {
      "text/html": [
       "Finishing last run (ID:1rdt8w4n) before initializing another..."
      ],
      "text/plain": [
       "<IPython.core.display.HTML object>"
      ]
     },
     "metadata": {},
     "output_type": "display_data"
    },
    {
     "data": {
      "text/html": [
       "Waiting for W&B process to finish... <strong style=\"color:green\">(success).</strong>"
      ],
      "text/plain": [
       "<IPython.core.display.HTML object>"
      ]
     },
     "metadata": {},
     "output_type": "display_data"
    },
    {
     "data": {
      "text/html": [
       " View run <strong style=\"color:#cdcd00\">76_fcnn_baseline_6_large_81k_search_108_lr-0.01_hidden1-128_hidden2-64_dr-0</strong> at: <a href='https://wandb.ai/totikos/model_fcnn_baseline_6_large_81k_search_108-hpo/runs/1rdt8w4n' target=\"_blank\">https://wandb.ai/totikos/model_fcnn_baseline_6_large_81k_search_108-hpo/runs/1rdt8w4n</a><br/> View job at <a href='https://wandb.ai/totikos/model_fcnn_baseline_6_large_81k_search_108-hpo/jobs/QXJ0aWZhY3RDb2xsZWN0aW9uOjEzOTc4MjU0OA==/version_details/v1' target=\"_blank\">https://wandb.ai/totikos/model_fcnn_baseline_6_large_81k_search_108-hpo/jobs/QXJ0aWZhY3RDb2xsZWN0aW9uOjEzOTc4MjU0OA==/version_details/v1</a><br/>Synced 5 W&B file(s), 0 media file(s), 0 artifact file(s) and 0 other file(s)"
      ],
      "text/plain": [
       "<IPython.core.display.HTML object>"
      ]
     },
     "metadata": {},
     "output_type": "display_data"
    },
    {
     "data": {
      "text/html": [
       "Find logs at: <code>C:\\Users\\nekta\\OneDrive\\Desktop\\botanic-emotion-recognition\\logs\\wandb\\run-20240214_220354-1rdt8w4n\\logs</code>"
      ],
      "text/plain": [
       "<IPython.core.display.HTML object>"
      ]
     },
     "metadata": {},
     "output_type": "display_data"
    },
    {
     "data": {
      "text/html": [
       "Successfully finished last run (ID:1rdt8w4n). Initializing new run:<br/>"
      ],
      "text/plain": [
       "<IPython.core.display.HTML object>"
      ]
     },
     "metadata": {},
     "output_type": "display_data"
    },
    {
     "data": {
      "text/html": [
       "wandb version 0.16.3 is available!  To upgrade, please run:\n",
       " $ pip install wandb --upgrade"
      ],
      "text/plain": [
       "<IPython.core.display.HTML object>"
      ]
     },
     "metadata": {},
     "output_type": "display_data"
    },
    {
     "data": {
      "text/html": [
       "Tracking run with wandb version 0.15.12"
      ],
      "text/plain": [
       "<IPython.core.display.HTML object>"
      ]
     },
     "metadata": {},
     "output_type": "display_data"
    },
    {
     "data": {
      "text/html": [
       "Run data is saved locally in <code>C:\\Users\\nekta\\OneDrive\\Desktop\\botanic-emotion-recognition\\logs\\wandb\\run-20240214_220417-m0np0qxx</code>"
      ],
      "text/plain": [
       "<IPython.core.display.HTML object>"
      ]
     },
     "metadata": {},
     "output_type": "display_data"
    },
    {
     "data": {
      "text/html": [
       "Syncing run <strong><a href='https://wandb.ai/totikos/model_fcnn_baseline_6_large_81k_search_108-hpo/runs/m0np0qxx' target=\"_blank\">77_fcnn_baseline_6_large_81k_search_108_lr-0.001_hidden1-32_hidden2-32_dr-0.2</a></strong> to <a href='https://wandb.ai/totikos/model_fcnn_baseline_6_large_81k_search_108-hpo' target=\"_blank\">Weights & Biases</a> (<a href='https://wandb.me/run' target=\"_blank\">docs</a>)<br/>"
      ],
      "text/plain": [
       "<IPython.core.display.HTML object>"
      ]
     },
     "metadata": {},
     "output_type": "display_data"
    },
    {
     "data": {
      "text/html": [
       " View project at <a href='https://wandb.ai/totikos/model_fcnn_baseline_6_large_81k_search_108-hpo' target=\"_blank\">https://wandb.ai/totikos/model_fcnn_baseline_6_large_81k_search_108-hpo</a>"
      ],
      "text/plain": [
       "<IPython.core.display.HTML object>"
      ]
     },
     "metadata": {},
     "output_type": "display_data"
    },
    {
     "data": {
      "text/html": [
       " View run at <a href='https://wandb.ai/totikos/model_fcnn_baseline_6_large_81k_search_108-hpo/runs/m0np0qxx' target=\"_blank\">https://wandb.ai/totikos/model_fcnn_baseline_6_large_81k_search_108-hpo/runs/m0np0qxx</a>"
      ],
      "text/plain": [
       "<IPython.core.display.HTML object>"
      ]
     },
     "metadata": {},
     "output_type": "display_data"
    },
    {
     "name": "stderr",
     "output_type": "stream",
     "text": [
      "100%|███████████████████████████████████████| 899/899 [00:04<00:00, 216.07it/s]\n",
      "100%|█████████████████████████████████████████| 82/82 [00:00<00:00, 760.12it/s]\n",
      "[I 2024-02-14 22:04:30,436] Trial 77 pruned. \n"
     ]
    },
    {
     "name": "stdout",
     "output_type": "stream",
     "text": [
      "{'hidden_dim_1': 16, 'hidden_dim_2': 16, 'dropout_rate': 0.1}\n"
     ]
    },
    {
     "data": {
      "text/html": [
       "Finishing last run (ID:m0np0qxx) before initializing another..."
      ],
      "text/plain": [
       "<IPython.core.display.HTML object>"
      ]
     },
     "metadata": {},
     "output_type": "display_data"
    },
    {
     "data": {
      "text/html": [
       "Waiting for W&B process to finish... <strong style=\"color:green\">(success).</strong>"
      ],
      "text/plain": [
       "<IPython.core.display.HTML object>"
      ]
     },
     "metadata": {},
     "output_type": "display_data"
    },
    {
     "data": {
      "text/html": [
       " View run <strong style=\"color:#cdcd00\">77_fcnn_baseline_6_large_81k_search_108_lr-0.001_hidden1-32_hidden2-32_dr-0.2</strong> at: <a href='https://wandb.ai/totikos/model_fcnn_baseline_6_large_81k_search_108-hpo/runs/m0np0qxx' target=\"_blank\">https://wandb.ai/totikos/model_fcnn_baseline_6_large_81k_search_108-hpo/runs/m0np0qxx</a><br/> View job at <a href='https://wandb.ai/totikos/model_fcnn_baseline_6_large_81k_search_108-hpo/jobs/QXJ0aWZhY3RDb2xsZWN0aW9uOjEzOTc4MjU0OA==/version_details/v1' target=\"_blank\">https://wandb.ai/totikos/model_fcnn_baseline_6_large_81k_search_108-hpo/jobs/QXJ0aWZhY3RDb2xsZWN0aW9uOjEzOTc4MjU0OA==/version_details/v1</a><br/>Synced 5 W&B file(s), 0 media file(s), 0 artifact file(s) and 0 other file(s)"
      ],
      "text/plain": [
       "<IPython.core.display.HTML object>"
      ]
     },
     "metadata": {},
     "output_type": "display_data"
    },
    {
     "data": {
      "text/html": [
       "Find logs at: <code>C:\\Users\\nekta\\OneDrive\\Desktop\\botanic-emotion-recognition\\logs\\wandb\\run-20240214_220417-m0np0qxx\\logs</code>"
      ],
      "text/plain": [
       "<IPython.core.display.HTML object>"
      ]
     },
     "metadata": {},
     "output_type": "display_data"
    },
    {
     "data": {
      "text/html": [
       "Successfully finished last run (ID:m0np0qxx). Initializing new run:<br/>"
      ],
      "text/plain": [
       "<IPython.core.display.HTML object>"
      ]
     },
     "metadata": {},
     "output_type": "display_data"
    },
    {
     "data": {
      "text/html": [
       "wandb version 0.16.3 is available!  To upgrade, please run:\n",
       " $ pip install wandb --upgrade"
      ],
      "text/plain": [
       "<IPython.core.display.HTML object>"
      ]
     },
     "metadata": {},
     "output_type": "display_data"
    },
    {
     "data": {
      "text/html": [
       "Tracking run with wandb version 0.15.12"
      ],
      "text/plain": [
       "<IPython.core.display.HTML object>"
      ]
     },
     "metadata": {},
     "output_type": "display_data"
    },
    {
     "data": {
      "text/html": [
       "Run data is saved locally in <code>C:\\Users\\nekta\\OneDrive\\Desktop\\botanic-emotion-recognition\\logs\\wandb\\run-20240214_220430-230azh8d</code>"
      ],
      "text/plain": [
       "<IPython.core.display.HTML object>"
      ]
     },
     "metadata": {},
     "output_type": "display_data"
    },
    {
     "data": {
      "text/html": [
       "Syncing run <strong><a href='https://wandb.ai/totikos/model_fcnn_baseline_6_large_81k_search_108-hpo/runs/230azh8d' target=\"_blank\">78_fcnn_baseline_6_large_81k_search_108_lr-0.0001_hidden1-16_hidden2-16_dr-0.1</a></strong> to <a href='https://wandb.ai/totikos/model_fcnn_baseline_6_large_81k_search_108-hpo' target=\"_blank\">Weights & Biases</a> (<a href='https://wandb.me/run' target=\"_blank\">docs</a>)<br/>"
      ],
      "text/plain": [
       "<IPython.core.display.HTML object>"
      ]
     },
     "metadata": {},
     "output_type": "display_data"
    },
    {
     "data": {
      "text/html": [
       " View project at <a href='https://wandb.ai/totikos/model_fcnn_baseline_6_large_81k_search_108-hpo' target=\"_blank\">https://wandb.ai/totikos/model_fcnn_baseline_6_large_81k_search_108-hpo</a>"
      ],
      "text/plain": [
       "<IPython.core.display.HTML object>"
      ]
     },
     "metadata": {},
     "output_type": "display_data"
    },
    {
     "data": {
      "text/html": [
       " View run at <a href='https://wandb.ai/totikos/model_fcnn_baseline_6_large_81k_search_108-hpo/runs/230azh8d' target=\"_blank\">https://wandb.ai/totikos/model_fcnn_baseline_6_large_81k_search_108-hpo/runs/230azh8d</a>"
      ],
      "text/plain": [
       "<IPython.core.display.HTML object>"
      ]
     },
     "metadata": {},
     "output_type": "display_data"
    },
    {
     "name": "stderr",
     "output_type": "stream",
     "text": [
      "100%|███████████████████████████████████████| 899/899 [00:02<00:00, 344.86it/s]\n",
      "100%|█████████████████████████████████████████| 82/82 [00:00<00:00, 772.68it/s]\n",
      "[I 2024-02-14 22:04:40,602] Trial 78 pruned. \n"
     ]
    },
    {
     "name": "stdout",
     "output_type": "stream",
     "text": [
      "{'hidden_dim_1': 16, 'hidden_dim_2': 32, 'dropout_rate': 0.1}\n"
     ]
    },
    {
     "data": {
      "text/html": [
       "Finishing last run (ID:230azh8d) before initializing another..."
      ],
      "text/plain": [
       "<IPython.core.display.HTML object>"
      ]
     },
     "metadata": {},
     "output_type": "display_data"
    },
    {
     "data": {
      "text/html": [
       "Waiting for W&B process to finish... <strong style=\"color:green\">(success).</strong>"
      ],
      "text/plain": [
       "<IPython.core.display.HTML object>"
      ]
     },
     "metadata": {},
     "output_type": "display_data"
    },
    {
     "data": {
      "text/html": [
       " View run <strong style=\"color:#cdcd00\">78_fcnn_baseline_6_large_81k_search_108_lr-0.0001_hidden1-16_hidden2-16_dr-0.1</strong> at: <a href='https://wandb.ai/totikos/model_fcnn_baseline_6_large_81k_search_108-hpo/runs/230azh8d' target=\"_blank\">https://wandb.ai/totikos/model_fcnn_baseline_6_large_81k_search_108-hpo/runs/230azh8d</a><br/> View job at <a href='https://wandb.ai/totikos/model_fcnn_baseline_6_large_81k_search_108-hpo/jobs/QXJ0aWZhY3RDb2xsZWN0aW9uOjEzOTc4MjU0OA==/version_details/v1' target=\"_blank\">https://wandb.ai/totikos/model_fcnn_baseline_6_large_81k_search_108-hpo/jobs/QXJ0aWZhY3RDb2xsZWN0aW9uOjEzOTc4MjU0OA==/version_details/v1</a><br/>Synced 5 W&B file(s), 0 media file(s), 0 artifact file(s) and 0 other file(s)"
      ],
      "text/plain": [
       "<IPython.core.display.HTML object>"
      ]
     },
     "metadata": {},
     "output_type": "display_data"
    },
    {
     "data": {
      "text/html": [
       "Find logs at: <code>C:\\Users\\nekta\\OneDrive\\Desktop\\botanic-emotion-recognition\\logs\\wandb\\run-20240214_220430-230azh8d\\logs</code>"
      ],
      "text/plain": [
       "<IPython.core.display.HTML object>"
      ]
     },
     "metadata": {},
     "output_type": "display_data"
    },
    {
     "data": {
      "text/html": [
       "Successfully finished last run (ID:230azh8d). Initializing new run:<br/>"
      ],
      "text/plain": [
       "<IPython.core.display.HTML object>"
      ]
     },
     "metadata": {},
     "output_type": "display_data"
    },
    {
     "data": {
      "text/html": [
       "wandb version 0.16.3 is available!  To upgrade, please run:\n",
       " $ pip install wandb --upgrade"
      ],
      "text/plain": [
       "<IPython.core.display.HTML object>"
      ]
     },
     "metadata": {},
     "output_type": "display_data"
    },
    {
     "data": {
      "text/html": [
       "Tracking run with wandb version 0.15.12"
      ],
      "text/plain": [
       "<IPython.core.display.HTML object>"
      ]
     },
     "metadata": {},
     "output_type": "display_data"
    },
    {
     "data": {
      "text/html": [
       "Run data is saved locally in <code>C:\\Users\\nekta\\OneDrive\\Desktop\\botanic-emotion-recognition\\logs\\wandb\\run-20240214_220440-8jft9hom</code>"
      ],
      "text/plain": [
       "<IPython.core.display.HTML object>"
      ]
     },
     "metadata": {},
     "output_type": "display_data"
    },
    {
     "data": {
      "text/html": [
       "Syncing run <strong><a href='https://wandb.ai/totikos/model_fcnn_baseline_6_large_81k_search_108-hpo/runs/8jft9hom' target=\"_blank\">79_fcnn_baseline_6_large_81k_search_108_lr-0.001_hidden1-16_hidden2-32_dr-0.1</a></strong> to <a href='https://wandb.ai/totikos/model_fcnn_baseline_6_large_81k_search_108-hpo' target=\"_blank\">Weights & Biases</a> (<a href='https://wandb.me/run' target=\"_blank\">docs</a>)<br/>"
      ],
      "text/plain": [
       "<IPython.core.display.HTML object>"
      ]
     },
     "metadata": {},
     "output_type": "display_data"
    },
    {
     "data": {
      "text/html": [
       " View project at <a href='https://wandb.ai/totikos/model_fcnn_baseline_6_large_81k_search_108-hpo' target=\"_blank\">https://wandb.ai/totikos/model_fcnn_baseline_6_large_81k_search_108-hpo</a>"
      ],
      "text/plain": [
       "<IPython.core.display.HTML object>"
      ]
     },
     "metadata": {},
     "output_type": "display_data"
    },
    {
     "data": {
      "text/html": [
       " View run at <a href='https://wandb.ai/totikos/model_fcnn_baseline_6_large_81k_search_108-hpo/runs/8jft9hom' target=\"_blank\">https://wandb.ai/totikos/model_fcnn_baseline_6_large_81k_search_108-hpo/runs/8jft9hom</a>"
      ],
      "text/plain": [
       "<IPython.core.display.HTML object>"
      ]
     },
     "metadata": {},
     "output_type": "display_data"
    },
    {
     "name": "stderr",
     "output_type": "stream",
     "text": [
      "100%|███████████████████████████████████████| 899/899 [00:02<00:00, 349.70it/s]\n",
      "100%|█████████████████████████████████████████| 82/82 [00:00<00:00, 762.51it/s]\n",
      "[I 2024-02-14 22:04:50,148] Trial 79 pruned. \n"
     ]
    },
    {
     "name": "stdout",
     "output_type": "stream",
     "text": [
      "{'hidden_dim_1': 128, 'hidden_dim_2': 32, 'dropout_rate': 0}\n"
     ]
    },
    {
     "data": {
      "text/html": [
       "Finishing last run (ID:8jft9hom) before initializing another..."
      ],
      "text/plain": [
       "<IPython.core.display.HTML object>"
      ]
     },
     "metadata": {},
     "output_type": "display_data"
    },
    {
     "data": {
      "text/html": [
       "Waiting for W&B process to finish... <strong style=\"color:green\">(success).</strong>"
      ],
      "text/plain": [
       "<IPython.core.display.HTML object>"
      ]
     },
     "metadata": {},
     "output_type": "display_data"
    },
    {
     "data": {
      "text/html": [
       " View run <strong style=\"color:#cdcd00\">79_fcnn_baseline_6_large_81k_search_108_lr-0.001_hidden1-16_hidden2-32_dr-0.1</strong> at: <a href='https://wandb.ai/totikos/model_fcnn_baseline_6_large_81k_search_108-hpo/runs/8jft9hom' target=\"_blank\">https://wandb.ai/totikos/model_fcnn_baseline_6_large_81k_search_108-hpo/runs/8jft9hom</a><br/> View job at <a href='https://wandb.ai/totikos/model_fcnn_baseline_6_large_81k_search_108-hpo/jobs/QXJ0aWZhY3RDb2xsZWN0aW9uOjEzOTc4MjU0OA==/version_details/v1' target=\"_blank\">https://wandb.ai/totikos/model_fcnn_baseline_6_large_81k_search_108-hpo/jobs/QXJ0aWZhY3RDb2xsZWN0aW9uOjEzOTc4MjU0OA==/version_details/v1</a><br/>Synced 5 W&B file(s), 0 media file(s), 0 artifact file(s) and 0 other file(s)"
      ],
      "text/plain": [
       "<IPython.core.display.HTML object>"
      ]
     },
     "metadata": {},
     "output_type": "display_data"
    },
    {
     "data": {
      "text/html": [
       "Find logs at: <code>C:\\Users\\nekta\\OneDrive\\Desktop\\botanic-emotion-recognition\\logs\\wandb\\run-20240214_220440-8jft9hom\\logs</code>"
      ],
      "text/plain": [
       "<IPython.core.display.HTML object>"
      ]
     },
     "metadata": {},
     "output_type": "display_data"
    },
    {
     "data": {
      "text/html": [
       "Successfully finished last run (ID:8jft9hom). Initializing new run:<br/>"
      ],
      "text/plain": [
       "<IPython.core.display.HTML object>"
      ]
     },
     "metadata": {},
     "output_type": "display_data"
    },
    {
     "data": {
      "text/html": [
       "wandb version 0.16.3 is available!  To upgrade, please run:\n",
       " $ pip install wandb --upgrade"
      ],
      "text/plain": [
       "<IPython.core.display.HTML object>"
      ]
     },
     "metadata": {},
     "output_type": "display_data"
    },
    {
     "data": {
      "text/html": [
       "Tracking run with wandb version 0.15.12"
      ],
      "text/plain": [
       "<IPython.core.display.HTML object>"
      ]
     },
     "metadata": {},
     "output_type": "display_data"
    },
    {
     "data": {
      "text/html": [
       "Run data is saved locally in <code>C:\\Users\\nekta\\OneDrive\\Desktop\\botanic-emotion-recognition\\logs\\wandb\\run-20240214_220450-89mh1swp</code>"
      ],
      "text/plain": [
       "<IPython.core.display.HTML object>"
      ]
     },
     "metadata": {},
     "output_type": "display_data"
    },
    {
     "data": {
      "text/html": [
       "Syncing run <strong><a href='https://wandb.ai/totikos/model_fcnn_baseline_6_large_81k_search_108-hpo/runs/89mh1swp' target=\"_blank\">80_fcnn_baseline_6_large_81k_search_108_lr-0.001_hidden1-128_hidden2-32_dr-0</a></strong> to <a href='https://wandb.ai/totikos/model_fcnn_baseline_6_large_81k_search_108-hpo' target=\"_blank\">Weights & Biases</a> (<a href='https://wandb.me/run' target=\"_blank\">docs</a>)<br/>"
      ],
      "text/plain": [
       "<IPython.core.display.HTML object>"
      ]
     },
     "metadata": {},
     "output_type": "display_data"
    },
    {
     "data": {
      "text/html": [
       " View project at <a href='https://wandb.ai/totikos/model_fcnn_baseline_6_large_81k_search_108-hpo' target=\"_blank\">https://wandb.ai/totikos/model_fcnn_baseline_6_large_81k_search_108-hpo</a>"
      ],
      "text/plain": [
       "<IPython.core.display.HTML object>"
      ]
     },
     "metadata": {},
     "output_type": "display_data"
    },
    {
     "data": {
      "text/html": [
       " View run at <a href='https://wandb.ai/totikos/model_fcnn_baseline_6_large_81k_search_108-hpo/runs/89mh1swp' target=\"_blank\">https://wandb.ai/totikos/model_fcnn_baseline_6_large_81k_search_108-hpo/runs/89mh1swp</a>"
      ],
      "text/plain": [
       "<IPython.core.display.HTML object>"
      ]
     },
     "metadata": {},
     "output_type": "display_data"
    },
    {
     "name": "stderr",
     "output_type": "stream",
     "text": [
      "100%|████████████████████████████████████████| 899/899 [00:11<00:00, 77.60it/s]\n",
      "100%|█████████████████████████████████████████| 82/82 [00:00<00:00, 423.82it/s]\n",
      "[I 2024-02-14 22:05:08,896] Trial 80 pruned. \n"
     ]
    },
    {
     "name": "stdout",
     "output_type": "stream",
     "text": [
      "{'hidden_dim_1': 16, 'hidden_dim_2': 32, 'dropout_rate': 0}\n"
     ]
    },
    {
     "data": {
      "text/html": [
       "Finishing last run (ID:89mh1swp) before initializing another..."
      ],
      "text/plain": [
       "<IPython.core.display.HTML object>"
      ]
     },
     "metadata": {},
     "output_type": "display_data"
    },
    {
     "data": {
      "text/html": [
       "Waiting for W&B process to finish... <strong style=\"color:green\">(success).</strong>"
      ],
      "text/plain": [
       "<IPython.core.display.HTML object>"
      ]
     },
     "metadata": {},
     "output_type": "display_data"
    },
    {
     "data": {
      "text/html": [
       " View run <strong style=\"color:#cdcd00\">80_fcnn_baseline_6_large_81k_search_108_lr-0.001_hidden1-128_hidden2-32_dr-0</strong> at: <a href='https://wandb.ai/totikos/model_fcnn_baseline_6_large_81k_search_108-hpo/runs/89mh1swp' target=\"_blank\">https://wandb.ai/totikos/model_fcnn_baseline_6_large_81k_search_108-hpo/runs/89mh1swp</a><br/> View job at <a href='https://wandb.ai/totikos/model_fcnn_baseline_6_large_81k_search_108-hpo/jobs/QXJ0aWZhY3RDb2xsZWN0aW9uOjEzOTc4MjU0OA==/version_details/v1' target=\"_blank\">https://wandb.ai/totikos/model_fcnn_baseline_6_large_81k_search_108-hpo/jobs/QXJ0aWZhY3RDb2xsZWN0aW9uOjEzOTc4MjU0OA==/version_details/v1</a><br/>Synced 5 W&B file(s), 0 media file(s), 0 artifact file(s) and 0 other file(s)"
      ],
      "text/plain": [
       "<IPython.core.display.HTML object>"
      ]
     },
     "metadata": {},
     "output_type": "display_data"
    },
    {
     "data": {
      "text/html": [
       "Find logs at: <code>C:\\Users\\nekta\\OneDrive\\Desktop\\botanic-emotion-recognition\\logs\\wandb\\run-20240214_220450-89mh1swp\\logs</code>"
      ],
      "text/plain": [
       "<IPython.core.display.HTML object>"
      ]
     },
     "metadata": {},
     "output_type": "display_data"
    },
    {
     "data": {
      "text/html": [
       "Successfully finished last run (ID:89mh1swp). Initializing new run:<br/>"
      ],
      "text/plain": [
       "<IPython.core.display.HTML object>"
      ]
     },
     "metadata": {},
     "output_type": "display_data"
    },
    {
     "data": {
      "text/html": [
       "wandb version 0.16.3 is available!  To upgrade, please run:\n",
       " $ pip install wandb --upgrade"
      ],
      "text/plain": [
       "<IPython.core.display.HTML object>"
      ]
     },
     "metadata": {},
     "output_type": "display_data"
    },
    {
     "data": {
      "text/html": [
       "Tracking run with wandb version 0.15.12"
      ],
      "text/plain": [
       "<IPython.core.display.HTML object>"
      ]
     },
     "metadata": {},
     "output_type": "display_data"
    },
    {
     "data": {
      "text/html": [
       "Run data is saved locally in <code>C:\\Users\\nekta\\OneDrive\\Desktop\\botanic-emotion-recognition\\logs\\wandb\\run-20240214_220508-7c6bfx7s</code>"
      ],
      "text/plain": [
       "<IPython.core.display.HTML object>"
      ]
     },
     "metadata": {},
     "output_type": "display_data"
    },
    {
     "data": {
      "text/html": [
       "Syncing run <strong><a href='https://wandb.ai/totikos/model_fcnn_baseline_6_large_81k_search_108-hpo/runs/7c6bfx7s' target=\"_blank\">81_fcnn_baseline_6_large_81k_search_108_lr-0.001_hidden1-16_hidden2-32_dr-0</a></strong> to <a href='https://wandb.ai/totikos/model_fcnn_baseline_6_large_81k_search_108-hpo' target=\"_blank\">Weights & Biases</a> (<a href='https://wandb.me/run' target=\"_blank\">docs</a>)<br/>"
      ],
      "text/plain": [
       "<IPython.core.display.HTML object>"
      ]
     },
     "metadata": {},
     "output_type": "display_data"
    },
    {
     "data": {
      "text/html": [
       " View project at <a href='https://wandb.ai/totikos/model_fcnn_baseline_6_large_81k_search_108-hpo' target=\"_blank\">https://wandb.ai/totikos/model_fcnn_baseline_6_large_81k_search_108-hpo</a>"
      ],
      "text/plain": [
       "<IPython.core.display.HTML object>"
      ]
     },
     "metadata": {},
     "output_type": "display_data"
    },
    {
     "data": {
      "text/html": [
       " View run at <a href='https://wandb.ai/totikos/model_fcnn_baseline_6_large_81k_search_108-hpo/runs/7c6bfx7s' target=\"_blank\">https://wandb.ai/totikos/model_fcnn_baseline_6_large_81k_search_108-hpo/runs/7c6bfx7s</a>"
      ],
      "text/plain": [
       "<IPython.core.display.HTML object>"
      ]
     },
     "metadata": {},
     "output_type": "display_data"
    },
    {
     "name": "stderr",
     "output_type": "stream",
     "text": [
      "100%|███████████████████████████████████████| 899/899 [00:02<00:00, 352.85it/s]\n",
      "100%|█████████████████████████████████████████| 82/82 [00:00<00:00, 686.27it/s]\n",
      "[I 2024-02-14 22:05:20,329] Trial 81 pruned. \n"
     ]
    },
    {
     "name": "stdout",
     "output_type": "stream",
     "text": [
      "{'hidden_dim_1': 128, 'hidden_dim_2': 16, 'dropout_rate': 0}\n"
     ]
    },
    {
     "data": {
      "text/html": [
       "Finishing last run (ID:7c6bfx7s) before initializing another..."
      ],
      "text/plain": [
       "<IPython.core.display.HTML object>"
      ]
     },
     "metadata": {},
     "output_type": "display_data"
    },
    {
     "data": {
      "text/html": [
       "Waiting for W&B process to finish... <strong style=\"color:green\">(success).</strong>"
      ],
      "text/plain": [
       "<IPython.core.display.HTML object>"
      ]
     },
     "metadata": {},
     "output_type": "display_data"
    },
    {
     "data": {
      "text/html": [
       " View run <strong style=\"color:#cdcd00\">81_fcnn_baseline_6_large_81k_search_108_lr-0.001_hidden1-16_hidden2-32_dr-0</strong> at: <a href='https://wandb.ai/totikos/model_fcnn_baseline_6_large_81k_search_108-hpo/runs/7c6bfx7s' target=\"_blank\">https://wandb.ai/totikos/model_fcnn_baseline_6_large_81k_search_108-hpo/runs/7c6bfx7s</a><br/> View job at <a href='https://wandb.ai/totikos/model_fcnn_baseline_6_large_81k_search_108-hpo/jobs/QXJ0aWZhY3RDb2xsZWN0aW9uOjEzOTc4MjU0OA==/version_details/v1' target=\"_blank\">https://wandb.ai/totikos/model_fcnn_baseline_6_large_81k_search_108-hpo/jobs/QXJ0aWZhY3RDb2xsZWN0aW9uOjEzOTc4MjU0OA==/version_details/v1</a><br/>Synced 5 W&B file(s), 0 media file(s), 0 artifact file(s) and 0 other file(s)"
      ],
      "text/plain": [
       "<IPython.core.display.HTML object>"
      ]
     },
     "metadata": {},
     "output_type": "display_data"
    },
    {
     "data": {
      "text/html": [
       "Find logs at: <code>C:\\Users\\nekta\\OneDrive\\Desktop\\botanic-emotion-recognition\\logs\\wandb\\run-20240214_220508-7c6bfx7s\\logs</code>"
      ],
      "text/plain": [
       "<IPython.core.display.HTML object>"
      ]
     },
     "metadata": {},
     "output_type": "display_data"
    },
    {
     "data": {
      "text/html": [
       "Successfully finished last run (ID:7c6bfx7s). Initializing new run:<br/>"
      ],
      "text/plain": [
       "<IPython.core.display.HTML object>"
      ]
     },
     "metadata": {},
     "output_type": "display_data"
    },
    {
     "data": {
      "text/html": [
       "wandb version 0.16.3 is available!  To upgrade, please run:\n",
       " $ pip install wandb --upgrade"
      ],
      "text/plain": [
       "<IPython.core.display.HTML object>"
      ]
     },
     "metadata": {},
     "output_type": "display_data"
    },
    {
     "data": {
      "text/html": [
       "Tracking run with wandb version 0.15.12"
      ],
      "text/plain": [
       "<IPython.core.display.HTML object>"
      ]
     },
     "metadata": {},
     "output_type": "display_data"
    },
    {
     "data": {
      "text/html": [
       "Run data is saved locally in <code>C:\\Users\\nekta\\OneDrive\\Desktop\\botanic-emotion-recognition\\logs\\wandb\\run-20240214_220520-art8s7v4</code>"
      ],
      "text/plain": [
       "<IPython.core.display.HTML object>"
      ]
     },
     "metadata": {},
     "output_type": "display_data"
    },
    {
     "data": {
      "text/html": [
       "Syncing run <strong><a href='https://wandb.ai/totikos/model_fcnn_baseline_6_large_81k_search_108-hpo/runs/art8s7v4' target=\"_blank\">82_fcnn_baseline_6_large_81k_search_108_lr-0.001_hidden1-128_hidden2-16_dr-0</a></strong> to <a href='https://wandb.ai/totikos/model_fcnn_baseline_6_large_81k_search_108-hpo' target=\"_blank\">Weights & Biases</a> (<a href='https://wandb.me/run' target=\"_blank\">docs</a>)<br/>"
      ],
      "text/plain": [
       "<IPython.core.display.HTML object>"
      ]
     },
     "metadata": {},
     "output_type": "display_data"
    },
    {
     "data": {
      "text/html": [
       " View project at <a href='https://wandb.ai/totikos/model_fcnn_baseline_6_large_81k_search_108-hpo' target=\"_blank\">https://wandb.ai/totikos/model_fcnn_baseline_6_large_81k_search_108-hpo</a>"
      ],
      "text/plain": [
       "<IPython.core.display.HTML object>"
      ]
     },
     "metadata": {},
     "output_type": "display_data"
    },
    {
     "data": {
      "text/html": [
       " View run at <a href='https://wandb.ai/totikos/model_fcnn_baseline_6_large_81k_search_108-hpo/runs/art8s7v4' target=\"_blank\">https://wandb.ai/totikos/model_fcnn_baseline_6_large_81k_search_108-hpo/runs/art8s7v4</a>"
      ],
      "text/plain": [
       "<IPython.core.display.HTML object>"
      ]
     },
     "metadata": {},
     "output_type": "display_data"
    },
    {
     "name": "stderr",
     "output_type": "stream",
     "text": [
      "100%|████████████████████████████████████████| 899/899 [00:10<00:00, 84.18it/s]\n",
      "100%|█████████████████████████████████████████| 82/82 [00:00<00:00, 421.84it/s]\n",
      "[I 2024-02-14 22:05:38,135] Trial 82 pruned. \n"
     ]
    },
    {
     "name": "stdout",
     "output_type": "stream",
     "text": [
      "{'hidden_dim_1': 32, 'hidden_dim_2': 32, 'dropout_rate': 0}\n"
     ]
    },
    {
     "data": {
      "text/html": [
       "Finishing last run (ID:art8s7v4) before initializing another..."
      ],
      "text/plain": [
       "<IPython.core.display.HTML object>"
      ]
     },
     "metadata": {},
     "output_type": "display_data"
    },
    {
     "data": {
      "text/html": [
       "Waiting for W&B process to finish... <strong style=\"color:green\">(success).</strong>"
      ],
      "text/plain": [
       "<IPython.core.display.HTML object>"
      ]
     },
     "metadata": {},
     "output_type": "display_data"
    },
    {
     "data": {
      "text/html": [
       " View run <strong style=\"color:#cdcd00\">82_fcnn_baseline_6_large_81k_search_108_lr-0.001_hidden1-128_hidden2-16_dr-0</strong> at: <a href='https://wandb.ai/totikos/model_fcnn_baseline_6_large_81k_search_108-hpo/runs/art8s7v4' target=\"_blank\">https://wandb.ai/totikos/model_fcnn_baseline_6_large_81k_search_108-hpo/runs/art8s7v4</a><br/> View job at <a href='https://wandb.ai/totikos/model_fcnn_baseline_6_large_81k_search_108-hpo/jobs/QXJ0aWZhY3RDb2xsZWN0aW9uOjEzOTc4MjU0OA==/version_details/v1' target=\"_blank\">https://wandb.ai/totikos/model_fcnn_baseline_6_large_81k_search_108-hpo/jobs/QXJ0aWZhY3RDb2xsZWN0aW9uOjEzOTc4MjU0OA==/version_details/v1</a><br/>Synced 5 W&B file(s), 0 media file(s), 0 artifact file(s) and 0 other file(s)"
      ],
      "text/plain": [
       "<IPython.core.display.HTML object>"
      ]
     },
     "metadata": {},
     "output_type": "display_data"
    },
    {
     "data": {
      "text/html": [
       "Find logs at: <code>C:\\Users\\nekta\\OneDrive\\Desktop\\botanic-emotion-recognition\\logs\\wandb\\run-20240214_220520-art8s7v4\\logs</code>"
      ],
      "text/plain": [
       "<IPython.core.display.HTML object>"
      ]
     },
     "metadata": {},
     "output_type": "display_data"
    },
    {
     "data": {
      "text/html": [
       "Successfully finished last run (ID:art8s7v4). Initializing new run:<br/>"
      ],
      "text/plain": [
       "<IPython.core.display.HTML object>"
      ]
     },
     "metadata": {},
     "output_type": "display_data"
    },
    {
     "data": {
      "text/html": [
       "wandb version 0.16.3 is available!  To upgrade, please run:\n",
       " $ pip install wandb --upgrade"
      ],
      "text/plain": [
       "<IPython.core.display.HTML object>"
      ]
     },
     "metadata": {},
     "output_type": "display_data"
    },
    {
     "data": {
      "text/html": [
       "Tracking run with wandb version 0.15.12"
      ],
      "text/plain": [
       "<IPython.core.display.HTML object>"
      ]
     },
     "metadata": {},
     "output_type": "display_data"
    },
    {
     "data": {
      "text/html": [
       "Run data is saved locally in <code>C:\\Users\\nekta\\OneDrive\\Desktop\\botanic-emotion-recognition\\logs\\wandb\\run-20240214_220538-hqjg43l5</code>"
      ],
      "text/plain": [
       "<IPython.core.display.HTML object>"
      ]
     },
     "metadata": {},
     "output_type": "display_data"
    },
    {
     "data": {
      "text/html": [
       "Syncing run <strong><a href='https://wandb.ai/totikos/model_fcnn_baseline_6_large_81k_search_108-hpo/runs/hqjg43l5' target=\"_blank\">83_fcnn_baseline_6_large_81k_search_108_lr-0.001_hidden1-32_hidden2-32_dr-0</a></strong> to <a href='https://wandb.ai/totikos/model_fcnn_baseline_6_large_81k_search_108-hpo' target=\"_blank\">Weights & Biases</a> (<a href='https://wandb.me/run' target=\"_blank\">docs</a>)<br/>"
      ],
      "text/plain": [
       "<IPython.core.display.HTML object>"
      ]
     },
     "metadata": {},
     "output_type": "display_data"
    },
    {
     "data": {
      "text/html": [
       " View project at <a href='https://wandb.ai/totikos/model_fcnn_baseline_6_large_81k_search_108-hpo' target=\"_blank\">https://wandb.ai/totikos/model_fcnn_baseline_6_large_81k_search_108-hpo</a>"
      ],
      "text/plain": [
       "<IPython.core.display.HTML object>"
      ]
     },
     "metadata": {},
     "output_type": "display_data"
    },
    {
     "data": {
      "text/html": [
       " View run at <a href='https://wandb.ai/totikos/model_fcnn_baseline_6_large_81k_search_108-hpo/runs/hqjg43l5' target=\"_blank\">https://wandb.ai/totikos/model_fcnn_baseline_6_large_81k_search_108-hpo/runs/hqjg43l5</a>"
      ],
      "text/plain": [
       "<IPython.core.display.HTML object>"
      ]
     },
     "metadata": {},
     "output_type": "display_data"
    },
    {
     "name": "stderr",
     "output_type": "stream",
     "text": [
      "100%|███████████████████████████████████████| 899/899 [00:04<00:00, 206.12it/s]\n",
      "100%|█████████████████████████████████████████| 82/82 [00:00<00:00, 710.51it/s]\n",
      "[I 2024-02-14 22:05:49,333] Trial 83 pruned. \n"
     ]
    },
    {
     "name": "stdout",
     "output_type": "stream",
     "text": [
      "{'hidden_dim_1': 128, 'hidden_dim_2': 64, 'dropout_rate': 0}\n"
     ]
    },
    {
     "data": {
      "text/html": [
       "Finishing last run (ID:hqjg43l5) before initializing another..."
      ],
      "text/plain": [
       "<IPython.core.display.HTML object>"
      ]
     },
     "metadata": {},
     "output_type": "display_data"
    },
    {
     "data": {
      "text/html": [
       "Waiting for W&B process to finish... <strong style=\"color:green\">(success).</strong>"
      ],
      "text/plain": [
       "<IPython.core.display.HTML object>"
      ]
     },
     "metadata": {},
     "output_type": "display_data"
    },
    {
     "data": {
      "text/html": [
       " View run <strong style=\"color:#cdcd00\">83_fcnn_baseline_6_large_81k_search_108_lr-0.001_hidden1-32_hidden2-32_dr-0</strong> at: <a href='https://wandb.ai/totikos/model_fcnn_baseline_6_large_81k_search_108-hpo/runs/hqjg43l5' target=\"_blank\">https://wandb.ai/totikos/model_fcnn_baseline_6_large_81k_search_108-hpo/runs/hqjg43l5</a><br/> View job at <a href='https://wandb.ai/totikos/model_fcnn_baseline_6_large_81k_search_108-hpo/jobs/QXJ0aWZhY3RDb2xsZWN0aW9uOjEzOTc4MjU0OA==/version_details/v1' target=\"_blank\">https://wandb.ai/totikos/model_fcnn_baseline_6_large_81k_search_108-hpo/jobs/QXJ0aWZhY3RDb2xsZWN0aW9uOjEzOTc4MjU0OA==/version_details/v1</a><br/>Synced 5 W&B file(s), 0 media file(s), 0 artifact file(s) and 0 other file(s)"
      ],
      "text/plain": [
       "<IPython.core.display.HTML object>"
      ]
     },
     "metadata": {},
     "output_type": "display_data"
    },
    {
     "data": {
      "text/html": [
       "Find logs at: <code>C:\\Users\\nekta\\OneDrive\\Desktop\\botanic-emotion-recognition\\logs\\wandb\\run-20240214_220538-hqjg43l5\\logs</code>"
      ],
      "text/plain": [
       "<IPython.core.display.HTML object>"
      ]
     },
     "metadata": {},
     "output_type": "display_data"
    },
    {
     "data": {
      "text/html": [
       "Successfully finished last run (ID:hqjg43l5). Initializing new run:<br/>"
      ],
      "text/plain": [
       "<IPython.core.display.HTML object>"
      ]
     },
     "metadata": {},
     "output_type": "display_data"
    },
    {
     "data": {
      "text/html": [
       "wandb version 0.16.3 is available!  To upgrade, please run:\n",
       " $ pip install wandb --upgrade"
      ],
      "text/plain": [
       "<IPython.core.display.HTML object>"
      ]
     },
     "metadata": {},
     "output_type": "display_data"
    },
    {
     "data": {
      "text/html": [
       "Tracking run with wandb version 0.15.12"
      ],
      "text/plain": [
       "<IPython.core.display.HTML object>"
      ]
     },
     "metadata": {},
     "output_type": "display_data"
    },
    {
     "data": {
      "text/html": [
       "Run data is saved locally in <code>C:\\Users\\nekta\\OneDrive\\Desktop\\botanic-emotion-recognition\\logs\\wandb\\run-20240214_220549-to1j6hn1</code>"
      ],
      "text/plain": [
       "<IPython.core.display.HTML object>"
      ]
     },
     "metadata": {},
     "output_type": "display_data"
    },
    {
     "data": {
      "text/html": [
       "Syncing run <strong><a href='https://wandb.ai/totikos/model_fcnn_baseline_6_large_81k_search_108-hpo/runs/to1j6hn1' target=\"_blank\">84_fcnn_baseline_6_large_81k_search_108_lr-0.001_hidden1-128_hidden2-64_dr-0</a></strong> to <a href='https://wandb.ai/totikos/model_fcnn_baseline_6_large_81k_search_108-hpo' target=\"_blank\">Weights & Biases</a> (<a href='https://wandb.me/run' target=\"_blank\">docs</a>)<br/>"
      ],
      "text/plain": [
       "<IPython.core.display.HTML object>"
      ]
     },
     "metadata": {},
     "output_type": "display_data"
    },
    {
     "data": {
      "text/html": [
       " View project at <a href='https://wandb.ai/totikos/model_fcnn_baseline_6_large_81k_search_108-hpo' target=\"_blank\">https://wandb.ai/totikos/model_fcnn_baseline_6_large_81k_search_108-hpo</a>"
      ],
      "text/plain": [
       "<IPython.core.display.HTML object>"
      ]
     },
     "metadata": {},
     "output_type": "display_data"
    },
    {
     "data": {
      "text/html": [
       " View run at <a href='https://wandb.ai/totikos/model_fcnn_baseline_6_large_81k_search_108-hpo/runs/to1j6hn1' target=\"_blank\">https://wandb.ai/totikos/model_fcnn_baseline_6_large_81k_search_108-hpo/runs/to1j6hn1</a>"
      ],
      "text/plain": [
       "<IPython.core.display.HTML object>"
      ]
     },
     "metadata": {},
     "output_type": "display_data"
    },
    {
     "name": "stderr",
     "output_type": "stream",
     "text": [
      "100%|████████████████████████████████████████| 899/899 [00:11<00:00, 77.40it/s]\n",
      "100%|█████████████████████████████████████████| 82/82 [00:00<00:00, 408.12it/s]\n",
      "[I 2024-02-14 22:06:08,345] Trial 84 pruned. \n"
     ]
    },
    {
     "name": "stdout",
     "output_type": "stream",
     "text": [
      "{'hidden_dim_1': 16, 'hidden_dim_2': 32, 'dropout_rate': 0.2}\n"
     ]
    },
    {
     "data": {
      "text/html": [
       "Finishing last run (ID:to1j6hn1) before initializing another..."
      ],
      "text/plain": [
       "<IPython.core.display.HTML object>"
      ]
     },
     "metadata": {},
     "output_type": "display_data"
    },
    {
     "data": {
      "text/html": [
       "Waiting for W&B process to finish... <strong style=\"color:green\">(success).</strong>"
      ],
      "text/plain": [
       "<IPython.core.display.HTML object>"
      ]
     },
     "metadata": {},
     "output_type": "display_data"
    },
    {
     "data": {
      "text/html": [
       " View run <strong style=\"color:#cdcd00\">84_fcnn_baseline_6_large_81k_search_108_lr-0.001_hidden1-128_hidden2-64_dr-0</strong> at: <a href='https://wandb.ai/totikos/model_fcnn_baseline_6_large_81k_search_108-hpo/runs/to1j6hn1' target=\"_blank\">https://wandb.ai/totikos/model_fcnn_baseline_6_large_81k_search_108-hpo/runs/to1j6hn1</a><br/> View job at <a href='https://wandb.ai/totikos/model_fcnn_baseline_6_large_81k_search_108-hpo/jobs/QXJ0aWZhY3RDb2xsZWN0aW9uOjEzOTc4MjU0OA==/version_details/v1' target=\"_blank\">https://wandb.ai/totikos/model_fcnn_baseline_6_large_81k_search_108-hpo/jobs/QXJ0aWZhY3RDb2xsZWN0aW9uOjEzOTc4MjU0OA==/version_details/v1</a><br/>Synced 5 W&B file(s), 0 media file(s), 0 artifact file(s) and 0 other file(s)"
      ],
      "text/plain": [
       "<IPython.core.display.HTML object>"
      ]
     },
     "metadata": {},
     "output_type": "display_data"
    },
    {
     "data": {
      "text/html": [
       "Find logs at: <code>C:\\Users\\nekta\\OneDrive\\Desktop\\botanic-emotion-recognition\\logs\\wandb\\run-20240214_220549-to1j6hn1\\logs</code>"
      ],
      "text/plain": [
       "<IPython.core.display.HTML object>"
      ]
     },
     "metadata": {},
     "output_type": "display_data"
    },
    {
     "data": {
      "text/html": [
       "Successfully finished last run (ID:to1j6hn1). Initializing new run:<br/>"
      ],
      "text/plain": [
       "<IPython.core.display.HTML object>"
      ]
     },
     "metadata": {},
     "output_type": "display_data"
    },
    {
     "data": {
      "text/html": [
       "wandb version 0.16.3 is available!  To upgrade, please run:\n",
       " $ pip install wandb --upgrade"
      ],
      "text/plain": [
       "<IPython.core.display.HTML object>"
      ]
     },
     "metadata": {},
     "output_type": "display_data"
    },
    {
     "data": {
      "text/html": [
       "Tracking run with wandb version 0.15.12"
      ],
      "text/plain": [
       "<IPython.core.display.HTML object>"
      ]
     },
     "metadata": {},
     "output_type": "display_data"
    },
    {
     "data": {
      "text/html": [
       "Run data is saved locally in <code>C:\\Users\\nekta\\OneDrive\\Desktop\\botanic-emotion-recognition\\logs\\wandb\\run-20240214_220608-ha02qxt9</code>"
      ],
      "text/plain": [
       "<IPython.core.display.HTML object>"
      ]
     },
     "metadata": {},
     "output_type": "display_data"
    },
    {
     "data": {
      "text/html": [
       "Syncing run <strong><a href='https://wandb.ai/totikos/model_fcnn_baseline_6_large_81k_search_108-hpo/runs/ha02qxt9' target=\"_blank\">85_fcnn_baseline_6_large_81k_search_108_lr-0.01_hidden1-16_hidden2-32_dr-0.2</a></strong> to <a href='https://wandb.ai/totikos/model_fcnn_baseline_6_large_81k_search_108-hpo' target=\"_blank\">Weights & Biases</a> (<a href='https://wandb.me/run' target=\"_blank\">docs</a>)<br/>"
      ],
      "text/plain": [
       "<IPython.core.display.HTML object>"
      ]
     },
     "metadata": {},
     "output_type": "display_data"
    },
    {
     "data": {
      "text/html": [
       " View project at <a href='https://wandb.ai/totikos/model_fcnn_baseline_6_large_81k_search_108-hpo' target=\"_blank\">https://wandb.ai/totikos/model_fcnn_baseline_6_large_81k_search_108-hpo</a>"
      ],
      "text/plain": [
       "<IPython.core.display.HTML object>"
      ]
     },
     "metadata": {},
     "output_type": "display_data"
    },
    {
     "data": {
      "text/html": [
       " View run at <a href='https://wandb.ai/totikos/model_fcnn_baseline_6_large_81k_search_108-hpo/runs/ha02qxt9' target=\"_blank\">https://wandb.ai/totikos/model_fcnn_baseline_6_large_81k_search_108-hpo/runs/ha02qxt9</a>"
      ],
      "text/plain": [
       "<IPython.core.display.HTML object>"
      ]
     },
     "metadata": {},
     "output_type": "display_data"
    },
    {
     "name": "stderr",
     "output_type": "stream",
     "text": [
      "100%|███████████████████████████████████████| 899/899 [00:02<00:00, 310.23it/s]\n",
      "100%|█████████████████████████████████████████| 82/82 [00:00<00:00, 711.47it/s]\n",
      "[I 2024-02-14 22:06:20,321] Trial 85 pruned. \n"
     ]
    },
    {
     "name": "stdout",
     "output_type": "stream",
     "text": [
      "{'hidden_dim_1': 64, 'hidden_dim_2': 64, 'dropout_rate': 0.2}\n"
     ]
    },
    {
     "data": {
      "text/html": [
       "Finishing last run (ID:ha02qxt9) before initializing another..."
      ],
      "text/plain": [
       "<IPython.core.display.HTML object>"
      ]
     },
     "metadata": {},
     "output_type": "display_data"
    },
    {
     "data": {
      "text/html": [
       "Waiting for W&B process to finish... <strong style=\"color:green\">(success).</strong>"
      ],
      "text/plain": [
       "<IPython.core.display.HTML object>"
      ]
     },
     "metadata": {},
     "output_type": "display_data"
    },
    {
     "data": {
      "text/html": [
       " View run <strong style=\"color:#cdcd00\">85_fcnn_baseline_6_large_81k_search_108_lr-0.01_hidden1-16_hidden2-32_dr-0.2</strong> at: <a href='https://wandb.ai/totikos/model_fcnn_baseline_6_large_81k_search_108-hpo/runs/ha02qxt9' target=\"_blank\">https://wandb.ai/totikos/model_fcnn_baseline_6_large_81k_search_108-hpo/runs/ha02qxt9</a><br/> View job at <a href='https://wandb.ai/totikos/model_fcnn_baseline_6_large_81k_search_108-hpo/jobs/QXJ0aWZhY3RDb2xsZWN0aW9uOjEzOTc4MjU0OA==/version_details/v1' target=\"_blank\">https://wandb.ai/totikos/model_fcnn_baseline_6_large_81k_search_108-hpo/jobs/QXJ0aWZhY3RDb2xsZWN0aW9uOjEzOTc4MjU0OA==/version_details/v1</a><br/>Synced 5 W&B file(s), 0 media file(s), 0 artifact file(s) and 0 other file(s)"
      ],
      "text/plain": [
       "<IPython.core.display.HTML object>"
      ]
     },
     "metadata": {},
     "output_type": "display_data"
    },
    {
     "data": {
      "text/html": [
       "Find logs at: <code>C:\\Users\\nekta\\OneDrive\\Desktop\\botanic-emotion-recognition\\logs\\wandb\\run-20240214_220608-ha02qxt9\\logs</code>"
      ],
      "text/plain": [
       "<IPython.core.display.HTML object>"
      ]
     },
     "metadata": {},
     "output_type": "display_data"
    },
    {
     "data": {
      "text/html": [
       "Successfully finished last run (ID:ha02qxt9). Initializing new run:<br/>"
      ],
      "text/plain": [
       "<IPython.core.display.HTML object>"
      ]
     },
     "metadata": {},
     "output_type": "display_data"
    },
    {
     "data": {
      "text/html": [
       "wandb version 0.16.3 is available!  To upgrade, please run:\n",
       " $ pip install wandb --upgrade"
      ],
      "text/plain": [
       "<IPython.core.display.HTML object>"
      ]
     },
     "metadata": {},
     "output_type": "display_data"
    },
    {
     "data": {
      "text/html": [
       "Tracking run with wandb version 0.15.12"
      ],
      "text/plain": [
       "<IPython.core.display.HTML object>"
      ]
     },
     "metadata": {},
     "output_type": "display_data"
    },
    {
     "data": {
      "text/html": [
       "Run data is saved locally in <code>C:\\Users\\nekta\\OneDrive\\Desktop\\botanic-emotion-recognition\\logs\\wandb\\run-20240214_220620-0h45yvu8</code>"
      ],
      "text/plain": [
       "<IPython.core.display.HTML object>"
      ]
     },
     "metadata": {},
     "output_type": "display_data"
    },
    {
     "data": {
      "text/html": [
       "Syncing run <strong><a href='https://wandb.ai/totikos/model_fcnn_baseline_6_large_81k_search_108-hpo/runs/0h45yvu8' target=\"_blank\">86_fcnn_baseline_6_large_81k_search_108_lr-0.01_hidden1-64_hidden2-64_dr-0.2</a></strong> to <a href='https://wandb.ai/totikos/model_fcnn_baseline_6_large_81k_search_108-hpo' target=\"_blank\">Weights & Biases</a> (<a href='https://wandb.me/run' target=\"_blank\">docs</a>)<br/>"
      ],
      "text/plain": [
       "<IPython.core.display.HTML object>"
      ]
     },
     "metadata": {},
     "output_type": "display_data"
    },
    {
     "data": {
      "text/html": [
       " View project at <a href='https://wandb.ai/totikos/model_fcnn_baseline_6_large_81k_search_108-hpo' target=\"_blank\">https://wandb.ai/totikos/model_fcnn_baseline_6_large_81k_search_108-hpo</a>"
      ],
      "text/plain": [
       "<IPython.core.display.HTML object>"
      ]
     },
     "metadata": {},
     "output_type": "display_data"
    },
    {
     "data": {
      "text/html": [
       " View run at <a href='https://wandb.ai/totikos/model_fcnn_baseline_6_large_81k_search_108-hpo/runs/0h45yvu8' target=\"_blank\">https://wandb.ai/totikos/model_fcnn_baseline_6_large_81k_search_108-hpo/runs/0h45yvu8</a>"
      ],
      "text/plain": [
       "<IPython.core.display.HTML object>"
      ]
     },
     "metadata": {},
     "output_type": "display_data"
    },
    {
     "name": "stderr",
     "output_type": "stream",
     "text": [
      "100%|███████████████████████████████████████| 899/899 [00:06<00:00, 143.11it/s]\n",
      "100%|█████████████████████████████████████████| 82/82 [00:00<00:00, 534.42it/s]\n",
      "[I 2024-02-14 22:06:33,462] Trial 86 pruned. \n"
     ]
    },
    {
     "name": "stdout",
     "output_type": "stream",
     "text": [
      "{'hidden_dim_1': 32, 'hidden_dim_2': 32, 'dropout_rate': 0.1}\n"
     ]
    },
    {
     "data": {
      "text/html": [
       "Finishing last run (ID:0h45yvu8) before initializing another..."
      ],
      "text/plain": [
       "<IPython.core.display.HTML object>"
      ]
     },
     "metadata": {},
     "output_type": "display_data"
    },
    {
     "data": {
      "text/html": [
       "Waiting for W&B process to finish... <strong style=\"color:green\">(success).</strong>"
      ],
      "text/plain": [
       "<IPython.core.display.HTML object>"
      ]
     },
     "metadata": {},
     "output_type": "display_data"
    },
    {
     "data": {
      "text/html": [
       " View run <strong style=\"color:#cdcd00\">86_fcnn_baseline_6_large_81k_search_108_lr-0.01_hidden1-64_hidden2-64_dr-0.2</strong> at: <a href='https://wandb.ai/totikos/model_fcnn_baseline_6_large_81k_search_108-hpo/runs/0h45yvu8' target=\"_blank\">https://wandb.ai/totikos/model_fcnn_baseline_6_large_81k_search_108-hpo/runs/0h45yvu8</a><br/> View job at <a href='https://wandb.ai/totikos/model_fcnn_baseline_6_large_81k_search_108-hpo/jobs/QXJ0aWZhY3RDb2xsZWN0aW9uOjEzOTc4MjU0OA==/version_details/v1' target=\"_blank\">https://wandb.ai/totikos/model_fcnn_baseline_6_large_81k_search_108-hpo/jobs/QXJ0aWZhY3RDb2xsZWN0aW9uOjEzOTc4MjU0OA==/version_details/v1</a><br/>Synced 5 W&B file(s), 0 media file(s), 0 artifact file(s) and 0 other file(s)"
      ],
      "text/plain": [
       "<IPython.core.display.HTML object>"
      ]
     },
     "metadata": {},
     "output_type": "display_data"
    },
    {
     "data": {
      "text/html": [
       "Find logs at: <code>C:\\Users\\nekta\\OneDrive\\Desktop\\botanic-emotion-recognition\\logs\\wandb\\run-20240214_220620-0h45yvu8\\logs</code>"
      ],
      "text/plain": [
       "<IPython.core.display.HTML object>"
      ]
     },
     "metadata": {},
     "output_type": "display_data"
    },
    {
     "data": {
      "text/html": [
       "Successfully finished last run (ID:0h45yvu8). Initializing new run:<br/>"
      ],
      "text/plain": [
       "<IPython.core.display.HTML object>"
      ]
     },
     "metadata": {},
     "output_type": "display_data"
    },
    {
     "data": {
      "text/html": [
       "wandb version 0.16.3 is available!  To upgrade, please run:\n",
       " $ pip install wandb --upgrade"
      ],
      "text/plain": [
       "<IPython.core.display.HTML object>"
      ]
     },
     "metadata": {},
     "output_type": "display_data"
    },
    {
     "data": {
      "text/html": [
       "Tracking run with wandb version 0.15.12"
      ],
      "text/plain": [
       "<IPython.core.display.HTML object>"
      ]
     },
     "metadata": {},
     "output_type": "display_data"
    },
    {
     "data": {
      "text/html": [
       "Run data is saved locally in <code>C:\\Users\\nekta\\OneDrive\\Desktop\\botanic-emotion-recognition\\logs\\wandb\\run-20240214_220633-2ks2s2jj</code>"
      ],
      "text/plain": [
       "<IPython.core.display.HTML object>"
      ]
     },
     "metadata": {},
     "output_type": "display_data"
    },
    {
     "data": {
      "text/html": [
       "Syncing run <strong><a href='https://wandb.ai/totikos/model_fcnn_baseline_6_large_81k_search_108-hpo/runs/2ks2s2jj' target=\"_blank\">87_fcnn_baseline_6_large_81k_search_108_lr-0.01_hidden1-32_hidden2-32_dr-0.1</a></strong> to <a href='https://wandb.ai/totikos/model_fcnn_baseline_6_large_81k_search_108-hpo' target=\"_blank\">Weights & Biases</a> (<a href='https://wandb.me/run' target=\"_blank\">docs</a>)<br/>"
      ],
      "text/plain": [
       "<IPython.core.display.HTML object>"
      ]
     },
     "metadata": {},
     "output_type": "display_data"
    },
    {
     "data": {
      "text/html": [
       " View project at <a href='https://wandb.ai/totikos/model_fcnn_baseline_6_large_81k_search_108-hpo' target=\"_blank\">https://wandb.ai/totikos/model_fcnn_baseline_6_large_81k_search_108-hpo</a>"
      ],
      "text/plain": [
       "<IPython.core.display.HTML object>"
      ]
     },
     "metadata": {},
     "output_type": "display_data"
    },
    {
     "data": {
      "text/html": [
       " View run at <a href='https://wandb.ai/totikos/model_fcnn_baseline_6_large_81k_search_108-hpo/runs/2ks2s2jj' target=\"_blank\">https://wandb.ai/totikos/model_fcnn_baseline_6_large_81k_search_108-hpo/runs/2ks2s2jj</a>"
      ],
      "text/plain": [
       "<IPython.core.display.HTML object>"
      ]
     },
     "metadata": {},
     "output_type": "display_data"
    },
    {
     "name": "stderr",
     "output_type": "stream",
     "text": [
      "100%|███████████████████████████████████████| 899/899 [00:04<00:00, 217.07it/s]\n",
      "100%|█████████████████████████████████████████| 82/82 [00:00<00:00, 697.19it/s]\n",
      "[I 2024-02-14 22:06:46,758] Trial 87 pruned. \n"
     ]
    },
    {
     "name": "stdout",
     "output_type": "stream",
     "text": [
      "{'hidden_dim_1': 32, 'hidden_dim_2': 32, 'dropout_rate': 0.1}\n"
     ]
    },
    {
     "data": {
      "text/html": [
       "Finishing last run (ID:2ks2s2jj) before initializing another..."
      ],
      "text/plain": [
       "<IPython.core.display.HTML object>"
      ]
     },
     "metadata": {},
     "output_type": "display_data"
    },
    {
     "data": {
      "text/html": [
       "Waiting for W&B process to finish... <strong style=\"color:green\">(success).</strong>"
      ],
      "text/plain": [
       "<IPython.core.display.HTML object>"
      ]
     },
     "metadata": {},
     "output_type": "display_data"
    },
    {
     "data": {
      "text/html": [
       " View run <strong style=\"color:#cdcd00\">87_fcnn_baseline_6_large_81k_search_108_lr-0.01_hidden1-32_hidden2-32_dr-0.1</strong> at: <a href='https://wandb.ai/totikos/model_fcnn_baseline_6_large_81k_search_108-hpo/runs/2ks2s2jj' target=\"_blank\">https://wandb.ai/totikos/model_fcnn_baseline_6_large_81k_search_108-hpo/runs/2ks2s2jj</a><br/> View job at <a href='https://wandb.ai/totikos/model_fcnn_baseline_6_large_81k_search_108-hpo/jobs/QXJ0aWZhY3RDb2xsZWN0aW9uOjEzOTc4MjU0OA==/version_details/v1' target=\"_blank\">https://wandb.ai/totikos/model_fcnn_baseline_6_large_81k_search_108-hpo/jobs/QXJ0aWZhY3RDb2xsZWN0aW9uOjEzOTc4MjU0OA==/version_details/v1</a><br/>Synced 5 W&B file(s), 0 media file(s), 0 artifact file(s) and 0 other file(s)"
      ],
      "text/plain": [
       "<IPython.core.display.HTML object>"
      ]
     },
     "metadata": {},
     "output_type": "display_data"
    },
    {
     "data": {
      "text/html": [
       "Find logs at: <code>C:\\Users\\nekta\\OneDrive\\Desktop\\botanic-emotion-recognition\\logs\\wandb\\run-20240214_220633-2ks2s2jj\\logs</code>"
      ],
      "text/plain": [
       "<IPython.core.display.HTML object>"
      ]
     },
     "metadata": {},
     "output_type": "display_data"
    },
    {
     "data": {
      "text/html": [
       "Successfully finished last run (ID:2ks2s2jj). Initializing new run:<br/>"
      ],
      "text/plain": [
       "<IPython.core.display.HTML object>"
      ]
     },
     "metadata": {},
     "output_type": "display_data"
    },
    {
     "data": {
      "text/html": [
       "wandb version 0.16.3 is available!  To upgrade, please run:\n",
       " $ pip install wandb --upgrade"
      ],
      "text/plain": [
       "<IPython.core.display.HTML object>"
      ]
     },
     "metadata": {},
     "output_type": "display_data"
    },
    {
     "data": {
      "text/html": [
       "Tracking run with wandb version 0.15.12"
      ],
      "text/plain": [
       "<IPython.core.display.HTML object>"
      ]
     },
     "metadata": {},
     "output_type": "display_data"
    },
    {
     "data": {
      "text/html": [
       "Run data is saved locally in <code>C:\\Users\\nekta\\OneDrive\\Desktop\\botanic-emotion-recognition\\logs\\wandb\\run-20240214_220646-y3u7di10</code>"
      ],
      "text/plain": [
       "<IPython.core.display.HTML object>"
      ]
     },
     "metadata": {},
     "output_type": "display_data"
    },
    {
     "data": {
      "text/html": [
       "Syncing run <strong><a href='https://wandb.ai/totikos/model_fcnn_baseline_6_large_81k_search_108-hpo/runs/y3u7di10' target=\"_blank\">88_fcnn_baseline_6_large_81k_search_108_lr-0.001_hidden1-32_hidden2-32_dr-0.1</a></strong> to <a href='https://wandb.ai/totikos/model_fcnn_baseline_6_large_81k_search_108-hpo' target=\"_blank\">Weights & Biases</a> (<a href='https://wandb.me/run' target=\"_blank\">docs</a>)<br/>"
      ],
      "text/plain": [
       "<IPython.core.display.HTML object>"
      ]
     },
     "metadata": {},
     "output_type": "display_data"
    },
    {
     "data": {
      "text/html": [
       " View project at <a href='https://wandb.ai/totikos/model_fcnn_baseline_6_large_81k_search_108-hpo' target=\"_blank\">https://wandb.ai/totikos/model_fcnn_baseline_6_large_81k_search_108-hpo</a>"
      ],
      "text/plain": [
       "<IPython.core.display.HTML object>"
      ]
     },
     "metadata": {},
     "output_type": "display_data"
    },
    {
     "data": {
      "text/html": [
       " View run at <a href='https://wandb.ai/totikos/model_fcnn_baseline_6_large_81k_search_108-hpo/runs/y3u7di10' target=\"_blank\">https://wandb.ai/totikos/model_fcnn_baseline_6_large_81k_search_108-hpo/runs/y3u7di10</a>"
      ],
      "text/plain": [
       "<IPython.core.display.HTML object>"
      ]
     },
     "metadata": {},
     "output_type": "display_data"
    },
    {
     "name": "stderr",
     "output_type": "stream",
     "text": [
      "100%|███████████████████████████████████████| 899/899 [00:04<00:00, 213.49it/s]\n",
      "100%|█████████████████████████████████████████| 82/82 [00:00<00:00, 717.76it/s]\n",
      "[I 2024-02-14 22:06:58,411] Trial 88 pruned. \n"
     ]
    },
    {
     "name": "stdout",
     "output_type": "stream",
     "text": [
      "{'hidden_dim_1': 64, 'hidden_dim_2': 16, 'dropout_rate': 0}\n"
     ]
    },
    {
     "data": {
      "text/html": [
       "Finishing last run (ID:y3u7di10) before initializing another..."
      ],
      "text/plain": [
       "<IPython.core.display.HTML object>"
      ]
     },
     "metadata": {},
     "output_type": "display_data"
    },
    {
     "data": {
      "text/html": [
       "Waiting for W&B process to finish... <strong style=\"color:green\">(success).</strong>"
      ],
      "text/plain": [
       "<IPython.core.display.HTML object>"
      ]
     },
     "metadata": {},
     "output_type": "display_data"
    },
    {
     "data": {
      "text/html": [
       " View run <strong style=\"color:#cdcd00\">88_fcnn_baseline_6_large_81k_search_108_lr-0.001_hidden1-32_hidden2-32_dr-0.1</strong> at: <a href='https://wandb.ai/totikos/model_fcnn_baseline_6_large_81k_search_108-hpo/runs/y3u7di10' target=\"_blank\">https://wandb.ai/totikos/model_fcnn_baseline_6_large_81k_search_108-hpo/runs/y3u7di10</a><br/> View job at <a href='https://wandb.ai/totikos/model_fcnn_baseline_6_large_81k_search_108-hpo/jobs/QXJ0aWZhY3RDb2xsZWN0aW9uOjEzOTc4MjU0OA==/version_details/v1' target=\"_blank\">https://wandb.ai/totikos/model_fcnn_baseline_6_large_81k_search_108-hpo/jobs/QXJ0aWZhY3RDb2xsZWN0aW9uOjEzOTc4MjU0OA==/version_details/v1</a><br/>Synced 5 W&B file(s), 0 media file(s), 0 artifact file(s) and 0 other file(s)"
      ],
      "text/plain": [
       "<IPython.core.display.HTML object>"
      ]
     },
     "metadata": {},
     "output_type": "display_data"
    },
    {
     "data": {
      "text/html": [
       "Find logs at: <code>C:\\Users\\nekta\\OneDrive\\Desktop\\botanic-emotion-recognition\\logs\\wandb\\run-20240214_220646-y3u7di10\\logs</code>"
      ],
      "text/plain": [
       "<IPython.core.display.HTML object>"
      ]
     },
     "metadata": {},
     "output_type": "display_data"
    },
    {
     "data": {
      "text/html": [
       "Successfully finished last run (ID:y3u7di10). Initializing new run:<br/>"
      ],
      "text/plain": [
       "<IPython.core.display.HTML object>"
      ]
     },
     "metadata": {},
     "output_type": "display_data"
    },
    {
     "data": {
      "text/html": [
       "wandb version 0.16.3 is available!  To upgrade, please run:\n",
       " $ pip install wandb --upgrade"
      ],
      "text/plain": [
       "<IPython.core.display.HTML object>"
      ]
     },
     "metadata": {},
     "output_type": "display_data"
    },
    {
     "data": {
      "text/html": [
       "Tracking run with wandb version 0.15.12"
      ],
      "text/plain": [
       "<IPython.core.display.HTML object>"
      ]
     },
     "metadata": {},
     "output_type": "display_data"
    },
    {
     "data": {
      "text/html": [
       "Run data is saved locally in <code>C:\\Users\\nekta\\OneDrive\\Desktop\\botanic-emotion-recognition\\logs\\wandb\\run-20240214_220658-569dbfr1</code>"
      ],
      "text/plain": [
       "<IPython.core.display.HTML object>"
      ]
     },
     "metadata": {},
     "output_type": "display_data"
    },
    {
     "data": {
      "text/html": [
       "Syncing run <strong><a href='https://wandb.ai/totikos/model_fcnn_baseline_6_large_81k_search_108-hpo/runs/569dbfr1' target=\"_blank\">89_fcnn_baseline_6_large_81k_search_108_lr-0.001_hidden1-64_hidden2-16_dr-0</a></strong> to <a href='https://wandb.ai/totikos/model_fcnn_baseline_6_large_81k_search_108-hpo' target=\"_blank\">Weights & Biases</a> (<a href='https://wandb.me/run' target=\"_blank\">docs</a>)<br/>"
      ],
      "text/plain": [
       "<IPython.core.display.HTML object>"
      ]
     },
     "metadata": {},
     "output_type": "display_data"
    },
    {
     "data": {
      "text/html": [
       " View project at <a href='https://wandb.ai/totikos/model_fcnn_baseline_6_large_81k_search_108-hpo' target=\"_blank\">https://wandb.ai/totikos/model_fcnn_baseline_6_large_81k_search_108-hpo</a>"
      ],
      "text/plain": [
       "<IPython.core.display.HTML object>"
      ]
     },
     "metadata": {},
     "output_type": "display_data"
    },
    {
     "data": {
      "text/html": [
       " View run at <a href='https://wandb.ai/totikos/model_fcnn_baseline_6_large_81k_search_108-hpo/runs/569dbfr1' target=\"_blank\">https://wandb.ai/totikos/model_fcnn_baseline_6_large_81k_search_108-hpo/runs/569dbfr1</a>"
      ],
      "text/plain": [
       "<IPython.core.display.HTML object>"
      ]
     },
     "metadata": {},
     "output_type": "display_data"
    },
    {
     "name": "stderr",
     "output_type": "stream",
     "text": [
      "100%|███████████████████████████████████████| 899/899 [00:06<00:00, 147.14it/s]\n",
      "100%|█████████████████████████████████████████| 82/82 [00:00<00:00, 513.92it/s]\n",
      "[I 2024-02-14 22:07:11,973] Trial 89 pruned. \n"
     ]
    },
    {
     "name": "stdout",
     "output_type": "stream",
     "text": [
      "{'hidden_dim_1': 16, 'hidden_dim_2': 16, 'dropout_rate': 0.1}\n"
     ]
    },
    {
     "data": {
      "text/html": [
       "Finishing last run (ID:569dbfr1) before initializing another..."
      ],
      "text/plain": [
       "<IPython.core.display.HTML object>"
      ]
     },
     "metadata": {},
     "output_type": "display_data"
    },
    {
     "data": {
      "text/html": [
       "Waiting for W&B process to finish... <strong style=\"color:green\">(success).</strong>"
      ],
      "text/plain": [
       "<IPython.core.display.HTML object>"
      ]
     },
     "metadata": {},
     "output_type": "display_data"
    },
    {
     "data": {
      "text/html": [
       " View run <strong style=\"color:#cdcd00\">89_fcnn_baseline_6_large_81k_search_108_lr-0.001_hidden1-64_hidden2-16_dr-0</strong> at: <a href='https://wandb.ai/totikos/model_fcnn_baseline_6_large_81k_search_108-hpo/runs/569dbfr1' target=\"_blank\">https://wandb.ai/totikos/model_fcnn_baseline_6_large_81k_search_108-hpo/runs/569dbfr1</a><br/> View job at <a href='https://wandb.ai/totikos/model_fcnn_baseline_6_large_81k_search_108-hpo/jobs/QXJ0aWZhY3RDb2xsZWN0aW9uOjEzOTc4MjU0OA==/version_details/v1' target=\"_blank\">https://wandb.ai/totikos/model_fcnn_baseline_6_large_81k_search_108-hpo/jobs/QXJ0aWZhY3RDb2xsZWN0aW9uOjEzOTc4MjU0OA==/version_details/v1</a><br/>Synced 5 W&B file(s), 0 media file(s), 0 artifact file(s) and 0 other file(s)"
      ],
      "text/plain": [
       "<IPython.core.display.HTML object>"
      ]
     },
     "metadata": {},
     "output_type": "display_data"
    },
    {
     "data": {
      "text/html": [
       "Find logs at: <code>C:\\Users\\nekta\\OneDrive\\Desktop\\botanic-emotion-recognition\\logs\\wandb\\run-20240214_220658-569dbfr1\\logs</code>"
      ],
      "text/plain": [
       "<IPython.core.display.HTML object>"
      ]
     },
     "metadata": {},
     "output_type": "display_data"
    },
    {
     "data": {
      "text/html": [
       "Successfully finished last run (ID:569dbfr1). Initializing new run:<br/>"
      ],
      "text/plain": [
       "<IPython.core.display.HTML object>"
      ]
     },
     "metadata": {},
     "output_type": "display_data"
    },
    {
     "data": {
      "text/html": [
       "wandb version 0.16.3 is available!  To upgrade, please run:\n",
       " $ pip install wandb --upgrade"
      ],
      "text/plain": [
       "<IPython.core.display.HTML object>"
      ]
     },
     "metadata": {},
     "output_type": "display_data"
    },
    {
     "data": {
      "text/html": [
       "Tracking run with wandb version 0.15.12"
      ],
      "text/plain": [
       "<IPython.core.display.HTML object>"
      ]
     },
     "metadata": {},
     "output_type": "display_data"
    },
    {
     "data": {
      "text/html": [
       "Run data is saved locally in <code>C:\\Users\\nekta\\OneDrive\\Desktop\\botanic-emotion-recognition\\logs\\wandb\\run-20240214_220712-aylat7nz</code>"
      ],
      "text/plain": [
       "<IPython.core.display.HTML object>"
      ]
     },
     "metadata": {},
     "output_type": "display_data"
    },
    {
     "data": {
      "text/html": [
       "Syncing run <strong><a href='https://wandb.ai/totikos/model_fcnn_baseline_6_large_81k_search_108-hpo/runs/aylat7nz' target=\"_blank\">90_fcnn_baseline_6_large_81k_search_108_lr-0.001_hidden1-16_hidden2-16_dr-0.1</a></strong> to <a href='https://wandb.ai/totikos/model_fcnn_baseline_6_large_81k_search_108-hpo' target=\"_blank\">Weights & Biases</a> (<a href='https://wandb.me/run' target=\"_blank\">docs</a>)<br/>"
      ],
      "text/plain": [
       "<IPython.core.display.HTML object>"
      ]
     },
     "metadata": {},
     "output_type": "display_data"
    },
    {
     "data": {
      "text/html": [
       " View project at <a href='https://wandb.ai/totikos/model_fcnn_baseline_6_large_81k_search_108-hpo' target=\"_blank\">https://wandb.ai/totikos/model_fcnn_baseline_6_large_81k_search_108-hpo</a>"
      ],
      "text/plain": [
       "<IPython.core.display.HTML object>"
      ]
     },
     "metadata": {},
     "output_type": "display_data"
    },
    {
     "data": {
      "text/html": [
       " View run at <a href='https://wandb.ai/totikos/model_fcnn_baseline_6_large_81k_search_108-hpo/runs/aylat7nz' target=\"_blank\">https://wandb.ai/totikos/model_fcnn_baseline_6_large_81k_search_108-hpo/runs/aylat7nz</a>"
      ],
      "text/plain": [
       "<IPython.core.display.HTML object>"
      ]
     },
     "metadata": {},
     "output_type": "display_data"
    },
    {
     "name": "stderr",
     "output_type": "stream",
     "text": [
      "100%|███████████████████████████████████████| 899/899 [00:03<00:00, 295.12it/s]\n",
      "100%|█████████████████████████████████████████| 82/82 [00:00<00:00, 831.34it/s]\n",
      "100%|███████████████████████████████████████| 899/899 [00:02<00:00, 327.61it/s]\n",
      "100%|█████████████████████████████████████████| 82/82 [00:00<00:00, 622.46it/s]\n",
      "100%|███████████████████████████████████████| 899/899 [00:03<00:00, 282.66it/s]\n",
      "100%|█████████████████████████████████████████| 82/82 [00:00<00:00, 671.01it/s]\n",
      "100%|███████████████████████████████████████| 899/899 [00:03<00:00, 271.13it/s]\n",
      "100%|█████████████████████████████████████████| 82/82 [00:00<00:00, 650.85it/s]\n",
      "100%|███████████████████████████████████████| 899/899 [00:03<00:00, 276.52it/s]\n",
      "100%|█████████████████████████████████████████| 82/82 [00:00<00:00, 616.05it/s]\n",
      "100%|███████████████████████████████████████| 899/899 [00:03<00:00, 286.74it/s]\n",
      "100%|█████████████████████████████████████████| 82/82 [00:00<00:00, 597.16it/s]\n",
      "100%|███████████████████████████████████████| 899/899 [00:03<00:00, 280.06it/s]\n",
      "100%|█████████████████████████████████████████| 82/82 [00:00<00:00, 654.51it/s]\n",
      "100%|███████████████████████████████████████| 899/899 [00:03<00:00, 284.20it/s]\n",
      "100%|█████████████████████████████████████████| 82/82 [00:00<00:00, 629.04it/s]\n",
      "100%|███████████████████████████████████████| 899/899 [00:03<00:00, 284.71it/s]\n",
      "100%|█████████████████████████████████████████| 82/82 [00:00<00:00, 633.29it/s]\n",
      "100%|███████████████████████████████████████| 899/899 [00:03<00:00, 256.11it/s]\n",
      "100%|█████████████████████████████████████████| 82/82 [00:00<00:00, 596.79it/s]\n",
      "100%|███████████████████████████████████████| 899/899 [00:03<00:00, 248.57it/s]\n",
      "100%|█████████████████████████████████████████| 82/82 [00:00<00:00, 593.48it/s]\n",
      "100%|███████████████████████████████████████| 899/899 [00:03<00:00, 243.37it/s]\n",
      "100%|█████████████████████████████████████████| 82/82 [00:00<00:00, 614.70it/s]\n",
      "100%|███████████████████████████████████████| 899/899 [00:03<00:00, 265.23it/s]\n",
      "100%|█████████████████████████████████████████| 82/82 [00:00<00:00, 562.89it/s]\n",
      "100%|███████████████████████████████████████| 899/899 [00:03<00:00, 245.05it/s]\n",
      "100%|█████████████████████████████████████████| 82/82 [00:00<00:00, 443.69it/s]\n",
      "100%|███████████████████████████████████████| 899/899 [00:05<00:00, 175.07it/s]\n",
      "100%|█████████████████████████████████████████| 82/82 [00:00<00:00, 468.05it/s]\n",
      "100%|███████████████████████████████████████| 899/899 [00:04<00:00, 218.08it/s]\n",
      "100%|█████████████████████████████████████████| 82/82 [00:00<00:00, 491.88it/s]\n",
      "100%|███████████████████████████████████████| 899/899 [00:04<00:00, 204.20it/s]\n",
      "100%|█████████████████████████████████████████| 82/82 [00:00<00:00, 545.37it/s]\n",
      "100%|███████████████████████████████████████| 899/899 [00:03<00:00, 269.31it/s]\n",
      "100%|█████████████████████████████████████████| 82/82 [00:00<00:00, 627.57it/s]\n",
      "100%|███████████████████████████████████████| 899/899 [00:03<00:00, 276.93it/s]\n",
      "100%|█████████████████████████████████████████| 82/82 [00:00<00:00, 632.37it/s]\n",
      "100%|███████████████████████████████████████| 899/899 [00:03<00:00, 276.18it/s]\n",
      "100%|█████████████████████████████████████████| 82/82 [00:00<00:00, 644.37it/s]\n"
     ]
    },
    {
     "data": {
      "text/html": [
       "Waiting for W&B process to finish... <strong style=\"color:green\">(success).</strong>"
      ],
      "text/plain": [
       "<IPython.core.display.HTML object>"
      ]
     },
     "metadata": {},
     "output_type": "display_data"
    },
    {
     "data": {
      "text/html": [
       "<style>\n",
       "    table.wandb td:nth-child(1) { padding: 0 10px; text-align: left ; width: auto;} td:nth-child(2) {text-align: left ; width: 100%}\n",
       "    .wandb-row { display: flex; flex-direction: row; flex-wrap: wrap; justify-content: flex-start; width: 100% }\n",
       "    .wandb-col { display: flex; flex-direction: column; flex-basis: 100%; flex: 1; padding: 10px; }\n",
       "    </style>\n",
       "<div class=\"wandb-row\"><div class=\"wandb-col\"><h3>Run history:</h3><br/><table class=\"wandb\"><tr><td>accuracy</td><td>▃▂▃▁▃▅▂▄▄▄▃▅▄▅▂▂▇██▇</td></tr><tr><td>balanced_accuracy</td><td>█▅▇▁▄▆▅▇▇▆▅▆▄▄▁▄▆▇▆▅</td></tr><tr><td>f1_weighted</td><td>▁▃▂▁▅█▃▇▆▇▅█▇▇▄▂█▆▃▅</td></tr><tr><td>precision</td><td>▆▄▅▁▄▅▄▅▅▅▄▅▄▄▂▂▆█▅▆</td></tr><tr><td>recall</td><td>▃▂▃▁▃▅▂▄▄▄▃▅▄▅▂▂▇██▇</td></tr></table><br/></div><div class=\"wandb-col\"><h3>Run summary:</h3><br/><table class=\"wandb\"><tr><td>accuracy</td><td>0.30462</td></tr><tr><td>balanced_accuracy</td><td>0.16367</td></tr><tr><td>f1_weighted</td><td>0.17709</td></tr><tr><td>precision</td><td>0.16005</td></tr><tr><td>recall</td><td>0.30462</td></tr></table><br/></div></div>"
      ],
      "text/plain": [
       "<IPython.core.display.HTML object>"
      ]
     },
     "metadata": {},
     "output_type": "display_data"
    },
    {
     "data": {
      "text/html": [
       " View run <strong style=\"color:#cdcd00\">90_fcnn_baseline_6_large_81k_search_108_lr-0.001_hidden1-16_hidden2-16_dr-0.1</strong> at: <a href='https://wandb.ai/totikos/model_fcnn_baseline_6_large_81k_search_108-hpo/runs/aylat7nz' target=\"_blank\">https://wandb.ai/totikos/model_fcnn_baseline_6_large_81k_search_108-hpo/runs/aylat7nz</a><br/> View job at <a href='https://wandb.ai/totikos/model_fcnn_baseline_6_large_81k_search_108-hpo/jobs/QXJ0aWZhY3RDb2xsZWN0aW9uOjEzOTc4MjU0OA==/version_details/v2' target=\"_blank\">https://wandb.ai/totikos/model_fcnn_baseline_6_large_81k_search_108-hpo/jobs/QXJ0aWZhY3RDb2xsZWN0aW9uOjEzOTc4MjU0OA==/version_details/v2</a><br/>Synced 5 W&B file(s), 0 media file(s), 0 artifact file(s) and 0 other file(s)"
      ],
      "text/plain": [
       "<IPython.core.display.HTML object>"
      ]
     },
     "metadata": {},
     "output_type": "display_data"
    },
    {
     "data": {
      "text/html": [
       "Find logs at: <code>C:\\Users\\nekta\\OneDrive\\Desktop\\botanic-emotion-recognition\\logs\\wandb\\run-20240214_220712-aylat7nz\\logs</code>"
      ],
      "text/plain": [
       "<IPython.core.display.HTML object>"
      ]
     },
     "metadata": {},
     "output_type": "display_data"
    },
    {
     "name": "stderr",
     "output_type": "stream",
     "text": [
      "[I 2024-02-14 22:08:37,097] Trial 90 finished with value: 0.16367383512544803 and parameters: {'dropout_rate': 0.1, 'hidden_dim_1': 16, 'hidden_dim_2': 16, 'lr': 0.001}. Best is trial 6 with value: 0.17126425545780385.\n"
     ]
    },
    {
     "name": "stdout",
     "output_type": "stream",
     "text": [
      "{'hidden_dim_1': 128, 'hidden_dim_2': 32, 'dropout_rate': 0.2}\n"
     ]
    },
    {
     "data": {
      "text/html": [
       "wandb version 0.16.3 is available!  To upgrade, please run:\n",
       " $ pip install wandb --upgrade"
      ],
      "text/plain": [
       "<IPython.core.display.HTML object>"
      ]
     },
     "metadata": {},
     "output_type": "display_data"
    },
    {
     "data": {
      "text/html": [
       "Tracking run with wandb version 0.15.12"
      ],
      "text/plain": [
       "<IPython.core.display.HTML object>"
      ]
     },
     "metadata": {},
     "output_type": "display_data"
    },
    {
     "data": {
      "text/html": [
       "Run data is saved locally in <code>C:\\Users\\nekta\\OneDrive\\Desktop\\botanic-emotion-recognition\\logs\\wandb\\run-20240214_220837-wszv6kn8</code>"
      ],
      "text/plain": [
       "<IPython.core.display.HTML object>"
      ]
     },
     "metadata": {},
     "output_type": "display_data"
    },
    {
     "data": {
      "text/html": [
       "Syncing run <strong><a href='https://wandb.ai/totikos/model_fcnn_baseline_6_large_81k_search_108-hpo/runs/wszv6kn8' target=\"_blank\">91_fcnn_baseline_6_large_81k_search_108_lr-0.01_hidden1-128_hidden2-32_dr-0.2</a></strong> to <a href='https://wandb.ai/totikos/model_fcnn_baseline_6_large_81k_search_108-hpo' target=\"_blank\">Weights & Biases</a> (<a href='https://wandb.me/run' target=\"_blank\">docs</a>)<br/>"
      ],
      "text/plain": [
       "<IPython.core.display.HTML object>"
      ]
     },
     "metadata": {},
     "output_type": "display_data"
    },
    {
     "data": {
      "text/html": [
       " View project at <a href='https://wandb.ai/totikos/model_fcnn_baseline_6_large_81k_search_108-hpo' target=\"_blank\">https://wandb.ai/totikos/model_fcnn_baseline_6_large_81k_search_108-hpo</a>"
      ],
      "text/plain": [
       "<IPython.core.display.HTML object>"
      ]
     },
     "metadata": {},
     "output_type": "display_data"
    },
    {
     "data": {
      "text/html": [
       " View run at <a href='https://wandb.ai/totikos/model_fcnn_baseline_6_large_81k_search_108-hpo/runs/wszv6kn8' target=\"_blank\">https://wandb.ai/totikos/model_fcnn_baseline_6_large_81k_search_108-hpo/runs/wszv6kn8</a>"
      ],
      "text/plain": [
       "<IPython.core.display.HTML object>"
      ]
     },
     "metadata": {},
     "output_type": "display_data"
    },
    {
     "name": "stderr",
     "output_type": "stream",
     "text": [
      "100%|████████████████████████████████████████| 899/899 [00:11<00:00, 75.71it/s]\n",
      "100%|█████████████████████████████████████████| 82/82 [00:00<00:00, 420.31it/s]\n",
      "[I 2024-02-14 22:08:50,832] Trial 91 pruned. \n"
     ]
    },
    {
     "name": "stdout",
     "output_type": "stream",
     "text": [
      "{'hidden_dim_1': 32, 'hidden_dim_2': 64, 'dropout_rate': 0.1}\n"
     ]
    },
    {
     "data": {
      "text/html": [
       "Finishing last run (ID:wszv6kn8) before initializing another..."
      ],
      "text/plain": [
       "<IPython.core.display.HTML object>"
      ]
     },
     "metadata": {},
     "output_type": "display_data"
    },
    {
     "data": {
      "text/html": [
       "Waiting for W&B process to finish... <strong style=\"color:green\">(success).</strong>"
      ],
      "text/plain": [
       "<IPython.core.display.HTML object>"
      ]
     },
     "metadata": {},
     "output_type": "display_data"
    },
    {
     "data": {
      "text/html": [
       " View run <strong style=\"color:#cdcd00\">91_fcnn_baseline_6_large_81k_search_108_lr-0.01_hidden1-128_hidden2-32_dr-0.2</strong> at: <a href='https://wandb.ai/totikos/model_fcnn_baseline_6_large_81k_search_108-hpo/runs/wszv6kn8' target=\"_blank\">https://wandb.ai/totikos/model_fcnn_baseline_6_large_81k_search_108-hpo/runs/wszv6kn8</a><br/> View job at <a href='https://wandb.ai/totikos/model_fcnn_baseline_6_large_81k_search_108-hpo/jobs/QXJ0aWZhY3RDb2xsZWN0aW9uOjEzOTc4MjU0OA==/version_details/v1' target=\"_blank\">https://wandb.ai/totikos/model_fcnn_baseline_6_large_81k_search_108-hpo/jobs/QXJ0aWZhY3RDb2xsZWN0aW9uOjEzOTc4MjU0OA==/version_details/v1</a><br/>Synced 5 W&B file(s), 0 media file(s), 0 artifact file(s) and 0 other file(s)"
      ],
      "text/plain": [
       "<IPython.core.display.HTML object>"
      ]
     },
     "metadata": {},
     "output_type": "display_data"
    },
    {
     "data": {
      "text/html": [
       "Find logs at: <code>C:\\Users\\nekta\\OneDrive\\Desktop\\botanic-emotion-recognition\\logs\\wandb\\run-20240214_220837-wszv6kn8\\logs</code>"
      ],
      "text/plain": [
       "<IPython.core.display.HTML object>"
      ]
     },
     "metadata": {},
     "output_type": "display_data"
    },
    {
     "data": {
      "text/html": [
       "Successfully finished last run (ID:wszv6kn8). Initializing new run:<br/>"
      ],
      "text/plain": [
       "<IPython.core.display.HTML object>"
      ]
     },
     "metadata": {},
     "output_type": "display_data"
    },
    {
     "data": {
      "text/html": [
       "wandb version 0.16.3 is available!  To upgrade, please run:\n",
       " $ pip install wandb --upgrade"
      ],
      "text/plain": [
       "<IPython.core.display.HTML object>"
      ]
     },
     "metadata": {},
     "output_type": "display_data"
    },
    {
     "data": {
      "text/html": [
       "Tracking run with wandb version 0.15.12"
      ],
      "text/plain": [
       "<IPython.core.display.HTML object>"
      ]
     },
     "metadata": {},
     "output_type": "display_data"
    },
    {
     "data": {
      "text/html": [
       "Run data is saved locally in <code>C:\\Users\\nekta\\OneDrive\\Desktop\\botanic-emotion-recognition\\logs\\wandb\\run-20240214_220850-h4a4upmk</code>"
      ],
      "text/plain": [
       "<IPython.core.display.HTML object>"
      ]
     },
     "metadata": {},
     "output_type": "display_data"
    },
    {
     "data": {
      "text/html": [
       "Syncing run <strong><a href='https://wandb.ai/totikos/model_fcnn_baseline_6_large_81k_search_108-hpo/runs/h4a4upmk' target=\"_blank\">92_fcnn_baseline_6_large_81k_search_108_lr-0.001_hidden1-32_hidden2-64_dr-0.1</a></strong> to <a href='https://wandb.ai/totikos/model_fcnn_baseline_6_large_81k_search_108-hpo' target=\"_blank\">Weights & Biases</a> (<a href='https://wandb.me/run' target=\"_blank\">docs</a>)<br/>"
      ],
      "text/plain": [
       "<IPython.core.display.HTML object>"
      ]
     },
     "metadata": {},
     "output_type": "display_data"
    },
    {
     "data": {
      "text/html": [
       " View project at <a href='https://wandb.ai/totikos/model_fcnn_baseline_6_large_81k_search_108-hpo' target=\"_blank\">https://wandb.ai/totikos/model_fcnn_baseline_6_large_81k_search_108-hpo</a>"
      ],
      "text/plain": [
       "<IPython.core.display.HTML object>"
      ]
     },
     "metadata": {},
     "output_type": "display_data"
    },
    {
     "data": {
      "text/html": [
       " View run at <a href='https://wandb.ai/totikos/model_fcnn_baseline_6_large_81k_search_108-hpo/runs/h4a4upmk' target=\"_blank\">https://wandb.ai/totikos/model_fcnn_baseline_6_large_81k_search_108-hpo/runs/h4a4upmk</a>"
      ],
      "text/plain": [
       "<IPython.core.display.HTML object>"
      ]
     },
     "metadata": {},
     "output_type": "display_data"
    },
    {
     "name": "stderr",
     "output_type": "stream",
     "text": [
      "100%|███████████████████████████████████████| 899/899 [00:04<00:00, 214.35it/s]\n",
      "100%|█████████████████████████████████████████| 82/82 [00:00<00:00, 715.28it/s]\n",
      "[I 2024-02-14 22:09:04,629] Trial 92 pruned. \n"
     ]
    },
    {
     "name": "stdout",
     "output_type": "stream",
     "text": [
      "{'hidden_dim_1': 32, 'hidden_dim_2': 32, 'dropout_rate': 0.2}\n"
     ]
    },
    {
     "data": {
      "text/html": [
       "Finishing last run (ID:h4a4upmk) before initializing another..."
      ],
      "text/plain": [
       "<IPython.core.display.HTML object>"
      ]
     },
     "metadata": {},
     "output_type": "display_data"
    },
    {
     "data": {
      "text/html": [
       "Waiting for W&B process to finish... <strong style=\"color:green\">(success).</strong>"
      ],
      "text/plain": [
       "<IPython.core.display.HTML object>"
      ]
     },
     "metadata": {},
     "output_type": "display_data"
    },
    {
     "data": {
      "text/html": [
       " View run <strong style=\"color:#cdcd00\">92_fcnn_baseline_6_large_81k_search_108_lr-0.001_hidden1-32_hidden2-64_dr-0.1</strong> at: <a href='https://wandb.ai/totikos/model_fcnn_baseline_6_large_81k_search_108-hpo/runs/h4a4upmk' target=\"_blank\">https://wandb.ai/totikos/model_fcnn_baseline_6_large_81k_search_108-hpo/runs/h4a4upmk</a><br/> View job at <a href='https://wandb.ai/totikos/model_fcnn_baseline_6_large_81k_search_108-hpo/jobs/QXJ0aWZhY3RDb2xsZWN0aW9uOjEzOTc4MjU0OA==/version_details/v1' target=\"_blank\">https://wandb.ai/totikos/model_fcnn_baseline_6_large_81k_search_108-hpo/jobs/QXJ0aWZhY3RDb2xsZWN0aW9uOjEzOTc4MjU0OA==/version_details/v1</a><br/>Synced 5 W&B file(s), 0 media file(s), 0 artifact file(s) and 0 other file(s)"
      ],
      "text/plain": [
       "<IPython.core.display.HTML object>"
      ]
     },
     "metadata": {},
     "output_type": "display_data"
    },
    {
     "data": {
      "text/html": [
       "Find logs at: <code>C:\\Users\\nekta\\OneDrive\\Desktop\\botanic-emotion-recognition\\logs\\wandb\\run-20240214_220850-h4a4upmk\\logs</code>"
      ],
      "text/plain": [
       "<IPython.core.display.HTML object>"
      ]
     },
     "metadata": {},
     "output_type": "display_data"
    },
    {
     "data": {
      "text/html": [
       "Successfully finished last run (ID:h4a4upmk). Initializing new run:<br/>"
      ],
      "text/plain": [
       "<IPython.core.display.HTML object>"
      ]
     },
     "metadata": {},
     "output_type": "display_data"
    },
    {
     "data": {
      "text/html": [
       "wandb version 0.16.3 is available!  To upgrade, please run:\n",
       " $ pip install wandb --upgrade"
      ],
      "text/plain": [
       "<IPython.core.display.HTML object>"
      ]
     },
     "metadata": {},
     "output_type": "display_data"
    },
    {
     "data": {
      "text/html": [
       "Tracking run with wandb version 0.15.12"
      ],
      "text/plain": [
       "<IPython.core.display.HTML object>"
      ]
     },
     "metadata": {},
     "output_type": "display_data"
    },
    {
     "data": {
      "text/html": [
       "Run data is saved locally in <code>C:\\Users\\nekta\\OneDrive\\Desktop\\botanic-emotion-recognition\\logs\\wandb\\run-20240214_220904-yrcy726q</code>"
      ],
      "text/plain": [
       "<IPython.core.display.HTML object>"
      ]
     },
     "metadata": {},
     "output_type": "display_data"
    },
    {
     "data": {
      "text/html": [
       "Syncing run <strong><a href='https://wandb.ai/totikos/model_fcnn_baseline_6_large_81k_search_108-hpo/runs/yrcy726q' target=\"_blank\">93_fcnn_baseline_6_large_81k_search_108_lr-0.0001_hidden1-32_hidden2-32_dr-0.2</a></strong> to <a href='https://wandb.ai/totikos/model_fcnn_baseline_6_large_81k_search_108-hpo' target=\"_blank\">Weights & Biases</a> (<a href='https://wandb.me/run' target=\"_blank\">docs</a>)<br/>"
      ],
      "text/plain": [
       "<IPython.core.display.HTML object>"
      ]
     },
     "metadata": {},
     "output_type": "display_data"
    },
    {
     "data": {
      "text/html": [
       " View project at <a href='https://wandb.ai/totikos/model_fcnn_baseline_6_large_81k_search_108-hpo' target=\"_blank\">https://wandb.ai/totikos/model_fcnn_baseline_6_large_81k_search_108-hpo</a>"
      ],
      "text/plain": [
       "<IPython.core.display.HTML object>"
      ]
     },
     "metadata": {},
     "output_type": "display_data"
    },
    {
     "data": {
      "text/html": [
       " View run at <a href='https://wandb.ai/totikos/model_fcnn_baseline_6_large_81k_search_108-hpo/runs/yrcy726q' target=\"_blank\">https://wandb.ai/totikos/model_fcnn_baseline_6_large_81k_search_108-hpo/runs/yrcy726q</a>"
      ],
      "text/plain": [
       "<IPython.core.display.HTML object>"
      ]
     },
     "metadata": {},
     "output_type": "display_data"
    },
    {
     "name": "stderr",
     "output_type": "stream",
     "text": [
      "100%|███████████████████████████████████████| 899/899 [00:05<00:00, 155.64it/s]\n",
      "100%|█████████████████████████████████████████| 82/82 [00:00<00:00, 504.72it/s]\n",
      "[I 2024-02-14 22:09:18,080] Trial 93 pruned. \n"
     ]
    },
    {
     "name": "stdout",
     "output_type": "stream",
     "text": [
      "{'hidden_dim_1': 32, 'hidden_dim_2': 64, 'dropout_rate': 0.2}\n"
     ]
    },
    {
     "data": {
      "text/html": [
       "Finishing last run (ID:yrcy726q) before initializing another..."
      ],
      "text/plain": [
       "<IPython.core.display.HTML object>"
      ]
     },
     "metadata": {},
     "output_type": "display_data"
    },
    {
     "data": {
      "text/html": [
       "Waiting for W&B process to finish... <strong style=\"color:green\">(success).</strong>"
      ],
      "text/plain": [
       "<IPython.core.display.HTML object>"
      ]
     },
     "metadata": {},
     "output_type": "display_data"
    },
    {
     "data": {
      "text/html": [
       " View run <strong style=\"color:#cdcd00\">93_fcnn_baseline_6_large_81k_search_108_lr-0.0001_hidden1-32_hidden2-32_dr-0.2</strong> at: <a href='https://wandb.ai/totikos/model_fcnn_baseline_6_large_81k_search_108-hpo/runs/yrcy726q' target=\"_blank\">https://wandb.ai/totikos/model_fcnn_baseline_6_large_81k_search_108-hpo/runs/yrcy726q</a><br/> View job at <a href='https://wandb.ai/totikos/model_fcnn_baseline_6_large_81k_search_108-hpo/jobs/QXJ0aWZhY3RDb2xsZWN0aW9uOjEzOTc4MjU0OA==/version_details/v1' target=\"_blank\">https://wandb.ai/totikos/model_fcnn_baseline_6_large_81k_search_108-hpo/jobs/QXJ0aWZhY3RDb2xsZWN0aW9uOjEzOTc4MjU0OA==/version_details/v1</a><br/>Synced 5 W&B file(s), 0 media file(s), 0 artifact file(s) and 0 other file(s)"
      ],
      "text/plain": [
       "<IPython.core.display.HTML object>"
      ]
     },
     "metadata": {},
     "output_type": "display_data"
    },
    {
     "data": {
      "text/html": [
       "Find logs at: <code>C:\\Users\\nekta\\OneDrive\\Desktop\\botanic-emotion-recognition\\logs\\wandb\\run-20240214_220904-yrcy726q\\logs</code>"
      ],
      "text/plain": [
       "<IPython.core.display.HTML object>"
      ]
     },
     "metadata": {},
     "output_type": "display_data"
    },
    {
     "data": {
      "text/html": [
       "Successfully finished last run (ID:yrcy726q). Initializing new run:<br/>"
      ],
      "text/plain": [
       "<IPython.core.display.HTML object>"
      ]
     },
     "metadata": {},
     "output_type": "display_data"
    },
    {
     "data": {
      "text/html": [
       "wandb version 0.16.3 is available!  To upgrade, please run:\n",
       " $ pip install wandb --upgrade"
      ],
      "text/plain": [
       "<IPython.core.display.HTML object>"
      ]
     },
     "metadata": {},
     "output_type": "display_data"
    },
    {
     "data": {
      "text/html": [
       "Tracking run with wandb version 0.15.12"
      ],
      "text/plain": [
       "<IPython.core.display.HTML object>"
      ]
     },
     "metadata": {},
     "output_type": "display_data"
    },
    {
     "data": {
      "text/html": [
       "Run data is saved locally in <code>C:\\Users\\nekta\\OneDrive\\Desktop\\botanic-emotion-recognition\\logs\\wandb\\run-20240214_220918-ixx8vlof</code>"
      ],
      "text/plain": [
       "<IPython.core.display.HTML object>"
      ]
     },
     "metadata": {},
     "output_type": "display_data"
    },
    {
     "data": {
      "text/html": [
       "Syncing run <strong><a href='https://wandb.ai/totikos/model_fcnn_baseline_6_large_81k_search_108-hpo/runs/ixx8vlof' target=\"_blank\">94_fcnn_baseline_6_large_81k_search_108_lr-0.01_hidden1-32_hidden2-64_dr-0.2</a></strong> to <a href='https://wandb.ai/totikos/model_fcnn_baseline_6_large_81k_search_108-hpo' target=\"_blank\">Weights & Biases</a> (<a href='https://wandb.me/run' target=\"_blank\">docs</a>)<br/>"
      ],
      "text/plain": [
       "<IPython.core.display.HTML object>"
      ]
     },
     "metadata": {},
     "output_type": "display_data"
    },
    {
     "data": {
      "text/html": [
       " View project at <a href='https://wandb.ai/totikos/model_fcnn_baseline_6_large_81k_search_108-hpo' target=\"_blank\">https://wandb.ai/totikos/model_fcnn_baseline_6_large_81k_search_108-hpo</a>"
      ],
      "text/plain": [
       "<IPython.core.display.HTML object>"
      ]
     },
     "metadata": {},
     "output_type": "display_data"
    },
    {
     "data": {
      "text/html": [
       " View run at <a href='https://wandb.ai/totikos/model_fcnn_baseline_6_large_81k_search_108-hpo/runs/ixx8vlof' target=\"_blank\">https://wandb.ai/totikos/model_fcnn_baseline_6_large_81k_search_108-hpo/runs/ixx8vlof</a>"
      ],
      "text/plain": [
       "<IPython.core.display.HTML object>"
      ]
     },
     "metadata": {},
     "output_type": "display_data"
    },
    {
     "name": "stderr",
     "output_type": "stream",
     "text": [
      "100%|███████████████████████████████████████| 899/899 [00:05<00:00, 160.44it/s]\n",
      "100%|█████████████████████████████████████████| 82/82 [00:00<00:00, 572.36it/s]\n",
      "[I 2024-02-14 22:09:33,600] Trial 94 pruned. \n"
     ]
    },
    {
     "name": "stdout",
     "output_type": "stream",
     "text": [
      "{'hidden_dim_1': 64, 'hidden_dim_2': 16, 'dropout_rate': 0.1}\n"
     ]
    },
    {
     "data": {
      "text/html": [
       "Finishing last run (ID:ixx8vlof) before initializing another..."
      ],
      "text/plain": [
       "<IPython.core.display.HTML object>"
      ]
     },
     "metadata": {},
     "output_type": "display_data"
    },
    {
     "data": {
      "text/html": [
       "Waiting for W&B process to finish... <strong style=\"color:green\">(success).</strong>"
      ],
      "text/plain": [
       "<IPython.core.display.HTML object>"
      ]
     },
     "metadata": {},
     "output_type": "display_data"
    },
    {
     "data": {
      "text/html": [
       " View run <strong style=\"color:#cdcd00\">94_fcnn_baseline_6_large_81k_search_108_lr-0.01_hidden1-32_hidden2-64_dr-0.2</strong> at: <a href='https://wandb.ai/totikos/model_fcnn_baseline_6_large_81k_search_108-hpo/runs/ixx8vlof' target=\"_blank\">https://wandb.ai/totikos/model_fcnn_baseline_6_large_81k_search_108-hpo/runs/ixx8vlof</a><br/> View job at <a href='https://wandb.ai/totikos/model_fcnn_baseline_6_large_81k_search_108-hpo/jobs/QXJ0aWZhY3RDb2xsZWN0aW9uOjEzOTc4MjU0OA==/version_details/v1' target=\"_blank\">https://wandb.ai/totikos/model_fcnn_baseline_6_large_81k_search_108-hpo/jobs/QXJ0aWZhY3RDb2xsZWN0aW9uOjEzOTc4MjU0OA==/version_details/v1</a><br/>Synced 5 W&B file(s), 0 media file(s), 0 artifact file(s) and 0 other file(s)"
      ],
      "text/plain": [
       "<IPython.core.display.HTML object>"
      ]
     },
     "metadata": {},
     "output_type": "display_data"
    },
    {
     "data": {
      "text/html": [
       "Find logs at: <code>C:\\Users\\nekta\\OneDrive\\Desktop\\botanic-emotion-recognition\\logs\\wandb\\run-20240214_220918-ixx8vlof\\logs</code>"
      ],
      "text/plain": [
       "<IPython.core.display.HTML object>"
      ]
     },
     "metadata": {},
     "output_type": "display_data"
    },
    {
     "data": {
      "text/html": [
       "Successfully finished last run (ID:ixx8vlof). Initializing new run:<br/>"
      ],
      "text/plain": [
       "<IPython.core.display.HTML object>"
      ]
     },
     "metadata": {},
     "output_type": "display_data"
    },
    {
     "data": {
      "text/html": [
       "wandb version 0.16.3 is available!  To upgrade, please run:\n",
       " $ pip install wandb --upgrade"
      ],
      "text/plain": [
       "<IPython.core.display.HTML object>"
      ]
     },
     "metadata": {},
     "output_type": "display_data"
    },
    {
     "data": {
      "text/html": [
       "Tracking run with wandb version 0.15.12"
      ],
      "text/plain": [
       "<IPython.core.display.HTML object>"
      ]
     },
     "metadata": {},
     "output_type": "display_data"
    },
    {
     "data": {
      "text/html": [
       "Run data is saved locally in <code>C:\\Users\\nekta\\OneDrive\\Desktop\\botanic-emotion-recognition\\logs\\wandb\\run-20240214_220933-zxujkgv5</code>"
      ],
      "text/plain": [
       "<IPython.core.display.HTML object>"
      ]
     },
     "metadata": {},
     "output_type": "display_data"
    },
    {
     "data": {
      "text/html": [
       "Syncing run <strong><a href='https://wandb.ai/totikos/model_fcnn_baseline_6_large_81k_search_108-hpo/runs/zxujkgv5' target=\"_blank\">95_fcnn_baseline_6_large_81k_search_108_lr-0.0001_hidden1-64_hidden2-16_dr-0.1</a></strong> to <a href='https://wandb.ai/totikos/model_fcnn_baseline_6_large_81k_search_108-hpo' target=\"_blank\">Weights & Biases</a> (<a href='https://wandb.me/run' target=\"_blank\">docs</a>)<br/>"
      ],
      "text/plain": [
       "<IPython.core.display.HTML object>"
      ]
     },
     "metadata": {},
     "output_type": "display_data"
    },
    {
     "data": {
      "text/html": [
       " View project at <a href='https://wandb.ai/totikos/model_fcnn_baseline_6_large_81k_search_108-hpo' target=\"_blank\">https://wandb.ai/totikos/model_fcnn_baseline_6_large_81k_search_108-hpo</a>"
      ],
      "text/plain": [
       "<IPython.core.display.HTML object>"
      ]
     },
     "metadata": {},
     "output_type": "display_data"
    },
    {
     "data": {
      "text/html": [
       " View run at <a href='https://wandb.ai/totikos/model_fcnn_baseline_6_large_81k_search_108-hpo/runs/zxujkgv5' target=\"_blank\">https://wandb.ai/totikos/model_fcnn_baseline_6_large_81k_search_108-hpo/runs/zxujkgv5</a>"
      ],
      "text/plain": [
       "<IPython.core.display.HTML object>"
      ]
     },
     "metadata": {},
     "output_type": "display_data"
    },
    {
     "name": "stderr",
     "output_type": "stream",
     "text": [
      "100%|███████████████████████████████████████| 899/899 [00:08<00:00, 111.29it/s]\n",
      "100%|█████████████████████████████████████████| 82/82 [00:00<00:00, 518.50it/s]\n",
      "[I 2024-02-14 22:09:52,103] Trial 95 pruned. \n"
     ]
    },
    {
     "name": "stdout",
     "output_type": "stream",
     "text": [
      "{'hidden_dim_1': 128, 'hidden_dim_2': 16, 'dropout_rate': 0.2}\n"
     ]
    },
    {
     "data": {
      "text/html": [
       "Finishing last run (ID:zxujkgv5) before initializing another..."
      ],
      "text/plain": [
       "<IPython.core.display.HTML object>"
      ]
     },
     "metadata": {},
     "output_type": "display_data"
    },
    {
     "data": {
      "text/html": [
       "Waiting for W&B process to finish... <strong style=\"color:green\">(success).</strong>"
      ],
      "text/plain": [
       "<IPython.core.display.HTML object>"
      ]
     },
     "metadata": {},
     "output_type": "display_data"
    },
    {
     "data": {
      "text/html": [
       " View run <strong style=\"color:#cdcd00\">95_fcnn_baseline_6_large_81k_search_108_lr-0.0001_hidden1-64_hidden2-16_dr-0.1</strong> at: <a href='https://wandb.ai/totikos/model_fcnn_baseline_6_large_81k_search_108-hpo/runs/zxujkgv5' target=\"_blank\">https://wandb.ai/totikos/model_fcnn_baseline_6_large_81k_search_108-hpo/runs/zxujkgv5</a><br/> View job at <a href='https://wandb.ai/totikos/model_fcnn_baseline_6_large_81k_search_108-hpo/jobs/QXJ0aWZhY3RDb2xsZWN0aW9uOjEzOTc4MjU0OA==/version_details/v1' target=\"_blank\">https://wandb.ai/totikos/model_fcnn_baseline_6_large_81k_search_108-hpo/jobs/QXJ0aWZhY3RDb2xsZWN0aW9uOjEzOTc4MjU0OA==/version_details/v1</a><br/>Synced 5 W&B file(s), 0 media file(s), 0 artifact file(s) and 0 other file(s)"
      ],
      "text/plain": [
       "<IPython.core.display.HTML object>"
      ]
     },
     "metadata": {},
     "output_type": "display_data"
    },
    {
     "data": {
      "text/html": [
       "Find logs at: <code>C:\\Users\\nekta\\OneDrive\\Desktop\\botanic-emotion-recognition\\logs\\wandb\\run-20240214_220933-zxujkgv5\\logs</code>"
      ],
      "text/plain": [
       "<IPython.core.display.HTML object>"
      ]
     },
     "metadata": {},
     "output_type": "display_data"
    },
    {
     "data": {
      "text/html": [
       "Successfully finished last run (ID:zxujkgv5). Initializing new run:<br/>"
      ],
      "text/plain": [
       "<IPython.core.display.HTML object>"
      ]
     },
     "metadata": {},
     "output_type": "display_data"
    },
    {
     "data": {
      "text/html": [
       "wandb version 0.16.3 is available!  To upgrade, please run:\n",
       " $ pip install wandb --upgrade"
      ],
      "text/plain": [
       "<IPython.core.display.HTML object>"
      ]
     },
     "metadata": {},
     "output_type": "display_data"
    },
    {
     "data": {
      "text/html": [
       "Tracking run with wandb version 0.15.12"
      ],
      "text/plain": [
       "<IPython.core.display.HTML object>"
      ]
     },
     "metadata": {},
     "output_type": "display_data"
    },
    {
     "data": {
      "text/html": [
       "Run data is saved locally in <code>C:\\Users\\nekta\\OneDrive\\Desktop\\botanic-emotion-recognition\\logs\\wandb\\run-20240214_220952-6pvbw7gw</code>"
      ],
      "text/plain": [
       "<IPython.core.display.HTML object>"
      ]
     },
     "metadata": {},
     "output_type": "display_data"
    },
    {
     "data": {
      "text/html": [
       "Syncing run <strong><a href='https://wandb.ai/totikos/model_fcnn_baseline_6_large_81k_search_108-hpo/runs/6pvbw7gw' target=\"_blank\">96_fcnn_baseline_6_large_81k_search_108_lr-0.0001_hidden1-128_hidden2-16_dr-0.2</a></strong> to <a href='https://wandb.ai/totikos/model_fcnn_baseline_6_large_81k_search_108-hpo' target=\"_blank\">Weights & Biases</a> (<a href='https://wandb.me/run' target=\"_blank\">docs</a>)<br/>"
      ],
      "text/plain": [
       "<IPython.core.display.HTML object>"
      ]
     },
     "metadata": {},
     "output_type": "display_data"
    },
    {
     "data": {
      "text/html": [
       " View project at <a href='https://wandb.ai/totikos/model_fcnn_baseline_6_large_81k_search_108-hpo' target=\"_blank\">https://wandb.ai/totikos/model_fcnn_baseline_6_large_81k_search_108-hpo</a>"
      ],
      "text/plain": [
       "<IPython.core.display.HTML object>"
      ]
     },
     "metadata": {},
     "output_type": "display_data"
    },
    {
     "data": {
      "text/html": [
       " View run at <a href='https://wandb.ai/totikos/model_fcnn_baseline_6_large_81k_search_108-hpo/runs/6pvbw7gw' target=\"_blank\">https://wandb.ai/totikos/model_fcnn_baseline_6_large_81k_search_108-hpo/runs/6pvbw7gw</a>"
      ],
      "text/plain": [
       "<IPython.core.display.HTML object>"
      ]
     },
     "metadata": {},
     "output_type": "display_data"
    },
    {
     "name": "stderr",
     "output_type": "stream",
     "text": [
      "100%|████████████████████████████████████████| 899/899 [00:11<00:00, 78.58it/s]\n",
      "100%|█████████████████████████████████████████| 82/82 [00:00<00:00, 455.12it/s]\n",
      "[I 2024-02-14 22:10:11,059] Trial 96 pruned. \n"
     ]
    },
    {
     "name": "stdout",
     "output_type": "stream",
     "text": [
      "{'hidden_dim_1': 128, 'hidden_dim_2': 64, 'dropout_rate': 0}\n"
     ]
    },
    {
     "data": {
      "text/html": [
       "Finishing last run (ID:6pvbw7gw) before initializing another..."
      ],
      "text/plain": [
       "<IPython.core.display.HTML object>"
      ]
     },
     "metadata": {},
     "output_type": "display_data"
    },
    {
     "data": {
      "text/html": [
       "Waiting for W&B process to finish... <strong style=\"color:green\">(success).</strong>"
      ],
      "text/plain": [
       "<IPython.core.display.HTML object>"
      ]
     },
     "metadata": {},
     "output_type": "display_data"
    },
    {
     "data": {
      "text/html": [
       " View run <strong style=\"color:#cdcd00\">96_fcnn_baseline_6_large_81k_search_108_lr-0.0001_hidden1-128_hidden2-16_dr-0.2</strong> at: <a href='https://wandb.ai/totikos/model_fcnn_baseline_6_large_81k_search_108-hpo/runs/6pvbw7gw' target=\"_blank\">https://wandb.ai/totikos/model_fcnn_baseline_6_large_81k_search_108-hpo/runs/6pvbw7gw</a><br/> View job at <a href='https://wandb.ai/totikos/model_fcnn_baseline_6_large_81k_search_108-hpo/jobs/QXJ0aWZhY3RDb2xsZWN0aW9uOjEzOTc4MjU0OA==/version_details/v1' target=\"_blank\">https://wandb.ai/totikos/model_fcnn_baseline_6_large_81k_search_108-hpo/jobs/QXJ0aWZhY3RDb2xsZWN0aW9uOjEzOTc4MjU0OA==/version_details/v1</a><br/>Synced 5 W&B file(s), 0 media file(s), 0 artifact file(s) and 0 other file(s)"
      ],
      "text/plain": [
       "<IPython.core.display.HTML object>"
      ]
     },
     "metadata": {},
     "output_type": "display_data"
    },
    {
     "data": {
      "text/html": [
       "Find logs at: <code>C:\\Users\\nekta\\OneDrive\\Desktop\\botanic-emotion-recognition\\logs\\wandb\\run-20240214_220952-6pvbw7gw\\logs</code>"
      ],
      "text/plain": [
       "<IPython.core.display.HTML object>"
      ]
     },
     "metadata": {},
     "output_type": "display_data"
    },
    {
     "data": {
      "text/html": [
       "Successfully finished last run (ID:6pvbw7gw). Initializing new run:<br/>"
      ],
      "text/plain": [
       "<IPython.core.display.HTML object>"
      ]
     },
     "metadata": {},
     "output_type": "display_data"
    },
    {
     "data": {
      "text/html": [
       "wandb version 0.16.3 is available!  To upgrade, please run:\n",
       " $ pip install wandb --upgrade"
      ],
      "text/plain": [
       "<IPython.core.display.HTML object>"
      ]
     },
     "metadata": {},
     "output_type": "display_data"
    },
    {
     "data": {
      "text/html": [
       "Tracking run with wandb version 0.15.12"
      ],
      "text/plain": [
       "<IPython.core.display.HTML object>"
      ]
     },
     "metadata": {},
     "output_type": "display_data"
    },
    {
     "data": {
      "text/html": [
       "Run data is saved locally in <code>C:\\Users\\nekta\\OneDrive\\Desktop\\botanic-emotion-recognition\\logs\\wandb\\run-20240214_221011-m2h51tmp</code>"
      ],
      "text/plain": [
       "<IPython.core.display.HTML object>"
      ]
     },
     "metadata": {},
     "output_type": "display_data"
    },
    {
     "data": {
      "text/html": [
       "Syncing run <strong><a href='https://wandb.ai/totikos/model_fcnn_baseline_6_large_81k_search_108-hpo/runs/m2h51tmp' target=\"_blank\">97_fcnn_baseline_6_large_81k_search_108_lr-0.0001_hidden1-128_hidden2-64_dr-0</a></strong> to <a href='https://wandb.ai/totikos/model_fcnn_baseline_6_large_81k_search_108-hpo' target=\"_blank\">Weights & Biases</a> (<a href='https://wandb.me/run' target=\"_blank\">docs</a>)<br/>"
      ],
      "text/plain": [
       "<IPython.core.display.HTML object>"
      ]
     },
     "metadata": {},
     "output_type": "display_data"
    },
    {
     "data": {
      "text/html": [
       " View project at <a href='https://wandb.ai/totikos/model_fcnn_baseline_6_large_81k_search_108-hpo' target=\"_blank\">https://wandb.ai/totikos/model_fcnn_baseline_6_large_81k_search_108-hpo</a>"
      ],
      "text/plain": [
       "<IPython.core.display.HTML object>"
      ]
     },
     "metadata": {},
     "output_type": "display_data"
    },
    {
     "data": {
      "text/html": [
       " View run at <a href='https://wandb.ai/totikos/model_fcnn_baseline_6_large_81k_search_108-hpo/runs/m2h51tmp' target=\"_blank\">https://wandb.ai/totikos/model_fcnn_baseline_6_large_81k_search_108-hpo/runs/m2h51tmp</a>"
      ],
      "text/plain": [
       "<IPython.core.display.HTML object>"
      ]
     },
     "metadata": {},
     "output_type": "display_data"
    },
    {
     "name": "stderr",
     "output_type": "stream",
     "text": [
      "100%|████████████████████████████████████████| 899/899 [00:14<00:00, 62.05it/s]\n",
      "100%|█████████████████████████████████████████| 82/82 [00:00<00:00, 373.22it/s]\n",
      "100%|████████████████████████████████████████| 899/899 [00:12<00:00, 72.35it/s]\n",
      "100%|█████████████████████████████████████████| 82/82 [00:00<00:00, 418.66it/s]\n",
      "100%|████████████████████████████████████████| 899/899 [00:12<00:00, 70.30it/s]\n",
      "100%|█████████████████████████████████████████| 82/82 [00:00<00:00, 431.26it/s]\n",
      "100%|████████████████████████████████████████| 899/899 [00:12<00:00, 70.07it/s]\n",
      "100%|█████████████████████████████████████████| 82/82 [00:00<00:00, 369.76it/s]\n",
      "100%|████████████████████████████████████████| 899/899 [00:12<00:00, 71.16it/s]\n",
      "100%|█████████████████████████████████████████| 82/82 [00:00<00:00, 452.93it/s]\n",
      "100%|████████████████████████████████████████| 899/899 [00:11<00:00, 77.07it/s]\n",
      "100%|█████████████████████████████████████████| 82/82 [00:00<00:00, 413.91it/s]\n",
      "100%|████████████████████████████████████████| 899/899 [00:12<00:00, 74.39it/s]\n",
      "100%|█████████████████████████████████████████| 82/82 [00:00<00:00, 436.48it/s]\n",
      "100%|████████████████████████████████████████| 899/899 [00:12<00:00, 73.96it/s]\n",
      "100%|█████████████████████████████████████████| 82/82 [00:00<00:00, 456.04it/s]\n",
      "100%|████████████████████████████████████████| 899/899 [00:11<00:00, 78.18it/s]\n",
      "100%|█████████████████████████████████████████| 82/82 [00:00<00:00, 421.74it/s]\n",
      "100%|████████████████████████████████████████| 899/899 [00:12<00:00, 72.67it/s]\n",
      "100%|█████████████████████████████████████████| 82/82 [00:00<00:00, 413.95it/s]\n",
      "100%|████████████████████████████████████████| 899/899 [00:11<00:00, 75.26it/s]\n",
      "100%|█████████████████████████████████████████| 82/82 [00:00<00:00, 414.07it/s]\n",
      "100%|████████████████████████████████████████| 899/899 [00:12<00:00, 74.67it/s]\n",
      "100%|█████████████████████████████████████████| 82/82 [00:00<00:00, 385.50it/s]\n",
      "100%|████████████████████████████████████████| 899/899 [00:12<00:00, 73.07it/s]\n",
      "100%|█████████████████████████████████████████| 82/82 [00:00<00:00, 410.81it/s]\n",
      "100%|████████████████████████████████████████| 899/899 [00:11<00:00, 76.69it/s]\n",
      "100%|█████████████████████████████████████████| 82/82 [00:00<00:00, 424.79it/s]\n",
      "100%|████████████████████████████████████████| 899/899 [00:12<00:00, 72.44it/s]\n",
      "100%|█████████████████████████████████████████| 82/82 [00:00<00:00, 400.37it/s]\n",
      "100%|████████████████████████████████████████| 899/899 [00:13<00:00, 68.98it/s]\n",
      "100%|█████████████████████████████████████████| 82/82 [00:00<00:00, 296.52it/s]\n",
      "100%|████████████████████████████████████████| 899/899 [00:12<00:00, 72.31it/s]\n",
      "100%|█████████████████████████████████████████| 82/82 [00:00<00:00, 369.93it/s]\n",
      "100%|████████████████████████████████████████| 899/899 [00:12<00:00, 72.97it/s]\n",
      "100%|█████████████████████████████████████████| 82/82 [00:00<00:00, 389.07it/s]\n",
      "100%|████████████████████████████████████████| 899/899 [00:11<00:00, 75.99it/s]\n",
      "100%|█████████████████████████████████████████| 82/82 [00:00<00:00, 426.90it/s]\n",
      "100%|████████████████████████████████████████| 899/899 [00:11<00:00, 75.99it/s]\n",
      "100%|█████████████████████████████████████████| 82/82 [00:00<00:00, 467.62it/s]\n"
     ]
    },
    {
     "data": {
      "text/html": [
       "Waiting for W&B process to finish... <strong style=\"color:green\">(success).</strong>"
      ],
      "text/plain": [
       "<IPython.core.display.HTML object>"
      ]
     },
     "metadata": {},
     "output_type": "display_data"
    },
    {
     "data": {
      "text/html": [
       "<style>\n",
       "    table.wandb td:nth-child(1) { padding: 0 10px; text-align: left ; width: auto;} td:nth-child(2) {text-align: left ; width: 100%}\n",
       "    .wandb-row { display: flex; flex-direction: row; flex-wrap: wrap; justify-content: flex-start; width: 100% }\n",
       "    .wandb-col { display: flex; flex-direction: column; flex-basis: 100%; flex: 1; padding: 10px; }\n",
       "    </style>\n",
       "<div class=\"wandb-row\"><div class=\"wandb-col\"><h3>Run history:</h3><br/><table class=\"wandb\"><tr><td>accuracy</td><td>▁▃█▄▆█▇▇▅▅█▅▅▅▄▅▄▅▄▄</td></tr><tr><td>balanced_accuracy</td><td>█▃▁▄▅▇▇▆▃▄▅▃▃▄▂▄▃▄▃▂</td></tr><tr><td>f1_weighted</td><td>▆▁█▂▅▆▃▅▄▃▆▄▄▃▄▃▃▄▂▃</td></tr><tr><td>precision</td><td>▁▄▄▁▃▄▄▄▃▁▁▁█▁▃▂▃▅▁▃</td></tr><tr><td>recall</td><td>▁▃█▄▆█▇▇▅▅█▅▅▅▄▅▄▅▄▄</td></tr></table><br/></div><div class=\"wandb-col\"><h3>Run summary:</h3><br/><table class=\"wandb\"><tr><td>accuracy</td><td>0.23846</td></tr><tr><td>balanced_accuracy</td><td>0.1619</td></tr><tr><td>f1_weighted</td><td>0.13089</td></tr><tr><td>precision</td><td>0.23736</td></tr><tr><td>recall</td><td>0.23846</td></tr></table><br/></div></div>"
      ],
      "text/plain": [
       "<IPython.core.display.HTML object>"
      ]
     },
     "metadata": {},
     "output_type": "display_data"
    },
    {
     "data": {
      "text/html": [
       " View run <strong style=\"color:#cdcd00\">97_fcnn_baseline_6_large_81k_search_108_lr-0.0001_hidden1-128_hidden2-64_dr-0</strong> at: <a href='https://wandb.ai/totikos/model_fcnn_baseline_6_large_81k_search_108-hpo/runs/m2h51tmp' target=\"_blank\">https://wandb.ai/totikos/model_fcnn_baseline_6_large_81k_search_108-hpo/runs/m2h51tmp</a><br/> View job at <a href='https://wandb.ai/totikos/model_fcnn_baseline_6_large_81k_search_108-hpo/jobs/QXJ0aWZhY3RDb2xsZWN0aW9uOjEzOTc4MjU0OA==/version_details/v2' target=\"_blank\">https://wandb.ai/totikos/model_fcnn_baseline_6_large_81k_search_108-hpo/jobs/QXJ0aWZhY3RDb2xsZWN0aW9uOjEzOTc4MjU0OA==/version_details/v2</a><br/>Synced 5 W&B file(s), 0 media file(s), 0 artifact file(s) and 0 other file(s)"
      ],
      "text/plain": [
       "<IPython.core.display.HTML object>"
      ]
     },
     "metadata": {},
     "output_type": "display_data"
    },
    {
     "data": {
      "text/html": [
       "Find logs at: <code>C:\\Users\\nekta\\OneDrive\\Desktop\\botanic-emotion-recognition\\logs\\wandb\\run-20240214_221011-m2h51tmp\\logs</code>"
      ],
      "text/plain": [
       "<IPython.core.display.HTML object>"
      ]
     },
     "metadata": {},
     "output_type": "display_data"
    },
    {
     "name": "stderr",
     "output_type": "stream",
     "text": [
      "[I 2024-02-14 22:14:34,460] Trial 97 finished with value: 0.16190000043062427 and parameters: {'dropout_rate': 0.0, 'hidden_dim_1': 128, 'hidden_dim_2': 64, 'lr': 0.0001}. Best is trial 6 with value: 0.17126425545780385.\n"
     ]
    },
    {
     "name": "stdout",
     "output_type": "stream",
     "text": [
      "{'hidden_dim_1': 16, 'hidden_dim_2': 64, 'dropout_rate': 0}\n"
     ]
    },
    {
     "data": {
      "text/html": [
       "wandb version 0.16.3 is available!  To upgrade, please run:\n",
       " $ pip install wandb --upgrade"
      ],
      "text/plain": [
       "<IPython.core.display.HTML object>"
      ]
     },
     "metadata": {},
     "output_type": "display_data"
    },
    {
     "data": {
      "text/html": [
       "Tracking run with wandb version 0.15.12"
      ],
      "text/plain": [
       "<IPython.core.display.HTML object>"
      ]
     },
     "metadata": {},
     "output_type": "display_data"
    },
    {
     "data": {
      "text/html": [
       "Run data is saved locally in <code>C:\\Users\\nekta\\OneDrive\\Desktop\\botanic-emotion-recognition\\logs\\wandb\\run-20240214_221434-hpjt5ent</code>"
      ],
      "text/plain": [
       "<IPython.core.display.HTML object>"
      ]
     },
     "metadata": {},
     "output_type": "display_data"
    },
    {
     "data": {
      "text/html": [
       "Syncing run <strong><a href='https://wandb.ai/totikos/model_fcnn_baseline_6_large_81k_search_108-hpo/runs/hpjt5ent' target=\"_blank\">98_fcnn_baseline_6_large_81k_search_108_lr-0.0001_hidden1-16_hidden2-64_dr-0</a></strong> to <a href='https://wandb.ai/totikos/model_fcnn_baseline_6_large_81k_search_108-hpo' target=\"_blank\">Weights & Biases</a> (<a href='https://wandb.me/run' target=\"_blank\">docs</a>)<br/>"
      ],
      "text/plain": [
       "<IPython.core.display.HTML object>"
      ]
     },
     "metadata": {},
     "output_type": "display_data"
    },
    {
     "data": {
      "text/html": [
       " View project at <a href='https://wandb.ai/totikos/model_fcnn_baseline_6_large_81k_search_108-hpo' target=\"_blank\">https://wandb.ai/totikos/model_fcnn_baseline_6_large_81k_search_108-hpo</a>"
      ],
      "text/plain": [
       "<IPython.core.display.HTML object>"
      ]
     },
     "metadata": {},
     "output_type": "display_data"
    },
    {
     "data": {
      "text/html": [
       " View run at <a href='https://wandb.ai/totikos/model_fcnn_baseline_6_large_81k_search_108-hpo/runs/hpjt5ent' target=\"_blank\">https://wandb.ai/totikos/model_fcnn_baseline_6_large_81k_search_108-hpo/runs/hpjt5ent</a>"
      ],
      "text/plain": [
       "<IPython.core.display.HTML object>"
      ]
     },
     "metadata": {},
     "output_type": "display_data"
    },
    {
     "name": "stderr",
     "output_type": "stream",
     "text": [
      "100%|███████████████████████████████████████| 899/899 [00:02<00:00, 332.54it/s]\n",
      "100%|█████████████████████████████████████████| 82/82 [00:00<00:00, 744.78it/s]\n",
      "[I 2024-02-14 22:14:38,976] Trial 98 pruned. \n"
     ]
    },
    {
     "name": "stdout",
     "output_type": "stream",
     "text": [
      "{'hidden_dim_1': 16, 'hidden_dim_2': 32, 'dropout_rate': 0}\n"
     ]
    },
    {
     "data": {
      "text/html": [
       "Finishing last run (ID:hpjt5ent) before initializing another..."
      ],
      "text/plain": [
       "<IPython.core.display.HTML object>"
      ]
     },
     "metadata": {},
     "output_type": "display_data"
    },
    {
     "data": {
      "text/html": [
       "Waiting for W&B process to finish... <strong style=\"color:green\">(success).</strong>"
      ],
      "text/plain": [
       "<IPython.core.display.HTML object>"
      ]
     },
     "metadata": {},
     "output_type": "display_data"
    },
    {
     "data": {
      "text/html": [
       " View run <strong style=\"color:#cdcd00\">98_fcnn_baseline_6_large_81k_search_108_lr-0.0001_hidden1-16_hidden2-64_dr-0</strong> at: <a href='https://wandb.ai/totikos/model_fcnn_baseline_6_large_81k_search_108-hpo/runs/hpjt5ent' target=\"_blank\">https://wandb.ai/totikos/model_fcnn_baseline_6_large_81k_search_108-hpo/runs/hpjt5ent</a><br/> View job at <a href='https://wandb.ai/totikos/model_fcnn_baseline_6_large_81k_search_108-hpo/jobs/QXJ0aWZhY3RDb2xsZWN0aW9uOjEzOTc4MjU0OA==/version_details/v1' target=\"_blank\">https://wandb.ai/totikos/model_fcnn_baseline_6_large_81k_search_108-hpo/jobs/QXJ0aWZhY3RDb2xsZWN0aW9uOjEzOTc4MjU0OA==/version_details/v1</a><br/>Synced 5 W&B file(s), 0 media file(s), 0 artifact file(s) and 0 other file(s)"
      ],
      "text/plain": [
       "<IPython.core.display.HTML object>"
      ]
     },
     "metadata": {},
     "output_type": "display_data"
    },
    {
     "data": {
      "text/html": [
       "Find logs at: <code>C:\\Users\\nekta\\OneDrive\\Desktop\\botanic-emotion-recognition\\logs\\wandb\\run-20240214_221434-hpjt5ent\\logs</code>"
      ],
      "text/plain": [
       "<IPython.core.display.HTML object>"
      ]
     },
     "metadata": {},
     "output_type": "display_data"
    },
    {
     "data": {
      "text/html": [
       "Successfully finished last run (ID:hpjt5ent). Initializing new run:<br/>"
      ],
      "text/plain": [
       "<IPython.core.display.HTML object>"
      ]
     },
     "metadata": {},
     "output_type": "display_data"
    },
    {
     "data": {
      "text/html": [
       "wandb version 0.16.3 is available!  To upgrade, please run:\n",
       " $ pip install wandb --upgrade"
      ],
      "text/plain": [
       "<IPython.core.display.HTML object>"
      ]
     },
     "metadata": {},
     "output_type": "display_data"
    },
    {
     "data": {
      "text/html": [
       "Tracking run with wandb version 0.15.12"
      ],
      "text/plain": [
       "<IPython.core.display.HTML object>"
      ]
     },
     "metadata": {},
     "output_type": "display_data"
    },
    {
     "data": {
      "text/html": [
       "Run data is saved locally in <code>C:\\Users\\nekta\\OneDrive\\Desktop\\botanic-emotion-recognition\\logs\\wandb\\run-20240214_221439-frlxpez9</code>"
      ],
      "text/plain": [
       "<IPython.core.display.HTML object>"
      ]
     },
     "metadata": {},
     "output_type": "display_data"
    },
    {
     "data": {
      "text/html": [
       "Syncing run <strong><a href='https://wandb.ai/totikos/model_fcnn_baseline_6_large_81k_search_108-hpo/runs/frlxpez9' target=\"_blank\">99_fcnn_baseline_6_large_81k_search_108_lr-0.0001_hidden1-16_hidden2-32_dr-0</a></strong> to <a href='https://wandb.ai/totikos/model_fcnn_baseline_6_large_81k_search_108-hpo' target=\"_blank\">Weights & Biases</a> (<a href='https://wandb.me/run' target=\"_blank\">docs</a>)<br/>"
      ],
      "text/plain": [
       "<IPython.core.display.HTML object>"
      ]
     },
     "metadata": {},
     "output_type": "display_data"
    },
    {
     "data": {
      "text/html": [
       " View project at <a href='https://wandb.ai/totikos/model_fcnn_baseline_6_large_81k_search_108-hpo' target=\"_blank\">https://wandb.ai/totikos/model_fcnn_baseline_6_large_81k_search_108-hpo</a>"
      ],
      "text/plain": [
       "<IPython.core.display.HTML object>"
      ]
     },
     "metadata": {},
     "output_type": "display_data"
    },
    {
     "data": {
      "text/html": [
       " View run at <a href='https://wandb.ai/totikos/model_fcnn_baseline_6_large_81k_search_108-hpo/runs/frlxpez9' target=\"_blank\">https://wandb.ai/totikos/model_fcnn_baseline_6_large_81k_search_108-hpo/runs/frlxpez9</a>"
      ],
      "text/plain": [
       "<IPython.core.display.HTML object>"
      ]
     },
     "metadata": {},
     "output_type": "display_data"
    },
    {
     "name": "stderr",
     "output_type": "stream",
     "text": [
      "100%|███████████████████████████████████████| 899/899 [00:02<00:00, 362.84it/s]\n",
      "100%|█████████████████████████████████████████| 82/82 [00:00<00:00, 822.38it/s]\n",
      "[I 2024-02-14 22:14:49,271] Trial 99 pruned. \n"
     ]
    },
    {
     "name": "stdout",
     "output_type": "stream",
     "text": [
      "{'hidden_dim_1': 32, 'hidden_dim_2': 16, 'dropout_rate': 0.1}\n"
     ]
    },
    {
     "data": {
      "text/html": [
       "Finishing last run (ID:frlxpez9) before initializing another..."
      ],
      "text/plain": [
       "<IPython.core.display.HTML object>"
      ]
     },
     "metadata": {},
     "output_type": "display_data"
    },
    {
     "data": {
      "text/html": [
       "Waiting for W&B process to finish... <strong style=\"color:green\">(success).</strong>"
      ],
      "text/plain": [
       "<IPython.core.display.HTML object>"
      ]
     },
     "metadata": {},
     "output_type": "display_data"
    },
    {
     "data": {
      "text/html": [
       " View run <strong style=\"color:#cdcd00\">99_fcnn_baseline_6_large_81k_search_108_lr-0.0001_hidden1-16_hidden2-32_dr-0</strong> at: <a href='https://wandb.ai/totikos/model_fcnn_baseline_6_large_81k_search_108-hpo/runs/frlxpez9' target=\"_blank\">https://wandb.ai/totikos/model_fcnn_baseline_6_large_81k_search_108-hpo/runs/frlxpez9</a><br/> View job at <a href='https://wandb.ai/totikos/model_fcnn_baseline_6_large_81k_search_108-hpo/jobs/QXJ0aWZhY3RDb2xsZWN0aW9uOjEzOTc4MjU0OA==/version_details/v1' target=\"_blank\">https://wandb.ai/totikos/model_fcnn_baseline_6_large_81k_search_108-hpo/jobs/QXJ0aWZhY3RDb2xsZWN0aW9uOjEzOTc4MjU0OA==/version_details/v1</a><br/>Synced 5 W&B file(s), 0 media file(s), 0 artifact file(s) and 0 other file(s)"
      ],
      "text/plain": [
       "<IPython.core.display.HTML object>"
      ]
     },
     "metadata": {},
     "output_type": "display_data"
    },
    {
     "data": {
      "text/html": [
       "Find logs at: <code>C:\\Users\\nekta\\OneDrive\\Desktop\\botanic-emotion-recognition\\logs\\wandb\\run-20240214_221439-frlxpez9\\logs</code>"
      ],
      "text/plain": [
       "<IPython.core.display.HTML object>"
      ]
     },
     "metadata": {},
     "output_type": "display_data"
    },
    {
     "data": {
      "text/html": [
       "Successfully finished last run (ID:frlxpez9). Initializing new run:<br/>"
      ],
      "text/plain": [
       "<IPython.core.display.HTML object>"
      ]
     },
     "metadata": {},
     "output_type": "display_data"
    },
    {
     "data": {
      "text/html": [
       "wandb version 0.16.3 is available!  To upgrade, please run:\n",
       " $ pip install wandb --upgrade"
      ],
      "text/plain": [
       "<IPython.core.display.HTML object>"
      ]
     },
     "metadata": {},
     "output_type": "display_data"
    },
    {
     "data": {
      "text/html": [
       "Tracking run with wandb version 0.15.12"
      ],
      "text/plain": [
       "<IPython.core.display.HTML object>"
      ]
     },
     "metadata": {},
     "output_type": "display_data"
    },
    {
     "data": {
      "text/html": [
       "Run data is saved locally in <code>C:\\Users\\nekta\\OneDrive\\Desktop\\botanic-emotion-recognition\\logs\\wandb\\run-20240214_221449-tqeflxw0</code>"
      ],
      "text/plain": [
       "<IPython.core.display.HTML object>"
      ]
     },
     "metadata": {},
     "output_type": "display_data"
    },
    {
     "data": {
      "text/html": [
       "Syncing run <strong><a href='https://wandb.ai/totikos/model_fcnn_baseline_6_large_81k_search_108-hpo/runs/tqeflxw0' target=\"_blank\">100_fcnn_baseline_6_large_81k_search_108_lr-0.0001_hidden1-32_hidden2-16_dr-0.1</a></strong> to <a href='https://wandb.ai/totikos/model_fcnn_baseline_6_large_81k_search_108-hpo' target=\"_blank\">Weights & Biases</a> (<a href='https://wandb.me/run' target=\"_blank\">docs</a>)<br/>"
      ],
      "text/plain": [
       "<IPython.core.display.HTML object>"
      ]
     },
     "metadata": {},
     "output_type": "display_data"
    },
    {
     "data": {
      "text/html": [
       " View project at <a href='https://wandb.ai/totikos/model_fcnn_baseline_6_large_81k_search_108-hpo' target=\"_blank\">https://wandb.ai/totikos/model_fcnn_baseline_6_large_81k_search_108-hpo</a>"
      ],
      "text/plain": [
       "<IPython.core.display.HTML object>"
      ]
     },
     "metadata": {},
     "output_type": "display_data"
    },
    {
     "data": {
      "text/html": [
       " View run at <a href='https://wandb.ai/totikos/model_fcnn_baseline_6_large_81k_search_108-hpo/runs/tqeflxw0' target=\"_blank\">https://wandb.ai/totikos/model_fcnn_baseline_6_large_81k_search_108-hpo/runs/tqeflxw0</a>"
      ],
      "text/plain": [
       "<IPython.core.display.HTML object>"
      ]
     },
     "metadata": {},
     "output_type": "display_data"
    },
    {
     "name": "stderr",
     "output_type": "stream",
     "text": [
      "100%|███████████████████████████████████████| 899/899 [00:04<00:00, 221.14it/s]\n",
      "100%|█████████████████████████████████████████| 82/82 [00:00<00:00, 821.20it/s]\n",
      "[I 2024-02-14 22:15:00,616] Trial 100 pruned. \n"
     ]
    },
    {
     "name": "stdout",
     "output_type": "stream",
     "text": [
      "{'hidden_dim_1': 16, 'hidden_dim_2': 64, 'dropout_rate': 0.1}\n"
     ]
    },
    {
     "data": {
      "text/html": [
       "Finishing last run (ID:tqeflxw0) before initializing another..."
      ],
      "text/plain": [
       "<IPython.core.display.HTML object>"
      ]
     },
     "metadata": {},
     "output_type": "display_data"
    },
    {
     "data": {
      "text/html": [
       "Waiting for W&B process to finish... <strong style=\"color:green\">(success).</strong>"
      ],
      "text/plain": [
       "<IPython.core.display.HTML object>"
      ]
     },
     "metadata": {},
     "output_type": "display_data"
    },
    {
     "data": {
      "text/html": [
       " View run <strong style=\"color:#cdcd00\">100_fcnn_baseline_6_large_81k_search_108_lr-0.0001_hidden1-32_hidden2-16_dr-0.1</strong> at: <a href='https://wandb.ai/totikos/model_fcnn_baseline_6_large_81k_search_108-hpo/runs/tqeflxw0' target=\"_blank\">https://wandb.ai/totikos/model_fcnn_baseline_6_large_81k_search_108-hpo/runs/tqeflxw0</a><br/> View job at <a href='https://wandb.ai/totikos/model_fcnn_baseline_6_large_81k_search_108-hpo/jobs/QXJ0aWZhY3RDb2xsZWN0aW9uOjEzOTc4MjU0OA==/version_details/v1' target=\"_blank\">https://wandb.ai/totikos/model_fcnn_baseline_6_large_81k_search_108-hpo/jobs/QXJ0aWZhY3RDb2xsZWN0aW9uOjEzOTc4MjU0OA==/version_details/v1</a><br/>Synced 5 W&B file(s), 0 media file(s), 0 artifact file(s) and 0 other file(s)"
      ],
      "text/plain": [
       "<IPython.core.display.HTML object>"
      ]
     },
     "metadata": {},
     "output_type": "display_data"
    },
    {
     "data": {
      "text/html": [
       "Find logs at: <code>C:\\Users\\nekta\\OneDrive\\Desktop\\botanic-emotion-recognition\\logs\\wandb\\run-20240214_221449-tqeflxw0\\logs</code>"
      ],
      "text/plain": [
       "<IPython.core.display.HTML object>"
      ]
     },
     "metadata": {},
     "output_type": "display_data"
    },
    {
     "data": {
      "text/html": [
       "Successfully finished last run (ID:tqeflxw0). Initializing new run:<br/>"
      ],
      "text/plain": [
       "<IPython.core.display.HTML object>"
      ]
     },
     "metadata": {},
     "output_type": "display_data"
    },
    {
     "data": {
      "text/html": [
       "wandb version 0.16.3 is available!  To upgrade, please run:\n",
       " $ pip install wandb --upgrade"
      ],
      "text/plain": [
       "<IPython.core.display.HTML object>"
      ]
     },
     "metadata": {},
     "output_type": "display_data"
    },
    {
     "data": {
      "text/html": [
       "Tracking run with wandb version 0.15.12"
      ],
      "text/plain": [
       "<IPython.core.display.HTML object>"
      ]
     },
     "metadata": {},
     "output_type": "display_data"
    },
    {
     "data": {
      "text/html": [
       "Run data is saved locally in <code>C:\\Users\\nekta\\OneDrive\\Desktop\\botanic-emotion-recognition\\logs\\wandb\\run-20240214_221500-wt8r5kf4</code>"
      ],
      "text/plain": [
       "<IPython.core.display.HTML object>"
      ]
     },
     "metadata": {},
     "output_type": "display_data"
    },
    {
     "data": {
      "text/html": [
       "Syncing run <strong><a href='https://wandb.ai/totikos/model_fcnn_baseline_6_large_81k_search_108-hpo/runs/wt8r5kf4' target=\"_blank\">101_fcnn_baseline_6_large_81k_search_108_lr-0.001_hidden1-16_hidden2-64_dr-0.1</a></strong> to <a href='https://wandb.ai/totikos/model_fcnn_baseline_6_large_81k_search_108-hpo' target=\"_blank\">Weights & Biases</a> (<a href='https://wandb.me/run' target=\"_blank\">docs</a>)<br/>"
      ],
      "text/plain": [
       "<IPython.core.display.HTML object>"
      ]
     },
     "metadata": {},
     "output_type": "display_data"
    },
    {
     "data": {
      "text/html": [
       " View project at <a href='https://wandb.ai/totikos/model_fcnn_baseline_6_large_81k_search_108-hpo' target=\"_blank\">https://wandb.ai/totikos/model_fcnn_baseline_6_large_81k_search_108-hpo</a>"
      ],
      "text/plain": [
       "<IPython.core.display.HTML object>"
      ]
     },
     "metadata": {},
     "output_type": "display_data"
    },
    {
     "data": {
      "text/html": [
       " View run at <a href='https://wandb.ai/totikos/model_fcnn_baseline_6_large_81k_search_108-hpo/runs/wt8r5kf4' target=\"_blank\">https://wandb.ai/totikos/model_fcnn_baseline_6_large_81k_search_108-hpo/runs/wt8r5kf4</a>"
      ],
      "text/plain": [
       "<IPython.core.display.HTML object>"
      ]
     },
     "metadata": {},
     "output_type": "display_data"
    },
    {
     "name": "stderr",
     "output_type": "stream",
     "text": [
      "100%|███████████████████████████████████████| 899/899 [00:02<00:00, 350.67it/s]\n",
      "100%|█████████████████████████████████████████| 82/82 [00:00<00:00, 910.11it/s]\n",
      "[I 2024-02-14 22:15:13,589] Trial 101 pruned. \n"
     ]
    },
    {
     "name": "stdout",
     "output_type": "stream",
     "text": [
      "{'hidden_dim_1': 64, 'hidden_dim_2': 16, 'dropout_rate': 0.2}\n"
     ]
    },
    {
     "data": {
      "text/html": [
       "Finishing last run (ID:wt8r5kf4) before initializing another..."
      ],
      "text/plain": [
       "<IPython.core.display.HTML object>"
      ]
     },
     "metadata": {},
     "output_type": "display_data"
    },
    {
     "data": {
      "text/html": [
       "Waiting for W&B process to finish... <strong style=\"color:green\">(success).</strong>"
      ],
      "text/plain": [
       "<IPython.core.display.HTML object>"
      ]
     },
     "metadata": {},
     "output_type": "display_data"
    },
    {
     "data": {
      "text/html": [
       " View run <strong style=\"color:#cdcd00\">101_fcnn_baseline_6_large_81k_search_108_lr-0.001_hidden1-16_hidden2-64_dr-0.1</strong> at: <a href='https://wandb.ai/totikos/model_fcnn_baseline_6_large_81k_search_108-hpo/runs/wt8r5kf4' target=\"_blank\">https://wandb.ai/totikos/model_fcnn_baseline_6_large_81k_search_108-hpo/runs/wt8r5kf4</a><br/> View job at <a href='https://wandb.ai/totikos/model_fcnn_baseline_6_large_81k_search_108-hpo/jobs/QXJ0aWZhY3RDb2xsZWN0aW9uOjEzOTc4MjU0OA==/version_details/v1' target=\"_blank\">https://wandb.ai/totikos/model_fcnn_baseline_6_large_81k_search_108-hpo/jobs/QXJ0aWZhY3RDb2xsZWN0aW9uOjEzOTc4MjU0OA==/version_details/v1</a><br/>Synced 5 W&B file(s), 0 media file(s), 0 artifact file(s) and 0 other file(s)"
      ],
      "text/plain": [
       "<IPython.core.display.HTML object>"
      ]
     },
     "metadata": {},
     "output_type": "display_data"
    },
    {
     "data": {
      "text/html": [
       "Find logs at: <code>C:\\Users\\nekta\\OneDrive\\Desktop\\botanic-emotion-recognition\\logs\\wandb\\run-20240214_221500-wt8r5kf4\\logs</code>"
      ],
      "text/plain": [
       "<IPython.core.display.HTML object>"
      ]
     },
     "metadata": {},
     "output_type": "display_data"
    },
    {
     "data": {
      "text/html": [
       "Successfully finished last run (ID:wt8r5kf4). Initializing new run:<br/>"
      ],
      "text/plain": [
       "<IPython.core.display.HTML object>"
      ]
     },
     "metadata": {},
     "output_type": "display_data"
    },
    {
     "data": {
      "text/html": [
       "wandb version 0.16.3 is available!  To upgrade, please run:\n",
       " $ pip install wandb --upgrade"
      ],
      "text/plain": [
       "<IPython.core.display.HTML object>"
      ]
     },
     "metadata": {},
     "output_type": "display_data"
    },
    {
     "data": {
      "text/html": [
       "Tracking run with wandb version 0.15.12"
      ],
      "text/plain": [
       "<IPython.core.display.HTML object>"
      ]
     },
     "metadata": {},
     "output_type": "display_data"
    },
    {
     "data": {
      "text/html": [
       "Run data is saved locally in <code>C:\\Users\\nekta\\OneDrive\\Desktop\\botanic-emotion-recognition\\logs\\wandb\\run-20240214_221513-ucegbrww</code>"
      ],
      "text/plain": [
       "<IPython.core.display.HTML object>"
      ]
     },
     "metadata": {},
     "output_type": "display_data"
    },
    {
     "data": {
      "text/html": [
       "Syncing run <strong><a href='https://wandb.ai/totikos/model_fcnn_baseline_6_large_81k_search_108-hpo/runs/ucegbrww' target=\"_blank\">102_fcnn_baseline_6_large_81k_search_108_lr-0.01_hidden1-64_hidden2-16_dr-0.2</a></strong> to <a href='https://wandb.ai/totikos/model_fcnn_baseline_6_large_81k_search_108-hpo' target=\"_blank\">Weights & Biases</a> (<a href='https://wandb.me/run' target=\"_blank\">docs</a>)<br/>"
      ],
      "text/plain": [
       "<IPython.core.display.HTML object>"
      ]
     },
     "metadata": {},
     "output_type": "display_data"
    },
    {
     "data": {
      "text/html": [
       " View project at <a href='https://wandb.ai/totikos/model_fcnn_baseline_6_large_81k_search_108-hpo' target=\"_blank\">https://wandb.ai/totikos/model_fcnn_baseline_6_large_81k_search_108-hpo</a>"
      ],
      "text/plain": [
       "<IPython.core.display.HTML object>"
      ]
     },
     "metadata": {},
     "output_type": "display_data"
    },
    {
     "data": {
      "text/html": [
       " View run at <a href='https://wandb.ai/totikos/model_fcnn_baseline_6_large_81k_search_108-hpo/runs/ucegbrww' target=\"_blank\">https://wandb.ai/totikos/model_fcnn_baseline_6_large_81k_search_108-hpo/runs/ucegbrww</a>"
      ],
      "text/plain": [
       "<IPython.core.display.HTML object>"
      ]
     },
     "metadata": {},
     "output_type": "display_data"
    },
    {
     "name": "stderr",
     "output_type": "stream",
     "text": [
      "100%|███████████████████████████████████████| 899/899 [00:06<00:00, 140.16it/s]\n",
      "100%|█████████████████████████████████████████| 82/82 [00:00<00:00, 634.50it/s]\n",
      "[I 2024-02-14 22:15:27,075] Trial 102 pruned. \n"
     ]
    },
    {
     "name": "stdout",
     "output_type": "stream",
     "text": [
      "{'hidden_dim_1': 128, 'hidden_dim_2': 64, 'dropout_rate': 0.2}\n"
     ]
    },
    {
     "data": {
      "text/html": [
       "Finishing last run (ID:ucegbrww) before initializing another..."
      ],
      "text/plain": [
       "<IPython.core.display.HTML object>"
      ]
     },
     "metadata": {},
     "output_type": "display_data"
    },
    {
     "data": {
      "text/html": [
       "Waiting for W&B process to finish... <strong style=\"color:green\">(success).</strong>"
      ],
      "text/plain": [
       "<IPython.core.display.HTML object>"
      ]
     },
     "metadata": {},
     "output_type": "display_data"
    },
    {
     "data": {
      "text/html": [
       " View run <strong style=\"color:#cdcd00\">102_fcnn_baseline_6_large_81k_search_108_lr-0.01_hidden1-64_hidden2-16_dr-0.2</strong> at: <a href='https://wandb.ai/totikos/model_fcnn_baseline_6_large_81k_search_108-hpo/runs/ucegbrww' target=\"_blank\">https://wandb.ai/totikos/model_fcnn_baseline_6_large_81k_search_108-hpo/runs/ucegbrww</a><br/> View job at <a href='https://wandb.ai/totikos/model_fcnn_baseline_6_large_81k_search_108-hpo/jobs/QXJ0aWZhY3RDb2xsZWN0aW9uOjEzOTc4MjU0OA==/version_details/v1' target=\"_blank\">https://wandb.ai/totikos/model_fcnn_baseline_6_large_81k_search_108-hpo/jobs/QXJ0aWZhY3RDb2xsZWN0aW9uOjEzOTc4MjU0OA==/version_details/v1</a><br/>Synced 5 W&B file(s), 0 media file(s), 0 artifact file(s) and 0 other file(s)"
      ],
      "text/plain": [
       "<IPython.core.display.HTML object>"
      ]
     },
     "metadata": {},
     "output_type": "display_data"
    },
    {
     "data": {
      "text/html": [
       "Find logs at: <code>C:\\Users\\nekta\\OneDrive\\Desktop\\botanic-emotion-recognition\\logs\\wandb\\run-20240214_221513-ucegbrww\\logs</code>"
      ],
      "text/plain": [
       "<IPython.core.display.HTML object>"
      ]
     },
     "metadata": {},
     "output_type": "display_data"
    },
    {
     "data": {
      "text/html": [
       "Successfully finished last run (ID:ucegbrww). Initializing new run:<br/>"
      ],
      "text/plain": [
       "<IPython.core.display.HTML object>"
      ]
     },
     "metadata": {},
     "output_type": "display_data"
    },
    {
     "data": {
      "text/html": [
       "wandb version 0.16.3 is available!  To upgrade, please run:\n",
       " $ pip install wandb --upgrade"
      ],
      "text/plain": [
       "<IPython.core.display.HTML object>"
      ]
     },
     "metadata": {},
     "output_type": "display_data"
    },
    {
     "data": {
      "text/html": [
       "Tracking run with wandb version 0.15.12"
      ],
      "text/plain": [
       "<IPython.core.display.HTML object>"
      ]
     },
     "metadata": {},
     "output_type": "display_data"
    },
    {
     "data": {
      "text/html": [
       "Run data is saved locally in <code>C:\\Users\\nekta\\OneDrive\\Desktop\\botanic-emotion-recognition\\logs\\wandb\\run-20240214_221527-4qe7qjf2</code>"
      ],
      "text/plain": [
       "<IPython.core.display.HTML object>"
      ]
     },
     "metadata": {},
     "output_type": "display_data"
    },
    {
     "data": {
      "text/html": [
       "Syncing run <strong><a href='https://wandb.ai/totikos/model_fcnn_baseline_6_large_81k_search_108-hpo/runs/4qe7qjf2' target=\"_blank\">103_fcnn_baseline_6_large_81k_search_108_lr-0.0001_hidden1-128_hidden2-64_dr-0.2</a></strong> to <a href='https://wandb.ai/totikos/model_fcnn_baseline_6_large_81k_search_108-hpo' target=\"_blank\">Weights & Biases</a> (<a href='https://wandb.me/run' target=\"_blank\">docs</a>)<br/>"
      ],
      "text/plain": [
       "<IPython.core.display.HTML object>"
      ]
     },
     "metadata": {},
     "output_type": "display_data"
    },
    {
     "data": {
      "text/html": [
       " View project at <a href='https://wandb.ai/totikos/model_fcnn_baseline_6_large_81k_search_108-hpo' target=\"_blank\">https://wandb.ai/totikos/model_fcnn_baseline_6_large_81k_search_108-hpo</a>"
      ],
      "text/plain": [
       "<IPython.core.display.HTML object>"
      ]
     },
     "metadata": {},
     "output_type": "display_data"
    },
    {
     "data": {
      "text/html": [
       " View run at <a href='https://wandb.ai/totikos/model_fcnn_baseline_6_large_81k_search_108-hpo/runs/4qe7qjf2' target=\"_blank\">https://wandb.ai/totikos/model_fcnn_baseline_6_large_81k_search_108-hpo/runs/4qe7qjf2</a>"
      ],
      "text/plain": [
       "<IPython.core.display.HTML object>"
      ]
     },
     "metadata": {},
     "output_type": "display_data"
    },
    {
     "name": "stderr",
     "output_type": "stream",
     "text": [
      "100%|████████████████████████████████████████| 899/899 [00:12<00:00, 71.56it/s]\n",
      "100%|█████████████████████████████████████████| 82/82 [00:00<00:00, 426.95it/s]\n",
      "[I 2024-02-14 22:15:46,899] Trial 103 pruned. \n"
     ]
    },
    {
     "name": "stdout",
     "output_type": "stream",
     "text": [
      "{'hidden_dim_1': 32, 'hidden_dim_2': 16, 'dropout_rate': 0}\n"
     ]
    },
    {
     "data": {
      "text/html": [
       "Finishing last run (ID:4qe7qjf2) before initializing another..."
      ],
      "text/plain": [
       "<IPython.core.display.HTML object>"
      ]
     },
     "metadata": {},
     "output_type": "display_data"
    },
    {
     "data": {
      "text/html": [
       "Waiting for W&B process to finish... <strong style=\"color:green\">(success).</strong>"
      ],
      "text/plain": [
       "<IPython.core.display.HTML object>"
      ]
     },
     "metadata": {},
     "output_type": "display_data"
    },
    {
     "data": {
      "text/html": [
       " View run <strong style=\"color:#cdcd00\">103_fcnn_baseline_6_large_81k_search_108_lr-0.0001_hidden1-128_hidden2-64_dr-0.2</strong> at: <a href='https://wandb.ai/totikos/model_fcnn_baseline_6_large_81k_search_108-hpo/runs/4qe7qjf2' target=\"_blank\">https://wandb.ai/totikos/model_fcnn_baseline_6_large_81k_search_108-hpo/runs/4qe7qjf2</a><br/> View job at <a href='https://wandb.ai/totikos/model_fcnn_baseline_6_large_81k_search_108-hpo/jobs/QXJ0aWZhY3RDb2xsZWN0aW9uOjEzOTc4MjU0OA==/version_details/v1' target=\"_blank\">https://wandb.ai/totikos/model_fcnn_baseline_6_large_81k_search_108-hpo/jobs/QXJ0aWZhY3RDb2xsZWN0aW9uOjEzOTc4MjU0OA==/version_details/v1</a><br/>Synced 5 W&B file(s), 0 media file(s), 0 artifact file(s) and 0 other file(s)"
      ],
      "text/plain": [
       "<IPython.core.display.HTML object>"
      ]
     },
     "metadata": {},
     "output_type": "display_data"
    },
    {
     "data": {
      "text/html": [
       "Find logs at: <code>C:\\Users\\nekta\\OneDrive\\Desktop\\botanic-emotion-recognition\\logs\\wandb\\run-20240214_221527-4qe7qjf2\\logs</code>"
      ],
      "text/plain": [
       "<IPython.core.display.HTML object>"
      ]
     },
     "metadata": {},
     "output_type": "display_data"
    },
    {
     "data": {
      "text/html": [
       "Successfully finished last run (ID:4qe7qjf2). Initializing new run:<br/>"
      ],
      "text/plain": [
       "<IPython.core.display.HTML object>"
      ]
     },
     "metadata": {},
     "output_type": "display_data"
    },
    {
     "data": {
      "text/html": [
       "wandb version 0.16.3 is available!  To upgrade, please run:\n",
       " $ pip install wandb --upgrade"
      ],
      "text/plain": [
       "<IPython.core.display.HTML object>"
      ]
     },
     "metadata": {},
     "output_type": "display_data"
    },
    {
     "data": {
      "text/html": [
       "Tracking run with wandb version 0.15.12"
      ],
      "text/plain": [
       "<IPython.core.display.HTML object>"
      ]
     },
     "metadata": {},
     "output_type": "display_data"
    },
    {
     "data": {
      "text/html": [
       "Run data is saved locally in <code>C:\\Users\\nekta\\OneDrive\\Desktop\\botanic-emotion-recognition\\logs\\wandb\\run-20240214_221547-xkqiattu</code>"
      ],
      "text/plain": [
       "<IPython.core.display.HTML object>"
      ]
     },
     "metadata": {},
     "output_type": "display_data"
    },
    {
     "data": {
      "text/html": [
       "Syncing run <strong><a href='https://wandb.ai/totikos/model_fcnn_baseline_6_large_81k_search_108-hpo/runs/xkqiattu' target=\"_blank\">104_fcnn_baseline_6_large_81k_search_108_lr-0.001_hidden1-32_hidden2-16_dr-0</a></strong> to <a href='https://wandb.ai/totikos/model_fcnn_baseline_6_large_81k_search_108-hpo' target=\"_blank\">Weights & Biases</a> (<a href='https://wandb.me/run' target=\"_blank\">docs</a>)<br/>"
      ],
      "text/plain": [
       "<IPython.core.display.HTML object>"
      ]
     },
     "metadata": {},
     "output_type": "display_data"
    },
    {
     "data": {
      "text/html": [
       " View project at <a href='https://wandb.ai/totikos/model_fcnn_baseline_6_large_81k_search_108-hpo' target=\"_blank\">https://wandb.ai/totikos/model_fcnn_baseline_6_large_81k_search_108-hpo</a>"
      ],
      "text/plain": [
       "<IPython.core.display.HTML object>"
      ]
     },
     "metadata": {},
     "output_type": "display_data"
    },
    {
     "data": {
      "text/html": [
       " View run at <a href='https://wandb.ai/totikos/model_fcnn_baseline_6_large_81k_search_108-hpo/runs/xkqiattu' target=\"_blank\">https://wandb.ai/totikos/model_fcnn_baseline_6_large_81k_search_108-hpo/runs/xkqiattu</a>"
      ],
      "text/plain": [
       "<IPython.core.display.HTML object>"
      ]
     },
     "metadata": {},
     "output_type": "display_data"
    },
    {
     "name": "stderr",
     "output_type": "stream",
     "text": [
      "100%|███████████████████████████████████████| 899/899 [00:04<00:00, 203.28it/s]\n",
      "100%|█████████████████████████████████████████| 82/82 [00:00<00:00, 317.78it/s]\n",
      "[I 2024-02-14 22:15:58,551] Trial 104 pruned. \n"
     ]
    },
    {
     "name": "stdout",
     "output_type": "stream",
     "text": [
      "{'hidden_dim_1': 32, 'hidden_dim_2': 64, 'dropout_rate': 0.1}\n"
     ]
    },
    {
     "data": {
      "text/html": [
       "Finishing last run (ID:xkqiattu) before initializing another..."
      ],
      "text/plain": [
       "<IPython.core.display.HTML object>"
      ]
     },
     "metadata": {},
     "output_type": "display_data"
    },
    {
     "data": {
      "text/html": [
       "Waiting for W&B process to finish... <strong style=\"color:green\">(success).</strong>"
      ],
      "text/plain": [
       "<IPython.core.display.HTML object>"
      ]
     },
     "metadata": {},
     "output_type": "display_data"
    },
    {
     "data": {
      "text/html": [
       " View run <strong style=\"color:#cdcd00\">104_fcnn_baseline_6_large_81k_search_108_lr-0.001_hidden1-32_hidden2-16_dr-0</strong> at: <a href='https://wandb.ai/totikos/model_fcnn_baseline_6_large_81k_search_108-hpo/runs/xkqiattu' target=\"_blank\">https://wandb.ai/totikos/model_fcnn_baseline_6_large_81k_search_108-hpo/runs/xkqiattu</a><br/> View job at <a href='https://wandb.ai/totikos/model_fcnn_baseline_6_large_81k_search_108-hpo/jobs/QXJ0aWZhY3RDb2xsZWN0aW9uOjEzOTc4MjU0OA==/version_details/v1' target=\"_blank\">https://wandb.ai/totikos/model_fcnn_baseline_6_large_81k_search_108-hpo/jobs/QXJ0aWZhY3RDb2xsZWN0aW9uOjEzOTc4MjU0OA==/version_details/v1</a><br/>Synced 5 W&B file(s), 0 media file(s), 0 artifact file(s) and 0 other file(s)"
      ],
      "text/plain": [
       "<IPython.core.display.HTML object>"
      ]
     },
     "metadata": {},
     "output_type": "display_data"
    },
    {
     "data": {
      "text/html": [
       "Find logs at: <code>C:\\Users\\nekta\\OneDrive\\Desktop\\botanic-emotion-recognition\\logs\\wandb\\run-20240214_221547-xkqiattu\\logs</code>"
      ],
      "text/plain": [
       "<IPython.core.display.HTML object>"
      ]
     },
     "metadata": {},
     "output_type": "display_data"
    },
    {
     "data": {
      "text/html": [
       "Successfully finished last run (ID:xkqiattu). Initializing new run:<br/>"
      ],
      "text/plain": [
       "<IPython.core.display.HTML object>"
      ]
     },
     "metadata": {},
     "output_type": "display_data"
    },
    {
     "data": {
      "text/html": [
       "wandb version 0.16.3 is available!  To upgrade, please run:\n",
       " $ pip install wandb --upgrade"
      ],
      "text/plain": [
       "<IPython.core.display.HTML object>"
      ]
     },
     "metadata": {},
     "output_type": "display_data"
    },
    {
     "data": {
      "text/html": [
       "Tracking run with wandb version 0.15.12"
      ],
      "text/plain": [
       "<IPython.core.display.HTML object>"
      ]
     },
     "metadata": {},
     "output_type": "display_data"
    },
    {
     "data": {
      "text/html": [
       "Run data is saved locally in <code>C:\\Users\\nekta\\OneDrive\\Desktop\\botanic-emotion-recognition\\logs\\wandb\\run-20240214_221558-x3ou4375</code>"
      ],
      "text/plain": [
       "<IPython.core.display.HTML object>"
      ]
     },
     "metadata": {},
     "output_type": "display_data"
    },
    {
     "data": {
      "text/html": [
       "Syncing run <strong><a href='https://wandb.ai/totikos/model_fcnn_baseline_6_large_81k_search_108-hpo/runs/x3ou4375' target=\"_blank\">105_fcnn_baseline_6_large_81k_search_108_lr-0.0001_hidden1-32_hidden2-64_dr-0.1</a></strong> to <a href='https://wandb.ai/totikos/model_fcnn_baseline_6_large_81k_search_108-hpo' target=\"_blank\">Weights & Biases</a> (<a href='https://wandb.me/run' target=\"_blank\">docs</a>)<br/>"
      ],
      "text/plain": [
       "<IPython.core.display.HTML object>"
      ]
     },
     "metadata": {},
     "output_type": "display_data"
    },
    {
     "data": {
      "text/html": [
       " View project at <a href='https://wandb.ai/totikos/model_fcnn_baseline_6_large_81k_search_108-hpo' target=\"_blank\">https://wandb.ai/totikos/model_fcnn_baseline_6_large_81k_search_108-hpo</a>"
      ],
      "text/plain": [
       "<IPython.core.display.HTML object>"
      ]
     },
     "metadata": {},
     "output_type": "display_data"
    },
    {
     "data": {
      "text/html": [
       " View run at <a href='https://wandb.ai/totikos/model_fcnn_baseline_6_large_81k_search_108-hpo/runs/x3ou4375' target=\"_blank\">https://wandb.ai/totikos/model_fcnn_baseline_6_large_81k_search_108-hpo/runs/x3ou4375</a>"
      ],
      "text/plain": [
       "<IPython.core.display.HTML object>"
      ]
     },
     "metadata": {},
     "output_type": "display_data"
    },
    {
     "name": "stderr",
     "output_type": "stream",
     "text": [
      "100%|███████████████████████████████████████| 899/899 [00:04<00:00, 186.32it/s]\n",
      "100%|█████████████████████████████████████████| 82/82 [00:00<00:00, 513.03it/s]\n",
      "100%|███████████████████████████████████████| 899/899 [00:05<00:00, 169.32it/s]\n",
      "100%|█████████████████████████████████████████| 82/82 [00:00<00:00, 605.59it/s]\n",
      "100%|███████████████████████████████████████| 899/899 [00:05<00:00, 169.31it/s]\n",
      "100%|█████████████████████████████████████████| 82/82 [00:00<00:00, 596.38it/s]\n",
      "100%|███████████████████████████████████████| 899/899 [00:05<00:00, 169.61it/s]\n",
      "100%|█████████████████████████████████████████| 82/82 [00:00<00:00, 547.41it/s]\n",
      "100%|███████████████████████████████████████| 899/899 [00:05<00:00, 169.93it/s]\n",
      "100%|█████████████████████████████████████████| 82/82 [00:00<00:00, 622.23it/s]\n",
      "100%|███████████████████████████████████████| 899/899 [00:05<00:00, 173.47it/s]\n",
      "100%|█████████████████████████████████████████| 82/82 [00:00<00:00, 615.14it/s]\n",
      "100%|███████████████████████████████████████| 899/899 [00:05<00:00, 177.80it/s]\n",
      "100%|█████████████████████████████████████████| 82/82 [00:00<00:00, 591.09it/s]\n",
      "100%|███████████████████████████████████████| 899/899 [00:05<00:00, 179.13it/s]\n",
      "100%|█████████████████████████████████████████| 82/82 [00:00<00:00, 631.52it/s]\n",
      "100%|███████████████████████████████████████| 899/899 [00:05<00:00, 167.87it/s]\n",
      "100%|█████████████████████████████████████████| 82/82 [00:00<00:00, 581.07it/s]\n",
      "100%|███████████████████████████████████████| 899/899 [00:05<00:00, 163.68it/s]\n",
      "100%|█████████████████████████████████████████| 82/82 [00:00<00:00, 600.39it/s]\n",
      "100%|███████████████████████████████████████| 899/899 [00:06<00:00, 149.65it/s]\n",
      "100%|█████████████████████████████████████████| 82/82 [00:00<00:00, 568.36it/s]\n",
      "100%|███████████████████████████████████████| 899/899 [00:05<00:00, 167.47it/s]\n",
      "100%|█████████████████████████████████████████| 82/82 [00:00<00:00, 580.68it/s]\n",
      "100%|███████████████████████████████████████| 899/899 [00:05<00:00, 159.44it/s]\n",
      "100%|█████████████████████████████████████████| 82/82 [00:00<00:00, 551.91it/s]\n",
      "100%|███████████████████████████████████████| 899/899 [00:05<00:00, 172.39it/s]\n",
      "100%|█████████████████████████████████████████| 82/82 [00:00<00:00, 545.56it/s]\n",
      "100%|███████████████████████████████████████| 899/899 [00:05<00:00, 164.25it/s]\n",
      "100%|█████████████████████████████████████████| 82/82 [00:00<00:00, 571.56it/s]\n",
      "100%|███████████████████████████████████████| 899/899 [00:05<00:00, 167.28it/s]\n",
      "100%|█████████████████████████████████████████| 82/82 [00:00<00:00, 534.12it/s]\n",
      "100%|███████████████████████████████████████| 899/899 [00:05<00:00, 159.90it/s]\n",
      "100%|█████████████████████████████████████████| 82/82 [00:00<00:00, 595.20it/s]\n",
      "100%|███████████████████████████████████████| 899/899 [00:05<00:00, 171.15it/s]\n",
      "100%|█████████████████████████████████████████| 82/82 [00:00<00:00, 580.29it/s]\n",
      "100%|███████████████████████████████████████| 899/899 [00:05<00:00, 170.31it/s]\n",
      "100%|█████████████████████████████████████████| 82/82 [00:00<00:00, 627.62it/s]\n",
      "100%|███████████████████████████████████████| 899/899 [00:05<00:00, 172.81it/s]\n",
      "100%|█████████████████████████████████████████| 82/82 [00:00<00:00, 661.41it/s]\n"
     ]
    },
    {
     "data": {
      "text/html": [
       "Waiting for W&B process to finish... <strong style=\"color:green\">(success).</strong>"
      ],
      "text/plain": [
       "<IPython.core.display.HTML object>"
      ]
     },
     "metadata": {},
     "output_type": "display_data"
    },
    {
     "data": {
      "text/html": [
       "<style>\n",
       "    table.wandb td:nth-child(1) { padding: 0 10px; text-align: left ; width: auto;} td:nth-child(2) {text-align: left ; width: 100%}\n",
       "    .wandb-row { display: flex; flex-direction: row; flex-wrap: wrap; justify-content: flex-start; width: 100% }\n",
       "    .wandb-col { display: flex; flex-direction: column; flex-basis: 100%; flex: 1; padding: 10px; }\n",
       "    </style>\n",
       "<div class=\"wandb-row\"><div class=\"wandb-col\"><h3>Run history:</h3><br/><table class=\"wandb\"><tr><td>accuracy</td><td>█▁▃▂▂▁▃▂▅▅▂▃▃▂▂▂▃▃▃▃</td></tr><tr><td>balanced_accuracy</td><td>█▃▄▃▃▃▆▃▁▇▃▆▅▃▂▁▃▄▆▅</td></tr><tr><td>f1_weighted</td><td>█▂▃▂▂▁▃▃▆▅▃▃▃▂▃▄▄▃▃▃</td></tr><tr><td>precision</td><td>▇▃▂▂▅▃█▆▁▂▃▂▄▂▁▄▄▇▇▃</td></tr><tr><td>recall</td><td>█▁▃▂▂▁▃▂▅▅▂▃▃▂▂▂▃▃▃▃</td></tr></table><br/></div><div class=\"wandb-col\"><h3>Run summary:</h3><br/><table class=\"wandb\"><tr><td>accuracy</td><td>0.25231</td></tr><tr><td>balanced_accuracy</td><td>0.16764</td></tr><tr><td>f1_weighted</td><td>0.1571</td></tr><tr><td>precision</td><td>0.19252</td></tr><tr><td>recall</td><td>0.25231</td></tr></table><br/></div></div>"
      ],
      "text/plain": [
       "<IPython.core.display.HTML object>"
      ]
     },
     "metadata": {},
     "output_type": "display_data"
    },
    {
     "data": {
      "text/html": [
       " View run <strong style=\"color:#cdcd00\">105_fcnn_baseline_6_large_81k_search_108_lr-0.0001_hidden1-32_hidden2-64_dr-0.1</strong> at: <a href='https://wandb.ai/totikos/model_fcnn_baseline_6_large_81k_search_108-hpo/runs/x3ou4375' target=\"_blank\">https://wandb.ai/totikos/model_fcnn_baseline_6_large_81k_search_108-hpo/runs/x3ou4375</a><br/> View job at <a href='https://wandb.ai/totikos/model_fcnn_baseline_6_large_81k_search_108-hpo/jobs/QXJ0aWZhY3RDb2xsZWN0aW9uOjEzOTc4MjU0OA==/version_details/v2' target=\"_blank\">https://wandb.ai/totikos/model_fcnn_baseline_6_large_81k_search_108-hpo/jobs/QXJ0aWZhY3RDb2xsZWN0aW9uOjEzOTc4MjU0OA==/version_details/v2</a><br/>Synced 5 W&B file(s), 0 media file(s), 0 artifact file(s) and 0 other file(s)"
      ],
      "text/plain": [
       "<IPython.core.display.HTML object>"
      ]
     },
     "metadata": {},
     "output_type": "display_data"
    },
    {
     "data": {
      "text/html": [
       "Find logs at: <code>C:\\Users\\nekta\\OneDrive\\Desktop\\botanic-emotion-recognition\\logs\\wandb\\run-20240214_221558-x3ou4375\\logs</code>"
      ],
      "text/plain": [
       "<IPython.core.display.HTML object>"
      ]
     },
     "metadata": {},
     "output_type": "display_data"
    },
    {
     "name": "stderr",
     "output_type": "stream",
     "text": [
      "[I 2024-02-14 22:18:01,509] Trial 105 finished with value: 0.16763639665089147 and parameters: {'dropout_rate': 0.1, 'hidden_dim_1': 32, 'hidden_dim_2': 64, 'lr': 0.0001}. Best is trial 6 with value: 0.17126425545780385.\n"
     ]
    },
    {
     "name": "stdout",
     "output_type": "stream",
     "text": [
      "{'hidden_dim_1': 32, 'hidden_dim_2': 16, 'dropout_rate': 0.1}\n"
     ]
    },
    {
     "data": {
      "text/html": [
       "wandb version 0.16.3 is available!  To upgrade, please run:\n",
       " $ pip install wandb --upgrade"
      ],
      "text/plain": [
       "<IPython.core.display.HTML object>"
      ]
     },
     "metadata": {},
     "output_type": "display_data"
    },
    {
     "data": {
      "text/html": [
       "Tracking run with wandb version 0.15.12"
      ],
      "text/plain": [
       "<IPython.core.display.HTML object>"
      ]
     },
     "metadata": {},
     "output_type": "display_data"
    },
    {
     "data": {
      "text/html": [
       "Run data is saved locally in <code>C:\\Users\\nekta\\OneDrive\\Desktop\\botanic-emotion-recognition\\logs\\wandb\\run-20240214_221801-28lehjxx</code>"
      ],
      "text/plain": [
       "<IPython.core.display.HTML object>"
      ]
     },
     "metadata": {},
     "output_type": "display_data"
    },
    {
     "data": {
      "text/html": [
       "Syncing run <strong><a href='https://wandb.ai/totikos/model_fcnn_baseline_6_large_81k_search_108-hpo/runs/28lehjxx' target=\"_blank\">106_fcnn_baseline_6_large_81k_search_108_lr-0.01_hidden1-32_hidden2-16_dr-0.1</a></strong> to <a href='https://wandb.ai/totikos/model_fcnn_baseline_6_large_81k_search_108-hpo' target=\"_blank\">Weights & Biases</a> (<a href='https://wandb.me/run' target=\"_blank\">docs</a>)<br/>"
      ],
      "text/plain": [
       "<IPython.core.display.HTML object>"
      ]
     },
     "metadata": {},
     "output_type": "display_data"
    },
    {
     "data": {
      "text/html": [
       " View project at <a href='https://wandb.ai/totikos/model_fcnn_baseline_6_large_81k_search_108-hpo' target=\"_blank\">https://wandb.ai/totikos/model_fcnn_baseline_6_large_81k_search_108-hpo</a>"
      ],
      "text/plain": [
       "<IPython.core.display.HTML object>"
      ]
     },
     "metadata": {},
     "output_type": "display_data"
    },
    {
     "data": {
      "text/html": [
       " View run at <a href='https://wandb.ai/totikos/model_fcnn_baseline_6_large_81k_search_108-hpo/runs/28lehjxx' target=\"_blank\">https://wandb.ai/totikos/model_fcnn_baseline_6_large_81k_search_108-hpo/runs/28lehjxx</a>"
      ],
      "text/plain": [
       "<IPython.core.display.HTML object>"
      ]
     },
     "metadata": {},
     "output_type": "display_data"
    },
    {
     "name": "stderr",
     "output_type": "stream",
     "text": [
      "100%|███████████████████████████████████████| 899/899 [00:04<00:00, 208.17it/s]\n",
      "100%|█████████████████████████████████████████| 82/82 [00:00<00:00, 745.28it/s]\n",
      "[I 2024-02-14 22:18:07,683] Trial 106 pruned. \n"
     ]
    },
    {
     "name": "stdout",
     "output_type": "stream",
     "text": [
      "{'hidden_dim_1': 64, 'hidden_dim_2': 64, 'dropout_rate': 0.1}\n"
     ]
    },
    {
     "data": {
      "text/html": [
       "Finishing last run (ID:28lehjxx) before initializing another..."
      ],
      "text/plain": [
       "<IPython.core.display.HTML object>"
      ]
     },
     "metadata": {},
     "output_type": "display_data"
    },
    {
     "data": {
      "text/html": [
       "Waiting for W&B process to finish... <strong style=\"color:green\">(success).</strong>"
      ],
      "text/plain": [
       "<IPython.core.display.HTML object>"
      ]
     },
     "metadata": {},
     "output_type": "display_data"
    },
    {
     "data": {
      "text/html": [
       " View run <strong style=\"color:#cdcd00\">106_fcnn_baseline_6_large_81k_search_108_lr-0.01_hidden1-32_hidden2-16_dr-0.1</strong> at: <a href='https://wandb.ai/totikos/model_fcnn_baseline_6_large_81k_search_108-hpo/runs/28lehjxx' target=\"_blank\">https://wandb.ai/totikos/model_fcnn_baseline_6_large_81k_search_108-hpo/runs/28lehjxx</a><br/> View job at <a href='https://wandb.ai/totikos/model_fcnn_baseline_6_large_81k_search_108-hpo/jobs/QXJ0aWZhY3RDb2xsZWN0aW9uOjEzOTc4MjU0OA==/version_details/v1' target=\"_blank\">https://wandb.ai/totikos/model_fcnn_baseline_6_large_81k_search_108-hpo/jobs/QXJ0aWZhY3RDb2xsZWN0aW9uOjEzOTc4MjU0OA==/version_details/v1</a><br/>Synced 5 W&B file(s), 0 media file(s), 0 artifact file(s) and 0 other file(s)"
      ],
      "text/plain": [
       "<IPython.core.display.HTML object>"
      ]
     },
     "metadata": {},
     "output_type": "display_data"
    },
    {
     "data": {
      "text/html": [
       "Find logs at: <code>C:\\Users\\nekta\\OneDrive\\Desktop\\botanic-emotion-recognition\\logs\\wandb\\run-20240214_221801-28lehjxx\\logs</code>"
      ],
      "text/plain": [
       "<IPython.core.display.HTML object>"
      ]
     },
     "metadata": {},
     "output_type": "display_data"
    },
    {
     "data": {
      "text/html": [
       "Successfully finished last run (ID:28lehjxx). Initializing new run:<br/>"
      ],
      "text/plain": [
       "<IPython.core.display.HTML object>"
      ]
     },
     "metadata": {},
     "output_type": "display_data"
    },
    {
     "data": {
      "text/html": [
       "wandb version 0.16.3 is available!  To upgrade, please run:\n",
       " $ pip install wandb --upgrade"
      ],
      "text/plain": [
       "<IPython.core.display.HTML object>"
      ]
     },
     "metadata": {},
     "output_type": "display_data"
    },
    {
     "data": {
      "text/html": [
       "Tracking run with wandb version 0.15.12"
      ],
      "text/plain": [
       "<IPython.core.display.HTML object>"
      ]
     },
     "metadata": {},
     "output_type": "display_data"
    },
    {
     "data": {
      "text/html": [
       "Run data is saved locally in <code>C:\\Users\\nekta\\OneDrive\\Desktop\\botanic-emotion-recognition\\logs\\wandb\\run-20240214_221807-swpm4gmm</code>"
      ],
      "text/plain": [
       "<IPython.core.display.HTML object>"
      ]
     },
     "metadata": {},
     "output_type": "display_data"
    },
    {
     "data": {
      "text/html": [
       "Syncing run <strong><a href='https://wandb.ai/totikos/model_fcnn_baseline_6_large_81k_search_108-hpo/runs/swpm4gmm' target=\"_blank\">107_fcnn_baseline_6_large_81k_search_108_lr-0.0001_hidden1-64_hidden2-64_dr-0.1</a></strong> to <a href='https://wandb.ai/totikos/model_fcnn_baseline_6_large_81k_search_108-hpo' target=\"_blank\">Weights & Biases</a> (<a href='https://wandb.me/run' target=\"_blank\">docs</a>)<br/>"
      ],
      "text/plain": [
       "<IPython.core.display.HTML object>"
      ]
     },
     "metadata": {},
     "output_type": "display_data"
    },
    {
     "data": {
      "text/html": [
       " View project at <a href='https://wandb.ai/totikos/model_fcnn_baseline_6_large_81k_search_108-hpo' target=\"_blank\">https://wandb.ai/totikos/model_fcnn_baseline_6_large_81k_search_108-hpo</a>"
      ],
      "text/plain": [
       "<IPython.core.display.HTML object>"
      ]
     },
     "metadata": {},
     "output_type": "display_data"
    },
    {
     "data": {
      "text/html": [
       " View run at <a href='https://wandb.ai/totikos/model_fcnn_baseline_6_large_81k_search_108-hpo/runs/swpm4gmm' target=\"_blank\">https://wandb.ai/totikos/model_fcnn_baseline_6_large_81k_search_108-hpo/runs/swpm4gmm</a>"
      ],
      "text/plain": [
       "<IPython.core.display.HTML object>"
      ]
     },
     "metadata": {},
     "output_type": "display_data"
    },
    {
     "name": "stderr",
     "output_type": "stream",
     "text": [
      "100%|███████████████████████████████████████| 899/899 [00:06<00:00, 141.28it/s]\n",
      "100%|█████████████████████████████████████████| 82/82 [00:00<00:00, 490.61it/s]\n",
      "[I 2024-02-14 22:18:21,259] Trial 107 pruned. \n"
     ]
    }
   ],
   "source": [
    "sampler = optuna.samplers.GridSampler(search_space)\n",
    "study = optuna.create_study(sampler=sampler, study_name=NAME_CORE, storage=\"sqlite:///hpo_\" + NAME_CORE + \".db\",\n",
    "                            direction=\"maximize\", load_if_exists=True)\n",
    "study.optimize(objective, n_trials=num_combi)"
   ]
  },
  {
   "cell_type": "code",
   "execution_count": 25,
   "id": "26645068-2772-4930-9b8d-7e316ae3a013",
   "metadata": {},
   "outputs": [],
   "source": [
    "pruned_trials = study.get_trials(deepcopy=False, states=[TrialState.PRUNED])\n",
    "complete_trials = study.get_trials(deepcopy=False, states=[TrialState.COMPLETE])"
   ]
  },
  {
   "cell_type": "code",
   "execution_count": 26,
   "id": "0de2bbfb-51c7-40c5-87cd-478df8a14eca",
   "metadata": {},
   "outputs": [
    {
     "name": "stdout",
     "output_type": "stream",
     "text": [
      "Study statistics: \n",
      "  Number of finished trials:  108\n",
      "  Number of complete trials:  26\n",
      "  Number of pruned trials:  82\n",
      "Best trial:\n",
      "  Value:  0.17126425545780385\n",
      "  Params: \n",
      "    dropout_rate: 0.2\n",
      "    hidden_dim_1: 64\n",
      "    hidden_dim_2: 16\n",
      "    lr: 0.001\n"
     ]
    }
   ],
   "source": [
    "print(\"Study statistics: \")\n",
    "print(\"  Number of finished trials: \", len(study.trials))\n",
    "print(\"  Number of complete trials: \", len(complete_trials))\n",
    "print(\"  Number of pruned trials: \", len(pruned_trials))\n",
    "\n",
    "print(\"Best trial:\")\n",
    "trial_ = study.best_trial\n",
    "\n",
    "print(\"  Value: \", trial_.value)\n",
    "print(\"  Params: \")\n",
    "for key, value in trial_.params.items():\n",
    "    print(\"    {}: {}\".format(key, value))"
   ]
  },
  {
   "cell_type": "markdown",
   "id": "3cdb7a41-b62e-45ae-8019-31b6710b5159",
   "metadata": {},
   "source": [
    "#### 191k RUN \n",
    "Study statistics: \r\n",
    "  Number of finished trials:  108\r\n",
    "  Number of complete trials:  26\r\n",
    "  Number of pruned trials:  82\r\n",
    "Best trial:\r\n",
    "  Value:  0.17126425545780385\r\n",
    "  Params: \r\n",
    "    dropout_rate: 0.2\r\n",
    "    hidden_dim_1: 64\r\n",
    "    hidden_dim_2: 16\r\n",
    "    lr: 0.001"
   ]
  },
  {
   "cell_type": "markdown",
   "id": "807ca9f6-eb4c-4a4c-9c4b-6e3b29155005",
   "metadata": {
    "jp-MarkdownHeadingCollapsed": true
   },
   "source": [
    "#### First Run:"
   ]
  },
  {
   "cell_type": "code",
   "execution_count": null,
   "id": "76683d87-065b-4b39-981f-8b13ee75c237",
   "metadata": {},
   "outputs": [],
   "source": [
    "sampler = optuna.samplers.GridSampler(search_space)\n",
    "study = optuna.create_study(sampler=sampler, study_name=NAME_CORE, storage=\"sqlite:///hpo_\" + NAME_CORE + \".db\",\n",
    "                            direction=\"maximize\", load_if_exists=True)\n",
    "study.optimize(objective, n_trials=num_combi)"
   ]
  },
  {
   "cell_type": "markdown",
   "id": "b7a21577-9e3d-4ae8-850e-89b616554358",
   "metadata": {},
   "source": [
    "Closer look into the trials. "
   ]
  },
  {
   "cell_type": "code",
   "execution_count": null,
   "id": "e7bf469d-5105-4b9f-b8e7-12505e11ad82",
   "metadata": {},
   "outputs": [],
   "source": [
    "pruned_trials = study.get_trials(deepcopy=False, states=[TrialState.PRUNED])\n",
    "complete_trials = study.get_trials(deepcopy=False, states=[TrialState.COMPLETE])"
   ]
  },
  {
   "cell_type": "code",
   "execution_count": null,
   "id": "1580d071-60b1-468b-935c-c9ddc0de1440",
   "metadata": {},
   "outputs": [],
   "source": [
    "print(\"Study statistics: \")\n",
    "print(\"  Number of finished trials: \", len(study.trials))\n",
    "print(\"  Number of complete trials: \", len(complete_trials))\n",
    "print(\"  Number of pruned trials: \", len(pruned_trials))\n",
    "\n",
    "print(\"Best trial:\")\n",
    "trial_ = study.best_trial\n",
    "\n",
    "print(\"  Value: \", trial_.value)\n",
    "print(\"  Params: \")\n",
    "for key, value in trial_.params.items():\n",
    "    print(\"    {}: {}\".format(key, value))"
   ]
  },
  {
   "cell_type": "markdown",
   "id": "d1ca7d44-9c34-4eab-b619-8c09ab92efbc",
   "metadata": {},
   "source": [
    "#### Training the Baseline FCNN.\n",
    "10 times training with the best HP from HPO, and then average. "
   ]
  },
  {
   "cell_type": "code",
   "execution_count": null,
   "id": "25c62f20-a78f-43db-958b-e6f8b937c6d0",
   "metadata": {},
   "outputs": [],
   "source": []
  },
  {
   "cell_type": "code",
   "execution_count": null,
   "id": "27b20234-c6f3-4af9-b03b-73c8cff9eb95",
   "metadata": {},
   "outputs": [],
   "source": []
  },
  {
   "cell_type": "code",
   "execution_count": null,
   "id": "2748b45a-9596-4ab0-85fa-b15191cd0a09",
   "metadata": {},
   "outputs": [],
   "source": []
  },
  {
   "cell_type": "code",
   "execution_count": null,
   "id": "afb43cba-b17b-4a68-864e-6efcfb9824a3",
   "metadata": {},
   "outputs": [],
   "source": []
  },
  {
   "cell_type": "code",
   "execution_count": null,
   "id": "f58798de-dcde-4035-8a80-34a416ec515b",
   "metadata": {},
   "outputs": [],
   "source": []
  },
  {
   "cell_type": "code",
   "execution_count": null,
   "id": "fe808f1e-acf1-41a1-a752-b4b8fa0da9c7",
   "metadata": {},
   "outputs": [],
   "source": []
  },
  {
   "cell_type": "code",
   "execution_count": null,
   "id": "fe55a52f-7490-4cfa-8103-d760638b25fb",
   "metadata": {},
   "outputs": [],
   "source": []
  },
  {
   "cell_type": "markdown",
   "id": "8ca74ec5-c61d-478c-a22e-c1eaced9f60d",
   "metadata": {},
   "source": [
    "#### Testing the Baseline Classifier"
   ]
  },
  {
   "cell_type": "code",
   "execution_count": null,
   "id": "3becc3ca-9df7-4d41-a8f0-9c732799bc2e",
   "metadata": {},
   "outputs": [],
   "source": [
    "import os\n",
    "import numpy as np\n",
    "from tqdm import tqdm\n",
    "from PIL import Image\n",
    "import matplotlib.pyplot as plt\n",
    "\n",
    "%run ../src/utils/constants.py"
   ]
  },
  {
   "cell_type": "code",
   "execution_count": null,
   "id": "0f6cedcf-458e-47e9-8d80-d54017a9ad7d",
   "metadata": {},
   "outputs": [],
   "source": [
    "test_81k_folder = \"test-81k\""
   ]
  },
  {
   "cell_type": "code",
   "execution_count": null,
   "id": "f0d38062-26e8-4aa0-8929-064329279f75",
   "metadata": {},
   "outputs": [],
   "source": []
  },
  {
   "cell_type": "code",
   "execution_count": null,
   "id": "9ab2a9dd-2aab-4ba9-b3be-99f54ca808c2",
   "metadata": {},
   "outputs": [],
   "source": []
  }
 ],
 "metadata": {
  "kernelspec": {
   "display_name": "Python 3 (ipykernel)",
   "language": "python",
   "name": "python3"
  },
  "language_info": {
   "codemirror_mode": {
    "name": "ipython",
    "version": 3
   },
   "file_extension": ".py",
   "mimetype": "text/x-python",
   "name": "python",
   "nbconvert_exporter": "python",
   "pygments_lexer": "ipython3",
   "version": "3.11.4"
  }
 },
 "nbformat": 4,
 "nbformat_minor": 5
}
