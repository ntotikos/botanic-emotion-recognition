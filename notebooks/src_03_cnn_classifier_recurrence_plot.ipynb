{
 "cells": [
  {
   "cell_type": "markdown",
   "id": "55418780-d77e-478a-b365-f5795e54b630",
   "metadata": {},
   "source": [
    "# CNN Classifier for Plant Waves Using Recurrence Plots\n",
    "----\n",
    "\n",
    "#### PREPROCESSING: Create Recurrence Plot Images \n",
    "In this step, we compute the recurrence plots, create recurrence plot images, reshape it to 97x97 images, and store them to disk with labels corresponding to classes and the number of sample. "
   ]
  },
  {
   "cell_type": "code",
   "execution_count": 1,
   "id": "47863947-8b53-4c6f-b7f7-12b3636d3c91",
   "metadata": {},
   "outputs": [],
   "source": [
    "import numpy as np\n",
    "import torch\n",
    "import pickle\n",
    "import os\n",
    "import matplotlib.pyplot as plt\n",
    "from torch.utils.data import TensorDataset\n",
    "from scipy import signal\n",
    "from PIL import Image\n",
    "from tqdm import tqdm\n",
    "\n",
    "%run ../src/utils/constants.py"
   ]
  },
  {
   "cell_type": "markdown",
   "id": "959a9b2a-3313-4d0c-992f-da50d85acf8a",
   "metadata": {},
   "source": [
    "Load raw data that has been split into train, test, and validation sets for the 81k and 191k cases."
   ]
  },
  {
   "cell_type": "code",
   "execution_count": 2,
   "id": "a53efc89-4e97-4b8d-816e-1e372b76b565",
   "metadata": {},
   "outputs": [],
   "source": [
    "path_to_pickle_train81k = DATASETS_DIR / \"train-81k-stratified-without-neutral.pkl\"\n",
    "path_to_pickle_train191k = DATASETS_DIR / \"train-191k-stratified-without-neutral.pkl\"\n",
    "path_to_pickle_test81k = DATASETS_DIR / \"test-81k-stratified-without-neutral.pkl\"\n",
    "path_to_pickle_val81k = DATASETS_DIR / \"val-81k-stratified-without-neutral.pkl\""
   ]
  },
  {
   "cell_type": "code",
   "execution_count": 3,
   "id": "70130b7b-9884-431a-940c-41277af5e7f9",
   "metadata": {},
   "outputs": [],
   "source": [
    "with open(path_to_pickle_train81k, 'rb') as train_81k_file:\n",
    "    train_81k = pickle.load(train_81k_file)"
   ]
  },
  {
   "cell_type": "code",
   "execution_count": 4,
   "id": "24736e8f-afa4-4e0e-a65b-6e4d36a9e219",
   "metadata": {},
   "outputs": [],
   "source": [
    "with open(path_to_pickle_train191k, 'rb') as train_191k_file:\n",
    "    train_191k = pickle.load(train_191k_file)"
   ]
  },
  {
   "cell_type": "code",
   "execution_count": 5,
   "id": "6936f8d8-0e4a-4f06-a15c-7f893f7c353f",
   "metadata": {},
   "outputs": [],
   "source": [
    "with open(path_to_pickle_test81k, 'rb') as test_81k_file:\n",
    "    test_81k = pickle.load(test_81k_file)"
   ]
  },
  {
   "cell_type": "code",
   "execution_count": 6,
   "id": "a2b47f0a-b530-42cb-9cf8-8c2d6bc3becc",
   "metadata": {},
   "outputs": [],
   "source": [
    "with open(path_to_pickle_val81k, 'rb') as val_81k_file:\n",
    "    val_81k = pickle.load(val_81k_file)"
   ]
  },
  {
   "cell_type": "markdown",
   "id": "ac9711e7-5c87-4de8-ac71-c1d3dd0122fb",
   "metadata": {},
   "source": [
    "While ignoring the class `Neutral`, separate wave slices and labels, and create a Tensor dataset. Adjust `for segment in train_191k` for creating a specific dataset - train, test, val. Downsample the signal wave for faster computation of the recurrence plots. Downsample factor is `10`. "
   ]
  },
  {
   "cell_type": "code",
   "execution_count": 7,
   "id": "d1630bcb-bdcf-4bb1-a530-65793d60e1da",
   "metadata": {},
   "outputs": [],
   "source": [
    "wav_slices = []\n",
    "labels = []\n",
    "downsample_factor = 10\n",
    "for segment in val_81k:  # adjust this iterable for specific dataset.\n",
    "    downsampled_wav_slice = segment[0][::downsample_factor]\n",
    "    wav_slices.append(downsampled_wav_slice)\n",
    "    labels.append(segment[1])"
   ]
  },
  {
   "cell_type": "code",
   "execution_count": 8,
   "id": "7b8d5215-bde9-4408-b0f9-0d38bccac8de",
   "metadata": {},
   "outputs": [
    {
     "name": "stdout",
     "output_type": "stream",
     "text": [
      "torch.Size([1000])\n"
     ]
    }
   ],
   "source": [
    "print(wav_slices[0].shape)"
   ]
  },
  {
   "cell_type": "code",
   "execution_count": 9,
   "id": "01ea6b56-e125-44c6-af1d-a9a79c33db0c",
   "metadata": {},
   "outputs": [
    {
     "name": "stdout",
     "output_type": "stream",
     "text": [
      "tensor([[ 2.3000e+01,  5.4000e+01,  6.1000e+01,  ..., -5.2000e+01,\n",
      "         -1.0000e+02, -1.4200e+02],\n",
      "        [-1.6400e+03, -2.4120e+03, -3.1230e+03,  ..., -2.6430e+03,\n",
      "         -2.2570e+03, -1.5440e+03],\n",
      "        [-4.0000e+00,  1.9000e+01,  3.9000e+01,  ..., -5.9000e+01,\n",
      "         -7.1000e+01, -7.3000e+01],\n",
      "        ...,\n",
      "        [-1.3300e+02, -1.8600e+02, -2.1100e+02,  ...,  7.7000e+01,\n",
      "          1.3700e+02,  1.7300e+02],\n",
      "        [-1.4300e+03, -2.1830e+03, -2.4600e+03,  ...,  1.7590e+03,\n",
      "          2.2750e+03,  2.3290e+03],\n",
      "        [ 0.0000e+00, -2.0000e+00, -4.0000e+00,  ..., -1.0000e+01,\n",
      "         -5.0000e+00, -1.0000e+00]])\n"
     ]
    }
   ],
   "source": [
    "wav_slices = torch.tensor(np.array(wav_slices), dtype=torch.float32)\n",
    "labels = torch.tensor(np.array(labels), dtype=torch.long)\n",
    "dataset = TensorDataset(wav_slices, labels)\n",
    "print(wav_slices)"
   ]
  },
  {
   "cell_type": "markdown",
   "id": "498ec12c-27db-479f-8d68-3c190ff203b0",
   "metadata": {},
   "source": [
    "Normalize the samples using per-sample normalization."
   ]
  },
  {
   "cell_type": "code",
   "execution_count": 10,
   "id": "f533b2fc-bf01-4176-8b2f-59d1896c6f2c",
   "metadata": {},
   "outputs": [],
   "source": [
    "data_tensor, labels_tensor = dataset.tensors\n",
    "mean = torch.mean(data_tensor, dim=1, keepdim=True)\n",
    "std_dev = torch.std(data_tensor, dim=1, keepdim=True)\n",
    "standardized_data = (data_tensor - mean) / (std_dev + 0.00000001)  # smoothing term to prevent zero division\n",
    "\n",
    "dataset = TensorDataset(standardized_data, labels_tensor)"
   ]
  },
  {
   "cell_type": "markdown",
   "id": "75ded6e0-2a5b-43f0-8c33-2665c6312efd",
   "metadata": {},
   "source": [
    "Compute the spectrograms and save the plots to disk as `.png`. "
   ]
  },
  {
   "cell_type": "code",
   "execution_count": 11,
   "id": "1289cf28-fdaa-47f2-9295-f930b6b351e4",
   "metadata": {},
   "outputs": [],
   "source": [
    "train_81k_folder = \"train-81k\"\n",
    "train_191k_folder = \"train-191k\"  # for now, ignore this case.\n",
    "test_81k_folder = \"test-81k\"\n",
    "val_81k_folder = \"val-81k\""
   ]
  },
  {
   "cell_type": "code",
   "execution_count": 12,
   "id": "3c391e3d-962b-4644-ad2e-472b1c47fd54",
   "metadata": {},
   "outputs": [],
   "source": [
    "if not os.path.exists(RECURRENCEPLOT_IMAGE_DIR / train_81k_folder):\n",
    "    os.makedirs(RECURRENCEPLOT_IMAGE_DIR / train_81k_folder)\n",
    "\n",
    "if not os.path.exists(RECURRENCEPLOT_IMAGE_DIR / test_81k_folder):\n",
    "    os.makedirs(RECURRENCEPLOT_IMAGE_DIR / test_81k_folder)\n",
    "\n",
    "if not os.path.exists(RECURRENCEPLOT_IMAGE_DIR / val_81k_folder):\n",
    "    os.makedirs(RECURRENCEPLOT_IMAGE_DIR / val_81k_folder)"
   ]
  },
  {
   "cell_type": "markdown",
   "id": "06d66f9d-ce57-4b2a-a464-7cdfdea48f20",
   "metadata": {},
   "source": [
    "Compute the recurrence plot by (1) determining element-wise differences between values of the time series, looking at the absolute values, and (2) by creating a binary matrix subject to a threshold. "
   ]
  },
  {
   "cell_type": "code",
   "execution_count": 13,
   "id": "91c3fd79-b891-4a99-ac60-2afe6a82b7e0",
   "metadata": {},
   "outputs": [],
   "source": [
    "def recurrence_plot(time_series, threshold=0.1):\n",
    "    distance_matrix = np.abs(np.subtract.outer(time_series, time_series))  # element-wise differences\n",
    "    recurrence_matrix = (distance_matrix < threshold).astype(int)  # binary\n",
    "\n",
    "    return recurrence_matrix"
   ]
  },
  {
   "cell_type": "markdown",
   "id": "5f5bbf4b-8a1d-4c56-a1db-28d103b67612",
   "metadata": {},
   "source": [
    "Adjust the `train_81k_folder` to save the created recurrence plots."
   ]
  },
  {
   "cell_type": "code",
   "execution_count": 14,
   "id": "1d4a7e55-60fa-4788-ac47-f6af11cc3342",
   "metadata": {},
   "outputs": [
    {
     "name": "stderr",
     "output_type": "stream",
     "text": [
      "100%|██████████████████████████████████████| 2600/2600 [04:12<00:00, 10.28it/s]\n"
     ]
    }
   ],
   "source": [
    "count = 0 \n",
    "for wav_slice, label in tqdm(dataset):\n",
    "    rec_matrix = recurrence_plot(wav_slice, threshold=0.15)\n",
    "\n",
    "    file_name = f\"{count}_mfcc_class_{label}.png\"\n",
    "    save_path = os.path.join(RECURRENCEPLOT_IMAGE_DIR / val_81k_folder, file_name)  # Adjust train_191k_folder\n",
    "\n",
    "    if not os.path.exists(save_path):\n",
    "        plt.imshow(rec_matrix, cmap='binary_r', interpolation='none')\n",
    "        plt.axis(\"off\")\n",
    "        plt.savefig(save_path, bbox_inches='tight', pad_inches=0)\n",
    "        plt.close()\n",
    "    \n",
    "    count += 1"
   ]
  },
  {
   "cell_type": "code",
   "execution_count": null,
   "id": "26b6d65d-1636-4135-bf92-9e98863c36e7",
   "metadata": {},
   "outputs": [],
   "source": []
  },
  {
   "cell_type": "code",
   "execution_count": null,
   "id": "a2797eee-b1b8-4a53-913e-c2af905ba4c6",
   "metadata": {},
   "outputs": [],
   "source": []
  },
  {
   "cell_type": "code",
   "execution_count": null,
   "id": "5d78a6cc-a2b7-41bf-a5bb-b2e4cb0ce796",
   "metadata": {},
   "outputs": [],
   "source": []
  },
  {
   "cell_type": "code",
   "execution_count": null,
   "id": "1a225a55-6c8a-4631-b2c5-95326d3a7666",
   "metadata": {},
   "outputs": [],
   "source": []
  },
  {
   "cell_type": "code",
   "execution_count": null,
   "id": "32a115f5-7ea3-43c7-aa41-ac341eb550dd",
   "metadata": {},
   "outputs": [],
   "source": []
  }
 ],
 "metadata": {
  "kernelspec": {
   "display_name": "Python 3 (ipykernel)",
   "language": "python",
   "name": "python3"
  },
  "language_info": {
   "codemirror_mode": {
    "name": "ipython",
    "version": 3
   },
   "file_extension": ".py",
   "mimetype": "text/x-python",
   "name": "python",
   "nbconvert_exporter": "python",
   "pygments_lexer": "ipython3",
   "version": "3.11.4"
  }
 },
 "nbformat": 4,
 "nbformat_minor": 5
}
