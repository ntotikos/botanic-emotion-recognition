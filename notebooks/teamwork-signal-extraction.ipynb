{
 "cells": [
  {
   "cell_type": "markdown",
   "metadata": {},
   "source": [
    "# Automatically Extract the Relevant Teamwork Signals from Plant Recording \n",
    "---\n",
    "\n",
    "Well, I tried to automate the extraction of teamwork session signals from plant recordings for different days and teams. The issue with this is that \n",
    "- some recordings were broken and I needed to manually delete them\n",
    "- some recordings for some days are missing (e.g. team_22 has no recording for day 1 & 3\n",
    "- for some teams there are multiple recordings for one day while there are teams with only one big recording per day\n",
    "- ... \n",
    "\n",
    "For this reason, I will go through every team in different runs and adjust the code manually. "
   ]
  },
  {
   "cell_type": "code",
   "execution_count": null,
   "metadata": {},
   "outputs": [],
   "source": [
    "import pandas as pd\n",
    "import matplotlib.pyplot as plt\n",
    "from scipy.io import wavfile\n",
    "from datetime import datetime\n",
    "import os"
   ]
  },
  {
   "cell_type": "code",
   "execution_count": null,
   "metadata": {},
   "outputs": [],
   "source": [
    "# For unbroken wav files (first iteration of data cleaning)\n",
    "plant_dir = r\"..\\data\\raw-plant-data\"\n",
    "interval_dir = r\"..\\data\\teamwork-intervals\\interval-sub-tables\"\n",
    "\n",
    "store_dir = r\"..\\data\\interim-plant-data-teamwork-extracted\""
   ]
  },
  {
   "cell_type": "code",
   "execution_count": null,
   "metadata": {},
   "outputs": [],
   "source": [
    "# Teamwork sessions only on 3 out of 4 days. \n",
    "session_days = [\"2023-01-10\", \n",
    "                \"2023-01-12\", \n",
    "                \"2023-01-13\"]"
   ]
  },
  {
   "cell_type": "code",
   "execution_count": null,
   "metadata": {},
   "outputs": [],
   "source": [
    "plant_data_folders = os.listdir(plant_dir)\n",
    "plant_data_folders"
   ]
  },
  {
   "cell_type": "markdown",
   "metadata": {},
   "source": [
    "### Select the team here:"
   ]
  },
  {
   "cell_type": "code",
   "execution_count": null,
   "metadata": {},
   "outputs": [],
   "source": [
    "team_number = 10"
   ]
  },
  {
   "cell_type": "code",
   "execution_count": null,
   "metadata": {},
   "outputs": [],
   "source": [
    "team_name = plant_data_folders[team_number] # adjust the index to get a particular team. \n",
    "plant_data_folders[team_number] "
   ]
  },
  {
   "cell_type": "code",
   "execution_count": null,
   "metadata": {},
   "outputs": [],
   "source": [
    "# For unbroken wav files (first iteration of data cleaning)\n",
    "signal_dir = os.path.join(plant_dir,team_name,r\"Plant_corrected\")\n",
    "signal_labels = os.listdir(signal_dir) # [\"BYB_Recording_2023-01-10_08.07.40\", ...]\n",
    "print(team_name) # \"Team_01\"\n",
    "\n",
    "# Transform \"Team_01\" into \"team_1\" ONLY for accessing .xlsx files with teamwork session intervals per team! (team_1.xlsx)\n",
    "team_label = team_name.lower()\n",
    "print(team_label) # team_1"
   ]
  },
  {
   "cell_type": "markdown",
   "metadata": {},
   "source": [
    "The following dictionary is specific to the column names in the teamwork intervals excel sheets. "
   ]
  },
  {
   "cell_type": "code",
   "execution_count": null,
   "metadata": {},
   "outputs": [],
   "source": [
    "signal_labels"
   ]
  },
  {
   "cell_type": "markdown",
   "metadata": {},
   "source": [
    "Iterate over all `.wav` files of a particular team. "
   ]
  },
  {
   "cell_type": "code",
   "execution_count": null,
   "metadata": {},
   "outputs": [],
   "source": [
    "def get_tw_intervals(team, day):\n",
    "    \"\"\"\n",
    "    Helper function to get teamwork intervals for a particular team at a particular day.\n",
    "    \"\"\"\n",
    "    df_team = pd.read_excel(os.path.join(interval_dir,team+\".xlsx\"))\n",
    "    print(os.path.join(interval_dir,team+\".xlsx\"))\n",
    "    \n",
    "    # Dictionary for the columns indicating start and end times for each day. \n",
    "    interval_dict = {\"2023-01-10\": [\"Day 1\", \"Unnamed: 1\"],\n",
    "                     \"2023-01-12\": [\"Day 3\", \"Unnamed: 9\"],\n",
    "                     \"2023-01-13\": [\"Day 4\", \"Unnamed: 17\"]}\n",
    "    \n",
    "    df_team_day = df_team[[interval_dict[day][0],interval_dict[day][1]]]\n",
    "    print(f\"df_team_day:\\n{df_team_day}\")\n",
    "    df_team_day = df_team_day.tail(-2) # first two rows not relevant.\n",
    "    df_team_day_intervals = df_team_day[df_team_day[interval_dict[day][1]].apply(lambda x: isinstance(x, str))]\n",
    "    print(f\"df_team_day_intervals:\\n{df_team_day_intervals}\")\n",
    "    print(len(df_team_day_intervals))\n",
    "    \n",
    "    return df_team_day_intervals    "
   ]
  },
  {
   "cell_type": "code",
   "execution_count": null,
   "metadata": {},
   "outputs": [],
   "source": [
    "def extract_teamwork_signal(day,recording_path,tw_interval,num_recs_per_day,recording_start):\n",
    "    \"\"\"\n",
    "    Helper function to extract the teamwork signal from the plant recording. \n",
    "    \"\"\"\n",
    "    # Dictionary for the columns indicating start and end times for each day. \n",
    "    interval_dict = {\"2023-01-10\": [\"Day 1\", \"Unnamed: 1\"],\n",
    "                     \"2023-01-12\": [\"Day 3\", \"Unnamed: 9\"],\n",
    "                     \"2023-01-13\": [\"Day 4\", \"Unnamed: 17\"]}\n",
    "    FMT = '%H:%M:%S'\n",
    "    \n",
    "    # Load .wav file. \n",
    "    sampling_rate, plant_wave = wavfile.read(recording_path)\n",
    "    \n",
    "    if num_recs_per_day == 1: #num recordings per team per day\n",
    "        \n",
    "        for ind in tw_interval.index:\n",
    "            teamwork_start = tw_interval[interval_dict[day][0]][ind]\n",
    "            teamwork_end = tw_interval[interval_dict[day][1]][ind]\n",
    "            print(f\"Start timestamp recording: {recording_start}\\nTimestamp teamwork interval: {teamwork_start} until {teamwork_end}\")\n",
    "            \n",
    "            timedelta_start = datetime.strptime(teamwork_start, FMT) - datetime.strptime(recording_start, FMT)\n",
    "            timedelta_end = datetime.strptime(teamwork_end, FMT) - datetime.strptime(recording_start, FMT)\n",
    "            print(f\"Teamwork start: {timedelta_start}\\nTeamwork end: {timedelta_end}\\nTime difference: {timedelta_end-timedelta_start}\")\n",
    "            \n",
    "            # Convert time into seconds. \n",
    "            start_s = int(timedelta_start.total_seconds())\n",
    "            end_s = int(timedelta_end.total_seconds())\n",
    "            print(f\"TW start in s: {start_s}\\nTW end in s: {end_s}\")\n",
    "            \n",
    "            # Print recording info.\n",
    "            print(f\"Len(plant_wave): {len(plant_wave)}\")\n",
    "            print(f\"sampling_rate: {sampling_rate}\")\n",
    "\n",
    "            # Compute the actual frames in the time series. \n",
    "            frame_start = sampling_rate * start_s\n",
    "            frame_end = sampling_rate * end_s\n",
    "            print(f\"Frame start in s: {frame_start}\\nFrame end in s: {frame_end}\")\n",
    "\n",
    "            # Extract time series corresponding to teamwork session from plant recording. \n",
    "            tw_signal = plant_wave[frame_start:frame_end]  \n",
    "            print(f\"Len(tw_signal): {len(tw_signal)}\")\n",
    "            \n",
    "            # Save extracted time series corresponding to teamwork session. \n",
    "            tw_signal_label = f\"sdm_{day}_{team_name.lower()}_{start_s}_{end_s}.wav\"\n",
    "            print(tw_signal_label)\n",
    "            print(tw_signal)\n",
    "                \n",
    "            path_dir = os.path.join(store_dir,team_name.lower(),day)\n",
    "            path_file = os.path.join(store_dir,team_name.lower(),day,tw_signal_label)\n",
    "\n",
    "            if len(plant_wave) < frame_start: \n",
    "                print(f\"Teamwork session not recorded. Len(plant_wave) {len(plant_wave)} exceeds frame_start {frame_start}\")\n",
    "                tw_signal_label = \"empty_\" + tw_signal_label\n",
    "                print(f\"Empty label: {tw_signal_label}\")\n",
    "                path_dir = os.path.join(store_dir,team_name.lower(),day+\"_empty\")\n",
    "                path_file = os.path.join(store_dir,team_name.lower(),day+\"_empty\",tw_signal_label)     \n",
    "                \n",
    "            if not os.path.exists(path_dir):\n",
    "                os.makedirs(path_dir)\n",
    "            if not os.path.exists(path_file):\n",
    "                wavfile.write(path_file, sampling_rate, tw_signal)\n",
    "            \n",
    "            ## Plot extracted time series corresponding to teamwork session.\n",
    "            #xi = list(range(frame_start,frame_end))\n",
    "\n",
    "            #plt.figure()\n",
    "            #plt.plot(xi,tw_signal)\n",
    "            #plt.show()\n",
    "\n",
    "            print(\"********\")\n",
    "            \n",
    "    elif num_recs_per_day > 1:\n",
    "        print(f\"Len(plant_wave): {len(plant_wave)}\")\n",
    "        print(f\"sampling_rate: {sampling_rate}\")\n",
    "        print(\"********\")"
   ]
  },
  {
   "cell_type": "code",
   "execution_count": null,
   "metadata": {
    "scrolled": true
   },
   "outputs": [],
   "source": [
    "for label in signal_labels:\n",
    "    signal_path = os.path.join(signal_dir, label)\n",
    "    print(label)\n",
    "    day = label.split(\"_\")[2]\n",
    "    recording_start = label.split(\"_\")[-1].replace('.wav', '').replace(\".\",\":\")\n",
    "    print(f\"Recording start: {recording_start}\")\n",
    "\n",
    "    if day in session_days:\n",
    "        print(f\"Day {day} is a teamwork session day.\")     \n",
    "        \n",
    "        # Get teamwork session intervals from excel sheet. \n",
    "        intervals = get_tw_intervals(team_label, day)\n",
    "        \n",
    "        # Compute bounds in seconds. \n",
    "        num_rec_per_day = sum(day in s for s in signal_labels) # number of recordings per particular day. \n",
    "        print(f\"Number of recordings per day: {num_rec_per_day}\")\n",
    "        \n",
    "        ## Extract teamwork session signal from plant recording(s).      \n",
    "        extract_teamwork_signal(day,signal_path,intervals,num_rec_per_day,recording_start)\n",
    "               \n",
    "    else:\n",
    "        print(\"Day is not in session days.\")\n",
    "    print(\"_____________\")"
   ]
  },
  {
   "cell_type": "markdown",
   "metadata": {},
   "source": [
    "# Second Iteration Data Cleaning (02.11.2023)\n",
    "### 1. Downsampled .wav files (44100->10000Hz)"
   ]
  },
  {
   "cell_type": "code",
   "execution_count": null,
   "metadata": {},
   "outputs": [],
   "source": [
    "import pandas as pd\n",
    "import matplotlib.pyplot as plt\n",
    "from scipy.io import wavfile\n",
    "from datetime import datetime\n",
    "import os"
   ]
  },
  {
   "cell_type": "code",
   "execution_count": null,
   "metadata": {},
   "outputs": [],
   "source": [
    "# For broken BUT CORRECTED wav files (the second iteration of data cleaning)\n",
    "plant_dir = r\"..\\data\\corrected-raw-plant-data\"\n",
    "interval_dir = r\"..\\data\\teamwork-intervals\\interval-sub-tables\"\n",
    "\n",
    "store_dir = r\"..\\data\\interim-plant-data-teamwork-extracted\""
   ]
  },
  {
   "cell_type": "code",
   "execution_count": null,
   "metadata": {},
   "outputs": [],
   "source": [
    "# Teamwork sessions only on 3 out of 4 days. \n",
    "session_days = [\"2023-01-10\", \n",
    "                \"2023-01-12\", \n",
    "                \"2023-01-13\"]"
   ]
  },
  {
   "cell_type": "code",
   "execution_count": null,
   "metadata": {},
   "outputs": [],
   "source": [
    "plant_data_folders = os.listdir(plant_dir)\n",
    "plant_data_folders"
   ]
  },
  {
   "cell_type": "code",
   "execution_count": null,
   "metadata": {},
   "outputs": [],
   "source": [
    "team_number = 2"
   ]
  },
  {
   "cell_type": "code",
   "execution_count": null,
   "metadata": {},
   "outputs": [],
   "source": [
    "team_name = plant_data_folders[team_number] # adjust the index to get a particular team. \n",
    "plant_data_folders[team_number] "
   ]
  },
  {
   "cell_type": "code",
   "execution_count": null,
   "metadata": {},
   "outputs": [],
   "source": [
    "# For broken BUT CORRECTED wav files (the second iteration of data cleaning)\n",
    "signal_dir = os.path.join(plant_dir,team_name)\n",
    "signal_labels = os.listdir(signal_dir) # [\"BYB_Recording_2023-01-10_08.07.40\", ...]\n",
    "print(team_name) # \"Team_01\"\n",
    "\n",
    "# Transform \"Team_01\" into \"team_1\" ONLY for accessing .xlsx files with teamwork session intervals per team! (team_1.xlsx)\n",
    "team_label = team_name.lower()\n",
    "print(team_label) # team_1"
   ]
  },
  {
   "cell_type": "code",
   "execution_count": null,
   "metadata": {},
   "outputs": [],
   "source": [
    "signal_labels"
   ]
  },
  {
   "cell_type": "code",
   "execution_count": null,
   "metadata": {},
   "outputs": [],
   "source": [
    "def get_tw_intervals(team, day):\n",
    "    \"\"\"\n",
    "    Helper function to get teamwork intervals for a particular team at a particular day.\n",
    "    \"\"\"\n",
    "    df_team = pd.read_excel(os.path.join(interval_dir,team+\".xlsx\"))\n",
    "    print(os.path.join(interval_dir,team+\".xlsx\"))\n",
    "    \n",
    "    # Dictionary for the columns indicating start and end times for each day. \n",
    "    interval_dict = {\"2023-01-10\": [\"Day 1\", \"Unnamed: 1\"],\n",
    "                     \"2023-01-12\": [\"Day 3\", \"Unnamed: 9\"],\n",
    "                     \"2023-01-13\": [\"Day 4\", \"Unnamed: 17\"]}\n",
    "    \n",
    "    df_team_day = df_team[[interval_dict[day][0],interval_dict[day][1]]]\n",
    "    print(f\"df_team_day:\\n{df_team_day}\")\n",
    "    df_team_day = df_team_day.tail(-2) # first two rows not relevant.\n",
    "    df_team_day_intervals = df_team_day[df_team_day[interval_dict[day][1]].apply(lambda x: isinstance(x, str))]\n",
    "    print(f\"df_team_day_intervals:\\n{df_team_day_intervals}\")\n",
    "    print(len(df_team_day_intervals))\n",
    "    \n",
    "    return df_team_day_intervals    "
   ]
  },
  {
   "cell_type": "code",
   "execution_count": null,
   "metadata": {},
   "outputs": [],
   "source": [
    "def extract_teamwork_signal(day,recording_path,tw_interval,num_recs_per_day,recording_start):\n",
    "    \"\"\"\n",
    "    Helper function to extract the teamwork signal from the plant recording. \n",
    "    \"\"\"\n",
    "    # Dictionary for the columns indicating start and end times for each day. \n",
    "    interval_dict = {\"2023-01-10\": [\"Day 1\", \"Unnamed: 1\"],\n",
    "                     \"2023-01-12\": [\"Day 3\", \"Unnamed: 9\"],\n",
    "                     \"2023-01-13\": [\"Day 4\", \"Unnamed: 17\"]}\n",
    "    FMT = '%H:%M:%S'\n",
    "    \n",
    "    # Load .wav file. \n",
    "    sampling_rate, plant_wave = wavfile.read(recording_path)\n",
    "    \n",
    "    if num_recs_per_day == 1: #num recordings per team per day\n",
    "        \n",
    "        for ind in tw_interval.index:\n",
    "            teamwork_start = tw_interval[interval_dict[day][0]][ind]\n",
    "            teamwork_end = tw_interval[interval_dict[day][1]][ind]\n",
    "            print(f\"Start timestamp recording: {recording_start}\\nTimestamp teamwork interval: {teamwork_start} until {teamwork_end}\")\n",
    "            \n",
    "            timedelta_start = datetime.strptime(teamwork_start, FMT) - datetime.strptime(recording_start, FMT)\n",
    "            timedelta_end = datetime.strptime(teamwork_end, FMT) - datetime.strptime(recording_start, FMT)\n",
    "            print(f\"Teamwork start: {timedelta_start}\\nTeamwork end: {timedelta_end}\\nTime difference: {timedelta_end-timedelta_start}\")\n",
    "            \n",
    "            # Convert time into seconds. \n",
    "            start_s = int(timedelta_start.total_seconds())\n",
    "            end_s = int(timedelta_end.total_seconds())\n",
    "            print(f\"TW start in s: {start_s}\\nTW end in s: {end_s}\")\n",
    "            \n",
    "            # Print recording info.\n",
    "            print(f\"Len(plant_wave): {len(plant_wave)}\")\n",
    "            print(f\"sampling_rate: {sampling_rate}\")\n",
    "\n",
    "            # Compute the actual frames in the time series. \n",
    "            frame_start = sampling_rate * start_s\n",
    "            frame_end = sampling_rate * end_s\n",
    "            print(f\"Frame start in s: {frame_start}\\nFrame end in s: {frame_end}\")\n",
    "\n",
    "            # Extract time series corresponding to teamwork session from plant recording. \n",
    "            tw_signal = plant_wave[frame_start:frame_end]  \n",
    "            print(f\"Len(tw_signal): {len(tw_signal)}\")\n",
    "            \n",
    "            # Save extracted time series corresponding to teamwork session. \n",
    "            tw_signal_label = f\"sdm_{day}_{team_name.lower()}_{start_s}_{end_s}.wav\"\n",
    "            print(tw_signal_label)\n",
    "            print(tw_signal)\n",
    "                \n",
    "            path_dir = os.path.join(store_dir,team_name.lower(),day)\n",
    "            path_file = os.path.join(store_dir,team_name.lower(),day,tw_signal_label)\n",
    "\n",
    "            if len(plant_wave) < frame_start: \n",
    "                print(f\"Teamwork session not recorded. Len(plant_wave) {len(plant_wave)} exceeds frame_start {frame_start}\")\n",
    "                tw_signal_label = \"empty_\" + tw_signal_label\n",
    "                print(f\"Empty label: {tw_signal_label}\")\n",
    "                path_dir = os.path.join(store_dir,team_name.lower(),day+\"_empty\")\n",
    "                path_file = os.path.join(store_dir,team_name.lower(),day+\"_empty\",tw_signal_label)     \n",
    "                \n",
    "            if not os.path.exists(path_dir):\n",
    "                os.makedirs(path_dir)\n",
    "            if not os.path.exists(path_file):\n",
    "                wavfile.write(path_file, sampling_rate, tw_signal)\n",
    "            \n",
    "            ## Plot extracted time series corresponding to teamwork session.\n",
    "            #xi = list(range(frame_start,frame_end))\n",
    "\n",
    "            #plt.figure()\n",
    "            #plt.plot(xi,tw_signal)\n",
    "            #plt.show()\n",
    "\n",
    "            print(\"********\")\n",
    "            \n",
    "    elif num_recs_per_day > 1:\n",
    "        print(f\"Len(plant_wave): {len(plant_wave)}\")\n",
    "        print(f\"sampling_rate: {sampling_rate}\")\n",
    "        print(\"********\")"
   ]
  },
  {
   "cell_type": "code",
   "execution_count": null,
   "metadata": {
    "scrolled": true
   },
   "outputs": [],
   "source": [
    "for label in signal_labels:\n",
    "    signal_path = os.path.join(signal_dir, label)\n",
    "    print(label)\n",
    "    day = label.split(\"_\")[2]\n",
    "    recording_start = label.split(\"_\")[-1].replace('.wav', '').replace(\".\",\":\")\n",
    "    print(f\"Recording start: {recording_start}\")\n",
    "\n",
    "    if day in session_days:\n",
    "        print(f\"Day {day} is a teamwork session day.\")     \n",
    "        \n",
    "        # Get teamwork session intervals from excel sheet. \n",
    "        intervals = get_tw_intervals(team_label, day)\n",
    "        \n",
    "        # Compute bounds in seconds. \n",
    "        num_rec_per_day = sum(day in s for s in signal_labels) # number of recordings per particular day. \n",
    "        print(f\"Number of recordings per day: {num_rec_per_day}\")\n",
    "        \n",
    "        ## Extract teamwork session signal from plant recording(s).      \n",
    "        extract_teamwork_signal(day,signal_path,intervals,num_rec_per_day,recording_start)\n",
    "               \n",
    "    else:\n",
    "        print(\"Day is not in session days.\")\n",
    "    print(\"_____________\")"
   ]
  },
  {
   "cell_type": "markdown",
   "metadata": {},
   "source": [
    "### 2. TW Session Start after Recording Start \n",
    "Should be TW Session Start before Recording Start"
   ]
  },
  {
   "cell_type": "code",
   "execution_count": null,
   "metadata": {},
   "outputs": [],
   "source": [
    "import pandas as pd\n",
    "import matplotlib.pyplot as plt\n",
    "from scipy.io import wavfile\n",
    "from datetime import datetime\n",
    "import os"
   ]
  },
  {
   "cell_type": "code",
   "execution_count": null,
   "metadata": {},
   "outputs": [],
   "source": [
    "# For broken BUT CORRECTED wav files (the second iteration of data cleaning)\n",
    "plant_dir = r\"..\\data\\raw-plant-data\"\n",
    "interval_dir = r\"..\\data\\teamwork-intervals\\interval-sub-tables\"\n",
    "\n",
    "store_dir = r\"..\\data\\interim-plant-data-teamwork-extracted\""
   ]
  },
  {
   "cell_type": "code",
   "execution_count": null,
   "metadata": {},
   "outputs": [],
   "source": [
    "# Teamwork sessions only on 3 out of 4 days. \n",
    "session_days = [\"2023-01-10\", \n",
    "                \"2023-01-12\", \n",
    "                \"2023-01-13\"]"
   ]
  },
  {
   "cell_type": "code",
   "execution_count": null,
   "metadata": {},
   "outputs": [],
   "source": [
    "plant_data_folders = os.listdir(plant_dir)\n",
    "plant_data_folders"
   ]
  },
  {
   "cell_type": "code",
   "execution_count": null,
   "metadata": {},
   "outputs": [],
   "source": [
    "# Choose numbers from [10, 14, 15, 19]\n",
    "team_number = 19"
   ]
  },
  {
   "cell_type": "code",
   "execution_count": null,
   "metadata": {},
   "outputs": [],
   "source": [
    "team_name = plant_data_folders[team_number] # adjust the index to get a particular team. \n",
    "plant_data_folders[team_number] "
   ]
  },
  {
   "cell_type": "code",
   "execution_count": null,
   "metadata": {},
   "outputs": [],
   "source": [
    "# For broken BUT CORRECTED wav files (the second iteration of data cleaning)\n",
    "signal_dir = os.path.join(plant_dir,team_name,r\"Plant_corrected\")\n",
    "signal_labels = os.listdir(signal_dir) # [\"BYB_Recording_2023-01-10_08.07.40\", ...]\n",
    "print(team_name) # \"Team_01\"\n",
    "\n",
    "# Transform \"Team_01\" into \"team_1\" ONLY for accessing .xlsx files with teamwork session intervals per team! (team_1.xlsx)\n",
    "team_label = team_name.lower()\n",
    "print(team_label) # team_1"
   ]
  },
  {
   "cell_type": "code",
   "execution_count": null,
   "metadata": {},
   "outputs": [],
   "source": [
    "signal_labels"
   ]
  },
  {
   "cell_type": "code",
   "execution_count": null,
   "metadata": {},
   "outputs": [],
   "source": [
    "def get_tw_intervals(team, day):\n",
    "    \"\"\"\n",
    "    Helper function to get teamwork intervals for a particular team at a particular day.\n",
    "    \"\"\"\n",
    "    df_team = pd.read_excel(os.path.join(interval_dir,team+\".xlsx\"))\n",
    "    print(os.path.join(interval_dir,team+\".xlsx\"))\n",
    "    \n",
    "    # Dictionary for the columns indicating start and end times for each day. \n",
    "    interval_dict = {\"2023-01-10\": [\"Day 1\", \"Unnamed: 1\"],\n",
    "                     \"2023-01-12\": [\"Day 3\", \"Unnamed: 9\"],\n",
    "                     \"2023-01-13\": [\"Day 4\", \"Unnamed: 17\"]}\n",
    "    \n",
    "    df_team_day = df_team[[interval_dict[day][0],interval_dict[day][1]]]\n",
    "    print(f\"df_team_day:\\n{df_team_day}\")\n",
    "    df_team_day = df_team_day.tail(-2) # first two rows not relevant.\n",
    "    df_team_day_intervals = df_team_day[df_team_day[interval_dict[day][1]].apply(lambda x: isinstance(x, str))]\n",
    "    print(f\"df_team_day_intervals:\\n{df_team_day_intervals}\")\n",
    "    print(len(df_team_day_intervals))\n",
    "    \n",
    "    return df_team_day_intervals    "
   ]
  },
  {
   "cell_type": "code",
   "execution_count": null,
   "metadata": {},
   "outputs": [],
   "source": [
    "def extract_teamwork_signal(day,recording_path,tw_interval,num_recs_per_day,recording_start):\n",
    "    \"\"\"\n",
    "    Helper function to extract the teamwork signal from the plant recording. \n",
    "    \"\"\"\n",
    "    # Dictionary for the columns indicating start and end times for each day. \n",
    "    interval_dict = {\"2023-01-10\": [\"Day 1\", \"Unnamed: 1\"],\n",
    "                     \"2023-01-12\": [\"Day 3\", \"Unnamed: 9\"],\n",
    "                     \"2023-01-13\": [\"Day 4\", \"Unnamed: 17\"]}\n",
    "    FMT = '%H:%M:%S'\n",
    "    \n",
    "    # Load .wav file. \n",
    "    sampling_rate, plant_wave = wavfile.read(recording_path)\n",
    "    \n",
    "    if num_recs_per_day == 1: #num recordings per team per day\n",
    "        \n",
    "        for ind in tw_interval.index:\n",
    "            teamwork_start = tw_interval[interval_dict[day][0]][ind]\n",
    "            teamwork_end = tw_interval[interval_dict[day][1]][ind]\n",
    "            print(f\"Start timestamp recording: {recording_start}\\nTimestamp teamwork interval: {teamwork_start} until {teamwork_end}\")\n",
    "            \n",
    "            timedelta_start = datetime.strptime(teamwork_start, FMT) - datetime.strptime(recording_start, FMT)\n",
    "            timedelta_end = datetime.strptime(teamwork_end, FMT) - datetime.strptime(recording_start, FMT)\n",
    "            print(f\"Teamwork start: {timedelta_start}\\nTeamwork end: {timedelta_end}\\nTime difference: {timedelta_end-timedelta_start}\")\n",
    "\n",
    "            if int(timedelta_start.total_seconds()) < 0: \n",
    "                teamwork_start = recording_start\n",
    "                timedelta_start = datetime.strptime(teamwork_start, FMT) - datetime.strptime(recording_start, FMT)\n",
    "                print(\"----------------------> Teamwork Session starts before Recording!\")\n",
    "                print(f\"New timestamp teamwork interval: {teamwork_start} until {teamwork_end}\")\n",
    "\n",
    "            if int(timedelta_end.total_seconds()) < 0: \n",
    "                # This implies that also timedelta_start < 0!\n",
    "                # if this condition holds then this particular teamwork session was not recorded at all. Hence, get to the next iteration.\n",
    "                print(\"----------------------> Teamwork Session was not recorded!\")\n",
    "            \n",
    "            print(f\"New teamwork start: {timedelta_start}\\nTeamwork end: {timedelta_end}\\nTime difference: {timedelta_end-timedelta_start}\")\n",
    "            \n",
    "            # Convert time into seconds. \n",
    "            start_s = int(timedelta_start.total_seconds())\n",
    "            end_s = int(timedelta_end.total_seconds())\n",
    "            print(f\"TW start in s: {start_s}\\nTW end in s: {end_s}\")\n",
    "            \n",
    "            # Print recording info.\n",
    "            print(f\"Len(plant_wave): {len(plant_wave)}\")\n",
    "            print(f\"sampling_rate: {sampling_rate}\")\n",
    "\n",
    "            # Compute the actual frames in the time series. \n",
    "            frame_start = sampling_rate * start_s\n",
    "            frame_end = sampling_rate * end_s\n",
    "            print(f\"Frame start in s: {frame_start}\\nFrame end in s: {frame_end}\")\n",
    "\n",
    "            # Extract time series corresponding to teamwork session from plant recording. \n",
    "            tw_signal = plant_wave[frame_start:frame_end]  \n",
    "            print(f\"Len(tw_signal): {len(tw_signal)}\")\n",
    "            \n",
    "            # Save extracted time series corresponding to teamwork session. \n",
    "            tw_signal_label = f\"sdm_{day}_{team_name.lower()}_{start_s}_{end_s}.wav\"\n",
    "            if int(timedelta_start.total_seconds()) == 0: \n",
    "                tw_signal_label = f\"recorded_after_start_tw_sdm_{day}_{team_name.lower()}_{start_s}_{end_s}.wav\"\n",
    "            \n",
    "            if int(timedelta_end.total_seconds()) < 0: \n",
    "                tw_signal_label = f\"not_recorded_sdm_{day}_{team_name.lower()}_{start_s}_{end_s}.wav\"\n",
    "\n",
    "            print(tw_signal_label)\n",
    "            print(tw_signal)\n",
    "                \n",
    "            path_dir = os.path.join(store_dir,team_name.lower(),day)\n",
    "            path_file = os.path.join(store_dir,team_name.lower(),day,tw_signal_label)\n",
    "\n",
    "            if len(plant_wave) < frame_start: \n",
    "                print(f\"Teamwork session not recorded. Len(plant_wave) {len(plant_wave)} exceeds frame_start {frame_start}\")\n",
    "                tw_signal_label = \"empty_\" + tw_signal_label\n",
    "                print(f\"Empty label: {tw_signal_label}\")\n",
    "                path_dir = os.path.join(store_dir,team_name.lower(),day+\"_empty\")\n",
    "                path_file = os.path.join(store_dir,team_name.lower(),day+\"_empty\",tw_signal_label)     \n",
    "                \n",
    "            if not os.path.exists(path_dir):\n",
    "                os.makedirs(path_dir)\n",
    "            if not os.path.exists(path_file):\n",
    "                wavfile.write(path_file, sampling_rate, tw_signal)\n",
    "            \n",
    "            ## Plot extracted time series corresponding to teamwork session.\n",
    "            #xi = list(range(frame_start,frame_end))\n",
    "\n",
    "            #plt.figure()\n",
    "            #plt.plot(xi,tw_signal)\n",
    "            #plt.show()\n",
    "\n",
    "            print(\"********\")\n",
    "            \n",
    "    elif num_recs_per_day > 1:\n",
    "        print(f\"Len(plant_wave): {len(plant_wave)}\")\n",
    "        print(f\"sampling_rate: {sampling_rate}\")\n",
    "        print(\"********\")"
   ]
  },
  {
   "cell_type": "code",
   "execution_count": null,
   "metadata": {
    "scrolled": true
   },
   "outputs": [],
   "source": [
    "for label in signal_labels:\n",
    "    signal_path = os.path.join(signal_dir, label)\n",
    "    print(label)\n",
    "    day = label.split(\"_\")[2]\n",
    "    recording_start = label.split(\"_\")[-1].replace('.wav', '').replace(\".\",\":\")\n",
    "    print(f\"Recording start: {recording_start}\")\n",
    "\n",
    "    if day in session_days:\n",
    "        print(f\"Day {day} is a teamwork session day.\")     \n",
    "        \n",
    "        # Get teamwork session intervals from excel sheet. \n",
    "        intervals = get_tw_intervals(team_label, day)\n",
    "        \n",
    "        # Compute bounds in seconds. \n",
    "        num_rec_per_day = sum(day in s for s in signal_labels) # number of recordings per particular day. \n",
    "        print(f\"Number of recordings per day: {num_rec_per_day}\")\n",
    "        \n",
    "        ## Extract teamwork session signal from plant recording(s).      \n",
    "        extract_teamwork_signal(day,signal_path,intervals,num_rec_per_day,recording_start)\n",
    "               \n",
    "    else:\n",
    "        print(\"Day is not in session days.\")\n",
    "    print(\"_____________\")"
   ]
  },
  {
   "cell_type": "markdown",
   "metadata": {},
   "source": [
    "### 3. Multiple Recordings per Day"
   ]
  },
  {
   "cell_type": "code",
   "execution_count": null,
   "metadata": {},
   "outputs": [],
   "source": [
    "import pandas as pd\n",
    "import matplotlib.pyplot as plt\n",
    "from scipy.io import wavfile\n",
    "from datetime import datetime\n",
    "import os"
   ]
  },
  {
   "cell_type": "code",
   "execution_count": null,
   "metadata": {},
   "outputs": [],
   "source": [
    "# For broken BUT CORRECTED wav files (the second iteration of data cleaning)\n",
    "plant_dir = r\"..\\data\\corrected-raw-plant-data\"\n",
    "interval_dir = r\"..\\data\\teamwork-intervals\\interval-sub-tables\"\n",
    "\n",
    "store_dir = r\"..\\data\\interim-plant-data-teamwork-extracted\""
   ]
  },
  {
   "cell_type": "code",
   "execution_count": null,
   "metadata": {},
   "outputs": [],
   "source": [
    "# Teamwork sessions only on 3 out of 4 days. \n",
    "session_days = [\"2023-01-10\", \n",
    "                \"2023-01-12\", \n",
    "                \"2023-01-13\"]"
   ]
  },
  {
   "cell_type": "code",
   "execution_count": null,
   "metadata": {},
   "outputs": [],
   "source": [
    "plant_data_folders = os.listdir(plant_dir)\n",
    "plant_data_folders"
   ]
  },
  {
   "cell_type": "code",
   "execution_count": null,
   "metadata": {},
   "outputs": [],
   "source": [
    "# Choose numbers from [3, 4, 5, 6, 7, 8] \n",
    "team_number = 7"
   ]
  },
  {
   "cell_type": "code",
   "execution_count": null,
   "metadata": {},
   "outputs": [],
   "source": [
    "team_name = plant_data_folders[team_number] # adjust the index to get a particular team. \n",
    "plant_data_folders[team_number] "
   ]
  },
  {
   "cell_type": "code",
   "execution_count": null,
   "metadata": {},
   "outputs": [],
   "source": [
    "# For broken BUT CORRECTED wav files (the second iteration of data cleaning)\n",
    "signal_dir = os.path.join(plant_dir,team_name)\n",
    "signal_labels = os.listdir(signal_dir) # [\"BYB_Recording_2023-01-10_08.07.40\", ...]\n",
    "print(team_name) # \"Team_01\"\n",
    "\n",
    "# Transform \"Team_01\" into \"team_1\" ONLY for accessing .xlsx files with teamwork session intervals per team! (team_1.xlsx)\n",
    "team_label = team_name.lower()\n",
    "print(team_label) # team_1"
   ]
  },
  {
   "cell_type": "code",
   "execution_count": null,
   "metadata": {},
   "outputs": [],
   "source": [
    "signal_labels"
   ]
  },
  {
   "cell_type": "code",
   "execution_count": null,
   "metadata": {},
   "outputs": [],
   "source": [
    "def get_tw_intervals(team, day):\n",
    "    \"\"\"\n",
    "    Helper function to get teamwork intervals for a particular team at a particular day.\n",
    "    \"\"\"\n",
    "    df_team = pd.read_excel(os.path.join(interval_dir,team+\".xlsx\"))\n",
    "    print(os.path.join(interval_dir,team+\".xlsx\"))\n",
    "    \n",
    "    # Dictionary for the columns indicating start and end times for each day. \n",
    "    interval_dict = {\"2023-01-10\": [\"Day 1\", \"Unnamed: 1\"],\n",
    "                     \"2023-01-12\": [\"Day 3\", \"Unnamed: 9\"],\n",
    "                     \"2023-01-13\": [\"Day 4\", \"Unnamed: 17\"]}\n",
    "    \n",
    "    df_team_day = df_team[[interval_dict[day][0],interval_dict[day][1]]]\n",
    "    print(f\"df_team_day:\\n{df_team_day}\")\n",
    "    df_team_day = df_team_day.tail(-2) # first two rows not relevant.\n",
    "    df_team_day_intervals = df_team_day[df_team_day[interval_dict[day][1]].apply(lambda x: isinstance(x, str))]\n",
    "    print(f\"df_team_day_intervals:\\n{df_team_day_intervals}\")\n",
    "    print(len(df_team_day_intervals))\n",
    "    \n",
    "    return df_team_day_intervals    "
   ]
  },
  {
   "cell_type": "code",
   "execution_count": null,
   "metadata": {},
   "outputs": [],
   "source": [
    "def extract_teamwork_signal(day,recording_path,tw_interval,num_recs_per_day,recording_start):\n",
    "    \"\"\"\n",
    "    Helper function to extract the teamwork signal from the plant recording. \n",
    "    \"\"\"\n",
    "    # Dictionary for the columns indicating start and end times for each day. \n",
    "    interval_dict = {\"2023-01-10\": [\"Day 1\", \"Unnamed: 1\"],\n",
    "                     \"2023-01-12\": [\"Day 3\", \"Unnamed: 9\"],\n",
    "                     \"2023-01-13\": [\"Day 4\", \"Unnamed: 17\"]}\n",
    "    FMT = '%H:%M:%S'\n",
    "    \n",
    "    # Load .wav file. \n",
    "    sampling_rate, plant_wave = wavfile.read(recording_path)\n",
    "    \n",
    "    if num_recs_per_day == 1: #num recordings per team per day\n",
    "        \n",
    "        for ind in tw_interval.index:\n",
    "            teamwork_start = tw_interval[interval_dict[day][0]][ind]\n",
    "            teamwork_end = tw_interval[interval_dict[day][1]][ind]\n",
    "            print(f\"Start timestamp recording: {recording_start}\\nTimestamp teamwork interval: {teamwork_start} until {teamwork_end}\")\n",
    "            \n",
    "            timedelta_start = datetime.strptime(teamwork_start, FMT) - datetime.strptime(recording_start, FMT)\n",
    "            timedelta_end = datetime.strptime(teamwork_end, FMT) - datetime.strptime(recording_start, FMT)\n",
    "            print(f\"Teamwork start: {timedelta_start}\\nTeamwork end: {timedelta_end}\\nTime difference: {timedelta_end-timedelta_start}\")\n",
    "\n",
    "            if int(timedelta_start.total_seconds()) < 0: \n",
    "                teamwork_start = recording_start\n",
    "                timedelta_start = datetime.strptime(teamwork_start, FMT) - datetime.strptime(recording_start, FMT)\n",
    "                print(\"----------------------> Teamwork Session starts before Recording!\")\n",
    "                print(f\"New timestamp teamwork interval: {teamwork_start} until {teamwork_end}\")\n",
    "\n",
    "            if int(timedelta_end.total_seconds()) < 0: \n",
    "                # This implies that also timedelta_start < 0!\n",
    "                # if this condition holds then this particular teamwork session was not recorded at all. Hence, get to the next iteration.\n",
    "                print(\"----------------------> Teamwork Session was not recorded!\")\n",
    "            \n",
    "            print(f\"New teamwork start: {timedelta_start}\\nTeamwork end: {timedelta_end}\\nTime difference: {timedelta_end-timedelta_start}\")\n",
    "            \n",
    "            # Convert time into seconds. \n",
    "            start_s = int(timedelta_start.total_seconds())\n",
    "            end_s = int(timedelta_end.total_seconds())\n",
    "            print(f\"TW start in s: {start_s}\\nTW end in s: {end_s}\")\n",
    "            \n",
    "            # Print recording info.\n",
    "            print(f\"Len(plant_wave): {len(plant_wave)}\")\n",
    "            print(f\"sampling_rate: {sampling_rate}\")\n",
    "\n",
    "            # Compute the actual frames in the time series. \n",
    "            frame_start = sampling_rate * start_s\n",
    "            frame_end = sampling_rate * end_s\n",
    "            print(f\"Frame start in s: {frame_start}\\nFrame end in s: {frame_end}\")\n",
    "\n",
    "            # Extract time series corresponding to teamwork session from plant recording. \n",
    "            tw_signal = plant_wave[frame_start:frame_end]  \n",
    "            print(f\"Len(tw_signal): {len(tw_signal)}\")\n",
    "            \n",
    "            # Save extracted time series corresponding to teamwork session. \n",
    "            tw_signal_label = f\"sdm_{day}_{team_name.lower()}_{start_s}_{end_s}.wav\"\n",
    "            if int(timedelta_start.total_seconds()) == 0: \n",
    "                tw_signal_label = f\"recorded_after_start_tw_sdm_{day}_{team_name.lower()}_{start_s}_{end_s}.wav\"\n",
    "            \n",
    "            if int(timedelta_end.total_seconds()) < 0: \n",
    "                tw_signal_label = f\"not_recorded_sdm_{day}_{team_name.lower()}_{start_s}_{end_s}.wav\"\n",
    "\n",
    "            print(tw_signal_label)\n",
    "            print(tw_signal)\n",
    "                \n",
    "            path_dir = os.path.join(store_dir,team_name.lower(),day)\n",
    "            path_file = os.path.join(store_dir,team_name.lower(),day,tw_signal_label)\n",
    "\n",
    "            if len(plant_wave) < frame_start: \n",
    "                print(f\"Teamwork session not recorded. Len(plant_wave) {len(plant_wave)} exceeds frame_start {frame_start}\")\n",
    "                tw_signal_label = \"empty_\" + tw_signal_label\n",
    "                print(f\"Empty label: {tw_signal_label}\")\n",
    "                path_dir = os.path.join(store_dir,team_name.lower(),day+\"_empty\")\n",
    "                path_file = os.path.join(store_dir,team_name.lower(),day+\"_empty\",tw_signal_label)     \n",
    "                \n",
    "            if not os.path.exists(path_dir):\n",
    "                os.makedirs(path_dir)\n",
    "            if not os.path.exists(path_file):\n",
    "                wavfile.write(path_file, sampling_rate, tw_signal)\n",
    "            \n",
    "            ## Plot extracted time series corresponding to teamwork session.\n",
    "            #xi = list(range(frame_start,frame_end))\n",
    "\n",
    "            #plt.figure()\n",
    "            #plt.plot(xi,tw_signal)\n",
    "            #plt.show()\n",
    "\n",
    "            print(\"********\")\n",
    "            \n",
    "    elif num_recs_per_day > 1:\n",
    "        print(f\"Len(plant_wave): {len(plant_wave)}\")\n",
    "        print(f\"sampling_rate: {sampling_rate}\")\n",
    "        print(\"********\")"
   ]
  },
  {
   "cell_type": "code",
   "execution_count": null,
   "metadata": {
    "scrolled": true
   },
   "outputs": [],
   "source": [
    "for label in signal_labels:\n",
    "    signal_path = os.path.join(signal_dir, label)\n",
    "    print(label)\n",
    "    day = label.split(\"_\")[2]\n",
    "    recording_start = label.split(\"_\")[-1].replace('.wav', '').replace(\".\",\":\")\n",
    "    print(f\"Recording start: {recording_start}\")\n",
    "\n",
    "    if day in session_days:\n",
    "        print(f\"Day {day} is a teamwork session day.\")     \n",
    "        \n",
    "        # Get teamwork session intervals from excel sheet. \n",
    "        intervals = get_tw_intervals(team_label, day)\n",
    "        \n",
    "        # Compute bounds in seconds. \n",
    "        num_rec_per_day = sum(day in s for s in signal_labels) # number of recordings per particular day. \n",
    "        print(f\"Number of recordings per day: {num_rec_per_day}\")\n",
    "        \n",
    "        ## Extract teamwork session signal from plant recording(s).      \n",
    "        extract_teamwork_signal(day,signal_path,intervals,num_rec_per_day,recording_start)\n",
    "               \n",
    "    else:\n",
    "        print(\"Day is not in session days.\")\n",
    "    print(\"_____________\")"
   ]
  }
 ],
 "metadata": {
  "kernelspec": {
   "display_name": "Python 3 (ipykernel)",
   "language": "python",
   "name": "python3"
  },
  "language_info": {
   "codemirror_mode": {
    "name": "ipython",
    "version": 3
   },
   "file_extension": ".py",
   "mimetype": "text/x-python",
   "name": "python",
   "nbconvert_exporter": "python",
   "pygments_lexer": "ipython3",
   "version": "3.11.4"
  }
 },
 "nbformat": 4,
 "nbformat_minor": 4
}
