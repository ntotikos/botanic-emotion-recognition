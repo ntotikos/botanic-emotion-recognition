{
 "cells": [
  {
   "cell_type": "markdown",
   "metadata": {},
   "source": [
    "# 1. Excel Table Partitioning\n",
    "---\n",
    "In a previous master's thesis, different kinds of data have been collected: video, audio, smartwatch, and plant. Additionally, teamwork session intervals have been determined using video data which I will use to extract the corresponding time series from the raw plant recordings. Since all time intervals for all 20 teams and 3 days are stored on one Excel sheet, I will split this table into multiple sub-tables for each team before using them for further preprocessing."
   ]
  },
  {
   "cell_type": "code",
   "execution_count": 1,
   "metadata": {},
   "outputs": [],
   "source": [
    "from datetime import datetime\n",
    "import pandas as pd\n",
    "import os\n",
    "\n",
    "FMT = '%H:%M:%S' # required timestamp format\n",
    "table_path = r\"..\\data\\teamwork-intervals\\original_stacked_interval_table.xlsx\"\n",
    "store_dir = r\"..\\data\\teamwork-intervals\\interval-sub-tables\""
   ]
  },
  {
   "cell_type": "code",
   "execution_count": 2,
   "metadata": {},
   "outputs": [],
   "source": [
    "df = pd.read_excel(table_path)"
   ]
  },
  {
   "cell_type": "markdown",
   "metadata": {},
   "source": [
    "The original table can be considered as a stacked version of sub-tables which is why I would like to split them. The following list shows the names and order of the respective team tables in the stacked table. For later use, I mirror the list. "
   ]
  },
  {
   "cell_type": "code",
   "execution_count": 3,
   "metadata": {},
   "outputs": [],
   "source": [
    "team_labels = [\"Team 13\", \"Team 12\", \"Team 1\", \"Team 2\", \"Team 3\", \"Team 4\", \"Team 5\", \"Team 6\", \"Team 7\", \"Team 8\", \"Team 9\", \"Team 10\", \n",
    "               \"Team 11\", \"Team 15\", \"Team 16\", \"Team 17\", \"Team 18\", \"Team 19\", \"Team 20\", \"Team 22\"]\n",
    "team_labels.reverse()"
   ]
  },
  {
   "cell_type": "markdown",
   "metadata": {},
   "source": [
    "Since we have a header in row `0` that should be associated with all extracted tables, let's take it out and insert it into every sub-table later. Delete the header of the super-table now. Note: run the following cell only once, otherwise you delete multiple \"first\" rows. "
   ]
  },
  {
   "cell_type": "code",
   "execution_count": 4,
   "metadata": {},
   "outputs": [],
   "source": [
    "column_names = df[df.columns][:1]\n",
    "df.drop(index=df.index[0], axis=0, inplace=True)"
   ]
  },
  {
   "cell_type": "markdown",
   "metadata": {},
   "source": [
    "Iterate over the list `team_labels` to know up to which row we want to go. We start from the end of the super-table and work ourselves to its first rows."
   ]
  },
  {
   "cell_type": "code",
   "execution_count": 5,
   "metadata": {},
   "outputs": [
    {
     "name": "stdout",
     "output_type": "stream",
     "text": [
      "..\\data\\teamwork-intervals\\interval-sub-tables\\team_22.xlsx\n",
      "..\\data\\teamwork-intervals\\interval-sub-tables\\team_20.xlsx\n",
      "..\\data\\teamwork-intervals\\interval-sub-tables\\team_19.xlsx\n",
      "..\\data\\teamwork-intervals\\interval-sub-tables\\team_18.xlsx\n",
      "..\\data\\teamwork-intervals\\interval-sub-tables\\team_17.xlsx\n",
      "..\\data\\teamwork-intervals\\interval-sub-tables\\team_16.xlsx\n",
      "..\\data\\teamwork-intervals\\interval-sub-tables\\team_15.xlsx\n",
      "..\\data\\teamwork-intervals\\interval-sub-tables\\team_11.xlsx\n",
      "..\\data\\teamwork-intervals\\interval-sub-tables\\team_10.xlsx\n",
      "..\\data\\teamwork-intervals\\interval-sub-tables\\team_09.xlsx\n",
      "..\\data\\teamwork-intervals\\interval-sub-tables\\team_08.xlsx\n",
      "..\\data\\teamwork-intervals\\interval-sub-tables\\team_07.xlsx\n",
      "..\\data\\teamwork-intervals\\interval-sub-tables\\team_06.xlsx\n",
      "..\\data\\teamwork-intervals\\interval-sub-tables\\team_05.xlsx\n",
      "..\\data\\teamwork-intervals\\interval-sub-tables\\team_04.xlsx\n",
      "..\\data\\teamwork-intervals\\interval-sub-tables\\team_03.xlsx\n",
      "..\\data\\teamwork-intervals\\interval-sub-tables\\team_02.xlsx\n",
      "..\\data\\teamwork-intervals\\interval-sub-tables\\team_01.xlsx\n",
      "..\\data\\teamwork-intervals\\interval-sub-tables\\team_12.xlsx\n",
      "..\\data\\teamwork-intervals\\interval-sub-tables\\team_13.xlsx\n"
     ]
    }
   ],
   "source": [
    "for name in team_labels:\n",
    "    # Get the indices of rows that describe the team name listed in the team_labels list. \n",
    "    idx = df.index[df[\"Day 1\"].eq(name)].min()\n",
    "    \n",
    "    # Create a data frame containing the respective rows corresponding to a particular team. \n",
    "    df_sub = pd.concat([column_names,df[idx-1:]]).reset_index(drop=True)\n",
    "\n",
    "    # Transform table name: \"Team 1\" -> \"team_01\"\n",
    "    parts = name.split(\" \")\n",
    "    parts[1] = \"{:02d}\".format(int(parts[1]))\n",
    "    label = '_'.join(parts).lower()\n",
    "    \n",
    "    #df_sub.to_excel(os.path.join(store_dir,label) +\".xlsx\") \n",
    "    print(os.path.join(store_dir,label) +\".xlsx\")\n",
    "    \n",
    "    df = df[:idx-1] # remove extracted sub-table"
   ]
  }
 ],
 "metadata": {
  "kernelspec": {
   "display_name": "Python 3 (ipykernel)",
   "language": "python",
   "name": "python3"
  },
  "language_info": {
   "codemirror_mode": {
    "name": "ipython",
    "version": 3
   },
   "file_extension": ".py",
   "mimetype": "text/x-python",
   "name": "python",
   "nbconvert_exporter": "python",
   "pygments_lexer": "ipython3",
   "version": "3.11.4"
  }
 },
 "nbformat": 4,
 "nbformat_minor": 4
}
