{
 "cells": [
  {
   "cell_type": "markdown",
   "id": "35a79c2d-704b-4550-be00-873fa582fc99",
   "metadata": {},
   "source": [
    "# Get Ground Truth Labels for Plant Data\n",
    "---\n",
    "We are going to use labels for participants' emotions extracted from videos taken in parallel to the plant recordings. The emotions have already been predicted based on the facial expressions and what we are going to do is to get the labels and use them as ground truth for our plant experiments. "
   ]
  },
  {
   "cell_type": "code",
   "execution_count": 24,
   "id": "115acd3a-46e6-4e6c-9636-93e2fac9db92",
   "metadata": {},
   "outputs": [],
   "source": [
    "import pandas as pd\n",
    "import os"
   ]
  },
  {
   "cell_type": "code",
   "execution_count": 70,
   "id": "6e4d4c5e-3c4c-41cc-90ad-d37ff6f69471",
   "metadata": {},
   "outputs": [],
   "source": [
    "emotions_dir = \"../data/teamwork-emotions\"\n",
    "interim_data_dir = \"../data/interim-plant-data-teamwork-extracted\""
   ]
  },
  {
   "cell_type": "code",
   "execution_count": 72,
   "id": "4b4ccfaa-d204-44d5-bdcf-9522163eb2bf",
   "metadata": {},
   "outputs": [],
   "source": [
    "save_file: bool = True\n",
    "\n",
    "# Team names. \n",
    "teams = [\n",
    "    \"team_01\",\n",
    "    \"team_02\",\n",
    "    \"team_03\",\n",
    "    \"team_04\",\n",
    "    \"team_05\",\n",
    "    \"team_06\",\n",
    "    \"team_07\",\n",
    "    \"team_08\",\n",
    "    \"team_09\",\n",
    "    \"team_10\",\n",
    "    \"team_11\",\n",
    "    \"team_12\",\n",
    "    \"team_13\",\n",
    "    \"team_15\",\n",
    "    \"team_16\",\n",
    "    \"team_17\",\n",
    "    \"team_18\",\n",
    "    \"team_19\",\n",
    "    \"team_20\",\n",
    "    \"team_22\",\n",
    "]\n",
    "\n",
    "# Teamworking days. \n",
    "days = [\"2023-01-10\", \"2023-01-12\", \"2023-01-13\"]"
   ]
  },
  {
   "cell_type": "code",
   "execution_count": 73,
   "id": "7c86af91-07e6-4d1e-b53b-a0394c9afa99",
   "metadata": {},
   "outputs": [
    {
     "name": "stdout",
     "output_type": "stream",
     "text": [
      "1: ../data/interim-plant-data-teamwork-extracted\\team_1\\2023-01-10\n",
      "2: ../data/teamwork-emotions\\team_01\\2023-01-10\n",
      "1: ../data/interim-plant-data-teamwork-extracted\\team_1\\2023-01-12\n",
      "2: ../data/teamwork-emotions\\team_01\\2023-01-12\n",
      "1: ../data/interim-plant-data-teamwork-extracted\\team_1\\2023-01-13\n",
      "___________________________________\n",
      "1: ../data/interim-plant-data-teamwork-extracted\\team_2\\2023-01-10\n",
      "1: ../data/interim-plant-data-teamwork-extracted\\team_2\\2023-01-12\n",
      "1: ../data/interim-plant-data-teamwork-extracted\\team_2\\2023-01-13\n",
      "___________________________________\n",
      "___________________________________\n",
      "1: ../data/interim-plant-data-teamwork-extracted\\team_4\\2023-01-10\n",
      "1: ../data/interim-plant-data-teamwork-extracted\\team_4\\2023-01-12\n",
      "1: ../data/interim-plant-data-teamwork-extracted\\team_4\\2023-01-13\n",
      "___________________________________\n",
      "___________________________________\n",
      "___________________________________\n",
      "1: ../data/interim-plant-data-teamwork-extracted\\team_7\\2023-01-10\n",
      "1: ../data/interim-plant-data-teamwork-extracted\\team_7\\2023-01-12\n",
      "1: ../data/interim-plant-data-teamwork-extracted\\team_7\\2023-01-13\n",
      "___________________________________\n",
      "___________________________________\n",
      "___________________________________\n",
      "1: ../data/interim-plant-data-teamwork-extracted\\team_10\\2023-01-10\n",
      "1: ../data/interim-plant-data-teamwork-extracted\\team_10\\2023-01-12\n",
      "1: ../data/interim-plant-data-teamwork-extracted\\team_10\\2023-01-13\n",
      "___________________________________\n",
      "___________________________________\n",
      "1: ../data/interim-plant-data-teamwork-extracted\\team_12\\2023-01-10\n",
      "1: ../data/interim-plant-data-teamwork-extracted\\team_12\\2023-01-12\n",
      "1: ../data/interim-plant-data-teamwork-extracted\\team_12\\2023-01-13\n",
      "___________________________________\n",
      "1: ../data/interim-plant-data-teamwork-extracted\\team_13\\2023-01-10\n",
      "1: ../data/interim-plant-data-teamwork-extracted\\team_13\\2023-01-12\n",
      "1: ../data/interim-plant-data-teamwork-extracted\\team_13\\2023-01-13\n",
      "___________________________________\n",
      "1: ../data/interim-plant-data-teamwork-extracted\\team_15\\2023-01-10\n",
      "1: ../data/interim-plant-data-teamwork-extracted\\team_15\\2023-01-12\n",
      "1: ../data/interim-plant-data-teamwork-extracted\\team_15\\2023-01-13\n",
      "___________________________________\n",
      "___________________________________\n",
      "___________________________________\n",
      "___________________________________\n",
      "1: ../data/interim-plant-data-teamwork-extracted\\team_19\\2023-01-10\n",
      "1: ../data/interim-plant-data-teamwork-extracted\\team_19\\2023-01-12\n",
      "1: ../data/interim-plant-data-teamwork-extracted\\team_19\\2023-01-13\n",
      "___________________________________\n",
      "1: ../data/interim-plant-data-teamwork-extracted\\team_20\\2023-01-10\n",
      "1: ../data/interim-plant-data-teamwork-extracted\\team_20\\2023-01-12\n",
      "1: ../data/interim-plant-data-teamwork-extracted\\team_20\\2023-01-13\n",
      "___________________________________\n",
      "___________________________________\n"
     ]
    }
   ],
   "source": [
    "for t in teams: \n",
    "    tmp = t.split(\"_\") # [\"team\", \"01\"]\n",
    "    tmp[-1] = str(int(tmp[-1])) #[\"team\", \"1\"]\n",
    "    tmp_t = \"_\".join(tmp) # \"team_1\"\n",
    "\n",
    "    if os.path.exists(os.path.join(interim_data_dir,tmp_t)): # \"../data/interim-plant-data-teamwork-extracted\", \"team_1\"\n",
    "        for d in days:\n",
    "            print(f\"1: {os.path.join(interim_data_dir,tmp_t,d)}\")\n",
    "            if os.path.exists(os.path.join(interim_data_dir,tmp_t,d)):\n",
    "                emotions_path = os.path.join(emotions_dir,t,d)\n",
    "                print(f\"2: {emotions_path}\")\n",
    "    print(\"___________________________________\")"
   ]
  },
  {
   "cell_type": "code",
   "execution_count": null,
   "id": "03671b63-4d8c-40b6-8f78-85e69d5fcd29",
   "metadata": {},
   "outputs": [],
   "source": []
  },
  {
   "cell_type": "code",
   "execution_count": null,
   "id": "65edf2e0-4eae-49aa-a0b1-7635931ff7a1",
   "metadata": {},
   "outputs": [],
   "source": []
  },
  {
   "cell_type": "code",
   "execution_count": null,
   "id": "e387c39a-558a-4403-a2ae-bb89c8d46917",
   "metadata": {},
   "outputs": [],
   "source": []
  },
  {
   "cell_type": "code",
   "execution_count": null,
   "id": "c0d21a5b-2259-4257-946b-1bf9e31df715",
   "metadata": {},
   "outputs": [],
   "source": []
  },
  {
   "cell_type": "code",
   "execution_count": null,
   "id": "82008568-1026-43c1-b1f0-f1be310172a1",
   "metadata": {},
   "outputs": [],
   "source": []
  },
  {
   "cell_type": "code",
   "execution_count": null,
   "id": "629a8a67-3faf-431a-8af8-bd3ab4e47483",
   "metadata": {},
   "outputs": [],
   "source": []
  },
  {
   "cell_type": "code",
   "execution_count": null,
   "id": "f9a77943-1bb2-446f-8408-0329dbf51216",
   "metadata": {},
   "outputs": [],
   "source": []
  },
  {
   "cell_type": "code",
   "execution_count": null,
   "id": "8e8de3f5-851f-429b-aedd-decf24fa052a",
   "metadata": {},
   "outputs": [],
   "source": []
  }
 ],
 "metadata": {
  "kernelspec": {
   "display_name": "Python 3 (ipykernel)",
   "language": "python",
   "name": "python3"
  },
  "language_info": {
   "codemirror_mode": {
    "name": "ipython",
    "version": 3
   },
   "file_extension": ".py",
   "mimetype": "text/x-python",
   "name": "python",
   "nbconvert_exporter": "python",
   "pygments_lexer": "ipython3",
   "version": "3.11.4"
  }
 },
 "nbformat": 4,
 "nbformat_minor": 5
}
