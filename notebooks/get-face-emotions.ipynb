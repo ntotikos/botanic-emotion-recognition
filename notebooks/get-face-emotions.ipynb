{
 "cells": [
  {
   "cell_type": "markdown",
   "id": "35a79c2d-704b-4550-be00-873fa582fc99",
   "metadata": {},
   "source": [
    "# Get Ground Truth Labels for Plant Data\n",
    "---\n",
    "We are going to use labels for participants' emotions extracted from videos taken in parallel to the plant recordings. The emotions have already been predicted based on the facial expressions and what we are going to do is to get the labels and use them as ground truth for our plant experiments. "
   ]
  },
  {
   "cell_type": "code",
   "execution_count": 5,
   "id": "115acd3a-46e6-4e6c-9636-93e2fac9db92",
   "metadata": {},
   "outputs": [],
   "source": [
    "import pandas as pd\n",
    "import os"
   ]
  },
  {
   "cell_type": "code",
   "execution_count": 2,
   "id": "6e4d4c5e-3c4c-41cc-90ad-d37ff6f69471",
   "metadata": {},
   "outputs": [],
   "source": [
    "path = \"../data/teamwork-emotions\""
   ]
  },
  {
   "cell_type": "code",
   "execution_count": 6,
   "id": "de8a92fa-a964-4711-8b0f-87a8ee89c8c6",
   "metadata": {},
   "outputs": [
    {
     "name": "stdout",
     "output_type": "stream",
     "text": [
      "This file has to be deleted. Immediately. Best, NT\n"
     ]
    }
   ],
   "source": [
    "f = open(os.path.join(path,\"delete.txt\"), \"r\")\n",
    "print(f.read())"
   ]
  },
  {
   "cell_type": "code",
   "execution_count": null,
   "id": "1e2fa877-2eb6-4826-ba77-1900817c9393",
   "metadata": {},
   "outputs": [],
   "source": []
  },
  {
   "cell_type": "code",
   "execution_count": null,
   "id": "ff857cf2-fc37-4ab0-a99e-83b0535d41ef",
   "metadata": {},
   "outputs": [],
   "source": []
  },
  {
   "cell_type": "code",
   "execution_count": null,
   "id": "0664207c-de02-4c9a-9957-15acd26b2182",
   "metadata": {},
   "outputs": [],
   "source": []
  }
 ],
 "metadata": {
  "kernelspec": {
   "display_name": "Python 3 (ipykernel)",
   "language": "python",
   "name": "python3"
  },
  "language_info": {
   "codemirror_mode": {
    "name": "ipython",
    "version": 3
   },
   "file_extension": ".py",
   "mimetype": "text/x-python",
   "name": "python",
   "nbconvert_exporter": "python",
   "pygments_lexer": "ipython3",
   "version": "3.11.4"
  }
 },
 "nbformat": 4,
 "nbformat_minor": 5
}
