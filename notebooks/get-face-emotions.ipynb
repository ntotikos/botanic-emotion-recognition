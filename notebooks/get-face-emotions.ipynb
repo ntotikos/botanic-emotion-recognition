{
 "cells": [
  {
   "cell_type": "markdown",
   "id": "35a79c2d-704b-4550-be00-873fa582fc99",
   "metadata": {},
   "source": [
    "# Get Ground Truth Labels for Plant Data\n",
    "---\n",
    "We are going to use labels for participants' emotions extracted from videos taken in parallel to the plant recordings. The emotions have already been predicted based on the facial expressions and what we are going to do is to get the labels and use them as ground truth for our plant experiments. "
   ]
  },
  {
   "cell_type": "code",
   "execution_count": 8,
   "id": "115acd3a-46e6-4e6c-9636-93e2fac9db92",
   "metadata": {},
   "outputs": [],
   "source": [
    "import pandas as pd\n",
    "import os\n",
    "from pathlib import Path"
   ]
  },
  {
   "cell_type": "code",
   "execution_count": 2,
   "id": "6e4d4c5e-3c4c-41cc-90ad-d37ff6f69471",
   "metadata": {},
   "outputs": [],
   "source": [
    "path = \"../data/teamwork-emotions\"\n"
   ]
  },
  {
   "cell_type": "code",
   "execution_count": 7,
   "id": "de8a92fa-a964-4711-8b0f-87a8ee89c8c6",
   "metadata": {},
   "outputs": [
    {
     "name": "stdout",
     "output_type": "stream",
     "text": [
      "This file has to be deleted. Immediately. Best, NT\n"
     ]
    }
   ],
   "source": [
    "f = open(os.path.join(path,\"delete.txt\"), \"r\")\n",
    "print(f.read())"
   ]
  },
  {
   "cell_type": "code",
   "execution_count": 11,
   "id": "1e2fa877-2eb6-4826-ba77-1900817c9393",
   "metadata": {},
   "outputs": [
    {
     "data": {
      "text/plain": [
       "WindowsPath('C:/Users/nekta/OneDrive/Desktop/botanic-emotion-recognition/notebooks')"
      ]
     },
     "execution_count": 11,
     "metadata": {},
     "output_type": "execute_result"
    }
   ],
   "source": [
    "root = Path.cwd()\n",
    "root"
   ]
  },
  {
   "cell_type": "code",
   "execution_count": 14,
   "id": "ff857cf2-fc37-4ab0-a99e-83b0535d41ef",
   "metadata": {},
   "outputs": [],
   "source": [
    "PLANT_DIR = root / \"src\" / \"plant\""
   ]
  },
  {
   "cell_type": "code",
   "execution_count": 15,
   "id": "0664207c-de02-4c9a-9957-15acd26b2182",
   "metadata": {},
   "outputs": [
    {
     "data": {
      "text/plain": [
       "WindowsPath('C:/Users/nekta/OneDrive/Desktop/botanic-emotion-recognition/notebooks/src/plant')"
      ]
     },
     "execution_count": 15,
     "metadata": {},
     "output_type": "execute_result"
    }
   ],
   "source": [
    "PLANT_DIR"
   ]
  },
  {
   "cell_type": "code",
   "execution_count": 17,
   "id": "af081860-690a-436c-bfb7-db3b6d577e37",
   "metadata": {},
   "outputs": [
    {
     "ename": "ModuleNotFoundError",
     "evalue": "No module named 'src'",
     "output_type": "error",
     "traceback": [
      "\u001b[1;31m---------------------------------------------------------------------------\u001b[0m",
      "\u001b[1;31mModuleNotFoundError\u001b[0m                       Traceback (most recent call last)",
      "Cell \u001b[1;32mIn[17], line 1\u001b[0m\n\u001b[1;32m----> 1\u001b[0m \u001b[38;5;28;01mfrom\u001b[39;00m \u001b[38;5;21;01msrc\u001b[39;00m\u001b[38;5;21;01m.\u001b[39;00m\u001b[38;5;21;01mutils\u001b[39;00m\u001b[38;5;21;01m.\u001b[39;00m\u001b[38;5;21;01mconstants\u001b[39;00m \u001b[38;5;28;01mimport\u001b[39;00m PLANT_DIR\n",
      "\u001b[1;31mModuleNotFoundError\u001b[0m: No module named 'src'"
     ]
    }
   ],
   "source": [
    "from src.utils.constants import PLANT_DIR"
   ]
  },
  {
   "cell_type": "code",
   "execution_count": null,
   "id": "7c86af91-07e6-4d1e-b53b-a0394c9afa99",
   "metadata": {},
   "outputs": [],
   "source": []
  },
  {
   "cell_type": "code",
   "execution_count": null,
   "id": "8e8de3f5-851f-429b-aedd-decf24fa052a",
   "metadata": {},
   "outputs": [],
   "source": []
  }
 ],
 "metadata": {
  "kernelspec": {
   "display_name": "Python 3 (ipykernel)",
   "language": "python",
   "name": "python3"
  },
  "language_info": {
   "codemirror_mode": {
    "name": "ipython",
    "version": 3
   },
   "file_extension": ".py",
   "mimetype": "text/x-python",
   "name": "python",
   "nbconvert_exporter": "python",
   "pygments_lexer": "ipython3",
   "version": "3.11.4"
  }
 },
 "nbformat": 4,
 "nbformat_minor": 5
}
