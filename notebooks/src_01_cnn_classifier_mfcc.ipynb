{
 "cells": [
  {
   "cell_type": "markdown",
   "id": "55418780-d77e-478a-b365-f5795e54b630",
   "metadata": {},
   "source": [
    "# CNN Classifier for Plant Waves Using MFCC\n",
    "----\n",
    "\n",
    "#### PREPROCESSING: Create MFCC Images \n",
    "In this step, we compute the MFCC matrix, create MFCC images, reshape it to 97x97 images, and store them to disk with labels corresponding to classes and the number of sample. "
   ]
  },
  {
   "cell_type": "code",
   "execution_count": null,
   "id": "47863947-8b53-4c6f-b7f7-12b3636d3c91",
   "metadata": {},
   "outputs": [],
   "source": [
    "import numpy as np\n",
    "import torch\n",
    "import pickle\n",
    "import os\n",
    "import matplotlib.pyplot as plt\n",
    "from torch.utils.data import TensorDataset\n",
    "from python_speech_features import mfcc\n",
    "from PIL import Image\n",
    "from tqdm import tqdm\n",
    "\n",
    "%run ../src/utils/constants.py"
   ]
  },
  {
   "cell_type": "markdown",
   "id": "959a9b2a-3313-4d0c-992f-da50d85acf8a",
   "metadata": {},
   "source": [
    "Load raw data that has been split into train, test, and validation sets for the 81k and 191k cases."
   ]
  },
  {
   "cell_type": "code",
   "execution_count": null,
   "id": "a53efc89-4e97-4b8d-816e-1e372b76b565",
   "metadata": {},
   "outputs": [],
   "source": [
    "path_to_pickle_train81k = DATASETS_DIR / \"train-81k-stratified-without-neutral.pkl\"\n",
    "path_to_pickle_train191k = DATASETS_DIR / \"train-191k-stratified-without-neutral.pkl\"\n",
    "path_to_pickle_test81k = DATASETS_DIR / \"test-81k-stratified-without-neutral.pkl\"\n",
    "path_to_pickle_val81k = DATASETS_DIR / \"val-81k-stratified-without-neutral.pkl\""
   ]
  },
  {
   "cell_type": "code",
   "execution_count": null,
   "id": "70130b7b-9884-431a-940c-41277af5e7f9",
   "metadata": {},
   "outputs": [],
   "source": [
    "with open(path_to_pickle_train81k, 'rb') as train_81k_file:\n",
    "    train_81k = pickle.load(train_81k_file)"
   ]
  },
  {
   "cell_type": "code",
   "execution_count": null,
   "id": "24736e8f-afa4-4e0e-a65b-6e4d36a9e219",
   "metadata": {},
   "outputs": [],
   "source": [
    "with open(path_to_pickle_train191k, 'rb') as train_191k_file:\n",
    "    train_191k = pickle.load(train_191k_file)"
   ]
  },
  {
   "cell_type": "code",
   "execution_count": null,
   "id": "6936f8d8-0e4a-4f06-a15c-7f893f7c353f",
   "metadata": {},
   "outputs": [],
   "source": [
    "with open(path_to_pickle_test81k, 'rb') as test_81k_file:\n",
    "    test_81k = pickle.load(test_81k_file)"
   ]
  },
  {
   "cell_type": "code",
   "execution_count": null,
   "id": "a2b47f0a-b530-42cb-9cf8-8c2d6bc3becc",
   "metadata": {},
   "outputs": [],
   "source": [
    "with open(path_to_pickle_val81k, 'rb') as val_81k_file:\n",
    "    val_81k = pickle.load(val_81k_file)"
   ]
  },
  {
   "cell_type": "markdown",
   "id": "ac9711e7-5c87-4de8-ac71-c1d3dd0122fb",
   "metadata": {},
   "source": [
    "While ignoring the class `Neutral`, separate wave slices and labels, and create a Tensor dataset. "
   ]
  },
  {
   "cell_type": "code",
   "execution_count": null,
   "id": "d1630bcb-bdcf-4bb1-a530-65793d60e1da",
   "metadata": {},
   "outputs": [],
   "source": [
    "wav_slices = []\n",
    "labels = []\n",
    "for segment in train_191k:  # adjust this iterable for specific dataset.\n",
    "    wav_slices.append(segment[0])\n",
    "    labels.append(segment[1])"
   ]
  },
  {
   "cell_type": "code",
   "execution_count": null,
   "id": "01ea6b56-e125-44c6-af1d-a9a79c33db0c",
   "metadata": {},
   "outputs": [],
   "source": [
    "wav_slices = torch.tensor(np.array(wav_slices), dtype=torch.float32)\n",
    "labels = torch.tensor(np.array(labels), dtype=torch.long)\n",
    "dataset = TensorDataset(wav_slices, labels)\n",
    "print(wav_slices)"
   ]
  },
  {
   "cell_type": "markdown",
   "id": "498ec12c-27db-479f-8d68-3c190ff203b0",
   "metadata": {},
   "source": [
    "Normalize the samples using per-sample normalization."
   ]
  },
  {
   "cell_type": "code",
   "execution_count": null,
   "id": "f533b2fc-bf01-4176-8b2f-59d1896c6f2c",
   "metadata": {},
   "outputs": [],
   "source": [
    "data_tensor, labels_tensor = dataset.tensors\n",
    "mean = torch.mean(data_tensor, dim=1, keepdim=True)\n",
    "std_dev = torch.std(data_tensor, dim=1, keepdim=True)\n",
    "standardized_data = (data_tensor - mean) / (std_dev + 0.00000001)  # smoothing term to prevent zero division\n",
    "\n",
    "dataset = TensorDataset(standardized_data, labels_tensor)"
   ]
  },
  {
   "cell_type": "markdown",
   "id": "75ded6e0-2a5b-43f0-8c33-2665c6312efd",
   "metadata": {},
   "source": [
    "Extract the MFCC features and save the MFCC plots to disk as `.png`."
   ]
  },
  {
   "cell_type": "code",
   "execution_count": null,
   "id": "1289cf28-fdaa-47f2-9295-f930b6b351e4",
   "metadata": {},
   "outputs": [],
   "source": [
    "train_81k_folder = \"train-81k\"\n",
    "train_191k_folder = \"train-191k\"\n",
    "test_81k_folder = \"test-81k\"\n",
    "val_81k_folder = \"val-81k\""
   ]
  },
  {
   "cell_type": "code",
   "execution_count": null,
   "id": "3c391e3d-962b-4644-ad2e-472b1c47fd54",
   "metadata": {},
   "outputs": [],
   "source": [
    "if not os.path.exists(MFCC_IMAGES_DIR / train_81k_folder):\n",
    "    os.mkdir(MFCC_IMAGES_DIR / train_81k_folder)\n",
    "\n",
    "if not os.path.exists(MFCC_IMAGES_DIR / train_191k_folder):\n",
    "    os.mkdir(MFCC_IMAGES_DIR / train_191k_folder)\n",
    "\n",
    "if not os.path.exists(MFCC_IMAGES_DIR / test_81k_folder):\n",
    "    os.mkdir(MFCC_IMAGES_DIR / test_81k_folder)\n",
    "\n",
    "if not os.path.exists(MFCC_IMAGES_DIR / val_81k_folder):\n",
    "    os.mkdir(MFCC_IMAGES_DIR / val_81k_folder)"
   ]
  },
  {
   "cell_type": "code",
   "execution_count": null,
   "id": "3691d9a1-e620-4e9d-a534-d3b77f2d9477",
   "metadata": {},
   "outputs": [],
   "source": [
    "count = 0 \n",
    "for wav_slice, label in tqdm(dataset):\n",
    "    mfcc_features = mfcc(wav_slice, samplerate=SAMPLING_RATE, winlen=0.025, winstep=0.010, numcep=26)\n",
    "\n",
    "    file_name = f\"{count}_mfcc_class_{label}.png\"\n",
    "    save_path = os.path.join(MFCC_IMAGES_DIR / train_191k_folder, file_name)  # Adjust train_191k_folder\n",
    "\n",
    "    if not os.path.exists(save_path):\n",
    "        plt.imshow(mfcc_features)\n",
    "        plt.axis(\"off\")\n",
    "        plt.savefig(save_path, bbox_inches='tight', pad_inches=0)\n",
    "        plt.close()\n",
    "        \n",
    "    count += 1"
   ]
  },
  {
   "cell_type": "markdown",
   "id": "aa869601-2f61-47d1-8b40-61bc19cb5e17",
   "metadata": {},
   "source": [
    "----\n",
    "#### PREPROCESSING: LOAD MFCC Images\n",
    "Prepare the train data for the CNN."
   ]
  },
  {
   "cell_type": "code",
   "execution_count": 20,
   "id": "e081092c-5bd2-4acf-a760-a101f7f69021",
   "metadata": {},
   "outputs": [],
   "source": [
    "import os\n",
    "import torch\n",
    "import numpy as np\n",
    "from tqdm import tqdm\n",
    "from PIL import Image\n",
    "import matplotlib.pyplot as plt\n",
    "from torch.utils.data import DataLoader, TensorDataset\n",
    "\n",
    "\n",
    "%run ../src/utils/constants.py"
   ]
  },
  {
   "cell_type": "code",
   "execution_count": 2,
   "id": "77cea41f-c60c-4ba8-85aa-4f62b689538d",
   "metadata": {},
   "outputs": [],
   "source": [
    "train_81k_folder = \"train-81k\"\n",
    "#train_191k_folder = \"train-191k\""
   ]
  },
  {
   "cell_type": "code",
   "execution_count": 3,
   "id": "997a7930-2417-434e-bd99-53feacf32044",
   "metadata": {},
   "outputs": [
    {
     "name": "stderr",
     "output_type": "stream",
     "text": [
      "100%|███████████████████████████████████| 12130/12130 [00:15<00:00, 781.17it/s]\n"
     ]
    }
   ],
   "source": [
    "# Load all MFCC images and file names. \n",
    "images_train = []\n",
    "labels_train = []\n",
    "\n",
    "image_filenames = os.listdir(MFCC_IMAGES_DIR / train_81k_folder)\n",
    "image_paths = [os.path.join(MFCC_IMAGES_DIR / train_81k_folder, filename) for filename in image_filenames]\n",
    "\n",
    "IMAGE_SIZE = (97,97)\n",
    "N_CHANNELS = 1  # grey\n",
    "for path in tqdm(image_paths): \n",
    "    file_name = os.path.basename(path)\n",
    "    label_train = int(file_name.split(\".\")[0].split(\"_\")[-1])    \n",
    "    img = Image.open(path).convert(\"L\")  # Make sure it is rgb (and not rgba which would give dim=4)\n",
    "    img = img.resize(IMAGE_SIZE)\n",
    "    img_array = np.array(img) / 255.0\n",
    "    images_train.append(img_array)\n",
    "    labels_train.append(label_train)"
   ]
  },
  {
   "cell_type": "code",
   "execution_count": 24,
   "id": "449bbec3-e254-485c-a14f-874401b3446c",
   "metadata": {},
   "outputs": [
    {
     "data": {
      "image/png": "[encoded data removed]",
      "text/plain": [
       "<Figure size 640x480 with 9 Axes>"
      ]
     },
     "metadata": {},
     "output_type": "display_data"
    }
   ],
   "source": [
    "for i in range(9):\n",
    "    plt.subplot(3, 3, i + 1)\n",
    "    plt.imshow(images_train[i])\n",
    "    plt.title(f\"{map_int_to_label(labels_train[i])}\")  \n",
    "    plt.axis(\"off\")\n",
    "plt.subplots_adjust(hspace=0.25)\n",
    "plt.subplots_adjust(wspace=-0.45)\n",
    "plt.show()"
   ]
  },
  {
   "cell_type": "markdown",
   "id": "82007da5-21e1-41fa-8c43-d4886376102b",
   "metadata": {},
   "source": [
    "Prepare the val data for the CNN."
   ]
  },
  {
   "cell_type": "code",
   "execution_count": 25,
   "id": "4a87d0be-00a2-433d-84fc-c36597da36fd",
   "metadata": {},
   "outputs": [],
   "source": [
    "val_81k_folder = \"val-81k\""
   ]
  },
  {
   "cell_type": "code",
   "execution_count": 26,
   "id": "7d2d9a88-2fe4-4d64-9322-b868720c672b",
   "metadata": {},
   "outputs": [
    {
     "name": "stderr",
     "output_type": "stream",
     "text": [
      "100%|█████████████████████████████████████| 2600/2600 [00:13<00:00, 197.84it/s]\n"
     ]
    }
   ],
   "source": [
    "# Load all MFCC images and file names. \n",
    "images_val = []\n",
    "labels_val = []\n",
    "\n",
    "image_filenames_val = os.listdir(MFCC_IMAGES_DIR / val_81k_folder)\n",
    "image_paths_val = [os.path.join(MFCC_IMAGES_DIR / val_81k_folder, filename_val) for filename_val in image_filenames_val]\n",
    "\n",
    "IMAGE_SIZE = (97,97)\n",
    "N_CHANNELS = 1  # grey\n",
    "for path_val in tqdm(image_paths_val): \n",
    "    file_name_val = os.path.basename(path_val)\n",
    "    label_val = int(file_name_val.split(\".\")[0].split(\"_\")[-1])    \n",
    "    img_val = Image.open(path_val).convert(\"L\")  # convert to greyscale\n",
    "    img_val = img_val.resize(IMAGE_SIZE)\n",
    "    img_array_val = np.array(img_val) / 255.0\n",
    "    images_val.append(img_array_val)\n",
    "    labels_val.append(label_val)"
   ]
  },
  {
   "cell_type": "code",
   "execution_count": 27,
   "id": "9aa51dd4-b230-4c56-aeb6-28e0bd9adda6",
   "metadata": {},
   "outputs": [
    {
     "data": {
      "image/png": "[encoded data removed]",
      "text/plain": [
       "<Figure size 640x480 with 9 Axes>"
      ]
     },
     "metadata": {},
     "output_type": "display_data"
    }
   ],
   "source": [
    "# plots inspired by https://www.kaggle.com/code/christianlillelund/classify-mnist-audio-using-spectrograms-keras-cnn\n",
    "for i in range(9):\n",
    "    plt.subplot(3, 3, i + 1)\n",
    "    plt.imshow(images_val[i])\n",
    "    plt.title(f\"{map_int_to_label(labels_val[i])}\")  \n",
    "    plt.axis(\"off\")\n",
    "plt.subplots_adjust(hspace=0.25)\n",
    "plt.subplots_adjust(wspace=-0.45)\n",
    "\n",
    "plt.show()"
   ]
  },
  {
   "cell_type": "markdown",
   "id": "06b4891c-c68c-4dd0-adbe-57f96f4a7dc2",
   "metadata": {},
   "source": [
    "Create datasets and dataloaders."
   ]
  },
  {
   "cell_type": "code",
   "execution_count": 28,
   "id": "92e1ff73-f408-4e4e-8c45-6ac6578aa900",
   "metadata": {},
   "outputs": [],
   "source": [
    "images_train = torch.tensor(np.array(images_train), dtype=torch.float32)\n",
    "images_train = images_train.unsqueeze(1)\n",
    "labels_train = torch.tensor(np.array(labels_train), dtype=torch.long)\n",
    "train81k_dataset = TensorDataset(images_train, labels_train)\n",
    "\n",
    "images_val = torch.tensor(np.array(images_val), dtype=torch.float32)\n",
    "images_val = images_val.unsqueeze(1)\n",
    "labels_val = torch.tensor(np.array(labels_val), dtype=torch.long)\n",
    "val81k_dataset = TensorDataset(images_val, labels_val)"
   ]
  },
  {
   "cell_type": "code",
   "execution_count": 29,
   "id": "9003615d-9f46-41f9-86c4-006d7762cb1f",
   "metadata": {},
   "outputs": [],
   "source": [
    "batch_size = 32\n",
    "train81k_loader = DataLoader(train81k_dataset, batch_size)\n",
    "val81k_loader = DataLoader(val81k_dataset, batch_size)"
   ]
  },
  {
   "cell_type": "markdown",
   "id": "90c235b1-590b-4888-9d99-76be48aef9cf",
   "metadata": {},
   "source": [
    "#### Hyperparameter Optimization\n",
    "Specify a study name and define the search space for the grid search. \n",
    "\n",
    "Run `PREPROCESSING: LOAD MFCC Images`."
   ]
  },
  {
   "cell_type": "code",
   "execution_count": 42,
   "id": "e03c7c87-349a-4a0c-81d8-cf6644209bc9",
   "metadata": {},
   "outputs": [],
   "source": [
    "import torch\n",
    "import wandb\n",
    "import math\n",
    "import optuna\n",
    "from optuna.trial import TrialState\n",
    "from sklearn.metrics import f1_score, accuracy_score, balanced_accuracy_score, precision_score, recall_score"
   ]
  },
  {
   "cell_type": "markdown",
   "id": "a249a2bc-e6ed-4e35-a8b5-03fb885cb7ee",
   "metadata": {},
   "source": [
    "Define the CNN model. Compute the hidden dimension of the transformed image successively. Images dimension are manipulated as follows:\n",
    "\n",
    "1. Convolution layer: `output_dim` = `input_dim` - `filter_size` + `1`\n",
    "2. Maxpool layer: `floor`((`input_dim`-`kernel_size`) / `stride`) + `1`\n",
    "\n",
    "whereby the output dimension refers to either image height or image length. "
   ]
  },
  {
   "cell_type": "code",
   "execution_count": 32,
   "id": "16f0d001-9473-4404-accb-11cad0776bae",
   "metadata": {},
   "outputs": [],
   "source": [
    "def define_model(trial):\n",
    "    layers = []\n",
    "\n",
    "    N_CLASSES = 6\n",
    "    conv_kernel_size = trial.suggest_categorical(f\"conv_kernel_size\", [3, 5, 7])\n",
    "    dropout_rate = trial.suggest_categorical(\"dropout_rate\", [0.0, 0.1, 0.2])\n",
    "\n",
    "    input_channels = 1\n",
    "    out_channels_l1 = trial.suggest_categorical(f\"out_channels_l1\", [2 ** i for i in range(4, 8)])\n",
    "    \n",
    "    layers.append(torch.nn.Conv2d(input_channels, out_channels_l1, kernel_size=conv_kernel_size))\n",
    "    hidden_img_height = IMAGE_SIZE[0] - conv_kernel_size + 1\n",
    "    layers.append(torch.nn.ReLU())\n",
    "    layers.append(torch.nn.MaxPool2d(kernel_size=2, stride=2))\n",
    "    hidden_img_height = math.floor((hidden_img_height - 2) / 2) + 1\n",
    "    layers.append(torch.nn.Dropout(dropout_rate))\n",
    "\n",
    "    out_channels_l2 = trial.suggest_categorical(f\"out_channels_l2\", [2 ** i for i in range(4, 7)])\n",
    "\n",
    "    layers.append(torch.nn.Conv2d(out_channels_l1, out_channels_l2, kernel_size=conv_kernel_size))\n",
    "    hidden_img_height = hidden_img_height - conv_kernel_size + 1\n",
    "    layers.append(torch.nn.ReLU())\n",
    "    layers.append(torch.nn.MaxPool2d(kernel_size=2, stride=2))\n",
    "    hidden_img_height = math.floor((hidden_img_height - 2) / 2) + 1\n",
    "    layers.append(torch.nn.Dropout(dropout_rate))\n",
    "\n",
    "    layers.append(torch.nn.Flatten())\n",
    "\n",
    "    layers.append(torch.nn.Linear(out_channels_l2 * hidden_img_height * hidden_img_height, 64))  # Likely wrong...\n",
    "    layers.append(torch.nn.ReLU())\n",
    "    layers.append(torch.nn.Linear(64, N_CLASSES))\n",
    "\n",
    "    config_dict = {\n",
    "        \"out_channels_l1\": out_channels_l1,\n",
    "        \"out_channels_l2\": out_channels_l2,\n",
    "        \"conv_kernel_size\": conv_kernel_size,\n",
    "        \"dropout_rate\": dropout_rate\n",
    "    }\n",
    "\n",
    "    return torch.nn.Sequential(*layers), config_dict"
   ]
  },
  {
   "cell_type": "markdown",
   "id": "41b00e8c-7614-4453-b3e1-7676d3f22198",
   "metadata": {},
   "source": [
    "Define the objective function for optuna for the hyperparameter optimization."
   ]
  },
  {
   "cell_type": "code",
   "execution_count": 33,
   "id": "6e7bb77c-a7ae-4808-b432-5fcc0caa33fd",
   "metadata": {},
   "outputs": [],
   "source": [
    "def objective(trial): \n",
    "    model, config_dict = define_model(trial)\n",
    "\n",
    "    lr = trial.suggest_categorical('lr', [0.0001, 0.001, 0.01])\n",
    "\n",
    "    criterion = torch.nn.CrossEntropyLoss()\n",
    "    optimizer = torch.optim.Adam(model.parameters(), lr=lr)\n",
    "\n",
    "    print(config_dict)\n",
    "    name_experiment = (f\"{trial.number}_{NAME_CORE}_lr-{lr}_convf1-{config_dict['out_channels_l1']}_convf2-\"\n",
    "                       f\"{config_dict['out_channels_l2']}_convker-{config_dict['conv_kernel_size']}_dr-{config_dict['dropout_rate']}\")\n",
    "\n",
    "    config_dict[\"lr\"] = lr\n",
    "    config_dict[\"epochs\"] = NUM_EPOCHS\n",
    "\n",
    "    wandb.init(\n",
    "        project=\"model_\" + NAME_CORE + \"-hpo\",\n",
    "        dir=LOGS_DIR,\n",
    "        name=name_experiment,\n",
    "        config=config_dict\n",
    "    )\n",
    "\n",
    "\n",
    "    for epoch in range(NUM_EPOCHS):\n",
    "        model.train()\n",
    "        for batch_data, batch_labels in tqdm(train81k_loader):          \n",
    "            # zero gradients\n",
    "            optimizer.zero_grad()\n",
    "\n",
    "            # forward + backward pass\n",
    "            outputs = model(batch_data)\n",
    "            loss = criterion(outputs, batch_labels)\n",
    "            loss.backward()\n",
    "            optimizer.step()\n",
    "\n",
    "        all_preds = []\n",
    "        all_labels = []\n",
    "\n",
    "        model.eval()\n",
    "        with torch.no_grad():\n",
    "            for batch_data, batch_labels in tqdm(val81k_loader): \n",
    "                output = model(batch_data)\n",
    "\n",
    "                predicted = output.argmax(dim=1)\n",
    "                all_preds.extend(predicted.numpy())\n",
    "                all_labels.extend(batch_labels.numpy())\n",
    "\n",
    "        # TODO: explicitely state in written thesis that zero_division=0.0\n",
    "        balanced_accuracy = balanced_accuracy_score(all_labels, all_preds)\n",
    "        accuracy = accuracy_score(all_labels, all_preds)\n",
    "        f1_class = f1_score(all_labels, all_preds, average=None, zero_division=0.0)\n",
    "        f1_weighted = f1_score(all_labels, all_preds, average=\"weighted\", zero_division=0.0)\n",
    "        recall = recall_score(all_labels, all_preds, average=\"weighted\", zero_division=0.0)\n",
    "        precision = precision_score(all_labels, all_preds, average=\"weighted\", zero_division=0.0)\n",
    "\n",
    "        trial.report(balanced_accuracy, epoch)\n",
    "\n",
    "        if trial.should_prune():\n",
    "            raise optuna.exceptions.TrialPruned()\n",
    "\n",
    "            \n",
    "        metrics = {\n",
    "            \"balanced_accuracy\": balanced_accuracy,\n",
    "            \"accuracy\": accuracy,\n",
    "            \"f1_weighted\": f1_weighted,\n",
    "            \"recall\": recall,\n",
    "            \"precision\": precision\n",
    "        }\n",
    "\n",
    "        wandb_input = metrics\n",
    "        wandb.log(wandb_input)\n",
    "\n",
    "    wandb.finish()\n",
    "\n",
    "    return balanced_accuracy"
   ]
  },
  {
   "cell_type": "markdown",
   "id": "2a89f988-a9ea-423a-8d6f-1d5c7615d3b3",
   "metadata": {},
   "source": [
    "Run hyperparameter optimization using optuna. "
   ]
  },
  {
   "cell_type": "code",
   "execution_count": 51,
   "id": "1b2cd8f6-9f16-4c13-95ef-3f5d400511c3",
   "metadata": {},
   "outputs": [],
   "source": [
    "NAME_CORE = \"cnn_mfcc_6_grey_81k_searchspace_324\"\n",
    "NUM_EPOCHS = 20"
   ]
  },
  {
   "cell_type": "code",
   "execution_count": 48,
   "id": "661fed7c-7352-494c-b10f-2dbe65f4c80c",
   "metadata": {},
   "outputs": [],
   "source": [
    "search_space = {\n",
    "    'lr': [0.0001, 0.001, 0.01],\n",
    "    'out_channels_l1': [2 ** i for i in range(4, 8)],   # 4 values\n",
    "    'out_channels_l2': [2 ** i for i in range(4, 7)],   # 3 values\n",
    "    'conv_kernel_size': [3, 5, 7],\n",
    "    \"dropout_rate\": [0.0, 0.1, 0.2]\n",
    "}"
   ]
  },
  {
   "cell_type": "code",
   "execution_count": 37,
   "id": "406a1c54-8983-4a95-b950-444596322cd5",
   "metadata": {},
   "outputs": [],
   "source": [
    "num_combi = 1\n",
    "for i in search_space:\n",
    "    num_combi *= len(search_space[i])"
   ]
  },
  {
   "cell_type": "code",
   "execution_count": 38,
   "id": "76683d87-065b-4b39-981f-8b13ee75c237",
   "metadata": {},
   "outputs": [
    {
     "name": "stderr",
     "output_type": "stream",
     "text": [
      "[I 2024-01-06 16:01:31,569] A new study created in RDB with name: cnn_mfcc_6_grey_81k\n"
     ]
    },
    {
     "name": "stdout",
     "output_type": "stream",
     "text": [
      "{'out_channels_l1': 64, 'out_channels_l2': 64, 'conv_kernel_size': 5, 'dropout_rate': 0.2}\n"
     ]
    },
    {
     "name": "stderr",
     "output_type": "stream",
     "text": [
      "\u001b[34m\u001b[1mwandb\u001b[0m: Currently logged in as: \u001b[33mtotikos\u001b[0m. Use \u001b[1m`wandb login --relogin`\u001b[0m to force relogin\n"
     ]
    },
    {
     "data": {
      "text/html": [
       "wandb version 0.16.1 is available!  To upgrade, please run:\n",
       " $ pip install wandb --upgrade"
      ],
      "text/plain": [
       "<IPython.core.display.HTML object>"
      ]
     },
     "metadata": {},
     "output_type": "display_data"
    },
    {
     "data": {
      "text/html": [
       "Tracking run with wandb version 0.15.12"
      ],
      "text/plain": [
       "<IPython.core.display.HTML object>"
      ]
     },
     "metadata": {},
     "output_type": "display_data"
    },
    {
     "data": {
      "text/html": [
       "Run data is saved locally in <code>C:\\Users\\nekta\\OneDrive\\Desktop\\botanic-emotion-recognition\\logs\\wandb\\run-20240106_160137-oficuszm</code>"
      ],
      "text/plain": [
       "<IPython.core.display.HTML object>"
      ]
     },
     "metadata": {},
     "output_type": "display_data"
    },
    {
     "data": {
      "text/html": [
       "Syncing run <strong><a href='https://wandb.ai/totikos/model_cnn_mfcc_6_grey_81k-hpo/runs/oficuszm' target=\"_blank\">0_cnn_mfcc_6_grey_81k_lr-0.001_convf1-64_convf2-64_convker-5_dr-0.2</a></strong> to <a href='https://wandb.ai/totikos/model_cnn_mfcc_6_grey_81k-hpo' target=\"_blank\">Weights & Biases</a> (<a href='https://wandb.me/run' target=\"_blank\">docs</a>)<br/>"
      ],
      "text/plain": [
       "<IPython.core.display.HTML object>"
      ]
     },
     "metadata": {},
     "output_type": "display_data"
    },
    {
     "data": {
      "text/html": [
       " View project at <a href='https://wandb.ai/totikos/model_cnn_mfcc_6_grey_81k-hpo' target=\"_blank\">https://wandb.ai/totikos/model_cnn_mfcc_6_grey_81k-hpo</a>"
      ],
      "text/plain": [
       "<IPython.core.display.HTML object>"
      ]
     },
     "metadata": {},
     "output_type": "display_data"
    },
    {
     "data": {
      "text/html": [
       " View run at <a href='https://wandb.ai/totikos/model_cnn_mfcc_6_grey_81k-hpo/runs/oficuszm' target=\"_blank\">https://wandb.ai/totikos/model_cnn_mfcc_6_grey_81k-hpo/runs/oficuszm</a>"
      ],
      "text/plain": [
       "<IPython.core.display.HTML object>"
      ]
     },
     "metadata": {},
     "output_type": "display_data"
    },
    {
     "name": "stderr",
     "output_type": "stream",
     "text": [
      "100%|████████████████████████████████████████| 380/380 [06:04<00:00,  1.04it/s]\n",
      "100%|██████████████████████████████████████████| 82/82 [00:39<00:00,  2.08it/s]\n",
      "100%|████████████████████████████████████████| 380/380 [04:58<00:00,  1.27it/s]\n",
      "100%|██████████████████████████████████████████| 82/82 [00:22<00:00,  3.59it/s]\n",
      "100%|████████████████████████████████████████| 380/380 [03:59<00:00,  1.58it/s]\n",
      "100%|██████████████████████████████████████████| 82/82 [00:25<00:00,  3.26it/s]\n",
      "100%|████████████████████████████████████████| 380/380 [04:46<00:00,  1.33it/s]\n",
      "100%|██████████████████████████████████████████| 82/82 [00:21<00:00,  3.74it/s]\n",
      "100%|████████████████████████████████████████| 380/380 [04:37<00:00,  1.37it/s]\n",
      "100%|██████████████████████████████████████████| 82/82 [00:19<00:00,  4.18it/s]\n",
      "100%|████████████████████████████████████████| 380/380 [04:30<00:00,  1.41it/s]\n",
      "100%|██████████████████████████████████████████| 82/82 [00:21<00:00,  3.76it/s]\n",
      "100%|████████████████████████████████████████| 380/380 [04:31<00:00,  1.40it/s]\n",
      "100%|██████████████████████████████████████████| 82/82 [00:22<00:00,  3.65it/s]\n",
      "100%|████████████████████████████████████████| 380/380 [04:06<00:00,  1.54it/s]\n",
      "100%|██████████████████████████████████████████| 82/82 [00:19<00:00,  4.24it/s]\n",
      "100%|████████████████████████████████████████| 380/380 [04:19<00:00,  1.46it/s]\n",
      "100%|██████████████████████████████████████████| 82/82 [00:21<00:00,  3.84it/s]\n",
      "100%|████████████████████████████████████████| 380/380 [03:52<00:00,  1.63it/s]\n",
      "100%|██████████████████████████████████████████| 82/82 [00:19<00:00,  4.12it/s]\n",
      "100%|████████████████████████████████████████| 380/380 [04:05<00:00,  1.55it/s]\n",
      "100%|██████████████████████████████████████████| 82/82 [00:18<00:00,  4.45it/s]\n",
      "100%|████████████████████████████████████████| 380/380 [03:57<00:00,  1.60it/s]\n",
      "100%|██████████████████████████████████████████| 82/82 [00:19<00:00,  4.21it/s]\n",
      "100%|████████████████████████████████████████| 380/380 [03:52<00:00,  1.64it/s]\n",
      "100%|██████████████████████████████████████████| 82/82 [00:17<00:00,  4.64it/s]\n",
      "100%|████████████████████████████████████████| 380/380 [03:43<00:00,  1.70it/s]\n",
      "100%|██████████████████████████████████████████| 82/82 [00:17<00:00,  4.65it/s]\n",
      "100%|████████████████████████████████████████| 380/380 [03:43<00:00,  1.70it/s]\n",
      "100%|██████████████████████████████████████████| 82/82 [00:17<00:00,  4.65it/s]\n",
      "100%|████████████████████████████████████████| 380/380 [03:47<00:00,  1.67it/s]\n",
      "100%|██████████████████████████████████████████| 82/82 [00:18<00:00,  4.34it/s]\n",
      "100%|████████████████████████████████████████| 380/380 [03:53<00:00,  1.63it/s]\n",
      "100%|██████████████████████████████████████████| 82/82 [00:17<00:00,  4.63it/s]\n",
      "100%|████████████████████████████████████████| 380/380 [03:53<00:00,  1.63it/s]\n",
      "100%|██████████████████████████████████████████| 82/82 [00:19<00:00,  4.17it/s]\n",
      "100%|████████████████████████████████████████| 380/380 [03:52<00:00,  1.63it/s]\n",
      "100%|██████████████████████████████████████████| 82/82 [00:18<00:00,  4.38it/s]\n",
      "100%|████████████████████████████████████████| 380/380 [04:00<00:00,  1.58it/s]\n",
      "100%|██████████████████████████████████████████| 82/82 [00:18<00:00,  4.33it/s]\n"
     ]
    },
    {
     "data": {
      "text/html": [
       "Waiting for W&B process to finish... <strong style=\"color:green\">(success).</strong>"
      ],
      "text/plain": [
       "<IPython.core.display.HTML object>"
      ]
     },
     "metadata": {},
     "output_type": "display_data"
    },
    {
     "data": {
      "text/html": [
       "<style>\n",
       "    table.wandb td:nth-child(1) { padding: 0 10px; text-align: left ; width: auto;} td:nth-child(2) {text-align: left ; width: 100%}\n",
       "    .wandb-row { display: flex; flex-direction: row; flex-wrap: wrap; justify-content: flex-start; width: 100% }\n",
       "    .wandb-col { display: flex; flex-direction: column; flex-basis: 100%; flex: 1; padding: 10px; }\n",
       "    </style>\n",
       "<div class=\"wandb-row\"><div class=\"wandb-col\"><h3>Run history:</h3><br/><table class=\"wandb\"><tr><td>accuracy</td><td>▁▆▆▇▇▇▇█████▇████▇▇█</td></tr><tr><td>balanced_accuracy</td><td>▁▆▆▇▇▇▆▇█▇▇▇▇▇▇▇▇███</td></tr><tr><td>f1_weighted</td><td>▁▆▆▇▇▇▇█████▇█▇▇█▇▇█</td></tr><tr><td>precision</td><td>▁▆▆▇▇▇▆████▇▇█▇▇▇▆▆▇</td></tr><tr><td>recall</td><td>▁▆▆▇▇▇▇█████▇████▇▇█</td></tr></table><br/></div><div class=\"wandb-col\"><h3>Run summary:</h3><br/><table class=\"wandb\"><tr><td>accuracy</td><td>0.54115</td></tr><tr><td>balanced_accuracy</td><td>0.37874</td></tr><tr><td>f1_weighted</td><td>0.52988</td></tr><tr><td>precision</td><td>0.51943</td></tr><tr><td>recall</td><td>0.54115</td></tr></table><br/></div></div>"
      ],
      "text/plain": [
       "<IPython.core.display.HTML object>"
      ]
     },
     "metadata": {},
     "output_type": "display_data"
    },
    {
     "data": {
      "text/html": [
       " View run <strong style=\"color:#cdcd00\">0_cnn_mfcc_6_grey_81k_lr-0.001_convf1-64_convf2-64_convker-5_dr-0.2</strong> at: <a href='https://wandb.ai/totikos/model_cnn_mfcc_6_grey_81k-hpo/runs/oficuszm' target=\"_blank\">https://wandb.ai/totikos/model_cnn_mfcc_6_grey_81k-hpo/runs/oficuszm</a><br/> View job at <a href='https://wandb.ai/totikos/model_cnn_mfcc_6_grey_81k-hpo/jobs/QXJ0aWZhY3RDb2xsZWN0aW9uOjEyNzk0NTQwMw==/version_details/v0' target=\"_blank\">https://wandb.ai/totikos/model_cnn_mfcc_6_grey_81k-hpo/jobs/QXJ0aWZhY3RDb2xsZWN0aW9uOjEyNzk0NTQwMw==/version_details/v0</a><br/>Synced 5 W&B file(s), 0 media file(s), 0 artifact file(s) and 0 other file(s)"
      ],
      "text/plain": [
       "<IPython.core.display.HTML object>"
      ]
     },
     "metadata": {},
     "output_type": "display_data"
    },
    {
     "data": {
      "text/html": [
       "Find logs at: <code>C:\\Users\\nekta\\OneDrive\\Desktop\\botanic-emotion-recognition\\logs\\wandb\\run-20240106_160137-oficuszm\\logs</code>"
      ],
      "text/plain": [
       "<IPython.core.display.HTML object>"
      ]
     },
     "metadata": {},
     "output_type": "display_data"
    },
    {
     "name": "stderr",
     "output_type": "stream",
     "text": [
      "[I 2024-01-06 17:33:23,286] Trial 0 finished with value: 0.37873863016739945 and parameters: {'conv_kernel_size': 5, 'dropout_rate': 0.2, 'out_channels_l1': 64, 'out_channels_l2': 64, 'lr': 0.001}. Best is trial 0 with value: 0.37873863016739945.\n"
     ]
    },
    {
     "name": "stdout",
     "output_type": "stream",
     "text": [
      "{'out_channels_l1': 16, 'out_channels_l2': 64, 'conv_kernel_size': 3, 'dropout_rate': 0.2}\n"
     ]
    },
    {
     "data": {
      "text/html": [
       "wandb version 0.16.1 is available!  To upgrade, please run:\n",
       " $ pip install wandb --upgrade"
      ],
      "text/plain": [
       "<IPython.core.display.HTML object>"
      ]
     },
     "metadata": {},
     "output_type": "display_data"
    },
    {
     "data": {
      "text/html": [
       "Tracking run with wandb version 0.15.12"
      ],
      "text/plain": [
       "<IPython.core.display.HTML object>"
      ]
     },
     "metadata": {},
     "output_type": "display_data"
    },
    {
     "data": {
      "text/html": [
       "Run data is saved locally in <code>C:\\Users\\nekta\\OneDrive\\Desktop\\botanic-emotion-recognition\\logs\\wandb\\run-20240106_173323-qq3frwtj</code>"
      ],
      "text/plain": [
       "<IPython.core.display.HTML object>"
      ]
     },
     "metadata": {},
     "output_type": "display_data"
    },
    {
     "data": {
      "text/html": [
       "Syncing run <strong><a href='https://wandb.ai/totikos/model_cnn_mfcc_6_grey_81k-hpo/runs/qq3frwtj' target=\"_blank\">1_cnn_mfcc_6_grey_81k_lr-0.001_convf1-16_convf2-64_convker-3_dr-0.2</a></strong> to <a href='https://wandb.ai/totikos/model_cnn_mfcc_6_grey_81k-hpo' target=\"_blank\">Weights & Biases</a> (<a href='https://wandb.me/run' target=\"_blank\">docs</a>)<br/>"
      ],
      "text/plain": [
       "<IPython.core.display.HTML object>"
      ]
     },
     "metadata": {},
     "output_type": "display_data"
    },
    {
     "data": {
      "text/html": [
       " View project at <a href='https://wandb.ai/totikos/model_cnn_mfcc_6_grey_81k-hpo' target=\"_blank\">https://wandb.ai/totikos/model_cnn_mfcc_6_grey_81k-hpo</a>"
      ],
      "text/plain": [
       "<IPython.core.display.HTML object>"
      ]
     },
     "metadata": {},
     "output_type": "display_data"
    },
    {
     "data": {
      "text/html": [
       " View run at <a href='https://wandb.ai/totikos/model_cnn_mfcc_6_grey_81k-hpo/runs/qq3frwtj' target=\"_blank\">https://wandb.ai/totikos/model_cnn_mfcc_6_grey_81k-hpo/runs/qq3frwtj</a>"
      ],
      "text/plain": [
       "<IPython.core.display.HTML object>"
      ]
     },
     "metadata": {},
     "output_type": "display_data"
    },
    {
     "name": "stderr",
     "output_type": "stream",
     "text": [
      "100%|████████████████████████████████████████| 380/380 [01:11<00:00,  5.30it/s]\n",
      "100%|██████████████████████████████████████████| 82/82 [00:07<00:00, 11.28it/s]\n",
      "100%|████████████████████████████████████████| 380/380 [01:13<00:00,  5.16it/s]\n",
      "100%|██████████████████████████████████████████| 82/82 [00:06<00:00, 13.19it/s]\n",
      "100%|████████████████████████████████████████| 380/380 [01:16<00:00,  4.97it/s]\n",
      "100%|██████████████████████████████████████████| 82/82 [00:06<00:00, 13.14it/s]\n",
      "100%|████████████████████████████████████████| 380/380 [01:20<00:00,  4.75it/s]\n",
      "100%|██████████████████████████████████████████| 82/82 [00:06<00:00, 12.32it/s]\n",
      "100%|████████████████████████████████████████| 380/380 [01:20<00:00,  4.69it/s]\n",
      "100%|██████████████████████████████████████████| 82/82 [00:07<00:00, 11.21it/s]\n",
      "100%|████████████████████████████████████████| 380/380 [01:23<00:00,  4.56it/s]\n",
      "100%|██████████████████████████████████████████| 82/82 [00:06<00:00, 12.41it/s]\n",
      "100%|████████████████████████████████████████| 380/380 [01:19<00:00,  4.80it/s]\n",
      "100%|██████████████████████████████████████████| 82/82 [00:06<00:00, 12.33it/s]\n",
      "100%|████████████████████████████████████████| 380/380 [01:18<00:00,  4.82it/s]\n",
      "100%|██████████████████████████████████████████| 82/82 [00:05<00:00, 13.87it/s]\n",
      "100%|████████████████████████████████████████| 380/380 [01:17<00:00,  4.87it/s]\n",
      "100%|██████████████████████████████████████████| 82/82 [00:07<00:00, 11.54it/s]\n",
      "100%|████████████████████████████████████████| 380/380 [01:22<00:00,  4.62it/s]\n",
      "100%|██████████████████████████████████████████| 82/82 [00:06<00:00, 12.77it/s]\n",
      "100%|████████████████████████████████████████| 380/380 [01:28<00:00,  4.30it/s]\n",
      "100%|██████████████████████████████████████████| 82/82 [00:07<00:00, 11.64it/s]\n",
      "100%|████████████████████████████████████████| 380/380 [01:31<00:00,  4.14it/s]\n",
      "100%|██████████████████████████████████████████| 82/82 [00:06<00:00, 12.88it/s]\n",
      "100%|████████████████████████████████████████| 380/380 [01:21<00:00,  4.64it/s]\n",
      "100%|██████████████████████████████████████████| 82/82 [00:06<00:00, 12.97it/s]\n",
      "100%|████████████████████████████████████████| 380/380 [01:18<00:00,  4.82it/s]\n",
      "100%|██████████████████████████████████████████| 82/82 [00:05<00:00, 13.78it/s]\n",
      "100%|████████████████████████████████████████| 380/380 [01:23<00:00,  4.55it/s]\n",
      "100%|██████████████████████████████████████████| 82/82 [00:06<00:00, 13.34it/s]\n",
      "100%|████████████████████████████████████████| 380/380 [01:18<00:00,  4.86it/s]\n",
      "100%|██████████████████████████████████████████| 82/82 [00:06<00:00, 11.76it/s]\n",
      "100%|████████████████████████████████████████| 380/380 [01:21<00:00,  4.67it/s]\n",
      "100%|██████████████████████████████████████████| 82/82 [00:06<00:00, 13.10it/s]\n",
      "100%|████████████████████████████████████████| 380/380 [01:20<00:00,  4.70it/s]\n",
      "100%|██████████████████████████████████████████| 82/82 [00:06<00:00, 13.51it/s]\n",
      "100%|████████████████████████████████████████| 380/380 [01:16<00:00,  4.94it/s]\n",
      "100%|██████████████████████████████████████████| 82/82 [00:06<00:00, 13.05it/s]\n",
      "100%|████████████████████████████████████████| 380/380 [01:20<00:00,  4.74it/s]\n",
      "100%|██████████████████████████████████████████| 82/82 [00:06<00:00, 13.16it/s]\n"
     ]
    },
    {
     "data": {
      "text/html": [
       "Waiting for W&B process to finish... <strong style=\"color:green\">(success).</strong>"
      ],
      "text/plain": [
       "<IPython.core.display.HTML object>"
      ]
     },
     "metadata": {},
     "output_type": "display_data"
    },
    {
     "data": {
      "text/html": [
       "<style>\n",
       "    table.wandb td:nth-child(1) { padding: 0 10px; text-align: left ; width: auto;} td:nth-child(2) {text-align: left ; width: 100%}\n",
       "    .wandb-row { display: flex; flex-direction: row; flex-wrap: wrap; justify-content: flex-start; width: 100% }\n",
       "    .wandb-col { display: flex; flex-direction: column; flex-basis: 100%; flex: 1; padding: 10px; }\n",
       "    </style>\n",
       "<div class=\"wandb-row\"><div class=\"wandb-col\"><h3>Run history:</h3><br/><table class=\"wandb\"><tr><td>accuracy</td><td>▁▄▅▆▆▇▇▇▇███████▇▇▇█</td></tr><tr><td>balanced_accuracy</td><td>▁▆▆▇▇▇▇█████████▇▇██</td></tr><tr><td>f1_weighted</td><td>▁▄▄▆▇▇▇▇▇███████▇▇██</td></tr><tr><td>precision</td><td>▁▅▅▆▆▆▇▇▇███████▇▇▇█</td></tr><tr><td>recall</td><td>▁▄▅▆▆▇▇▇▇███████▇▇▇█</td></tr></table><br/></div><div class=\"wandb-col\"><h3>Run summary:</h3><br/><table class=\"wandb\"><tr><td>accuracy</td><td>0.54154</td></tr><tr><td>balanced_accuracy</td><td>0.37062</td></tr><tr><td>f1_weighted</td><td>0.52614</td></tr><tr><td>precision</td><td>0.52258</td></tr><tr><td>recall</td><td>0.54154</td></tr></table><br/></div></div>"
      ],
      "text/plain": [
       "<IPython.core.display.HTML object>"
      ]
     },
     "metadata": {},
     "output_type": "display_data"
    },
    {
     "data": {
      "text/html": [
       " View run <strong style=\"color:#cdcd00\">1_cnn_mfcc_6_grey_81k_lr-0.001_convf1-16_convf2-64_convker-3_dr-0.2</strong> at: <a href='https://wandb.ai/totikos/model_cnn_mfcc_6_grey_81k-hpo/runs/qq3frwtj' target=\"_blank\">https://wandb.ai/totikos/model_cnn_mfcc_6_grey_81k-hpo/runs/qq3frwtj</a><br/> View job at <a href='https://wandb.ai/totikos/model_cnn_mfcc_6_grey_81k-hpo/jobs/QXJ0aWZhY3RDb2xsZWN0aW9uOjEyNzk0NTQwMw==/version_details/v0' target=\"_blank\">https://wandb.ai/totikos/model_cnn_mfcc_6_grey_81k-hpo/jobs/QXJ0aWZhY3RDb2xsZWN0aW9uOjEyNzk0NTQwMw==/version_details/v0</a><br/>Synced 5 W&B file(s), 0 media file(s), 0 artifact file(s) and 0 other file(s)"
      ],
      "text/plain": [
       "<IPython.core.display.HTML object>"
      ]
     },
     "metadata": {},
     "output_type": "display_data"
    },
    {
     "data": {
      "text/html": [
       "Find logs at: <code>C:\\Users\\nekta\\OneDrive\\Desktop\\botanic-emotion-recognition\\logs\\wandb\\run-20240106_173323-qq3frwtj\\logs</code>"
      ],
      "text/plain": [
       "<IPython.core.display.HTML object>"
      ]
     },
     "metadata": {},
     "output_type": "display_data"
    },
    {
     "name": "stderr",
     "output_type": "stream",
     "text": [
      "[I 2024-01-06 18:02:25,652] Trial 1 finished with value: 0.3706168997538896 and parameters: {'conv_kernel_size': 3, 'dropout_rate': 0.2, 'out_channels_l1': 16, 'out_channels_l2': 64, 'lr': 0.001}. Best is trial 0 with value: 0.37873863016739945.\n"
     ]
    },
    {
     "name": "stdout",
     "output_type": "stream",
     "text": [
      "{'out_channels_l1': 64, 'out_channels_l2': 32, 'conv_kernel_size': 5, 'dropout_rate': 0.0}\n"
     ]
    },
    {
     "data": {
      "text/html": [
       "wandb version 0.16.1 is available!  To upgrade, please run:\n",
       " $ pip install wandb --upgrade"
      ],
      "text/plain": [
       "<IPython.core.display.HTML object>"
      ]
     },
     "metadata": {},
     "output_type": "display_data"
    },
    {
     "data": {
      "text/html": [
       "Tracking run with wandb version 0.15.12"
      ],
      "text/plain": [
       "<IPython.core.display.HTML object>"
      ]
     },
     "metadata": {},
     "output_type": "display_data"
    },
    {
     "data": {
      "text/html": [
       "Run data is saved locally in <code>C:\\Users\\nekta\\OneDrive\\Desktop\\botanic-emotion-recognition\\logs\\wandb\\run-20240106_180225-ma7qmt0x</code>"
      ],
      "text/plain": [
       "<IPython.core.display.HTML object>"
      ]
     },
     "metadata": {},
     "output_type": "display_data"
    },
    {
     "data": {
      "text/html": [
       "Syncing run <strong><a href='https://wandb.ai/totikos/model_cnn_mfcc_6_grey_81k-hpo/runs/ma7qmt0x' target=\"_blank\">2_cnn_mfcc_6_grey_81k_lr-0.001_convf1-64_convf2-32_convker-5_dr-0.0</a></strong> to <a href='https://wandb.ai/totikos/model_cnn_mfcc_6_grey_81k-hpo' target=\"_blank\">Weights & Biases</a> (<a href='https://wandb.me/run' target=\"_blank\">docs</a>)<br/>"
      ],
      "text/plain": [
       "<IPython.core.display.HTML object>"
      ]
     },
     "metadata": {},
     "output_type": "display_data"
    },
    {
     "data": {
      "text/html": [
       " View project at <a href='https://wandb.ai/totikos/model_cnn_mfcc_6_grey_81k-hpo' target=\"_blank\">https://wandb.ai/totikos/model_cnn_mfcc_6_grey_81k-hpo</a>"
      ],
      "text/plain": [
       "<IPython.core.display.HTML object>"
      ]
     },
     "metadata": {},
     "output_type": "display_data"
    },
    {
     "data": {
      "text/html": [
       " View run at <a href='https://wandb.ai/totikos/model_cnn_mfcc_6_grey_81k-hpo/runs/ma7qmt0x' target=\"_blank\">https://wandb.ai/totikos/model_cnn_mfcc_6_grey_81k-hpo/runs/ma7qmt0x</a>"
      ],
      "text/plain": [
       "<IPython.core.display.HTML object>"
      ]
     },
     "metadata": {},
     "output_type": "display_data"
    },
    {
     "name": "stderr",
     "output_type": "stream",
     "text": [
      "100%|████████████████████████████████████████| 380/380 [02:47<00:00,  2.27it/s]\n",
      "100%|██████████████████████████████████████████| 82/82 [00:18<00:00,  4.38it/s]\n",
      "100%|████████████████████████████████████████| 380/380 [03:05<00:00,  2.05it/s]\n",
      "100%|██████████████████████████████████████████| 82/82 [00:15<00:00,  5.33it/s]\n",
      "100%|████████████████████████████████████████| 380/380 [03:06<00:00,  2.04it/s]\n",
      "100%|██████████████████████████████████████████| 82/82 [00:24<00:00,  3.29it/s]\n",
      "100%|████████████████████████████████████████| 380/380 [05:04<00:00,  1.25it/s]\n",
      "100%|██████████████████████████████████████████| 82/82 [00:25<00:00,  3.18it/s]\n",
      "100%|████████████████████████████████████████| 380/380 [05:02<00:00,  1.25it/s]\n",
      "100%|██████████████████████████████████████████| 82/82 [00:32<00:00,  2.52it/s]\n",
      "100%|████████████████████████████████████████| 380/380 [04:56<00:00,  1.28it/s]\n",
      "100%|██████████████████████████████████████████| 82/82 [00:26<00:00,  3.12it/s]\n",
      "100%|████████████████████████████████████████| 380/380 [04:32<00:00,  1.39it/s]\n",
      "100%|██████████████████████████████████████████| 82/82 [00:25<00:00,  3.18it/s]\n",
      "100%|████████████████████████████████████████| 380/380 [04:56<00:00,  1.28it/s]\n",
      "100%|██████████████████████████████████████████| 82/82 [00:25<00:00,  3.19it/s]\n",
      "100%|████████████████████████████████████████| 380/380 [05:20<00:00,  1.19it/s]\n",
      "100%|██████████████████████████████████████████| 82/82 [00:24<00:00,  3.42it/s]\n",
      "100%|████████████████████████████████████████| 380/380 [05:24<00:00,  1.17it/s]\n",
      "100%|██████████████████████████████████████████| 82/82 [00:29<00:00,  2.79it/s]\n",
      "100%|████████████████████████████████████████| 380/380 [05:15<00:00,  1.21it/s]\n",
      "100%|██████████████████████████████████████████| 82/82 [00:27<00:00,  2.98it/s]\n",
      "100%|████████████████████████████████████████| 380/380 [05:05<00:00,  1.24it/s]\n",
      "100%|██████████████████████████████████████████| 82/82 [00:24<00:00,  3.41it/s]\n",
      "100%|████████████████████████████████████████| 380/380 [06:01<00:00,  1.05it/s]\n",
      "100%|██████████████████████████████████████████| 82/82 [00:33<00:00,  2.45it/s]\n",
      "100%|████████████████████████████████████████| 380/380 [06:26<00:00,  1.02s/it]\n",
      "100%|██████████████████████████████████████████| 82/82 [00:37<00:00,  2.21it/s]\n",
      "100%|████████████████████████████████████████| 380/380 [06:06<00:00,  1.04it/s]\n",
      "100%|██████████████████████████████████████████| 82/82 [00:33<00:00,  2.41it/s]\n",
      "100%|████████████████████████████████████████| 380/380 [04:43<00:00,  1.34it/s]\n",
      "100%|██████████████████████████████████████████| 82/82 [00:28<00:00,  2.87it/s]\n",
      "100%|████████████████████████████████████████| 380/380 [04:40<00:00,  1.36it/s]\n",
      "100%|██████████████████████████████████████████| 82/82 [00:23<00:00,  3.49it/s]\n",
      "100%|████████████████████████████████████████| 380/380 [05:06<00:00,  1.24it/s]\n",
      "100%|██████████████████████████████████████████| 82/82 [00:30<00:00,  2.71it/s]\n",
      "100%|████████████████████████████████████████| 380/380 [06:05<00:00,  1.04it/s]\n",
      "100%|██████████████████████████████████████████| 82/82 [00:27<00:00,  3.01it/s]\n",
      "100%|████████████████████████████████████████| 380/380 [06:24<00:00,  1.01s/it]\n",
      "100%|██████████████████████████████████████████| 82/82 [00:28<00:00,  2.87it/s]\n"
     ]
    },
    {
     "data": {
      "text/html": [
       "Waiting for W&B process to finish... <strong style=\"color:green\">(success).</strong>"
      ],
      "text/plain": [
       "<IPython.core.display.HTML object>"
      ]
     },
     "metadata": {},
     "output_type": "display_data"
    },
    {
     "data": {
      "text/html": [
       "<style>\n",
       "    table.wandb td:nth-child(1) { padding: 0 10px; text-align: left ; width: auto;} td:nth-child(2) {text-align: left ; width: 100%}\n",
       "    .wandb-row { display: flex; flex-direction: row; flex-wrap: wrap; justify-content: flex-start; width: 100% }\n",
       "    .wandb-col { display: flex; flex-direction: column; flex-basis: 100%; flex: 1; padding: 10px; }\n",
       "    </style>\n",
       "<div class=\"wandb-row\"><div class=\"wandb-col\"><h3>Run history:</h3><br/><table class=\"wandb\"><tr><td>accuracy</td><td>▁▆▇▇▇▇████▇▇▇▇▇▆▆▆▆▆</td></tr><tr><td>balanced_accuracy</td><td>▁▅▇▇▇▇████▇▇▇▇▇▇▆▇▆▆</td></tr><tr><td>f1_weighted</td><td>▁▆▇▇▇▇█████▇▇▇▇▇▇▇▆▇</td></tr><tr><td>precision</td><td>▁▇▇▇▇██████▇▇▇▇▇▇▇▇▇</td></tr><tr><td>recall</td><td>▁▆▇▇▇▇████▇▇▇▇▇▆▆▆▆▆</td></tr></table><br/></div><div class=\"wandb-col\"><h3>Run summary:</h3><br/><table class=\"wandb\"><tr><td>accuracy</td><td>0.52038</td></tr><tr><td>balanced_accuracy</td><td>0.36102</td></tr><tr><td>f1_weighted</td><td>0.50867</td></tr><tr><td>precision</td><td>0.49925</td></tr><tr><td>recall</td><td>0.52038</td></tr></table><br/></div></div>"
      ],
      "text/plain": [
       "<IPython.core.display.HTML object>"
      ]
     },
     "metadata": {},
     "output_type": "display_data"
    },
    {
     "data": {
      "text/html": [
       " View run <strong style=\"color:#cdcd00\">2_cnn_mfcc_6_grey_81k_lr-0.001_convf1-64_convf2-32_convker-5_dr-0.0</strong> at: <a href='https://wandb.ai/totikos/model_cnn_mfcc_6_grey_81k-hpo/runs/ma7qmt0x' target=\"_blank\">https://wandb.ai/totikos/model_cnn_mfcc_6_grey_81k-hpo/runs/ma7qmt0x</a><br/> View job at <a href='https://wandb.ai/totikos/model_cnn_mfcc_6_grey_81k-hpo/jobs/QXJ0aWZhY3RDb2xsZWN0aW9uOjEyNzk0NTQwMw==/version_details/v0' target=\"_blank\">https://wandb.ai/totikos/model_cnn_mfcc_6_grey_81k-hpo/jobs/QXJ0aWZhY3RDb2xsZWN0aW9uOjEyNzk0NTQwMw==/version_details/v0</a><br/>Synced 5 W&B file(s), 0 media file(s), 0 artifact file(s) and 0 other file(s)"
      ],
      "text/plain": [
       "<IPython.core.display.HTML object>"
      ]
     },
     "metadata": {},
     "output_type": "display_data"
    },
    {
     "data": {
      "text/html": [
       "Find logs at: <code>C:\\Users\\nekta\\OneDrive\\Desktop\\botanic-emotion-recognition\\logs\\wandb\\run-20240106_180225-ma7qmt0x\\logs</code>"
      ],
      "text/plain": [
       "<IPython.core.display.HTML object>"
      ]
     },
     "metadata": {},
     "output_type": "display_data"
    },
    {
     "name": "stderr",
     "output_type": "stream",
     "text": [
      "[I 2024-01-06 19:51:48,813] Trial 2 finished with value: 0.3610243753967088 and parameters: {'conv_kernel_size': 5, 'dropout_rate': 0.0, 'out_channels_l1': 64, 'out_channels_l2': 32, 'lr': 0.001}. Best is trial 0 with value: 0.37873863016739945.\n"
     ]
    },
    {
     "name": "stdout",
     "output_type": "stream",
     "text": [
      "{'out_channels_l1': 16, 'out_channels_l2': 64, 'conv_kernel_size': 3, 'dropout_rate': 0.1}\n"
     ]
    },
    {
     "data": {
      "text/html": [
       "wandb version 0.16.1 is available!  To upgrade, please run:\n",
       " $ pip install wandb --upgrade"
      ],
      "text/plain": [
       "<IPython.core.display.HTML object>"
      ]
     },
     "metadata": {},
     "output_type": "display_data"
    },
    {
     "data": {
      "text/html": [
       "Tracking run with wandb version 0.15.12"
      ],
      "text/plain": [
       "<IPython.core.display.HTML object>"
      ]
     },
     "metadata": {},
     "output_type": "display_data"
    },
    {
     "data": {
      "text/html": [
       "Run data is saved locally in <code>C:\\Users\\nekta\\OneDrive\\Desktop\\botanic-emotion-recognition\\logs\\wandb\\run-20240106_195149-1gcemy7j</code>"
      ],
      "text/plain": [
       "<IPython.core.display.HTML object>"
      ]
     },
     "metadata": {},
     "output_type": "display_data"
    },
    {
     "data": {
      "text/html": [
       "Syncing run <strong><a href='https://wandb.ai/totikos/model_cnn_mfcc_6_grey_81k-hpo/runs/1gcemy7j' target=\"_blank\">3_cnn_mfcc_6_grey_81k_lr-0.001_convf1-16_convf2-64_convker-3_dr-0.1</a></strong> to <a href='https://wandb.ai/totikos/model_cnn_mfcc_6_grey_81k-hpo' target=\"_blank\">Weights & Biases</a> (<a href='https://wandb.me/run' target=\"_blank\">docs</a>)<br/>"
      ],
      "text/plain": [
       "<IPython.core.display.HTML object>"
      ]
     },
     "metadata": {},
     "output_type": "display_data"
    },
    {
     "data": {
      "text/html": [
       " View project at <a href='https://wandb.ai/totikos/model_cnn_mfcc_6_grey_81k-hpo' target=\"_blank\">https://wandb.ai/totikos/model_cnn_mfcc_6_grey_81k-hpo</a>"
      ],
      "text/plain": [
       "<IPython.core.display.HTML object>"
      ]
     },
     "metadata": {},
     "output_type": "display_data"
    },
    {
     "data": {
      "text/html": [
       " View run at <a href='https://wandb.ai/totikos/model_cnn_mfcc_6_grey_81k-hpo/runs/1gcemy7j' target=\"_blank\">https://wandb.ai/totikos/model_cnn_mfcc_6_grey_81k-hpo/runs/1gcemy7j</a>"
      ],
      "text/plain": [
       "<IPython.core.display.HTML object>"
      ]
     },
     "metadata": {},
     "output_type": "display_data"
    },
    {
     "name": "stderr",
     "output_type": "stream",
     "text": [
      "100%|████████████████████████████████████████| 380/380 [02:33<00:00,  2.48it/s]\n",
      "100%|██████████████████████████████████████████| 82/82 [00:14<00:00,  5.68it/s]\n",
      "100%|████████████████████████████████████████| 380/380 [02:27<00:00,  2.57it/s]\n",
      "100%|██████████████████████████████████████████| 82/82 [00:11<00:00,  6.89it/s]\n",
      "100%|████████████████████████████████████████| 380/380 [02:34<00:00,  2.47it/s]\n",
      "100%|██████████████████████████████████████████| 82/82 [00:10<00:00,  7.85it/s]\n",
      "100%|████████████████████████████████████████| 380/380 [02:22<00:00,  2.66it/s]\n",
      "100%|██████████████████████████████████████████| 82/82 [00:10<00:00,  7.53it/s]\n",
      "100%|████████████████████████████████████████| 380/380 [02:08<00:00,  2.96it/s]\n",
      "100%|██████████████████████████████████████████| 82/82 [00:09<00:00,  8.25it/s]\n",
      "100%|████████████████████████████████████████| 380/380 [02:00<00:00,  3.15it/s]\n",
      "100%|██████████████████████████████████████████| 82/82 [00:10<00:00,  7.86it/s]\n",
      "100%|████████████████████████████████████████| 380/380 [02:12<00:00,  2.87it/s]\n",
      "100%|██████████████████████████████████████████| 82/82 [00:09<00:00,  8.24it/s]\n",
      "100%|████████████████████████████████████████| 380/380 [02:05<00:00,  3.03it/s]\n",
      "100%|██████████████████████████████████████████| 82/82 [00:10<00:00,  7.91it/s]\n",
      "100%|████████████████████████████████████████| 380/380 [02:04<00:00,  3.05it/s]\n",
      "100%|██████████████████████████████████████████| 82/82 [00:12<00:00,  6.44it/s]\n",
      "100%|████████████████████████████████████████| 380/380 [02:06<00:00,  3.01it/s]\n",
      "100%|██████████████████████████████████████████| 82/82 [00:12<00:00,  6.62it/s]\n",
      "100%|████████████████████████████████████████| 380/380 [01:23<00:00,  4.58it/s]\n",
      "100%|██████████████████████████████████████████| 82/82 [00:07<00:00, 10.32it/s]\n",
      "100%|████████████████████████████████████████| 380/380 [01:28<00:00,  4.31it/s]\n",
      "100%|██████████████████████████████████████████| 82/82 [00:06<00:00, 12.49it/s]\n",
      "100%|████████████████████████████████████████| 380/380 [01:40<00:00,  3.79it/s]\n",
      "100%|██████████████████████████████████████████| 82/82 [00:06<00:00, 13.06it/s]\n",
      "100%|████████████████████████████████████████| 380/380 [01:27<00:00,  4.33it/s]\n",
      "100%|██████████████████████████████████████████| 82/82 [00:07<00:00, 11.24it/s]\n",
      "100%|████████████████████████████████████████| 380/380 [01:22<00:00,  4.60it/s]\n",
      "100%|██████████████████████████████████████████| 82/82 [00:06<00:00, 12.59it/s]\n",
      "100%|████████████████████████████████████████| 380/380 [01:37<00:00,  3.90it/s]\n",
      "100%|██████████████████████████████████████████| 82/82 [00:08<00:00,  9.35it/s]\n",
      "100%|████████████████████████████████████████| 380/380 [01:32<00:00,  4.13it/s]\n",
      "100%|██████████████████████████████████████████| 82/82 [00:06<00:00, 13.40it/s]\n",
      "100%|████████████████████████████████████████| 380/380 [01:21<00:00,  4.65it/s]\n",
      "100%|██████████████████████████████████████████| 82/82 [00:05<00:00, 14.43it/s]\n",
      "100%|████████████████████████████████████████| 380/380 [01:23<00:00,  4.57it/s]\n",
      "100%|██████████████████████████████████████████| 82/82 [00:06<00:00, 13.22it/s]\n",
      "100%|████████████████████████████████████████| 380/380 [01:20<00:00,  4.73it/s]\n",
      "100%|██████████████████████████████████████████| 82/82 [00:06<00:00, 12.56it/s]\n"
     ]
    },
    {
     "data": {
      "text/html": [
       "Waiting for W&B process to finish... <strong style=\"color:green\">(success).</strong>"
      ],
      "text/plain": [
       "<IPython.core.display.HTML object>"
      ]
     },
     "metadata": {},
     "output_type": "display_data"
    },
    {
     "data": {
      "text/html": [
       "<style>\n",
       "    table.wandb td:nth-child(1) { padding: 0 10px; text-align: left ; width: auto;} td:nth-child(2) {text-align: left ; width: 100%}\n",
       "    .wandb-row { display: flex; flex-direction: row; flex-wrap: wrap; justify-content: flex-start; width: 100% }\n",
       "    .wandb-col { display: flex; flex-direction: column; flex-basis: 100%; flex: 1; padding: 10px; }\n",
       "    </style>\n",
       "<div class=\"wandb-row\"><div class=\"wandb-col\"><h3>Run history:</h3><br/><table class=\"wandb\"><tr><td>accuracy</td><td>▁▄▆▇▇▇▇▇▇▇██████▇▇▇▇</td></tr><tr><td>balanced_accuracy</td><td>▁▃▅▇▇▇▇▇███████▇▇▇▇▆</td></tr><tr><td>f1_weighted</td><td>▁▅▆▇▇▇▇▇▇████████▇▇▇</td></tr><tr><td>precision</td><td>▁▆▇▇▇▇▇▇▇▇████████▇▇</td></tr><tr><td>recall</td><td>▁▄▆▇▇▇▇▇▇▇██████▇▇▇▇</td></tr></table><br/></div><div class=\"wandb-col\"><h3>Run summary:</h3><br/><table class=\"wandb\"><tr><td>accuracy</td><td>0.52269</td></tr><tr><td>balanced_accuracy</td><td>0.35823</td></tr><tr><td>f1_weighted</td><td>0.5121</td></tr><tr><td>precision</td><td>0.50964</td></tr><tr><td>recall</td><td>0.52269</td></tr></table><br/></div></div>"
      ],
      "text/plain": [
       "<IPython.core.display.HTML object>"
      ]
     },
     "metadata": {},
     "output_type": "display_data"
    },
    {
     "data": {
      "text/html": [
       " View run <strong style=\"color:#cdcd00\">3_cnn_mfcc_6_grey_81k_lr-0.001_convf1-16_convf2-64_convker-3_dr-0.1</strong> at: <a href='https://wandb.ai/totikos/model_cnn_mfcc_6_grey_81k-hpo/runs/1gcemy7j' target=\"_blank\">https://wandb.ai/totikos/model_cnn_mfcc_6_grey_81k-hpo/runs/1gcemy7j</a><br/> View job at <a href='https://wandb.ai/totikos/model_cnn_mfcc_6_grey_81k-hpo/jobs/QXJ0aWZhY3RDb2xsZWN0aW9uOjEyNzk0NTQwMw==/version_details/v0' target=\"_blank\">https://wandb.ai/totikos/model_cnn_mfcc_6_grey_81k-hpo/jobs/QXJ0aWZhY3RDb2xsZWN0aW9uOjEyNzk0NTQwMw==/version_details/v0</a><br/>Synced 5 W&B file(s), 0 media file(s), 0 artifact file(s) and 0 other file(s)"
      ],
      "text/plain": [
       "<IPython.core.display.HTML object>"
      ]
     },
     "metadata": {},
     "output_type": "display_data"
    },
    {
     "data": {
      "text/html": [
       "Find logs at: <code>C:\\Users\\nekta\\OneDrive\\Desktop\\botanic-emotion-recognition\\logs\\wandb\\run-20240106_195149-1gcemy7j\\logs</code>"
      ],
      "text/plain": [
       "<IPython.core.display.HTML object>"
      ]
     },
     "metadata": {},
     "output_type": "display_data"
    },
    {
     "name": "stderr",
     "output_type": "stream",
     "text": [
      "[I 2024-01-06 20:32:09,053] Trial 3 finished with value: 0.35822702797759765 and parameters: {'conv_kernel_size': 3, 'dropout_rate': 0.1, 'out_channels_l1': 16, 'out_channels_l2': 64, 'lr': 0.001}. Best is trial 0 with value: 0.37873863016739945.\n"
     ]
    },
    {
     "name": "stdout",
     "output_type": "stream",
     "text": [
      "{'out_channels_l1': 64, 'out_channels_l2': 32, 'conv_kernel_size': 5, 'dropout_rate': 0.0}\n"
     ]
    },
    {
     "data": {
      "text/html": [
       "wandb version 0.16.1 is available!  To upgrade, please run:\n",
       " $ pip install wandb --upgrade"
      ],
      "text/plain": [
       "<IPython.core.display.HTML object>"
      ]
     },
     "metadata": {},
     "output_type": "display_data"
    },
    {
     "data": {
      "text/html": [
       "Tracking run with wandb version 0.15.12"
      ],
      "text/plain": [
       "<IPython.core.display.HTML object>"
      ]
     },
     "metadata": {},
     "output_type": "display_data"
    },
    {
     "data": {
      "text/html": [
       "Run data is saved locally in <code>C:\\Users\\nekta\\OneDrive\\Desktop\\botanic-emotion-recognition\\logs\\wandb\\run-20240106_203209-bhvgqjox</code>"
      ],
      "text/plain": [
       "<IPython.core.display.HTML object>"
      ]
     },
     "metadata": {},
     "output_type": "display_data"
    },
    {
     "data": {
      "text/html": [
       "Syncing run <strong><a href='https://wandb.ai/totikos/model_cnn_mfcc_6_grey_81k-hpo/runs/bhvgqjox' target=\"_blank\">4_cnn_mfcc_6_grey_81k_lr-0.01_convf1-64_convf2-32_convker-5_dr-0.0</a></strong> to <a href='https://wandb.ai/totikos/model_cnn_mfcc_6_grey_81k-hpo' target=\"_blank\">Weights & Biases</a> (<a href='https://wandb.me/run' target=\"_blank\">docs</a>)<br/>"
      ],
      "text/plain": [
       "<IPython.core.display.HTML object>"
      ]
     },
     "metadata": {},
     "output_type": "display_data"
    },
    {
     "data": {
      "text/html": [
       " View project at <a href='https://wandb.ai/totikos/model_cnn_mfcc_6_grey_81k-hpo' target=\"_blank\">https://wandb.ai/totikos/model_cnn_mfcc_6_grey_81k-hpo</a>"
      ],
      "text/plain": [
       "<IPython.core.display.HTML object>"
      ]
     },
     "metadata": {},
     "output_type": "display_data"
    },
    {
     "data": {
      "text/html": [
       " View run at <a href='https://wandb.ai/totikos/model_cnn_mfcc_6_grey_81k-hpo/runs/bhvgqjox' target=\"_blank\">https://wandb.ai/totikos/model_cnn_mfcc_6_grey_81k-hpo/runs/bhvgqjox</a>"
      ],
      "text/plain": [
       "<IPython.core.display.HTML object>"
      ]
     },
     "metadata": {},
     "output_type": "display_data"
    },
    {
     "name": "stderr",
     "output_type": "stream",
     "text": [
      "100%|████████████████████████████████████████| 380/380 [02:53<00:00,  2.18it/s]\n",
      "100%|██████████████████████████████████████████| 82/82 [00:18<00:00,  4.33it/s]\n",
      "100%|████████████████████████████████████████| 380/380 [02:58<00:00,  2.13it/s]\n",
      "100%|██████████████████████████████████████████| 82/82 [00:15<00:00,  5.29it/s]\n",
      "100%|████████████████████████████████████████| 380/380 [02:48<00:00,  2.25it/s]\n",
      "100%|██████████████████████████████████████████| 82/82 [00:15<00:00,  5.33it/s]\n",
      "100%|████████████████████████████████████████| 380/380 [03:05<00:00,  2.05it/s]\n",
      "100%|██████████████████████████████████████████| 82/82 [00:17<00:00,  4.60it/s]\n",
      "100%|████████████████████████████████████████| 380/380 [03:11<00:00,  1.99it/s]\n",
      "100%|██████████████████████████████████████████| 82/82 [00:15<00:00,  5.38it/s]\n",
      "100%|████████████████████████████████████████| 380/380 [02:57<00:00,  2.14it/s]\n",
      "100%|██████████████████████████████████████████| 82/82 [00:14<00:00,  5.60it/s]\n",
      "100%|████████████████████████████████████████| 380/380 [02:48<00:00,  2.26it/s]\n",
      "100%|██████████████████████████████████████████| 82/82 [00:14<00:00,  5.70it/s]\n",
      "100%|████████████████████████████████████████| 380/380 [02:52<00:00,  2.20it/s]\n",
      "100%|██████████████████████████████████████████| 82/82 [00:15<00:00,  5.29it/s]\n",
      "100%|████████████████████████████████████████| 380/380 [02:46<00:00,  2.28it/s]\n",
      "100%|██████████████████████████████████████████| 82/82 [00:14<00:00,  5.65it/s]\n",
      "100%|████████████████████████████████████████| 380/380 [02:40<00:00,  2.37it/s]\n",
      "100%|██████████████████████████████████████████| 82/82 [00:14<00:00,  5.77it/s]\n",
      "100%|████████████████████████████████████████| 380/380 [02:36<00:00,  2.43it/s]\n",
      "100%|██████████████████████████████████████████| 82/82 [00:14<00:00,  5.50it/s]\n",
      "100%|████████████████████████████████████████| 380/380 [02:46<00:00,  2.28it/s]\n",
      "100%|██████████████████████████████████████████| 82/82 [00:14<00:00,  5.50it/s]\n",
      "100%|████████████████████████████████████████| 380/380 [03:00<00:00,  2.11it/s]\n",
      "100%|██████████████████████████████████████████| 82/82 [00:15<00:00,  5.17it/s]\n",
      "100%|████████████████████████████████████████| 380/380 [02:52<00:00,  2.21it/s]\n",
      "100%|██████████████████████████████████████████| 82/82 [00:14<00:00,  5.85it/s]\n",
      "100%|████████████████████████████████████████| 380/380 [02:54<00:00,  2.18it/s]\n",
      "100%|██████████████████████████████████████████| 82/82 [00:14<00:00,  5.69it/s]\n",
      "100%|████████████████████████████████████████| 380/380 [02:58<00:00,  2.12it/s]\n",
      "100%|██████████████████████████████████████████| 82/82 [00:17<00:00,  4.68it/s]\n",
      "100%|████████████████████████████████████████| 380/380 [03:08<00:00,  2.02it/s]\n",
      "100%|██████████████████████████████████████████| 82/82 [00:16<00:00,  5.09it/s]\n",
      "100%|████████████████████████████████████████| 380/380 [02:37<00:00,  2.41it/s]\n",
      "100%|██████████████████████████████████████████| 82/82 [00:14<00:00,  5.75it/s]\n",
      "100%|████████████████████████████████████████| 380/380 [02:37<00:00,  2.41it/s]\n",
      "100%|██████████████████████████████████████████| 82/82 [00:13<00:00,  5.91it/s]\n",
      "100%|████████████████████████████████████████| 380/380 [02:41<00:00,  2.36it/s]\n",
      "100%|██████████████████████████████████████████| 82/82 [00:13<00:00,  5.94it/s]\n"
     ]
    },
    {
     "data": {
      "text/html": [
       "Waiting for W&B process to finish... <strong style=\"color:green\">(success).</strong>"
      ],
      "text/plain": [
       "<IPython.core.display.HTML object>"
      ]
     },
     "metadata": {},
     "output_type": "display_data"
    },
    {
     "data": {
      "text/html": [
       "<style>\n",
       "    table.wandb td:nth-child(1) { padding: 0 10px; text-align: left ; width: auto;} td:nth-child(2) {text-align: left ; width: 100%}\n",
       "    .wandb-row { display: flex; flex-direction: row; flex-wrap: wrap; justify-content: flex-start; width: 100% }\n",
       "    .wandb-col { display: flex; flex-direction: column; flex-basis: 100%; flex: 1; padding: 10px; }\n",
       "    </style>\n",
       "<div class=\"wandb-row\"><div class=\"wandb-col\"><h3>Run history:</h3><br/><table class=\"wandb\"><tr><td>accuracy</td><td>▁▁▁▁▁▁▁▁▁▁▁▁▁▁▁▁▁▁▁▁</td></tr><tr><td>balanced_accuracy</td><td>▁▁▁▁▁▁▁▁▁▁▁▁▁▁▁▁▁▁▁▁</td></tr><tr><td>f1_weighted</td><td>▁▁▁▁▁▁▁▁▁▁▁▁▁▁▁▁▁▁▁▁</td></tr><tr><td>precision</td><td>▁▁▁▁▁▁▁▁▁▁▁▁▁▁▁▁▁▁▁▁</td></tr><tr><td>recall</td><td>▁▁▁▁▁▁▁▁▁▁▁▁▁▁▁▁▁▁▁▁</td></tr></table><br/></div><div class=\"wandb-col\"><h3>Run summary:</h3><br/><table class=\"wandb\"><tr><td>accuracy</td><td>0.31731</td></tr><tr><td>balanced_accuracy</td><td>0.16667</td></tr><tr><td>f1_weighted</td><td>0.15286</td></tr><tr><td>precision</td><td>0.10068</td></tr><tr><td>recall</td><td>0.31731</td></tr></table><br/></div></div>"
      ],
      "text/plain": [
       "<IPython.core.display.HTML object>"
      ]
     },
     "metadata": {},
     "output_type": "display_data"
    },
    {
     "data": {
      "text/html": [
       " View run <strong style=\"color:#cdcd00\">4_cnn_mfcc_6_grey_81k_lr-0.01_convf1-64_convf2-32_convker-5_dr-0.0</strong> at: <a href='https://wandb.ai/totikos/model_cnn_mfcc_6_grey_81k-hpo/runs/bhvgqjox' target=\"_blank\">https://wandb.ai/totikos/model_cnn_mfcc_6_grey_81k-hpo/runs/bhvgqjox</a><br/> View job at <a href='https://wandb.ai/totikos/model_cnn_mfcc_6_grey_81k-hpo/jobs/QXJ0aWZhY3RDb2xsZWN0aW9uOjEyNzk0NTQwMw==/version_details/v0' target=\"_blank\">https://wandb.ai/totikos/model_cnn_mfcc_6_grey_81k-hpo/jobs/QXJ0aWZhY3RDb2xsZWN0aW9uOjEyNzk0NTQwMw==/version_details/v0</a><br/>Synced 5 W&B file(s), 0 media file(s), 0 artifact file(s) and 0 other file(s)"
      ],
      "text/plain": [
       "<IPython.core.display.HTML object>"
      ]
     },
     "metadata": {},
     "output_type": "display_data"
    },
    {
     "data": {
      "text/html": [
       "Find logs at: <code>C:\\Users\\nekta\\OneDrive\\Desktop\\botanic-emotion-recognition\\logs\\wandb\\run-20240106_203209-bhvgqjox\\logs</code>"
      ],
      "text/plain": [
       "<IPython.core.display.HTML object>"
      ]
     },
     "metadata": {},
     "output_type": "display_data"
    },
    {
     "name": "stderr",
     "output_type": "stream",
     "text": [
      "[I 2024-01-06 21:34:38,881] Trial 4 finished with value: 0.16666666666666666 and parameters: {'conv_kernel_size': 5, 'dropout_rate': 0.0, 'out_channels_l1': 64, 'out_channels_l2': 32, 'lr': 0.01}. Best is trial 0 with value: 0.37873863016739945.\n"
     ]
    },
    {
     "name": "stdout",
     "output_type": "stream",
     "text": [
      "{'out_channels_l1': 32, 'out_channels_l2': 64, 'conv_kernel_size': 5, 'dropout_rate': 0.2}\n"
     ]
    },
    {
     "data": {
      "text/html": [
       "wandb version 0.16.1 is available!  To upgrade, please run:\n",
       " $ pip install wandb --upgrade"
      ],
      "text/plain": [
       "<IPython.core.display.HTML object>"
      ]
     },
     "metadata": {},
     "output_type": "display_data"
    },
    {
     "data": {
      "text/html": [
       "Tracking run with wandb version 0.15.12"
      ],
      "text/plain": [
       "<IPython.core.display.HTML object>"
      ]
     },
     "metadata": {},
     "output_type": "display_data"
    },
    {
     "data": {
      "text/html": [
       "Run data is saved locally in <code>C:\\Users\\nekta\\OneDrive\\Desktop\\botanic-emotion-recognition\\logs\\wandb\\run-20240106_213438-oaahoj4t</code>"
      ],
      "text/plain": [
       "<IPython.core.display.HTML object>"
      ]
     },
     "metadata": {},
     "output_type": "display_data"
    },
    {
     "data": {
      "text/html": [
       "Syncing run <strong><a href='https://wandb.ai/totikos/model_cnn_mfcc_6_grey_81k-hpo/runs/oaahoj4t' target=\"_blank\">5_cnn_mfcc_6_grey_81k_lr-0.01_convf1-32_convf2-64_convker-5_dr-0.2</a></strong> to <a href='https://wandb.ai/totikos/model_cnn_mfcc_6_grey_81k-hpo' target=\"_blank\">Weights & Biases</a> (<a href='https://wandb.me/run' target=\"_blank\">docs</a>)<br/>"
      ],
      "text/plain": [
       "<IPython.core.display.HTML object>"
      ]
     },
     "metadata": {},
     "output_type": "display_data"
    },
    {
     "data": {
      "text/html": [
       " View project at <a href='https://wandb.ai/totikos/model_cnn_mfcc_6_grey_81k-hpo' target=\"_blank\">https://wandb.ai/totikos/model_cnn_mfcc_6_grey_81k-hpo</a>"
      ],
      "text/plain": [
       "<IPython.core.display.HTML object>"
      ]
     },
     "metadata": {},
     "output_type": "display_data"
    },
    {
     "data": {
      "text/html": [
       " View run at <a href='https://wandb.ai/totikos/model_cnn_mfcc_6_grey_81k-hpo/runs/oaahoj4t' target=\"_blank\">https://wandb.ai/totikos/model_cnn_mfcc_6_grey_81k-hpo/runs/oaahoj4t</a>"
      ],
      "text/plain": [
       "<IPython.core.display.HTML object>"
      ]
     },
     "metadata": {},
     "output_type": "display_data"
    },
    {
     "name": "stderr",
     "output_type": "stream",
     "text": [
      "100%|████████████████████████████████████████| 380/380 [02:01<00:00,  3.13it/s]\n",
      "100%|██████████████████████████████████████████| 82/82 [00:10<00:00,  7.88it/s]\n",
      "[I 2024-01-06 21:36:51,936] Trial 5 pruned. \n"
     ]
    },
    {
     "name": "stdout",
     "output_type": "stream",
     "text": [
      "{'out_channels_l1': 32, 'out_channels_l2': 32, 'conv_kernel_size': 3, 'dropout_rate': 0.1}\n"
     ]
    },
    {
     "data": {
      "text/html": [
       "Finishing last run (ID:oaahoj4t) before initializing another..."
      ],
      "text/plain": [
       "<IPython.core.display.HTML object>"
      ]
     },
     "metadata": {},
     "output_type": "display_data"
    },
    {
     "data": {
      "text/html": [
       "Waiting for W&B process to finish... <strong style=\"color:green\">(success).</strong>"
      ],
      "text/plain": [
       "<IPython.core.display.HTML object>"
      ]
     },
     "metadata": {},
     "output_type": "display_data"
    },
    {
     "data": {
      "text/html": [
       " View run <strong style=\"color:#cdcd00\">5_cnn_mfcc_6_grey_81k_lr-0.01_convf1-32_convf2-64_convker-5_dr-0.2</strong> at: <a href='https://wandb.ai/totikos/model_cnn_mfcc_6_grey_81k-hpo/runs/oaahoj4t' target=\"_blank\">https://wandb.ai/totikos/model_cnn_mfcc_6_grey_81k-hpo/runs/oaahoj4t</a><br/> View job at <a href='https://wandb.ai/totikos/model_cnn_mfcc_6_grey_81k-hpo/jobs/QXJ0aWZhY3RDb2xsZWN0aW9uOjEyNzk0NTQwMw==/version_details/v1' target=\"_blank\">https://wandb.ai/totikos/model_cnn_mfcc_6_grey_81k-hpo/jobs/QXJ0aWZhY3RDb2xsZWN0aW9uOjEyNzk0NTQwMw==/version_details/v1</a><br/>Synced 5 W&B file(s), 0 media file(s), 2 artifact file(s) and 0 other file(s)"
      ],
      "text/plain": [
       "<IPython.core.display.HTML object>"
      ]
     },
     "metadata": {},
     "output_type": "display_data"
    },
    {
     "data": {
      "text/html": [
       "Find logs at: <code>C:\\Users\\nekta\\OneDrive\\Desktop\\botanic-emotion-recognition\\logs\\wandb\\run-20240106_213438-oaahoj4t\\logs</code>"
      ],
      "text/plain": [
       "<IPython.core.display.HTML object>"
      ]
     },
     "metadata": {},
     "output_type": "display_data"
    },
    {
     "data": {
      "text/html": [
       "Successfully finished last run (ID:oaahoj4t). Initializing new run:<br/>"
      ],
      "text/plain": [
       "<IPython.core.display.HTML object>"
      ]
     },
     "metadata": {},
     "output_type": "display_data"
    },
    {
     "data": {
      "text/html": [
       "wandb version 0.16.1 is available!  To upgrade, please run:\n",
       " $ pip install wandb --upgrade"
      ],
      "text/plain": [
       "<IPython.core.display.HTML object>"
      ]
     },
     "metadata": {},
     "output_type": "display_data"
    },
    {
     "data": {
      "text/html": [
       "Tracking run with wandb version 0.15.12"
      ],
      "text/plain": [
       "<IPython.core.display.HTML object>"
      ]
     },
     "metadata": {},
     "output_type": "display_data"
    },
    {
     "data": {
      "text/html": [
       "Run data is saved locally in <code>C:\\Users\\nekta\\OneDrive\\Desktop\\botanic-emotion-recognition\\logs\\wandb\\run-20240106_213652-c7y0oiyf</code>"
      ],
      "text/plain": [
       "<IPython.core.display.HTML object>"
      ]
     },
     "metadata": {},
     "output_type": "display_data"
    },
    {
     "data": {
      "text/html": [
       "Syncing run <strong><a href='https://wandb.ai/totikos/model_cnn_mfcc_6_grey_81k-hpo/runs/c7y0oiyf' target=\"_blank\">6_cnn_mfcc_6_grey_81k_lr-0.01_convf1-32_convf2-32_convker-3_dr-0.1</a></strong> to <a href='https://wandb.ai/totikos/model_cnn_mfcc_6_grey_81k-hpo' target=\"_blank\">Weights & Biases</a> (<a href='https://wandb.me/run' target=\"_blank\">docs</a>)<br/>"
      ],
      "text/plain": [
       "<IPython.core.display.HTML object>"
      ]
     },
     "metadata": {},
     "output_type": "display_data"
    },
    {
     "data": {
      "text/html": [
       " View project at <a href='https://wandb.ai/totikos/model_cnn_mfcc_6_grey_81k-hpo' target=\"_blank\">https://wandb.ai/totikos/model_cnn_mfcc_6_grey_81k-hpo</a>"
      ],
      "text/plain": [
       "<IPython.core.display.HTML object>"
      ]
     },
     "metadata": {},
     "output_type": "display_data"
    },
    {
     "data": {
      "text/html": [
       " View run at <a href='https://wandb.ai/totikos/model_cnn_mfcc_6_grey_81k-hpo/runs/c7y0oiyf' target=\"_blank\">https://wandb.ai/totikos/model_cnn_mfcc_6_grey_81k-hpo/runs/c7y0oiyf</a>"
      ],
      "text/plain": [
       "<IPython.core.display.HTML object>"
      ]
     },
     "metadata": {},
     "output_type": "display_data"
    },
    {
     "name": "stderr",
     "output_type": "stream",
     "text": [
      "100%|████████████████████████████████████████| 380/380 [01:32<00:00,  4.10it/s]\n",
      "100%|██████████████████████████████████████████| 82/82 [00:08<00:00,  9.55it/s]\n",
      "[I 2024-01-06 21:38:40,696] Trial 6 pruned. \n"
     ]
    },
    {
     "name": "stdout",
     "output_type": "stream",
     "text": [
      "{'out_channels_l1': 64, 'out_channels_l2': 64, 'conv_kernel_size': 5, 'dropout_rate': 0.0}\n"
     ]
    },
    {
     "data": {
      "text/html": [
       "Finishing last run (ID:c7y0oiyf) before initializing another..."
      ],
      "text/plain": [
       "<IPython.core.display.HTML object>"
      ]
     },
     "metadata": {},
     "output_type": "display_data"
    },
    {
     "data": {
      "text/html": [
       "Waiting for W&B process to finish... <strong style=\"color:green\">(success).</strong>"
      ],
      "text/plain": [
       "<IPython.core.display.HTML object>"
      ]
     },
     "metadata": {},
     "output_type": "display_data"
    },
    {
     "data": {
      "text/html": [
       " View run <strong style=\"color:#cdcd00\">6_cnn_mfcc_6_grey_81k_lr-0.01_convf1-32_convf2-32_convker-3_dr-0.1</strong> at: <a href='https://wandb.ai/totikos/model_cnn_mfcc_6_grey_81k-hpo/runs/c7y0oiyf' target=\"_blank\">https://wandb.ai/totikos/model_cnn_mfcc_6_grey_81k-hpo/runs/c7y0oiyf</a><br/> View job at <a href='https://wandb.ai/totikos/model_cnn_mfcc_6_grey_81k-hpo/jobs/QXJ0aWZhY3RDb2xsZWN0aW9uOjEyNzk0NTQwMw==/version_details/v1' target=\"_blank\">https://wandb.ai/totikos/model_cnn_mfcc_6_grey_81k-hpo/jobs/QXJ0aWZhY3RDb2xsZWN0aW9uOjEyNzk0NTQwMw==/version_details/v1</a><br/>Synced 5 W&B file(s), 0 media file(s), 0 artifact file(s) and 0 other file(s)"
      ],
      "text/plain": [
       "<IPython.core.display.HTML object>"
      ]
     },
     "metadata": {},
     "output_type": "display_data"
    },
    {
     "data": {
      "text/html": [
       "Find logs at: <code>C:\\Users\\nekta\\OneDrive\\Desktop\\botanic-emotion-recognition\\logs\\wandb\\run-20240106_213652-c7y0oiyf\\logs</code>"
      ],
      "text/plain": [
       "<IPython.core.display.HTML object>"
      ]
     },
     "metadata": {},
     "output_type": "display_data"
    },
    {
     "data": {
      "text/html": [
       "Successfully finished last run (ID:c7y0oiyf). Initializing new run:<br/>"
      ],
      "text/plain": [
       "<IPython.core.display.HTML object>"
      ]
     },
     "metadata": {},
     "output_type": "display_data"
    },
    {
     "data": {
      "text/html": [
       "wandb version 0.16.1 is available!  To upgrade, please run:\n",
       " $ pip install wandb --upgrade"
      ],
      "text/plain": [
       "<IPython.core.display.HTML object>"
      ]
     },
     "metadata": {},
     "output_type": "display_data"
    },
    {
     "data": {
      "text/html": [
       "Tracking run with wandb version 0.15.12"
      ],
      "text/plain": [
       "<IPython.core.display.HTML object>"
      ]
     },
     "metadata": {},
     "output_type": "display_data"
    },
    {
     "data": {
      "text/html": [
       "Run data is saved locally in <code>C:\\Users\\nekta\\OneDrive\\Desktop\\botanic-emotion-recognition\\logs\\wandb\\run-20240106_213840-b3xdglrz</code>"
      ],
      "text/plain": [
       "<IPython.core.display.HTML object>"
      ]
     },
     "metadata": {},
     "output_type": "display_data"
    },
    {
     "data": {
      "text/html": [
       "Syncing run <strong><a href='https://wandb.ai/totikos/model_cnn_mfcc_6_grey_81k-hpo/runs/b3xdglrz' target=\"_blank\">7_cnn_mfcc_6_grey_81k_lr-0.01_convf1-64_convf2-64_convker-5_dr-0.0</a></strong> to <a href='https://wandb.ai/totikos/model_cnn_mfcc_6_grey_81k-hpo' target=\"_blank\">Weights & Biases</a> (<a href='https://wandb.me/run' target=\"_blank\">docs</a>)<br/>"
      ],
      "text/plain": [
       "<IPython.core.display.HTML object>"
      ]
     },
     "metadata": {},
     "output_type": "display_data"
    },
    {
     "data": {
      "text/html": [
       " View project at <a href='https://wandb.ai/totikos/model_cnn_mfcc_6_grey_81k-hpo' target=\"_blank\">https://wandb.ai/totikos/model_cnn_mfcc_6_grey_81k-hpo</a>"
      ],
      "text/plain": [
       "<IPython.core.display.HTML object>"
      ]
     },
     "metadata": {},
     "output_type": "display_data"
    },
    {
     "data": {
      "text/html": [
       " View run at <a href='https://wandb.ai/totikos/model_cnn_mfcc_6_grey_81k-hpo/runs/b3xdglrz' target=\"_blank\">https://wandb.ai/totikos/model_cnn_mfcc_6_grey_81k-hpo/runs/b3xdglrz</a>"
      ],
      "text/plain": [
       "<IPython.core.display.HTML object>"
      ]
     },
     "metadata": {},
     "output_type": "display_data"
    },
    {
     "name": "stderr",
     "output_type": "stream",
     "text": [
      "100%|████████████████████████████████████████| 380/380 [04:00<00:00,  1.58it/s]\n",
      "100%|██████████████████████████████████████████| 82/82 [00:20<00:00,  4.07it/s]\n",
      "[I 2024-01-06 21:43:08,106] Trial 7 pruned. \n"
     ]
    },
    {
     "name": "stdout",
     "output_type": "stream",
     "text": [
      "{'out_channels_l1': 32, 'out_channels_l2': 64, 'conv_kernel_size': 5, 'dropout_rate': 0.1}\n"
     ]
    },
    {
     "data": {
      "text/html": [
       "Finishing last run (ID:b3xdglrz) before initializing another..."
      ],
      "text/plain": [
       "<IPython.core.display.HTML object>"
      ]
     },
     "metadata": {},
     "output_type": "display_data"
    },
    {
     "data": {
      "text/html": [
       "Waiting for W&B process to finish... <strong style=\"color:green\">(success).</strong>"
      ],
      "text/plain": [
       "<IPython.core.display.HTML object>"
      ]
     },
     "metadata": {},
     "output_type": "display_data"
    },
    {
     "data": {
      "text/html": [
       " View run <strong style=\"color:#cdcd00\">7_cnn_mfcc_6_grey_81k_lr-0.01_convf1-64_convf2-64_convker-5_dr-0.0</strong> at: <a href='https://wandb.ai/totikos/model_cnn_mfcc_6_grey_81k-hpo/runs/b3xdglrz' target=\"_blank\">https://wandb.ai/totikos/model_cnn_mfcc_6_grey_81k-hpo/runs/b3xdglrz</a><br/> View job at <a href='https://wandb.ai/totikos/model_cnn_mfcc_6_grey_81k-hpo/jobs/QXJ0aWZhY3RDb2xsZWN0aW9uOjEyNzk0NTQwMw==/version_details/v1' target=\"_blank\">https://wandb.ai/totikos/model_cnn_mfcc_6_grey_81k-hpo/jobs/QXJ0aWZhY3RDb2xsZWN0aW9uOjEyNzk0NTQwMw==/version_details/v1</a><br/>Synced 5 W&B file(s), 0 media file(s), 0 artifact file(s) and 0 other file(s)"
      ],
      "text/plain": [
       "<IPython.core.display.HTML object>"
      ]
     },
     "metadata": {},
     "output_type": "display_data"
    },
    {
     "data": {
      "text/html": [
       "Find logs at: <code>C:\\Users\\nekta\\OneDrive\\Desktop\\botanic-emotion-recognition\\logs\\wandb\\run-20240106_213840-b3xdglrz\\logs</code>"
      ],
      "text/plain": [
       "<IPython.core.display.HTML object>"
      ]
     },
     "metadata": {},
     "output_type": "display_data"
    },
    {
     "data": {
      "text/html": [
       "Successfully finished last run (ID:b3xdglrz). Initializing new run:<br/>"
      ],
      "text/plain": [
       "<IPython.core.display.HTML object>"
      ]
     },
     "metadata": {},
     "output_type": "display_data"
    },
    {
     "data": {
      "text/html": [
       "wandb version 0.16.1 is available!  To upgrade, please run:\n",
       " $ pip install wandb --upgrade"
      ],
      "text/plain": [
       "<IPython.core.display.HTML object>"
      ]
     },
     "metadata": {},
     "output_type": "display_data"
    },
    {
     "data": {
      "text/html": [
       "Tracking run with wandb version 0.15.12"
      ],
      "text/plain": [
       "<IPython.core.display.HTML object>"
      ]
     },
     "metadata": {},
     "output_type": "display_data"
    },
    {
     "data": {
      "text/html": [
       "Run data is saved locally in <code>C:\\Users\\nekta\\OneDrive\\Desktop\\botanic-emotion-recognition\\logs\\wandb\\run-20240106_214308-qiujiwjb</code>"
      ],
      "text/plain": [
       "<IPython.core.display.HTML object>"
      ]
     },
     "metadata": {},
     "output_type": "display_data"
    },
    {
     "data": {
      "text/html": [
       "Syncing run <strong><a href='https://wandb.ai/totikos/model_cnn_mfcc_6_grey_81k-hpo/runs/qiujiwjb' target=\"_blank\">8_cnn_mfcc_6_grey_81k_lr-0.001_convf1-32_convf2-64_convker-5_dr-0.1</a></strong> to <a href='https://wandb.ai/totikos/model_cnn_mfcc_6_grey_81k-hpo' target=\"_blank\">Weights & Biases</a> (<a href='https://wandb.me/run' target=\"_blank\">docs</a>)<br/>"
      ],
      "text/plain": [
       "<IPython.core.display.HTML object>"
      ]
     },
     "metadata": {},
     "output_type": "display_data"
    },
    {
     "data": {
      "text/html": [
       " View project at <a href='https://wandb.ai/totikos/model_cnn_mfcc_6_grey_81k-hpo' target=\"_blank\">https://wandb.ai/totikos/model_cnn_mfcc_6_grey_81k-hpo</a>"
      ],
      "text/plain": [
       "<IPython.core.display.HTML object>"
      ]
     },
     "metadata": {},
     "output_type": "display_data"
    },
    {
     "data": {
      "text/html": [
       " View run at <a href='https://wandb.ai/totikos/model_cnn_mfcc_6_grey_81k-hpo/runs/qiujiwjb' target=\"_blank\">https://wandb.ai/totikos/model_cnn_mfcc_6_grey_81k-hpo/runs/qiujiwjb</a>"
      ],
      "text/plain": [
       "<IPython.core.display.HTML object>"
      ]
     },
     "metadata": {},
     "output_type": "display_data"
    },
    {
     "name": "stderr",
     "output_type": "stream",
     "text": [
      "100%|████████████████████████████████████████| 380/380 [02:25<00:00,  2.61it/s]\n",
      "100%|██████████████████████████████████████████| 82/82 [00:11<00:00,  6.93it/s]\n",
      "100%|████████████████████████████████████████| 380/380 [02:28<00:00,  2.56it/s]\n",
      "100%|██████████████████████████████████████████| 82/82 [00:11<00:00,  6.94it/s]\n",
      "100%|████████████████████████████████████████| 380/380 [02:34<00:00,  2.45it/s]\n",
      "100%|██████████████████████████████████████████| 82/82 [00:11<00:00,  7.22it/s]\n",
      "100%|████████████████████████████████████████| 380/380 [02:14<00:00,  2.83it/s]\n",
      "100%|██████████████████████████████████████████| 82/82 [00:10<00:00,  7.83it/s]\n",
      "100%|████████████████████████████████████████| 380/380 [02:13<00:00,  2.86it/s]\n",
      "100%|██████████████████████████████████████████| 82/82 [00:10<00:00,  8.02it/s]\n",
      "100%|████████████████████████████████████████| 380/380 [02:12<00:00,  2.87it/s]\n",
      "100%|██████████████████████████████████████████| 82/82 [00:10<00:00,  8.00it/s]\n",
      "100%|████████████████████████████████████████| 380/380 [02:13<00:00,  2.84it/s]\n",
      "100%|██████████████████████████████████████████| 82/82 [00:10<00:00,  8.00it/s]\n",
      "100%|████████████████████████████████████████| 380/380 [02:13<00:00,  2.84it/s]\n",
      "100%|██████████████████████████████████████████| 82/82 [00:10<00:00,  7.95it/s]\n",
      "100%|████████████████████████████████████████| 380/380 [02:12<00:00,  2.86it/s]\n",
      "100%|██████████████████████████████████████████| 82/82 [00:10<00:00,  7.86it/s]\n",
      "100%|████████████████████████████████████████| 380/380 [02:12<00:00,  2.86it/s]\n",
      "100%|██████████████████████████████████████████| 82/82 [00:10<00:00,  7.83it/s]\n",
      "100%|████████████████████████████████████████| 380/380 [02:13<00:00,  2.86it/s]\n",
      "100%|██████████████████████████████████████████| 82/82 [00:10<00:00,  7.94it/s]\n",
      "100%|████████████████████████████████████████| 380/380 [02:12<00:00,  2.88it/s]\n",
      "100%|██████████████████████████████████████████| 82/82 [00:10<00:00,  7.85it/s]\n",
      "100%|████████████████████████████████████████| 380/380 [02:12<00:00,  2.86it/s]\n",
      "100%|██████████████████████████████████████████| 82/82 [00:10<00:00,  7.92it/s]\n",
      "100%|████████████████████████████████████████| 380/380 [02:12<00:00,  2.88it/s]\n",
      "100%|██████████████████████████████████████████| 82/82 [00:10<00:00,  7.88it/s]\n",
      "100%|████████████████████████████████████████| 380/380 [02:12<00:00,  2.87it/s]\n",
      "100%|██████████████████████████████████████████| 82/82 [00:10<00:00,  7.95it/s]\n",
      "100%|████████████████████████████████████████| 380/380 [02:12<00:00,  2.87it/s]\n",
      "100%|██████████████████████████████████████████| 82/82 [00:10<00:00,  7.91it/s]\n",
      "100%|████████████████████████████████████████| 380/380 [02:13<00:00,  2.84it/s]\n",
      "100%|██████████████████████████████████████████| 82/82 [00:10<00:00,  7.88it/s]\n",
      "100%|████████████████████████████████████████| 380/380 [02:12<00:00,  2.88it/s]\n",
      "100%|██████████████████████████████████████████| 82/82 [00:10<00:00,  7.94it/s]\n",
      "100%|████████████████████████████████████████| 380/380 [02:12<00:00,  2.87it/s]\n",
      "100%|██████████████████████████████████████████| 82/82 [00:10<00:00,  7.88it/s]\n",
      "100%|████████████████████████████████████████| 380/380 [02:42<00:00,  2.34it/s]\n",
      "100%|██████████████████████████████████████████| 82/82 [00:11<00:00,  6.87it/s]\n"
     ]
    },
    {
     "data": {
      "text/html": [
       "Waiting for W&B process to finish... <strong style=\"color:green\">(success).</strong>"
      ],
      "text/plain": [
       "<IPython.core.display.HTML object>"
      ]
     },
     "metadata": {},
     "output_type": "display_data"
    },
    {
     "data": {
      "text/html": [
       "<style>\n",
       "    table.wandb td:nth-child(1) { padding: 0 10px; text-align: left ; width: auto;} td:nth-child(2) {text-align: left ; width: 100%}\n",
       "    .wandb-row { display: flex; flex-direction: row; flex-wrap: wrap; justify-content: flex-start; width: 100% }\n",
       "    .wandb-col { display: flex; flex-direction: column; flex-basis: 100%; flex: 1; padding: 10px; }\n",
       "    </style>\n",
       "<div class=\"wandb-row\"><div class=\"wandb-col\"><h3>Run history:</h3><br/><table class=\"wandb\"><tr><td>accuracy</td><td>▁▆▇▇▇███▇█▇▆▆▇▇▆▆▆▅▅</td></tr><tr><td>balanced_accuracy</td><td>▁▇▇▇▇█████▇▆▆▆▆▆▆▅▅▅</td></tr><tr><td>f1_weighted</td><td>▁▇▇▇▇███▇█▇▇▇▇▇▇▇▆▆▆</td></tr><tr><td>precision</td><td>▁▄▅▆▆▇██▆█▆▅▆▅▅▄▅▃▁▃</td></tr><tr><td>recall</td><td>▁▆▇▇▇███▇█▇▆▆▇▇▆▆▆▅▅</td></tr></table><br/></div><div class=\"wandb-col\"><h3>Run summary:</h3><br/><table class=\"wandb\"><tr><td>accuracy</td><td>0.50577</td></tr><tr><td>balanced_accuracy</td><td>0.35281</td></tr><tr><td>f1_weighted</td><td>0.50063</td></tr><tr><td>precision</td><td>0.49997</td></tr><tr><td>recall</td><td>0.50577</td></tr></table><br/></div></div>"
      ],
      "text/plain": [
       "<IPython.core.display.HTML object>"
      ]
     },
     "metadata": {},
     "output_type": "display_data"
    },
    {
     "data": {
      "text/html": [
       " View run <strong style=\"color:#cdcd00\">8_cnn_mfcc_6_grey_81k_lr-0.001_convf1-32_convf2-64_convker-5_dr-0.1</strong> at: <a href='https://wandb.ai/totikos/model_cnn_mfcc_6_grey_81k-hpo/runs/qiujiwjb' target=\"_blank\">https://wandb.ai/totikos/model_cnn_mfcc_6_grey_81k-hpo/runs/qiujiwjb</a><br/> View job at <a href='https://wandb.ai/totikos/model_cnn_mfcc_6_grey_81k-hpo/jobs/QXJ0aWZhY3RDb2xsZWN0aW9uOjEyNzk0NTQwMw==/version_details/v2' target=\"_blank\">https://wandb.ai/totikos/model_cnn_mfcc_6_grey_81k-hpo/jobs/QXJ0aWZhY3RDb2xsZWN0aW9uOjEyNzk0NTQwMw==/version_details/v2</a><br/>Synced 5 W&B file(s), 0 media file(s), 0 artifact file(s) and 0 other file(s)"
      ],
      "text/plain": [
       "<IPython.core.display.HTML object>"
      ]
     },
     "metadata": {},
     "output_type": "display_data"
    },
    {
     "data": {
      "text/html": [
       "Find logs at: <code>C:\\Users\\nekta\\OneDrive\\Desktop\\botanic-emotion-recognition\\logs\\wandb\\run-20240106_214308-qiujiwjb\\logs</code>"
      ],
      "text/plain": [
       "<IPython.core.display.HTML object>"
      ]
     },
     "metadata": {},
     "output_type": "display_data"
    },
    {
     "name": "stderr",
     "output_type": "stream",
     "text": [
      "[I 2024-01-06 22:32:31,815] Trial 8 finished with value: 0.35280862958420806 and parameters: {'conv_kernel_size': 5, 'dropout_rate': 0.1, 'out_channels_l1': 32, 'out_channels_l2': 64, 'lr': 0.001}. Best is trial 0 with value: 0.37873863016739945.\n"
     ]
    },
    {
     "name": "stdout",
     "output_type": "stream",
     "text": [
      "{'out_channels_l1': 16, 'out_channels_l2': 32, 'conv_kernel_size': 3, 'dropout_rate': 0.1}\n"
     ]
    },
    {
     "data": {
      "text/html": [
       "wandb version 0.16.1 is available!  To upgrade, please run:\n",
       " $ pip install wandb --upgrade"
      ],
      "text/plain": [
       "<IPython.core.display.HTML object>"
      ]
     },
     "metadata": {},
     "output_type": "display_data"
    },
    {
     "data": {
      "text/html": [
       "Tracking run with wandb version 0.15.12"
      ],
      "text/plain": [
       "<IPython.core.display.HTML object>"
      ]
     },
     "metadata": {},
     "output_type": "display_data"
    },
    {
     "data": {
      "text/html": [
       "Run data is saved locally in <code>C:\\Users\\nekta\\OneDrive\\Desktop\\botanic-emotion-recognition\\logs\\wandb\\run-20240106_223231-margppqh</code>"
      ],
      "text/plain": [
       "<IPython.core.display.HTML object>"
      ]
     },
     "metadata": {},
     "output_type": "display_data"
    },
    {
     "data": {
      "text/html": [
       "Syncing run <strong><a href='https://wandb.ai/totikos/model_cnn_mfcc_6_grey_81k-hpo/runs/margppqh' target=\"_blank\">9_cnn_mfcc_6_grey_81k_lr-0.0001_convf1-16_convf2-32_convker-3_dr-0.1</a></strong> to <a href='https://wandb.ai/totikos/model_cnn_mfcc_6_grey_81k-hpo' target=\"_blank\">Weights & Biases</a> (<a href='https://wandb.me/run' target=\"_blank\">docs</a>)<br/>"
      ],
      "text/plain": [
       "<IPython.core.display.HTML object>"
      ]
     },
     "metadata": {},
     "output_type": "display_data"
    },
    {
     "data": {
      "text/html": [
       " View project at <a href='https://wandb.ai/totikos/model_cnn_mfcc_6_grey_81k-hpo' target=\"_blank\">https://wandb.ai/totikos/model_cnn_mfcc_6_grey_81k-hpo</a>"
      ],
      "text/plain": [
       "<IPython.core.display.HTML object>"
      ]
     },
     "metadata": {},
     "output_type": "display_data"
    },
    {
     "data": {
      "text/html": [
       " View run at <a href='https://wandb.ai/totikos/model_cnn_mfcc_6_grey_81k-hpo/runs/margppqh' target=\"_blank\">https://wandb.ai/totikos/model_cnn_mfcc_6_grey_81k-hpo/runs/margppqh</a>"
      ],
      "text/plain": [
       "<IPython.core.display.HTML object>"
      ]
     },
     "metadata": {},
     "output_type": "display_data"
    },
    {
     "name": "stderr",
     "output_type": "stream",
     "text": [
      "100%|████████████████████████████████████████| 380/380 [01:09<00:00,  5.50it/s]\n",
      "100%|██████████████████████████████████████████| 82/82 [00:05<00:00, 15.62it/s]\n",
      "[I 2024-01-06 22:33:47,644] Trial 9 pruned. \n"
     ]
    },
    {
     "name": "stdout",
     "output_type": "stream",
     "text": [
      "{'out_channels_l1': 16, 'out_channels_l2': 64, 'conv_kernel_size': 5, 'dropout_rate': 0.1}\n"
     ]
    },
    {
     "data": {
      "text/html": [
       "Finishing last run (ID:margppqh) before initializing another..."
      ],
      "text/plain": [
       "<IPython.core.display.HTML object>"
      ]
     },
     "metadata": {},
     "output_type": "display_data"
    },
    {
     "data": {
      "text/html": [
       "Waiting for W&B process to finish... <strong style=\"color:green\">(success).</strong>"
      ],
      "text/plain": [
       "<IPython.core.display.HTML object>"
      ]
     },
     "metadata": {},
     "output_type": "display_data"
    },
    {
     "data": {
      "text/html": [
       " View run <strong style=\"color:#cdcd00\">9_cnn_mfcc_6_grey_81k_lr-0.0001_convf1-16_convf2-32_convker-3_dr-0.1</strong> at: <a href='https://wandb.ai/totikos/model_cnn_mfcc_6_grey_81k-hpo/runs/margppqh' target=\"_blank\">https://wandb.ai/totikos/model_cnn_mfcc_6_grey_81k-hpo/runs/margppqh</a><br/> View job at <a href='https://wandb.ai/totikos/model_cnn_mfcc_6_grey_81k-hpo/jobs/QXJ0aWZhY3RDb2xsZWN0aW9uOjEyNzk0NTQwMw==/version_details/v1' target=\"_blank\">https://wandb.ai/totikos/model_cnn_mfcc_6_grey_81k-hpo/jobs/QXJ0aWZhY3RDb2xsZWN0aW9uOjEyNzk0NTQwMw==/version_details/v1</a><br/>Synced 5 W&B file(s), 0 media file(s), 0 artifact file(s) and 0 other file(s)"
      ],
      "text/plain": [
       "<IPython.core.display.HTML object>"
      ]
     },
     "metadata": {},
     "output_type": "display_data"
    },
    {
     "data": {
      "text/html": [
       "Find logs at: <code>C:\\Users\\nekta\\OneDrive\\Desktop\\botanic-emotion-recognition\\logs\\wandb\\run-20240106_223231-margppqh\\logs</code>"
      ],
      "text/plain": [
       "<IPython.core.display.HTML object>"
      ]
     },
     "metadata": {},
     "output_type": "display_data"
    },
    {
     "data": {
      "text/html": [
       "Successfully finished last run (ID:margppqh). Initializing new run:<br/>"
      ],
      "text/plain": [
       "<IPython.core.display.HTML object>"
      ]
     },
     "metadata": {},
     "output_type": "display_data"
    },
    {
     "data": {
      "text/html": [
       "wandb version 0.16.1 is available!  To upgrade, please run:\n",
       " $ pip install wandb --upgrade"
      ],
      "text/plain": [
       "<IPython.core.display.HTML object>"
      ]
     },
     "metadata": {},
     "output_type": "display_data"
    },
    {
     "data": {
      "text/html": [
       "Tracking run with wandb version 0.15.12"
      ],
      "text/plain": [
       "<IPython.core.display.HTML object>"
      ]
     },
     "metadata": {},
     "output_type": "display_data"
    },
    {
     "data": {
      "text/html": [
       "Run data is saved locally in <code>C:\\Users\\nekta\\OneDrive\\Desktop\\botanic-emotion-recognition\\logs\\wandb\\run-20240106_223347-02f46shg</code>"
      ],
      "text/plain": [
       "<IPython.core.display.HTML object>"
      ]
     },
     "metadata": {},
     "output_type": "display_data"
    },
    {
     "data": {
      "text/html": [
       "Syncing run <strong><a href='https://wandb.ai/totikos/model_cnn_mfcc_6_grey_81k-hpo/runs/02f46shg' target=\"_blank\">10_cnn_mfcc_6_grey_81k_lr-0.01_convf1-16_convf2-64_convker-5_dr-0.1</a></strong> to <a href='https://wandb.ai/totikos/model_cnn_mfcc_6_grey_81k-hpo' target=\"_blank\">Weights & Biases</a> (<a href='https://wandb.me/run' target=\"_blank\">docs</a>)<br/>"
      ],
      "text/plain": [
       "<IPython.core.display.HTML object>"
      ]
     },
     "metadata": {},
     "output_type": "display_data"
    },
    {
     "data": {
      "text/html": [
       " View project at <a href='https://wandb.ai/totikos/model_cnn_mfcc_6_grey_81k-hpo' target=\"_blank\">https://wandb.ai/totikos/model_cnn_mfcc_6_grey_81k-hpo</a>"
      ],
      "text/plain": [
       "<IPython.core.display.HTML object>"
      ]
     },
     "metadata": {},
     "output_type": "display_data"
    },
    {
     "data": {
      "text/html": [
       " View run at <a href='https://wandb.ai/totikos/model_cnn_mfcc_6_grey_81k-hpo/runs/02f46shg' target=\"_blank\">https://wandb.ai/totikos/model_cnn_mfcc_6_grey_81k-hpo/runs/02f46shg</a>"
      ],
      "text/plain": [
       "<IPython.core.display.HTML object>"
      ]
     },
     "metadata": {},
     "output_type": "display_data"
    },
    {
     "name": "stderr",
     "output_type": "stream",
     "text": [
      "100%|████████████████████████████████████████| 380/380 [01:37<00:00,  3.90it/s]\n",
      "100%|██████████████████████████████████████████| 82/82 [00:10<00:00,  7.90it/s]\n",
      "[I 2024-01-06 22:35:41,864] Trial 10 pruned. \n"
     ]
    },
    {
     "name": "stdout",
     "output_type": "stream",
     "text": [
      "{'out_channels_l1': 64, 'out_channels_l2': 64, 'conv_kernel_size': 5, 'dropout_rate': 0.2}\n"
     ]
    },
    {
     "data": {
      "text/html": [
       "Finishing last run (ID:02f46shg) before initializing another..."
      ],
      "text/plain": [
       "<IPython.core.display.HTML object>"
      ]
     },
     "metadata": {},
     "output_type": "display_data"
    },
    {
     "data": {
      "text/html": [
       "Waiting for W&B process to finish... <strong style=\"color:green\">(success).</strong>"
      ],
      "text/plain": [
       "<IPython.core.display.HTML object>"
      ]
     },
     "metadata": {},
     "output_type": "display_data"
    },
    {
     "data": {
      "text/html": [
       " View run <strong style=\"color:#cdcd00\">10_cnn_mfcc_6_grey_81k_lr-0.01_convf1-16_convf2-64_convker-5_dr-0.1</strong> at: <a href='https://wandb.ai/totikos/model_cnn_mfcc_6_grey_81k-hpo/runs/02f46shg' target=\"_blank\">https://wandb.ai/totikos/model_cnn_mfcc_6_grey_81k-hpo/runs/02f46shg</a><br/> View job at <a href='https://wandb.ai/totikos/model_cnn_mfcc_6_grey_81k-hpo/jobs/QXJ0aWZhY3RDb2xsZWN0aW9uOjEyNzk0NTQwMw==/version_details/v1' target=\"_blank\">https://wandb.ai/totikos/model_cnn_mfcc_6_grey_81k-hpo/jobs/QXJ0aWZhY3RDb2xsZWN0aW9uOjEyNzk0NTQwMw==/version_details/v1</a><br/>Synced 5 W&B file(s), 0 media file(s), 0 artifact file(s) and 0 other file(s)"
      ],
      "text/plain": [
       "<IPython.core.display.HTML object>"
      ]
     },
     "metadata": {},
     "output_type": "display_data"
    },
    {
     "data": {
      "text/html": [
       "Find logs at: <code>C:\\Users\\nekta\\OneDrive\\Desktop\\botanic-emotion-recognition\\logs\\wandb\\run-20240106_223347-02f46shg\\logs</code>"
      ],
      "text/plain": [
       "<IPython.core.display.HTML object>"
      ]
     },
     "metadata": {},
     "output_type": "display_data"
    },
    {
     "data": {
      "text/html": [
       "Successfully finished last run (ID:02f46shg). Initializing new run:<br/>"
      ],
      "text/plain": [
       "<IPython.core.display.HTML object>"
      ]
     },
     "metadata": {},
     "output_type": "display_data"
    },
    {
     "data": {
      "text/html": [
       "wandb version 0.16.1 is available!  To upgrade, please run:\n",
       " $ pip install wandb --upgrade"
      ],
      "text/plain": [
       "<IPython.core.display.HTML object>"
      ]
     },
     "metadata": {},
     "output_type": "display_data"
    },
    {
     "data": {
      "text/html": [
       "Tracking run with wandb version 0.15.12"
      ],
      "text/plain": [
       "<IPython.core.display.HTML object>"
      ]
     },
     "metadata": {},
     "output_type": "display_data"
    },
    {
     "data": {
      "text/html": [
       "Run data is saved locally in <code>C:\\Users\\nekta\\OneDrive\\Desktop\\botanic-emotion-recognition\\logs\\wandb\\run-20240106_223542-a6idjdpa</code>"
      ],
      "text/plain": [
       "<IPython.core.display.HTML object>"
      ]
     },
     "metadata": {},
     "output_type": "display_data"
    },
    {
     "data": {
      "text/html": [
       "Syncing run <strong><a href='https://wandb.ai/totikos/model_cnn_mfcc_6_grey_81k-hpo/runs/a6idjdpa' target=\"_blank\">11_cnn_mfcc_6_grey_81k_lr-0.0001_convf1-64_convf2-64_convker-5_dr-0.2</a></strong> to <a href='https://wandb.ai/totikos/model_cnn_mfcc_6_grey_81k-hpo' target=\"_blank\">Weights & Biases</a> (<a href='https://wandb.me/run' target=\"_blank\">docs</a>)<br/>"
      ],
      "text/plain": [
       "<IPython.core.display.HTML object>"
      ]
     },
     "metadata": {},
     "output_type": "display_data"
    },
    {
     "data": {
      "text/html": [
       " View project at <a href='https://wandb.ai/totikos/model_cnn_mfcc_6_grey_81k-hpo' target=\"_blank\">https://wandb.ai/totikos/model_cnn_mfcc_6_grey_81k-hpo</a>"
      ],
      "text/plain": [
       "<IPython.core.display.HTML object>"
      ]
     },
     "metadata": {},
     "output_type": "display_data"
    },
    {
     "data": {
      "text/html": [
       " View run at <a href='https://wandb.ai/totikos/model_cnn_mfcc_6_grey_81k-hpo/runs/a6idjdpa' target=\"_blank\">https://wandb.ai/totikos/model_cnn_mfcc_6_grey_81k-hpo/runs/a6idjdpa</a>"
      ],
      "text/plain": [
       "<IPython.core.display.HTML object>"
      ]
     },
     "metadata": {},
     "output_type": "display_data"
    },
    {
     "name": "stderr",
     "output_type": "stream",
     "text": [
      "100%|████████████████████████████████████████| 380/380 [03:58<00:00,  1.59it/s]\n",
      "100%|██████████████████████████████████████████| 82/82 [00:19<00:00,  4.14it/s]\n",
      "[I 2024-01-06 22:40:06,816] Trial 11 pruned. \n"
     ]
    },
    {
     "name": "stdout",
     "output_type": "stream",
     "text": [
      "{'out_channels_l1': 64, 'out_channels_l2': 64, 'conv_kernel_size': 5, 'dropout_rate': 0.1}\n"
     ]
    },
    {
     "data": {
      "text/html": [
       "Finishing last run (ID:a6idjdpa) before initializing another..."
      ],
      "text/plain": [
       "<IPython.core.display.HTML object>"
      ]
     },
     "metadata": {},
     "output_type": "display_data"
    },
    {
     "data": {
      "text/html": [
       "Waiting for W&B process to finish... <strong style=\"color:green\">(success).</strong>"
      ],
      "text/plain": [
       "<IPython.core.display.HTML object>"
      ]
     },
     "metadata": {},
     "output_type": "display_data"
    },
    {
     "data": {
      "text/html": [
       " View run <strong style=\"color:#cdcd00\">11_cnn_mfcc_6_grey_81k_lr-0.0001_convf1-64_convf2-64_convker-5_dr-0.2</strong> at: <a href='https://wandb.ai/totikos/model_cnn_mfcc_6_grey_81k-hpo/runs/a6idjdpa' target=\"_blank\">https://wandb.ai/totikos/model_cnn_mfcc_6_grey_81k-hpo/runs/a6idjdpa</a><br/> View job at <a href='https://wandb.ai/totikos/model_cnn_mfcc_6_grey_81k-hpo/jobs/QXJ0aWZhY3RDb2xsZWN0aW9uOjEyNzk0NTQwMw==/version_details/v1' target=\"_blank\">https://wandb.ai/totikos/model_cnn_mfcc_6_grey_81k-hpo/jobs/QXJ0aWZhY3RDb2xsZWN0aW9uOjEyNzk0NTQwMw==/version_details/v1</a><br/>Synced 5 W&B file(s), 0 media file(s), 0 artifact file(s) and 0 other file(s)"
      ],
      "text/plain": [
       "<IPython.core.display.HTML object>"
      ]
     },
     "metadata": {},
     "output_type": "display_data"
    },
    {
     "data": {
      "text/html": [
       "Find logs at: <code>C:\\Users\\nekta\\OneDrive\\Desktop\\botanic-emotion-recognition\\logs\\wandb\\run-20240106_223542-a6idjdpa\\logs</code>"
      ],
      "text/plain": [
       "<IPython.core.display.HTML object>"
      ]
     },
     "metadata": {},
     "output_type": "display_data"
    },
    {
     "data": {
      "text/html": [
       "Successfully finished last run (ID:a6idjdpa). Initializing new run:<br/>"
      ],
      "text/plain": [
       "<IPython.core.display.HTML object>"
      ]
     },
     "metadata": {},
     "output_type": "display_data"
    },
    {
     "data": {
      "text/html": [
       "wandb version 0.16.1 is available!  To upgrade, please run:\n",
       " $ pip install wandb --upgrade"
      ],
      "text/plain": [
       "<IPython.core.display.HTML object>"
      ]
     },
     "metadata": {},
     "output_type": "display_data"
    },
    {
     "data": {
      "text/html": [
       "Tracking run with wandb version 0.15.12"
      ],
      "text/plain": [
       "<IPython.core.display.HTML object>"
      ]
     },
     "metadata": {},
     "output_type": "display_data"
    },
    {
     "data": {
      "text/html": [
       "Run data is saved locally in <code>C:\\Users\\nekta\\OneDrive\\Desktop\\botanic-emotion-recognition\\logs\\wandb\\run-20240106_224006-mcxkvndj</code>"
      ],
      "text/plain": [
       "<IPython.core.display.HTML object>"
      ]
     },
     "metadata": {},
     "output_type": "display_data"
    },
    {
     "data": {
      "text/html": [
       "Syncing run <strong><a href='https://wandb.ai/totikos/model_cnn_mfcc_6_grey_81k-hpo/runs/mcxkvndj' target=\"_blank\">12_cnn_mfcc_6_grey_81k_lr-0.0001_convf1-64_convf2-64_convker-5_dr-0.1</a></strong> to <a href='https://wandb.ai/totikos/model_cnn_mfcc_6_grey_81k-hpo' target=\"_blank\">Weights & Biases</a> (<a href='https://wandb.me/run' target=\"_blank\">docs</a>)<br/>"
      ],
      "text/plain": [
       "<IPython.core.display.HTML object>"
      ]
     },
     "metadata": {},
     "output_type": "display_data"
    },
    {
     "data": {
      "text/html": [
       " View project at <a href='https://wandb.ai/totikos/model_cnn_mfcc_6_grey_81k-hpo' target=\"_blank\">https://wandb.ai/totikos/model_cnn_mfcc_6_grey_81k-hpo</a>"
      ],
      "text/plain": [
       "<IPython.core.display.HTML object>"
      ]
     },
     "metadata": {},
     "output_type": "display_data"
    },
    {
     "data": {
      "text/html": [
       " View run at <a href='https://wandb.ai/totikos/model_cnn_mfcc_6_grey_81k-hpo/runs/mcxkvndj' target=\"_blank\">https://wandb.ai/totikos/model_cnn_mfcc_6_grey_81k-hpo/runs/mcxkvndj</a>"
      ],
      "text/plain": [
       "<IPython.core.display.HTML object>"
      ]
     },
     "metadata": {},
     "output_type": "display_data"
    },
    {
     "name": "stderr",
     "output_type": "stream",
     "text": [
      "100%|████████████████████████████████████████| 380/380 [04:06<00:00,  1.54it/s]\n",
      "100%|██████████████████████████████████████████| 82/82 [00:19<00:00,  4.14it/s]\n",
      "100%|████████████████████████████████████████| 380/380 [04:04<00:00,  1.55it/s]\n",
      "100%|██████████████████████████████████████████| 82/82 [00:19<00:00,  4.10it/s]\n",
      "[I 2024-01-06 22:49:04,764] Trial 12 pruned. \n"
     ]
    },
    {
     "name": "stdout",
     "output_type": "stream",
     "text": [
      "{'out_channels_l1': 16, 'out_channels_l2': 64, 'conv_kernel_size': 3, 'dropout_rate': 0.2}\n"
     ]
    },
    {
     "data": {
      "text/html": [
       "Finishing last run (ID:mcxkvndj) before initializing another..."
      ],
      "text/plain": [
       "<IPython.core.display.HTML object>"
      ]
     },
     "metadata": {},
     "output_type": "display_data"
    },
    {
     "data": {
      "text/html": [
       "Waiting for W&B process to finish... <strong style=\"color:green\">(success).</strong>"
      ],
      "text/plain": [
       "<IPython.core.display.HTML object>"
      ]
     },
     "metadata": {},
     "output_type": "display_data"
    },
    {
     "data": {
      "text/html": [
       "<style>\n",
       "    table.wandb td:nth-child(1) { padding: 0 10px; text-align: left ; width: auto;} td:nth-child(2) {text-align: left ; width: 100%}\n",
       "    .wandb-row { display: flex; flex-direction: row; flex-wrap: wrap; justify-content: flex-start; width: 100% }\n",
       "    .wandb-col { display: flex; flex-direction: column; flex-basis: 100%; flex: 1; padding: 10px; }\n",
       "    </style>\n",
       "<div class=\"wandb-row\"><div class=\"wandb-col\"><h3>Run history:</h3><br/><table class=\"wandb\"><tr><td>accuracy</td><td>▁</td></tr><tr><td>balanced_accuracy</td><td>▁</td></tr><tr><td>f1_weighted</td><td>▁</td></tr><tr><td>precision</td><td>▁</td></tr><tr><td>recall</td><td>▁</td></tr></table><br/></div><div class=\"wandb-col\"><h3>Run summary:</h3><br/><table class=\"wandb\"><tr><td>accuracy</td><td>0.46423</td></tr><tr><td>balanced_accuracy</td><td>0.29992</td></tr><tr><td>f1_weighted</td><td>0.42457</td></tr><tr><td>precision</td><td>0.43232</td></tr><tr><td>recall</td><td>0.46423</td></tr></table><br/></div></div>"
      ],
      "text/plain": [
       "<IPython.core.display.HTML object>"
      ]
     },
     "metadata": {},
     "output_type": "display_data"
    },
    {
     "data": {
      "text/html": [
       " View run <strong style=\"color:#cdcd00\">12_cnn_mfcc_6_grey_81k_lr-0.0001_convf1-64_convf2-64_convker-5_dr-0.1</strong> at: <a href='https://wandb.ai/totikos/model_cnn_mfcc_6_grey_81k-hpo/runs/mcxkvndj' target=\"_blank\">https://wandb.ai/totikos/model_cnn_mfcc_6_grey_81k-hpo/runs/mcxkvndj</a><br/> View job at <a href='https://wandb.ai/totikos/model_cnn_mfcc_6_grey_81k-hpo/jobs/QXJ0aWZhY3RDb2xsZWN0aW9uOjEyNzk0NTQwMw==/version_details/v2' target=\"_blank\">https://wandb.ai/totikos/model_cnn_mfcc_6_grey_81k-hpo/jobs/QXJ0aWZhY3RDb2xsZWN0aW9uOjEyNzk0NTQwMw==/version_details/v2</a><br/>Synced 5 W&B file(s), 0 media file(s), 0 artifact file(s) and 0 other file(s)"
      ],
      "text/plain": [
       "<IPython.core.display.HTML object>"
      ]
     },
     "metadata": {},
     "output_type": "display_data"
    },
    {
     "data": {
      "text/html": [
       "Find logs at: <code>C:\\Users\\nekta\\OneDrive\\Desktop\\botanic-emotion-recognition\\logs\\wandb\\run-20240106_224006-mcxkvndj\\logs</code>"
      ],
      "text/plain": [
       "<IPython.core.display.HTML object>"
      ]
     },
     "metadata": {},
     "output_type": "display_data"
    },
    {
     "data": {
      "text/html": [
       "Successfully finished last run (ID:mcxkvndj). Initializing new run:<br/>"
      ],
      "text/plain": [
       "<IPython.core.display.HTML object>"
      ]
     },
     "metadata": {},
     "output_type": "display_data"
    },
    {
     "data": {
      "text/html": [
       "wandb version 0.16.1 is available!  To upgrade, please run:\n",
       " $ pip install wandb --upgrade"
      ],
      "text/plain": [
       "<IPython.core.display.HTML object>"
      ]
     },
     "metadata": {},
     "output_type": "display_data"
    },
    {
     "data": {
      "text/html": [
       "Tracking run with wandb version 0.15.12"
      ],
      "text/plain": [
       "<IPython.core.display.HTML object>"
      ]
     },
     "metadata": {},
     "output_type": "display_data"
    },
    {
     "data": {
      "text/html": [
       "Run data is saved locally in <code>C:\\Users\\nekta\\OneDrive\\Desktop\\botanic-emotion-recognition\\logs\\wandb\\run-20240106_224904-x8nav75b</code>"
      ],
      "text/plain": [
       "<IPython.core.display.HTML object>"
      ]
     },
     "metadata": {},
     "output_type": "display_data"
    },
    {
     "data": {
      "text/html": [
       "Syncing run <strong><a href='https://wandb.ai/totikos/model_cnn_mfcc_6_grey_81k-hpo/runs/x8nav75b' target=\"_blank\">13_cnn_mfcc_6_grey_81k_lr-0.01_convf1-16_convf2-64_convker-3_dr-0.2</a></strong> to <a href='https://wandb.ai/totikos/model_cnn_mfcc_6_grey_81k-hpo' target=\"_blank\">Weights & Biases</a> (<a href='https://wandb.me/run' target=\"_blank\">docs</a>)<br/>"
      ],
      "text/plain": [
       "<IPython.core.display.HTML object>"
      ]
     },
     "metadata": {},
     "output_type": "display_data"
    },
    {
     "data": {
      "text/html": [
       " View project at <a href='https://wandb.ai/totikos/model_cnn_mfcc_6_grey_81k-hpo' target=\"_blank\">https://wandb.ai/totikos/model_cnn_mfcc_6_grey_81k-hpo</a>"
      ],
      "text/plain": [
       "<IPython.core.display.HTML object>"
      ]
     },
     "metadata": {},
     "output_type": "display_data"
    },
    {
     "data": {
      "text/html": [
       " View run at <a href='https://wandb.ai/totikos/model_cnn_mfcc_6_grey_81k-hpo/runs/x8nav75b' target=\"_blank\">https://wandb.ai/totikos/model_cnn_mfcc_6_grey_81k-hpo/runs/x8nav75b</a>"
      ],
      "text/plain": [
       "<IPython.core.display.HTML object>"
      ]
     },
     "metadata": {},
     "output_type": "display_data"
    },
    {
     "name": "stderr",
     "output_type": "stream",
     "text": [
      "100%|████████████████████████████████████████| 380/380 [01:13<00:00,  5.19it/s]\n",
      "100%|██████████████████████████████████████████| 82/82 [00:06<00:00, 12.24it/s]\n",
      "[I 2024-01-06 22:50:30,687] Trial 13 pruned. \n"
     ]
    },
    {
     "name": "stdout",
     "output_type": "stream",
     "text": [
      "{'out_channels_l1': 64, 'out_channels_l2': 32, 'conv_kernel_size': 5, 'dropout_rate': 0.2}\n"
     ]
    },
    {
     "data": {
      "text/html": [
       "Finishing last run (ID:x8nav75b) before initializing another..."
      ],
      "text/plain": [
       "<IPython.core.display.HTML object>"
      ]
     },
     "metadata": {},
     "output_type": "display_data"
    },
    {
     "data": {
      "text/html": [
       "Waiting for W&B process to finish... <strong style=\"color:green\">(success).</strong>"
      ],
      "text/plain": [
       "<IPython.core.display.HTML object>"
      ]
     },
     "metadata": {},
     "output_type": "display_data"
    },
    {
     "data": {
      "text/html": [
       " View run <strong style=\"color:#cdcd00\">13_cnn_mfcc_6_grey_81k_lr-0.01_convf1-16_convf2-64_convker-3_dr-0.2</strong> at: <a href='https://wandb.ai/totikos/model_cnn_mfcc_6_grey_81k-hpo/runs/x8nav75b' target=\"_blank\">https://wandb.ai/totikos/model_cnn_mfcc_6_grey_81k-hpo/runs/x8nav75b</a><br/> View job at <a href='https://wandb.ai/totikos/model_cnn_mfcc_6_grey_81k-hpo/jobs/QXJ0aWZhY3RDb2xsZWN0aW9uOjEyNzk0NTQwMw==/version_details/v1' target=\"_blank\">https://wandb.ai/totikos/model_cnn_mfcc_6_grey_81k-hpo/jobs/QXJ0aWZhY3RDb2xsZWN0aW9uOjEyNzk0NTQwMw==/version_details/v1</a><br/>Synced 5 W&B file(s), 0 media file(s), 0 artifact file(s) and 0 other file(s)"
      ],
      "text/plain": [
       "<IPython.core.display.HTML object>"
      ]
     },
     "metadata": {},
     "output_type": "display_data"
    },
    {
     "data": {
      "text/html": [
       "Find logs at: <code>C:\\Users\\nekta\\OneDrive\\Desktop\\botanic-emotion-recognition\\logs\\wandb\\run-20240106_224904-x8nav75b\\logs</code>"
      ],
      "text/plain": [
       "<IPython.core.display.HTML object>"
      ]
     },
     "metadata": {},
     "output_type": "display_data"
    },
    {
     "data": {
      "text/html": [
       "Successfully finished last run (ID:x8nav75b). Initializing new run:<br/>"
      ],
      "text/plain": [
       "<IPython.core.display.HTML object>"
      ]
     },
     "metadata": {},
     "output_type": "display_data"
    },
    {
     "data": {
      "text/html": [
       "wandb version 0.16.1 is available!  To upgrade, please run:\n",
       " $ pip install wandb --upgrade"
      ],
      "text/plain": [
       "<IPython.core.display.HTML object>"
      ]
     },
     "metadata": {},
     "output_type": "display_data"
    },
    {
     "data": {
      "text/html": [
       "Tracking run with wandb version 0.15.12"
      ],
      "text/plain": [
       "<IPython.core.display.HTML object>"
      ]
     },
     "metadata": {},
     "output_type": "display_data"
    },
    {
     "data": {
      "text/html": [
       "Run data is saved locally in <code>C:\\Users\\nekta\\OneDrive\\Desktop\\botanic-emotion-recognition\\logs\\wandb\\run-20240106_225030-in52xpz5</code>"
      ],
      "text/plain": [
       "<IPython.core.display.HTML object>"
      ]
     },
     "metadata": {},
     "output_type": "display_data"
    },
    {
     "data": {
      "text/html": [
       "Syncing run <strong><a href='https://wandb.ai/totikos/model_cnn_mfcc_6_grey_81k-hpo/runs/in52xpz5' target=\"_blank\">14_cnn_mfcc_6_grey_81k_lr-0.0001_convf1-64_convf2-32_convker-5_dr-0.2</a></strong> to <a href='https://wandb.ai/totikos/model_cnn_mfcc_6_grey_81k-hpo' target=\"_blank\">Weights & Biases</a> (<a href='https://wandb.me/run' target=\"_blank\">docs</a>)<br/>"
      ],
      "text/plain": [
       "<IPython.core.display.HTML object>"
      ]
     },
     "metadata": {},
     "output_type": "display_data"
    },
    {
     "data": {
      "text/html": [
       " View project at <a href='https://wandb.ai/totikos/model_cnn_mfcc_6_grey_81k-hpo' target=\"_blank\">https://wandb.ai/totikos/model_cnn_mfcc_6_grey_81k-hpo</a>"
      ],
      "text/plain": [
       "<IPython.core.display.HTML object>"
      ]
     },
     "metadata": {},
     "output_type": "display_data"
    },
    {
     "data": {
      "text/html": [
       " View run at <a href='https://wandb.ai/totikos/model_cnn_mfcc_6_grey_81k-hpo/runs/in52xpz5' target=\"_blank\">https://wandb.ai/totikos/model_cnn_mfcc_6_grey_81k-hpo/runs/in52xpz5</a>"
      ],
      "text/plain": [
       "<IPython.core.display.HTML object>"
      ]
     },
     "metadata": {},
     "output_type": "display_data"
    },
    {
     "name": "stderr",
     "output_type": "stream",
     "text": [
      "100%|████████████████████████████████████████| 380/380 [03:20<00:00,  1.89it/s]\n",
      "100%|██████████████████████████████████████████| 82/82 [00:17<00:00,  4.62it/s]\n",
      "[I 2024-01-06 22:54:18,036] Trial 14 pruned. \n"
     ]
    },
    {
     "name": "stdout",
     "output_type": "stream",
     "text": [
      "{'out_channels_l1': 16, 'out_channels_l2': 64, 'conv_kernel_size': 3, 'dropout_rate': 0.0}\n"
     ]
    },
    {
     "data": {
      "text/html": [
       "Finishing last run (ID:in52xpz5) before initializing another..."
      ],
      "text/plain": [
       "<IPython.core.display.HTML object>"
      ]
     },
     "metadata": {},
     "output_type": "display_data"
    },
    {
     "data": {
      "text/html": [
       "Waiting for W&B process to finish... <strong style=\"color:green\">(success).</strong>"
      ],
      "text/plain": [
       "<IPython.core.display.HTML object>"
      ]
     },
     "metadata": {},
     "output_type": "display_data"
    },
    {
     "data": {
      "text/html": [
       " View run <strong style=\"color:#cdcd00\">14_cnn_mfcc_6_grey_81k_lr-0.0001_convf1-64_convf2-32_convker-5_dr-0.2</strong> at: <a href='https://wandb.ai/totikos/model_cnn_mfcc_6_grey_81k-hpo/runs/in52xpz5' target=\"_blank\">https://wandb.ai/totikos/model_cnn_mfcc_6_grey_81k-hpo/runs/in52xpz5</a><br/> View job at <a href='https://wandb.ai/totikos/model_cnn_mfcc_6_grey_81k-hpo/jobs/QXJ0aWZhY3RDb2xsZWN0aW9uOjEyNzk0NTQwMw==/version_details/v1' target=\"_blank\">https://wandb.ai/totikos/model_cnn_mfcc_6_grey_81k-hpo/jobs/QXJ0aWZhY3RDb2xsZWN0aW9uOjEyNzk0NTQwMw==/version_details/v1</a><br/>Synced 5 W&B file(s), 0 media file(s), 0 artifact file(s) and 0 other file(s)"
      ],
      "text/plain": [
       "<IPython.core.display.HTML object>"
      ]
     },
     "metadata": {},
     "output_type": "display_data"
    },
    {
     "data": {
      "text/html": [
       "Find logs at: <code>C:\\Users\\nekta\\OneDrive\\Desktop\\botanic-emotion-recognition\\logs\\wandb\\run-20240106_225030-in52xpz5\\logs</code>"
      ],
      "text/plain": [
       "<IPython.core.display.HTML object>"
      ]
     },
     "metadata": {},
     "output_type": "display_data"
    },
    {
     "data": {
      "text/html": [
       "Successfully finished last run (ID:in52xpz5). Initializing new run:<br/>"
      ],
      "text/plain": [
       "<IPython.core.display.HTML object>"
      ]
     },
     "metadata": {},
     "output_type": "display_data"
    },
    {
     "data": {
      "text/html": [
       "wandb version 0.16.1 is available!  To upgrade, please run:\n",
       " $ pip install wandb --upgrade"
      ],
      "text/plain": [
       "<IPython.core.display.HTML object>"
      ]
     },
     "metadata": {},
     "output_type": "display_data"
    },
    {
     "data": {
      "text/html": [
       "Tracking run with wandb version 0.15.12"
      ],
      "text/plain": [
       "<IPython.core.display.HTML object>"
      ]
     },
     "metadata": {},
     "output_type": "display_data"
    },
    {
     "data": {
      "text/html": [
       "Run data is saved locally in <code>C:\\Users\\nekta\\OneDrive\\Desktop\\botanic-emotion-recognition\\logs\\wandb\\run-20240106_225418-mb1z4use</code>"
      ],
      "text/plain": [
       "<IPython.core.display.HTML object>"
      ]
     },
     "metadata": {},
     "output_type": "display_data"
    },
    {
     "data": {
      "text/html": [
       "Syncing run <strong><a href='https://wandb.ai/totikos/model_cnn_mfcc_6_grey_81k-hpo/runs/mb1z4use' target=\"_blank\">15_cnn_mfcc_6_grey_81k_lr-0.001_convf1-16_convf2-64_convker-3_dr-0.0</a></strong> to <a href='https://wandb.ai/totikos/model_cnn_mfcc_6_grey_81k-hpo' target=\"_blank\">Weights & Biases</a> (<a href='https://wandb.me/run' target=\"_blank\">docs</a>)<br/>"
      ],
      "text/plain": [
       "<IPython.core.display.HTML object>"
      ]
     },
     "metadata": {},
     "output_type": "display_data"
    },
    {
     "data": {
      "text/html": [
       " View project at <a href='https://wandb.ai/totikos/model_cnn_mfcc_6_grey_81k-hpo' target=\"_blank\">https://wandb.ai/totikos/model_cnn_mfcc_6_grey_81k-hpo</a>"
      ],
      "text/plain": [
       "<IPython.core.display.HTML object>"
      ]
     },
     "metadata": {},
     "output_type": "display_data"
    },
    {
     "data": {
      "text/html": [
       " View run at <a href='https://wandb.ai/totikos/model_cnn_mfcc_6_grey_81k-hpo/runs/mb1z4use' target=\"_blank\">https://wandb.ai/totikos/model_cnn_mfcc_6_grey_81k-hpo/runs/mb1z4use</a>"
      ],
      "text/plain": [
       "<IPython.core.display.HTML object>"
      ]
     },
     "metadata": {},
     "output_type": "display_data"
    },
    {
     "name": "stderr",
     "output_type": "stream",
     "text": [
      "100%|████████████████████████████████████████| 380/380 [01:08<00:00,  5.52it/s]\n",
      "100%|██████████████████████████████████████████| 82/82 [00:06<00:00, 13.19it/s]\n",
      "[I 2024-01-06 22:55:39,481] Trial 15 pruned. \n"
     ]
    },
    {
     "name": "stdout",
     "output_type": "stream",
     "text": [
      "{'out_channels_l1': 16, 'out_channels_l2': 64, 'conv_kernel_size': 5, 'dropout_rate': 0.2}\n"
     ]
    },
    {
     "data": {
      "text/html": [
       "Finishing last run (ID:mb1z4use) before initializing another..."
      ],
      "text/plain": [
       "<IPython.core.display.HTML object>"
      ]
     },
     "metadata": {},
     "output_type": "display_data"
    },
    {
     "data": {
      "text/html": [
       "Waiting for W&B process to finish... <strong style=\"color:green\">(success).</strong>"
      ],
      "text/plain": [
       "<IPython.core.display.HTML object>"
      ]
     },
     "metadata": {},
     "output_type": "display_data"
    },
    {
     "data": {
      "text/html": [
       " View run <strong style=\"color:#cdcd00\">15_cnn_mfcc_6_grey_81k_lr-0.001_convf1-16_convf2-64_convker-3_dr-0.0</strong> at: <a href='https://wandb.ai/totikos/model_cnn_mfcc_6_grey_81k-hpo/runs/mb1z4use' target=\"_blank\">https://wandb.ai/totikos/model_cnn_mfcc_6_grey_81k-hpo/runs/mb1z4use</a><br/> View job at <a href='https://wandb.ai/totikos/model_cnn_mfcc_6_grey_81k-hpo/jobs/QXJ0aWZhY3RDb2xsZWN0aW9uOjEyNzk0NTQwMw==/version_details/v1' target=\"_blank\">https://wandb.ai/totikos/model_cnn_mfcc_6_grey_81k-hpo/jobs/QXJ0aWZhY3RDb2xsZWN0aW9uOjEyNzk0NTQwMw==/version_details/v1</a><br/>Synced 5 W&B file(s), 0 media file(s), 0 artifact file(s) and 0 other file(s)"
      ],
      "text/plain": [
       "<IPython.core.display.HTML object>"
      ]
     },
     "metadata": {},
     "output_type": "display_data"
    },
    {
     "data": {
      "text/html": [
       "Find logs at: <code>C:\\Users\\nekta\\OneDrive\\Desktop\\botanic-emotion-recognition\\logs\\wandb\\run-20240106_225418-mb1z4use\\logs</code>"
      ],
      "text/plain": [
       "<IPython.core.display.HTML object>"
      ]
     },
     "metadata": {},
     "output_type": "display_data"
    },
    {
     "data": {
      "text/html": [
       "Successfully finished last run (ID:mb1z4use). Initializing new run:<br/>"
      ],
      "text/plain": [
       "<IPython.core.display.HTML object>"
      ]
     },
     "metadata": {},
     "output_type": "display_data"
    },
    {
     "data": {
      "text/html": [
       "wandb version 0.16.1 is available!  To upgrade, please run:\n",
       " $ pip install wandb --upgrade"
      ],
      "text/plain": [
       "<IPython.core.display.HTML object>"
      ]
     },
     "metadata": {},
     "output_type": "display_data"
    },
    {
     "data": {
      "text/html": [
       "Tracking run with wandb version 0.15.12"
      ],
      "text/plain": [
       "<IPython.core.display.HTML object>"
      ]
     },
     "metadata": {},
     "output_type": "display_data"
    },
    {
     "data": {
      "text/html": [
       "Run data is saved locally in <code>C:\\Users\\nekta\\OneDrive\\Desktop\\botanic-emotion-recognition\\logs\\wandb\\run-20240106_225539-gqxmmcfo</code>"
      ],
      "text/plain": [
       "<IPython.core.display.HTML object>"
      ]
     },
     "metadata": {},
     "output_type": "display_data"
    },
    {
     "data": {
      "text/html": [
       "Syncing run <strong><a href='https://wandb.ai/totikos/model_cnn_mfcc_6_grey_81k-hpo/runs/gqxmmcfo' target=\"_blank\">16_cnn_mfcc_6_grey_81k_lr-0.0001_convf1-16_convf2-64_convker-5_dr-0.2</a></strong> to <a href='https://wandb.ai/totikos/model_cnn_mfcc_6_grey_81k-hpo' target=\"_blank\">Weights & Biases</a> (<a href='https://wandb.me/run' target=\"_blank\">docs</a>)<br/>"
      ],
      "text/plain": [
       "<IPython.core.display.HTML object>"
      ]
     },
     "metadata": {},
     "output_type": "display_data"
    },
    {
     "data": {
      "text/html": [
       " View project at <a href='https://wandb.ai/totikos/model_cnn_mfcc_6_grey_81k-hpo' target=\"_blank\">https://wandb.ai/totikos/model_cnn_mfcc_6_grey_81k-hpo</a>"
      ],
      "text/plain": [
       "<IPython.core.display.HTML object>"
      ]
     },
     "metadata": {},
     "output_type": "display_data"
    },
    {
     "data": {
      "text/html": [
       " View run at <a href='https://wandb.ai/totikos/model_cnn_mfcc_6_grey_81k-hpo/runs/gqxmmcfo' target=\"_blank\">https://wandb.ai/totikos/model_cnn_mfcc_6_grey_81k-hpo/runs/gqxmmcfo</a>"
      ],
      "text/plain": [
       "<IPython.core.display.HTML object>"
      ]
     },
     "metadata": {},
     "output_type": "display_data"
    },
    {
     "name": "stderr",
     "output_type": "stream",
     "text": [
      "100%|████████████████████████████████████████| 380/380 [01:26<00:00,  4.40it/s]\n",
      "100%|██████████████████████████████████████████| 82/82 [00:06<00:00, 11.89it/s]\n",
      "[I 2024-01-06 22:57:19,406] Trial 16 pruned. \n"
     ]
    },
    {
     "name": "stdout",
     "output_type": "stream",
     "text": [
      "{'out_channels_l1': 16, 'out_channels_l2': 32, 'conv_kernel_size': 5, 'dropout_rate': 0.2}\n"
     ]
    },
    {
     "data": {
      "text/html": [
       "Finishing last run (ID:gqxmmcfo) before initializing another..."
      ],
      "text/plain": [
       "<IPython.core.display.HTML object>"
      ]
     },
     "metadata": {},
     "output_type": "display_data"
    },
    {
     "data": {
      "text/html": [
       "Waiting for W&B process to finish... <strong style=\"color:green\">(success).</strong>"
      ],
      "text/plain": [
       "<IPython.core.display.HTML object>"
      ]
     },
     "metadata": {},
     "output_type": "display_data"
    },
    {
     "data": {
      "text/html": [
       " View run <strong style=\"color:#cdcd00\">16_cnn_mfcc_6_grey_81k_lr-0.0001_convf1-16_convf2-64_convker-5_dr-0.2</strong> at: <a href='https://wandb.ai/totikos/model_cnn_mfcc_6_grey_81k-hpo/runs/gqxmmcfo' target=\"_blank\">https://wandb.ai/totikos/model_cnn_mfcc_6_grey_81k-hpo/runs/gqxmmcfo</a><br/> View job at <a href='https://wandb.ai/totikos/model_cnn_mfcc_6_grey_81k-hpo/jobs/QXJ0aWZhY3RDb2xsZWN0aW9uOjEyNzk0NTQwMw==/version_details/v1' target=\"_blank\">https://wandb.ai/totikos/model_cnn_mfcc_6_grey_81k-hpo/jobs/QXJ0aWZhY3RDb2xsZWN0aW9uOjEyNzk0NTQwMw==/version_details/v1</a><br/>Synced 5 W&B file(s), 0 media file(s), 0 artifact file(s) and 0 other file(s)"
      ],
      "text/plain": [
       "<IPython.core.display.HTML object>"
      ]
     },
     "metadata": {},
     "output_type": "display_data"
    },
    {
     "data": {
      "text/html": [
       "Find logs at: <code>C:\\Users\\nekta\\OneDrive\\Desktop\\botanic-emotion-recognition\\logs\\wandb\\run-20240106_225539-gqxmmcfo\\logs</code>"
      ],
      "text/plain": [
       "<IPython.core.display.HTML object>"
      ]
     },
     "metadata": {},
     "output_type": "display_data"
    },
    {
     "data": {
      "text/html": [
       "Successfully finished last run (ID:gqxmmcfo). Initializing new run:<br/>"
      ],
      "text/plain": [
       "<IPython.core.display.HTML object>"
      ]
     },
     "metadata": {},
     "output_type": "display_data"
    },
    {
     "data": {
      "text/html": [
       "wandb version 0.16.1 is available!  To upgrade, please run:\n",
       " $ pip install wandb --upgrade"
      ],
      "text/plain": [
       "<IPython.core.display.HTML object>"
      ]
     },
     "metadata": {},
     "output_type": "display_data"
    },
    {
     "data": {
      "text/html": [
       "Tracking run with wandb version 0.15.12"
      ],
      "text/plain": [
       "<IPython.core.display.HTML object>"
      ]
     },
     "metadata": {},
     "output_type": "display_data"
    },
    {
     "data": {
      "text/html": [
       "Run data is saved locally in <code>C:\\Users\\nekta\\OneDrive\\Desktop\\botanic-emotion-recognition\\logs\\wandb\\run-20240106_225719-6ojmcpjv</code>"
      ],
      "text/plain": [
       "<IPython.core.display.HTML object>"
      ]
     },
     "metadata": {},
     "output_type": "display_data"
    },
    {
     "data": {
      "text/html": [
       "Syncing run <strong><a href='https://wandb.ai/totikos/model_cnn_mfcc_6_grey_81k-hpo/runs/6ojmcpjv' target=\"_blank\">17_cnn_mfcc_6_grey_81k_lr-0.0001_convf1-16_convf2-32_convker-5_dr-0.2</a></strong> to <a href='https://wandb.ai/totikos/model_cnn_mfcc_6_grey_81k-hpo' target=\"_blank\">Weights & Biases</a> (<a href='https://wandb.me/run' target=\"_blank\">docs</a>)<br/>"
      ],
      "text/plain": [
       "<IPython.core.display.HTML object>"
      ]
     },
     "metadata": {},
     "output_type": "display_data"
    },
    {
     "data": {
      "text/html": [
       " View project at <a href='https://wandb.ai/totikos/model_cnn_mfcc_6_grey_81k-hpo' target=\"_blank\">https://wandb.ai/totikos/model_cnn_mfcc_6_grey_81k-hpo</a>"
      ],
      "text/plain": [
       "<IPython.core.display.HTML object>"
      ]
     },
     "metadata": {},
     "output_type": "display_data"
    },
    {
     "data": {
      "text/html": [
       " View run at <a href='https://wandb.ai/totikos/model_cnn_mfcc_6_grey_81k-hpo/runs/6ojmcpjv' target=\"_blank\">https://wandb.ai/totikos/model_cnn_mfcc_6_grey_81k-hpo/runs/6ojmcpjv</a>"
      ],
      "text/plain": [
       "<IPython.core.display.HTML object>"
      ]
     },
     "metadata": {},
     "output_type": "display_data"
    },
    {
     "name": "stderr",
     "output_type": "stream",
     "text": [
      "100%|████████████████████████████████████████| 380/380 [01:01<00:00,  6.16it/s]\n",
      "100%|██████████████████████████████████████████| 82/82 [00:05<00:00, 13.86it/s]\n",
      "[I 2024-01-06 22:58:33,426] Trial 17 pruned. \n"
     ]
    },
    {
     "name": "stdout",
     "output_type": "stream",
     "text": [
      "{'out_channels_l1': 64, 'out_channels_l2': 32, 'conv_kernel_size': 3, 'dropout_rate': 0.2}\n"
     ]
    },
    {
     "data": {
      "text/html": [
       "Finishing last run (ID:6ojmcpjv) before initializing another..."
      ],
      "text/plain": [
       "<IPython.core.display.HTML object>"
      ]
     },
     "metadata": {},
     "output_type": "display_data"
    },
    {
     "data": {
      "text/html": [
       "Waiting for W&B process to finish... <strong style=\"color:green\">(success).</strong>"
      ],
      "text/plain": [
       "<IPython.core.display.HTML object>"
      ]
     },
     "metadata": {},
     "output_type": "display_data"
    },
    {
     "data": {
      "text/html": [
       " View run <strong style=\"color:#cdcd00\">17_cnn_mfcc_6_grey_81k_lr-0.0001_convf1-16_convf2-32_convker-5_dr-0.2</strong> at: <a href='https://wandb.ai/totikos/model_cnn_mfcc_6_grey_81k-hpo/runs/6ojmcpjv' target=\"_blank\">https://wandb.ai/totikos/model_cnn_mfcc_6_grey_81k-hpo/runs/6ojmcpjv</a><br/> View job at <a href='https://wandb.ai/totikos/model_cnn_mfcc_6_grey_81k-hpo/jobs/QXJ0aWZhY3RDb2xsZWN0aW9uOjEyNzk0NTQwMw==/version_details/v1' target=\"_blank\">https://wandb.ai/totikos/model_cnn_mfcc_6_grey_81k-hpo/jobs/QXJ0aWZhY3RDb2xsZWN0aW9uOjEyNzk0NTQwMw==/version_details/v1</a><br/>Synced 5 W&B file(s), 0 media file(s), 0 artifact file(s) and 0 other file(s)"
      ],
      "text/plain": [
       "<IPython.core.display.HTML object>"
      ]
     },
     "metadata": {},
     "output_type": "display_data"
    },
    {
     "data": {
      "text/html": [
       "Find logs at: <code>C:\\Users\\nekta\\OneDrive\\Desktop\\botanic-emotion-recognition\\logs\\wandb\\run-20240106_225719-6ojmcpjv\\logs</code>"
      ],
      "text/plain": [
       "<IPython.core.display.HTML object>"
      ]
     },
     "metadata": {},
     "output_type": "display_data"
    },
    {
     "data": {
      "text/html": [
       "Successfully finished last run (ID:6ojmcpjv). Initializing new run:<br/>"
      ],
      "text/plain": [
       "<IPython.core.display.HTML object>"
      ]
     },
     "metadata": {},
     "output_type": "display_data"
    },
    {
     "data": {
      "text/html": [
       "wandb version 0.16.1 is available!  To upgrade, please run:\n",
       " $ pip install wandb --upgrade"
      ],
      "text/plain": [
       "<IPython.core.display.HTML object>"
      ]
     },
     "metadata": {},
     "output_type": "display_data"
    },
    {
     "data": {
      "text/html": [
       "Tracking run with wandb version 0.15.12"
      ],
      "text/plain": [
       "<IPython.core.display.HTML object>"
      ]
     },
     "metadata": {},
     "output_type": "display_data"
    },
    {
     "data": {
      "text/html": [
       "Run data is saved locally in <code>C:\\Users\\nekta\\OneDrive\\Desktop\\botanic-emotion-recognition\\logs\\wandb\\run-20240106_225833-968rjawq</code>"
      ],
      "text/plain": [
       "<IPython.core.display.HTML object>"
      ]
     },
     "metadata": {},
     "output_type": "display_data"
    },
    {
     "data": {
      "text/html": [
       "Syncing run <strong><a href='https://wandb.ai/totikos/model_cnn_mfcc_6_grey_81k-hpo/runs/968rjawq' target=\"_blank\">18_cnn_mfcc_6_grey_81k_lr-0.0001_convf1-64_convf2-32_convker-3_dr-0.2</a></strong> to <a href='https://wandb.ai/totikos/model_cnn_mfcc_6_grey_81k-hpo' target=\"_blank\">Weights & Biases</a> (<a href='https://wandb.me/run' target=\"_blank\">docs</a>)<br/>"
      ],
      "text/plain": [
       "<IPython.core.display.HTML object>"
      ]
     },
     "metadata": {},
     "output_type": "display_data"
    },
    {
     "data": {
      "text/html": [
       " View project at <a href='https://wandb.ai/totikos/model_cnn_mfcc_6_grey_81k-hpo' target=\"_blank\">https://wandb.ai/totikos/model_cnn_mfcc_6_grey_81k-hpo</a>"
      ],
      "text/plain": [
       "<IPython.core.display.HTML object>"
      ]
     },
     "metadata": {},
     "output_type": "display_data"
    },
    {
     "data": {
      "text/html": [
       " View run at <a href='https://wandb.ai/totikos/model_cnn_mfcc_6_grey_81k-hpo/runs/968rjawq' target=\"_blank\">https://wandb.ai/totikos/model_cnn_mfcc_6_grey_81k-hpo/runs/968rjawq</a>"
      ],
      "text/plain": [
       "<IPython.core.display.HTML object>"
      ]
     },
     "metadata": {},
     "output_type": "display_data"
    },
    {
     "name": "stderr",
     "output_type": "stream",
     "text": [
      "100%|████████████████████████████████████████| 380/380 [02:31<00:00,  2.51it/s]\n",
      "100%|██████████████████████████████████████████| 82/82 [00:14<00:00,  5.77it/s]\n",
      "[I 2024-01-06 23:01:25,337] Trial 18 pruned. \n"
     ]
    },
    {
     "name": "stdout",
     "output_type": "stream",
     "text": [
      "{'out_channels_l1': 64, 'out_channels_l2': 32, 'conv_kernel_size': 5, 'dropout_rate': 0.1}\n"
     ]
    },
    {
     "data": {
      "text/html": [
       "Finishing last run (ID:968rjawq) before initializing another..."
      ],
      "text/plain": [
       "<IPython.core.display.HTML object>"
      ]
     },
     "metadata": {},
     "output_type": "display_data"
    },
    {
     "data": {
      "text/html": [
       "Waiting for W&B process to finish... <strong style=\"color:green\">(success).</strong>"
      ],
      "text/plain": [
       "<IPython.core.display.HTML object>"
      ]
     },
     "metadata": {},
     "output_type": "display_data"
    },
    {
     "data": {
      "text/html": [
       " View run <strong style=\"color:#cdcd00\">18_cnn_mfcc_6_grey_81k_lr-0.0001_convf1-64_convf2-32_convker-3_dr-0.2</strong> at: <a href='https://wandb.ai/totikos/model_cnn_mfcc_6_grey_81k-hpo/runs/968rjawq' target=\"_blank\">https://wandb.ai/totikos/model_cnn_mfcc_6_grey_81k-hpo/runs/968rjawq</a><br/> View job at <a href='https://wandb.ai/totikos/model_cnn_mfcc_6_grey_81k-hpo/jobs/QXJ0aWZhY3RDb2xsZWN0aW9uOjEyNzk0NTQwMw==/version_details/v1' target=\"_blank\">https://wandb.ai/totikos/model_cnn_mfcc_6_grey_81k-hpo/jobs/QXJ0aWZhY3RDb2xsZWN0aW9uOjEyNzk0NTQwMw==/version_details/v1</a><br/>Synced 5 W&B file(s), 0 media file(s), 0 artifact file(s) and 0 other file(s)"
      ],
      "text/plain": [
       "<IPython.core.display.HTML object>"
      ]
     },
     "metadata": {},
     "output_type": "display_data"
    },
    {
     "data": {
      "text/html": [
       "Find logs at: <code>C:\\Users\\nekta\\OneDrive\\Desktop\\botanic-emotion-recognition\\logs\\wandb\\run-20240106_225833-968rjawq\\logs</code>"
      ],
      "text/plain": [
       "<IPython.core.display.HTML object>"
      ]
     },
     "metadata": {},
     "output_type": "display_data"
    },
    {
     "data": {
      "text/html": [
       "Successfully finished last run (ID:968rjawq). Initializing new run:<br/>"
      ],
      "text/plain": [
       "<IPython.core.display.HTML object>"
      ]
     },
     "metadata": {},
     "output_type": "display_data"
    },
    {
     "data": {
      "text/html": [
       "wandb version 0.16.1 is available!  To upgrade, please run:\n",
       " $ pip install wandb --upgrade"
      ],
      "text/plain": [
       "<IPython.core.display.HTML object>"
      ]
     },
     "metadata": {},
     "output_type": "display_data"
    },
    {
     "data": {
      "text/html": [
       "Tracking run with wandb version 0.15.12"
      ],
      "text/plain": [
       "<IPython.core.display.HTML object>"
      ]
     },
     "metadata": {},
     "output_type": "display_data"
    },
    {
     "data": {
      "text/html": [
       "Run data is saved locally in <code>C:\\Users\\nekta\\OneDrive\\Desktop\\botanic-emotion-recognition\\logs\\wandb\\run-20240106_230125-xgu437wj</code>"
      ],
      "text/plain": [
       "<IPython.core.display.HTML object>"
      ]
     },
     "metadata": {},
     "output_type": "display_data"
    },
    {
     "data": {
      "text/html": [
       "Syncing run <strong><a href='https://wandb.ai/totikos/model_cnn_mfcc_6_grey_81k-hpo/runs/xgu437wj' target=\"_blank\">19_cnn_mfcc_6_grey_81k_lr-0.0001_convf1-64_convf2-32_convker-5_dr-0.1</a></strong> to <a href='https://wandb.ai/totikos/model_cnn_mfcc_6_grey_81k-hpo' target=\"_blank\">Weights & Biases</a> (<a href='https://wandb.me/run' target=\"_blank\">docs</a>)<br/>"
      ],
      "text/plain": [
       "<IPython.core.display.HTML object>"
      ]
     },
     "metadata": {},
     "output_type": "display_data"
    },
    {
     "data": {
      "text/html": [
       " View project at <a href='https://wandb.ai/totikos/model_cnn_mfcc_6_grey_81k-hpo' target=\"_blank\">https://wandb.ai/totikos/model_cnn_mfcc_6_grey_81k-hpo</a>"
      ],
      "text/plain": [
       "<IPython.core.display.HTML object>"
      ]
     },
     "metadata": {},
     "output_type": "display_data"
    },
    {
     "data": {
      "text/html": [
       " View run at <a href='https://wandb.ai/totikos/model_cnn_mfcc_6_grey_81k-hpo/runs/xgu437wj' target=\"_blank\">https://wandb.ai/totikos/model_cnn_mfcc_6_grey_81k-hpo/runs/xgu437wj</a>"
      ],
      "text/plain": [
       "<IPython.core.display.HTML object>"
      ]
     },
     "metadata": {},
     "output_type": "display_data"
    },
    {
     "name": "stderr",
     "output_type": "stream",
     "text": [
      "100%|████████████████████████████████████████| 380/380 [03:09<00:00,  2.01it/s]\n",
      "100%|██████████████████████████████████████████| 82/82 [00:14<00:00,  5.63it/s]\n",
      "[I 2024-01-06 23:04:55,700] Trial 19 pruned. \n"
     ]
    },
    {
     "name": "stdout",
     "output_type": "stream",
     "text": [
      "{'out_channels_l1': 16, 'out_channels_l2': 64, 'conv_kernel_size': 5, 'dropout_rate': 0.0}\n"
     ]
    },
    {
     "data": {
      "text/html": [
       "Finishing last run (ID:xgu437wj) before initializing another..."
      ],
      "text/plain": [
       "<IPython.core.display.HTML object>"
      ]
     },
     "metadata": {},
     "output_type": "display_data"
    },
    {
     "data": {
      "text/html": [
       "Waiting for W&B process to finish... <strong style=\"color:green\">(success).</strong>"
      ],
      "text/plain": [
       "<IPython.core.display.HTML object>"
      ]
     },
     "metadata": {},
     "output_type": "display_data"
    },
    {
     "data": {
      "text/html": [
       " View run <strong style=\"color:#cdcd00\">19_cnn_mfcc_6_grey_81k_lr-0.0001_convf1-64_convf2-32_convker-5_dr-0.1</strong> at: <a href='https://wandb.ai/totikos/model_cnn_mfcc_6_grey_81k-hpo/runs/xgu437wj' target=\"_blank\">https://wandb.ai/totikos/model_cnn_mfcc_6_grey_81k-hpo/runs/xgu437wj</a><br/> View job at <a href='https://wandb.ai/totikos/model_cnn_mfcc_6_grey_81k-hpo/jobs/QXJ0aWZhY3RDb2xsZWN0aW9uOjEyNzk0NTQwMw==/version_details/v1' target=\"_blank\">https://wandb.ai/totikos/model_cnn_mfcc_6_grey_81k-hpo/jobs/QXJ0aWZhY3RDb2xsZWN0aW9uOjEyNzk0NTQwMw==/version_details/v1</a><br/>Synced 5 W&B file(s), 0 media file(s), 0 artifact file(s) and 0 other file(s)"
      ],
      "text/plain": [
       "<IPython.core.display.HTML object>"
      ]
     },
     "metadata": {},
     "output_type": "display_data"
    },
    {
     "data": {
      "text/html": [
       "Find logs at: <code>C:\\Users\\nekta\\OneDrive\\Desktop\\botanic-emotion-recognition\\logs\\wandb\\run-20240106_230125-xgu437wj\\logs</code>"
      ],
      "text/plain": [
       "<IPython.core.display.HTML object>"
      ]
     },
     "metadata": {},
     "output_type": "display_data"
    },
    {
     "data": {
      "text/html": [
       "Successfully finished last run (ID:xgu437wj). Initializing new run:<br/>"
      ],
      "text/plain": [
       "<IPython.core.display.HTML object>"
      ]
     },
     "metadata": {},
     "output_type": "display_data"
    },
    {
     "data": {
      "text/html": [
       "wandb version 0.16.1 is available!  To upgrade, please run:\n",
       " $ pip install wandb --upgrade"
      ],
      "text/plain": [
       "<IPython.core.display.HTML object>"
      ]
     },
     "metadata": {},
     "output_type": "display_data"
    },
    {
     "data": {
      "text/html": [
       "Tracking run with wandb version 0.15.12"
      ],
      "text/plain": [
       "<IPython.core.display.HTML object>"
      ]
     },
     "metadata": {},
     "output_type": "display_data"
    },
    {
     "data": {
      "text/html": [
       "Run data is saved locally in <code>C:\\Users\\nekta\\OneDrive\\Desktop\\botanic-emotion-recognition\\logs\\wandb\\run-20240106_230455-it4ip12g</code>"
      ],
      "text/plain": [
       "<IPython.core.display.HTML object>"
      ]
     },
     "metadata": {},
     "output_type": "display_data"
    },
    {
     "data": {
      "text/html": [
       "Syncing run <strong><a href='https://wandb.ai/totikos/model_cnn_mfcc_6_grey_81k-hpo/runs/it4ip12g' target=\"_blank\">20_cnn_mfcc_6_grey_81k_lr-0.01_convf1-16_convf2-64_convker-5_dr-0.0</a></strong> to <a href='https://wandb.ai/totikos/model_cnn_mfcc_6_grey_81k-hpo' target=\"_blank\">Weights & Biases</a> (<a href='https://wandb.me/run' target=\"_blank\">docs</a>)<br/>"
      ],
      "text/plain": [
       "<IPython.core.display.HTML object>"
      ]
     },
     "metadata": {},
     "output_type": "display_data"
    },
    {
     "data": {
      "text/html": [
       " View project at <a href='https://wandb.ai/totikos/model_cnn_mfcc_6_grey_81k-hpo' target=\"_blank\">https://wandb.ai/totikos/model_cnn_mfcc_6_grey_81k-hpo</a>"
      ],
      "text/plain": [
       "<IPython.core.display.HTML object>"
      ]
     },
     "metadata": {},
     "output_type": "display_data"
    },
    {
     "data": {
      "text/html": [
       " View run at <a href='https://wandb.ai/totikos/model_cnn_mfcc_6_grey_81k-hpo/runs/it4ip12g' target=\"_blank\">https://wandb.ai/totikos/model_cnn_mfcc_6_grey_81k-hpo/runs/it4ip12g</a>"
      ],
      "text/plain": [
       "<IPython.core.display.HTML object>"
      ]
     },
     "metadata": {},
     "output_type": "display_data"
    },
    {
     "name": "stderr",
     "output_type": "stream",
     "text": [
      "100%|████████████████████████████████████████| 380/380 [01:16<00:00,  4.99it/s]\n",
      "100%|██████████████████████████████████████████| 82/82 [00:07<00:00, 11.62it/s]\n",
      "[I 2024-01-06 23:06:24,778] Trial 20 pruned. \n"
     ]
    },
    {
     "name": "stdout",
     "output_type": "stream",
     "text": [
      "{'out_channels_l1': 32, 'out_channels_l2': 32, 'conv_kernel_size': 5, 'dropout_rate': 0.1}\n"
     ]
    },
    {
     "data": {
      "text/html": [
       "Finishing last run (ID:it4ip12g) before initializing another..."
      ],
      "text/plain": [
       "<IPython.core.display.HTML object>"
      ]
     },
     "metadata": {},
     "output_type": "display_data"
    },
    {
     "data": {
      "text/html": [
       "Waiting for W&B process to finish... <strong style=\"color:green\">(success).</strong>"
      ],
      "text/plain": [
       "<IPython.core.display.HTML object>"
      ]
     },
     "metadata": {},
     "output_type": "display_data"
    },
    {
     "data": {
      "text/html": [
       " View run <strong style=\"color:#cdcd00\">20_cnn_mfcc_6_grey_81k_lr-0.01_convf1-16_convf2-64_convker-5_dr-0.0</strong> at: <a href='https://wandb.ai/totikos/model_cnn_mfcc_6_grey_81k-hpo/runs/it4ip12g' target=\"_blank\">https://wandb.ai/totikos/model_cnn_mfcc_6_grey_81k-hpo/runs/it4ip12g</a><br/> View job at <a href='https://wandb.ai/totikos/model_cnn_mfcc_6_grey_81k-hpo/jobs/QXJ0aWZhY3RDb2xsZWN0aW9uOjEyNzk0NTQwMw==/version_details/v1' target=\"_blank\">https://wandb.ai/totikos/model_cnn_mfcc_6_grey_81k-hpo/jobs/QXJ0aWZhY3RDb2xsZWN0aW9uOjEyNzk0NTQwMw==/version_details/v1</a><br/>Synced 5 W&B file(s), 0 media file(s), 0 artifact file(s) and 0 other file(s)"
      ],
      "text/plain": [
       "<IPython.core.display.HTML object>"
      ]
     },
     "metadata": {},
     "output_type": "display_data"
    },
    {
     "data": {
      "text/html": [
       "Find logs at: <code>C:\\Users\\nekta\\OneDrive\\Desktop\\botanic-emotion-recognition\\logs\\wandb\\run-20240106_230455-it4ip12g\\logs</code>"
      ],
      "text/plain": [
       "<IPython.core.display.HTML object>"
      ]
     },
     "metadata": {},
     "output_type": "display_data"
    },
    {
     "data": {
      "text/html": [
       "Successfully finished last run (ID:it4ip12g). Initializing new run:<br/>"
      ],
      "text/plain": [
       "<IPython.core.display.HTML object>"
      ]
     },
     "metadata": {},
     "output_type": "display_data"
    },
    {
     "data": {
      "text/html": [
       "wandb version 0.16.1 is available!  To upgrade, please run:\n",
       " $ pip install wandb --upgrade"
      ],
      "text/plain": [
       "<IPython.core.display.HTML object>"
      ]
     },
     "metadata": {},
     "output_type": "display_data"
    },
    {
     "data": {
      "text/html": [
       "Tracking run with wandb version 0.15.12"
      ],
      "text/plain": [
       "<IPython.core.display.HTML object>"
      ]
     },
     "metadata": {},
     "output_type": "display_data"
    },
    {
     "data": {
      "text/html": [
       "Run data is saved locally in <code>C:\\Users\\nekta\\OneDrive\\Desktop\\botanic-emotion-recognition\\logs\\wandb\\run-20240106_230624-450iraw3</code>"
      ],
      "text/plain": [
       "<IPython.core.display.HTML object>"
      ]
     },
     "metadata": {},
     "output_type": "display_data"
    },
    {
     "data": {
      "text/html": [
       "Syncing run <strong><a href='https://wandb.ai/totikos/model_cnn_mfcc_6_grey_81k-hpo/runs/450iraw3' target=\"_blank\">21_cnn_mfcc_6_grey_81k_lr-0.01_convf1-32_convf2-32_convker-5_dr-0.1</a></strong> to <a href='https://wandb.ai/totikos/model_cnn_mfcc_6_grey_81k-hpo' target=\"_blank\">Weights & Biases</a> (<a href='https://wandb.me/run' target=\"_blank\">docs</a>)<br/>"
      ],
      "text/plain": [
       "<IPython.core.display.HTML object>"
      ]
     },
     "metadata": {},
     "output_type": "display_data"
    },
    {
     "data": {
      "text/html": [
       " View project at <a href='https://wandb.ai/totikos/model_cnn_mfcc_6_grey_81k-hpo' target=\"_blank\">https://wandb.ai/totikos/model_cnn_mfcc_6_grey_81k-hpo</a>"
      ],
      "text/plain": [
       "<IPython.core.display.HTML object>"
      ]
     },
     "metadata": {},
     "output_type": "display_data"
    },
    {
     "data": {
      "text/html": [
       " View run at <a href='https://wandb.ai/totikos/model_cnn_mfcc_6_grey_81k-hpo/runs/450iraw3' target=\"_blank\">https://wandb.ai/totikos/model_cnn_mfcc_6_grey_81k-hpo/runs/450iraw3</a>"
      ],
      "text/plain": [
       "<IPython.core.display.HTML object>"
      ]
     },
     "metadata": {},
     "output_type": "display_data"
    },
    {
     "name": "stderr",
     "output_type": "stream",
     "text": [
      "100%|████████████████████████████████████████| 380/380 [01:40<00:00,  3.78it/s]\n",
      "100%|██████████████████████████████████████████| 82/82 [00:08<00:00,  9.22it/s]\n",
      "[I 2024-01-06 23:08:19,735] Trial 21 pruned. \n"
     ]
    },
    {
     "name": "stdout",
     "output_type": "stream",
     "text": [
      "{'out_channels_l1': 32, 'out_channels_l2': 32, 'conv_kernel_size': 3, 'dropout_rate': 0.0}\n"
     ]
    },
    {
     "data": {
      "text/html": [
       "Finishing last run (ID:450iraw3) before initializing another..."
      ],
      "text/plain": [
       "<IPython.core.display.HTML object>"
      ]
     },
     "metadata": {},
     "output_type": "display_data"
    },
    {
     "data": {
      "text/html": [
       "Waiting for W&B process to finish... <strong style=\"color:green\">(success).</strong>"
      ],
      "text/plain": [
       "<IPython.core.display.HTML object>"
      ]
     },
     "metadata": {},
     "output_type": "display_data"
    },
    {
     "data": {
      "text/html": [
       " View run <strong style=\"color:#cdcd00\">21_cnn_mfcc_6_grey_81k_lr-0.01_convf1-32_convf2-32_convker-5_dr-0.1</strong> at: <a href='https://wandb.ai/totikos/model_cnn_mfcc_6_grey_81k-hpo/runs/450iraw3' target=\"_blank\">https://wandb.ai/totikos/model_cnn_mfcc_6_grey_81k-hpo/runs/450iraw3</a><br/> View job at <a href='https://wandb.ai/totikos/model_cnn_mfcc_6_grey_81k-hpo/jobs/QXJ0aWZhY3RDb2xsZWN0aW9uOjEyNzk0NTQwMw==/version_details/v1' target=\"_blank\">https://wandb.ai/totikos/model_cnn_mfcc_6_grey_81k-hpo/jobs/QXJ0aWZhY3RDb2xsZWN0aW9uOjEyNzk0NTQwMw==/version_details/v1</a><br/>Synced 5 W&B file(s), 0 media file(s), 0 artifact file(s) and 0 other file(s)"
      ],
      "text/plain": [
       "<IPython.core.display.HTML object>"
      ]
     },
     "metadata": {},
     "output_type": "display_data"
    },
    {
     "data": {
      "text/html": [
       "Find logs at: <code>C:\\Users\\nekta\\OneDrive\\Desktop\\botanic-emotion-recognition\\logs\\wandb\\run-20240106_230624-450iraw3\\logs</code>"
      ],
      "text/plain": [
       "<IPython.core.display.HTML object>"
      ]
     },
     "metadata": {},
     "output_type": "display_data"
    },
    {
     "data": {
      "text/html": [
       "Successfully finished last run (ID:450iraw3). Initializing new run:<br/>"
      ],
      "text/plain": [
       "<IPython.core.display.HTML object>"
      ]
     },
     "metadata": {},
     "output_type": "display_data"
    },
    {
     "data": {
      "text/html": [
       "wandb version 0.16.1 is available!  To upgrade, please run:\n",
       " $ pip install wandb --upgrade"
      ],
      "text/plain": [
       "<IPython.core.display.HTML object>"
      ]
     },
     "metadata": {},
     "output_type": "display_data"
    },
    {
     "data": {
      "text/html": [
       "Tracking run with wandb version 0.15.12"
      ],
      "text/plain": [
       "<IPython.core.display.HTML object>"
      ]
     },
     "metadata": {},
     "output_type": "display_data"
    },
    {
     "data": {
      "text/html": [
       "Run data is saved locally in <code>C:\\Users\\nekta\\OneDrive\\Desktop\\botanic-emotion-recognition\\logs\\wandb\\run-20240106_230819-6zviy4na</code>"
      ],
      "text/plain": [
       "<IPython.core.display.HTML object>"
      ]
     },
     "metadata": {},
     "output_type": "display_data"
    },
    {
     "data": {
      "text/html": [
       "Syncing run <strong><a href='https://wandb.ai/totikos/model_cnn_mfcc_6_grey_81k-hpo/runs/6zviy4na' target=\"_blank\">22_cnn_mfcc_6_grey_81k_lr-0.001_convf1-32_convf2-32_convker-3_dr-0.0</a></strong> to <a href='https://wandb.ai/totikos/model_cnn_mfcc_6_grey_81k-hpo' target=\"_blank\">Weights & Biases</a> (<a href='https://wandb.me/run' target=\"_blank\">docs</a>)<br/>"
      ],
      "text/plain": [
       "<IPython.core.display.HTML object>"
      ]
     },
     "metadata": {},
     "output_type": "display_data"
    },
    {
     "data": {
      "text/html": [
       " View project at <a href='https://wandb.ai/totikos/model_cnn_mfcc_6_grey_81k-hpo' target=\"_blank\">https://wandb.ai/totikos/model_cnn_mfcc_6_grey_81k-hpo</a>"
      ],
      "text/plain": [
       "<IPython.core.display.HTML object>"
      ]
     },
     "metadata": {},
     "output_type": "display_data"
    },
    {
     "data": {
      "text/html": [
       " View run at <a href='https://wandb.ai/totikos/model_cnn_mfcc_6_grey_81k-hpo/runs/6zviy4na' target=\"_blank\">https://wandb.ai/totikos/model_cnn_mfcc_6_grey_81k-hpo/runs/6zviy4na</a>"
      ],
      "text/plain": [
       "<IPython.core.display.HTML object>"
      ]
     },
     "metadata": {},
     "output_type": "display_data"
    },
    {
     "name": "stderr",
     "output_type": "stream",
     "text": [
      "100%|████████████████████████████████████████| 380/380 [01:24<00:00,  4.48it/s]\n",
      "100%|██████████████████████████████████████████| 82/82 [00:09<00:00,  9.01it/s]\n",
      "[I 2024-01-06 23:10:00,321] Trial 22 pruned. \n"
     ]
    },
    {
     "name": "stdout",
     "output_type": "stream",
     "text": [
      "{'out_channels_l1': 64, 'out_channels_l2': 32, 'conv_kernel_size': 3, 'dropout_rate': 0.1}\n"
     ]
    },
    {
     "data": {
      "text/html": [
       "Finishing last run (ID:6zviy4na) before initializing another..."
      ],
      "text/plain": [
       "<IPython.core.display.HTML object>"
      ]
     },
     "metadata": {},
     "output_type": "display_data"
    },
    {
     "data": {
      "text/html": [
       "Waiting for W&B process to finish... <strong style=\"color:green\">(success).</strong>"
      ],
      "text/plain": [
       "<IPython.core.display.HTML object>"
      ]
     },
     "metadata": {},
     "output_type": "display_data"
    },
    {
     "data": {
      "text/html": [
       " View run <strong style=\"color:#cdcd00\">22_cnn_mfcc_6_grey_81k_lr-0.001_convf1-32_convf2-32_convker-3_dr-0.0</strong> at: <a href='https://wandb.ai/totikos/model_cnn_mfcc_6_grey_81k-hpo/runs/6zviy4na' target=\"_blank\">https://wandb.ai/totikos/model_cnn_mfcc_6_grey_81k-hpo/runs/6zviy4na</a><br/> View job at <a href='https://wandb.ai/totikos/model_cnn_mfcc_6_grey_81k-hpo/jobs/QXJ0aWZhY3RDb2xsZWN0aW9uOjEyNzk0NTQwMw==/version_details/v1' target=\"_blank\">https://wandb.ai/totikos/model_cnn_mfcc_6_grey_81k-hpo/jobs/QXJ0aWZhY3RDb2xsZWN0aW9uOjEyNzk0NTQwMw==/version_details/v1</a><br/>Synced 5 W&B file(s), 0 media file(s), 0 artifact file(s) and 0 other file(s)"
      ],
      "text/plain": [
       "<IPython.core.display.HTML object>"
      ]
     },
     "metadata": {},
     "output_type": "display_data"
    },
    {
     "data": {
      "text/html": [
       "Find logs at: <code>C:\\Users\\nekta\\OneDrive\\Desktop\\botanic-emotion-recognition\\logs\\wandb\\run-20240106_230819-6zviy4na\\logs</code>"
      ],
      "text/plain": [
       "<IPython.core.display.HTML object>"
      ]
     },
     "metadata": {},
     "output_type": "display_data"
    },
    {
     "data": {
      "text/html": [
       "Successfully finished last run (ID:6zviy4na). Initializing new run:<br/>"
      ],
      "text/plain": [
       "<IPython.core.display.HTML object>"
      ]
     },
     "metadata": {},
     "output_type": "display_data"
    },
    {
     "data": {
      "text/html": [
       "wandb version 0.16.1 is available!  To upgrade, please run:\n",
       " $ pip install wandb --upgrade"
      ],
      "text/plain": [
       "<IPython.core.display.HTML object>"
      ]
     },
     "metadata": {},
     "output_type": "display_data"
    },
    {
     "data": {
      "text/html": [
       "Tracking run with wandb version 0.15.12"
      ],
      "text/plain": [
       "<IPython.core.display.HTML object>"
      ]
     },
     "metadata": {},
     "output_type": "display_data"
    },
    {
     "data": {
      "text/html": [
       "Run data is saved locally in <code>C:\\Users\\nekta\\OneDrive\\Desktop\\botanic-emotion-recognition\\logs\\wandb\\run-20240106_231000-ophh6gpx</code>"
      ],
      "text/plain": [
       "<IPython.core.display.HTML object>"
      ]
     },
     "metadata": {},
     "output_type": "display_data"
    },
    {
     "data": {
      "text/html": [
       "Syncing run <strong><a href='https://wandb.ai/totikos/model_cnn_mfcc_6_grey_81k-hpo/runs/ophh6gpx' target=\"_blank\">23_cnn_mfcc_6_grey_81k_lr-0.001_convf1-64_convf2-32_convker-3_dr-0.1</a></strong> to <a href='https://wandb.ai/totikos/model_cnn_mfcc_6_grey_81k-hpo' target=\"_blank\">Weights & Biases</a> (<a href='https://wandb.me/run' target=\"_blank\">docs</a>)<br/>"
      ],
      "text/plain": [
       "<IPython.core.display.HTML object>"
      ]
     },
     "metadata": {},
     "output_type": "display_data"
    },
    {
     "data": {
      "text/html": [
       " View project at <a href='https://wandb.ai/totikos/model_cnn_mfcc_6_grey_81k-hpo' target=\"_blank\">https://wandb.ai/totikos/model_cnn_mfcc_6_grey_81k-hpo</a>"
      ],
      "text/plain": [
       "<IPython.core.display.HTML object>"
      ]
     },
     "metadata": {},
     "output_type": "display_data"
    },
    {
     "data": {
      "text/html": [
       " View run at <a href='https://wandb.ai/totikos/model_cnn_mfcc_6_grey_81k-hpo/runs/ophh6gpx' target=\"_blank\">https://wandb.ai/totikos/model_cnn_mfcc_6_grey_81k-hpo/runs/ophh6gpx</a>"
      ],
      "text/plain": [
       "<IPython.core.display.HTML object>"
      ]
     },
     "metadata": {},
     "output_type": "display_data"
    },
    {
     "name": "stderr",
     "output_type": "stream",
     "text": [
      "100%|████████████████████████████████████████| 380/380 [02:37<00:00,  2.41it/s]\n",
      "100%|██████████████████████████████████████████| 82/82 [00:14<00:00,  5.65it/s]\n",
      "100%|████████████████████████████████████████| 380/380 [02:36<00:00,  2.43it/s]\n",
      "100%|██████████████████████████████████████████| 82/82 [00:14<00:00,  5.57it/s]\n",
      "100%|████████████████████████████████████████| 380/380 [02:37<00:00,  2.41it/s]\n",
      "100%|██████████████████████████████████████████| 82/82 [00:13<00:00,  6.07it/s]\n",
      "100%|████████████████████████████████████████| 380/380 [02:29<00:00,  2.54it/s]\n",
      "100%|██████████████████████████████████████████| 82/82 [00:13<00:00,  6.21it/s]\n",
      "100%|████████████████████████████████████████| 380/380 [02:38<00:00,  2.40it/s]\n",
      "100%|██████████████████████████████████████████| 82/82 [00:13<00:00,  6.03it/s]\n",
      "100%|████████████████████████████████████████| 380/380 [02:21<00:00,  2.68it/s]\n",
      "100%|██████████████████████████████████████████| 82/82 [00:15<00:00,  5.43it/s]\n",
      "100%|████████████████████████████████████████| 380/380 [02:25<00:00,  2.61it/s]\n",
      "100%|██████████████████████████████████████████| 82/82 [00:13<00:00,  5.96it/s]\n",
      "100%|████████████████████████████████████████| 380/380 [02:48<00:00,  2.26it/s]\n",
      "100%|██████████████████████████████████████████| 82/82 [00:13<00:00,  6.11it/s]\n",
      "100%|████████████████████████████████████████| 380/380 [02:36<00:00,  2.43it/s]\n",
      "100%|██████████████████████████████████████████| 82/82 [00:13<00:00,  5.87it/s]\n",
      "100%|████████████████████████████████████████| 380/380 [02:33<00:00,  2.48it/s]\n",
      "100%|██████████████████████████████████████████| 82/82 [00:14<00:00,  5.71it/s]\n",
      "100%|████████████████████████████████████████| 380/380 [02:32<00:00,  2.49it/s]\n",
      "100%|██████████████████████████████████████████| 82/82 [00:15<00:00,  5.46it/s]\n",
      "100%|████████████████████████████████████████| 380/380 [02:34<00:00,  2.46it/s]\n",
      "100%|██████████████████████████████████████████| 82/82 [00:13<00:00,  5.96it/s]\n",
      "100%|████████████████████████████████████████| 380/380 [02:27<00:00,  2.57it/s]\n",
      "100%|██████████████████████████████████████████| 82/82 [00:13<00:00,  6.14it/s]\n",
      "100%|████████████████████████████████████████| 380/380 [02:28<00:00,  2.57it/s]\n",
      "100%|██████████████████████████████████████████| 82/82 [00:14<00:00,  5.57it/s]\n",
      "100%|████████████████████████████████████████| 380/380 [02:30<00:00,  2.53it/s]\n",
      "100%|██████████████████████████████████████████| 82/82 [00:13<00:00,  6.02it/s]\n",
      "100%|████████████████████████████████████████| 380/380 [02:26<00:00,  2.59it/s]\n",
      "100%|██████████████████████████████████████████| 82/82 [00:14<00:00,  5.78it/s]\n",
      "100%|████████████████████████████████████████| 380/380 [02:30<00:00,  2.53it/s]\n",
      "100%|██████████████████████████████████████████| 82/82 [00:14<00:00,  5.65it/s]\n",
      "100%|████████████████████████████████████████| 380/380 [03:06<00:00,  2.04it/s]\n",
      "100%|██████████████████████████████████████████| 82/82 [00:17<00:00,  4.73it/s]\n",
      "100%|████████████████████████████████████████| 380/380 [03:09<00:00,  2.00it/s]\n",
      "100%|██████████████████████████████████████████| 82/82 [00:18<00:00,  4.48it/s]\n",
      "100%|████████████████████████████████████████| 380/380 [02:48<00:00,  2.25it/s]\n",
      "100%|██████████████████████████████████████████| 82/82 [00:17<00:00,  4.64it/s]\n"
     ]
    },
    {
     "data": {
      "text/html": [
       "Waiting for W&B process to finish... <strong style=\"color:green\">(success).</strong>"
      ],
      "text/plain": [
       "<IPython.core.display.HTML object>"
      ]
     },
     "metadata": {},
     "output_type": "display_data"
    },
    {
     "data": {
      "text/html": [
       "<style>\n",
       "    table.wandb td:nth-child(1) { padding: 0 10px; text-align: left ; width: auto;} td:nth-child(2) {text-align: left ; width: 100%}\n",
       "    .wandb-row { display: flex; flex-direction: row; flex-wrap: wrap; justify-content: flex-start; width: 100% }\n",
       "    .wandb-col { display: flex; flex-direction: column; flex-basis: 100%; flex: 1; padding: 10px; }\n",
       "    </style>\n",
       "<div class=\"wandb-row\"><div class=\"wandb-col\"><h3>Run history:</h3><br/><table class=\"wandb\"><tr><td>accuracy</td><td>▁▆▇▇▇██▇███▇▇▇▇▇▆▆▆▆</td></tr><tr><td>balanced_accuracy</td><td>▁▆▇▇▇█████▇▇▇▇▆▆▆▆▆▆</td></tr><tr><td>f1_weighted</td><td>▁▇▇▇▇█████████▇▇▇▇▇▇</td></tr><tr><td>precision</td><td>█▁▂▂▂▃▃▂▂▃▂▂▂▃▂▂▂▂▁▂</td></tr><tr><td>recall</td><td>▁▆▇▇▇██▇███▇▇▇▇▇▆▆▆▆</td></tr></table><br/></div><div class=\"wandb-col\"><h3>Run summary:</h3><br/><table class=\"wandb\"><tr><td>accuracy</td><td>0.51077</td></tr><tr><td>balanced_accuracy</td><td>0.35002</td></tr><tr><td>f1_weighted</td><td>0.49863</td></tr><tr><td>precision</td><td>0.49888</td></tr><tr><td>recall</td><td>0.51077</td></tr></table><br/></div></div>"
      ],
      "text/plain": [
       "<IPython.core.display.HTML object>"
      ]
     },
     "metadata": {},
     "output_type": "display_data"
    },
    {
     "data": {
      "text/html": [
       " View run <strong style=\"color:#cdcd00\">23_cnn_mfcc_6_grey_81k_lr-0.001_convf1-64_convf2-32_convker-3_dr-0.1</strong> at: <a href='https://wandb.ai/totikos/model_cnn_mfcc_6_grey_81k-hpo/runs/ophh6gpx' target=\"_blank\">https://wandb.ai/totikos/model_cnn_mfcc_6_grey_81k-hpo/runs/ophh6gpx</a><br/> View job at <a href='https://wandb.ai/totikos/model_cnn_mfcc_6_grey_81k-hpo/jobs/QXJ0aWZhY3RDb2xsZWN0aW9uOjEyNzk0NTQwMw==/version_details/v2' target=\"_blank\">https://wandb.ai/totikos/model_cnn_mfcc_6_grey_81k-hpo/jobs/QXJ0aWZhY3RDb2xsZWN0aW9uOjEyNzk0NTQwMw==/version_details/v2</a><br/>Synced 5 W&B file(s), 0 media file(s), 0 artifact file(s) and 0 other file(s)"
      ],
      "text/plain": [
       "<IPython.core.display.HTML object>"
      ]
     },
     "metadata": {},
     "output_type": "display_data"
    },
    {
     "data": {
      "text/html": [
       "Find logs at: <code>C:\\Users\\nekta\\OneDrive\\Desktop\\botanic-emotion-recognition\\logs\\wandb\\run-20240106_231000-ophh6gpx\\logs</code>"
      ],
      "text/plain": [
       "<IPython.core.display.HTML object>"
      ]
     },
     "metadata": {},
     "output_type": "display_data"
    },
    {
     "name": "stderr",
     "output_type": "stream",
     "text": [
      "[I 2024-01-07 00:07:25,543] Trial 23 finished with value: 0.35001686698334367 and parameters: {'conv_kernel_size': 3, 'dropout_rate': 0.1, 'out_channels_l1': 64, 'out_channels_l2': 32, 'lr': 0.001}. Best is trial 0 with value: 0.37873863016739945.\n"
     ]
    },
    {
     "name": "stdout",
     "output_type": "stream",
     "text": [
      "{'out_channels_l1': 16, 'out_channels_l2': 64, 'conv_kernel_size': 5, 'dropout_rate': 0.1}\n"
     ]
    },
    {
     "data": {
      "text/html": [
       "wandb version 0.16.1 is available!  To upgrade, please run:\n",
       " $ pip install wandb --upgrade"
      ],
      "text/plain": [
       "<IPython.core.display.HTML object>"
      ]
     },
     "metadata": {},
     "output_type": "display_data"
    },
    {
     "data": {
      "text/html": [
       "Tracking run with wandb version 0.15.12"
      ],
      "text/plain": [
       "<IPython.core.display.HTML object>"
      ]
     },
     "metadata": {},
     "output_type": "display_data"
    },
    {
     "data": {
      "text/html": [
       "Run data is saved locally in <code>C:\\Users\\nekta\\OneDrive\\Desktop\\botanic-emotion-recognition\\logs\\wandb\\run-20240107_000725-0spgsphz</code>"
      ],
      "text/plain": [
       "<IPython.core.display.HTML object>"
      ]
     },
     "metadata": {},
     "output_type": "display_data"
    },
    {
     "data": {
      "text/html": [
       "Syncing run <strong><a href='https://wandb.ai/totikos/model_cnn_mfcc_6_grey_81k-hpo/runs/0spgsphz' target=\"_blank\">24_cnn_mfcc_6_grey_81k_lr-0.001_convf1-16_convf2-64_convker-5_dr-0.1</a></strong> to <a href='https://wandb.ai/totikos/model_cnn_mfcc_6_grey_81k-hpo' target=\"_blank\">Weights & Biases</a> (<a href='https://wandb.me/run' target=\"_blank\">docs</a>)<br/>"
      ],
      "text/plain": [
       "<IPython.core.display.HTML object>"
      ]
     },
     "metadata": {},
     "output_type": "display_data"
    },
    {
     "data": {
      "text/html": [
       " View project at <a href='https://wandb.ai/totikos/model_cnn_mfcc_6_grey_81k-hpo' target=\"_blank\">https://wandb.ai/totikos/model_cnn_mfcc_6_grey_81k-hpo</a>"
      ],
      "text/plain": [
       "<IPython.core.display.HTML object>"
      ]
     },
     "metadata": {},
     "output_type": "display_data"
    },
    {
     "data": {
      "text/html": [
       " View run at <a href='https://wandb.ai/totikos/model_cnn_mfcc_6_grey_81k-hpo/runs/0spgsphz' target=\"_blank\">https://wandb.ai/totikos/model_cnn_mfcc_6_grey_81k-hpo/runs/0spgsphz</a>"
      ],
      "text/plain": [
       "<IPython.core.display.HTML object>"
      ]
     },
     "metadata": {},
     "output_type": "display_data"
    },
    {
     "name": "stderr",
     "output_type": "stream",
     "text": [
      "100%|████████████████████████████████████████| 380/380 [01:34<00:00,  4.04it/s]\n",
      "100%|██████████████████████████████████████████| 82/82 [00:07<00:00, 10.41it/s]\n",
      "[I 2024-01-07 00:09:08,838] Trial 24 pruned. \n"
     ]
    },
    {
     "name": "stdout",
     "output_type": "stream",
     "text": [
      "{'out_channels_l1': 16, 'out_channels_l2': 64, 'conv_kernel_size': 5, 'dropout_rate': 0.1}\n"
     ]
    },
    {
     "data": {
      "text/html": [
       "Finishing last run (ID:0spgsphz) before initializing another..."
      ],
      "text/plain": [
       "<IPython.core.display.HTML object>"
      ]
     },
     "metadata": {},
     "output_type": "display_data"
    },
    {
     "data": {
      "text/html": [
       "Waiting for W&B process to finish... <strong style=\"color:green\">(success).</strong>"
      ],
      "text/plain": [
       "<IPython.core.display.HTML object>"
      ]
     },
     "metadata": {},
     "output_type": "display_data"
    },
    {
     "data": {
      "text/html": [
       " View run <strong style=\"color:#cdcd00\">24_cnn_mfcc_6_grey_81k_lr-0.001_convf1-16_convf2-64_convker-5_dr-0.1</strong> at: <a href='https://wandb.ai/totikos/model_cnn_mfcc_6_grey_81k-hpo/runs/0spgsphz' target=\"_blank\">https://wandb.ai/totikos/model_cnn_mfcc_6_grey_81k-hpo/runs/0spgsphz</a><br/> View job at <a href='https://wandb.ai/totikos/model_cnn_mfcc_6_grey_81k-hpo/jobs/QXJ0aWZhY3RDb2xsZWN0aW9uOjEyNzk0NTQwMw==/version_details/v2' target=\"_blank\">https://wandb.ai/totikos/model_cnn_mfcc_6_grey_81k-hpo/jobs/QXJ0aWZhY3RDb2xsZWN0aW9uOjEyNzk0NTQwMw==/version_details/v2</a><br/>Synced 5 W&B file(s), 0 media file(s), 2 artifact file(s) and 0 other file(s)"
      ],
      "text/plain": [
       "<IPython.core.display.HTML object>"
      ]
     },
     "metadata": {},
     "output_type": "display_data"
    },
    {
     "data": {
      "text/html": [
       "Find logs at: <code>C:\\Users\\nekta\\OneDrive\\Desktop\\botanic-emotion-recognition\\logs\\wandb\\run-20240107_000725-0spgsphz\\logs</code>"
      ],
      "text/plain": [
       "<IPython.core.display.HTML object>"
      ]
     },
     "metadata": {},
     "output_type": "display_data"
    },
    {
     "data": {
      "text/html": [
       "Successfully finished last run (ID:0spgsphz). Initializing new run:<br/>"
      ],
      "text/plain": [
       "<IPython.core.display.HTML object>"
      ]
     },
     "metadata": {},
     "output_type": "display_data"
    },
    {
     "data": {
      "text/html": [
       "wandb version 0.16.1 is available!  To upgrade, please run:\n",
       " $ pip install wandb --upgrade"
      ],
      "text/plain": [
       "<IPython.core.display.HTML object>"
      ]
     },
     "metadata": {},
     "output_type": "display_data"
    },
    {
     "data": {
      "text/html": [
       "Tracking run with wandb version 0.15.12"
      ],
      "text/plain": [
       "<IPython.core.display.HTML object>"
      ]
     },
     "metadata": {},
     "output_type": "display_data"
    },
    {
     "data": {
      "text/html": [
       "Run data is saved locally in <code>C:\\Users\\nekta\\OneDrive\\Desktop\\botanic-emotion-recognition\\logs\\wandb\\run-20240107_000908-wg4sk6tw</code>"
      ],
      "text/plain": [
       "<IPython.core.display.HTML object>"
      ]
     },
     "metadata": {},
     "output_type": "display_data"
    },
    {
     "data": {
      "text/html": [
       "Syncing run <strong><a href='https://wandb.ai/totikos/model_cnn_mfcc_6_grey_81k-hpo/runs/wg4sk6tw' target=\"_blank\">25_cnn_mfcc_6_grey_81k_lr-0.0001_convf1-16_convf2-64_convker-5_dr-0.1</a></strong> to <a href='https://wandb.ai/totikos/model_cnn_mfcc_6_grey_81k-hpo' target=\"_blank\">Weights & Biases</a> (<a href='https://wandb.me/run' target=\"_blank\">docs</a>)<br/>"
      ],
      "text/plain": [
       "<IPython.core.display.HTML object>"
      ]
     },
     "metadata": {},
     "output_type": "display_data"
    },
    {
     "data": {
      "text/html": [
       " View project at <a href='https://wandb.ai/totikos/model_cnn_mfcc_6_grey_81k-hpo' target=\"_blank\">https://wandb.ai/totikos/model_cnn_mfcc_6_grey_81k-hpo</a>"
      ],
      "text/plain": [
       "<IPython.core.display.HTML object>"
      ]
     },
     "metadata": {},
     "output_type": "display_data"
    },
    {
     "data": {
      "text/html": [
       " View run at <a href='https://wandb.ai/totikos/model_cnn_mfcc_6_grey_81k-hpo/runs/wg4sk6tw' target=\"_blank\">https://wandb.ai/totikos/model_cnn_mfcc_6_grey_81k-hpo/runs/wg4sk6tw</a>"
      ],
      "text/plain": [
       "<IPython.core.display.HTML object>"
      ]
     },
     "metadata": {},
     "output_type": "display_data"
    },
    {
     "name": "stderr",
     "output_type": "stream",
     "text": [
      "100%|████████████████████████████████████████| 380/380 [01:25<00:00,  4.43it/s]\n",
      "100%|██████████████████████████████████████████| 82/82 [00:06<00:00, 12.02it/s]\n",
      "[I 2024-01-07 00:10:47,402] Trial 25 pruned. \n"
     ]
    },
    {
     "name": "stdout",
     "output_type": "stream",
     "text": [
      "{'out_channels_l1': 64, 'out_channels_l2': 32, 'conv_kernel_size': 5, 'dropout_rate': 0.1}\n"
     ]
    },
    {
     "data": {
      "text/html": [
       "Finishing last run (ID:wg4sk6tw) before initializing another..."
      ],
      "text/plain": [
       "<IPython.core.display.HTML object>"
      ]
     },
     "metadata": {},
     "output_type": "display_data"
    },
    {
     "data": {
      "text/html": [
       "Waiting for W&B process to finish... <strong style=\"color:green\">(success).</strong>"
      ],
      "text/plain": [
       "<IPython.core.display.HTML object>"
      ]
     },
     "metadata": {},
     "output_type": "display_data"
    },
    {
     "data": {
      "text/html": [
       " View run <strong style=\"color:#cdcd00\">25_cnn_mfcc_6_grey_81k_lr-0.0001_convf1-16_convf2-64_convker-5_dr-0.1</strong> at: <a href='https://wandb.ai/totikos/model_cnn_mfcc_6_grey_81k-hpo/runs/wg4sk6tw' target=\"_blank\">https://wandb.ai/totikos/model_cnn_mfcc_6_grey_81k-hpo/runs/wg4sk6tw</a><br/> View job at <a href='https://wandb.ai/totikos/model_cnn_mfcc_6_grey_81k-hpo/jobs/QXJ0aWZhY3RDb2xsZWN0aW9uOjEyNzk0NTQwMw==/version_details/v2' target=\"_blank\">https://wandb.ai/totikos/model_cnn_mfcc_6_grey_81k-hpo/jobs/QXJ0aWZhY3RDb2xsZWN0aW9uOjEyNzk0NTQwMw==/version_details/v2</a><br/>Synced 5 W&B file(s), 0 media file(s), 0 artifact file(s) and 0 other file(s)"
      ],
      "text/plain": [
       "<IPython.core.display.HTML object>"
      ]
     },
     "metadata": {},
     "output_type": "display_data"
    },
    {
     "data": {
      "text/html": [
       "Find logs at: <code>C:\\Users\\nekta\\OneDrive\\Desktop\\botanic-emotion-recognition\\logs\\wandb\\run-20240107_000908-wg4sk6tw\\logs</code>"
      ],
      "text/plain": [
       "<IPython.core.display.HTML object>"
      ]
     },
     "metadata": {},
     "output_type": "display_data"
    },
    {
     "data": {
      "text/html": [
       "Successfully finished last run (ID:wg4sk6tw). Initializing new run:<br/>"
      ],
      "text/plain": [
       "<IPython.core.display.HTML object>"
      ]
     },
     "metadata": {},
     "output_type": "display_data"
    },
    {
     "data": {
      "text/html": [
       "wandb version 0.16.1 is available!  To upgrade, please run:\n",
       " $ pip install wandb --upgrade"
      ],
      "text/plain": [
       "<IPython.core.display.HTML object>"
      ]
     },
     "metadata": {},
     "output_type": "display_data"
    },
    {
     "data": {
      "text/html": [
       "Tracking run with wandb version 0.15.12"
      ],
      "text/plain": [
       "<IPython.core.display.HTML object>"
      ]
     },
     "metadata": {},
     "output_type": "display_data"
    },
    {
     "data": {
      "text/html": [
       "Run data is saved locally in <code>C:\\Users\\nekta\\OneDrive\\Desktop\\botanic-emotion-recognition\\logs\\wandb\\run-20240107_001047-w3po0r27</code>"
      ],
      "text/plain": [
       "<IPython.core.display.HTML object>"
      ]
     },
     "metadata": {},
     "output_type": "display_data"
    },
    {
     "data": {
      "text/html": [
       "Syncing run <strong><a href='https://wandb.ai/totikos/model_cnn_mfcc_6_grey_81k-hpo/runs/w3po0r27' target=\"_blank\">26_cnn_mfcc_6_grey_81k_lr-0.001_convf1-64_convf2-32_convker-5_dr-0.1</a></strong> to <a href='https://wandb.ai/totikos/model_cnn_mfcc_6_grey_81k-hpo' target=\"_blank\">Weights & Biases</a> (<a href='https://wandb.me/run' target=\"_blank\">docs</a>)<br/>"
      ],
      "text/plain": [
       "<IPython.core.display.HTML object>"
      ]
     },
     "metadata": {},
     "output_type": "display_data"
    },
    {
     "data": {
      "text/html": [
       " View project at <a href='https://wandb.ai/totikos/model_cnn_mfcc_6_grey_81k-hpo' target=\"_blank\">https://wandb.ai/totikos/model_cnn_mfcc_6_grey_81k-hpo</a>"
      ],
      "text/plain": [
       "<IPython.core.display.HTML object>"
      ]
     },
     "metadata": {},
     "output_type": "display_data"
    },
    {
     "data": {
      "text/html": [
       " View run at <a href='https://wandb.ai/totikos/model_cnn_mfcc_6_grey_81k-hpo/runs/w3po0r27' target=\"_blank\">https://wandb.ai/totikos/model_cnn_mfcc_6_grey_81k-hpo/runs/w3po0r27</a>"
      ],
      "text/plain": [
       "<IPython.core.display.HTML object>"
      ]
     },
     "metadata": {},
     "output_type": "display_data"
    },
    {
     "name": "stderr",
     "output_type": "stream",
     "text": [
      "100%|████████████████████████████████████████| 380/380 [03:27<00:00,  1.83it/s]\n",
      "100%|██████████████████████████████████████████| 82/82 [00:16<00:00,  4.92it/s]\n",
      "100%|████████████████████████████████████████| 380/380 [03:39<00:00,  1.73it/s]\n",
      "100%|██████████████████████████████████████████| 82/82 [00:19<00:00,  4.27it/s]\n",
      "100%|████████████████████████████████████████| 380/380 [03:21<00:00,  1.89it/s]\n",
      "100%|██████████████████████████████████████████| 82/82 [00:17<00:00,  4.82it/s]\n",
      "[I 2024-01-07 00:22:14,363] Trial 26 pruned. \n"
     ]
    },
    {
     "name": "stdout",
     "output_type": "stream",
     "text": [
      "{'out_channels_l1': 64, 'out_channels_l2': 64, 'conv_kernel_size': 3, 'dropout_rate': 0.2}\n"
     ]
    },
    {
     "data": {
      "text/html": [
       "Finishing last run (ID:w3po0r27) before initializing another..."
      ],
      "text/plain": [
       "<IPython.core.display.HTML object>"
      ]
     },
     "metadata": {},
     "output_type": "display_data"
    },
    {
     "data": {
      "text/html": [
       "Waiting for W&B process to finish... <strong style=\"color:green\">(success).</strong>"
      ],
      "text/plain": [
       "<IPython.core.display.HTML object>"
      ]
     },
     "metadata": {},
     "output_type": "display_data"
    },
    {
     "data": {
      "text/html": [
       "<style>\n",
       "    table.wandb td:nth-child(1) { padding: 0 10px; text-align: left ; width: auto;} td:nth-child(2) {text-align: left ; width: 100%}\n",
       "    .wandb-row { display: flex; flex-direction: row; flex-wrap: wrap; justify-content: flex-start; width: 100% }\n",
       "    .wandb-col { display: flex; flex-direction: column; flex-basis: 100%; flex: 1; padding: 10px; }\n",
       "    </style>\n",
       "<div class=\"wandb-row\"><div class=\"wandb-col\"><h3>Run history:</h3><br/><table class=\"wandb\"><tr><td>accuracy</td><td>▁█</td></tr><tr><td>balanced_accuracy</td><td>▁█</td></tr><tr><td>f1_weighted</td><td>▁█</td></tr><tr><td>precision</td><td>▁█</td></tr><tr><td>recall</td><td>▁█</td></tr></table><br/></div><div class=\"wandb-col\"><h3>Run summary:</h3><br/><table class=\"wandb\"><tr><td>accuracy</td><td>0.51538</td></tr><tr><td>balanced_accuracy</td><td>0.35709</td></tr><tr><td>f1_weighted</td><td>0.49584</td></tr><tr><td>precision</td><td>0.49536</td></tr><tr><td>recall</td><td>0.51538</td></tr></table><br/></div></div>"
      ],
      "text/plain": [
       "<IPython.core.display.HTML object>"
      ]
     },
     "metadata": {},
     "output_type": "display_data"
    },
    {
     "data": {
      "text/html": [
       " View run <strong style=\"color:#cdcd00\">26_cnn_mfcc_6_grey_81k_lr-0.001_convf1-64_convf2-32_convker-5_dr-0.1</strong> at: <a href='https://wandb.ai/totikos/model_cnn_mfcc_6_grey_81k-hpo/runs/w3po0r27' target=\"_blank\">https://wandb.ai/totikos/model_cnn_mfcc_6_grey_81k-hpo/runs/w3po0r27</a><br/> View job at <a href='https://wandb.ai/totikos/model_cnn_mfcc_6_grey_81k-hpo/jobs/QXJ0aWZhY3RDb2xsZWN0aW9uOjEyNzk0NTQwMw==/version_details/v3' target=\"_blank\">https://wandb.ai/totikos/model_cnn_mfcc_6_grey_81k-hpo/jobs/QXJ0aWZhY3RDb2xsZWN0aW9uOjEyNzk0NTQwMw==/version_details/v3</a><br/>Synced 5 W&B file(s), 0 media file(s), 2 artifact file(s) and 0 other file(s)"
      ],
      "text/plain": [
       "<IPython.core.display.HTML object>"
      ]
     },
     "metadata": {},
     "output_type": "display_data"
    },
    {
     "data": {
      "text/html": [
       "Find logs at: <code>C:\\Users\\nekta\\OneDrive\\Desktop\\botanic-emotion-recognition\\logs\\wandb\\run-20240107_001047-w3po0r27\\logs</code>"
      ],
      "text/plain": [
       "<IPython.core.display.HTML object>"
      ]
     },
     "metadata": {},
     "output_type": "display_data"
    },
    {
     "data": {
      "text/html": [
       "Successfully finished last run (ID:w3po0r27). Initializing new run:<br/>"
      ],
      "text/plain": [
       "<IPython.core.display.HTML object>"
      ]
     },
     "metadata": {},
     "output_type": "display_data"
    },
    {
     "data": {
      "text/html": [
       "wandb version 0.16.1 is available!  To upgrade, please run:\n",
       " $ pip install wandb --upgrade"
      ],
      "text/plain": [
       "<IPython.core.display.HTML object>"
      ]
     },
     "metadata": {},
     "output_type": "display_data"
    },
    {
     "data": {
      "text/html": [
       "Tracking run with wandb version 0.15.12"
      ],
      "text/plain": [
       "<IPython.core.display.HTML object>"
      ]
     },
     "metadata": {},
     "output_type": "display_data"
    },
    {
     "data": {
      "text/html": [
       "Run data is saved locally in <code>C:\\Users\\nekta\\OneDrive\\Desktop\\botanic-emotion-recognition\\logs\\wandb\\run-20240107_002214-fp4k6dhc</code>"
      ],
      "text/plain": [
       "<IPython.core.display.HTML object>"
      ]
     },
     "metadata": {},
     "output_type": "display_data"
    },
    {
     "data": {
      "text/html": [
       "Syncing run <strong><a href='https://wandb.ai/totikos/model_cnn_mfcc_6_grey_81k-hpo/runs/fp4k6dhc' target=\"_blank\">27_cnn_mfcc_6_grey_81k_lr-0.01_convf1-64_convf2-64_convker-3_dr-0.2</a></strong> to <a href='https://wandb.ai/totikos/model_cnn_mfcc_6_grey_81k-hpo' target=\"_blank\">Weights & Biases</a> (<a href='https://wandb.me/run' target=\"_blank\">docs</a>)<br/>"
      ],
      "text/plain": [
       "<IPython.core.display.HTML object>"
      ]
     },
     "metadata": {},
     "output_type": "display_data"
    },
    {
     "data": {
      "text/html": [
       " View project at <a href='https://wandb.ai/totikos/model_cnn_mfcc_6_grey_81k-hpo' target=\"_blank\">https://wandb.ai/totikos/model_cnn_mfcc_6_grey_81k-hpo</a>"
      ],
      "text/plain": [
       "<IPython.core.display.HTML object>"
      ]
     },
     "metadata": {},
     "output_type": "display_data"
    },
    {
     "data": {
      "text/html": [
       " View run at <a href='https://wandb.ai/totikos/model_cnn_mfcc_6_grey_81k-hpo/runs/fp4k6dhc' target=\"_blank\">https://wandb.ai/totikos/model_cnn_mfcc_6_grey_81k-hpo/runs/fp4k6dhc</a>"
      ],
      "text/plain": [
       "<IPython.core.display.HTML object>"
      ]
     },
     "metadata": {},
     "output_type": "display_data"
    },
    {
     "name": "stderr",
     "output_type": "stream",
     "text": [
      "100%|████████████████████████████████████████| 380/380 [02:59<00:00,  2.11it/s]\n",
      "100%|██████████████████████████████████████████| 82/82 [00:18<00:00,  4.49it/s]\n",
      "[I 2024-01-07 00:25:42,145] Trial 27 pruned. \n"
     ]
    },
    {
     "name": "stdout",
     "output_type": "stream",
     "text": [
      "{'out_channels_l1': 32, 'out_channels_l2': 64, 'conv_kernel_size': 3, 'dropout_rate': 0.0}\n"
     ]
    },
    {
     "data": {
      "text/html": [
       "Finishing last run (ID:fp4k6dhc) before initializing another..."
      ],
      "text/plain": [
       "<IPython.core.display.HTML object>"
      ]
     },
     "metadata": {},
     "output_type": "display_data"
    },
    {
     "data": {
      "text/html": [
       "Waiting for W&B process to finish... <strong style=\"color:green\">(success).</strong>"
      ],
      "text/plain": [
       "<IPython.core.display.HTML object>"
      ]
     },
     "metadata": {},
     "output_type": "display_data"
    },
    {
     "data": {
      "text/html": [
       " View run <strong style=\"color:#cdcd00\">27_cnn_mfcc_6_grey_81k_lr-0.01_convf1-64_convf2-64_convker-3_dr-0.2</strong> at: <a href='https://wandb.ai/totikos/model_cnn_mfcc_6_grey_81k-hpo/runs/fp4k6dhc' target=\"_blank\">https://wandb.ai/totikos/model_cnn_mfcc_6_grey_81k-hpo/runs/fp4k6dhc</a><br/> View job at <a href='https://wandb.ai/totikos/model_cnn_mfcc_6_grey_81k-hpo/jobs/QXJ0aWZhY3RDb2xsZWN0aW9uOjEyNzk0NTQwMw==/version_details/v4' target=\"_blank\">https://wandb.ai/totikos/model_cnn_mfcc_6_grey_81k-hpo/jobs/QXJ0aWZhY3RDb2xsZWN0aW9uOjEyNzk0NTQwMw==/version_details/v4</a><br/>Synced 5 W&B file(s), 0 media file(s), 0 artifact file(s) and 0 other file(s)"
      ],
      "text/plain": [
       "<IPython.core.display.HTML object>"
      ]
     },
     "metadata": {},
     "output_type": "display_data"
    },
    {
     "data": {
      "text/html": [
       "Find logs at: <code>C:\\Users\\nekta\\OneDrive\\Desktop\\botanic-emotion-recognition\\logs\\wandb\\run-20240107_002214-fp4k6dhc\\logs</code>"
      ],
      "text/plain": [
       "<IPython.core.display.HTML object>"
      ]
     },
     "metadata": {},
     "output_type": "display_data"
    },
    {
     "data": {
      "text/html": [
       "Successfully finished last run (ID:fp4k6dhc). Initializing new run:<br/>"
      ],
      "text/plain": [
       "<IPython.core.display.HTML object>"
      ]
     },
     "metadata": {},
     "output_type": "display_data"
    },
    {
     "data": {
      "text/html": [
       "wandb version 0.16.1 is available!  To upgrade, please run:\n",
       " $ pip install wandb --upgrade"
      ],
      "text/plain": [
       "<IPython.core.display.HTML object>"
      ]
     },
     "metadata": {},
     "output_type": "display_data"
    },
    {
     "data": {
      "text/html": [
       "Tracking run with wandb version 0.15.12"
      ],
      "text/plain": [
       "<IPython.core.display.HTML object>"
      ]
     },
     "metadata": {},
     "output_type": "display_data"
    },
    {
     "data": {
      "text/html": [
       "Run data is saved locally in <code>C:\\Users\\nekta\\OneDrive\\Desktop\\botanic-emotion-recognition\\logs\\wandb\\run-20240107_002542-s0b8dtli</code>"
      ],
      "text/plain": [
       "<IPython.core.display.HTML object>"
      ]
     },
     "metadata": {},
     "output_type": "display_data"
    },
    {
     "data": {
      "text/html": [
       "Syncing run <strong><a href='https://wandb.ai/totikos/model_cnn_mfcc_6_grey_81k-hpo/runs/s0b8dtli' target=\"_blank\">28_cnn_mfcc_6_grey_81k_lr-0.01_convf1-32_convf2-64_convker-3_dr-0.0</a></strong> to <a href='https://wandb.ai/totikos/model_cnn_mfcc_6_grey_81k-hpo' target=\"_blank\">Weights & Biases</a> (<a href='https://wandb.me/run' target=\"_blank\">docs</a>)<br/>"
      ],
      "text/plain": [
       "<IPython.core.display.HTML object>"
      ]
     },
     "metadata": {},
     "output_type": "display_data"
    },
    {
     "data": {
      "text/html": [
       " View project at <a href='https://wandb.ai/totikos/model_cnn_mfcc_6_grey_81k-hpo' target=\"_blank\">https://wandb.ai/totikos/model_cnn_mfcc_6_grey_81k-hpo</a>"
      ],
      "text/plain": [
       "<IPython.core.display.HTML object>"
      ]
     },
     "metadata": {},
     "output_type": "display_data"
    },
    {
     "data": {
      "text/html": [
       " View run at <a href='https://wandb.ai/totikos/model_cnn_mfcc_6_grey_81k-hpo/runs/s0b8dtli' target=\"_blank\">https://wandb.ai/totikos/model_cnn_mfcc_6_grey_81k-hpo/runs/s0b8dtli</a>"
      ],
      "text/plain": [
       "<IPython.core.display.HTML object>"
      ]
     },
     "metadata": {},
     "output_type": "display_data"
    },
    {
     "name": "stderr",
     "output_type": "stream",
     "text": [
      "100%|████████████████████████████████████████| 380/380 [01:42<00:00,  3.71it/s]\n",
      "100%|██████████████████████████████████████████| 82/82 [00:11<00:00,  6.87it/s]\n",
      "100%|████████████████████████████████████████| 380/380 [01:45<00:00,  3.62it/s]\n",
      "100%|██████████████████████████████████████████| 82/82 [00:09<00:00,  8.38it/s]\n",
      "[I 2024-01-07 00:29:37,793] Trial 28 pruned. \n"
     ]
    },
    {
     "name": "stdout",
     "output_type": "stream",
     "text": [
      "{'out_channels_l1': 16, 'out_channels_l2': 32, 'conv_kernel_size': 5, 'dropout_rate': 0.1}\n"
     ]
    },
    {
     "data": {
      "text/html": [
       "Finishing last run (ID:s0b8dtli) before initializing another..."
      ],
      "text/plain": [
       "<IPython.core.display.HTML object>"
      ]
     },
     "metadata": {},
     "output_type": "display_data"
    },
    {
     "data": {
      "text/html": [
       "Waiting for W&B process to finish... <strong style=\"color:green\">(success).</strong>"
      ],
      "text/plain": [
       "<IPython.core.display.HTML object>"
      ]
     },
     "metadata": {},
     "output_type": "display_data"
    },
    {
     "data": {
      "text/html": [
       "<style>\n",
       "    table.wandb td:nth-child(1) { padding: 0 10px; text-align: left ; width: auto;} td:nth-child(2) {text-align: left ; width: 100%}\n",
       "    .wandb-row { display: flex; flex-direction: row; flex-wrap: wrap; justify-content: flex-start; width: 100% }\n",
       "    .wandb-col { display: flex; flex-direction: column; flex-basis: 100%; flex: 1; padding: 10px; }\n",
       "    </style>\n",
       "<div class=\"wandb-row\"><div class=\"wandb-col\"><h3>Run history:</h3><br/><table class=\"wandb\"><tr><td>accuracy</td><td>▁</td></tr><tr><td>balanced_accuracy</td><td>▁</td></tr><tr><td>f1_weighted</td><td>▁</td></tr><tr><td>precision</td><td>▁</td></tr><tr><td>recall</td><td>▁</td></tr></table><br/></div><div class=\"wandb-col\"><h3>Run summary:</h3><br/><table class=\"wandb\"><tr><td>accuracy</td><td>0.47154</td></tr><tr><td>balanced_accuracy</td><td>0.31599</td></tr><tr><td>f1_weighted</td><td>0.43454</td></tr><tr><td>precision</td><td>0.44188</td></tr><tr><td>recall</td><td>0.47154</td></tr></table><br/></div></div>"
      ],
      "text/plain": [
       "<IPython.core.display.HTML object>"
      ]
     },
     "metadata": {},
     "output_type": "display_data"
    },
    {
     "data": {
      "text/html": [
       " View run <strong style=\"color:#cdcd00\">28_cnn_mfcc_6_grey_81k_lr-0.01_convf1-32_convf2-64_convker-3_dr-0.0</strong> at: <a href='https://wandb.ai/totikos/model_cnn_mfcc_6_grey_81k-hpo/runs/s0b8dtli' target=\"_blank\">https://wandb.ai/totikos/model_cnn_mfcc_6_grey_81k-hpo/runs/s0b8dtli</a><br/> View job at <a href='https://wandb.ai/totikos/model_cnn_mfcc_6_grey_81k-hpo/jobs/QXJ0aWZhY3RDb2xsZWN0aW9uOjEyNzk0NTQwMw==/version_details/v3' target=\"_blank\">https://wandb.ai/totikos/model_cnn_mfcc_6_grey_81k-hpo/jobs/QXJ0aWZhY3RDb2xsZWN0aW9uOjEyNzk0NTQwMw==/version_details/v3</a><br/>Synced 5 W&B file(s), 0 media file(s), 0 artifact file(s) and 0 other file(s)"
      ],
      "text/plain": [
       "<IPython.core.display.HTML object>"
      ]
     },
     "metadata": {},
     "output_type": "display_data"
    },
    {
     "data": {
      "text/html": [
       "Find logs at: <code>C:\\Users\\nekta\\OneDrive\\Desktop\\botanic-emotion-recognition\\logs\\wandb\\run-20240107_002542-s0b8dtli\\logs</code>"
      ],
      "text/plain": [
       "<IPython.core.display.HTML object>"
      ]
     },
     "metadata": {},
     "output_type": "display_data"
    },
    {
     "data": {
      "text/html": [
       "Successfully finished last run (ID:s0b8dtli). Initializing new run:<br/>"
      ],
      "text/plain": [
       "<IPython.core.display.HTML object>"
      ]
     },
     "metadata": {},
     "output_type": "display_data"
    },
    {
     "data": {
      "text/html": [
       "wandb version 0.16.1 is available!  To upgrade, please run:\n",
       " $ pip install wandb --upgrade"
      ],
      "text/plain": [
       "<IPython.core.display.HTML object>"
      ]
     },
     "metadata": {},
     "output_type": "display_data"
    },
    {
     "data": {
      "text/html": [
       "Tracking run with wandb version 0.15.12"
      ],
      "text/plain": [
       "<IPython.core.display.HTML object>"
      ]
     },
     "metadata": {},
     "output_type": "display_data"
    },
    {
     "data": {
      "text/html": [
       "Run data is saved locally in <code>C:\\Users\\nekta\\OneDrive\\Desktop\\botanic-emotion-recognition\\logs\\wandb\\run-20240107_002937-x1fycbvj</code>"
      ],
      "text/plain": [
       "<IPython.core.display.HTML object>"
      ]
     },
     "metadata": {},
     "output_type": "display_data"
    },
    {
     "data": {
      "text/html": [
       "Syncing run <strong><a href='https://wandb.ai/totikos/model_cnn_mfcc_6_grey_81k-hpo/runs/x1fycbvj' target=\"_blank\">29_cnn_mfcc_6_grey_81k_lr-0.0001_convf1-16_convf2-32_convker-5_dr-0.1</a></strong> to <a href='https://wandb.ai/totikos/model_cnn_mfcc_6_grey_81k-hpo' target=\"_blank\">Weights & Biases</a> (<a href='https://wandb.me/run' target=\"_blank\">docs</a>)<br/>"
      ],
      "text/plain": [
       "<IPython.core.display.HTML object>"
      ]
     },
     "metadata": {},
     "output_type": "display_data"
    },
    {
     "data": {
      "text/html": [
       " View project at <a href='https://wandb.ai/totikos/model_cnn_mfcc_6_grey_81k-hpo' target=\"_blank\">https://wandb.ai/totikos/model_cnn_mfcc_6_grey_81k-hpo</a>"
      ],
      "text/plain": [
       "<IPython.core.display.HTML object>"
      ]
     },
     "metadata": {},
     "output_type": "display_data"
    },
    {
     "data": {
      "text/html": [
       " View run at <a href='https://wandb.ai/totikos/model_cnn_mfcc_6_grey_81k-hpo/runs/x1fycbvj' target=\"_blank\">https://wandb.ai/totikos/model_cnn_mfcc_6_grey_81k-hpo/runs/x1fycbvj</a>"
      ],
      "text/plain": [
       "<IPython.core.display.HTML object>"
      ]
     },
     "metadata": {},
     "output_type": "display_data"
    },
    {
     "name": "stderr",
     "output_type": "stream",
     "text": [
      "100%|████████████████████████████████████████| 380/380 [01:01<00:00,  6.18it/s]\n",
      "100%|██████████████████████████████████████████| 82/82 [00:05<00:00, 16.08it/s]\n",
      "[I 2024-01-07 00:30:50,527] Trial 29 pruned. \n"
     ]
    },
    {
     "name": "stdout",
     "output_type": "stream",
     "text": [
      "{'out_channels_l1': 32, 'out_channels_l2': 64, 'conv_kernel_size': 3, 'dropout_rate': 0.1}\n"
     ]
    },
    {
     "data": {
      "text/html": [
       "Finishing last run (ID:x1fycbvj) before initializing another..."
      ],
      "text/plain": [
       "<IPython.core.display.HTML object>"
      ]
     },
     "metadata": {},
     "output_type": "display_data"
    },
    {
     "data": {
      "text/html": [
       "Waiting for W&B process to finish... <strong style=\"color:green\">(success).</strong>"
      ],
      "text/plain": [
       "<IPython.core.display.HTML object>"
      ]
     },
     "metadata": {},
     "output_type": "display_data"
    },
    {
     "data": {
      "text/html": [
       " View run <strong style=\"color:#cdcd00\">29_cnn_mfcc_6_grey_81k_lr-0.0001_convf1-16_convf2-32_convker-5_dr-0.1</strong> at: <a href='https://wandb.ai/totikos/model_cnn_mfcc_6_grey_81k-hpo/runs/x1fycbvj' target=\"_blank\">https://wandb.ai/totikos/model_cnn_mfcc_6_grey_81k-hpo/runs/x1fycbvj</a><br/> View job at <a href='https://wandb.ai/totikos/model_cnn_mfcc_6_grey_81k-hpo/jobs/QXJ0aWZhY3RDb2xsZWN0aW9uOjEyNzk0NTQwMw==/version_details/v4' target=\"_blank\">https://wandb.ai/totikos/model_cnn_mfcc_6_grey_81k-hpo/jobs/QXJ0aWZhY3RDb2xsZWN0aW9uOjEyNzk0NTQwMw==/version_details/v4</a><br/>Synced 5 W&B file(s), 0 media file(s), 0 artifact file(s) and 0 other file(s)"
      ],
      "text/plain": [
       "<IPython.core.display.HTML object>"
      ]
     },
     "metadata": {},
     "output_type": "display_data"
    },
    {
     "data": {
      "text/html": [
       "Find logs at: <code>C:\\Users\\nekta\\OneDrive\\Desktop\\botanic-emotion-recognition\\logs\\wandb\\run-20240107_002937-x1fycbvj\\logs</code>"
      ],
      "text/plain": [
       "<IPython.core.display.HTML object>"
      ]
     },
     "metadata": {},
     "output_type": "display_data"
    },
    {
     "data": {
      "text/html": [
       "Successfully finished last run (ID:x1fycbvj). Initializing new run:<br/>"
      ],
      "text/plain": [
       "<IPython.core.display.HTML object>"
      ]
     },
     "metadata": {},
     "output_type": "display_data"
    },
    {
     "data": {
      "text/html": [
       "wandb version 0.16.1 is available!  To upgrade, please run:\n",
       " $ pip install wandb --upgrade"
      ],
      "text/plain": [
       "<IPython.core.display.HTML object>"
      ]
     },
     "metadata": {},
     "output_type": "display_data"
    },
    {
     "data": {
      "text/html": [
       "Tracking run with wandb version 0.15.12"
      ],
      "text/plain": [
       "<IPython.core.display.HTML object>"
      ]
     },
     "metadata": {},
     "output_type": "display_data"
    },
    {
     "data": {
      "text/html": [
       "Run data is saved locally in <code>C:\\Users\\nekta\\OneDrive\\Desktop\\botanic-emotion-recognition\\logs\\wandb\\run-20240107_003050-b9bqar0i</code>"
      ],
      "text/plain": [
       "<IPython.core.display.HTML object>"
      ]
     },
     "metadata": {},
     "output_type": "display_data"
    },
    {
     "data": {
      "text/html": [
       "Syncing run <strong><a href='https://wandb.ai/totikos/model_cnn_mfcc_6_grey_81k-hpo/runs/b9bqar0i' target=\"_blank\">30_cnn_mfcc_6_grey_81k_lr-0.01_convf1-32_convf2-64_convker-3_dr-0.1</a></strong> to <a href='https://wandb.ai/totikos/model_cnn_mfcc_6_grey_81k-hpo' target=\"_blank\">Weights & Biases</a> (<a href='https://wandb.me/run' target=\"_blank\">docs</a>)<br/>"
      ],
      "text/plain": [
       "<IPython.core.display.HTML object>"
      ]
     },
     "metadata": {},
     "output_type": "display_data"
    },
    {
     "data": {
      "text/html": [
       " View project at <a href='https://wandb.ai/totikos/model_cnn_mfcc_6_grey_81k-hpo' target=\"_blank\">https://wandb.ai/totikos/model_cnn_mfcc_6_grey_81k-hpo</a>"
      ],
      "text/plain": [
       "<IPython.core.display.HTML object>"
      ]
     },
     "metadata": {},
     "output_type": "display_data"
    },
    {
     "data": {
      "text/html": [
       " View run at <a href='https://wandb.ai/totikos/model_cnn_mfcc_6_grey_81k-hpo/runs/b9bqar0i' target=\"_blank\">https://wandb.ai/totikos/model_cnn_mfcc_6_grey_81k-hpo/runs/b9bqar0i</a>"
      ],
      "text/plain": [
       "<IPython.core.display.HTML object>"
      ]
     },
     "metadata": {},
     "output_type": "display_data"
    },
    {
     "name": "stderr",
     "output_type": "stream",
     "text": [
      "100%|████████████████████████████████████████| 380/380 [01:48<00:00,  3.49it/s]\n",
      "100%|██████████████████████████████████████████| 82/82 [00:09<00:00,  8.45it/s]\n",
      "[I 2024-01-07 00:32:55,184] Trial 30 pruned. \n"
     ]
    },
    {
     "name": "stdout",
     "output_type": "stream",
     "text": [
      "{'out_channels_l1': 64, 'out_channels_l2': 32, 'conv_kernel_size': 3, 'dropout_rate': 0.2}\n"
     ]
    },
    {
     "data": {
      "text/html": [
       "Finishing last run (ID:b9bqar0i) before initializing another..."
      ],
      "text/plain": [
       "<IPython.core.display.HTML object>"
      ]
     },
     "metadata": {},
     "output_type": "display_data"
    },
    {
     "data": {
      "text/html": [
       "Waiting for W&B process to finish... <strong style=\"color:green\">(success).</strong>"
      ],
      "text/plain": [
       "<IPython.core.display.HTML object>"
      ]
     },
     "metadata": {},
     "output_type": "display_data"
    },
    {
     "data": {
      "text/html": [
       " View run <strong style=\"color:#cdcd00\">30_cnn_mfcc_6_grey_81k_lr-0.01_convf1-32_convf2-64_convker-3_dr-0.1</strong> at: <a href='https://wandb.ai/totikos/model_cnn_mfcc_6_grey_81k-hpo/runs/b9bqar0i' target=\"_blank\">https://wandb.ai/totikos/model_cnn_mfcc_6_grey_81k-hpo/runs/b9bqar0i</a><br/> View job at <a href='https://wandb.ai/totikos/model_cnn_mfcc_6_grey_81k-hpo/jobs/QXJ0aWZhY3RDb2xsZWN0aW9uOjEyNzk0NTQwMw==/version_details/v4' target=\"_blank\">https://wandb.ai/totikos/model_cnn_mfcc_6_grey_81k-hpo/jobs/QXJ0aWZhY3RDb2xsZWN0aW9uOjEyNzk0NTQwMw==/version_details/v4</a><br/>Synced 5 W&B file(s), 0 media file(s), 0 artifact file(s) and 0 other file(s)"
      ],
      "text/plain": [
       "<IPython.core.display.HTML object>"
      ]
     },
     "metadata": {},
     "output_type": "display_data"
    },
    {
     "data": {
      "text/html": [
       "Find logs at: <code>C:\\Users\\nekta\\OneDrive\\Desktop\\botanic-emotion-recognition\\logs\\wandb\\run-20240107_003050-b9bqar0i\\logs</code>"
      ],
      "text/plain": [
       "<IPython.core.display.HTML object>"
      ]
     },
     "metadata": {},
     "output_type": "display_data"
    },
    {
     "data": {
      "text/html": [
       "Successfully finished last run (ID:b9bqar0i). Initializing new run:<br/>"
      ],
      "text/plain": [
       "<IPython.core.display.HTML object>"
      ]
     },
     "metadata": {},
     "output_type": "display_data"
    },
    {
     "data": {
      "text/html": [
       "wandb version 0.16.1 is available!  To upgrade, please run:\n",
       " $ pip install wandb --upgrade"
      ],
      "text/plain": [
       "<IPython.core.display.HTML object>"
      ]
     },
     "metadata": {},
     "output_type": "display_data"
    },
    {
     "data": {
      "text/html": [
       "Tracking run with wandb version 0.15.12"
      ],
      "text/plain": [
       "<IPython.core.display.HTML object>"
      ]
     },
     "metadata": {},
     "output_type": "display_data"
    },
    {
     "data": {
      "text/html": [
       "Run data is saved locally in <code>C:\\Users\\nekta\\OneDrive\\Desktop\\botanic-emotion-recognition\\logs\\wandb\\run-20240107_003255-4yvmt0m1</code>"
      ],
      "text/plain": [
       "<IPython.core.display.HTML object>"
      ]
     },
     "metadata": {},
     "output_type": "display_data"
    },
    {
     "data": {
      "text/html": [
       "Syncing run <strong><a href='https://wandb.ai/totikos/model_cnn_mfcc_6_grey_81k-hpo/runs/4yvmt0m1' target=\"_blank\">31_cnn_mfcc_6_grey_81k_lr-0.001_convf1-64_convf2-32_convker-3_dr-0.2</a></strong> to <a href='https://wandb.ai/totikos/model_cnn_mfcc_6_grey_81k-hpo' target=\"_blank\">Weights & Biases</a> (<a href='https://wandb.me/run' target=\"_blank\">docs</a>)<br/>"
      ],
      "text/plain": [
       "<IPython.core.display.HTML object>"
      ]
     },
     "metadata": {},
     "output_type": "display_data"
    },
    {
     "data": {
      "text/html": [
       " View project at <a href='https://wandb.ai/totikos/model_cnn_mfcc_6_grey_81k-hpo' target=\"_blank\">https://wandb.ai/totikos/model_cnn_mfcc_6_grey_81k-hpo</a>"
      ],
      "text/plain": [
       "<IPython.core.display.HTML object>"
      ]
     },
     "metadata": {},
     "output_type": "display_data"
    },
    {
     "data": {
      "text/html": [
       " View run at <a href='https://wandb.ai/totikos/model_cnn_mfcc_6_grey_81k-hpo/runs/4yvmt0m1' target=\"_blank\">https://wandb.ai/totikos/model_cnn_mfcc_6_grey_81k-hpo/runs/4yvmt0m1</a>"
      ],
      "text/plain": [
       "<IPython.core.display.HTML object>"
      ]
     },
     "metadata": {},
     "output_type": "display_data"
    },
    {
     "name": "stderr",
     "output_type": "stream",
     "text": [
      "100%|████████████████████████████████████████| 380/380 [02:27<00:00,  2.57it/s]\n",
      "100%|██████████████████████████████████████████| 82/82 [00:13<00:00,  6.18it/s]\n",
      "[I 2024-01-07 00:35:42,672] Trial 31 pruned. \n"
     ]
    },
    {
     "name": "stdout",
     "output_type": "stream",
     "text": [
      "{'out_channels_l1': 32, 'out_channels_l2': 32, 'conv_kernel_size': 5, 'dropout_rate': 0.2}\n"
     ]
    },
    {
     "data": {
      "text/html": [
       "Finishing last run (ID:4yvmt0m1) before initializing another..."
      ],
      "text/plain": [
       "<IPython.core.display.HTML object>"
      ]
     },
     "metadata": {},
     "output_type": "display_data"
    },
    {
     "data": {
      "text/html": [
       "Waiting for W&B process to finish... <strong style=\"color:green\">(success).</strong>"
      ],
      "text/plain": [
       "<IPython.core.display.HTML object>"
      ]
     },
     "metadata": {},
     "output_type": "display_data"
    },
    {
     "data": {
      "text/html": [
       " View run <strong style=\"color:#cdcd00\">31_cnn_mfcc_6_grey_81k_lr-0.001_convf1-64_convf2-32_convker-3_dr-0.2</strong> at: <a href='https://wandb.ai/totikos/model_cnn_mfcc_6_grey_81k-hpo/runs/4yvmt0m1' target=\"_blank\">https://wandb.ai/totikos/model_cnn_mfcc_6_grey_81k-hpo/runs/4yvmt0m1</a><br/> View job at <a href='https://wandb.ai/totikos/model_cnn_mfcc_6_grey_81k-hpo/jobs/QXJ0aWZhY3RDb2xsZWN0aW9uOjEyNzk0NTQwMw==/version_details/v4' target=\"_blank\">https://wandb.ai/totikos/model_cnn_mfcc_6_grey_81k-hpo/jobs/QXJ0aWZhY3RDb2xsZWN0aW9uOjEyNzk0NTQwMw==/version_details/v4</a><br/>Synced 5 W&B file(s), 0 media file(s), 0 artifact file(s) and 0 other file(s)"
      ],
      "text/plain": [
       "<IPython.core.display.HTML object>"
      ]
     },
     "metadata": {},
     "output_type": "display_data"
    },
    {
     "data": {
      "text/html": [
       "Find logs at: <code>C:\\Users\\nekta\\OneDrive\\Desktop\\botanic-emotion-recognition\\logs\\wandb\\run-20240107_003255-4yvmt0m1\\logs</code>"
      ],
      "text/plain": [
       "<IPython.core.display.HTML object>"
      ]
     },
     "metadata": {},
     "output_type": "display_data"
    },
    {
     "data": {
      "text/html": [
       "Successfully finished last run (ID:4yvmt0m1). Initializing new run:<br/>"
      ],
      "text/plain": [
       "<IPython.core.display.HTML object>"
      ]
     },
     "metadata": {},
     "output_type": "display_data"
    },
    {
     "data": {
      "text/html": [
       "wandb version 0.16.1 is available!  To upgrade, please run:\n",
       " $ pip install wandb --upgrade"
      ],
      "text/plain": [
       "<IPython.core.display.HTML object>"
      ]
     },
     "metadata": {},
     "output_type": "display_data"
    },
    {
     "data": {
      "text/html": [
       "Tracking run with wandb version 0.15.12"
      ],
      "text/plain": [
       "<IPython.core.display.HTML object>"
      ]
     },
     "metadata": {},
     "output_type": "display_data"
    },
    {
     "data": {
      "text/html": [
       "Run data is saved locally in <code>C:\\Users\\nekta\\OneDrive\\Desktop\\botanic-emotion-recognition\\logs\\wandb\\run-20240107_003542-cgz59bfp</code>"
      ],
      "text/plain": [
       "<IPython.core.display.HTML object>"
      ]
     },
     "metadata": {},
     "output_type": "display_data"
    },
    {
     "data": {
      "text/html": [
       "Syncing run <strong><a href='https://wandb.ai/totikos/model_cnn_mfcc_6_grey_81k-hpo/runs/cgz59bfp' target=\"_blank\">32_cnn_mfcc_6_grey_81k_lr-0.01_convf1-32_convf2-32_convker-5_dr-0.2</a></strong> to <a href='https://wandb.ai/totikos/model_cnn_mfcc_6_grey_81k-hpo' target=\"_blank\">Weights & Biases</a> (<a href='https://wandb.me/run' target=\"_blank\">docs</a>)<br/>"
      ],
      "text/plain": [
       "<IPython.core.display.HTML object>"
      ]
     },
     "metadata": {},
     "output_type": "display_data"
    },
    {
     "data": {
      "text/html": [
       " View project at <a href='https://wandb.ai/totikos/model_cnn_mfcc_6_grey_81k-hpo' target=\"_blank\">https://wandb.ai/totikos/model_cnn_mfcc_6_grey_81k-hpo</a>"
      ],
      "text/plain": [
       "<IPython.core.display.HTML object>"
      ]
     },
     "metadata": {},
     "output_type": "display_data"
    },
    {
     "data": {
      "text/html": [
       " View run at <a href='https://wandb.ai/totikos/model_cnn_mfcc_6_grey_81k-hpo/runs/cgz59bfp' target=\"_blank\">https://wandb.ai/totikos/model_cnn_mfcc_6_grey_81k-hpo/runs/cgz59bfp</a>"
      ],
      "text/plain": [
       "<IPython.core.display.HTML object>"
      ]
     },
     "metadata": {},
     "output_type": "display_data"
    },
    {
     "name": "stderr",
     "output_type": "stream",
     "text": [
      "100%|████████████████████████████████████████| 380/380 [01:44<00:00,  3.64it/s]\n",
      "100%|██████████████████████████████████████████| 82/82 [00:08<00:00,  9.60it/s]\n",
      "[I 2024-01-07 00:37:41,787] Trial 32 pruned. \n"
     ]
    },
    {
     "name": "stdout",
     "output_type": "stream",
     "text": [
      "{'out_channels_l1': 32, 'out_channels_l2': 64, 'conv_kernel_size': 5, 'dropout_rate': 0.0}\n"
     ]
    },
    {
     "data": {
      "text/html": [
       "Finishing last run (ID:cgz59bfp) before initializing another..."
      ],
      "text/plain": [
       "<IPython.core.display.HTML object>"
      ]
     },
     "metadata": {},
     "output_type": "display_data"
    },
    {
     "data": {
      "text/html": [
       "Waiting for W&B process to finish... <strong style=\"color:green\">(success).</strong>"
      ],
      "text/plain": [
       "<IPython.core.display.HTML object>"
      ]
     },
     "metadata": {},
     "output_type": "display_data"
    },
    {
     "data": {
      "text/html": [
       " View run <strong style=\"color:#cdcd00\">32_cnn_mfcc_6_grey_81k_lr-0.01_convf1-32_convf2-32_convker-5_dr-0.2</strong> at: <a href='https://wandb.ai/totikos/model_cnn_mfcc_6_grey_81k-hpo/runs/cgz59bfp' target=\"_blank\">https://wandb.ai/totikos/model_cnn_mfcc_6_grey_81k-hpo/runs/cgz59bfp</a><br/> View job at <a href='https://wandb.ai/totikos/model_cnn_mfcc_6_grey_81k-hpo/jobs/QXJ0aWZhY3RDb2xsZWN0aW9uOjEyNzk0NTQwMw==/version_details/v4' target=\"_blank\">https://wandb.ai/totikos/model_cnn_mfcc_6_grey_81k-hpo/jobs/QXJ0aWZhY3RDb2xsZWN0aW9uOjEyNzk0NTQwMw==/version_details/v4</a><br/>Synced 5 W&B file(s), 0 media file(s), 0 artifact file(s) and 0 other file(s)"
      ],
      "text/plain": [
       "<IPython.core.display.HTML object>"
      ]
     },
     "metadata": {},
     "output_type": "display_data"
    },
    {
     "data": {
      "text/html": [
       "Find logs at: <code>C:\\Users\\nekta\\OneDrive\\Desktop\\botanic-emotion-recognition\\logs\\wandb\\run-20240107_003542-cgz59bfp\\logs</code>"
      ],
      "text/plain": [
       "<IPython.core.display.HTML object>"
      ]
     },
     "metadata": {},
     "output_type": "display_data"
    },
    {
     "data": {
      "text/html": [
       "Successfully finished last run (ID:cgz59bfp). Initializing new run:<br/>"
      ],
      "text/plain": [
       "<IPython.core.display.HTML object>"
      ]
     },
     "metadata": {},
     "output_type": "display_data"
    },
    {
     "data": {
      "text/html": [
       "wandb version 0.16.1 is available!  To upgrade, please run:\n",
       " $ pip install wandb --upgrade"
      ],
      "text/plain": [
       "<IPython.core.display.HTML object>"
      ]
     },
     "metadata": {},
     "output_type": "display_data"
    },
    {
     "data": {
      "text/html": [
       "Tracking run with wandb version 0.15.12"
      ],
      "text/plain": [
       "<IPython.core.display.HTML object>"
      ]
     },
     "metadata": {},
     "output_type": "display_data"
    },
    {
     "data": {
      "text/html": [
       "Run data is saved locally in <code>C:\\Users\\nekta\\OneDrive\\Desktop\\botanic-emotion-recognition\\logs\\wandb\\run-20240107_003741-y92q15ob</code>"
      ],
      "text/plain": [
       "<IPython.core.display.HTML object>"
      ]
     },
     "metadata": {},
     "output_type": "display_data"
    },
    {
     "data": {
      "text/html": [
       "Syncing run <strong><a href='https://wandb.ai/totikos/model_cnn_mfcc_6_grey_81k-hpo/runs/y92q15ob' target=\"_blank\">33_cnn_mfcc_6_grey_81k_lr-0.01_convf1-32_convf2-64_convker-5_dr-0.0</a></strong> to <a href='https://wandb.ai/totikos/model_cnn_mfcc_6_grey_81k-hpo' target=\"_blank\">Weights & Biases</a> (<a href='https://wandb.me/run' target=\"_blank\">docs</a>)<br/>"
      ],
      "text/plain": [
       "<IPython.core.display.HTML object>"
      ]
     },
     "metadata": {},
     "output_type": "display_data"
    },
    {
     "data": {
      "text/html": [
       " View project at <a href='https://wandb.ai/totikos/model_cnn_mfcc_6_grey_81k-hpo' target=\"_blank\">https://wandb.ai/totikos/model_cnn_mfcc_6_grey_81k-hpo</a>"
      ],
      "text/plain": [
       "<IPython.core.display.HTML object>"
      ]
     },
     "metadata": {},
     "output_type": "display_data"
    },
    {
     "data": {
      "text/html": [
       " View run at <a href='https://wandb.ai/totikos/model_cnn_mfcc_6_grey_81k-hpo/runs/y92q15ob' target=\"_blank\">https://wandb.ai/totikos/model_cnn_mfcc_6_grey_81k-hpo/runs/y92q15ob</a>"
      ],
      "text/plain": [
       "<IPython.core.display.HTML object>"
      ]
     },
     "metadata": {},
     "output_type": "display_data"
    },
    {
     "name": "stderr",
     "output_type": "stream",
     "text": [
      "100%|████████████████████████████████████████| 380/380 [02:11<00:00,  2.89it/s]\n",
      "100%|██████████████████████████████████████████| 82/82 [00:11<00:00,  7.41it/s]\n",
      "[I 2024-01-07 00:40:10,328] Trial 33 pruned. \n"
     ]
    },
    {
     "name": "stdout",
     "output_type": "stream",
     "text": [
      "{'out_channels_l1': 16, 'out_channels_l2': 32, 'conv_kernel_size': 5, 'dropout_rate': 0.2}\n"
     ]
    },
    {
     "data": {
      "text/html": [
       "Finishing last run (ID:y92q15ob) before initializing another..."
      ],
      "text/plain": [
       "<IPython.core.display.HTML object>"
      ]
     },
     "metadata": {},
     "output_type": "display_data"
    },
    {
     "data": {
      "text/html": [
       "Waiting for W&B process to finish... <strong style=\"color:green\">(success).</strong>"
      ],
      "text/plain": [
       "<IPython.core.display.HTML object>"
      ]
     },
     "metadata": {},
     "output_type": "display_data"
    },
    {
     "data": {
      "text/html": [
       " View run <strong style=\"color:#cdcd00\">33_cnn_mfcc_6_grey_81k_lr-0.01_convf1-32_convf2-64_convker-5_dr-0.0</strong> at: <a href='https://wandb.ai/totikos/model_cnn_mfcc_6_grey_81k-hpo/runs/y92q15ob' target=\"_blank\">https://wandb.ai/totikos/model_cnn_mfcc_6_grey_81k-hpo/runs/y92q15ob</a><br/> View job at <a href='https://wandb.ai/totikos/model_cnn_mfcc_6_grey_81k-hpo/jobs/QXJ0aWZhY3RDb2xsZWN0aW9uOjEyNzk0NTQwMw==/version_details/v4' target=\"_blank\">https://wandb.ai/totikos/model_cnn_mfcc_6_grey_81k-hpo/jobs/QXJ0aWZhY3RDb2xsZWN0aW9uOjEyNzk0NTQwMw==/version_details/v4</a><br/>Synced 5 W&B file(s), 0 media file(s), 0 artifact file(s) and 0 other file(s)"
      ],
      "text/plain": [
       "<IPython.core.display.HTML object>"
      ]
     },
     "metadata": {},
     "output_type": "display_data"
    },
    {
     "data": {
      "text/html": [
       "Find logs at: <code>C:\\Users\\nekta\\OneDrive\\Desktop\\botanic-emotion-recognition\\logs\\wandb\\run-20240107_003741-y92q15ob\\logs</code>"
      ],
      "text/plain": [
       "<IPython.core.display.HTML object>"
      ]
     },
     "metadata": {},
     "output_type": "display_data"
    },
    {
     "data": {
      "text/html": [
       "Successfully finished last run (ID:y92q15ob). Initializing new run:<br/>"
      ],
      "text/plain": [
       "<IPython.core.display.HTML object>"
      ]
     },
     "metadata": {},
     "output_type": "display_data"
    },
    {
     "data": {
      "text/html": [
       "wandb version 0.16.1 is available!  To upgrade, please run:\n",
       " $ pip install wandb --upgrade"
      ],
      "text/plain": [
       "<IPython.core.display.HTML object>"
      ]
     },
     "metadata": {},
     "output_type": "display_data"
    },
    {
     "data": {
      "text/html": [
       "Tracking run with wandb version 0.15.12"
      ],
      "text/plain": [
       "<IPython.core.display.HTML object>"
      ]
     },
     "metadata": {},
     "output_type": "display_data"
    },
    {
     "data": {
      "text/html": [
       "Run data is saved locally in <code>C:\\Users\\nekta\\OneDrive\\Desktop\\botanic-emotion-recognition\\logs\\wandb\\run-20240107_004010-09eua8nl</code>"
      ],
      "text/plain": [
       "<IPython.core.display.HTML object>"
      ]
     },
     "metadata": {},
     "output_type": "display_data"
    },
    {
     "data": {
      "text/html": [
       "Syncing run <strong><a href='https://wandb.ai/totikos/model_cnn_mfcc_6_grey_81k-hpo/runs/09eua8nl' target=\"_blank\">34_cnn_mfcc_6_grey_81k_lr-0.001_convf1-16_convf2-32_convker-5_dr-0.2</a></strong> to <a href='https://wandb.ai/totikos/model_cnn_mfcc_6_grey_81k-hpo' target=\"_blank\">Weights & Biases</a> (<a href='https://wandb.me/run' target=\"_blank\">docs</a>)<br/>"
      ],
      "text/plain": [
       "<IPython.core.display.HTML object>"
      ]
     },
     "metadata": {},
     "output_type": "display_data"
    },
    {
     "data": {
      "text/html": [
       " View project at <a href='https://wandb.ai/totikos/model_cnn_mfcc_6_grey_81k-hpo' target=\"_blank\">https://wandb.ai/totikos/model_cnn_mfcc_6_grey_81k-hpo</a>"
      ],
      "text/plain": [
       "<IPython.core.display.HTML object>"
      ]
     },
     "metadata": {},
     "output_type": "display_data"
    },
    {
     "data": {
      "text/html": [
       " View run at <a href='https://wandb.ai/totikos/model_cnn_mfcc_6_grey_81k-hpo/runs/09eua8nl' target=\"_blank\">https://wandb.ai/totikos/model_cnn_mfcc_6_grey_81k-hpo/runs/09eua8nl</a>"
      ],
      "text/plain": [
       "<IPython.core.display.HTML object>"
      ]
     },
     "metadata": {},
     "output_type": "display_data"
    },
    {
     "name": "stderr",
     "output_type": "stream",
     "text": [
      "100%|████████████████████████████████████████| 380/380 [00:59<00:00,  6.35it/s]\n",
      "100%|██████████████████████████████████████████| 82/82 [00:04<00:00, 16.89it/s]\n",
      "[I 2024-01-07 00:41:20,742] Trial 34 pruned. \n"
     ]
    },
    {
     "name": "stdout",
     "output_type": "stream",
     "text": [
      "{'out_channels_l1': 16, 'out_channels_l2': 64, 'conv_kernel_size': 5, 'dropout_rate': 0.2}\n"
     ]
    },
    {
     "data": {
      "text/html": [
       "Finishing last run (ID:09eua8nl) before initializing another..."
      ],
      "text/plain": [
       "<IPython.core.display.HTML object>"
      ]
     },
     "metadata": {},
     "output_type": "display_data"
    },
    {
     "data": {
      "text/html": [
       "Waiting for W&B process to finish... <strong style=\"color:green\">(success).</strong>"
      ],
      "text/plain": [
       "<IPython.core.display.HTML object>"
      ]
     },
     "metadata": {},
     "output_type": "display_data"
    },
    {
     "data": {
      "text/html": [
       " View run <strong style=\"color:#cdcd00\">34_cnn_mfcc_6_grey_81k_lr-0.001_convf1-16_convf2-32_convker-5_dr-0.2</strong> at: <a href='https://wandb.ai/totikos/model_cnn_mfcc_6_grey_81k-hpo/runs/09eua8nl' target=\"_blank\">https://wandb.ai/totikos/model_cnn_mfcc_6_grey_81k-hpo/runs/09eua8nl</a><br/> View job at <a href='https://wandb.ai/totikos/model_cnn_mfcc_6_grey_81k-hpo/jobs/QXJ0aWZhY3RDb2xsZWN0aW9uOjEyNzk0NTQwMw==/version_details/v4' target=\"_blank\">https://wandb.ai/totikos/model_cnn_mfcc_6_grey_81k-hpo/jobs/QXJ0aWZhY3RDb2xsZWN0aW9uOjEyNzk0NTQwMw==/version_details/v4</a><br/>Synced 5 W&B file(s), 0 media file(s), 0 artifact file(s) and 0 other file(s)"
      ],
      "text/plain": [
       "<IPython.core.display.HTML object>"
      ]
     },
     "metadata": {},
     "output_type": "display_data"
    },
    {
     "data": {
      "text/html": [
       "Find logs at: <code>C:\\Users\\nekta\\OneDrive\\Desktop\\botanic-emotion-recognition\\logs\\wandb\\run-20240107_004010-09eua8nl\\logs</code>"
      ],
      "text/plain": [
       "<IPython.core.display.HTML object>"
      ]
     },
     "metadata": {},
     "output_type": "display_data"
    },
    {
     "data": {
      "text/html": [
       "Successfully finished last run (ID:09eua8nl). Initializing new run:<br/>"
      ],
      "text/plain": [
       "<IPython.core.display.HTML object>"
      ]
     },
     "metadata": {},
     "output_type": "display_data"
    },
    {
     "data": {
      "text/html": [
       "wandb version 0.16.1 is available!  To upgrade, please run:\n",
       " $ pip install wandb --upgrade"
      ],
      "text/plain": [
       "<IPython.core.display.HTML object>"
      ]
     },
     "metadata": {},
     "output_type": "display_data"
    },
    {
     "data": {
      "text/html": [
       "Tracking run with wandb version 0.15.12"
      ],
      "text/plain": [
       "<IPython.core.display.HTML object>"
      ]
     },
     "metadata": {},
     "output_type": "display_data"
    },
    {
     "data": {
      "text/html": [
       "Run data is saved locally in <code>C:\\Users\\nekta\\OneDrive\\Desktop\\botanic-emotion-recognition\\logs\\wandb\\run-20240107_004120-qnqq3y5q</code>"
      ],
      "text/plain": [
       "<IPython.core.display.HTML object>"
      ]
     },
     "metadata": {},
     "output_type": "display_data"
    },
    {
     "data": {
      "text/html": [
       "Syncing run <strong><a href='https://wandb.ai/totikos/model_cnn_mfcc_6_grey_81k-hpo/runs/qnqq3y5q' target=\"_blank\">35_cnn_mfcc_6_grey_81k_lr-0.001_convf1-16_convf2-64_convker-5_dr-0.2</a></strong> to <a href='https://wandb.ai/totikos/model_cnn_mfcc_6_grey_81k-hpo' target=\"_blank\">Weights & Biases</a> (<a href='https://wandb.me/run' target=\"_blank\">docs</a>)<br/>"
      ],
      "text/plain": [
       "<IPython.core.display.HTML object>"
      ]
     },
     "metadata": {},
     "output_type": "display_data"
    },
    {
     "data": {
      "text/html": [
       " View project at <a href='https://wandb.ai/totikos/model_cnn_mfcc_6_grey_81k-hpo' target=\"_blank\">https://wandb.ai/totikos/model_cnn_mfcc_6_grey_81k-hpo</a>"
      ],
      "text/plain": [
       "<IPython.core.display.HTML object>"
      ]
     },
     "metadata": {},
     "output_type": "display_data"
    },
    {
     "data": {
      "text/html": [
       " View run at <a href='https://wandb.ai/totikos/model_cnn_mfcc_6_grey_81k-hpo/runs/qnqq3y5q' target=\"_blank\">https://wandb.ai/totikos/model_cnn_mfcc_6_grey_81k-hpo/runs/qnqq3y5q</a>"
      ],
      "text/plain": [
       "<IPython.core.display.HTML object>"
      ]
     },
     "metadata": {},
     "output_type": "display_data"
    },
    {
     "name": "stderr",
     "output_type": "stream",
     "text": [
      "100%|████████████████████████████████████████| 380/380 [01:18<00:00,  4.87it/s]\n",
      "100%|██████████████████████████████████████████| 82/82 [00:06<00:00, 12.07it/s]\n",
      "100%|████████████████████████████████████████| 380/380 [01:30<00:00,  4.20it/s]\n",
      "100%|██████████████████████████████████████████| 82/82 [00:06<00:00, 12.17it/s]\n",
      "100%|████████████████████████████████████████| 380/380 [01:28<00:00,  4.28it/s]\n",
      "100%|██████████████████████████████████████████| 82/82 [00:06<00:00, 12.38it/s]\n",
      "[I 2024-01-07 00:46:08,132] Trial 35 pruned. \n"
     ]
    },
    {
     "name": "stdout",
     "output_type": "stream",
     "text": [
      "{'out_channels_l1': 32, 'out_channels_l2': 64, 'conv_kernel_size': 3, 'dropout_rate': 0.2}\n"
     ]
    },
    {
     "data": {
      "text/html": [
       "Finishing last run (ID:qnqq3y5q) before initializing another..."
      ],
      "text/plain": [
       "<IPython.core.display.HTML object>"
      ]
     },
     "metadata": {},
     "output_type": "display_data"
    },
    {
     "data": {
      "text/html": [
       "Waiting for W&B process to finish... <strong style=\"color:green\">(success).</strong>"
      ],
      "text/plain": [
       "<IPython.core.display.HTML object>"
      ]
     },
     "metadata": {},
     "output_type": "display_data"
    },
    {
     "data": {
      "text/html": [
       "<style>\n",
       "    table.wandb td:nth-child(1) { padding: 0 10px; text-align: left ; width: auto;} td:nth-child(2) {text-align: left ; width: 100%}\n",
       "    .wandb-row { display: flex; flex-direction: row; flex-wrap: wrap; justify-content: flex-start; width: 100% }\n",
       "    .wandb-col { display: flex; flex-direction: column; flex-basis: 100%; flex: 1; padding: 10px; }\n",
       "    </style>\n",
       "<div class=\"wandb-row\"><div class=\"wandb-col\"><h3>Run history:</h3><br/><table class=\"wandb\"><tr><td>accuracy</td><td>▁█</td></tr><tr><td>balanced_accuracy</td><td>▁█</td></tr><tr><td>f1_weighted</td><td>▁█</td></tr><tr><td>precision</td><td>▁█</td></tr><tr><td>recall</td><td>▁█</td></tr></table><br/></div><div class=\"wandb-col\"><h3>Run summary:</h3><br/><table class=\"wandb\"><tr><td>accuracy</td><td>0.51962</td></tr><tr><td>balanced_accuracy</td><td>0.34985</td></tr><tr><td>f1_weighted</td><td>0.50417</td></tr><tr><td>precision</td><td>0.50395</td></tr><tr><td>recall</td><td>0.51962</td></tr></table><br/></div></div>"
      ],
      "text/plain": [
       "<IPython.core.display.HTML object>"
      ]
     },
     "metadata": {},
     "output_type": "display_data"
    },
    {
     "data": {
      "text/html": [
       " View run <strong style=\"color:#cdcd00\">35_cnn_mfcc_6_grey_81k_lr-0.001_convf1-16_convf2-64_convker-5_dr-0.2</strong> at: <a href='https://wandb.ai/totikos/model_cnn_mfcc_6_grey_81k-hpo/runs/qnqq3y5q' target=\"_blank\">https://wandb.ai/totikos/model_cnn_mfcc_6_grey_81k-hpo/runs/qnqq3y5q</a><br/> View job at <a href='https://wandb.ai/totikos/model_cnn_mfcc_6_grey_81k-hpo/jobs/QXJ0aWZhY3RDb2xsZWN0aW9uOjEyNzk0NTQwMw==/version_details/v3' target=\"_blank\">https://wandb.ai/totikos/model_cnn_mfcc_6_grey_81k-hpo/jobs/QXJ0aWZhY3RDb2xsZWN0aW9uOjEyNzk0NTQwMw==/version_details/v3</a><br/>Synced 5 W&B file(s), 0 media file(s), 0 artifact file(s) and 0 other file(s)"
      ],
      "text/plain": [
       "<IPython.core.display.HTML object>"
      ]
     },
     "metadata": {},
     "output_type": "display_data"
    },
    {
     "data": {
      "text/html": [
       "Find logs at: <code>C:\\Users\\nekta\\OneDrive\\Desktop\\botanic-emotion-recognition\\logs\\wandb\\run-20240107_004120-qnqq3y5q\\logs</code>"
      ],
      "text/plain": [
       "<IPython.core.display.HTML object>"
      ]
     },
     "metadata": {},
     "output_type": "display_data"
    },
    {
     "data": {
      "text/html": [
       "Successfully finished last run (ID:qnqq3y5q). Initializing new run:<br/>"
      ],
      "text/plain": [
       "<IPython.core.display.HTML object>"
      ]
     },
     "metadata": {},
     "output_type": "display_data"
    },
    {
     "data": {
      "text/html": [
       "wandb version 0.16.1 is available!  To upgrade, please run:\n",
       " $ pip install wandb --upgrade"
      ],
      "text/plain": [
       "<IPython.core.display.HTML object>"
      ]
     },
     "metadata": {},
     "output_type": "display_data"
    },
    {
     "data": {
      "text/html": [
       "Tracking run with wandb version 0.15.12"
      ],
      "text/plain": [
       "<IPython.core.display.HTML object>"
      ]
     },
     "metadata": {},
     "output_type": "display_data"
    },
    {
     "data": {
      "text/html": [
       "Run data is saved locally in <code>C:\\Users\\nekta\\OneDrive\\Desktop\\botanic-emotion-recognition\\logs\\wandb\\run-20240107_004608-1s7opezm</code>"
      ],
      "text/plain": [
       "<IPython.core.display.HTML object>"
      ]
     },
     "metadata": {},
     "output_type": "display_data"
    },
    {
     "data": {
      "text/html": [
       "Syncing run <strong><a href='https://wandb.ai/totikos/model_cnn_mfcc_6_grey_81k-hpo/runs/1s7opezm' target=\"_blank\">36_cnn_mfcc_6_grey_81k_lr-0.01_convf1-32_convf2-64_convker-3_dr-0.2</a></strong> to <a href='https://wandb.ai/totikos/model_cnn_mfcc_6_grey_81k-hpo' target=\"_blank\">Weights & Biases</a> (<a href='https://wandb.me/run' target=\"_blank\">docs</a>)<br/>"
      ],
      "text/plain": [
       "<IPython.core.display.HTML object>"
      ]
     },
     "metadata": {},
     "output_type": "display_data"
    },
    {
     "data": {
      "text/html": [
       " View project at <a href='https://wandb.ai/totikos/model_cnn_mfcc_6_grey_81k-hpo' target=\"_blank\">https://wandb.ai/totikos/model_cnn_mfcc_6_grey_81k-hpo</a>"
      ],
      "text/plain": [
       "<IPython.core.display.HTML object>"
      ]
     },
     "metadata": {},
     "output_type": "display_data"
    },
    {
     "data": {
      "text/html": [
       " View run at <a href='https://wandb.ai/totikos/model_cnn_mfcc_6_grey_81k-hpo/runs/1s7opezm' target=\"_blank\">https://wandb.ai/totikos/model_cnn_mfcc_6_grey_81k-hpo/runs/1s7opezm</a>"
      ],
      "text/plain": [
       "<IPython.core.display.HTML object>"
      ]
     },
     "metadata": {},
     "output_type": "display_data"
    },
    {
     "name": "stderr",
     "output_type": "stream",
     "text": [
      "100%|████████████████████████████████████████| 380/380 [01:41<00:00,  3.75it/s]\n",
      "100%|██████████████████████████████████████████| 82/82 [00:09<00:00,  8.32it/s]\n",
      "[I 2024-01-07 00:48:05,864] Trial 36 pruned. \n"
     ]
    },
    {
     "name": "stdout",
     "output_type": "stream",
     "text": [
      "{'out_channels_l1': 32, 'out_channels_l2': 32, 'conv_kernel_size': 5, 'dropout_rate': 0.0}\n"
     ]
    },
    {
     "data": {
      "text/html": [
       "Finishing last run (ID:1s7opezm) before initializing another..."
      ],
      "text/plain": [
       "<IPython.core.display.HTML object>"
      ]
     },
     "metadata": {},
     "output_type": "display_data"
    },
    {
     "data": {
      "text/html": [
       "Waiting for W&B process to finish... <strong style=\"color:green\">(success).</strong>"
      ],
      "text/plain": [
       "<IPython.core.display.HTML object>"
      ]
     },
     "metadata": {},
     "output_type": "display_data"
    },
    {
     "data": {
      "text/html": [
       " View run <strong style=\"color:#cdcd00\">36_cnn_mfcc_6_grey_81k_lr-0.01_convf1-32_convf2-64_convker-3_dr-0.2</strong> at: <a href='https://wandb.ai/totikos/model_cnn_mfcc_6_grey_81k-hpo/runs/1s7opezm' target=\"_blank\">https://wandb.ai/totikos/model_cnn_mfcc_6_grey_81k-hpo/runs/1s7opezm</a><br/> View job at <a href='https://wandb.ai/totikos/model_cnn_mfcc_6_grey_81k-hpo/jobs/QXJ0aWZhY3RDb2xsZWN0aW9uOjEyNzk0NTQwMw==/version_details/v4' target=\"_blank\">https://wandb.ai/totikos/model_cnn_mfcc_6_grey_81k-hpo/jobs/QXJ0aWZhY3RDb2xsZWN0aW9uOjEyNzk0NTQwMw==/version_details/v4</a><br/>Synced 5 W&B file(s), 0 media file(s), 0 artifact file(s) and 0 other file(s)"
      ],
      "text/plain": [
       "<IPython.core.display.HTML object>"
      ]
     },
     "metadata": {},
     "output_type": "display_data"
    },
    {
     "data": {
      "text/html": [
       "Find logs at: <code>C:\\Users\\nekta\\OneDrive\\Desktop\\botanic-emotion-recognition\\logs\\wandb\\run-20240107_004608-1s7opezm\\logs</code>"
      ],
      "text/plain": [
       "<IPython.core.display.HTML object>"
      ]
     },
     "metadata": {},
     "output_type": "display_data"
    },
    {
     "data": {
      "text/html": [
       "Successfully finished last run (ID:1s7opezm). Initializing new run:<br/>"
      ],
      "text/plain": [
       "<IPython.core.display.HTML object>"
      ]
     },
     "metadata": {},
     "output_type": "display_data"
    },
    {
     "data": {
      "text/html": [
       "wandb version 0.16.1 is available!  To upgrade, please run:\n",
       " $ pip install wandb --upgrade"
      ],
      "text/plain": [
       "<IPython.core.display.HTML object>"
      ]
     },
     "metadata": {},
     "output_type": "display_data"
    },
    {
     "data": {
      "text/html": [
       "Tracking run with wandb version 0.15.12"
      ],
      "text/plain": [
       "<IPython.core.display.HTML object>"
      ]
     },
     "metadata": {},
     "output_type": "display_data"
    },
    {
     "data": {
      "text/html": [
       "Run data is saved locally in <code>C:\\Users\\nekta\\OneDrive\\Desktop\\botanic-emotion-recognition\\logs\\wandb\\run-20240107_004805-zb3l70xc</code>"
      ],
      "text/plain": [
       "<IPython.core.display.HTML object>"
      ]
     },
     "metadata": {},
     "output_type": "display_data"
    },
    {
     "data": {
      "text/html": [
       "Syncing run <strong><a href='https://wandb.ai/totikos/model_cnn_mfcc_6_grey_81k-hpo/runs/zb3l70xc' target=\"_blank\">37_cnn_mfcc_6_grey_81k_lr-0.01_convf1-32_convf2-32_convker-5_dr-0.0</a></strong> to <a href='https://wandb.ai/totikos/model_cnn_mfcc_6_grey_81k-hpo' target=\"_blank\">Weights & Biases</a> (<a href='https://wandb.me/run' target=\"_blank\">docs</a>)<br/>"
      ],
      "text/plain": [
       "<IPython.core.display.HTML object>"
      ]
     },
     "metadata": {},
     "output_type": "display_data"
    },
    {
     "data": {
      "text/html": [
       " View project at <a href='https://wandb.ai/totikos/model_cnn_mfcc_6_grey_81k-hpo' target=\"_blank\">https://wandb.ai/totikos/model_cnn_mfcc_6_grey_81k-hpo</a>"
      ],
      "text/plain": [
       "<IPython.core.display.HTML object>"
      ]
     },
     "metadata": {},
     "output_type": "display_data"
    },
    {
     "data": {
      "text/html": [
       " View run at <a href='https://wandb.ai/totikos/model_cnn_mfcc_6_grey_81k-hpo/runs/zb3l70xc' target=\"_blank\">https://wandb.ai/totikos/model_cnn_mfcc_6_grey_81k-hpo/runs/zb3l70xc</a>"
      ],
      "text/plain": [
       "<IPython.core.display.HTML object>"
      ]
     },
     "metadata": {},
     "output_type": "display_data"
    },
    {
     "name": "stderr",
     "output_type": "stream",
     "text": [
      "100%|████████████████████████████████████████| 380/380 [01:35<00:00,  3.96it/s]\n",
      "100%|██████████████████████████████████████████| 82/82 [00:08<00:00,  9.37it/s]\n",
      "[I 2024-01-07 00:49:57,147] Trial 37 pruned. \n"
     ]
    },
    {
     "name": "stdout",
     "output_type": "stream",
     "text": [
      "{'out_channels_l1': 16, 'out_channels_l2': 32, 'conv_kernel_size': 3, 'dropout_rate': 0.1}\n"
     ]
    },
    {
     "data": {
      "text/html": [
       "Finishing last run (ID:zb3l70xc) before initializing another..."
      ],
      "text/plain": [
       "<IPython.core.display.HTML object>"
      ]
     },
     "metadata": {},
     "output_type": "display_data"
    },
    {
     "data": {
      "text/html": [
       "Waiting for W&B process to finish... <strong style=\"color:green\">(success).</strong>"
      ],
      "text/plain": [
       "<IPython.core.display.HTML object>"
      ]
     },
     "metadata": {},
     "output_type": "display_data"
    },
    {
     "data": {
      "text/html": [
       " View run <strong style=\"color:#cdcd00\">37_cnn_mfcc_6_grey_81k_lr-0.01_convf1-32_convf2-32_convker-5_dr-0.0</strong> at: <a href='https://wandb.ai/totikos/model_cnn_mfcc_6_grey_81k-hpo/runs/zb3l70xc' target=\"_blank\">https://wandb.ai/totikos/model_cnn_mfcc_6_grey_81k-hpo/runs/zb3l70xc</a><br/> View job at <a href='https://wandb.ai/totikos/model_cnn_mfcc_6_grey_81k-hpo/jobs/QXJ0aWZhY3RDb2xsZWN0aW9uOjEyNzk0NTQwMw==/version_details/v4' target=\"_blank\">https://wandb.ai/totikos/model_cnn_mfcc_6_grey_81k-hpo/jobs/QXJ0aWZhY3RDb2xsZWN0aW9uOjEyNzk0NTQwMw==/version_details/v4</a><br/>Synced 5 W&B file(s), 0 media file(s), 0 artifact file(s) and 0 other file(s)"
      ],
      "text/plain": [
       "<IPython.core.display.HTML object>"
      ]
     },
     "metadata": {},
     "output_type": "display_data"
    },
    {
     "data": {
      "text/html": [
       "Find logs at: <code>C:\\Users\\nekta\\OneDrive\\Desktop\\botanic-emotion-recognition\\logs\\wandb\\run-20240107_004805-zb3l70xc\\logs</code>"
      ],
      "text/plain": [
       "<IPython.core.display.HTML object>"
      ]
     },
     "metadata": {},
     "output_type": "display_data"
    },
    {
     "data": {
      "text/html": [
       "Successfully finished last run (ID:zb3l70xc). Initializing new run:<br/>"
      ],
      "text/plain": [
       "<IPython.core.display.HTML object>"
      ]
     },
     "metadata": {},
     "output_type": "display_data"
    },
    {
     "data": {
      "text/html": [
       "wandb version 0.16.1 is available!  To upgrade, please run:\n",
       " $ pip install wandb --upgrade"
      ],
      "text/plain": [
       "<IPython.core.display.HTML object>"
      ]
     },
     "metadata": {},
     "output_type": "display_data"
    },
    {
     "data": {
      "text/html": [
       "Tracking run with wandb version 0.15.12"
      ],
      "text/plain": [
       "<IPython.core.display.HTML object>"
      ]
     },
     "metadata": {},
     "output_type": "display_data"
    },
    {
     "data": {
      "text/html": [
       "Run data is saved locally in <code>C:\\Users\\nekta\\OneDrive\\Desktop\\botanic-emotion-recognition\\logs\\wandb\\run-20240107_004957-no6ntdvf</code>"
      ],
      "text/plain": [
       "<IPython.core.display.HTML object>"
      ]
     },
     "metadata": {},
     "output_type": "display_data"
    },
    {
     "data": {
      "text/html": [
       "Syncing run <strong><a href='https://wandb.ai/totikos/model_cnn_mfcc_6_grey_81k-hpo/runs/no6ntdvf' target=\"_blank\">38_cnn_mfcc_6_grey_81k_lr-0.001_convf1-16_convf2-32_convker-3_dr-0.1</a></strong> to <a href='https://wandb.ai/totikos/model_cnn_mfcc_6_grey_81k-hpo' target=\"_blank\">Weights & Biases</a> (<a href='https://wandb.me/run' target=\"_blank\">docs</a>)<br/>"
      ],
      "text/plain": [
       "<IPython.core.display.HTML object>"
      ]
     },
     "metadata": {},
     "output_type": "display_data"
    },
    {
     "data": {
      "text/html": [
       " View project at <a href='https://wandb.ai/totikos/model_cnn_mfcc_6_grey_81k-hpo' target=\"_blank\">https://wandb.ai/totikos/model_cnn_mfcc_6_grey_81k-hpo</a>"
      ],
      "text/plain": [
       "<IPython.core.display.HTML object>"
      ]
     },
     "metadata": {},
     "output_type": "display_data"
    },
    {
     "data": {
      "text/html": [
       " View run at <a href='https://wandb.ai/totikos/model_cnn_mfcc_6_grey_81k-hpo/runs/no6ntdvf' target=\"_blank\">https://wandb.ai/totikos/model_cnn_mfcc_6_grey_81k-hpo/runs/no6ntdvf</a>"
      ],
      "text/plain": [
       "<IPython.core.display.HTML object>"
      ]
     },
     "metadata": {},
     "output_type": "display_data"
    },
    {
     "name": "stderr",
     "output_type": "stream",
     "text": [
      "100%|████████████████████████████████████████| 380/380 [00:55<00:00,  6.85it/s]\n",
      "100%|██████████████████████████████████████████| 82/82 [00:05<00:00, 15.87it/s]\n",
      "100%|████████████████████████████████████████| 380/380 [00:53<00:00,  7.11it/s]\n",
      "100%|██████████████████████████████████████████| 82/82 [00:04<00:00, 19.05it/s]\n",
      "[I 2024-01-07 00:52:01,685] Trial 38 pruned. \n"
     ]
    },
    {
     "name": "stdout",
     "output_type": "stream",
     "text": [
      "{'out_channels_l1': 32, 'out_channels_l2': 32, 'conv_kernel_size': 5, 'dropout_rate': 0.0}\n"
     ]
    },
    {
     "data": {
      "text/html": [
       "Finishing last run (ID:no6ntdvf) before initializing another..."
      ],
      "text/plain": [
       "<IPython.core.display.HTML object>"
      ]
     },
     "metadata": {},
     "output_type": "display_data"
    },
    {
     "data": {
      "text/html": [
       "Waiting for W&B process to finish... <strong style=\"color:green\">(success).</strong>"
      ],
      "text/plain": [
       "<IPython.core.display.HTML object>"
      ]
     },
     "metadata": {},
     "output_type": "display_data"
    },
    {
     "data": {
      "text/html": [
       "<style>\n",
       "    table.wandb td:nth-child(1) { padding: 0 10px; text-align: left ; width: auto;} td:nth-child(2) {text-align: left ; width: 100%}\n",
       "    .wandb-row { display: flex; flex-direction: row; flex-wrap: wrap; justify-content: flex-start; width: 100% }\n",
       "    .wandb-col { display: flex; flex-direction: column; flex-basis: 100%; flex: 1; padding: 10px; }\n",
       "    </style>\n",
       "<div class=\"wandb-row\"><div class=\"wandb-col\"><h3>Run history:</h3><br/><table class=\"wandb\"><tr><td>accuracy</td><td>▁</td></tr><tr><td>balanced_accuracy</td><td>▁</td></tr><tr><td>f1_weighted</td><td>▁</td></tr><tr><td>precision</td><td>▁</td></tr><tr><td>recall</td><td>▁</td></tr></table><br/></div><div class=\"wandb-col\"><h3>Run summary:</h3><br/><table class=\"wandb\"><tr><td>accuracy</td><td>0.42115</td></tr><tr><td>balanced_accuracy</td><td>0.2881</td></tr><tr><td>f1_weighted</td><td>0.37725</td></tr><tr><td>precision</td><td>0.41604</td></tr><tr><td>recall</td><td>0.42115</td></tr></table><br/></div></div>"
      ],
      "text/plain": [
       "<IPython.core.display.HTML object>"
      ]
     },
     "metadata": {},
     "output_type": "display_data"
    },
    {
     "data": {
      "text/html": [
       " View run <strong style=\"color:#cdcd00\">38_cnn_mfcc_6_grey_81k_lr-0.001_convf1-16_convf2-32_convker-3_dr-0.1</strong> at: <a href='https://wandb.ai/totikos/model_cnn_mfcc_6_grey_81k-hpo/runs/no6ntdvf' target=\"_blank\">https://wandb.ai/totikos/model_cnn_mfcc_6_grey_81k-hpo/runs/no6ntdvf</a><br/> View job at <a href='https://wandb.ai/totikos/model_cnn_mfcc_6_grey_81k-hpo/jobs/QXJ0aWZhY3RDb2xsZWN0aW9uOjEyNzk0NTQwMw==/version_details/v3' target=\"_blank\">https://wandb.ai/totikos/model_cnn_mfcc_6_grey_81k-hpo/jobs/QXJ0aWZhY3RDb2xsZWN0aW9uOjEyNzk0NTQwMw==/version_details/v3</a><br/>Synced 5 W&B file(s), 0 media file(s), 0 artifact file(s) and 0 other file(s)"
      ],
      "text/plain": [
       "<IPython.core.display.HTML object>"
      ]
     },
     "metadata": {},
     "output_type": "display_data"
    },
    {
     "data": {
      "text/html": [
       "Find logs at: <code>C:\\Users\\nekta\\OneDrive\\Desktop\\botanic-emotion-recognition\\logs\\wandb\\run-20240107_004957-no6ntdvf\\logs</code>"
      ],
      "text/plain": [
       "<IPython.core.display.HTML object>"
      ]
     },
     "metadata": {},
     "output_type": "display_data"
    },
    {
     "data": {
      "text/html": [
       "Successfully finished last run (ID:no6ntdvf). Initializing new run:<br/>"
      ],
      "text/plain": [
       "<IPython.core.display.HTML object>"
      ]
     },
     "metadata": {},
     "output_type": "display_data"
    },
    {
     "data": {
      "text/html": [
       "wandb version 0.16.1 is available!  To upgrade, please run:\n",
       " $ pip install wandb --upgrade"
      ],
      "text/plain": [
       "<IPython.core.display.HTML object>"
      ]
     },
     "metadata": {},
     "output_type": "display_data"
    },
    {
     "data": {
      "text/html": [
       "Tracking run with wandb version 0.15.12"
      ],
      "text/plain": [
       "<IPython.core.display.HTML object>"
      ]
     },
     "metadata": {},
     "output_type": "display_data"
    },
    {
     "data": {
      "text/html": [
       "Run data is saved locally in <code>C:\\Users\\nekta\\OneDrive\\Desktop\\botanic-emotion-recognition\\logs\\wandb\\run-20240107_005201-h0ozrnex</code>"
      ],
      "text/plain": [
       "<IPython.core.display.HTML object>"
      ]
     },
     "metadata": {},
     "output_type": "display_data"
    },
    {
     "data": {
      "text/html": [
       "Syncing run <strong><a href='https://wandb.ai/totikos/model_cnn_mfcc_6_grey_81k-hpo/runs/h0ozrnex' target=\"_blank\">39_cnn_mfcc_6_grey_81k_lr-0.0001_convf1-32_convf2-32_convker-5_dr-0.0</a></strong> to <a href='https://wandb.ai/totikos/model_cnn_mfcc_6_grey_81k-hpo' target=\"_blank\">Weights & Biases</a> (<a href='https://wandb.me/run' target=\"_blank\">docs</a>)<br/>"
      ],
      "text/plain": [
       "<IPython.core.display.HTML object>"
      ]
     },
     "metadata": {},
     "output_type": "display_data"
    },
    {
     "data": {
      "text/html": [
       " View project at <a href='https://wandb.ai/totikos/model_cnn_mfcc_6_grey_81k-hpo' target=\"_blank\">https://wandb.ai/totikos/model_cnn_mfcc_6_grey_81k-hpo</a>"
      ],
      "text/plain": [
       "<IPython.core.display.HTML object>"
      ]
     },
     "metadata": {},
     "output_type": "display_data"
    },
    {
     "data": {
      "text/html": [
       " View run at <a href='https://wandb.ai/totikos/model_cnn_mfcc_6_grey_81k-hpo/runs/h0ozrnex' target=\"_blank\">https://wandb.ai/totikos/model_cnn_mfcc_6_grey_81k-hpo/runs/h0ozrnex</a>"
      ],
      "text/plain": [
       "<IPython.core.display.HTML object>"
      ]
     },
     "metadata": {},
     "output_type": "display_data"
    },
    {
     "name": "stderr",
     "output_type": "stream",
     "text": [
      "100%|████████████████████████████████████████| 380/380 [01:41<00:00,  3.75it/s]\n",
      "100%|██████████████████████████████████████████| 82/82 [00:09<00:00,  8.55it/s]\n",
      "[I 2024-01-07 00:53:59,077] Trial 39 pruned. \n"
     ]
    },
    {
     "name": "stdout",
     "output_type": "stream",
     "text": [
      "{'out_channels_l1': 64, 'out_channels_l2': 64, 'conv_kernel_size': 3, 'dropout_rate': 0.2}\n"
     ]
    },
    {
     "data": {
      "text/html": [
       "Finishing last run (ID:h0ozrnex) before initializing another..."
      ],
      "text/plain": [
       "<IPython.core.display.HTML object>"
      ]
     },
     "metadata": {},
     "output_type": "display_data"
    },
    {
     "data": {
      "text/html": [
       "Waiting for W&B process to finish... <strong style=\"color:green\">(success).</strong>"
      ],
      "text/plain": [
       "<IPython.core.display.HTML object>"
      ]
     },
     "metadata": {},
     "output_type": "display_data"
    },
    {
     "data": {
      "text/html": [
       " View run <strong style=\"color:#cdcd00\">39_cnn_mfcc_6_grey_81k_lr-0.0001_convf1-32_convf2-32_convker-5_dr-0.0</strong> at: <a href='https://wandb.ai/totikos/model_cnn_mfcc_6_grey_81k-hpo/runs/h0ozrnex' target=\"_blank\">https://wandb.ai/totikos/model_cnn_mfcc_6_grey_81k-hpo/runs/h0ozrnex</a><br/> View job at <a href='https://wandb.ai/totikos/model_cnn_mfcc_6_grey_81k-hpo/jobs/QXJ0aWZhY3RDb2xsZWN0aW9uOjEyNzk0NTQwMw==/version_details/v4' target=\"_blank\">https://wandb.ai/totikos/model_cnn_mfcc_6_grey_81k-hpo/jobs/QXJ0aWZhY3RDb2xsZWN0aW9uOjEyNzk0NTQwMw==/version_details/v4</a><br/>Synced 5 W&B file(s), 0 media file(s), 0 artifact file(s) and 0 other file(s)"
      ],
      "text/plain": [
       "<IPython.core.display.HTML object>"
      ]
     },
     "metadata": {},
     "output_type": "display_data"
    },
    {
     "data": {
      "text/html": [
       "Find logs at: <code>C:\\Users\\nekta\\OneDrive\\Desktop\\botanic-emotion-recognition\\logs\\wandb\\run-20240107_005201-h0ozrnex\\logs</code>"
      ],
      "text/plain": [
       "<IPython.core.display.HTML object>"
      ]
     },
     "metadata": {},
     "output_type": "display_data"
    },
    {
     "data": {
      "text/html": [
       "Successfully finished last run (ID:h0ozrnex). Initializing new run:<br/>"
      ],
      "text/plain": [
       "<IPython.core.display.HTML object>"
      ]
     },
     "metadata": {},
     "output_type": "display_data"
    },
    {
     "data": {
      "text/html": [
       "wandb version 0.16.1 is available!  To upgrade, please run:\n",
       " $ pip install wandb --upgrade"
      ],
      "text/plain": [
       "<IPython.core.display.HTML object>"
      ]
     },
     "metadata": {},
     "output_type": "display_data"
    },
    {
     "data": {
      "text/html": [
       "Tracking run with wandb version 0.15.12"
      ],
      "text/plain": [
       "<IPython.core.display.HTML object>"
      ]
     },
     "metadata": {},
     "output_type": "display_data"
    },
    {
     "data": {
      "text/html": [
       "Run data is saved locally in <code>C:\\Users\\nekta\\OneDrive\\Desktop\\botanic-emotion-recognition\\logs\\wandb\\run-20240107_005359-pt474uqs</code>"
      ],
      "text/plain": [
       "<IPython.core.display.HTML object>"
      ]
     },
     "metadata": {},
     "output_type": "display_data"
    },
    {
     "data": {
      "text/html": [
       "Syncing run <strong><a href='https://wandb.ai/totikos/model_cnn_mfcc_6_grey_81k-hpo/runs/pt474uqs' target=\"_blank\">40_cnn_mfcc_6_grey_81k_lr-0.0001_convf1-64_convf2-64_convker-3_dr-0.2</a></strong> to <a href='https://wandb.ai/totikos/model_cnn_mfcc_6_grey_81k-hpo' target=\"_blank\">Weights & Biases</a> (<a href='https://wandb.me/run' target=\"_blank\">docs</a>)<br/>"
      ],
      "text/plain": [
       "<IPython.core.display.HTML object>"
      ]
     },
     "metadata": {},
     "output_type": "display_data"
    },
    {
     "data": {
      "text/html": [
       " View project at <a href='https://wandb.ai/totikos/model_cnn_mfcc_6_grey_81k-hpo' target=\"_blank\">https://wandb.ai/totikos/model_cnn_mfcc_6_grey_81k-hpo</a>"
      ],
      "text/plain": [
       "<IPython.core.display.HTML object>"
      ]
     },
     "metadata": {},
     "output_type": "display_data"
    },
    {
     "data": {
      "text/html": [
       " View run at <a href='https://wandb.ai/totikos/model_cnn_mfcc_6_grey_81k-hpo/runs/pt474uqs' target=\"_blank\">https://wandb.ai/totikos/model_cnn_mfcc_6_grey_81k-hpo/runs/pt474uqs</a>"
      ],
      "text/plain": [
       "<IPython.core.display.HTML object>"
      ]
     },
     "metadata": {},
     "output_type": "display_data"
    },
    {
     "name": "stderr",
     "output_type": "stream",
     "text": [
      "100%|████████████████████████████████████████| 380/380 [03:06<00:00,  2.04it/s]\n",
      "100%|██████████████████████████████████████████| 82/82 [00:15<00:00,  5.25it/s]\n",
      "[I 2024-01-07 00:57:27,787] Trial 40 pruned. \n"
     ]
    },
    {
     "name": "stdout",
     "output_type": "stream",
     "text": [
      "{'out_channels_l1': 64, 'out_channels_l2': 32, 'conv_kernel_size': 3, 'dropout_rate': 0.1}\n"
     ]
    },
    {
     "data": {
      "text/html": [
       "Finishing last run (ID:pt474uqs) before initializing another..."
      ],
      "text/plain": [
       "<IPython.core.display.HTML object>"
      ]
     },
     "metadata": {},
     "output_type": "display_data"
    },
    {
     "data": {
      "text/html": [
       "Waiting for W&B process to finish... <strong style=\"color:green\">(success).</strong>"
      ],
      "text/plain": [
       "<IPython.core.display.HTML object>"
      ]
     },
     "metadata": {},
     "output_type": "display_data"
    },
    {
     "data": {
      "text/html": [
       " View run <strong style=\"color:#cdcd00\">40_cnn_mfcc_6_grey_81k_lr-0.0001_convf1-64_convf2-64_convker-3_dr-0.2</strong> at: <a href='https://wandb.ai/totikos/model_cnn_mfcc_6_grey_81k-hpo/runs/pt474uqs' target=\"_blank\">https://wandb.ai/totikos/model_cnn_mfcc_6_grey_81k-hpo/runs/pt474uqs</a><br/> View job at <a href='https://wandb.ai/totikos/model_cnn_mfcc_6_grey_81k-hpo/jobs/QXJ0aWZhY3RDb2xsZWN0aW9uOjEyNzk0NTQwMw==/version_details/v4' target=\"_blank\">https://wandb.ai/totikos/model_cnn_mfcc_6_grey_81k-hpo/jobs/QXJ0aWZhY3RDb2xsZWN0aW9uOjEyNzk0NTQwMw==/version_details/v4</a><br/>Synced 5 W&B file(s), 0 media file(s), 0 artifact file(s) and 0 other file(s)"
      ],
      "text/plain": [
       "<IPython.core.display.HTML object>"
      ]
     },
     "metadata": {},
     "output_type": "display_data"
    },
    {
     "data": {
      "text/html": [
       "Find logs at: <code>C:\\Users\\nekta\\OneDrive\\Desktop\\botanic-emotion-recognition\\logs\\wandb\\run-20240107_005359-pt474uqs\\logs</code>"
      ],
      "text/plain": [
       "<IPython.core.display.HTML object>"
      ]
     },
     "metadata": {},
     "output_type": "display_data"
    },
    {
     "data": {
      "text/html": [
       "Successfully finished last run (ID:pt474uqs). Initializing new run:<br/>"
      ],
      "text/plain": [
       "<IPython.core.display.HTML object>"
      ]
     },
     "metadata": {},
     "output_type": "display_data"
    },
    {
     "data": {
      "text/html": [
       "wandb version 0.16.1 is available!  To upgrade, please run:\n",
       " $ pip install wandb --upgrade"
      ],
      "text/plain": [
       "<IPython.core.display.HTML object>"
      ]
     },
     "metadata": {},
     "output_type": "display_data"
    },
    {
     "data": {
      "text/html": [
       "Tracking run with wandb version 0.15.12"
      ],
      "text/plain": [
       "<IPython.core.display.HTML object>"
      ]
     },
     "metadata": {},
     "output_type": "display_data"
    },
    {
     "data": {
      "text/html": [
       "Run data is saved locally in <code>C:\\Users\\nekta\\OneDrive\\Desktop\\botanic-emotion-recognition\\logs\\wandb\\run-20240107_005727-rjiwmvbn</code>"
      ],
      "text/plain": [
       "<IPython.core.display.HTML object>"
      ]
     },
     "metadata": {},
     "output_type": "display_data"
    },
    {
     "data": {
      "text/html": [
       "Syncing run <strong><a href='https://wandb.ai/totikos/model_cnn_mfcc_6_grey_81k-hpo/runs/rjiwmvbn' target=\"_blank\">41_cnn_mfcc_6_grey_81k_lr-0.0001_convf1-64_convf2-32_convker-3_dr-0.1</a></strong> to <a href='https://wandb.ai/totikos/model_cnn_mfcc_6_grey_81k-hpo' target=\"_blank\">Weights & Biases</a> (<a href='https://wandb.me/run' target=\"_blank\">docs</a>)<br/>"
      ],
      "text/plain": [
       "<IPython.core.display.HTML object>"
      ]
     },
     "metadata": {},
     "output_type": "display_data"
    },
    {
     "data": {
      "text/html": [
       " View project at <a href='https://wandb.ai/totikos/model_cnn_mfcc_6_grey_81k-hpo' target=\"_blank\">https://wandb.ai/totikos/model_cnn_mfcc_6_grey_81k-hpo</a>"
      ],
      "text/plain": [
       "<IPython.core.display.HTML object>"
      ]
     },
     "metadata": {},
     "output_type": "display_data"
    },
    {
     "data": {
      "text/html": [
       " View run at <a href='https://wandb.ai/totikos/model_cnn_mfcc_6_grey_81k-hpo/runs/rjiwmvbn' target=\"_blank\">https://wandb.ai/totikos/model_cnn_mfcc_6_grey_81k-hpo/runs/rjiwmvbn</a>"
      ],
      "text/plain": [
       "<IPython.core.display.HTML object>"
      ]
     },
     "metadata": {},
     "output_type": "display_data"
    },
    {
     "name": "stderr",
     "output_type": "stream",
     "text": [
      "100%|████████████████████████████████████████| 380/380 [02:17<00:00,  2.76it/s]\n",
      "100%|██████████████████████████████████████████| 82/82 [00:13<00:00,  6.05it/s]\n",
      "[I 2024-01-07 01:00:05,254] Trial 41 pruned. \n"
     ]
    },
    {
     "name": "stdout",
     "output_type": "stream",
     "text": [
      "{'out_channels_l1': 16, 'out_channels_l2': 32, 'conv_kernel_size': 3, 'dropout_rate': 0.2}\n"
     ]
    },
    {
     "data": {
      "text/html": [
       "Finishing last run (ID:rjiwmvbn) before initializing another..."
      ],
      "text/plain": [
       "<IPython.core.display.HTML object>"
      ]
     },
     "metadata": {},
     "output_type": "display_data"
    },
    {
     "data": {
      "text/html": [
       "Waiting for W&B process to finish... <strong style=\"color:green\">(success).</strong>"
      ],
      "text/plain": [
       "<IPython.core.display.HTML object>"
      ]
     },
     "metadata": {},
     "output_type": "display_data"
    },
    {
     "data": {
      "text/html": [
       " View run <strong style=\"color:#cdcd00\">41_cnn_mfcc_6_grey_81k_lr-0.0001_convf1-64_convf2-32_convker-3_dr-0.1</strong> at: <a href='https://wandb.ai/totikos/model_cnn_mfcc_6_grey_81k-hpo/runs/rjiwmvbn' target=\"_blank\">https://wandb.ai/totikos/model_cnn_mfcc_6_grey_81k-hpo/runs/rjiwmvbn</a><br/> View job at <a href='https://wandb.ai/totikos/model_cnn_mfcc_6_grey_81k-hpo/jobs/QXJ0aWZhY3RDb2xsZWN0aW9uOjEyNzk0NTQwMw==/version_details/v4' target=\"_blank\">https://wandb.ai/totikos/model_cnn_mfcc_6_grey_81k-hpo/jobs/QXJ0aWZhY3RDb2xsZWN0aW9uOjEyNzk0NTQwMw==/version_details/v4</a><br/>Synced 5 W&B file(s), 0 media file(s), 0 artifact file(s) and 0 other file(s)"
      ],
      "text/plain": [
       "<IPython.core.display.HTML object>"
      ]
     },
     "metadata": {},
     "output_type": "display_data"
    },
    {
     "data": {
      "text/html": [
       "Find logs at: <code>C:\\Users\\nekta\\OneDrive\\Desktop\\botanic-emotion-recognition\\logs\\wandb\\run-20240107_005727-rjiwmvbn\\logs</code>"
      ],
      "text/plain": [
       "<IPython.core.display.HTML object>"
      ]
     },
     "metadata": {},
     "output_type": "display_data"
    },
    {
     "data": {
      "text/html": [
       "Successfully finished last run (ID:rjiwmvbn). Initializing new run:<br/>"
      ],
      "text/plain": [
       "<IPython.core.display.HTML object>"
      ]
     },
     "metadata": {},
     "output_type": "display_data"
    },
    {
     "data": {
      "text/html": [
       "wandb version 0.16.1 is available!  To upgrade, please run:\n",
       " $ pip install wandb --upgrade"
      ],
      "text/plain": [
       "<IPython.core.display.HTML object>"
      ]
     },
     "metadata": {},
     "output_type": "display_data"
    },
    {
     "data": {
      "text/html": [
       "Tracking run with wandb version 0.15.12"
      ],
      "text/plain": [
       "<IPython.core.display.HTML object>"
      ]
     },
     "metadata": {},
     "output_type": "display_data"
    },
    {
     "data": {
      "text/html": [
       "Run data is saved locally in <code>C:\\Users\\nekta\\OneDrive\\Desktop\\botanic-emotion-recognition\\logs\\wandb\\run-20240107_010005-jdtqasoe</code>"
      ],
      "text/plain": [
       "<IPython.core.display.HTML object>"
      ]
     },
     "metadata": {},
     "output_type": "display_data"
    },
    {
     "data": {
      "text/html": [
       "Syncing run <strong><a href='https://wandb.ai/totikos/model_cnn_mfcc_6_grey_81k-hpo/runs/jdtqasoe' target=\"_blank\">42_cnn_mfcc_6_grey_81k_lr-0.001_convf1-16_convf2-32_convker-3_dr-0.2</a></strong> to <a href='https://wandb.ai/totikos/model_cnn_mfcc_6_grey_81k-hpo' target=\"_blank\">Weights & Biases</a> (<a href='https://wandb.me/run' target=\"_blank\">docs</a>)<br/>"
      ],
      "text/plain": [
       "<IPython.core.display.HTML object>"
      ]
     },
     "metadata": {},
     "output_type": "display_data"
    },
    {
     "data": {
      "text/html": [
       " View project at <a href='https://wandb.ai/totikos/model_cnn_mfcc_6_grey_81k-hpo' target=\"_blank\">https://wandb.ai/totikos/model_cnn_mfcc_6_grey_81k-hpo</a>"
      ],
      "text/plain": [
       "<IPython.core.display.HTML object>"
      ]
     },
     "metadata": {},
     "output_type": "display_data"
    },
    {
     "data": {
      "text/html": [
       " View run at <a href='https://wandb.ai/totikos/model_cnn_mfcc_6_grey_81k-hpo/runs/jdtqasoe' target=\"_blank\">https://wandb.ai/totikos/model_cnn_mfcc_6_grey_81k-hpo/runs/jdtqasoe</a>"
      ],
      "text/plain": [
       "<IPython.core.display.HTML object>"
      ]
     },
     "metadata": {},
     "output_type": "display_data"
    },
    {
     "name": "stderr",
     "output_type": "stream",
     "text": [
      "100%|████████████████████████████████████████| 380/380 [00:53<00:00,  7.05it/s]\n",
      "100%|██████████████████████████████████████████| 82/82 [00:04<00:00, 17.26it/s]\n",
      "100%|████████████████████████████████████████| 380/380 [00:57<00:00,  6.64it/s]\n",
      "100%|██████████████████████████████████████████| 82/82 [00:04<00:00, 17.13it/s]\n",
      "100%|████████████████████████████████████████| 380/380 [00:57<00:00,  6.62it/s]\n",
      "100%|██████████████████████████████████████████| 82/82 [00:04<00:00, 17.92it/s]\n",
      "100%|████████████████████████████████████████| 380/380 [00:54<00:00,  6.98it/s]\n",
      "100%|██████████████████████████████████████████| 82/82 [00:04<00:00, 17.92it/s]\n",
      "[I 2024-01-07 01:04:13,627] Trial 42 pruned. \n"
     ]
    },
    {
     "name": "stdout",
     "output_type": "stream",
     "text": [
      "{'out_channels_l1': 32, 'out_channels_l2': 64, 'conv_kernel_size': 3, 'dropout_rate': 0.1}\n"
     ]
    },
    {
     "data": {
      "text/html": [
       "Finishing last run (ID:jdtqasoe) before initializing another..."
      ],
      "text/plain": [
       "<IPython.core.display.HTML object>"
      ]
     },
     "metadata": {},
     "output_type": "display_data"
    },
    {
     "data": {
      "text/html": [
       "Waiting for W&B process to finish... <strong style=\"color:green\">(success).</strong>"
      ],
      "text/plain": [
       "<IPython.core.display.HTML object>"
      ]
     },
     "metadata": {},
     "output_type": "display_data"
    },
    {
     "data": {
      "text/html": [
       "<style>\n",
       "    table.wandb td:nth-child(1) { padding: 0 10px; text-align: left ; width: auto;} td:nth-child(2) {text-align: left ; width: 100%}\n",
       "    .wandb-row { display: flex; flex-direction: row; flex-wrap: wrap; justify-content: flex-start; width: 100% }\n",
       "    .wandb-col { display: flex; flex-direction: column; flex-basis: 100%; flex: 1; padding: 10px; }\n",
       "    </style>\n",
       "<div class=\"wandb-row\"><div class=\"wandb-col\"><h3>Run history:</h3><br/><table class=\"wandb\"><tr><td>accuracy</td><td>▁▇█</td></tr><tr><td>balanced_accuracy</td><td>▁▆█</td></tr><tr><td>f1_weighted</td><td>▁▇█</td></tr><tr><td>precision</td><td>▁▆█</td></tr><tr><td>recall</td><td>▁▇█</td></tr></table><br/></div><div class=\"wandb-col\"><h3>Run summary:</h3><br/><table class=\"wandb\"><tr><td>accuracy</td><td>0.52462</td></tr><tr><td>balanced_accuracy</td><td>0.36694</td></tr><tr><td>f1_weighted</td><td>0.50426</td></tr><tr><td>precision</td><td>0.50002</td></tr><tr><td>recall</td><td>0.52462</td></tr></table><br/></div></div>"
      ],
      "text/plain": [
       "<IPython.core.display.HTML object>"
      ]
     },
     "metadata": {},
     "output_type": "display_data"
    },
    {
     "data": {
      "text/html": [
       " View run <strong style=\"color:#cdcd00\">42_cnn_mfcc_6_grey_81k_lr-0.001_convf1-16_convf2-32_convker-3_dr-0.2</strong> at: <a href='https://wandb.ai/totikos/model_cnn_mfcc_6_grey_81k-hpo/runs/jdtqasoe' target=\"_blank\">https://wandb.ai/totikos/model_cnn_mfcc_6_grey_81k-hpo/runs/jdtqasoe</a><br/> View job at <a href='https://wandb.ai/totikos/model_cnn_mfcc_6_grey_81k-hpo/jobs/QXJ0aWZhY3RDb2xsZWN0aW9uOjEyNzk0NTQwMw==/version_details/v3' target=\"_blank\">https://wandb.ai/totikos/model_cnn_mfcc_6_grey_81k-hpo/jobs/QXJ0aWZhY3RDb2xsZWN0aW9uOjEyNzk0NTQwMw==/version_details/v3</a><br/>Synced 5 W&B file(s), 0 media file(s), 0 artifact file(s) and 0 other file(s)"
      ],
      "text/plain": [
       "<IPython.core.display.HTML object>"
      ]
     },
     "metadata": {},
     "output_type": "display_data"
    },
    {
     "data": {
      "text/html": [
       "Find logs at: <code>C:\\Users\\nekta\\OneDrive\\Desktop\\botanic-emotion-recognition\\logs\\wandb\\run-20240107_010005-jdtqasoe\\logs</code>"
      ],
      "text/plain": [
       "<IPython.core.display.HTML object>"
      ]
     },
     "metadata": {},
     "output_type": "display_data"
    },
    {
     "data": {
      "text/html": [
       "Successfully finished last run (ID:jdtqasoe). Initializing new run:<br/>"
      ],
      "text/plain": [
       "<IPython.core.display.HTML object>"
      ]
     },
     "metadata": {},
     "output_type": "display_data"
    },
    {
     "data": {
      "text/html": [
       "wandb version 0.16.1 is available!  To upgrade, please run:\n",
       " $ pip install wandb --upgrade"
      ],
      "text/plain": [
       "<IPython.core.display.HTML object>"
      ]
     },
     "metadata": {},
     "output_type": "display_data"
    },
    {
     "data": {
      "text/html": [
       "Tracking run with wandb version 0.15.12"
      ],
      "text/plain": [
       "<IPython.core.display.HTML object>"
      ]
     },
     "metadata": {},
     "output_type": "display_data"
    },
    {
     "data": {
      "text/html": [
       "Run data is saved locally in <code>C:\\Users\\nekta\\OneDrive\\Desktop\\botanic-emotion-recognition\\logs\\wandb\\run-20240107_010413-riwgc4dv</code>"
      ],
      "text/plain": [
       "<IPython.core.display.HTML object>"
      ]
     },
     "metadata": {},
     "output_type": "display_data"
    },
    {
     "data": {
      "text/html": [
       "Syncing run <strong><a href='https://wandb.ai/totikos/model_cnn_mfcc_6_grey_81k-hpo/runs/riwgc4dv' target=\"_blank\">43_cnn_mfcc_6_grey_81k_lr-0.0001_convf1-32_convf2-64_convker-3_dr-0.1</a></strong> to <a href='https://wandb.ai/totikos/model_cnn_mfcc_6_grey_81k-hpo' target=\"_blank\">Weights & Biases</a> (<a href='https://wandb.me/run' target=\"_blank\">docs</a>)<br/>"
      ],
      "text/plain": [
       "<IPython.core.display.HTML object>"
      ]
     },
     "metadata": {},
     "output_type": "display_data"
    },
    {
     "data": {
      "text/html": [
       " View project at <a href='https://wandb.ai/totikos/model_cnn_mfcc_6_grey_81k-hpo' target=\"_blank\">https://wandb.ai/totikos/model_cnn_mfcc_6_grey_81k-hpo</a>"
      ],
      "text/plain": [
       "<IPython.core.display.HTML object>"
      ]
     },
     "metadata": {},
     "output_type": "display_data"
    },
    {
     "data": {
      "text/html": [
       " View run at <a href='https://wandb.ai/totikos/model_cnn_mfcc_6_grey_81k-hpo/runs/riwgc4dv' target=\"_blank\">https://wandb.ai/totikos/model_cnn_mfcc_6_grey_81k-hpo/runs/riwgc4dv</a>"
      ],
      "text/plain": [
       "<IPython.core.display.HTML object>"
      ]
     },
     "metadata": {},
     "output_type": "display_data"
    },
    {
     "name": "stderr",
     "output_type": "stream",
     "text": [
      "100%|████████████████████████████████████████| 380/380 [01:49<00:00,  3.47it/s]\n",
      "100%|██████████████████████████████████████████| 82/82 [00:09<00:00,  8.70it/s]\n",
      "[I 2024-01-07 01:06:18,487] Trial 43 pruned. \n"
     ]
    },
    {
     "name": "stdout",
     "output_type": "stream",
     "text": [
      "{'out_channels_l1': 32, 'out_channels_l2': 64, 'conv_kernel_size': 3, 'dropout_rate': 0.1}\n"
     ]
    },
    {
     "data": {
      "text/html": [
       "Finishing last run (ID:riwgc4dv) before initializing another..."
      ],
      "text/plain": [
       "<IPython.core.display.HTML object>"
      ]
     },
     "metadata": {},
     "output_type": "display_data"
    },
    {
     "data": {
      "text/html": [
       "Waiting for W&B process to finish... <strong style=\"color:green\">(success).</strong>"
      ],
      "text/plain": [
       "<IPython.core.display.HTML object>"
      ]
     },
     "metadata": {},
     "output_type": "display_data"
    },
    {
     "data": {
      "text/html": [
       " View run <strong style=\"color:#cdcd00\">43_cnn_mfcc_6_grey_81k_lr-0.0001_convf1-32_convf2-64_convker-3_dr-0.1</strong> at: <a href='https://wandb.ai/totikos/model_cnn_mfcc_6_grey_81k-hpo/runs/riwgc4dv' target=\"_blank\">https://wandb.ai/totikos/model_cnn_mfcc_6_grey_81k-hpo/runs/riwgc4dv</a><br/> View job at <a href='https://wandb.ai/totikos/model_cnn_mfcc_6_grey_81k-hpo/jobs/QXJ0aWZhY3RDb2xsZWN0aW9uOjEyNzk0NTQwMw==/version_details/v4' target=\"_blank\">https://wandb.ai/totikos/model_cnn_mfcc_6_grey_81k-hpo/jobs/QXJ0aWZhY3RDb2xsZWN0aW9uOjEyNzk0NTQwMw==/version_details/v4</a><br/>Synced 5 W&B file(s), 0 media file(s), 0 artifact file(s) and 0 other file(s)"
      ],
      "text/plain": [
       "<IPython.core.display.HTML object>"
      ]
     },
     "metadata": {},
     "output_type": "display_data"
    },
    {
     "data": {
      "text/html": [
       "Find logs at: <code>C:\\Users\\nekta\\OneDrive\\Desktop\\botanic-emotion-recognition\\logs\\wandb\\run-20240107_010413-riwgc4dv\\logs</code>"
      ],
      "text/plain": [
       "<IPython.core.display.HTML object>"
      ]
     },
     "metadata": {},
     "output_type": "display_data"
    },
    {
     "data": {
      "text/html": [
       "Successfully finished last run (ID:riwgc4dv). Initializing new run:<br/>"
      ],
      "text/plain": [
       "<IPython.core.display.HTML object>"
      ]
     },
     "metadata": {},
     "output_type": "display_data"
    },
    {
     "data": {
      "text/html": [
       "wandb version 0.16.1 is available!  To upgrade, please run:\n",
       " $ pip install wandb --upgrade"
      ],
      "text/plain": [
       "<IPython.core.display.HTML object>"
      ]
     },
     "metadata": {},
     "output_type": "display_data"
    },
    {
     "data": {
      "text/html": [
       "Tracking run with wandb version 0.15.12"
      ],
      "text/plain": [
       "<IPython.core.display.HTML object>"
      ]
     },
     "metadata": {},
     "output_type": "display_data"
    },
    {
     "data": {
      "text/html": [
       "Run data is saved locally in <code>C:\\Users\\nekta\\OneDrive\\Desktop\\botanic-emotion-recognition\\logs\\wandb\\run-20240107_010618-208aqrzm</code>"
      ],
      "text/plain": [
       "<IPython.core.display.HTML object>"
      ]
     },
     "metadata": {},
     "output_type": "display_data"
    },
    {
     "data": {
      "text/html": [
       "Syncing run <strong><a href='https://wandb.ai/totikos/model_cnn_mfcc_6_grey_81k-hpo/runs/208aqrzm' target=\"_blank\">44_cnn_mfcc_6_grey_81k_lr-0.001_convf1-32_convf2-64_convker-3_dr-0.1</a></strong> to <a href='https://wandb.ai/totikos/model_cnn_mfcc_6_grey_81k-hpo' target=\"_blank\">Weights & Biases</a> (<a href='https://wandb.me/run' target=\"_blank\">docs</a>)<br/>"
      ],
      "text/plain": [
       "<IPython.core.display.HTML object>"
      ]
     },
     "metadata": {},
     "output_type": "display_data"
    },
    {
     "data": {
      "text/html": [
       " View project at <a href='https://wandb.ai/totikos/model_cnn_mfcc_6_grey_81k-hpo' target=\"_blank\">https://wandb.ai/totikos/model_cnn_mfcc_6_grey_81k-hpo</a>"
      ],
      "text/plain": [
       "<IPython.core.display.HTML object>"
      ]
     },
     "metadata": {},
     "output_type": "display_data"
    },
    {
     "data": {
      "text/html": [
       " View run at <a href='https://wandb.ai/totikos/model_cnn_mfcc_6_grey_81k-hpo/runs/208aqrzm' target=\"_blank\">https://wandb.ai/totikos/model_cnn_mfcc_6_grey_81k-hpo/runs/208aqrzm</a>"
      ],
      "text/plain": [
       "<IPython.core.display.HTML object>"
      ]
     },
     "metadata": {},
     "output_type": "display_data"
    },
    {
     "name": "stderr",
     "output_type": "stream",
     "text": [
      "100%|████████████████████████████████████████| 380/380 [01:45<00:00,  3.61it/s]\n",
      "100%|██████████████████████████████████████████| 82/82 [00:10<00:00,  7.96it/s]\n",
      "100%|████████████████████████████████████████| 380/380 [01:57<00:00,  3.23it/s]\n",
      "100%|██████████████████████████████████████████| 82/82 [00:09<00:00,  8.26it/s]\n",
      "100%|████████████████████████████████████████| 380/380 [01:58<00:00,  3.21it/s]\n",
      "100%|██████████████████████████████████████████| 82/82 [00:10<00:00,  7.79it/s]\n",
      "100%|████████████████████████████████████████| 380/380 [02:08<00:00,  2.96it/s]\n",
      "100%|██████████████████████████████████████████| 82/82 [00:09<00:00,  8.55it/s]\n",
      "[I 2024-01-07 01:14:54,917] Trial 44 pruned. \n"
     ]
    },
    {
     "name": "stdout",
     "output_type": "stream",
     "text": [
      "{'out_channels_l1': 64, 'out_channels_l2': 32, 'conv_kernel_size': 3, 'dropout_rate': 0.0}\n"
     ]
    },
    {
     "data": {
      "text/html": [
       "Finishing last run (ID:208aqrzm) before initializing another..."
      ],
      "text/plain": [
       "<IPython.core.display.HTML object>"
      ]
     },
     "metadata": {},
     "output_type": "display_data"
    },
    {
     "data": {
      "text/html": [
       "Waiting for W&B process to finish... <strong style=\"color:green\">(success).</strong>"
      ],
      "text/plain": [
       "<IPython.core.display.HTML object>"
      ]
     },
     "metadata": {},
     "output_type": "display_data"
    },
    {
     "data": {
      "text/html": [
       "<style>\n",
       "    table.wandb td:nth-child(1) { padding: 0 10px; text-align: left ; width: auto;} td:nth-child(2) {text-align: left ; width: 100%}\n",
       "    .wandb-row { display: flex; flex-direction: row; flex-wrap: wrap; justify-content: flex-start; width: 100% }\n",
       "    .wandb-col { display: flex; flex-direction: column; flex-basis: 100%; flex: 1; padding: 10px; }\n",
       "    </style>\n",
       "<div class=\"wandb-row\"><div class=\"wandb-col\"><h3>Run history:</h3><br/><table class=\"wandb\"><tr><td>accuracy</td><td>▁██</td></tr><tr><td>balanced_accuracy</td><td>▁██</td></tr><tr><td>f1_weighted</td><td>▁██</td></tr><tr><td>precision</td><td>▁██</td></tr><tr><td>recall</td><td>▁██</td></tr></table><br/></div><div class=\"wandb-col\"><h3>Run summary:</h3><br/><table class=\"wandb\"><tr><td>accuracy</td><td>0.52692</td></tr><tr><td>balanced_accuracy</td><td>0.36503</td></tr><tr><td>f1_weighted</td><td>0.50838</td></tr><tr><td>precision</td><td>0.50386</td></tr><tr><td>recall</td><td>0.52692</td></tr></table><br/></div></div>"
      ],
      "text/plain": [
       "<IPython.core.display.HTML object>"
      ]
     },
     "metadata": {},
     "output_type": "display_data"
    },
    {
     "data": {
      "text/html": [
       " View run <strong style=\"color:#cdcd00\">44_cnn_mfcc_6_grey_81k_lr-0.001_convf1-32_convf2-64_convker-3_dr-0.1</strong> at: <a href='https://wandb.ai/totikos/model_cnn_mfcc_6_grey_81k-hpo/runs/208aqrzm' target=\"_blank\">https://wandb.ai/totikos/model_cnn_mfcc_6_grey_81k-hpo/runs/208aqrzm</a><br/> View job at <a href='https://wandb.ai/totikos/model_cnn_mfcc_6_grey_81k-hpo/jobs/QXJ0aWZhY3RDb2xsZWN0aW9uOjEyNzk0NTQwMw==/version_details/v3' target=\"_blank\">https://wandb.ai/totikos/model_cnn_mfcc_6_grey_81k-hpo/jobs/QXJ0aWZhY3RDb2xsZWN0aW9uOjEyNzk0NTQwMw==/version_details/v3</a><br/>Synced 5 W&B file(s), 0 media file(s), 0 artifact file(s) and 0 other file(s)"
      ],
      "text/plain": [
       "<IPython.core.display.HTML object>"
      ]
     },
     "metadata": {},
     "output_type": "display_data"
    },
    {
     "data": {
      "text/html": [
       "Find logs at: <code>C:\\Users\\nekta\\OneDrive\\Desktop\\botanic-emotion-recognition\\logs\\wandb\\run-20240107_010618-208aqrzm\\logs</code>"
      ],
      "text/plain": [
       "<IPython.core.display.HTML object>"
      ]
     },
     "metadata": {},
     "output_type": "display_data"
    },
    {
     "data": {
      "text/html": [
       "Successfully finished last run (ID:208aqrzm). Initializing new run:<br/>"
      ],
      "text/plain": [
       "<IPython.core.display.HTML object>"
      ]
     },
     "metadata": {},
     "output_type": "display_data"
    },
    {
     "data": {
      "text/html": [
       "wandb version 0.16.1 is available!  To upgrade, please run:\n",
       " $ pip install wandb --upgrade"
      ],
      "text/plain": [
       "<IPython.core.display.HTML object>"
      ]
     },
     "metadata": {},
     "output_type": "display_data"
    },
    {
     "data": {
      "text/html": [
       "Tracking run with wandb version 0.15.12"
      ],
      "text/plain": [
       "<IPython.core.display.HTML object>"
      ]
     },
     "metadata": {},
     "output_type": "display_data"
    },
    {
     "data": {
      "text/html": [
       "Run data is saved locally in <code>C:\\Users\\nekta\\OneDrive\\Desktop\\botanic-emotion-recognition\\logs\\wandb\\run-20240107_011455-lfioyphc</code>"
      ],
      "text/plain": [
       "<IPython.core.display.HTML object>"
      ]
     },
     "metadata": {},
     "output_type": "display_data"
    },
    {
     "data": {
      "text/html": [
       "Syncing run <strong><a href='https://wandb.ai/totikos/model_cnn_mfcc_6_grey_81k-hpo/runs/lfioyphc' target=\"_blank\">45_cnn_mfcc_6_grey_81k_lr-0.01_convf1-64_convf2-32_convker-3_dr-0.0</a></strong> to <a href='https://wandb.ai/totikos/model_cnn_mfcc_6_grey_81k-hpo' target=\"_blank\">Weights & Biases</a> (<a href='https://wandb.me/run' target=\"_blank\">docs</a>)<br/>"
      ],
      "text/plain": [
       "<IPython.core.display.HTML object>"
      ]
     },
     "metadata": {},
     "output_type": "display_data"
    },
    {
     "data": {
      "text/html": [
       " View project at <a href='https://wandb.ai/totikos/model_cnn_mfcc_6_grey_81k-hpo' target=\"_blank\">https://wandb.ai/totikos/model_cnn_mfcc_6_grey_81k-hpo</a>"
      ],
      "text/plain": [
       "<IPython.core.display.HTML object>"
      ]
     },
     "metadata": {},
     "output_type": "display_data"
    },
    {
     "data": {
      "text/html": [
       " View run at <a href='https://wandb.ai/totikos/model_cnn_mfcc_6_grey_81k-hpo/runs/lfioyphc' target=\"_blank\">https://wandb.ai/totikos/model_cnn_mfcc_6_grey_81k-hpo/runs/lfioyphc</a>"
      ],
      "text/plain": [
       "<IPython.core.display.HTML object>"
      ]
     },
     "metadata": {},
     "output_type": "display_data"
    },
    {
     "name": "stderr",
     "output_type": "stream",
     "text": [
      "100%|████████████████████████████████████████| 380/380 [02:23<00:00,  2.65it/s]\n",
      "100%|██████████████████████████████████████████| 82/82 [00:14<00:00,  5.63it/s]\n",
      "[I 2024-01-07 01:17:38,527] Trial 45 pruned. \n"
     ]
    },
    {
     "name": "stdout",
     "output_type": "stream",
     "text": [
      "{'out_channels_l1': 64, 'out_channels_l2': 32, 'conv_kernel_size': 5, 'dropout_rate': 0.1}\n"
     ]
    },
    {
     "data": {
      "text/html": [
       "Finishing last run (ID:lfioyphc) before initializing another..."
      ],
      "text/plain": [
       "<IPython.core.display.HTML object>"
      ]
     },
     "metadata": {},
     "output_type": "display_data"
    },
    {
     "data": {
      "text/html": [
       "Waiting for W&B process to finish... <strong style=\"color:green\">(success).</strong>"
      ],
      "text/plain": [
       "<IPython.core.display.HTML object>"
      ]
     },
     "metadata": {},
     "output_type": "display_data"
    },
    {
     "data": {
      "text/html": [
       " View run <strong style=\"color:#cdcd00\">45_cnn_mfcc_6_grey_81k_lr-0.01_convf1-64_convf2-32_convker-3_dr-0.0</strong> at: <a href='https://wandb.ai/totikos/model_cnn_mfcc_6_grey_81k-hpo/runs/lfioyphc' target=\"_blank\">https://wandb.ai/totikos/model_cnn_mfcc_6_grey_81k-hpo/runs/lfioyphc</a><br/> View job at <a href='https://wandb.ai/totikos/model_cnn_mfcc_6_grey_81k-hpo/jobs/QXJ0aWZhY3RDb2xsZWN0aW9uOjEyNzk0NTQwMw==/version_details/v4' target=\"_blank\">https://wandb.ai/totikos/model_cnn_mfcc_6_grey_81k-hpo/jobs/QXJ0aWZhY3RDb2xsZWN0aW9uOjEyNzk0NTQwMw==/version_details/v4</a><br/>Synced 5 W&B file(s), 0 media file(s), 0 artifact file(s) and 0 other file(s)"
      ],
      "text/plain": [
       "<IPython.core.display.HTML object>"
      ]
     },
     "metadata": {},
     "output_type": "display_data"
    },
    {
     "data": {
      "text/html": [
       "Find logs at: <code>C:\\Users\\nekta\\OneDrive\\Desktop\\botanic-emotion-recognition\\logs\\wandb\\run-20240107_011455-lfioyphc\\logs</code>"
      ],
      "text/plain": [
       "<IPython.core.display.HTML object>"
      ]
     },
     "metadata": {},
     "output_type": "display_data"
    },
    {
     "data": {
      "text/html": [
       "Successfully finished last run (ID:lfioyphc). Initializing new run:<br/>"
      ],
      "text/plain": [
       "<IPython.core.display.HTML object>"
      ]
     },
     "metadata": {},
     "output_type": "display_data"
    },
    {
     "data": {
      "text/html": [
       "wandb version 0.16.1 is available!  To upgrade, please run:\n",
       " $ pip install wandb --upgrade"
      ],
      "text/plain": [
       "<IPython.core.display.HTML object>"
      ]
     },
     "metadata": {},
     "output_type": "display_data"
    },
    {
     "data": {
      "text/html": [
       "Tracking run with wandb version 0.15.12"
      ],
      "text/plain": [
       "<IPython.core.display.HTML object>"
      ]
     },
     "metadata": {},
     "output_type": "display_data"
    },
    {
     "data": {
      "text/html": [
       "Run data is saved locally in <code>C:\\Users\\nekta\\OneDrive\\Desktop\\botanic-emotion-recognition\\logs\\wandb\\run-20240107_011738-7flytiqx</code>"
      ],
      "text/plain": [
       "<IPython.core.display.HTML object>"
      ]
     },
     "metadata": {},
     "output_type": "display_data"
    },
    {
     "data": {
      "text/html": [
       "Syncing run <strong><a href='https://wandb.ai/totikos/model_cnn_mfcc_6_grey_81k-hpo/runs/7flytiqx' target=\"_blank\">46_cnn_mfcc_6_grey_81k_lr-0.01_convf1-64_convf2-32_convker-5_dr-0.1</a></strong> to <a href='https://wandb.ai/totikos/model_cnn_mfcc_6_grey_81k-hpo' target=\"_blank\">Weights & Biases</a> (<a href='https://wandb.me/run' target=\"_blank\">docs</a>)<br/>"
      ],
      "text/plain": [
       "<IPython.core.display.HTML object>"
      ]
     },
     "metadata": {},
     "output_type": "display_data"
    },
    {
     "data": {
      "text/html": [
       " View project at <a href='https://wandb.ai/totikos/model_cnn_mfcc_6_grey_81k-hpo' target=\"_blank\">https://wandb.ai/totikos/model_cnn_mfcc_6_grey_81k-hpo</a>"
      ],
      "text/plain": [
       "<IPython.core.display.HTML object>"
      ]
     },
     "metadata": {},
     "output_type": "display_data"
    },
    {
     "data": {
      "text/html": [
       " View run at <a href='https://wandb.ai/totikos/model_cnn_mfcc_6_grey_81k-hpo/runs/7flytiqx' target=\"_blank\">https://wandb.ai/totikos/model_cnn_mfcc_6_grey_81k-hpo/runs/7flytiqx</a>"
      ],
      "text/plain": [
       "<IPython.core.display.HTML object>"
      ]
     },
     "metadata": {},
     "output_type": "display_data"
    },
    {
     "name": "stderr",
     "output_type": "stream",
     "text": [
      "100%|████████████████████████████████████████| 380/380 [02:58<00:00,  2.13it/s]\n",
      "100%|██████████████████████████████████████████| 82/82 [00:14<00:00,  5.75it/s]\n",
      "[I 2024-01-07 01:20:57,227] Trial 46 pruned. \n"
     ]
    },
    {
     "name": "stdout",
     "output_type": "stream",
     "text": [
      "{'out_channels_l1': 32, 'out_channels_l2': 32, 'conv_kernel_size': 5, 'dropout_rate': 0.2}\n"
     ]
    },
    {
     "data": {
      "text/html": [
       "Finishing last run (ID:7flytiqx) before initializing another..."
      ],
      "text/plain": [
       "<IPython.core.display.HTML object>"
      ]
     },
     "metadata": {},
     "output_type": "display_data"
    },
    {
     "data": {
      "text/html": [
       "Waiting for W&B process to finish... <strong style=\"color:green\">(success).</strong>"
      ],
      "text/plain": [
       "<IPython.core.display.HTML object>"
      ]
     },
     "metadata": {},
     "output_type": "display_data"
    },
    {
     "data": {
      "text/html": [
       " View run <strong style=\"color:#cdcd00\">46_cnn_mfcc_6_grey_81k_lr-0.01_convf1-64_convf2-32_convker-5_dr-0.1</strong> at: <a href='https://wandb.ai/totikos/model_cnn_mfcc_6_grey_81k-hpo/runs/7flytiqx' target=\"_blank\">https://wandb.ai/totikos/model_cnn_mfcc_6_grey_81k-hpo/runs/7flytiqx</a><br/> View job at <a href='https://wandb.ai/totikos/model_cnn_mfcc_6_grey_81k-hpo/jobs/QXJ0aWZhY3RDb2xsZWN0aW9uOjEyNzk0NTQwMw==/version_details/v4' target=\"_blank\">https://wandb.ai/totikos/model_cnn_mfcc_6_grey_81k-hpo/jobs/QXJ0aWZhY3RDb2xsZWN0aW9uOjEyNzk0NTQwMw==/version_details/v4</a><br/>Synced 5 W&B file(s), 0 media file(s), 0 artifact file(s) and 0 other file(s)"
      ],
      "text/plain": [
       "<IPython.core.display.HTML object>"
      ]
     },
     "metadata": {},
     "output_type": "display_data"
    },
    {
     "data": {
      "text/html": [
       "Find logs at: <code>C:\\Users\\nekta\\OneDrive\\Desktop\\botanic-emotion-recognition\\logs\\wandb\\run-20240107_011738-7flytiqx\\logs</code>"
      ],
      "text/plain": [
       "<IPython.core.display.HTML object>"
      ]
     },
     "metadata": {},
     "output_type": "display_data"
    },
    {
     "data": {
      "text/html": [
       "Successfully finished last run (ID:7flytiqx). Initializing new run:<br/>"
      ],
      "text/plain": [
       "<IPython.core.display.HTML object>"
      ]
     },
     "metadata": {},
     "output_type": "display_data"
    },
    {
     "data": {
      "text/html": [
       "wandb version 0.16.1 is available!  To upgrade, please run:\n",
       " $ pip install wandb --upgrade"
      ],
      "text/plain": [
       "<IPython.core.display.HTML object>"
      ]
     },
     "metadata": {},
     "output_type": "display_data"
    },
    {
     "data": {
      "text/html": [
       "Tracking run with wandb version 0.15.12"
      ],
      "text/plain": [
       "<IPython.core.display.HTML object>"
      ]
     },
     "metadata": {},
     "output_type": "display_data"
    },
    {
     "data": {
      "text/html": [
       "Run data is saved locally in <code>C:\\Users\\nekta\\OneDrive\\Desktop\\botanic-emotion-recognition\\logs\\wandb\\run-20240107_012057-l53f5v4x</code>"
      ],
      "text/plain": [
       "<IPython.core.display.HTML object>"
      ]
     },
     "metadata": {},
     "output_type": "display_data"
    },
    {
     "data": {
      "text/html": [
       "Syncing run <strong><a href='https://wandb.ai/totikos/model_cnn_mfcc_6_grey_81k-hpo/runs/l53f5v4x' target=\"_blank\">47_cnn_mfcc_6_grey_81k_lr-0.001_convf1-32_convf2-32_convker-5_dr-0.2</a></strong> to <a href='https://wandb.ai/totikos/model_cnn_mfcc_6_grey_81k-hpo' target=\"_blank\">Weights & Biases</a> (<a href='https://wandb.me/run' target=\"_blank\">docs</a>)<br/>"
      ],
      "text/plain": [
       "<IPython.core.display.HTML object>"
      ]
     },
     "metadata": {},
     "output_type": "display_data"
    },
    {
     "data": {
      "text/html": [
       " View project at <a href='https://wandb.ai/totikos/model_cnn_mfcc_6_grey_81k-hpo' target=\"_blank\">https://wandb.ai/totikos/model_cnn_mfcc_6_grey_81k-hpo</a>"
      ],
      "text/plain": [
       "<IPython.core.display.HTML object>"
      ]
     },
     "metadata": {},
     "output_type": "display_data"
    },
    {
     "data": {
      "text/html": [
       " View run at <a href='https://wandb.ai/totikos/model_cnn_mfcc_6_grey_81k-hpo/runs/l53f5v4x' target=\"_blank\">https://wandb.ai/totikos/model_cnn_mfcc_6_grey_81k-hpo/runs/l53f5v4x</a>"
      ],
      "text/plain": [
       "<IPython.core.display.HTML object>"
      ]
     },
     "metadata": {},
     "output_type": "display_data"
    },
    {
     "name": "stderr",
     "output_type": "stream",
     "text": [
      "100%|████████████████████████████████████████| 380/380 [01:34<00:00,  4.04it/s]\n",
      "100%|██████████████████████████████████████████| 82/82 [00:08<00:00, 10.06it/s]\n",
      "[I 2024-01-07 01:22:45,777] Trial 47 pruned. \n"
     ]
    },
    {
     "name": "stdout",
     "output_type": "stream",
     "text": [
      "{'out_channels_l1': 32, 'out_channels_l2': 64, 'conv_kernel_size': 5, 'dropout_rate': 0.2}\n"
     ]
    },
    {
     "data": {
      "text/html": [
       "Finishing last run (ID:l53f5v4x) before initializing another..."
      ],
      "text/plain": [
       "<IPython.core.display.HTML object>"
      ]
     },
     "metadata": {},
     "output_type": "display_data"
    },
    {
     "data": {
      "text/html": [
       "Waiting for W&B process to finish... <strong style=\"color:green\">(success).</strong>"
      ],
      "text/plain": [
       "<IPython.core.display.HTML object>"
      ]
     },
     "metadata": {},
     "output_type": "display_data"
    },
    {
     "data": {
      "text/html": [
       " View run <strong style=\"color:#cdcd00\">47_cnn_mfcc_6_grey_81k_lr-0.001_convf1-32_convf2-32_convker-5_dr-0.2</strong> at: <a href='https://wandb.ai/totikos/model_cnn_mfcc_6_grey_81k-hpo/runs/l53f5v4x' target=\"_blank\">https://wandb.ai/totikos/model_cnn_mfcc_6_grey_81k-hpo/runs/l53f5v4x</a><br/> View job at <a href='https://wandb.ai/totikos/model_cnn_mfcc_6_grey_81k-hpo/jobs/QXJ0aWZhY3RDb2xsZWN0aW9uOjEyNzk0NTQwMw==/version_details/v4' target=\"_blank\">https://wandb.ai/totikos/model_cnn_mfcc_6_grey_81k-hpo/jobs/QXJ0aWZhY3RDb2xsZWN0aW9uOjEyNzk0NTQwMw==/version_details/v4</a><br/>Synced 5 W&B file(s), 0 media file(s), 0 artifact file(s) and 0 other file(s)"
      ],
      "text/plain": [
       "<IPython.core.display.HTML object>"
      ]
     },
     "metadata": {},
     "output_type": "display_data"
    },
    {
     "data": {
      "text/html": [
       "Find logs at: <code>C:\\Users\\nekta\\OneDrive\\Desktop\\botanic-emotion-recognition\\logs\\wandb\\run-20240107_012057-l53f5v4x\\logs</code>"
      ],
      "text/plain": [
       "<IPython.core.display.HTML object>"
      ]
     },
     "metadata": {},
     "output_type": "display_data"
    },
    {
     "data": {
      "text/html": [
       "Successfully finished last run (ID:l53f5v4x). Initializing new run:<br/>"
      ],
      "text/plain": [
       "<IPython.core.display.HTML object>"
      ]
     },
     "metadata": {},
     "output_type": "display_data"
    },
    {
     "data": {
      "text/html": [
       "wandb version 0.16.1 is available!  To upgrade, please run:\n",
       " $ pip install wandb --upgrade"
      ],
      "text/plain": [
       "<IPython.core.display.HTML object>"
      ]
     },
     "metadata": {},
     "output_type": "display_data"
    },
    {
     "data": {
      "text/html": [
       "Tracking run with wandb version 0.15.12"
      ],
      "text/plain": [
       "<IPython.core.display.HTML object>"
      ]
     },
     "metadata": {},
     "output_type": "display_data"
    },
    {
     "data": {
      "text/html": [
       "Run data is saved locally in <code>C:\\Users\\nekta\\OneDrive\\Desktop\\botanic-emotion-recognition\\logs\\wandb\\run-20240107_012245-1p3sa4u9</code>"
      ],
      "text/plain": [
       "<IPython.core.display.HTML object>"
      ]
     },
     "metadata": {},
     "output_type": "display_data"
    },
    {
     "data": {
      "text/html": [
       "Syncing run <strong><a href='https://wandb.ai/totikos/model_cnn_mfcc_6_grey_81k-hpo/runs/1p3sa4u9' target=\"_blank\">48_cnn_mfcc_6_grey_81k_lr-0.0001_convf1-32_convf2-64_convker-5_dr-0.2</a></strong> to <a href='https://wandb.ai/totikos/model_cnn_mfcc_6_grey_81k-hpo' target=\"_blank\">Weights & Biases</a> (<a href='https://wandb.me/run' target=\"_blank\">docs</a>)<br/>"
      ],
      "text/plain": [
       "<IPython.core.display.HTML object>"
      ]
     },
     "metadata": {},
     "output_type": "display_data"
    },
    {
     "data": {
      "text/html": [
       " View project at <a href='https://wandb.ai/totikos/model_cnn_mfcc_6_grey_81k-hpo' target=\"_blank\">https://wandb.ai/totikos/model_cnn_mfcc_6_grey_81k-hpo</a>"
      ],
      "text/plain": [
       "<IPython.core.display.HTML object>"
      ]
     },
     "metadata": {},
     "output_type": "display_data"
    },
    {
     "data": {
      "text/html": [
       " View run at <a href='https://wandb.ai/totikos/model_cnn_mfcc_6_grey_81k-hpo/runs/1p3sa4u9' target=\"_blank\">https://wandb.ai/totikos/model_cnn_mfcc_6_grey_81k-hpo/runs/1p3sa4u9</a>"
      ],
      "text/plain": [
       "<IPython.core.display.HTML object>"
      ]
     },
     "metadata": {},
     "output_type": "display_data"
    },
    {
     "name": "stderr",
     "output_type": "stream",
     "text": [
      "100%|████████████████████████████████████████| 380/380 [02:22<00:00,  2.67it/s]\n",
      "100%|██████████████████████████████████████████| 82/82 [00:10<00:00,  7.79it/s]\n",
      "[I 2024-01-07 01:25:25,538] Trial 48 pruned. \n"
     ]
    },
    {
     "name": "stdout",
     "output_type": "stream",
     "text": [
      "{'out_channels_l1': 64, 'out_channels_l2': 64, 'conv_kernel_size': 5, 'dropout_rate': 0.1}\n"
     ]
    },
    {
     "data": {
      "text/html": [
       "Finishing last run (ID:1p3sa4u9) before initializing another..."
      ],
      "text/plain": [
       "<IPython.core.display.HTML object>"
      ]
     },
     "metadata": {},
     "output_type": "display_data"
    },
    {
     "data": {
      "text/html": [
       "Waiting for W&B process to finish... <strong style=\"color:green\">(success).</strong>"
      ],
      "text/plain": [
       "<IPython.core.display.HTML object>"
      ]
     },
     "metadata": {},
     "output_type": "display_data"
    },
    {
     "data": {
      "text/html": [
       " View run <strong style=\"color:#cdcd00\">48_cnn_mfcc_6_grey_81k_lr-0.0001_convf1-32_convf2-64_convker-5_dr-0.2</strong> at: <a href='https://wandb.ai/totikos/model_cnn_mfcc_6_grey_81k-hpo/runs/1p3sa4u9' target=\"_blank\">https://wandb.ai/totikos/model_cnn_mfcc_6_grey_81k-hpo/runs/1p3sa4u9</a><br/> View job at <a href='https://wandb.ai/totikos/model_cnn_mfcc_6_grey_81k-hpo/jobs/QXJ0aWZhY3RDb2xsZWN0aW9uOjEyNzk0NTQwMw==/version_details/v4' target=\"_blank\">https://wandb.ai/totikos/model_cnn_mfcc_6_grey_81k-hpo/jobs/QXJ0aWZhY3RDb2xsZWN0aW9uOjEyNzk0NTQwMw==/version_details/v4</a><br/>Synced 5 W&B file(s), 0 media file(s), 0 artifact file(s) and 0 other file(s)"
      ],
      "text/plain": [
       "<IPython.core.display.HTML object>"
      ]
     },
     "metadata": {},
     "output_type": "display_data"
    },
    {
     "data": {
      "text/html": [
       "Find logs at: <code>C:\\Users\\nekta\\OneDrive\\Desktop\\botanic-emotion-recognition\\logs\\wandb\\run-20240107_012245-1p3sa4u9\\logs</code>"
      ],
      "text/plain": [
       "<IPython.core.display.HTML object>"
      ]
     },
     "metadata": {},
     "output_type": "display_data"
    },
    {
     "data": {
      "text/html": [
       "Successfully finished last run (ID:1p3sa4u9). Initializing new run:<br/>"
      ],
      "text/plain": [
       "<IPython.core.display.HTML object>"
      ]
     },
     "metadata": {},
     "output_type": "display_data"
    },
    {
     "data": {
      "text/html": [
       "wandb version 0.16.1 is available!  To upgrade, please run:\n",
       " $ pip install wandb --upgrade"
      ],
      "text/plain": [
       "<IPython.core.display.HTML object>"
      ]
     },
     "metadata": {},
     "output_type": "display_data"
    },
    {
     "data": {
      "text/html": [
       "Tracking run with wandb version 0.15.12"
      ],
      "text/plain": [
       "<IPython.core.display.HTML object>"
      ]
     },
     "metadata": {},
     "output_type": "display_data"
    },
    {
     "data": {
      "text/html": [
       "Run data is saved locally in <code>C:\\Users\\nekta\\OneDrive\\Desktop\\botanic-emotion-recognition\\logs\\wandb\\run-20240107_012525-t459xyd5</code>"
      ],
      "text/plain": [
       "<IPython.core.display.HTML object>"
      ]
     },
     "metadata": {},
     "output_type": "display_data"
    },
    {
     "data": {
      "text/html": [
       "Syncing run <strong><a href='https://wandb.ai/totikos/model_cnn_mfcc_6_grey_81k-hpo/runs/t459xyd5' target=\"_blank\">49_cnn_mfcc_6_grey_81k_lr-0.01_convf1-64_convf2-64_convker-5_dr-0.1</a></strong> to <a href='https://wandb.ai/totikos/model_cnn_mfcc_6_grey_81k-hpo' target=\"_blank\">Weights & Biases</a> (<a href='https://wandb.me/run' target=\"_blank\">docs</a>)<br/>"
      ],
      "text/plain": [
       "<IPython.core.display.HTML object>"
      ]
     },
     "metadata": {},
     "output_type": "display_data"
    },
    {
     "data": {
      "text/html": [
       " View project at <a href='https://wandb.ai/totikos/model_cnn_mfcc_6_grey_81k-hpo' target=\"_blank\">https://wandb.ai/totikos/model_cnn_mfcc_6_grey_81k-hpo</a>"
      ],
      "text/plain": [
       "<IPython.core.display.HTML object>"
      ]
     },
     "metadata": {},
     "output_type": "display_data"
    },
    {
     "data": {
      "text/html": [
       " View run at <a href='https://wandb.ai/totikos/model_cnn_mfcc_6_grey_81k-hpo/runs/t459xyd5' target=\"_blank\">https://wandb.ai/totikos/model_cnn_mfcc_6_grey_81k-hpo/runs/t459xyd5</a>"
      ],
      "text/plain": [
       "<IPython.core.display.HTML object>"
      ]
     },
     "metadata": {},
     "output_type": "display_data"
    },
    {
     "name": "stderr",
     "output_type": "stream",
     "text": [
      "100%|████████████████████████████████████████| 380/380 [03:24<00:00,  1.86it/s]\n",
      "100%|██████████████████████████████████████████| 82/82 [00:17<00:00,  4.68it/s]\n",
      "[I 2024-01-07 01:29:13,735] Trial 49 pruned. \n"
     ]
    },
    {
     "name": "stdout",
     "output_type": "stream",
     "text": [
      "{'out_channels_l1': 16, 'out_channels_l2': 32, 'conv_kernel_size': 3, 'dropout_rate': 0.2}\n"
     ]
    },
    {
     "data": {
      "text/html": [
       "Finishing last run (ID:t459xyd5) before initializing another..."
      ],
      "text/plain": [
       "<IPython.core.display.HTML object>"
      ]
     },
     "metadata": {},
     "output_type": "display_data"
    },
    {
     "data": {
      "text/html": [
       "Waiting for W&B process to finish... <strong style=\"color:green\">(success).</strong>"
      ],
      "text/plain": [
       "<IPython.core.display.HTML object>"
      ]
     },
     "metadata": {},
     "output_type": "display_data"
    },
    {
     "data": {
      "text/html": [
       " View run <strong style=\"color:#cdcd00\">49_cnn_mfcc_6_grey_81k_lr-0.01_convf1-64_convf2-64_convker-5_dr-0.1</strong> at: <a href='https://wandb.ai/totikos/model_cnn_mfcc_6_grey_81k-hpo/runs/t459xyd5' target=\"_blank\">https://wandb.ai/totikos/model_cnn_mfcc_6_grey_81k-hpo/runs/t459xyd5</a><br/> View job at <a href='https://wandb.ai/totikos/model_cnn_mfcc_6_grey_81k-hpo/jobs/QXJ0aWZhY3RDb2xsZWN0aW9uOjEyNzk0NTQwMw==/version_details/v4' target=\"_blank\">https://wandb.ai/totikos/model_cnn_mfcc_6_grey_81k-hpo/jobs/QXJ0aWZhY3RDb2xsZWN0aW9uOjEyNzk0NTQwMw==/version_details/v4</a><br/>Synced 5 W&B file(s), 0 media file(s), 0 artifact file(s) and 0 other file(s)"
      ],
      "text/plain": [
       "<IPython.core.display.HTML object>"
      ]
     },
     "metadata": {},
     "output_type": "display_data"
    },
    {
     "data": {
      "text/html": [
       "Find logs at: <code>C:\\Users\\nekta\\OneDrive\\Desktop\\botanic-emotion-recognition\\logs\\wandb\\run-20240107_012525-t459xyd5\\logs</code>"
      ],
      "text/plain": [
       "<IPython.core.display.HTML object>"
      ]
     },
     "metadata": {},
     "output_type": "display_data"
    },
    {
     "data": {
      "text/html": [
       "Successfully finished last run (ID:t459xyd5). Initializing new run:<br/>"
      ],
      "text/plain": [
       "<IPython.core.display.HTML object>"
      ]
     },
     "metadata": {},
     "output_type": "display_data"
    },
    {
     "data": {
      "text/html": [
       "wandb version 0.16.1 is available!  To upgrade, please run:\n",
       " $ pip install wandb --upgrade"
      ],
      "text/plain": [
       "<IPython.core.display.HTML object>"
      ]
     },
     "metadata": {},
     "output_type": "display_data"
    },
    {
     "data": {
      "text/html": [
       "Tracking run with wandb version 0.15.12"
      ],
      "text/plain": [
       "<IPython.core.display.HTML object>"
      ]
     },
     "metadata": {},
     "output_type": "display_data"
    },
    {
     "data": {
      "text/html": [
       "Run data is saved locally in <code>C:\\Users\\nekta\\OneDrive\\Desktop\\botanic-emotion-recognition\\logs\\wandb\\run-20240107_012913-kdomeqsb</code>"
      ],
      "text/plain": [
       "<IPython.core.display.HTML object>"
      ]
     },
     "metadata": {},
     "output_type": "display_data"
    },
    {
     "data": {
      "text/html": [
       "Syncing run <strong><a href='https://wandb.ai/totikos/model_cnn_mfcc_6_grey_81k-hpo/runs/kdomeqsb' target=\"_blank\">50_cnn_mfcc_6_grey_81k_lr-0.0001_convf1-16_convf2-32_convker-3_dr-0.2</a></strong> to <a href='https://wandb.ai/totikos/model_cnn_mfcc_6_grey_81k-hpo' target=\"_blank\">Weights & Biases</a> (<a href='https://wandb.me/run' target=\"_blank\">docs</a>)<br/>"
      ],
      "text/plain": [
       "<IPython.core.display.HTML object>"
      ]
     },
     "metadata": {},
     "output_type": "display_data"
    },
    {
     "data": {
      "text/html": [
       " View project at <a href='https://wandb.ai/totikos/model_cnn_mfcc_6_grey_81k-hpo' target=\"_blank\">https://wandb.ai/totikos/model_cnn_mfcc_6_grey_81k-hpo</a>"
      ],
      "text/plain": [
       "<IPython.core.display.HTML object>"
      ]
     },
     "metadata": {},
     "output_type": "display_data"
    },
    {
     "data": {
      "text/html": [
       " View run at <a href='https://wandb.ai/totikos/model_cnn_mfcc_6_grey_81k-hpo/runs/kdomeqsb' target=\"_blank\">https://wandb.ai/totikos/model_cnn_mfcc_6_grey_81k-hpo/runs/kdomeqsb</a>"
      ],
      "text/plain": [
       "<IPython.core.display.HTML object>"
      ]
     },
     "metadata": {},
     "output_type": "display_data"
    },
    {
     "name": "stderr",
     "output_type": "stream",
     "text": [
      "100%|████████████████████████████████████████| 380/380 [00:57<00:00,  6.59it/s]\n",
      "100%|██████████████████████████████████████████| 82/82 [00:05<00:00, 14.75it/s]\n",
      "[I 2024-01-07 01:30:25,464] Trial 50 pruned. \n"
     ]
    },
    {
     "name": "stdout",
     "output_type": "stream",
     "text": [
      "{'out_channels_l1': 16, 'out_channels_l2': 64, 'conv_kernel_size': 3, 'dropout_rate': 0.0}\n"
     ]
    },
    {
     "data": {
      "text/html": [
       "Finishing last run (ID:kdomeqsb) before initializing another..."
      ],
      "text/plain": [
       "<IPython.core.display.HTML object>"
      ]
     },
     "metadata": {},
     "output_type": "display_data"
    },
    {
     "data": {
      "text/html": [
       "Waiting for W&B process to finish... <strong style=\"color:green\">(success).</strong>"
      ],
      "text/plain": [
       "<IPython.core.display.HTML object>"
      ]
     },
     "metadata": {},
     "output_type": "display_data"
    },
    {
     "data": {
      "text/html": [
       " View run <strong style=\"color:#cdcd00\">50_cnn_mfcc_6_grey_81k_lr-0.0001_convf1-16_convf2-32_convker-3_dr-0.2</strong> at: <a href='https://wandb.ai/totikos/model_cnn_mfcc_6_grey_81k-hpo/runs/kdomeqsb' target=\"_blank\">https://wandb.ai/totikos/model_cnn_mfcc_6_grey_81k-hpo/runs/kdomeqsb</a><br/> View job at <a href='https://wandb.ai/totikos/model_cnn_mfcc_6_grey_81k-hpo/jobs/QXJ0aWZhY3RDb2xsZWN0aW9uOjEyNzk0NTQwMw==/version_details/v4' target=\"_blank\">https://wandb.ai/totikos/model_cnn_mfcc_6_grey_81k-hpo/jobs/QXJ0aWZhY3RDb2xsZWN0aW9uOjEyNzk0NTQwMw==/version_details/v4</a><br/>Synced 5 W&B file(s), 0 media file(s), 0 artifact file(s) and 0 other file(s)"
      ],
      "text/plain": [
       "<IPython.core.display.HTML object>"
      ]
     },
     "metadata": {},
     "output_type": "display_data"
    },
    {
     "data": {
      "text/html": [
       "Find logs at: <code>C:\\Users\\nekta\\OneDrive\\Desktop\\botanic-emotion-recognition\\logs\\wandb\\run-20240107_012913-kdomeqsb\\logs</code>"
      ],
      "text/plain": [
       "<IPython.core.display.HTML object>"
      ]
     },
     "metadata": {},
     "output_type": "display_data"
    },
    {
     "data": {
      "text/html": [
       "Successfully finished last run (ID:kdomeqsb). Initializing new run:<br/>"
      ],
      "text/plain": [
       "<IPython.core.display.HTML object>"
      ]
     },
     "metadata": {},
     "output_type": "display_data"
    },
    {
     "data": {
      "text/html": [
       "wandb version 0.16.1 is available!  To upgrade, please run:\n",
       " $ pip install wandb --upgrade"
      ],
      "text/plain": [
       "<IPython.core.display.HTML object>"
      ]
     },
     "metadata": {},
     "output_type": "display_data"
    },
    {
     "data": {
      "text/html": [
       "Tracking run with wandb version 0.15.12"
      ],
      "text/plain": [
       "<IPython.core.display.HTML object>"
      ]
     },
     "metadata": {},
     "output_type": "display_data"
    },
    {
     "data": {
      "text/html": [
       "Run data is saved locally in <code>C:\\Users\\nekta\\OneDrive\\Desktop\\botanic-emotion-recognition\\logs\\wandb\\run-20240107_013025-yfqr1f3q</code>"
      ],
      "text/plain": [
       "<IPython.core.display.HTML object>"
      ]
     },
     "metadata": {},
     "output_type": "display_data"
    },
    {
     "data": {
      "text/html": [
       "Syncing run <strong><a href='https://wandb.ai/totikos/model_cnn_mfcc_6_grey_81k-hpo/runs/yfqr1f3q' target=\"_blank\">51_cnn_mfcc_6_grey_81k_lr-0.01_convf1-16_convf2-64_convker-3_dr-0.0</a></strong> to <a href='https://wandb.ai/totikos/model_cnn_mfcc_6_grey_81k-hpo' target=\"_blank\">Weights & Biases</a> (<a href='https://wandb.me/run' target=\"_blank\">docs</a>)<br/>"
      ],
      "text/plain": [
       "<IPython.core.display.HTML object>"
      ]
     },
     "metadata": {},
     "output_type": "display_data"
    },
    {
     "data": {
      "text/html": [
       " View project at <a href='https://wandb.ai/totikos/model_cnn_mfcc_6_grey_81k-hpo' target=\"_blank\">https://wandb.ai/totikos/model_cnn_mfcc_6_grey_81k-hpo</a>"
      ],
      "text/plain": [
       "<IPython.core.display.HTML object>"
      ]
     },
     "metadata": {},
     "output_type": "display_data"
    },
    {
     "data": {
      "text/html": [
       " View run at <a href='https://wandb.ai/totikos/model_cnn_mfcc_6_grey_81k-hpo/runs/yfqr1f3q' target=\"_blank\">https://wandb.ai/totikos/model_cnn_mfcc_6_grey_81k-hpo/runs/yfqr1f3q</a>"
      ],
      "text/plain": [
       "<IPython.core.display.HTML object>"
      ]
     },
     "metadata": {},
     "output_type": "display_data"
    },
    {
     "name": "stderr",
     "output_type": "stream",
     "text": [
      "100%|████████████████████████████████████████| 380/380 [01:02<00:00,  6.08it/s]\n",
      "100%|██████████████████████████████████████████| 82/82 [00:07<00:00, 11.59it/s]\n",
      "100%|████████████████████████████████████████| 380/380 [01:12<00:00,  5.26it/s]\n",
      "100%|██████████████████████████████████████████| 82/82 [00:05<00:00, 14.19it/s]\n",
      "[I 2024-01-07 01:32:59,089] Trial 51 pruned. \n"
     ]
    },
    {
     "name": "stdout",
     "output_type": "stream",
     "text": [
      "{'out_channels_l1': 32, 'out_channels_l2': 32, 'conv_kernel_size': 5, 'dropout_rate': 0.0}\n"
     ]
    },
    {
     "data": {
      "text/html": [
       "Finishing last run (ID:yfqr1f3q) before initializing another..."
      ],
      "text/plain": [
       "<IPython.core.display.HTML object>"
      ]
     },
     "metadata": {},
     "output_type": "display_data"
    },
    {
     "data": {
      "text/html": [
       "Waiting for W&B process to finish... <strong style=\"color:green\">(success).</strong>"
      ],
      "text/plain": [
       "<IPython.core.display.HTML object>"
      ]
     },
     "metadata": {},
     "output_type": "display_data"
    },
    {
     "data": {
      "text/html": [
       "<style>\n",
       "    table.wandb td:nth-child(1) { padding: 0 10px; text-align: left ; width: auto;} td:nth-child(2) {text-align: left ; width: 100%}\n",
       "    .wandb-row { display: flex; flex-direction: row; flex-wrap: wrap; justify-content: flex-start; width: 100% }\n",
       "    .wandb-col { display: flex; flex-direction: column; flex-basis: 100%; flex: 1; padding: 10px; }\n",
       "    </style>\n",
       "<div class=\"wandb-row\"><div class=\"wandb-col\"><h3>Run history:</h3><br/><table class=\"wandb\"><tr><td>accuracy</td><td>▁</td></tr><tr><td>balanced_accuracy</td><td>▁</td></tr><tr><td>f1_weighted</td><td>▁</td></tr><tr><td>precision</td><td>▁</td></tr><tr><td>recall</td><td>▁</td></tr></table><br/></div><div class=\"wandb-col\"><h3>Run summary:</h3><br/><table class=\"wandb\"><tr><td>accuracy</td><td>0.47308</td></tr><tr><td>balanced_accuracy</td><td>0.31087</td></tr><tr><td>f1_weighted</td><td>0.42659</td></tr><tr><td>precision</td><td>0.45478</td></tr><tr><td>recall</td><td>0.47308</td></tr></table><br/></div></div>"
      ],
      "text/plain": [
       "<IPython.core.display.HTML object>"
      ]
     },
     "metadata": {},
     "output_type": "display_data"
    },
    {
     "data": {
      "text/html": [
       " View run <strong style=\"color:#cdcd00\">51_cnn_mfcc_6_grey_81k_lr-0.01_convf1-16_convf2-64_convker-3_dr-0.0</strong> at: <a href='https://wandb.ai/totikos/model_cnn_mfcc_6_grey_81k-hpo/runs/yfqr1f3q' target=\"_blank\">https://wandb.ai/totikos/model_cnn_mfcc_6_grey_81k-hpo/runs/yfqr1f3q</a><br/> View job at <a href='https://wandb.ai/totikos/model_cnn_mfcc_6_grey_81k-hpo/jobs/QXJ0aWZhY3RDb2xsZWN0aW9uOjEyNzk0NTQwMw==/version_details/v3' target=\"_blank\">https://wandb.ai/totikos/model_cnn_mfcc_6_grey_81k-hpo/jobs/QXJ0aWZhY3RDb2xsZWN0aW9uOjEyNzk0NTQwMw==/version_details/v3</a><br/>Synced 5 W&B file(s), 0 media file(s), 0 artifact file(s) and 0 other file(s)"
      ],
      "text/plain": [
       "<IPython.core.display.HTML object>"
      ]
     },
     "metadata": {},
     "output_type": "display_data"
    },
    {
     "data": {
      "text/html": [
       "Find logs at: <code>C:\\Users\\nekta\\OneDrive\\Desktop\\botanic-emotion-recognition\\logs\\wandb\\run-20240107_013025-yfqr1f3q\\logs</code>"
      ],
      "text/plain": [
       "<IPython.core.display.HTML object>"
      ]
     },
     "metadata": {},
     "output_type": "display_data"
    },
    {
     "data": {
      "text/html": [
       "Successfully finished last run (ID:yfqr1f3q). Initializing new run:<br/>"
      ],
      "text/plain": [
       "<IPython.core.display.HTML object>"
      ]
     },
     "metadata": {},
     "output_type": "display_data"
    },
    {
     "data": {
      "text/html": [
       "wandb version 0.16.1 is available!  To upgrade, please run:\n",
       " $ pip install wandb --upgrade"
      ],
      "text/plain": [
       "<IPython.core.display.HTML object>"
      ]
     },
     "metadata": {},
     "output_type": "display_data"
    },
    {
     "data": {
      "text/html": [
       "Tracking run with wandb version 0.15.12"
      ],
      "text/plain": [
       "<IPython.core.display.HTML object>"
      ]
     },
     "metadata": {},
     "output_type": "display_data"
    },
    {
     "data": {
      "text/html": [
       "Run data is saved locally in <code>C:\\Users\\nekta\\OneDrive\\Desktop\\botanic-emotion-recognition\\logs\\wandb\\run-20240107_013259-ikzow6dc</code>"
      ],
      "text/plain": [
       "<IPython.core.display.HTML object>"
      ]
     },
     "metadata": {},
     "output_type": "display_data"
    },
    {
     "data": {
      "text/html": [
       "Syncing run <strong><a href='https://wandb.ai/totikos/model_cnn_mfcc_6_grey_81k-hpo/runs/ikzow6dc' target=\"_blank\">52_cnn_mfcc_6_grey_81k_lr-0.001_convf1-32_convf2-32_convker-5_dr-0.0</a></strong> to <a href='https://wandb.ai/totikos/model_cnn_mfcc_6_grey_81k-hpo' target=\"_blank\">Weights & Biases</a> (<a href='https://wandb.me/run' target=\"_blank\">docs</a>)<br/>"
      ],
      "text/plain": [
       "<IPython.core.display.HTML object>"
      ]
     },
     "metadata": {},
     "output_type": "display_data"
    },
    {
     "data": {
      "text/html": [
       " View project at <a href='https://wandb.ai/totikos/model_cnn_mfcc_6_grey_81k-hpo' target=\"_blank\">https://wandb.ai/totikos/model_cnn_mfcc_6_grey_81k-hpo</a>"
      ],
      "text/plain": [
       "<IPython.core.display.HTML object>"
      ]
     },
     "metadata": {},
     "output_type": "display_data"
    },
    {
     "data": {
      "text/html": [
       " View run at <a href='https://wandb.ai/totikos/model_cnn_mfcc_6_grey_81k-hpo/runs/ikzow6dc' target=\"_blank\">https://wandb.ai/totikos/model_cnn_mfcc_6_grey_81k-hpo/runs/ikzow6dc</a>"
      ],
      "text/plain": [
       "<IPython.core.display.HTML object>"
      ]
     },
     "metadata": {},
     "output_type": "display_data"
    },
    {
     "name": "stderr",
     "output_type": "stream",
     "text": [
      "100%|████████████████████████████████████████| 380/380 [01:27<00:00,  4.34it/s]\n",
      "100%|██████████████████████████████████████████| 82/82 [00:07<00:00, 10.44it/s]\n",
      "[I 2024-01-07 01:34:40,823] Trial 52 pruned. \n"
     ]
    },
    {
     "name": "stdout",
     "output_type": "stream",
     "text": [
      "{'out_channels_l1': 64, 'out_channels_l2': 64, 'conv_kernel_size': 5, 'dropout_rate': 0.0}\n"
     ]
    },
    {
     "data": {
      "text/html": [
       "Finishing last run (ID:ikzow6dc) before initializing another..."
      ],
      "text/plain": [
       "<IPython.core.display.HTML object>"
      ]
     },
     "metadata": {},
     "output_type": "display_data"
    },
    {
     "data": {
      "text/html": [
       "Waiting for W&B process to finish... <strong style=\"color:green\">(success).</strong>"
      ],
      "text/plain": [
       "<IPython.core.display.HTML object>"
      ]
     },
     "metadata": {},
     "output_type": "display_data"
    },
    {
     "data": {
      "text/html": [
       " View run <strong style=\"color:#cdcd00\">52_cnn_mfcc_6_grey_81k_lr-0.001_convf1-32_convf2-32_convker-5_dr-0.0</strong> at: <a href='https://wandb.ai/totikos/model_cnn_mfcc_6_grey_81k-hpo/runs/ikzow6dc' target=\"_blank\">https://wandb.ai/totikos/model_cnn_mfcc_6_grey_81k-hpo/runs/ikzow6dc</a><br/> View job at <a href='https://wandb.ai/totikos/model_cnn_mfcc_6_grey_81k-hpo/jobs/QXJ0aWZhY3RDb2xsZWN0aW9uOjEyNzk0NTQwMw==/version_details/v4' target=\"_blank\">https://wandb.ai/totikos/model_cnn_mfcc_6_grey_81k-hpo/jobs/QXJ0aWZhY3RDb2xsZWN0aW9uOjEyNzk0NTQwMw==/version_details/v4</a><br/>Synced 5 W&B file(s), 0 media file(s), 0 artifact file(s) and 0 other file(s)"
      ],
      "text/plain": [
       "<IPython.core.display.HTML object>"
      ]
     },
     "metadata": {},
     "output_type": "display_data"
    },
    {
     "data": {
      "text/html": [
       "Find logs at: <code>C:\\Users\\nekta\\OneDrive\\Desktop\\botanic-emotion-recognition\\logs\\wandb\\run-20240107_013259-ikzow6dc\\logs</code>"
      ],
      "text/plain": [
       "<IPython.core.display.HTML object>"
      ]
     },
     "metadata": {},
     "output_type": "display_data"
    },
    {
     "data": {
      "text/html": [
       "Successfully finished last run (ID:ikzow6dc). Initializing new run:<br/>"
      ],
      "text/plain": [
       "<IPython.core.display.HTML object>"
      ]
     },
     "metadata": {},
     "output_type": "display_data"
    },
    {
     "data": {
      "text/html": [
       "wandb version 0.16.1 is available!  To upgrade, please run:\n",
       " $ pip install wandb --upgrade"
      ],
      "text/plain": [
       "<IPython.core.display.HTML object>"
      ]
     },
     "metadata": {},
     "output_type": "display_data"
    },
    {
     "data": {
      "text/html": [
       "Tracking run with wandb version 0.15.12"
      ],
      "text/plain": [
       "<IPython.core.display.HTML object>"
      ]
     },
     "metadata": {},
     "output_type": "display_data"
    },
    {
     "data": {
      "text/html": [
       "Run data is saved locally in <code>C:\\Users\\nekta\\OneDrive\\Desktop\\botanic-emotion-recognition\\logs\\wandb\\run-20240107_013440-2sbnh8zf</code>"
      ],
      "text/plain": [
       "<IPython.core.display.HTML object>"
      ]
     },
     "metadata": {},
     "output_type": "display_data"
    },
    {
     "data": {
      "text/html": [
       "Syncing run <strong><a href='https://wandb.ai/totikos/model_cnn_mfcc_6_grey_81k-hpo/runs/2sbnh8zf' target=\"_blank\">53_cnn_mfcc_6_grey_81k_lr-0.0001_convf1-64_convf2-64_convker-5_dr-0.0</a></strong> to <a href='https://wandb.ai/totikos/model_cnn_mfcc_6_grey_81k-hpo' target=\"_blank\">Weights & Biases</a> (<a href='https://wandb.me/run' target=\"_blank\">docs</a>)<br/>"
      ],
      "text/plain": [
       "<IPython.core.display.HTML object>"
      ]
     },
     "metadata": {},
     "output_type": "display_data"
    },
    {
     "data": {
      "text/html": [
       " View project at <a href='https://wandb.ai/totikos/model_cnn_mfcc_6_grey_81k-hpo' target=\"_blank\">https://wandb.ai/totikos/model_cnn_mfcc_6_grey_81k-hpo</a>"
      ],
      "text/plain": [
       "<IPython.core.display.HTML object>"
      ]
     },
     "metadata": {},
     "output_type": "display_data"
    },
    {
     "data": {
      "text/html": [
       " View run at <a href='https://wandb.ai/totikos/model_cnn_mfcc_6_grey_81k-hpo/runs/2sbnh8zf' target=\"_blank\">https://wandb.ai/totikos/model_cnn_mfcc_6_grey_81k-hpo/runs/2sbnh8zf</a>"
      ],
      "text/plain": [
       "<IPython.core.display.HTML object>"
      ]
     },
     "metadata": {},
     "output_type": "display_data"
    },
    {
     "name": "stderr",
     "output_type": "stream",
     "text": [
      "100%|████████████████████████████████████████| 380/380 [03:27<00:00,  1.84it/s]\n",
      "100%|██████████████████████████████████████████| 82/82 [00:19<00:00,  4.12it/s]\n",
      "[I 2024-01-07 01:38:33,997] Trial 53 pruned. \n"
     ]
    },
    {
     "name": "stdout",
     "output_type": "stream",
     "text": [
      "{'out_channels_l1': 16, 'out_channels_l2': 32, 'conv_kernel_size': 5, 'dropout_rate': 0.1}\n"
     ]
    },
    {
     "data": {
      "text/html": [
       "Finishing last run (ID:2sbnh8zf) before initializing another..."
      ],
      "text/plain": [
       "<IPython.core.display.HTML object>"
      ]
     },
     "metadata": {},
     "output_type": "display_data"
    },
    {
     "data": {
      "text/html": [
       "Waiting for W&B process to finish... <strong style=\"color:green\">(success).</strong>"
      ],
      "text/plain": [
       "<IPython.core.display.HTML object>"
      ]
     },
     "metadata": {},
     "output_type": "display_data"
    },
    {
     "data": {
      "text/html": [
       " View run <strong style=\"color:#cdcd00\">53_cnn_mfcc_6_grey_81k_lr-0.0001_convf1-64_convf2-64_convker-5_dr-0.0</strong> at: <a href='https://wandb.ai/totikos/model_cnn_mfcc_6_grey_81k-hpo/runs/2sbnh8zf' target=\"_blank\">https://wandb.ai/totikos/model_cnn_mfcc_6_grey_81k-hpo/runs/2sbnh8zf</a><br/> View job at <a href='https://wandb.ai/totikos/model_cnn_mfcc_6_grey_81k-hpo/jobs/QXJ0aWZhY3RDb2xsZWN0aW9uOjEyNzk0NTQwMw==/version_details/v4' target=\"_blank\">https://wandb.ai/totikos/model_cnn_mfcc_6_grey_81k-hpo/jobs/QXJ0aWZhY3RDb2xsZWN0aW9uOjEyNzk0NTQwMw==/version_details/v4</a><br/>Synced 5 W&B file(s), 0 media file(s), 0 artifact file(s) and 0 other file(s)"
      ],
      "text/plain": [
       "<IPython.core.display.HTML object>"
      ]
     },
     "metadata": {},
     "output_type": "display_data"
    },
    {
     "data": {
      "text/html": [
       "Find logs at: <code>C:\\Users\\nekta\\OneDrive\\Desktop\\botanic-emotion-recognition\\logs\\wandb\\run-20240107_013440-2sbnh8zf\\logs</code>"
      ],
      "text/plain": [
       "<IPython.core.display.HTML object>"
      ]
     },
     "metadata": {},
     "output_type": "display_data"
    },
    {
     "data": {
      "text/html": [
       "Successfully finished last run (ID:2sbnh8zf). Initializing new run:<br/>"
      ],
      "text/plain": [
       "<IPython.core.display.HTML object>"
      ]
     },
     "metadata": {},
     "output_type": "display_data"
    },
    {
     "data": {
      "text/html": [
       "wandb version 0.16.1 is available!  To upgrade, please run:\n",
       " $ pip install wandb --upgrade"
      ],
      "text/plain": [
       "<IPython.core.display.HTML object>"
      ]
     },
     "metadata": {},
     "output_type": "display_data"
    },
    {
     "data": {
      "text/html": [
       "Tracking run with wandb version 0.15.12"
      ],
      "text/plain": [
       "<IPython.core.display.HTML object>"
      ]
     },
     "metadata": {},
     "output_type": "display_data"
    },
    {
     "data": {
      "text/html": [
       "Run data is saved locally in <code>C:\\Users\\nekta\\OneDrive\\Desktop\\botanic-emotion-recognition\\logs\\wandb\\run-20240107_013834-633fx6gn</code>"
      ],
      "text/plain": [
       "<IPython.core.display.HTML object>"
      ]
     },
     "metadata": {},
     "output_type": "display_data"
    },
    {
     "data": {
      "text/html": [
       "Syncing run <strong><a href='https://wandb.ai/totikos/model_cnn_mfcc_6_grey_81k-hpo/runs/633fx6gn' target=\"_blank\">54_cnn_mfcc_6_grey_81k_lr-0.001_convf1-16_convf2-32_convker-5_dr-0.1</a></strong> to <a href='https://wandb.ai/totikos/model_cnn_mfcc_6_grey_81k-hpo' target=\"_blank\">Weights & Biases</a> (<a href='https://wandb.me/run' target=\"_blank\">docs</a>)<br/>"
      ],
      "text/plain": [
       "<IPython.core.display.HTML object>"
      ]
     },
     "metadata": {},
     "output_type": "display_data"
    },
    {
     "data": {
      "text/html": [
       " View project at <a href='https://wandb.ai/totikos/model_cnn_mfcc_6_grey_81k-hpo' target=\"_blank\">https://wandb.ai/totikos/model_cnn_mfcc_6_grey_81k-hpo</a>"
      ],
      "text/plain": [
       "<IPython.core.display.HTML object>"
      ]
     },
     "metadata": {},
     "output_type": "display_data"
    },
    {
     "data": {
      "text/html": [
       " View run at <a href='https://wandb.ai/totikos/model_cnn_mfcc_6_grey_81k-hpo/runs/633fx6gn' target=\"_blank\">https://wandb.ai/totikos/model_cnn_mfcc_6_grey_81k-hpo/runs/633fx6gn</a>"
      ],
      "text/plain": [
       "<IPython.core.display.HTML object>"
      ]
     },
     "metadata": {},
     "output_type": "display_data"
    },
    {
     "name": "stderr",
     "output_type": "stream",
     "text": [
      "100%|████████████████████████████████████████| 380/380 [00:54<00:00,  6.96it/s]\n",
      "100%|██████████████████████████████████████████| 82/82 [00:04<00:00, 17.16it/s]\n",
      "[I 2024-01-07 01:39:39,818] Trial 54 pruned. \n"
     ]
    },
    {
     "name": "stdout",
     "output_type": "stream",
     "text": [
      "{'out_channels_l1': 16, 'out_channels_l2': 64, 'conv_kernel_size': 3, 'dropout_rate': 0.2}\n"
     ]
    },
    {
     "data": {
      "text/html": [
       "Finishing last run (ID:633fx6gn) before initializing another..."
      ],
      "text/plain": [
       "<IPython.core.display.HTML object>"
      ]
     },
     "metadata": {},
     "output_type": "display_data"
    },
    {
     "data": {
      "text/html": [
       "Waiting for W&B process to finish... <strong style=\"color:green\">(success).</strong>"
      ],
      "text/plain": [
       "<IPython.core.display.HTML object>"
      ]
     },
     "metadata": {},
     "output_type": "display_data"
    },
    {
     "data": {
      "text/html": [
       " View run <strong style=\"color:#cdcd00\">54_cnn_mfcc_6_grey_81k_lr-0.001_convf1-16_convf2-32_convker-5_dr-0.1</strong> at: <a href='https://wandb.ai/totikos/model_cnn_mfcc_6_grey_81k-hpo/runs/633fx6gn' target=\"_blank\">https://wandb.ai/totikos/model_cnn_mfcc_6_grey_81k-hpo/runs/633fx6gn</a><br/> View job at <a href='https://wandb.ai/totikos/model_cnn_mfcc_6_grey_81k-hpo/jobs/QXJ0aWZhY3RDb2xsZWN0aW9uOjEyNzk0NTQwMw==/version_details/v4' target=\"_blank\">https://wandb.ai/totikos/model_cnn_mfcc_6_grey_81k-hpo/jobs/QXJ0aWZhY3RDb2xsZWN0aW9uOjEyNzk0NTQwMw==/version_details/v4</a><br/>Synced 5 W&B file(s), 0 media file(s), 0 artifact file(s) and 0 other file(s)"
      ],
      "text/plain": [
       "<IPython.core.display.HTML object>"
      ]
     },
     "metadata": {},
     "output_type": "display_data"
    },
    {
     "data": {
      "text/html": [
       "Find logs at: <code>C:\\Users\\nekta\\OneDrive\\Desktop\\botanic-emotion-recognition\\logs\\wandb\\run-20240107_013834-633fx6gn\\logs</code>"
      ],
      "text/plain": [
       "<IPython.core.display.HTML object>"
      ]
     },
     "metadata": {},
     "output_type": "display_data"
    },
    {
     "data": {
      "text/html": [
       "Successfully finished last run (ID:633fx6gn). Initializing new run:<br/>"
      ],
      "text/plain": [
       "<IPython.core.display.HTML object>"
      ]
     },
     "metadata": {},
     "output_type": "display_data"
    },
    {
     "data": {
      "text/html": [
       "wandb version 0.16.1 is available!  To upgrade, please run:\n",
       " $ pip install wandb --upgrade"
      ],
      "text/plain": [
       "<IPython.core.display.HTML object>"
      ]
     },
     "metadata": {},
     "output_type": "display_data"
    },
    {
     "data": {
      "text/html": [
       "Tracking run with wandb version 0.15.12"
      ],
      "text/plain": [
       "<IPython.core.display.HTML object>"
      ]
     },
     "metadata": {},
     "output_type": "display_data"
    },
    {
     "data": {
      "text/html": [
       "Run data is saved locally in <code>C:\\Users\\nekta\\OneDrive\\Desktop\\botanic-emotion-recognition\\logs\\wandb\\run-20240107_013939-b21al81k</code>"
      ],
      "text/plain": [
       "<IPython.core.display.HTML object>"
      ]
     },
     "metadata": {},
     "output_type": "display_data"
    },
    {
     "data": {
      "text/html": [
       "Syncing run <strong><a href='https://wandb.ai/totikos/model_cnn_mfcc_6_grey_81k-hpo/runs/b21al81k' target=\"_blank\">55_cnn_mfcc_6_grey_81k_lr-0.0001_convf1-16_convf2-64_convker-3_dr-0.2</a></strong> to <a href='https://wandb.ai/totikos/model_cnn_mfcc_6_grey_81k-hpo' target=\"_blank\">Weights & Biases</a> (<a href='https://wandb.me/run' target=\"_blank\">docs</a>)<br/>"
      ],
      "text/plain": [
       "<IPython.core.display.HTML object>"
      ]
     },
     "metadata": {},
     "output_type": "display_data"
    },
    {
     "data": {
      "text/html": [
       " View project at <a href='https://wandb.ai/totikos/model_cnn_mfcc_6_grey_81k-hpo' target=\"_blank\">https://wandb.ai/totikos/model_cnn_mfcc_6_grey_81k-hpo</a>"
      ],
      "text/plain": [
       "<IPython.core.display.HTML object>"
      ]
     },
     "metadata": {},
     "output_type": "display_data"
    },
    {
     "data": {
      "text/html": [
       " View run at <a href='https://wandb.ai/totikos/model_cnn_mfcc_6_grey_81k-hpo/runs/b21al81k' target=\"_blank\">https://wandb.ai/totikos/model_cnn_mfcc_6_grey_81k-hpo/runs/b21al81k</a>"
      ],
      "text/plain": [
       "<IPython.core.display.HTML object>"
      ]
     },
     "metadata": {},
     "output_type": "display_data"
    },
    {
     "name": "stderr",
     "output_type": "stream",
     "text": [
      "100%|████████████████████████████████████████| 380/380 [01:06<00:00,  5.74it/s]\n",
      "100%|██████████████████████████████████████████| 82/82 [00:05<00:00, 13.75it/s]\n",
      "[I 2024-01-07 01:40:58,247] Trial 55 pruned. \n"
     ]
    },
    {
     "name": "stdout",
     "output_type": "stream",
     "text": [
      "{'out_channels_l1': 16, 'out_channels_l2': 32, 'conv_kernel_size': 3, 'dropout_rate': 0.0}\n"
     ]
    },
    {
     "data": {
      "text/html": [
       "Finishing last run (ID:b21al81k) before initializing another..."
      ],
      "text/plain": [
       "<IPython.core.display.HTML object>"
      ]
     },
     "metadata": {},
     "output_type": "display_data"
    },
    {
     "data": {
      "text/html": [
       "Waiting for W&B process to finish... <strong style=\"color:green\">(success).</strong>"
      ],
      "text/plain": [
       "<IPython.core.display.HTML object>"
      ]
     },
     "metadata": {},
     "output_type": "display_data"
    },
    {
     "data": {
      "text/html": [
       " View run <strong style=\"color:#cdcd00\">55_cnn_mfcc_6_grey_81k_lr-0.0001_convf1-16_convf2-64_convker-3_dr-0.2</strong> at: <a href='https://wandb.ai/totikos/model_cnn_mfcc_6_grey_81k-hpo/runs/b21al81k' target=\"_blank\">https://wandb.ai/totikos/model_cnn_mfcc_6_grey_81k-hpo/runs/b21al81k</a><br/> View job at <a href='https://wandb.ai/totikos/model_cnn_mfcc_6_grey_81k-hpo/jobs/QXJ0aWZhY3RDb2xsZWN0aW9uOjEyNzk0NTQwMw==/version_details/v4' target=\"_blank\">https://wandb.ai/totikos/model_cnn_mfcc_6_grey_81k-hpo/jobs/QXJ0aWZhY3RDb2xsZWN0aW9uOjEyNzk0NTQwMw==/version_details/v4</a><br/>Synced 5 W&B file(s), 0 media file(s), 0 artifact file(s) and 0 other file(s)"
      ],
      "text/plain": [
       "<IPython.core.display.HTML object>"
      ]
     },
     "metadata": {},
     "output_type": "display_data"
    },
    {
     "data": {
      "text/html": [
       "Find logs at: <code>C:\\Users\\nekta\\OneDrive\\Desktop\\botanic-emotion-recognition\\logs\\wandb\\run-20240107_013939-b21al81k\\logs</code>"
      ],
      "text/plain": [
       "<IPython.core.display.HTML object>"
      ]
     },
     "metadata": {},
     "output_type": "display_data"
    },
    {
     "data": {
      "text/html": [
       "Successfully finished last run (ID:b21al81k). Initializing new run:<br/>"
      ],
      "text/plain": [
       "<IPython.core.display.HTML object>"
      ]
     },
     "metadata": {},
     "output_type": "display_data"
    },
    {
     "data": {
      "text/html": [
       "wandb version 0.16.1 is available!  To upgrade, please run:\n",
       " $ pip install wandb --upgrade"
      ],
      "text/plain": [
       "<IPython.core.display.HTML object>"
      ]
     },
     "metadata": {},
     "output_type": "display_data"
    },
    {
     "data": {
      "text/html": [
       "Tracking run with wandb version 0.15.12"
      ],
      "text/plain": [
       "<IPython.core.display.HTML object>"
      ]
     },
     "metadata": {},
     "output_type": "display_data"
    },
    {
     "data": {
      "text/html": [
       "Run data is saved locally in <code>C:\\Users\\nekta\\OneDrive\\Desktop\\botanic-emotion-recognition\\logs\\wandb\\run-20240107_014058-umj58c2e</code>"
      ],
      "text/plain": [
       "<IPython.core.display.HTML object>"
      ]
     },
     "metadata": {},
     "output_type": "display_data"
    },
    {
     "data": {
      "text/html": [
       "Syncing run <strong><a href='https://wandb.ai/totikos/model_cnn_mfcc_6_grey_81k-hpo/runs/umj58c2e' target=\"_blank\">56_cnn_mfcc_6_grey_81k_lr-0.0001_convf1-16_convf2-32_convker-3_dr-0.0</a></strong> to <a href='https://wandb.ai/totikos/model_cnn_mfcc_6_grey_81k-hpo' target=\"_blank\">Weights & Biases</a> (<a href='https://wandb.me/run' target=\"_blank\">docs</a>)<br/>"
      ],
      "text/plain": [
       "<IPython.core.display.HTML object>"
      ]
     },
     "metadata": {},
     "output_type": "display_data"
    },
    {
     "data": {
      "text/html": [
       " View project at <a href='https://wandb.ai/totikos/model_cnn_mfcc_6_grey_81k-hpo' target=\"_blank\">https://wandb.ai/totikos/model_cnn_mfcc_6_grey_81k-hpo</a>"
      ],
      "text/plain": [
       "<IPython.core.display.HTML object>"
      ]
     },
     "metadata": {},
     "output_type": "display_data"
    },
    {
     "data": {
      "text/html": [
       " View run at <a href='https://wandb.ai/totikos/model_cnn_mfcc_6_grey_81k-hpo/runs/umj58c2e' target=\"_blank\">https://wandb.ai/totikos/model_cnn_mfcc_6_grey_81k-hpo/runs/umj58c2e</a>"
      ],
      "text/plain": [
       "<IPython.core.display.HTML object>"
      ]
     },
     "metadata": {},
     "output_type": "display_data"
    },
    {
     "name": "stderr",
     "output_type": "stream",
     "text": [
      "100%|████████████████████████████████████████| 380/380 [00:45<00:00,  8.36it/s]\n",
      "100%|██████████████████████████████████████████| 82/82 [00:04<00:00, 18.25it/s]\n",
      "[I 2024-01-07 01:41:54,135] Trial 56 pruned. \n"
     ]
    },
    {
     "name": "stdout",
     "output_type": "stream",
     "text": [
      "{'out_channels_l1': 32, 'out_channels_l2': 32, 'conv_kernel_size': 3, 'dropout_rate': 0.2}\n"
     ]
    },
    {
     "data": {
      "text/html": [
       "Finishing last run (ID:umj58c2e) before initializing another..."
      ],
      "text/plain": [
       "<IPython.core.display.HTML object>"
      ]
     },
     "metadata": {},
     "output_type": "display_data"
    },
    {
     "data": {
      "text/html": [
       "Waiting for W&B process to finish... <strong style=\"color:green\">(success).</strong>"
      ],
      "text/plain": [
       "<IPython.core.display.HTML object>"
      ]
     },
     "metadata": {},
     "output_type": "display_data"
    },
    {
     "data": {
      "text/html": [
       " View run <strong style=\"color:#cdcd00\">56_cnn_mfcc_6_grey_81k_lr-0.0001_convf1-16_convf2-32_convker-3_dr-0.0</strong> at: <a href='https://wandb.ai/totikos/model_cnn_mfcc_6_grey_81k-hpo/runs/umj58c2e' target=\"_blank\">https://wandb.ai/totikos/model_cnn_mfcc_6_grey_81k-hpo/runs/umj58c2e</a><br/> View job at <a href='https://wandb.ai/totikos/model_cnn_mfcc_6_grey_81k-hpo/jobs/QXJ0aWZhY3RDb2xsZWN0aW9uOjEyNzk0NTQwMw==/version_details/v4' target=\"_blank\">https://wandb.ai/totikos/model_cnn_mfcc_6_grey_81k-hpo/jobs/QXJ0aWZhY3RDb2xsZWN0aW9uOjEyNzk0NTQwMw==/version_details/v4</a><br/>Synced 5 W&B file(s), 0 media file(s), 0 artifact file(s) and 0 other file(s)"
      ],
      "text/plain": [
       "<IPython.core.display.HTML object>"
      ]
     },
     "metadata": {},
     "output_type": "display_data"
    },
    {
     "data": {
      "text/html": [
       "Find logs at: <code>C:\\Users\\nekta\\OneDrive\\Desktop\\botanic-emotion-recognition\\logs\\wandb\\run-20240107_014058-umj58c2e\\logs</code>"
      ],
      "text/plain": [
       "<IPython.core.display.HTML object>"
      ]
     },
     "metadata": {},
     "output_type": "display_data"
    },
    {
     "data": {
      "text/html": [
       "Successfully finished last run (ID:umj58c2e). Initializing new run:<br/>"
      ],
      "text/plain": [
       "<IPython.core.display.HTML object>"
      ]
     },
     "metadata": {},
     "output_type": "display_data"
    },
    {
     "data": {
      "text/html": [
       "wandb version 0.16.1 is available!  To upgrade, please run:\n",
       " $ pip install wandb --upgrade"
      ],
      "text/plain": [
       "<IPython.core.display.HTML object>"
      ]
     },
     "metadata": {},
     "output_type": "display_data"
    },
    {
     "data": {
      "text/html": [
       "Tracking run with wandb version 0.15.12"
      ],
      "text/plain": [
       "<IPython.core.display.HTML object>"
      ]
     },
     "metadata": {},
     "output_type": "display_data"
    },
    {
     "data": {
      "text/html": [
       "Run data is saved locally in <code>C:\\Users\\nekta\\OneDrive\\Desktop\\botanic-emotion-recognition\\logs\\wandb\\run-20240107_014154-em10s8fw</code>"
      ],
      "text/plain": [
       "<IPython.core.display.HTML object>"
      ]
     },
     "metadata": {},
     "output_type": "display_data"
    },
    {
     "data": {
      "text/html": [
       "Syncing run <strong><a href='https://wandb.ai/totikos/model_cnn_mfcc_6_grey_81k-hpo/runs/em10s8fw' target=\"_blank\">57_cnn_mfcc_6_grey_81k_lr-0.01_convf1-32_convf2-32_convker-3_dr-0.2</a></strong> to <a href='https://wandb.ai/totikos/model_cnn_mfcc_6_grey_81k-hpo' target=\"_blank\">Weights & Biases</a> (<a href='https://wandb.me/run' target=\"_blank\">docs</a>)<br/>"
      ],
      "text/plain": [
       "<IPython.core.display.HTML object>"
      ]
     },
     "metadata": {},
     "output_type": "display_data"
    },
    {
     "data": {
      "text/html": [
       " View project at <a href='https://wandb.ai/totikos/model_cnn_mfcc_6_grey_81k-hpo' target=\"_blank\">https://wandb.ai/totikos/model_cnn_mfcc_6_grey_81k-hpo</a>"
      ],
      "text/plain": [
       "<IPython.core.display.HTML object>"
      ]
     },
     "metadata": {},
     "output_type": "display_data"
    },
    {
     "data": {
      "text/html": [
       " View run at <a href='https://wandb.ai/totikos/model_cnn_mfcc_6_grey_81k-hpo/runs/em10s8fw' target=\"_blank\">https://wandb.ai/totikos/model_cnn_mfcc_6_grey_81k-hpo/runs/em10s8fw</a>"
      ],
      "text/plain": [
       "<IPython.core.display.HTML object>"
      ]
     },
     "metadata": {},
     "output_type": "display_data"
    },
    {
     "name": "stderr",
     "output_type": "stream",
     "text": [
      "100%|████████████████████████████████████████| 380/380 [01:14<00:00,  5.10it/s]\n",
      "100%|██████████████████████████████████████████| 82/82 [00:07<00:00, 10.97it/s]\n",
      "[I 2024-01-07 01:43:23,401] Trial 57 pruned. \n"
     ]
    },
    {
     "name": "stdout",
     "output_type": "stream",
     "text": [
      "{'out_channels_l1': 16, 'out_channels_l2': 32, 'conv_kernel_size': 3, 'dropout_rate': 0.1}\n"
     ]
    },
    {
     "data": {
      "text/html": [
       "Finishing last run (ID:em10s8fw) before initializing another..."
      ],
      "text/plain": [
       "<IPython.core.display.HTML object>"
      ]
     },
     "metadata": {},
     "output_type": "display_data"
    },
    {
     "data": {
      "text/html": [
       "Waiting for W&B process to finish... <strong style=\"color:green\">(success).</strong>"
      ],
      "text/plain": [
       "<IPython.core.display.HTML object>"
      ]
     },
     "metadata": {},
     "output_type": "display_data"
    },
    {
     "data": {
      "text/html": [
       " View run <strong style=\"color:#cdcd00\">57_cnn_mfcc_6_grey_81k_lr-0.01_convf1-32_convf2-32_convker-3_dr-0.2</strong> at: <a href='https://wandb.ai/totikos/model_cnn_mfcc_6_grey_81k-hpo/runs/em10s8fw' target=\"_blank\">https://wandb.ai/totikos/model_cnn_mfcc_6_grey_81k-hpo/runs/em10s8fw</a><br/> View job at <a href='https://wandb.ai/totikos/model_cnn_mfcc_6_grey_81k-hpo/jobs/QXJ0aWZhY3RDb2xsZWN0aW9uOjEyNzk0NTQwMw==/version_details/v4' target=\"_blank\">https://wandb.ai/totikos/model_cnn_mfcc_6_grey_81k-hpo/jobs/QXJ0aWZhY3RDb2xsZWN0aW9uOjEyNzk0NTQwMw==/version_details/v4</a><br/>Synced 5 W&B file(s), 0 media file(s), 0 artifact file(s) and 0 other file(s)"
      ],
      "text/plain": [
       "<IPython.core.display.HTML object>"
      ]
     },
     "metadata": {},
     "output_type": "display_data"
    },
    {
     "data": {
      "text/html": [
       "Find logs at: <code>C:\\Users\\nekta\\OneDrive\\Desktop\\botanic-emotion-recognition\\logs\\wandb\\run-20240107_014154-em10s8fw\\logs</code>"
      ],
      "text/plain": [
       "<IPython.core.display.HTML object>"
      ]
     },
     "metadata": {},
     "output_type": "display_data"
    },
    {
     "data": {
      "text/html": [
       "Successfully finished last run (ID:em10s8fw). Initializing new run:<br/>"
      ],
      "text/plain": [
       "<IPython.core.display.HTML object>"
      ]
     },
     "metadata": {},
     "output_type": "display_data"
    },
    {
     "data": {
      "text/html": [
       "wandb version 0.16.1 is available!  To upgrade, please run:\n",
       " $ pip install wandb --upgrade"
      ],
      "text/plain": [
       "<IPython.core.display.HTML object>"
      ]
     },
     "metadata": {},
     "output_type": "display_data"
    },
    {
     "data": {
      "text/html": [
       "Tracking run with wandb version 0.15.12"
      ],
      "text/plain": [
       "<IPython.core.display.HTML object>"
      ]
     },
     "metadata": {},
     "output_type": "display_data"
    },
    {
     "data": {
      "text/html": [
       "Run data is saved locally in <code>C:\\Users\\nekta\\OneDrive\\Desktop\\botanic-emotion-recognition\\logs\\wandb\\run-20240107_014323-dwdsxxml</code>"
      ],
      "text/plain": [
       "<IPython.core.display.HTML object>"
      ]
     },
     "metadata": {},
     "output_type": "display_data"
    },
    {
     "data": {
      "text/html": [
       "Syncing run <strong><a href='https://wandb.ai/totikos/model_cnn_mfcc_6_grey_81k-hpo/runs/dwdsxxml' target=\"_blank\">58_cnn_mfcc_6_grey_81k_lr-0.01_convf1-16_convf2-32_convker-3_dr-0.1</a></strong> to <a href='https://wandb.ai/totikos/model_cnn_mfcc_6_grey_81k-hpo' target=\"_blank\">Weights & Biases</a> (<a href='https://wandb.me/run' target=\"_blank\">docs</a>)<br/>"
      ],
      "text/plain": [
       "<IPython.core.display.HTML object>"
      ]
     },
     "metadata": {},
     "output_type": "display_data"
    },
    {
     "data": {
      "text/html": [
       " View project at <a href='https://wandb.ai/totikos/model_cnn_mfcc_6_grey_81k-hpo' target=\"_blank\">https://wandb.ai/totikos/model_cnn_mfcc_6_grey_81k-hpo</a>"
      ],
      "text/plain": [
       "<IPython.core.display.HTML object>"
      ]
     },
     "metadata": {},
     "output_type": "display_data"
    },
    {
     "data": {
      "text/html": [
       " View run at <a href='https://wandb.ai/totikos/model_cnn_mfcc_6_grey_81k-hpo/runs/dwdsxxml' target=\"_blank\">https://wandb.ai/totikos/model_cnn_mfcc_6_grey_81k-hpo/runs/dwdsxxml</a>"
      ],
      "text/plain": [
       "<IPython.core.display.HTML object>"
      ]
     },
     "metadata": {},
     "output_type": "display_data"
    },
    {
     "name": "stderr",
     "output_type": "stream",
     "text": [
      "100%|████████████████████████████████████████| 380/380 [00:46<00:00,  8.14it/s]\n",
      "100%|██████████████████████████████████████████| 82/82 [00:04<00:00, 18.72it/s]\n",
      "[I 2024-01-07 01:44:23,070] Trial 58 pruned. \n"
     ]
    },
    {
     "name": "stdout",
     "output_type": "stream",
     "text": [
      "{'out_channels_l1': 32, 'out_channels_l2': 64, 'conv_kernel_size': 5, 'dropout_rate': 0.0}\n"
     ]
    },
    {
     "data": {
      "text/html": [
       "Finishing last run (ID:dwdsxxml) before initializing another..."
      ],
      "text/plain": [
       "<IPython.core.display.HTML object>"
      ]
     },
     "metadata": {},
     "output_type": "display_data"
    },
    {
     "data": {
      "text/html": [
       "Waiting for W&B process to finish... <strong style=\"color:green\">(success).</strong>"
      ],
      "text/plain": [
       "<IPython.core.display.HTML object>"
      ]
     },
     "metadata": {},
     "output_type": "display_data"
    },
    {
     "data": {
      "text/html": [
       " View run <strong style=\"color:#cdcd00\">58_cnn_mfcc_6_grey_81k_lr-0.01_convf1-16_convf2-32_convker-3_dr-0.1</strong> at: <a href='https://wandb.ai/totikos/model_cnn_mfcc_6_grey_81k-hpo/runs/dwdsxxml' target=\"_blank\">https://wandb.ai/totikos/model_cnn_mfcc_6_grey_81k-hpo/runs/dwdsxxml</a><br/> View job at <a href='https://wandb.ai/totikos/model_cnn_mfcc_6_grey_81k-hpo/jobs/QXJ0aWZhY3RDb2xsZWN0aW9uOjEyNzk0NTQwMw==/version_details/v4' target=\"_blank\">https://wandb.ai/totikos/model_cnn_mfcc_6_grey_81k-hpo/jobs/QXJ0aWZhY3RDb2xsZWN0aW9uOjEyNzk0NTQwMw==/version_details/v4</a><br/>Synced 5 W&B file(s), 0 media file(s), 0 artifact file(s) and 0 other file(s)"
      ],
      "text/plain": [
       "<IPython.core.display.HTML object>"
      ]
     },
     "metadata": {},
     "output_type": "display_data"
    },
    {
     "data": {
      "text/html": [
       "Find logs at: <code>C:\\Users\\nekta\\OneDrive\\Desktop\\botanic-emotion-recognition\\logs\\wandb\\run-20240107_014323-dwdsxxml\\logs</code>"
      ],
      "text/plain": [
       "<IPython.core.display.HTML object>"
      ]
     },
     "metadata": {},
     "output_type": "display_data"
    },
    {
     "data": {
      "text/html": [
       "Successfully finished last run (ID:dwdsxxml). Initializing new run:<br/>"
      ],
      "text/plain": [
       "<IPython.core.display.HTML object>"
      ]
     },
     "metadata": {},
     "output_type": "display_data"
    },
    {
     "data": {
      "text/html": [
       "wandb version 0.16.1 is available!  To upgrade, please run:\n",
       " $ pip install wandb --upgrade"
      ],
      "text/plain": [
       "<IPython.core.display.HTML object>"
      ]
     },
     "metadata": {},
     "output_type": "display_data"
    },
    {
     "data": {
      "text/html": [
       "Tracking run with wandb version 0.15.12"
      ],
      "text/plain": [
       "<IPython.core.display.HTML object>"
      ]
     },
     "metadata": {},
     "output_type": "display_data"
    },
    {
     "data": {
      "text/html": [
       "Run data is saved locally in <code>C:\\Users\\nekta\\OneDrive\\Desktop\\botanic-emotion-recognition\\logs\\wandb\\run-20240107_014423-7bd440o1</code>"
      ],
      "text/plain": [
       "<IPython.core.display.HTML object>"
      ]
     },
     "metadata": {},
     "output_type": "display_data"
    },
    {
     "data": {
      "text/html": [
       "Syncing run <strong><a href='https://wandb.ai/totikos/model_cnn_mfcc_6_grey_81k-hpo/runs/7bd440o1' target=\"_blank\">59_cnn_mfcc_6_grey_81k_lr-0.001_convf1-32_convf2-64_convker-5_dr-0.0</a></strong> to <a href='https://wandb.ai/totikos/model_cnn_mfcc_6_grey_81k-hpo' target=\"_blank\">Weights & Biases</a> (<a href='https://wandb.me/run' target=\"_blank\">docs</a>)<br/>"
      ],
      "text/plain": [
       "<IPython.core.display.HTML object>"
      ]
     },
     "metadata": {},
     "output_type": "display_data"
    },
    {
     "data": {
      "text/html": [
       " View project at <a href='https://wandb.ai/totikos/model_cnn_mfcc_6_grey_81k-hpo' target=\"_blank\">https://wandb.ai/totikos/model_cnn_mfcc_6_grey_81k-hpo</a>"
      ],
      "text/plain": [
       "<IPython.core.display.HTML object>"
      ]
     },
     "metadata": {},
     "output_type": "display_data"
    },
    {
     "data": {
      "text/html": [
       " View run at <a href='https://wandb.ai/totikos/model_cnn_mfcc_6_grey_81k-hpo/runs/7bd440o1' target=\"_blank\">https://wandb.ai/totikos/model_cnn_mfcc_6_grey_81k-hpo/runs/7bd440o1</a>"
      ],
      "text/plain": [
       "<IPython.core.display.HTML object>"
      ]
     },
     "metadata": {},
     "output_type": "display_data"
    },
    {
     "name": "stderr",
     "output_type": "stream",
     "text": [
      "100%|████████████████████████████████████████| 380/380 [01:56<00:00,  3.25it/s]\n",
      "100%|██████████████████████████████████████████| 82/82 [00:10<00:00,  7.88it/s]\n",
      "[I 2024-01-07 01:46:35,568] Trial 59 pruned. \n"
     ]
    },
    {
     "name": "stdout",
     "output_type": "stream",
     "text": [
      "{'out_channels_l1': 16, 'out_channels_l2': 64, 'conv_kernel_size': 3, 'dropout_rate': 0.1}\n"
     ]
    },
    {
     "data": {
      "text/html": [
       "Finishing last run (ID:7bd440o1) before initializing another..."
      ],
      "text/plain": [
       "<IPython.core.display.HTML object>"
      ]
     },
     "metadata": {},
     "output_type": "display_data"
    },
    {
     "data": {
      "text/html": [
       "Waiting for W&B process to finish... <strong style=\"color:green\">(success).</strong>"
      ],
      "text/plain": [
       "<IPython.core.display.HTML object>"
      ]
     },
     "metadata": {},
     "output_type": "display_data"
    },
    {
     "data": {
      "text/html": [
       " View run <strong style=\"color:#cdcd00\">59_cnn_mfcc_6_grey_81k_lr-0.001_convf1-32_convf2-64_convker-5_dr-0.0</strong> at: <a href='https://wandb.ai/totikos/model_cnn_mfcc_6_grey_81k-hpo/runs/7bd440o1' target=\"_blank\">https://wandb.ai/totikos/model_cnn_mfcc_6_grey_81k-hpo/runs/7bd440o1</a><br/> View job at <a href='https://wandb.ai/totikos/model_cnn_mfcc_6_grey_81k-hpo/jobs/QXJ0aWZhY3RDb2xsZWN0aW9uOjEyNzk0NTQwMw==/version_details/v4' target=\"_blank\">https://wandb.ai/totikos/model_cnn_mfcc_6_grey_81k-hpo/jobs/QXJ0aWZhY3RDb2xsZWN0aW9uOjEyNzk0NTQwMw==/version_details/v4</a><br/>Synced 5 W&B file(s), 0 media file(s), 0 artifact file(s) and 0 other file(s)"
      ],
      "text/plain": [
       "<IPython.core.display.HTML object>"
      ]
     },
     "metadata": {},
     "output_type": "display_data"
    },
    {
     "data": {
      "text/html": [
       "Find logs at: <code>C:\\Users\\nekta\\OneDrive\\Desktop\\botanic-emotion-recognition\\logs\\wandb\\run-20240107_014423-7bd440o1\\logs</code>"
      ],
      "text/plain": [
       "<IPython.core.display.HTML object>"
      ]
     },
     "metadata": {},
     "output_type": "display_data"
    },
    {
     "data": {
      "text/html": [
       "Successfully finished last run (ID:7bd440o1). Initializing new run:<br/>"
      ],
      "text/plain": [
       "<IPython.core.display.HTML object>"
      ]
     },
     "metadata": {},
     "output_type": "display_data"
    },
    {
     "data": {
      "text/html": [
       "wandb version 0.16.1 is available!  To upgrade, please run:\n",
       " $ pip install wandb --upgrade"
      ],
      "text/plain": [
       "<IPython.core.display.HTML object>"
      ]
     },
     "metadata": {},
     "output_type": "display_data"
    },
    {
     "data": {
      "text/html": [
       "Tracking run with wandb version 0.15.12"
      ],
      "text/plain": [
       "<IPython.core.display.HTML object>"
      ]
     },
     "metadata": {},
     "output_type": "display_data"
    },
    {
     "data": {
      "text/html": [
       "Run data is saved locally in <code>C:\\Users\\nekta\\OneDrive\\Desktop\\botanic-emotion-recognition\\logs\\wandb\\run-20240107_014635-k0g8jj9v</code>"
      ],
      "text/plain": [
       "<IPython.core.display.HTML object>"
      ]
     },
     "metadata": {},
     "output_type": "display_data"
    },
    {
     "data": {
      "text/html": [
       "Syncing run <strong><a href='https://wandb.ai/totikos/model_cnn_mfcc_6_grey_81k-hpo/runs/k0g8jj9v' target=\"_blank\">60_cnn_mfcc_6_grey_81k_lr-0.01_convf1-16_convf2-64_convker-3_dr-0.1</a></strong> to <a href='https://wandb.ai/totikos/model_cnn_mfcc_6_grey_81k-hpo' target=\"_blank\">Weights & Biases</a> (<a href='https://wandb.me/run' target=\"_blank\">docs</a>)<br/>"
      ],
      "text/plain": [
       "<IPython.core.display.HTML object>"
      ]
     },
     "metadata": {},
     "output_type": "display_data"
    },
    {
     "data": {
      "text/html": [
       " View project at <a href='https://wandb.ai/totikos/model_cnn_mfcc_6_grey_81k-hpo' target=\"_blank\">https://wandb.ai/totikos/model_cnn_mfcc_6_grey_81k-hpo</a>"
      ],
      "text/plain": [
       "<IPython.core.display.HTML object>"
      ]
     },
     "metadata": {},
     "output_type": "display_data"
    },
    {
     "data": {
      "text/html": [
       " View run at <a href='https://wandb.ai/totikos/model_cnn_mfcc_6_grey_81k-hpo/runs/k0g8jj9v' target=\"_blank\">https://wandb.ai/totikos/model_cnn_mfcc_6_grey_81k-hpo/runs/k0g8jj9v</a>"
      ],
      "text/plain": [
       "<IPython.core.display.HTML object>"
      ]
     },
     "metadata": {},
     "output_type": "display_data"
    },
    {
     "name": "stderr",
     "output_type": "stream",
     "text": [
      "100%|████████████████████████████████████████| 380/380 [01:02<00:00,  6.10it/s]\n",
      "100%|██████████████████████████████████████████| 82/82 [00:05<00:00, 14.05it/s]\n",
      "[I 2024-01-07 01:47:50,356] Trial 60 pruned. \n"
     ]
    },
    {
     "name": "stdout",
     "output_type": "stream",
     "text": [
      "{'out_channels_l1': 32, 'out_channels_l2': 32, 'conv_kernel_size': 3, 'dropout_rate': 0.1}\n"
     ]
    },
    {
     "data": {
      "text/html": [
       "Finishing last run (ID:k0g8jj9v) before initializing another..."
      ],
      "text/plain": [
       "<IPython.core.display.HTML object>"
      ]
     },
     "metadata": {},
     "output_type": "display_data"
    },
    {
     "data": {
      "text/html": [
       "Waiting for W&B process to finish... <strong style=\"color:green\">(success).</strong>"
      ],
      "text/plain": [
       "<IPython.core.display.HTML object>"
      ]
     },
     "metadata": {},
     "output_type": "display_data"
    },
    {
     "data": {
      "text/html": [
       " View run <strong style=\"color:#cdcd00\">60_cnn_mfcc_6_grey_81k_lr-0.01_convf1-16_convf2-64_convker-3_dr-0.1</strong> at: <a href='https://wandb.ai/totikos/model_cnn_mfcc_6_grey_81k-hpo/runs/k0g8jj9v' target=\"_blank\">https://wandb.ai/totikos/model_cnn_mfcc_6_grey_81k-hpo/runs/k0g8jj9v</a><br/> View job at <a href='https://wandb.ai/totikos/model_cnn_mfcc_6_grey_81k-hpo/jobs/QXJ0aWZhY3RDb2xsZWN0aW9uOjEyNzk0NTQwMw==/version_details/v4' target=\"_blank\">https://wandb.ai/totikos/model_cnn_mfcc_6_grey_81k-hpo/jobs/QXJ0aWZhY3RDb2xsZWN0aW9uOjEyNzk0NTQwMw==/version_details/v4</a><br/>Synced 5 W&B file(s), 0 media file(s), 0 artifact file(s) and 0 other file(s)"
      ],
      "text/plain": [
       "<IPython.core.display.HTML object>"
      ]
     },
     "metadata": {},
     "output_type": "display_data"
    },
    {
     "data": {
      "text/html": [
       "Find logs at: <code>C:\\Users\\nekta\\OneDrive\\Desktop\\botanic-emotion-recognition\\logs\\wandb\\run-20240107_014635-k0g8jj9v\\logs</code>"
      ],
      "text/plain": [
       "<IPython.core.display.HTML object>"
      ]
     },
     "metadata": {},
     "output_type": "display_data"
    },
    {
     "data": {
      "text/html": [
       "Successfully finished last run (ID:k0g8jj9v). Initializing new run:<br/>"
      ],
      "text/plain": [
       "<IPython.core.display.HTML object>"
      ]
     },
     "metadata": {},
     "output_type": "display_data"
    },
    {
     "data": {
      "text/html": [
       "wandb version 0.16.1 is available!  To upgrade, please run:\n",
       " $ pip install wandb --upgrade"
      ],
      "text/plain": [
       "<IPython.core.display.HTML object>"
      ]
     },
     "metadata": {},
     "output_type": "display_data"
    },
    {
     "data": {
      "text/html": [
       "Tracking run with wandb version 0.15.12"
      ],
      "text/plain": [
       "<IPython.core.display.HTML object>"
      ]
     },
     "metadata": {},
     "output_type": "display_data"
    },
    {
     "data": {
      "text/html": [
       "Run data is saved locally in <code>C:\\Users\\nekta\\OneDrive\\Desktop\\botanic-emotion-recognition\\logs\\wandb\\run-20240107_014750-6gcgpicg</code>"
      ],
      "text/plain": [
       "<IPython.core.display.HTML object>"
      ]
     },
     "metadata": {},
     "output_type": "display_data"
    },
    {
     "data": {
      "text/html": [
       "Syncing run <strong><a href='https://wandb.ai/totikos/model_cnn_mfcc_6_grey_81k-hpo/runs/6gcgpicg' target=\"_blank\">61_cnn_mfcc_6_grey_81k_lr-0.001_convf1-32_convf2-32_convker-3_dr-0.1</a></strong> to <a href='https://wandb.ai/totikos/model_cnn_mfcc_6_grey_81k-hpo' target=\"_blank\">Weights & Biases</a> (<a href='https://wandb.me/run' target=\"_blank\">docs</a>)<br/>"
      ],
      "text/plain": [
       "<IPython.core.display.HTML object>"
      ]
     },
     "metadata": {},
     "output_type": "display_data"
    },
    {
     "data": {
      "text/html": [
       " View project at <a href='https://wandb.ai/totikos/model_cnn_mfcc_6_grey_81k-hpo' target=\"_blank\">https://wandb.ai/totikos/model_cnn_mfcc_6_grey_81k-hpo</a>"
      ],
      "text/plain": [
       "<IPython.core.display.HTML object>"
      ]
     },
     "metadata": {},
     "output_type": "display_data"
    },
    {
     "data": {
      "text/html": [
       " View run at <a href='https://wandb.ai/totikos/model_cnn_mfcc_6_grey_81k-hpo/runs/6gcgpicg' target=\"_blank\">https://wandb.ai/totikos/model_cnn_mfcc_6_grey_81k-hpo/runs/6gcgpicg</a>"
      ],
      "text/plain": [
       "<IPython.core.display.HTML object>"
      ]
     },
     "metadata": {},
     "output_type": "display_data"
    },
    {
     "name": "stderr",
     "output_type": "stream",
     "text": [
      "100%|████████████████████████████████████████| 380/380 [01:18<00:00,  4.87it/s]\n",
      "100%|██████████████████████████████████████████| 82/82 [00:07<00:00, 10.95it/s]\n",
      "[I 2024-01-07 01:49:22,069] Trial 61 pruned. \n"
     ]
    },
    {
     "name": "stdout",
     "output_type": "stream",
     "text": [
      "{'out_channels_l1': 32, 'out_channels_l2': 32, 'conv_kernel_size': 3, 'dropout_rate': 0.2}\n"
     ]
    },
    {
     "data": {
      "text/html": [
       "Finishing last run (ID:6gcgpicg) before initializing another..."
      ],
      "text/plain": [
       "<IPython.core.display.HTML object>"
      ]
     },
     "metadata": {},
     "output_type": "display_data"
    },
    {
     "data": {
      "text/html": [
       "Waiting for W&B process to finish... <strong style=\"color:green\">(success).</strong>"
      ],
      "text/plain": [
       "<IPython.core.display.HTML object>"
      ]
     },
     "metadata": {},
     "output_type": "display_data"
    },
    {
     "data": {
      "text/html": [
       " View run <strong style=\"color:#cdcd00\">61_cnn_mfcc_6_grey_81k_lr-0.001_convf1-32_convf2-32_convker-3_dr-0.1</strong> at: <a href='https://wandb.ai/totikos/model_cnn_mfcc_6_grey_81k-hpo/runs/6gcgpicg' target=\"_blank\">https://wandb.ai/totikos/model_cnn_mfcc_6_grey_81k-hpo/runs/6gcgpicg</a><br/> View job at <a href='https://wandb.ai/totikos/model_cnn_mfcc_6_grey_81k-hpo/jobs/QXJ0aWZhY3RDb2xsZWN0aW9uOjEyNzk0NTQwMw==/version_details/v4' target=\"_blank\">https://wandb.ai/totikos/model_cnn_mfcc_6_grey_81k-hpo/jobs/QXJ0aWZhY3RDb2xsZWN0aW9uOjEyNzk0NTQwMw==/version_details/v4</a><br/>Synced 5 W&B file(s), 0 media file(s), 0 artifact file(s) and 0 other file(s)"
      ],
      "text/plain": [
       "<IPython.core.display.HTML object>"
      ]
     },
     "metadata": {},
     "output_type": "display_data"
    },
    {
     "data": {
      "text/html": [
       "Find logs at: <code>C:\\Users\\nekta\\OneDrive\\Desktop\\botanic-emotion-recognition\\logs\\wandb\\run-20240107_014750-6gcgpicg\\logs</code>"
      ],
      "text/plain": [
       "<IPython.core.display.HTML object>"
      ]
     },
     "metadata": {},
     "output_type": "display_data"
    },
    {
     "data": {
      "text/html": [
       "Successfully finished last run (ID:6gcgpicg). Initializing new run:<br/>"
      ],
      "text/plain": [
       "<IPython.core.display.HTML object>"
      ]
     },
     "metadata": {},
     "output_type": "display_data"
    },
    {
     "data": {
      "text/html": [
       "wandb version 0.16.1 is available!  To upgrade, please run:\n",
       " $ pip install wandb --upgrade"
      ],
      "text/plain": [
       "<IPython.core.display.HTML object>"
      ]
     },
     "metadata": {},
     "output_type": "display_data"
    },
    {
     "data": {
      "text/html": [
       "Tracking run with wandb version 0.15.12"
      ],
      "text/plain": [
       "<IPython.core.display.HTML object>"
      ]
     },
     "metadata": {},
     "output_type": "display_data"
    },
    {
     "data": {
      "text/html": [
       "Run data is saved locally in <code>C:\\Users\\nekta\\OneDrive\\Desktop\\botanic-emotion-recognition\\logs\\wandb\\run-20240107_014922-iy3hydol</code>"
      ],
      "text/plain": [
       "<IPython.core.display.HTML object>"
      ]
     },
     "metadata": {},
     "output_type": "display_data"
    },
    {
     "data": {
      "text/html": [
       "Syncing run <strong><a href='https://wandb.ai/totikos/model_cnn_mfcc_6_grey_81k-hpo/runs/iy3hydol' target=\"_blank\">62_cnn_mfcc_6_grey_81k_lr-0.0001_convf1-32_convf2-32_convker-3_dr-0.2</a></strong> to <a href='https://wandb.ai/totikos/model_cnn_mfcc_6_grey_81k-hpo' target=\"_blank\">Weights & Biases</a> (<a href='https://wandb.me/run' target=\"_blank\">docs</a>)<br/>"
      ],
      "text/plain": [
       "<IPython.core.display.HTML object>"
      ]
     },
     "metadata": {},
     "output_type": "display_data"
    },
    {
     "data": {
      "text/html": [
       " View project at <a href='https://wandb.ai/totikos/model_cnn_mfcc_6_grey_81k-hpo' target=\"_blank\">https://wandb.ai/totikos/model_cnn_mfcc_6_grey_81k-hpo</a>"
      ],
      "text/plain": [
       "<IPython.core.display.HTML object>"
      ]
     },
     "metadata": {},
     "output_type": "display_data"
    },
    {
     "data": {
      "text/html": [
       " View run at <a href='https://wandb.ai/totikos/model_cnn_mfcc_6_grey_81k-hpo/runs/iy3hydol' target=\"_blank\">https://wandb.ai/totikos/model_cnn_mfcc_6_grey_81k-hpo/runs/iy3hydol</a>"
      ],
      "text/plain": [
       "<IPython.core.display.HTML object>"
      ]
     },
     "metadata": {},
     "output_type": "display_data"
    },
    {
     "name": "stderr",
     "output_type": "stream",
     "text": [
      "100%|████████████████████████████████████████| 380/380 [01:16<00:00,  4.95it/s]\n",
      "100%|██████████████████████████████████████████| 82/82 [00:07<00:00, 11.02it/s]\n",
      "[I 2024-01-07 01:50:52,121] Trial 62 pruned. \n"
     ]
    },
    {
     "name": "stdout",
     "output_type": "stream",
     "text": [
      "{'out_channels_l1': 32, 'out_channels_l2': 32, 'conv_kernel_size': 5, 'dropout_rate': 0.2}\n"
     ]
    },
    {
     "data": {
      "text/html": [
       "Finishing last run (ID:iy3hydol) before initializing another..."
      ],
      "text/plain": [
       "<IPython.core.display.HTML object>"
      ]
     },
     "metadata": {},
     "output_type": "display_data"
    },
    {
     "data": {
      "text/html": [
       "Waiting for W&B process to finish... <strong style=\"color:green\">(success).</strong>"
      ],
      "text/plain": [
       "<IPython.core.display.HTML object>"
      ]
     },
     "metadata": {},
     "output_type": "display_data"
    },
    {
     "data": {
      "text/html": [
       " View run <strong style=\"color:#cdcd00\">62_cnn_mfcc_6_grey_81k_lr-0.0001_convf1-32_convf2-32_convker-3_dr-0.2</strong> at: <a href='https://wandb.ai/totikos/model_cnn_mfcc_6_grey_81k-hpo/runs/iy3hydol' target=\"_blank\">https://wandb.ai/totikos/model_cnn_mfcc_6_grey_81k-hpo/runs/iy3hydol</a><br/> View job at <a href='https://wandb.ai/totikos/model_cnn_mfcc_6_grey_81k-hpo/jobs/QXJ0aWZhY3RDb2xsZWN0aW9uOjEyNzk0NTQwMw==/version_details/v4' target=\"_blank\">https://wandb.ai/totikos/model_cnn_mfcc_6_grey_81k-hpo/jobs/QXJ0aWZhY3RDb2xsZWN0aW9uOjEyNzk0NTQwMw==/version_details/v4</a><br/>Synced 5 W&B file(s), 0 media file(s), 0 artifact file(s) and 0 other file(s)"
      ],
      "text/plain": [
       "<IPython.core.display.HTML object>"
      ]
     },
     "metadata": {},
     "output_type": "display_data"
    },
    {
     "data": {
      "text/html": [
       "Find logs at: <code>C:\\Users\\nekta\\OneDrive\\Desktop\\botanic-emotion-recognition\\logs\\wandb\\run-20240107_014922-iy3hydol\\logs</code>"
      ],
      "text/plain": [
       "<IPython.core.display.HTML object>"
      ]
     },
     "metadata": {},
     "output_type": "display_data"
    },
    {
     "data": {
      "text/html": [
       "Successfully finished last run (ID:iy3hydol). Initializing new run:<br/>"
      ],
      "text/plain": [
       "<IPython.core.display.HTML object>"
      ]
     },
     "metadata": {},
     "output_type": "display_data"
    },
    {
     "data": {
      "text/html": [
       "wandb version 0.16.1 is available!  To upgrade, please run:\n",
       " $ pip install wandb --upgrade"
      ],
      "text/plain": [
       "<IPython.core.display.HTML object>"
      ]
     },
     "metadata": {},
     "output_type": "display_data"
    },
    {
     "data": {
      "text/html": [
       "Tracking run with wandb version 0.15.12"
      ],
      "text/plain": [
       "<IPython.core.display.HTML object>"
      ]
     },
     "metadata": {},
     "output_type": "display_data"
    },
    {
     "data": {
      "text/html": [
       "Run data is saved locally in <code>C:\\Users\\nekta\\OneDrive\\Desktop\\botanic-emotion-recognition\\logs\\wandb\\run-20240107_015052-d0uw9v4d</code>"
      ],
      "text/plain": [
       "<IPython.core.display.HTML object>"
      ]
     },
     "metadata": {},
     "output_type": "display_data"
    },
    {
     "data": {
      "text/html": [
       "Syncing run <strong><a href='https://wandb.ai/totikos/model_cnn_mfcc_6_grey_81k-hpo/runs/d0uw9v4d' target=\"_blank\">63_cnn_mfcc_6_grey_81k_lr-0.0001_convf1-32_convf2-32_convker-5_dr-0.2</a></strong> to <a href='https://wandb.ai/totikos/model_cnn_mfcc_6_grey_81k-hpo' target=\"_blank\">Weights & Biases</a> (<a href='https://wandb.me/run' target=\"_blank\">docs</a>)<br/>"
      ],
      "text/plain": [
       "<IPython.core.display.HTML object>"
      ]
     },
     "metadata": {},
     "output_type": "display_data"
    },
    {
     "data": {
      "text/html": [
       " View project at <a href='https://wandb.ai/totikos/model_cnn_mfcc_6_grey_81k-hpo' target=\"_blank\">https://wandb.ai/totikos/model_cnn_mfcc_6_grey_81k-hpo</a>"
      ],
      "text/plain": [
       "<IPython.core.display.HTML object>"
      ]
     },
     "metadata": {},
     "output_type": "display_data"
    },
    {
     "data": {
      "text/html": [
       " View run at <a href='https://wandb.ai/totikos/model_cnn_mfcc_6_grey_81k-hpo/runs/d0uw9v4d' target=\"_blank\">https://wandb.ai/totikos/model_cnn_mfcc_6_grey_81k-hpo/runs/d0uw9v4d</a>"
      ],
      "text/plain": [
       "<IPython.core.display.HTML object>"
      ]
     },
     "metadata": {},
     "output_type": "display_data"
    },
    {
     "name": "stderr",
     "output_type": "stream",
     "text": [
      "100%|████████████████████████████████████████| 380/380 [01:38<00:00,  3.87it/s]\n",
      "100%|██████████████████████████████████████████| 82/82 [00:08<00:00,  9.76it/s]\n",
      "[I 2024-01-07 01:52:45,190] Trial 63 pruned. \n"
     ]
    },
    {
     "name": "stdout",
     "output_type": "stream",
     "text": [
      "{'out_channels_l1': 64, 'out_channels_l2': 64, 'conv_kernel_size': 3, 'dropout_rate': 0.0}\n"
     ]
    },
    {
     "data": {
      "text/html": [
       "Finishing last run (ID:d0uw9v4d) before initializing another..."
      ],
      "text/plain": [
       "<IPython.core.display.HTML object>"
      ]
     },
     "metadata": {},
     "output_type": "display_data"
    },
    {
     "data": {
      "text/html": [
       "Waiting for W&B process to finish... <strong style=\"color:green\">(success).</strong>"
      ],
      "text/plain": [
       "<IPython.core.display.HTML object>"
      ]
     },
     "metadata": {},
     "output_type": "display_data"
    },
    {
     "data": {
      "text/html": [
       " View run <strong style=\"color:#cdcd00\">63_cnn_mfcc_6_grey_81k_lr-0.0001_convf1-32_convf2-32_convker-5_dr-0.2</strong> at: <a href='https://wandb.ai/totikos/model_cnn_mfcc_6_grey_81k-hpo/runs/d0uw9v4d' target=\"_blank\">https://wandb.ai/totikos/model_cnn_mfcc_6_grey_81k-hpo/runs/d0uw9v4d</a><br/> View job at <a href='https://wandb.ai/totikos/model_cnn_mfcc_6_grey_81k-hpo/jobs/QXJ0aWZhY3RDb2xsZWN0aW9uOjEyNzk0NTQwMw==/version_details/v4' target=\"_blank\">https://wandb.ai/totikos/model_cnn_mfcc_6_grey_81k-hpo/jobs/QXJ0aWZhY3RDb2xsZWN0aW9uOjEyNzk0NTQwMw==/version_details/v4</a><br/>Synced 5 W&B file(s), 0 media file(s), 0 artifact file(s) and 0 other file(s)"
      ],
      "text/plain": [
       "<IPython.core.display.HTML object>"
      ]
     },
     "metadata": {},
     "output_type": "display_data"
    },
    {
     "data": {
      "text/html": [
       "Find logs at: <code>C:\\Users\\nekta\\OneDrive\\Desktop\\botanic-emotion-recognition\\logs\\wandb\\run-20240107_015052-d0uw9v4d\\logs</code>"
      ],
      "text/plain": [
       "<IPython.core.display.HTML object>"
      ]
     },
     "metadata": {},
     "output_type": "display_data"
    },
    {
     "data": {
      "text/html": [
       "Successfully finished last run (ID:d0uw9v4d). Initializing new run:<br/>"
      ],
      "text/plain": [
       "<IPython.core.display.HTML object>"
      ]
     },
     "metadata": {},
     "output_type": "display_data"
    },
    {
     "data": {
      "text/html": [
       "wandb version 0.16.1 is available!  To upgrade, please run:\n",
       " $ pip install wandb --upgrade"
      ],
      "text/plain": [
       "<IPython.core.display.HTML object>"
      ]
     },
     "metadata": {},
     "output_type": "display_data"
    },
    {
     "data": {
      "text/html": [
       "Tracking run with wandb version 0.15.12"
      ],
      "text/plain": [
       "<IPython.core.display.HTML object>"
      ]
     },
     "metadata": {},
     "output_type": "display_data"
    },
    {
     "data": {
      "text/html": [
       "Run data is saved locally in <code>C:\\Users\\nekta\\OneDrive\\Desktop\\botanic-emotion-recognition\\logs\\wandb\\run-20240107_015245-3eoytk7l</code>"
      ],
      "text/plain": [
       "<IPython.core.display.HTML object>"
      ]
     },
     "metadata": {},
     "output_type": "display_data"
    },
    {
     "data": {
      "text/html": [
       "Syncing run <strong><a href='https://wandb.ai/totikos/model_cnn_mfcc_6_grey_81k-hpo/runs/3eoytk7l' target=\"_blank\">64_cnn_mfcc_6_grey_81k_lr-0.001_convf1-64_convf2-64_convker-3_dr-0.0</a></strong> to <a href='https://wandb.ai/totikos/model_cnn_mfcc_6_grey_81k-hpo' target=\"_blank\">Weights & Biases</a> (<a href='https://wandb.me/run' target=\"_blank\">docs</a>)<br/>"
      ],
      "text/plain": [
       "<IPython.core.display.HTML object>"
      ]
     },
     "metadata": {},
     "output_type": "display_data"
    },
    {
     "data": {
      "text/html": [
       " View project at <a href='https://wandb.ai/totikos/model_cnn_mfcc_6_grey_81k-hpo' target=\"_blank\">https://wandb.ai/totikos/model_cnn_mfcc_6_grey_81k-hpo</a>"
      ],
      "text/plain": [
       "<IPython.core.display.HTML object>"
      ]
     },
     "metadata": {},
     "output_type": "display_data"
    },
    {
     "data": {
      "text/html": [
       " View run at <a href='https://wandb.ai/totikos/model_cnn_mfcc_6_grey_81k-hpo/runs/3eoytk7l' target=\"_blank\">https://wandb.ai/totikos/model_cnn_mfcc_6_grey_81k-hpo/runs/3eoytk7l</a>"
      ],
      "text/plain": [
       "<IPython.core.display.HTML object>"
      ]
     },
     "metadata": {},
     "output_type": "display_data"
    },
    {
     "name": "stderr",
     "output_type": "stream",
     "text": [
      "100%|████████████████████████████████████████| 380/380 [02:34<00:00,  2.46it/s]\n",
      "100%|██████████████████████████████████████████| 82/82 [00:15<00:00,  5.40it/s]\n",
      "100%|████████████████████████████████████████| 380/380 [02:38<00:00,  2.39it/s]\n",
      "100%|██████████████████████████████████████████| 82/82 [00:15<00:00,  5.24it/s]\n",
      "[I 2024-01-07 01:58:35,381] Trial 64 pruned. \n"
     ]
    },
    {
     "name": "stdout",
     "output_type": "stream",
     "text": [
      "{'out_channels_l1': 64, 'out_channels_l2': 32, 'conv_kernel_size': 3, 'dropout_rate': 0.2}\n"
     ]
    },
    {
     "data": {
      "text/html": [
       "Finishing last run (ID:3eoytk7l) before initializing another..."
      ],
      "text/plain": [
       "<IPython.core.display.HTML object>"
      ]
     },
     "metadata": {},
     "output_type": "display_data"
    },
    {
     "data": {
      "text/html": [
       "Waiting for W&B process to finish... <strong style=\"color:green\">(success).</strong>"
      ],
      "text/plain": [
       "<IPython.core.display.HTML object>"
      ]
     },
     "metadata": {},
     "output_type": "display_data"
    },
    {
     "data": {
      "text/html": [
       "<style>\n",
       "    table.wandb td:nth-child(1) { padding: 0 10px; text-align: left ; width: auto;} td:nth-child(2) {text-align: left ; width: 100%}\n",
       "    .wandb-row { display: flex; flex-direction: row; flex-wrap: wrap; justify-content: flex-start; width: 100% }\n",
       "    .wandb-col { display: flex; flex-direction: column; flex-basis: 100%; flex: 1; padding: 10px; }\n",
       "    </style>\n",
       "<div class=\"wandb-row\"><div class=\"wandb-col\"><h3>Run history:</h3><br/><table class=\"wandb\"><tr><td>accuracy</td><td>▁</td></tr><tr><td>balanced_accuracy</td><td>▁</td></tr><tr><td>f1_weighted</td><td>▁</td></tr><tr><td>precision</td><td>▁</td></tr><tr><td>recall</td><td>▁</td></tr></table><br/></div><div class=\"wandb-col\"><h3>Run summary:</h3><br/><table class=\"wandb\"><tr><td>accuracy</td><td>0.43808</td></tr><tr><td>balanced_accuracy</td><td>0.28817</td></tr><tr><td>f1_weighted</td><td>0.41789</td></tr><tr><td>precision</td><td>0.42969</td></tr><tr><td>recall</td><td>0.43808</td></tr></table><br/></div></div>"
      ],
      "text/plain": [
       "<IPython.core.display.HTML object>"
      ]
     },
     "metadata": {},
     "output_type": "display_data"
    },
    {
     "data": {
      "text/html": [
       " View run <strong style=\"color:#cdcd00\">64_cnn_mfcc_6_grey_81k_lr-0.001_convf1-64_convf2-64_convker-3_dr-0.0</strong> at: <a href='https://wandb.ai/totikos/model_cnn_mfcc_6_grey_81k-hpo/runs/3eoytk7l' target=\"_blank\">https://wandb.ai/totikos/model_cnn_mfcc_6_grey_81k-hpo/runs/3eoytk7l</a><br/> View job at <a href='https://wandb.ai/totikos/model_cnn_mfcc_6_grey_81k-hpo/jobs/QXJ0aWZhY3RDb2xsZWN0aW9uOjEyNzk0NTQwMw==/version_details/v3' target=\"_blank\">https://wandb.ai/totikos/model_cnn_mfcc_6_grey_81k-hpo/jobs/QXJ0aWZhY3RDb2xsZWN0aW9uOjEyNzk0NTQwMw==/version_details/v3</a><br/>Synced 5 W&B file(s), 0 media file(s), 0 artifact file(s) and 0 other file(s)"
      ],
      "text/plain": [
       "<IPython.core.display.HTML object>"
      ]
     },
     "metadata": {},
     "output_type": "display_data"
    },
    {
     "data": {
      "text/html": [
       "Find logs at: <code>C:\\Users\\nekta\\OneDrive\\Desktop\\botanic-emotion-recognition\\logs\\wandb\\run-20240107_015245-3eoytk7l\\logs</code>"
      ],
      "text/plain": [
       "<IPython.core.display.HTML object>"
      ]
     },
     "metadata": {},
     "output_type": "display_data"
    },
    {
     "data": {
      "text/html": [
       "Successfully finished last run (ID:3eoytk7l). Initializing new run:<br/>"
      ],
      "text/plain": [
       "<IPython.core.display.HTML object>"
      ]
     },
     "metadata": {},
     "output_type": "display_data"
    },
    {
     "data": {
      "text/html": [
       "wandb version 0.16.1 is available!  To upgrade, please run:\n",
       " $ pip install wandb --upgrade"
      ],
      "text/plain": [
       "<IPython.core.display.HTML object>"
      ]
     },
     "metadata": {},
     "output_type": "display_data"
    },
    {
     "data": {
      "text/html": [
       "Tracking run with wandb version 0.15.12"
      ],
      "text/plain": [
       "<IPython.core.display.HTML object>"
      ]
     },
     "metadata": {},
     "output_type": "display_data"
    },
    {
     "data": {
      "text/html": [
       "Run data is saved locally in <code>C:\\Users\\nekta\\OneDrive\\Desktop\\botanic-emotion-recognition\\logs\\wandb\\run-20240107_015835-wv59wv44</code>"
      ],
      "text/plain": [
       "<IPython.core.display.HTML object>"
      ]
     },
     "metadata": {},
     "output_type": "display_data"
    },
    {
     "data": {
      "text/html": [
       "Syncing run <strong><a href='https://wandb.ai/totikos/model_cnn_mfcc_6_grey_81k-hpo/runs/wv59wv44' target=\"_blank\">65_cnn_mfcc_6_grey_81k_lr-0.01_convf1-64_convf2-32_convker-3_dr-0.2</a></strong> to <a href='https://wandb.ai/totikos/model_cnn_mfcc_6_grey_81k-hpo' target=\"_blank\">Weights & Biases</a> (<a href='https://wandb.me/run' target=\"_blank\">docs</a>)<br/>"
      ],
      "text/plain": [
       "<IPython.core.display.HTML object>"
      ]
     },
     "metadata": {},
     "output_type": "display_data"
    },
    {
     "data": {
      "text/html": [
       " View project at <a href='https://wandb.ai/totikos/model_cnn_mfcc_6_grey_81k-hpo' target=\"_blank\">https://wandb.ai/totikos/model_cnn_mfcc_6_grey_81k-hpo</a>"
      ],
      "text/plain": [
       "<IPython.core.display.HTML object>"
      ]
     },
     "metadata": {},
     "output_type": "display_data"
    },
    {
     "data": {
      "text/html": [
       " View run at <a href='https://wandb.ai/totikos/model_cnn_mfcc_6_grey_81k-hpo/runs/wv59wv44' target=\"_blank\">https://wandb.ai/totikos/model_cnn_mfcc_6_grey_81k-hpo/runs/wv59wv44</a>"
      ],
      "text/plain": [
       "<IPython.core.display.HTML object>"
      ]
     },
     "metadata": {},
     "output_type": "display_data"
    },
    {
     "name": "stderr",
     "output_type": "stream",
     "text": [
      "100%|████████████████████████████████████████| 380/380 [02:22<00:00,  2.66it/s]\n",
      "100%|██████████████████████████████████████████| 82/82 [00:12<00:00,  6.32it/s]\n",
      "[I 2024-01-07 02:01:17,522] Trial 65 pruned. \n"
     ]
    },
    {
     "name": "stdout",
     "output_type": "stream",
     "text": [
      "{'out_channels_l1': 16, 'out_channels_l2': 32, 'conv_kernel_size': 5, 'dropout_rate': 0.1}\n"
     ]
    },
    {
     "data": {
      "text/html": [
       "Finishing last run (ID:wv59wv44) before initializing another..."
      ],
      "text/plain": [
       "<IPython.core.display.HTML object>"
      ]
     },
     "metadata": {},
     "output_type": "display_data"
    },
    {
     "data": {
      "text/html": [
       "Waiting for W&B process to finish... <strong style=\"color:green\">(success).</strong>"
      ],
      "text/plain": [
       "<IPython.core.display.HTML object>"
      ]
     },
     "metadata": {},
     "output_type": "display_data"
    },
    {
     "data": {
      "text/html": [
       " View run <strong style=\"color:#cdcd00\">65_cnn_mfcc_6_grey_81k_lr-0.01_convf1-64_convf2-32_convker-3_dr-0.2</strong> at: <a href='https://wandb.ai/totikos/model_cnn_mfcc_6_grey_81k-hpo/runs/wv59wv44' target=\"_blank\">https://wandb.ai/totikos/model_cnn_mfcc_6_grey_81k-hpo/runs/wv59wv44</a><br/> View job at <a href='https://wandb.ai/totikos/model_cnn_mfcc_6_grey_81k-hpo/jobs/QXJ0aWZhY3RDb2xsZWN0aW9uOjEyNzk0NTQwMw==/version_details/v4' target=\"_blank\">https://wandb.ai/totikos/model_cnn_mfcc_6_grey_81k-hpo/jobs/QXJ0aWZhY3RDb2xsZWN0aW9uOjEyNzk0NTQwMw==/version_details/v4</a><br/>Synced 5 W&B file(s), 0 media file(s), 0 artifact file(s) and 0 other file(s)"
      ],
      "text/plain": [
       "<IPython.core.display.HTML object>"
      ]
     },
     "metadata": {},
     "output_type": "display_data"
    },
    {
     "data": {
      "text/html": [
       "Find logs at: <code>C:\\Users\\nekta\\OneDrive\\Desktop\\botanic-emotion-recognition\\logs\\wandb\\run-20240107_015835-wv59wv44\\logs</code>"
      ],
      "text/plain": [
       "<IPython.core.display.HTML object>"
      ]
     },
     "metadata": {},
     "output_type": "display_data"
    },
    {
     "data": {
      "text/html": [
       "Successfully finished last run (ID:wv59wv44). Initializing new run:<br/>"
      ],
      "text/plain": [
       "<IPython.core.display.HTML object>"
      ]
     },
     "metadata": {},
     "output_type": "display_data"
    },
    {
     "data": {
      "text/html": [
       "wandb version 0.16.1 is available!  To upgrade, please run:\n",
       " $ pip install wandb --upgrade"
      ],
      "text/plain": [
       "<IPython.core.display.HTML object>"
      ]
     },
     "metadata": {},
     "output_type": "display_data"
    },
    {
     "data": {
      "text/html": [
       "Tracking run with wandb version 0.15.12"
      ],
      "text/plain": [
       "<IPython.core.display.HTML object>"
      ]
     },
     "metadata": {},
     "output_type": "display_data"
    },
    {
     "data": {
      "text/html": [
       "Run data is saved locally in <code>C:\\Users\\nekta\\OneDrive\\Desktop\\botanic-emotion-recognition\\logs\\wandb\\run-20240107_020117-bj2j5339</code>"
      ],
      "text/plain": [
       "<IPython.core.display.HTML object>"
      ]
     },
     "metadata": {},
     "output_type": "display_data"
    },
    {
     "data": {
      "text/html": [
       "Syncing run <strong><a href='https://wandb.ai/totikos/model_cnn_mfcc_6_grey_81k-hpo/runs/bj2j5339' target=\"_blank\">66_cnn_mfcc_6_grey_81k_lr-0.01_convf1-16_convf2-32_convker-5_dr-0.1</a></strong> to <a href='https://wandb.ai/totikos/model_cnn_mfcc_6_grey_81k-hpo' target=\"_blank\">Weights & Biases</a> (<a href='https://wandb.me/run' target=\"_blank\">docs</a>)<br/>"
      ],
      "text/plain": [
       "<IPython.core.display.HTML object>"
      ]
     },
     "metadata": {},
     "output_type": "display_data"
    },
    {
     "data": {
      "text/html": [
       " View project at <a href='https://wandb.ai/totikos/model_cnn_mfcc_6_grey_81k-hpo' target=\"_blank\">https://wandb.ai/totikos/model_cnn_mfcc_6_grey_81k-hpo</a>"
      ],
      "text/plain": [
       "<IPython.core.display.HTML object>"
      ]
     },
     "metadata": {},
     "output_type": "display_data"
    },
    {
     "data": {
      "text/html": [
       " View run at <a href='https://wandb.ai/totikos/model_cnn_mfcc_6_grey_81k-hpo/runs/bj2j5339' target=\"_blank\">https://wandb.ai/totikos/model_cnn_mfcc_6_grey_81k-hpo/runs/bj2j5339</a>"
      ],
      "text/plain": [
       "<IPython.core.display.HTML object>"
      ]
     },
     "metadata": {},
     "output_type": "display_data"
    },
    {
     "name": "stderr",
     "output_type": "stream",
     "text": [
      "100%|████████████████████████████████████████| 380/380 [00:53<00:00,  7.09it/s]\n",
      "100%|██████████████████████████████████████████| 82/82 [00:04<00:00, 18.65it/s]\n",
      "[I 2024-01-07 02:02:20,556] Trial 66 pruned. \n"
     ]
    },
    {
     "name": "stdout",
     "output_type": "stream",
     "text": [
      "{'out_channels_l1': 64, 'out_channels_l2': 64, 'conv_kernel_size': 3, 'dropout_rate': 0.0}\n"
     ]
    },
    {
     "data": {
      "text/html": [
       "Finishing last run (ID:bj2j5339) before initializing another..."
      ],
      "text/plain": [
       "<IPython.core.display.HTML object>"
      ]
     },
     "metadata": {},
     "output_type": "display_data"
    },
    {
     "data": {
      "text/html": [
       "Waiting for W&B process to finish... <strong style=\"color:green\">(success).</strong>"
      ],
      "text/plain": [
       "<IPython.core.display.HTML object>"
      ]
     },
     "metadata": {},
     "output_type": "display_data"
    },
    {
     "data": {
      "text/html": [
       " View run <strong style=\"color:#cdcd00\">66_cnn_mfcc_6_grey_81k_lr-0.01_convf1-16_convf2-32_convker-5_dr-0.1</strong> at: <a href='https://wandb.ai/totikos/model_cnn_mfcc_6_grey_81k-hpo/runs/bj2j5339' target=\"_blank\">https://wandb.ai/totikos/model_cnn_mfcc_6_grey_81k-hpo/runs/bj2j5339</a><br/> View job at <a href='https://wandb.ai/totikos/model_cnn_mfcc_6_grey_81k-hpo/jobs/QXJ0aWZhY3RDb2xsZWN0aW9uOjEyNzk0NTQwMw==/version_details/v4' target=\"_blank\">https://wandb.ai/totikos/model_cnn_mfcc_6_grey_81k-hpo/jobs/QXJ0aWZhY3RDb2xsZWN0aW9uOjEyNzk0NTQwMw==/version_details/v4</a><br/>Synced 5 W&B file(s), 0 media file(s), 0 artifact file(s) and 0 other file(s)"
      ],
      "text/plain": [
       "<IPython.core.display.HTML object>"
      ]
     },
     "metadata": {},
     "output_type": "display_data"
    },
    {
     "data": {
      "text/html": [
       "Find logs at: <code>C:\\Users\\nekta\\OneDrive\\Desktop\\botanic-emotion-recognition\\logs\\wandb\\run-20240107_020117-bj2j5339\\logs</code>"
      ],
      "text/plain": [
       "<IPython.core.display.HTML object>"
      ]
     },
     "metadata": {},
     "output_type": "display_data"
    },
    {
     "data": {
      "text/html": [
       "Successfully finished last run (ID:bj2j5339). Initializing new run:<br/>"
      ],
      "text/plain": [
       "<IPython.core.display.HTML object>"
      ]
     },
     "metadata": {},
     "output_type": "display_data"
    },
    {
     "data": {
      "text/html": [
       "wandb version 0.16.1 is available!  To upgrade, please run:\n",
       " $ pip install wandb --upgrade"
      ],
      "text/plain": [
       "<IPython.core.display.HTML object>"
      ]
     },
     "metadata": {},
     "output_type": "display_data"
    },
    {
     "data": {
      "text/html": [
       "Tracking run with wandb version 0.15.12"
      ],
      "text/plain": [
       "<IPython.core.display.HTML object>"
      ]
     },
     "metadata": {},
     "output_type": "display_data"
    },
    {
     "data": {
      "text/html": [
       "Run data is saved locally in <code>C:\\Users\\nekta\\OneDrive\\Desktop\\botanic-emotion-recognition\\logs\\wandb\\run-20240107_020220-5p9icpi9</code>"
      ],
      "text/plain": [
       "<IPython.core.display.HTML object>"
      ]
     },
     "metadata": {},
     "output_type": "display_data"
    },
    {
     "data": {
      "text/html": [
       "Syncing run <strong><a href='https://wandb.ai/totikos/model_cnn_mfcc_6_grey_81k-hpo/runs/5p9icpi9' target=\"_blank\">67_cnn_mfcc_6_grey_81k_lr-0.01_convf1-64_convf2-64_convker-3_dr-0.0</a></strong> to <a href='https://wandb.ai/totikos/model_cnn_mfcc_6_grey_81k-hpo' target=\"_blank\">Weights & Biases</a> (<a href='https://wandb.me/run' target=\"_blank\">docs</a>)<br/>"
      ],
      "text/plain": [
       "<IPython.core.display.HTML object>"
      ]
     },
     "metadata": {},
     "output_type": "display_data"
    },
    {
     "data": {
      "text/html": [
       " View project at <a href='https://wandb.ai/totikos/model_cnn_mfcc_6_grey_81k-hpo' target=\"_blank\">https://wandb.ai/totikos/model_cnn_mfcc_6_grey_81k-hpo</a>"
      ],
      "text/plain": [
       "<IPython.core.display.HTML object>"
      ]
     },
     "metadata": {},
     "output_type": "display_data"
    },
    {
     "data": {
      "text/html": [
       " View run at <a href='https://wandb.ai/totikos/model_cnn_mfcc_6_grey_81k-hpo/runs/5p9icpi9' target=\"_blank\">https://wandb.ai/totikos/model_cnn_mfcc_6_grey_81k-hpo/runs/5p9icpi9</a>"
      ],
      "text/plain": [
       "<IPython.core.display.HTML object>"
      ]
     },
     "metadata": {},
     "output_type": "display_data"
    },
    {
     "name": "stderr",
     "output_type": "stream",
     "text": [
      "100%|████████████████████████████████████████| 380/380 [02:46<00:00,  2.28it/s]\n",
      "100%|██████████████████████████████████████████| 82/82 [00:14<00:00,  5.47it/s]\n",
      "[I 2024-01-07 02:05:32,351] Trial 67 pruned. \n"
     ]
    },
    {
     "name": "stdout",
     "output_type": "stream",
     "text": [
      "{'out_channels_l1': 16, 'out_channels_l2': 64, 'conv_kernel_size': 5, 'dropout_rate': 0.2}\n"
     ]
    },
    {
     "data": {
      "text/html": [
       "Finishing last run (ID:5p9icpi9) before initializing another..."
      ],
      "text/plain": [
       "<IPython.core.display.HTML object>"
      ]
     },
     "metadata": {},
     "output_type": "display_data"
    },
    {
     "data": {
      "text/html": [
       "Waiting for W&B process to finish... <strong style=\"color:green\">(success).</strong>"
      ],
      "text/plain": [
       "<IPython.core.display.HTML object>"
      ]
     },
     "metadata": {},
     "output_type": "display_data"
    },
    {
     "data": {
      "text/html": [
       " View run <strong style=\"color:#cdcd00\">67_cnn_mfcc_6_grey_81k_lr-0.01_convf1-64_convf2-64_convker-3_dr-0.0</strong> at: <a href='https://wandb.ai/totikos/model_cnn_mfcc_6_grey_81k-hpo/runs/5p9icpi9' target=\"_blank\">https://wandb.ai/totikos/model_cnn_mfcc_6_grey_81k-hpo/runs/5p9icpi9</a><br/> View job at <a href='https://wandb.ai/totikos/model_cnn_mfcc_6_grey_81k-hpo/jobs/QXJ0aWZhY3RDb2xsZWN0aW9uOjEyNzk0NTQwMw==/version_details/v4' target=\"_blank\">https://wandb.ai/totikos/model_cnn_mfcc_6_grey_81k-hpo/jobs/QXJ0aWZhY3RDb2xsZWN0aW9uOjEyNzk0NTQwMw==/version_details/v4</a><br/>Synced 5 W&B file(s), 0 media file(s), 0 artifact file(s) and 0 other file(s)"
      ],
      "text/plain": [
       "<IPython.core.display.HTML object>"
      ]
     },
     "metadata": {},
     "output_type": "display_data"
    },
    {
     "data": {
      "text/html": [
       "Find logs at: <code>C:\\Users\\nekta\\OneDrive\\Desktop\\botanic-emotion-recognition\\logs\\wandb\\run-20240107_020220-5p9icpi9\\logs</code>"
      ],
      "text/plain": [
       "<IPython.core.display.HTML object>"
      ]
     },
     "metadata": {},
     "output_type": "display_data"
    },
    {
     "data": {
      "text/html": [
       "Successfully finished last run (ID:5p9icpi9). Initializing new run:<br/>"
      ],
      "text/plain": [
       "<IPython.core.display.HTML object>"
      ]
     },
     "metadata": {},
     "output_type": "display_data"
    },
    {
     "data": {
      "text/html": [
       "wandb version 0.16.1 is available!  To upgrade, please run:\n",
       " $ pip install wandb --upgrade"
      ],
      "text/plain": [
       "<IPython.core.display.HTML object>"
      ]
     },
     "metadata": {},
     "output_type": "display_data"
    },
    {
     "data": {
      "text/html": [
       "Tracking run with wandb version 0.15.12"
      ],
      "text/plain": [
       "<IPython.core.display.HTML object>"
      ]
     },
     "metadata": {},
     "output_type": "display_data"
    },
    {
     "data": {
      "text/html": [
       "Run data is saved locally in <code>C:\\Users\\nekta\\OneDrive\\Desktop\\botanic-emotion-recognition\\logs\\wandb\\run-20240107_020532-x8x4zn5o</code>"
      ],
      "text/plain": [
       "<IPython.core.display.HTML object>"
      ]
     },
     "metadata": {},
     "output_type": "display_data"
    },
    {
     "data": {
      "text/html": [
       "Syncing run <strong><a href='https://wandb.ai/totikos/model_cnn_mfcc_6_grey_81k-hpo/runs/x8x4zn5o' target=\"_blank\">68_cnn_mfcc_6_grey_81k_lr-0.01_convf1-16_convf2-64_convker-5_dr-0.2</a></strong> to <a href='https://wandb.ai/totikos/model_cnn_mfcc_6_grey_81k-hpo' target=\"_blank\">Weights & Biases</a> (<a href='https://wandb.me/run' target=\"_blank\">docs</a>)<br/>"
      ],
      "text/plain": [
       "<IPython.core.display.HTML object>"
      ]
     },
     "metadata": {},
     "output_type": "display_data"
    },
    {
     "data": {
      "text/html": [
       " View project at <a href='https://wandb.ai/totikos/model_cnn_mfcc_6_grey_81k-hpo' target=\"_blank\">https://wandb.ai/totikos/model_cnn_mfcc_6_grey_81k-hpo</a>"
      ],
      "text/plain": [
       "<IPython.core.display.HTML object>"
      ]
     },
     "metadata": {},
     "output_type": "display_data"
    },
    {
     "data": {
      "text/html": [
       " View run at <a href='https://wandb.ai/totikos/model_cnn_mfcc_6_grey_81k-hpo/runs/x8x4zn5o' target=\"_blank\">https://wandb.ai/totikos/model_cnn_mfcc_6_grey_81k-hpo/runs/x8x4zn5o</a>"
      ],
      "text/plain": [
       "<IPython.core.display.HTML object>"
      ]
     },
     "metadata": {},
     "output_type": "display_data"
    },
    {
     "name": "stderr",
     "output_type": "stream",
     "text": [
      "100%|████████████████████████████████████████| 380/380 [01:11<00:00,  5.29it/s]\n",
      "100%|██████████████████████████████████████████| 82/82 [00:06<00:00, 12.90it/s]\n",
      "[I 2024-01-07 02:06:56,238] Trial 68 pruned. \n"
     ]
    },
    {
     "name": "stdout",
     "output_type": "stream",
     "text": [
      "{'out_channels_l1': 32, 'out_channels_l2': 64, 'conv_kernel_size': 5, 'dropout_rate': 0.1}\n"
     ]
    },
    {
     "data": {
      "text/html": [
       "Finishing last run (ID:x8x4zn5o) before initializing another..."
      ],
      "text/plain": [
       "<IPython.core.display.HTML object>"
      ]
     },
     "metadata": {},
     "output_type": "display_data"
    },
    {
     "data": {
      "text/html": [
       "Waiting for W&B process to finish... <strong style=\"color:green\">(success).</strong>"
      ],
      "text/plain": [
       "<IPython.core.display.HTML object>"
      ]
     },
     "metadata": {},
     "output_type": "display_data"
    },
    {
     "data": {
      "text/html": [
       " View run <strong style=\"color:#cdcd00\">68_cnn_mfcc_6_grey_81k_lr-0.01_convf1-16_convf2-64_convker-5_dr-0.2</strong> at: <a href='https://wandb.ai/totikos/model_cnn_mfcc_6_grey_81k-hpo/runs/x8x4zn5o' target=\"_blank\">https://wandb.ai/totikos/model_cnn_mfcc_6_grey_81k-hpo/runs/x8x4zn5o</a><br/> View job at <a href='https://wandb.ai/totikos/model_cnn_mfcc_6_grey_81k-hpo/jobs/QXJ0aWZhY3RDb2xsZWN0aW9uOjEyNzk0NTQwMw==/version_details/v4' target=\"_blank\">https://wandb.ai/totikos/model_cnn_mfcc_6_grey_81k-hpo/jobs/QXJ0aWZhY3RDb2xsZWN0aW9uOjEyNzk0NTQwMw==/version_details/v4</a><br/>Synced 5 W&B file(s), 0 media file(s), 0 artifact file(s) and 0 other file(s)"
      ],
      "text/plain": [
       "<IPython.core.display.HTML object>"
      ]
     },
     "metadata": {},
     "output_type": "display_data"
    },
    {
     "data": {
      "text/html": [
       "Find logs at: <code>C:\\Users\\nekta\\OneDrive\\Desktop\\botanic-emotion-recognition\\logs\\wandb\\run-20240107_020532-x8x4zn5o\\logs</code>"
      ],
      "text/plain": [
       "<IPython.core.display.HTML object>"
      ]
     },
     "metadata": {},
     "output_type": "display_data"
    },
    {
     "data": {
      "text/html": [
       "Successfully finished last run (ID:x8x4zn5o). Initializing new run:<br/>"
      ],
      "text/plain": [
       "<IPython.core.display.HTML object>"
      ]
     },
     "metadata": {},
     "output_type": "display_data"
    },
    {
     "data": {
      "text/html": [
       "wandb version 0.16.1 is available!  To upgrade, please run:\n",
       " $ pip install wandb --upgrade"
      ],
      "text/plain": [
       "<IPython.core.display.HTML object>"
      ]
     },
     "metadata": {},
     "output_type": "display_data"
    },
    {
     "data": {
      "text/html": [
       "Tracking run with wandb version 0.15.12"
      ],
      "text/plain": [
       "<IPython.core.display.HTML object>"
      ]
     },
     "metadata": {},
     "output_type": "display_data"
    },
    {
     "data": {
      "text/html": [
       "Run data is saved locally in <code>C:\\Users\\nekta\\OneDrive\\Desktop\\botanic-emotion-recognition\\logs\\wandb\\run-20240107_020656-gj0g4147</code>"
      ],
      "text/plain": [
       "<IPython.core.display.HTML object>"
      ]
     },
     "metadata": {},
     "output_type": "display_data"
    },
    {
     "data": {
      "text/html": [
       "Syncing run <strong><a href='https://wandb.ai/totikos/model_cnn_mfcc_6_grey_81k-hpo/runs/gj0g4147' target=\"_blank\">69_cnn_mfcc_6_grey_81k_lr-0.01_convf1-32_convf2-64_convker-5_dr-0.1</a></strong> to <a href='https://wandb.ai/totikos/model_cnn_mfcc_6_grey_81k-hpo' target=\"_blank\">Weights & Biases</a> (<a href='https://wandb.me/run' target=\"_blank\">docs</a>)<br/>"
      ],
      "text/plain": [
       "<IPython.core.display.HTML object>"
      ]
     },
     "metadata": {},
     "output_type": "display_data"
    },
    {
     "data": {
      "text/html": [
       " View project at <a href='https://wandb.ai/totikos/model_cnn_mfcc_6_grey_81k-hpo' target=\"_blank\">https://wandb.ai/totikos/model_cnn_mfcc_6_grey_81k-hpo</a>"
      ],
      "text/plain": [
       "<IPython.core.display.HTML object>"
      ]
     },
     "metadata": {},
     "output_type": "display_data"
    },
    {
     "data": {
      "text/html": [
       " View run at <a href='https://wandb.ai/totikos/model_cnn_mfcc_6_grey_81k-hpo/runs/gj0g4147' target=\"_blank\">https://wandb.ai/totikos/model_cnn_mfcc_6_grey_81k-hpo/runs/gj0g4147</a>"
      ],
      "text/plain": [
       "<IPython.core.display.HTML object>"
      ]
     },
     "metadata": {},
     "output_type": "display_data"
    },
    {
     "name": "stderr",
     "output_type": "stream",
     "text": [
      "100%|████████████████████████████████████████| 380/380 [01:59<00:00,  3.18it/s]\n",
      "100%|██████████████████████████████████████████| 82/82 [00:10<00:00,  8.01it/s]\n",
      "[I 2024-01-07 02:09:12,463] Trial 69 pruned. \n"
     ]
    },
    {
     "name": "stdout",
     "output_type": "stream",
     "text": [
      "{'out_channels_l1': 64, 'out_channels_l2': 64, 'conv_kernel_size': 3, 'dropout_rate': 0.1}\n"
     ]
    },
    {
     "data": {
      "text/html": [
       "Finishing last run (ID:gj0g4147) before initializing another..."
      ],
      "text/plain": [
       "<IPython.core.display.HTML object>"
      ]
     },
     "metadata": {},
     "output_type": "display_data"
    },
    {
     "data": {
      "text/html": [
       "Waiting for W&B process to finish... <strong style=\"color:green\">(success).</strong>"
      ],
      "text/plain": [
       "<IPython.core.display.HTML object>"
      ]
     },
     "metadata": {},
     "output_type": "display_data"
    },
    {
     "data": {
      "text/html": [
       " View run <strong style=\"color:#cdcd00\">69_cnn_mfcc_6_grey_81k_lr-0.01_convf1-32_convf2-64_convker-5_dr-0.1</strong> at: <a href='https://wandb.ai/totikos/model_cnn_mfcc_6_grey_81k-hpo/runs/gj0g4147' target=\"_blank\">https://wandb.ai/totikos/model_cnn_mfcc_6_grey_81k-hpo/runs/gj0g4147</a><br/> View job at <a href='https://wandb.ai/totikos/model_cnn_mfcc_6_grey_81k-hpo/jobs/QXJ0aWZhY3RDb2xsZWN0aW9uOjEyNzk0NTQwMw==/version_details/v4' target=\"_blank\">https://wandb.ai/totikos/model_cnn_mfcc_6_grey_81k-hpo/jobs/QXJ0aWZhY3RDb2xsZWN0aW9uOjEyNzk0NTQwMw==/version_details/v4</a><br/>Synced 5 W&B file(s), 0 media file(s), 0 artifact file(s) and 0 other file(s)"
      ],
      "text/plain": [
       "<IPython.core.display.HTML object>"
      ]
     },
     "metadata": {},
     "output_type": "display_data"
    },
    {
     "data": {
      "text/html": [
       "Find logs at: <code>C:\\Users\\nekta\\OneDrive\\Desktop\\botanic-emotion-recognition\\logs\\wandb\\run-20240107_020656-gj0g4147\\logs</code>"
      ],
      "text/plain": [
       "<IPython.core.display.HTML object>"
      ]
     },
     "metadata": {},
     "output_type": "display_data"
    },
    {
     "data": {
      "text/html": [
       "Successfully finished last run (ID:gj0g4147). Initializing new run:<br/>"
      ],
      "text/plain": [
       "<IPython.core.display.HTML object>"
      ]
     },
     "metadata": {},
     "output_type": "display_data"
    },
    {
     "data": {
      "text/html": [
       "wandb version 0.16.1 is available!  To upgrade, please run:\n",
       " $ pip install wandb --upgrade"
      ],
      "text/plain": [
       "<IPython.core.display.HTML object>"
      ]
     },
     "metadata": {},
     "output_type": "display_data"
    },
    {
     "data": {
      "text/html": [
       "Tracking run with wandb version 0.15.12"
      ],
      "text/plain": [
       "<IPython.core.display.HTML object>"
      ]
     },
     "metadata": {},
     "output_type": "display_data"
    },
    {
     "data": {
      "text/html": [
       "Run data is saved locally in <code>C:\\Users\\nekta\\OneDrive\\Desktop\\botanic-emotion-recognition\\logs\\wandb\\run-20240107_020912-91utp4to</code>"
      ],
      "text/plain": [
       "<IPython.core.display.HTML object>"
      ]
     },
     "metadata": {},
     "output_type": "display_data"
    },
    {
     "data": {
      "text/html": [
       "Syncing run <strong><a href='https://wandb.ai/totikos/model_cnn_mfcc_6_grey_81k-hpo/runs/91utp4to' target=\"_blank\">70_cnn_mfcc_6_grey_81k_lr-0.01_convf1-64_convf2-64_convker-3_dr-0.1</a></strong> to <a href='https://wandb.ai/totikos/model_cnn_mfcc_6_grey_81k-hpo' target=\"_blank\">Weights & Biases</a> (<a href='https://wandb.me/run' target=\"_blank\">docs</a>)<br/>"
      ],
      "text/plain": [
       "<IPython.core.display.HTML object>"
      ]
     },
     "metadata": {},
     "output_type": "display_data"
    },
    {
     "data": {
      "text/html": [
       " View project at <a href='https://wandb.ai/totikos/model_cnn_mfcc_6_grey_81k-hpo' target=\"_blank\">https://wandb.ai/totikos/model_cnn_mfcc_6_grey_81k-hpo</a>"
      ],
      "text/plain": [
       "<IPython.core.display.HTML object>"
      ]
     },
     "metadata": {},
     "output_type": "display_data"
    },
    {
     "data": {
      "text/html": [
       " View run at <a href='https://wandb.ai/totikos/model_cnn_mfcc_6_grey_81k-hpo/runs/91utp4to' target=\"_blank\">https://wandb.ai/totikos/model_cnn_mfcc_6_grey_81k-hpo/runs/91utp4to</a>"
      ],
      "text/plain": [
       "<IPython.core.display.HTML object>"
      ]
     },
     "metadata": {},
     "output_type": "display_data"
    },
    {
     "name": "stderr",
     "output_type": "stream",
     "text": [
      "100%|████████████████████████████████████████| 380/380 [02:40<00:00,  2.37it/s]\n",
      "100%|██████████████████████████████████████████| 82/82 [00:14<00:00,  5.58it/s]\n",
      "[I 2024-01-07 02:12:12,976] Trial 70 pruned. \n"
     ]
    },
    {
     "name": "stdout",
     "output_type": "stream",
     "text": [
      "{'out_channels_l1': 64, 'out_channels_l2': 64, 'conv_kernel_size': 3, 'dropout_rate': 0.2}\n"
     ]
    },
    {
     "data": {
      "text/html": [
       "Finishing last run (ID:91utp4to) before initializing another..."
      ],
      "text/plain": [
       "<IPython.core.display.HTML object>"
      ]
     },
     "metadata": {},
     "output_type": "display_data"
    },
    {
     "data": {
      "text/html": [
       "Waiting for W&B process to finish... <strong style=\"color:green\">(success).</strong>"
      ],
      "text/plain": [
       "<IPython.core.display.HTML object>"
      ]
     },
     "metadata": {},
     "output_type": "display_data"
    },
    {
     "data": {
      "text/html": [
       " View run <strong style=\"color:#cdcd00\">70_cnn_mfcc_6_grey_81k_lr-0.01_convf1-64_convf2-64_convker-3_dr-0.1</strong> at: <a href='https://wandb.ai/totikos/model_cnn_mfcc_6_grey_81k-hpo/runs/91utp4to' target=\"_blank\">https://wandb.ai/totikos/model_cnn_mfcc_6_grey_81k-hpo/runs/91utp4to</a><br/> View job at <a href='https://wandb.ai/totikos/model_cnn_mfcc_6_grey_81k-hpo/jobs/QXJ0aWZhY3RDb2xsZWN0aW9uOjEyNzk0NTQwMw==/version_details/v4' target=\"_blank\">https://wandb.ai/totikos/model_cnn_mfcc_6_grey_81k-hpo/jobs/QXJ0aWZhY3RDb2xsZWN0aW9uOjEyNzk0NTQwMw==/version_details/v4</a><br/>Synced 5 W&B file(s), 0 media file(s), 0 artifact file(s) and 0 other file(s)"
      ],
      "text/plain": [
       "<IPython.core.display.HTML object>"
      ]
     },
     "metadata": {},
     "output_type": "display_data"
    },
    {
     "data": {
      "text/html": [
       "Find logs at: <code>C:\\Users\\nekta\\OneDrive\\Desktop\\botanic-emotion-recognition\\logs\\wandb\\run-20240107_020912-91utp4to\\logs</code>"
      ],
      "text/plain": [
       "<IPython.core.display.HTML object>"
      ]
     },
     "metadata": {},
     "output_type": "display_data"
    },
    {
     "data": {
      "text/html": [
       "Successfully finished last run (ID:91utp4to). Initializing new run:<br/>"
      ],
      "text/plain": [
       "<IPython.core.display.HTML object>"
      ]
     },
     "metadata": {},
     "output_type": "display_data"
    },
    {
     "data": {
      "text/html": [
       "wandb version 0.16.1 is available!  To upgrade, please run:\n",
       " $ pip install wandb --upgrade"
      ],
      "text/plain": [
       "<IPython.core.display.HTML object>"
      ]
     },
     "metadata": {},
     "output_type": "display_data"
    },
    {
     "data": {
      "text/html": [
       "Tracking run with wandb version 0.15.12"
      ],
      "text/plain": [
       "<IPython.core.display.HTML object>"
      ]
     },
     "metadata": {},
     "output_type": "display_data"
    },
    {
     "data": {
      "text/html": [
       "Run data is saved locally in <code>C:\\Users\\nekta\\OneDrive\\Desktop\\botanic-emotion-recognition\\logs\\wandb\\run-20240107_021213-3pc4enyi</code>"
      ],
      "text/plain": [
       "<IPython.core.display.HTML object>"
      ]
     },
     "metadata": {},
     "output_type": "display_data"
    },
    {
     "data": {
      "text/html": [
       "Syncing run <strong><a href='https://wandb.ai/totikos/model_cnn_mfcc_6_grey_81k-hpo/runs/3pc4enyi' target=\"_blank\">71_cnn_mfcc_6_grey_81k_lr-0.001_convf1-64_convf2-64_convker-3_dr-0.2</a></strong> to <a href='https://wandb.ai/totikos/model_cnn_mfcc_6_grey_81k-hpo' target=\"_blank\">Weights & Biases</a> (<a href='https://wandb.me/run' target=\"_blank\">docs</a>)<br/>"
      ],
      "text/plain": [
       "<IPython.core.display.HTML object>"
      ]
     },
     "metadata": {},
     "output_type": "display_data"
    },
    {
     "data": {
      "text/html": [
       " View project at <a href='https://wandb.ai/totikos/model_cnn_mfcc_6_grey_81k-hpo' target=\"_blank\">https://wandb.ai/totikos/model_cnn_mfcc_6_grey_81k-hpo</a>"
      ],
      "text/plain": [
       "<IPython.core.display.HTML object>"
      ]
     },
     "metadata": {},
     "output_type": "display_data"
    },
    {
     "data": {
      "text/html": [
       " View run at <a href='https://wandb.ai/totikos/model_cnn_mfcc_6_grey_81k-hpo/runs/3pc4enyi' target=\"_blank\">https://wandb.ai/totikos/model_cnn_mfcc_6_grey_81k-hpo/runs/3pc4enyi</a>"
      ],
      "text/plain": [
       "<IPython.core.display.HTML object>"
      ]
     },
     "metadata": {},
     "output_type": "display_data"
    },
    {
     "name": "stderr",
     "output_type": "stream",
     "text": [
      "100%|████████████████████████████████████████| 380/380 [02:57<00:00,  2.14it/s]\n",
      "100%|██████████████████████████████████████████| 82/82 [00:16<00:00,  5.01it/s]\n",
      "100%|████████████████████████████████████████| 380/380 [03:05<00:00,  2.04it/s]\n",
      "100%|██████████████████████████████████████████| 82/82 [00:15<00:00,  5.25it/s]\n",
      "[I 2024-01-07 02:18:53,760] Trial 71 pruned. \n"
     ]
    },
    {
     "name": "stdout",
     "output_type": "stream",
     "text": [
      "{'out_channels_l1': 16, 'out_channels_l2': 32, 'conv_kernel_size': 5, 'dropout_rate': 0.0}\n"
     ]
    },
    {
     "data": {
      "text/html": [
       "Finishing last run (ID:3pc4enyi) before initializing another..."
      ],
      "text/plain": [
       "<IPython.core.display.HTML object>"
      ]
     },
     "metadata": {},
     "output_type": "display_data"
    },
    {
     "data": {
      "text/html": [
       "Waiting for W&B process to finish... <strong style=\"color:green\">(success).</strong>"
      ],
      "text/plain": [
       "<IPython.core.display.HTML object>"
      ]
     },
     "metadata": {},
     "output_type": "display_data"
    },
    {
     "data": {
      "text/html": [
       "<style>\n",
       "    table.wandb td:nth-child(1) { padding: 0 10px; text-align: left ; width: auto;} td:nth-child(2) {text-align: left ; width: 100%}\n",
       "    .wandb-row { display: flex; flex-direction: row; flex-wrap: wrap; justify-content: flex-start; width: 100% }\n",
       "    .wandb-col { display: flex; flex-direction: column; flex-basis: 100%; flex: 1; padding: 10px; }\n",
       "    </style>\n",
       "<div class=\"wandb-row\"><div class=\"wandb-col\"><h3>Run history:</h3><br/><table class=\"wandb\"><tr><td>accuracy</td><td>▁</td></tr><tr><td>balanced_accuracy</td><td>▁</td></tr><tr><td>f1_weighted</td><td>▁</td></tr><tr><td>precision</td><td>▁</td></tr><tr><td>recall</td><td>▁</td></tr></table><br/></div><div class=\"wandb-col\"><h3>Run summary:</h3><br/><table class=\"wandb\"><tr><td>accuracy</td><td>0.47</td></tr><tr><td>balanced_accuracy</td><td>0.31083</td></tr><tr><td>f1_weighted</td><td>0.42511</td></tr><tr><td>precision</td><td>0.4409</td></tr><tr><td>recall</td><td>0.47</td></tr></table><br/></div></div>"
      ],
      "text/plain": [
       "<IPython.core.display.HTML object>"
      ]
     },
     "metadata": {},
     "output_type": "display_data"
    },
    {
     "data": {
      "text/html": [
       " View run <strong style=\"color:#cdcd00\">71_cnn_mfcc_6_grey_81k_lr-0.001_convf1-64_convf2-64_convker-3_dr-0.2</strong> at: <a href='https://wandb.ai/totikos/model_cnn_mfcc_6_grey_81k-hpo/runs/3pc4enyi' target=\"_blank\">https://wandb.ai/totikos/model_cnn_mfcc_6_grey_81k-hpo/runs/3pc4enyi</a><br/> View job at <a href='https://wandb.ai/totikos/model_cnn_mfcc_6_grey_81k-hpo/jobs/QXJ0aWZhY3RDb2xsZWN0aW9uOjEyNzk0NTQwMw==/version_details/v3' target=\"_blank\">https://wandb.ai/totikos/model_cnn_mfcc_6_grey_81k-hpo/jobs/QXJ0aWZhY3RDb2xsZWN0aW9uOjEyNzk0NTQwMw==/version_details/v3</a><br/>Synced 5 W&B file(s), 0 media file(s), 0 artifact file(s) and 0 other file(s)"
      ],
      "text/plain": [
       "<IPython.core.display.HTML object>"
      ]
     },
     "metadata": {},
     "output_type": "display_data"
    },
    {
     "data": {
      "text/html": [
       "Find logs at: <code>C:\\Users\\nekta\\OneDrive\\Desktop\\botanic-emotion-recognition\\logs\\wandb\\run-20240107_021213-3pc4enyi\\logs</code>"
      ],
      "text/plain": [
       "<IPython.core.display.HTML object>"
      ]
     },
     "metadata": {},
     "output_type": "display_data"
    },
    {
     "data": {
      "text/html": [
       "Successfully finished last run (ID:3pc4enyi). Initializing new run:<br/>"
      ],
      "text/plain": [
       "<IPython.core.display.HTML object>"
      ]
     },
     "metadata": {},
     "output_type": "display_data"
    },
    {
     "data": {
      "text/html": [
       "wandb version 0.16.1 is available!  To upgrade, please run:\n",
       " $ pip install wandb --upgrade"
      ],
      "text/plain": [
       "<IPython.core.display.HTML object>"
      ]
     },
     "metadata": {},
     "output_type": "display_data"
    },
    {
     "data": {
      "text/html": [
       "Tracking run with wandb version 0.15.12"
      ],
      "text/plain": [
       "<IPython.core.display.HTML object>"
      ]
     },
     "metadata": {},
     "output_type": "display_data"
    },
    {
     "data": {
      "text/html": [
       "Run data is saved locally in <code>C:\\Users\\nekta\\OneDrive\\Desktop\\botanic-emotion-recognition\\logs\\wandb\\run-20240107_021853-g0l5h5s9</code>"
      ],
      "text/plain": [
       "<IPython.core.display.HTML object>"
      ]
     },
     "metadata": {},
     "output_type": "display_data"
    },
    {
     "data": {
      "text/html": [
       "Syncing run <strong><a href='https://wandb.ai/totikos/model_cnn_mfcc_6_grey_81k-hpo/runs/g0l5h5s9' target=\"_blank\">72_cnn_mfcc_6_grey_81k_lr-0.001_convf1-16_convf2-32_convker-5_dr-0.0</a></strong> to <a href='https://wandb.ai/totikos/model_cnn_mfcc_6_grey_81k-hpo' target=\"_blank\">Weights & Biases</a> (<a href='https://wandb.me/run' target=\"_blank\">docs</a>)<br/>"
      ],
      "text/plain": [
       "<IPython.core.display.HTML object>"
      ]
     },
     "metadata": {},
     "output_type": "display_data"
    },
    {
     "data": {
      "text/html": [
       " View project at <a href='https://wandb.ai/totikos/model_cnn_mfcc_6_grey_81k-hpo' target=\"_blank\">https://wandb.ai/totikos/model_cnn_mfcc_6_grey_81k-hpo</a>"
      ],
      "text/plain": [
       "<IPython.core.display.HTML object>"
      ]
     },
     "metadata": {},
     "output_type": "display_data"
    },
    {
     "data": {
      "text/html": [
       " View run at <a href='https://wandb.ai/totikos/model_cnn_mfcc_6_grey_81k-hpo/runs/g0l5h5s9' target=\"_blank\">https://wandb.ai/totikos/model_cnn_mfcc_6_grey_81k-hpo/runs/g0l5h5s9</a>"
      ],
      "text/plain": [
       "<IPython.core.display.HTML object>"
      ]
     },
     "metadata": {},
     "output_type": "display_data"
    },
    {
     "name": "stderr",
     "output_type": "stream",
     "text": [
      "100%|████████████████████████████████████████| 380/380 [00:48<00:00,  7.78it/s]\n",
      "100%|██████████████████████████████████████████| 82/82 [00:04<00:00, 17.03it/s]\n",
      "100%|████████████████████████████████████████| 380/380 [00:53<00:00,  7.05it/s]\n",
      "100%|██████████████████████████████████████████| 82/82 [00:04<00:00, 16.99it/s]\n",
      "100%|████████████████████████████████████████| 380/380 [00:55<00:00,  6.79it/s]\n",
      "100%|██████████████████████████████████████████| 82/82 [00:04<00:00, 17.85it/s]\n",
      "100%|████████████████████████████████████████| 380/380 [00:52<00:00,  7.22it/s]\n",
      "100%|██████████████████████████████████████████| 82/82 [00:04<00:00, 17.00it/s]\n",
      "100%|████████████████████████████████████████| 380/380 [00:56<00:00,  6.76it/s]\n",
      "100%|██████████████████████████████████████████| 82/82 [00:04<00:00, 16.85it/s]\n",
      "100%|████████████████████████████████████████| 380/380 [00:55<00:00,  6.91it/s]\n",
      "100%|██████████████████████████████████████████| 82/82 [00:04<00:00, 18.98it/s]\n",
      "100%|████████████████████████████████████████| 380/380 [00:53<00:00,  7.07it/s]\n",
      "100%|██████████████████████████████████████████| 82/82 [00:04<00:00, 17.22it/s]\n",
      "100%|████████████████████████████████████████| 380/380 [00:56<00:00,  6.76it/s]\n",
      "100%|██████████████████████████████████████████| 82/82 [00:04<00:00, 17.01it/s]\n",
      "100%|████████████████████████████████████████| 380/380 [00:54<00:00,  6.97it/s]\n",
      "100%|██████████████████████████████████████████| 82/82 [00:04<00:00, 16.97it/s]\n",
      "100%|████████████████████████████████████████| 380/380 [00:55<00:00,  6.81it/s]\n",
      "100%|██████████████████████████████████████████| 82/82 [00:04<00:00, 18.49it/s]\n",
      "100%|████████████████████████████████████████| 380/380 [00:55<00:00,  6.79it/s]\n",
      "100%|██████████████████████████████████████████| 82/82 [00:04<00:00, 17.17it/s]\n",
      "100%|████████████████████████████████████████| 380/380 [00:53<00:00,  7.09it/s]\n",
      "100%|██████████████████████████████████████████| 82/82 [00:04<00:00, 19.37it/s]\n",
      "100%|████████████████████████████████████████| 380/380 [00:56<00:00,  6.74it/s]\n",
      "100%|██████████████████████████████████████████| 82/82 [00:04<00:00, 17.15it/s]\n",
      "100%|████████████████████████████████████████| 380/380 [00:55<00:00,  6.88it/s]\n",
      "100%|██████████████████████████████████████████| 82/82 [00:04<00:00, 18.50it/s]\n",
      "100%|████████████████████████████████████████| 380/380 [00:56<00:00,  6.79it/s]\n",
      "100%|██████████████████████████████████████████| 82/82 [00:04<00:00, 16.90it/s]\n",
      "100%|████████████████████████████████████████| 380/380 [00:53<00:00,  7.14it/s]\n",
      "100%|██████████████████████████████████████████| 82/82 [00:04<00:00, 18.89it/s]\n",
      "100%|████████████████████████████████████████| 380/380 [00:56<00:00,  6.76it/s]\n",
      "100%|██████████████████████████████████████████| 82/82 [00:04<00:00, 17.13it/s]\n",
      "100%|████████████████████████████████████████| 380/380 [00:55<00:00,  6.82it/s]\n",
      "100%|██████████████████████████████████████████| 82/82 [00:04<00:00, 17.12it/s]\n",
      "100%|████████████████████████████████████████| 380/380 [00:53<00:00,  7.16it/s]\n",
      "100%|██████████████████████████████████████████| 82/82 [00:04<00:00, 18.26it/s]\n",
      "100%|████████████████████████████████████████| 380/380 [00:57<00:00,  6.60it/s]\n",
      "100%|██████████████████████████████████████████| 82/82 [00:04<00:00, 17.20it/s]\n"
     ]
    },
    {
     "data": {
      "text/html": [
       "Waiting for W&B process to finish... <strong style=\"color:green\">(success).</strong>"
      ],
      "text/plain": [
       "<IPython.core.display.HTML object>"
      ]
     },
     "metadata": {},
     "output_type": "display_data"
    },
    {
     "data": {
      "text/html": [
       "<style>\n",
       "    table.wandb td:nth-child(1) { padding: 0 10px; text-align: left ; width: auto;} td:nth-child(2) {text-align: left ; width: 100%}\n",
       "    .wandb-row { display: flex; flex-direction: row; flex-wrap: wrap; justify-content: flex-start; width: 100% }\n",
       "    .wandb-col { display: flex; flex-direction: column; flex-basis: 100%; flex: 1; padding: 10px; }\n",
       "    </style>\n",
       "<div class=\"wandb-row\"><div class=\"wandb-col\"><h3>Run history:</h3><br/><table class=\"wandb\"><tr><td>accuracy</td><td>▁▆▇▇▇▇██▇▇▇▆▇▆▆▅▅▄▃▄</td></tr><tr><td>balanced_accuracy</td><td>▁▇██████▇▇▇▆▇▆▅▅▄▃▁▃</td></tr><tr><td>f1_weighted</td><td>▁▆▇▇████▇▇▇▆▇▆▆▅▅▄▄▃</td></tr><tr><td>precision</td><td>▃▅▆▆▇▇▇█▇▆▆▅▆▅▄▄▃▂▂▁</td></tr><tr><td>recall</td><td>▁▆▇▇▇▇██▇▇▇▆▇▆▆▅▅▄▃▄</td></tr></table><br/></div><div class=\"wandb-col\"><h3>Run summary:</h3><br/><table class=\"wandb\"><tr><td>accuracy</td><td>0.49769</td></tr><tr><td>balanced_accuracy</td><td>0.34526</td></tr><tr><td>f1_weighted</td><td>0.47561</td></tr><tr><td>precision</td><td>0.47379</td></tr><tr><td>recall</td><td>0.49769</td></tr></table><br/></div></div>"
      ],
      "text/plain": [
       "<IPython.core.display.HTML object>"
      ]
     },
     "metadata": {},
     "output_type": "display_data"
    },
    {
     "data": {
      "text/html": [
       " View run <strong style=\"color:#cdcd00\">72_cnn_mfcc_6_grey_81k_lr-0.001_convf1-16_convf2-32_convker-5_dr-0.0</strong> at: <a href='https://wandb.ai/totikos/model_cnn_mfcc_6_grey_81k-hpo/runs/g0l5h5s9' target=\"_blank\">https://wandb.ai/totikos/model_cnn_mfcc_6_grey_81k-hpo/runs/g0l5h5s9</a><br/> View job at <a href='https://wandb.ai/totikos/model_cnn_mfcc_6_grey_81k-hpo/jobs/QXJ0aWZhY3RDb2xsZWN0aW9uOjEyNzk0NTQwMw==/version_details/v3' target=\"_blank\">https://wandb.ai/totikos/model_cnn_mfcc_6_grey_81k-hpo/jobs/QXJ0aWZhY3RDb2xsZWN0aW9uOjEyNzk0NTQwMw==/version_details/v3</a><br/>Synced 5 W&B file(s), 0 media file(s), 0 artifact file(s) and 0 other file(s)"
      ],
      "text/plain": [
       "<IPython.core.display.HTML object>"
      ]
     },
     "metadata": {},
     "output_type": "display_data"
    },
    {
     "data": {
      "text/html": [
       "Find logs at: <code>C:\\Users\\nekta\\OneDrive\\Desktop\\botanic-emotion-recognition\\logs\\wandb\\run-20240107_021853-g0l5h5s9\\logs</code>"
      ],
      "text/plain": [
       "<IPython.core.display.HTML object>"
      ]
     },
     "metadata": {},
     "output_type": "display_data"
    },
    {
     "name": "stderr",
     "output_type": "stream",
     "text": [
      "[I 2024-01-07 02:38:54,268] Trial 72 finished with value: 0.34525809550793346 and parameters: {'conv_kernel_size': 5, 'dropout_rate': 0.0, 'out_channels_l1': 16, 'out_channels_l2': 32, 'lr': 0.001}. Best is trial 0 with value: 0.37873863016739945.\n"
     ]
    },
    {
     "name": "stdout",
     "output_type": "stream",
     "text": [
      "{'out_channels_l1': 32, 'out_channels_l2': 64, 'conv_kernel_size': 3, 'dropout_rate': 0.2}\n"
     ]
    },
    {
     "data": {
      "text/html": [
       "wandb version 0.16.1 is available!  To upgrade, please run:\n",
       " $ pip install wandb --upgrade"
      ],
      "text/plain": [
       "<IPython.core.display.HTML object>"
      ]
     },
     "metadata": {},
     "output_type": "display_data"
    },
    {
     "data": {
      "text/html": [
       "Tracking run with wandb version 0.15.12"
      ],
      "text/plain": [
       "<IPython.core.display.HTML object>"
      ]
     },
     "metadata": {},
     "output_type": "display_data"
    },
    {
     "data": {
      "text/html": [
       "Run data is saved locally in <code>C:\\Users\\nekta\\OneDrive\\Desktop\\botanic-emotion-recognition\\logs\\wandb\\run-20240107_023854-vr5k1s67</code>"
      ],
      "text/plain": [
       "<IPython.core.display.HTML object>"
      ]
     },
     "metadata": {},
     "output_type": "display_data"
    },
    {
     "data": {
      "text/html": [
       "Syncing run <strong><a href='https://wandb.ai/totikos/model_cnn_mfcc_6_grey_81k-hpo/runs/vr5k1s67' target=\"_blank\">73_cnn_mfcc_6_grey_81k_lr-0.0001_convf1-32_convf2-64_convker-3_dr-0.2</a></strong> to <a href='https://wandb.ai/totikos/model_cnn_mfcc_6_grey_81k-hpo' target=\"_blank\">Weights & Biases</a> (<a href='https://wandb.me/run' target=\"_blank\">docs</a>)<br/>"
      ],
      "text/plain": [
       "<IPython.core.display.HTML object>"
      ]
     },
     "metadata": {},
     "output_type": "display_data"
    },
    {
     "data": {
      "text/html": [
       " View project at <a href='https://wandb.ai/totikos/model_cnn_mfcc_6_grey_81k-hpo' target=\"_blank\">https://wandb.ai/totikos/model_cnn_mfcc_6_grey_81k-hpo</a>"
      ],
      "text/plain": [
       "<IPython.core.display.HTML object>"
      ]
     },
     "metadata": {},
     "output_type": "display_data"
    },
    {
     "data": {
      "text/html": [
       " View run at <a href='https://wandb.ai/totikos/model_cnn_mfcc_6_grey_81k-hpo/runs/vr5k1s67' target=\"_blank\">https://wandb.ai/totikos/model_cnn_mfcc_6_grey_81k-hpo/runs/vr5k1s67</a>"
      ],
      "text/plain": [
       "<IPython.core.display.HTML object>"
      ]
     },
     "metadata": {},
     "output_type": "display_data"
    },
    {
     "name": "stderr",
     "output_type": "stream",
     "text": [
      "100%|████████████████████████████████████████| 380/380 [01:41<00:00,  3.74it/s]\n",
      "100%|██████████████████████████████████████████| 82/82 [00:09<00:00,  8.75it/s]\n",
      "[I 2024-01-07 02:40:46,759] Trial 73 pruned. \n"
     ]
    },
    {
     "name": "stdout",
     "output_type": "stream",
     "text": [
      "{'out_channels_l1': 64, 'out_channels_l2': 32, 'conv_kernel_size': 3, 'dropout_rate': 0.0}\n"
     ]
    },
    {
     "data": {
      "text/html": [
       "Finishing last run (ID:vr5k1s67) before initializing another..."
      ],
      "text/plain": [
       "<IPython.core.display.HTML object>"
      ]
     },
     "metadata": {},
     "output_type": "display_data"
    },
    {
     "data": {
      "text/html": [
       "Waiting for W&B process to finish... <strong style=\"color:green\">(success).</strong>"
      ],
      "text/plain": [
       "<IPython.core.display.HTML object>"
      ]
     },
     "metadata": {},
     "output_type": "display_data"
    },
    {
     "data": {
      "text/html": [
       " View run <strong style=\"color:#cdcd00\">73_cnn_mfcc_6_grey_81k_lr-0.0001_convf1-32_convf2-64_convker-3_dr-0.2</strong> at: <a href='https://wandb.ai/totikos/model_cnn_mfcc_6_grey_81k-hpo/runs/vr5k1s67' target=\"_blank\">https://wandb.ai/totikos/model_cnn_mfcc_6_grey_81k-hpo/runs/vr5k1s67</a><br/> View job at <a href='https://wandb.ai/totikos/model_cnn_mfcc_6_grey_81k-hpo/jobs/QXJ0aWZhY3RDb2xsZWN0aW9uOjEyNzk0NTQwMw==/version_details/v4' target=\"_blank\">https://wandb.ai/totikos/model_cnn_mfcc_6_grey_81k-hpo/jobs/QXJ0aWZhY3RDb2xsZWN0aW9uOjEyNzk0NTQwMw==/version_details/v4</a><br/>Synced 5 W&B file(s), 0 media file(s), 0 artifact file(s) and 0 other file(s)"
      ],
      "text/plain": [
       "<IPython.core.display.HTML object>"
      ]
     },
     "metadata": {},
     "output_type": "display_data"
    },
    {
     "data": {
      "text/html": [
       "Find logs at: <code>C:\\Users\\nekta\\OneDrive\\Desktop\\botanic-emotion-recognition\\logs\\wandb\\run-20240107_023854-vr5k1s67\\logs</code>"
      ],
      "text/plain": [
       "<IPython.core.display.HTML object>"
      ]
     },
     "metadata": {},
     "output_type": "display_data"
    },
    {
     "data": {
      "text/html": [
       "Successfully finished last run (ID:vr5k1s67). Initializing new run:<br/>"
      ],
      "text/plain": [
       "<IPython.core.display.HTML object>"
      ]
     },
     "metadata": {},
     "output_type": "display_data"
    },
    {
     "data": {
      "text/html": [
       "wandb version 0.16.1 is available!  To upgrade, please run:\n",
       " $ pip install wandb --upgrade"
      ],
      "text/plain": [
       "<IPython.core.display.HTML object>"
      ]
     },
     "metadata": {},
     "output_type": "display_data"
    },
    {
     "data": {
      "text/html": [
       "Tracking run with wandb version 0.15.12"
      ],
      "text/plain": [
       "<IPython.core.display.HTML object>"
      ]
     },
     "metadata": {},
     "output_type": "display_data"
    },
    {
     "data": {
      "text/html": [
       "Run data is saved locally in <code>C:\\Users\\nekta\\OneDrive\\Desktop\\botanic-emotion-recognition\\logs\\wandb\\run-20240107_024046-gese9tvr</code>"
      ],
      "text/plain": [
       "<IPython.core.display.HTML object>"
      ]
     },
     "metadata": {},
     "output_type": "display_data"
    },
    {
     "data": {
      "text/html": [
       "Syncing run <strong><a href='https://wandb.ai/totikos/model_cnn_mfcc_6_grey_81k-hpo/runs/gese9tvr' target=\"_blank\">74_cnn_mfcc_6_grey_81k_lr-0.001_convf1-64_convf2-32_convker-3_dr-0.0</a></strong> to <a href='https://wandb.ai/totikos/model_cnn_mfcc_6_grey_81k-hpo' target=\"_blank\">Weights & Biases</a> (<a href='https://wandb.me/run' target=\"_blank\">docs</a>)<br/>"
      ],
      "text/plain": [
       "<IPython.core.display.HTML object>"
      ]
     },
     "metadata": {},
     "output_type": "display_data"
    },
    {
     "data": {
      "text/html": [
       " View project at <a href='https://wandb.ai/totikos/model_cnn_mfcc_6_grey_81k-hpo' target=\"_blank\">https://wandb.ai/totikos/model_cnn_mfcc_6_grey_81k-hpo</a>"
      ],
      "text/plain": [
       "<IPython.core.display.HTML object>"
      ]
     },
     "metadata": {},
     "output_type": "display_data"
    },
    {
     "data": {
      "text/html": [
       " View run at <a href='https://wandb.ai/totikos/model_cnn_mfcc_6_grey_81k-hpo/runs/gese9tvr' target=\"_blank\">https://wandb.ai/totikos/model_cnn_mfcc_6_grey_81k-hpo/runs/gese9tvr</a>"
      ],
      "text/plain": [
       "<IPython.core.display.HTML object>"
      ]
     },
     "metadata": {},
     "output_type": "display_data"
    },
    {
     "name": "stderr",
     "output_type": "stream",
     "text": [
      "100%|████████████████████████████████████████| 380/380 [02:14<00:00,  2.82it/s]\n",
      "100%|██████████████████████████████████████████| 82/82 [00:13<00:00,  6.03it/s]\n",
      "[I 2024-01-07 02:43:22,073] Trial 74 pruned. \n"
     ]
    },
    {
     "name": "stdout",
     "output_type": "stream",
     "text": [
      "{'out_channels_l1': 64, 'out_channels_l2': 32, 'conv_kernel_size': 5, 'dropout_rate': 0.2}\n"
     ]
    },
    {
     "data": {
      "text/html": [
       "Finishing last run (ID:gese9tvr) before initializing another..."
      ],
      "text/plain": [
       "<IPython.core.display.HTML object>"
      ]
     },
     "metadata": {},
     "output_type": "display_data"
    },
    {
     "data": {
      "text/html": [
       "Waiting for W&B process to finish... <strong style=\"color:green\">(success).</strong>"
      ],
      "text/plain": [
       "<IPython.core.display.HTML object>"
      ]
     },
     "metadata": {},
     "output_type": "display_data"
    },
    {
     "data": {
      "text/html": [
       " View run <strong style=\"color:#cdcd00\">74_cnn_mfcc_6_grey_81k_lr-0.001_convf1-64_convf2-32_convker-3_dr-0.0</strong> at: <a href='https://wandb.ai/totikos/model_cnn_mfcc_6_grey_81k-hpo/runs/gese9tvr' target=\"_blank\">https://wandb.ai/totikos/model_cnn_mfcc_6_grey_81k-hpo/runs/gese9tvr</a><br/> View job at <a href='https://wandb.ai/totikos/model_cnn_mfcc_6_grey_81k-hpo/jobs/QXJ0aWZhY3RDb2xsZWN0aW9uOjEyNzk0NTQwMw==/version_details/v4' target=\"_blank\">https://wandb.ai/totikos/model_cnn_mfcc_6_grey_81k-hpo/jobs/QXJ0aWZhY3RDb2xsZWN0aW9uOjEyNzk0NTQwMw==/version_details/v4</a><br/>Synced 5 W&B file(s), 0 media file(s), 0 artifact file(s) and 0 other file(s)"
      ],
      "text/plain": [
       "<IPython.core.display.HTML object>"
      ]
     },
     "metadata": {},
     "output_type": "display_data"
    },
    {
     "data": {
      "text/html": [
       "Find logs at: <code>C:\\Users\\nekta\\OneDrive\\Desktop\\botanic-emotion-recognition\\logs\\wandb\\run-20240107_024046-gese9tvr\\logs</code>"
      ],
      "text/plain": [
       "<IPython.core.display.HTML object>"
      ]
     },
     "metadata": {},
     "output_type": "display_data"
    },
    {
     "data": {
      "text/html": [
       "Successfully finished last run (ID:gese9tvr). Initializing new run:<br/>"
      ],
      "text/plain": [
       "<IPython.core.display.HTML object>"
      ]
     },
     "metadata": {},
     "output_type": "display_data"
    },
    {
     "data": {
      "text/html": [
       "wandb version 0.16.1 is available!  To upgrade, please run:\n",
       " $ pip install wandb --upgrade"
      ],
      "text/plain": [
       "<IPython.core.display.HTML object>"
      ]
     },
     "metadata": {},
     "output_type": "display_data"
    },
    {
     "data": {
      "text/html": [
       "Tracking run with wandb version 0.15.12"
      ],
      "text/plain": [
       "<IPython.core.display.HTML object>"
      ]
     },
     "metadata": {},
     "output_type": "display_data"
    },
    {
     "data": {
      "text/html": [
       "Run data is saved locally in <code>C:\\Users\\nekta\\OneDrive\\Desktop\\botanic-emotion-recognition\\logs\\wandb\\run-20240107_024322-1iz0ak8t</code>"
      ],
      "text/plain": [
       "<IPython.core.display.HTML object>"
      ]
     },
     "metadata": {},
     "output_type": "display_data"
    },
    {
     "data": {
      "text/html": [
       "Syncing run <strong><a href='https://wandb.ai/totikos/model_cnn_mfcc_6_grey_81k-hpo/runs/1iz0ak8t' target=\"_blank\">75_cnn_mfcc_6_grey_81k_lr-0.001_convf1-64_convf2-32_convker-5_dr-0.2</a></strong> to <a href='https://wandb.ai/totikos/model_cnn_mfcc_6_grey_81k-hpo' target=\"_blank\">Weights & Biases</a> (<a href='https://wandb.me/run' target=\"_blank\">docs</a>)<br/>"
      ],
      "text/plain": [
       "<IPython.core.display.HTML object>"
      ]
     },
     "metadata": {},
     "output_type": "display_data"
    },
    {
     "data": {
      "text/html": [
       " View project at <a href='https://wandb.ai/totikos/model_cnn_mfcc_6_grey_81k-hpo' target=\"_blank\">https://wandb.ai/totikos/model_cnn_mfcc_6_grey_81k-hpo</a>"
      ],
      "text/plain": [
       "<IPython.core.display.HTML object>"
      ]
     },
     "metadata": {},
     "output_type": "display_data"
    },
    {
     "data": {
      "text/html": [
       " View run at <a href='https://wandb.ai/totikos/model_cnn_mfcc_6_grey_81k-hpo/runs/1iz0ak8t' target=\"_blank\">https://wandb.ai/totikos/model_cnn_mfcc_6_grey_81k-hpo/runs/1iz0ak8t</a>"
      ],
      "text/plain": [
       "<IPython.core.display.HTML object>"
      ]
     },
     "metadata": {},
     "output_type": "display_data"
    },
    {
     "name": "stderr",
     "output_type": "stream",
     "text": [
      "100%|████████████████████████████████████████| 380/380 [02:53<00:00,  2.19it/s]\n",
      "100%|██████████████████████████████████████████| 82/82 [00:13<00:00,  6.22it/s]\n",
      "100%|████████████████████████████████████████| 380/380 [02:41<00:00,  2.35it/s]\n",
      "100%|██████████████████████████████████████████| 82/82 [00:13<00:00,  5.95it/s]\n",
      "[I 2024-01-07 02:49:30,947] Trial 75 pruned. \n"
     ]
    },
    {
     "name": "stdout",
     "output_type": "stream",
     "text": [
      "{'out_channels_l1': 16, 'out_channels_l2': 32, 'conv_kernel_size': 3, 'dropout_rate': 0.2}\n"
     ]
    },
    {
     "data": {
      "text/html": [
       "Finishing last run (ID:1iz0ak8t) before initializing another..."
      ],
      "text/plain": [
       "<IPython.core.display.HTML object>"
      ]
     },
     "metadata": {},
     "output_type": "display_data"
    },
    {
     "data": {
      "text/html": [
       "Waiting for W&B process to finish... <strong style=\"color:green\">(success).</strong>"
      ],
      "text/plain": [
       "<IPython.core.display.HTML object>"
      ]
     },
     "metadata": {},
     "output_type": "display_data"
    },
    {
     "data": {
      "text/html": [
       "<style>\n",
       "    table.wandb td:nth-child(1) { padding: 0 10px; text-align: left ; width: auto;} td:nth-child(2) {text-align: left ; width: 100%}\n",
       "    .wandb-row { display: flex; flex-direction: row; flex-wrap: wrap; justify-content: flex-start; width: 100% }\n",
       "    .wandb-col { display: flex; flex-direction: column; flex-basis: 100%; flex: 1; padding: 10px; }\n",
       "    </style>\n",
       "<div class=\"wandb-row\"><div class=\"wandb-col\"><h3>Run history:</h3><br/><table class=\"wandb\"><tr><td>accuracy</td><td>▁</td></tr><tr><td>balanced_accuracy</td><td>▁</td></tr><tr><td>f1_weighted</td><td>▁</td></tr><tr><td>precision</td><td>▁</td></tr><tr><td>recall</td><td>▁</td></tr></table><br/></div><div class=\"wandb-col\"><h3>Run summary:</h3><br/><table class=\"wandb\"><tr><td>accuracy</td><td>0.44538</td></tr><tr><td>balanced_accuracy</td><td>0.29394</td></tr><tr><td>f1_weighted</td><td>0.42845</td></tr><tr><td>precision</td><td>0.42387</td></tr><tr><td>recall</td><td>0.44538</td></tr></table><br/></div></div>"
      ],
      "text/plain": [
       "<IPython.core.display.HTML object>"
      ]
     },
     "metadata": {},
     "output_type": "display_data"
    },
    {
     "data": {
      "text/html": [
       " View run <strong style=\"color:#cdcd00\">75_cnn_mfcc_6_grey_81k_lr-0.001_convf1-64_convf2-32_convker-5_dr-0.2</strong> at: <a href='https://wandb.ai/totikos/model_cnn_mfcc_6_grey_81k-hpo/runs/1iz0ak8t' target=\"_blank\">https://wandb.ai/totikos/model_cnn_mfcc_6_grey_81k-hpo/runs/1iz0ak8t</a><br/> View job at <a href='https://wandb.ai/totikos/model_cnn_mfcc_6_grey_81k-hpo/jobs/QXJ0aWZhY3RDb2xsZWN0aW9uOjEyNzk0NTQwMw==/version_details/v3' target=\"_blank\">https://wandb.ai/totikos/model_cnn_mfcc_6_grey_81k-hpo/jobs/QXJ0aWZhY3RDb2xsZWN0aW9uOjEyNzk0NTQwMw==/version_details/v3</a><br/>Synced 5 W&B file(s), 0 media file(s), 0 artifact file(s) and 0 other file(s)"
      ],
      "text/plain": [
       "<IPython.core.display.HTML object>"
      ]
     },
     "metadata": {},
     "output_type": "display_data"
    },
    {
     "data": {
      "text/html": [
       "Find logs at: <code>C:\\Users\\nekta\\OneDrive\\Desktop\\botanic-emotion-recognition\\logs\\wandb\\run-20240107_024322-1iz0ak8t\\logs</code>"
      ],
      "text/plain": [
       "<IPython.core.display.HTML object>"
      ]
     },
     "metadata": {},
     "output_type": "display_data"
    },
    {
     "data": {
      "text/html": [
       "Successfully finished last run (ID:1iz0ak8t). Initializing new run:<br/>"
      ],
      "text/plain": [
       "<IPython.core.display.HTML object>"
      ]
     },
     "metadata": {},
     "output_type": "display_data"
    },
    {
     "data": {
      "text/html": [
       "wandb version 0.16.1 is available!  To upgrade, please run:\n",
       " $ pip install wandb --upgrade"
      ],
      "text/plain": [
       "<IPython.core.display.HTML object>"
      ]
     },
     "metadata": {},
     "output_type": "display_data"
    },
    {
     "data": {
      "text/html": [
       "Tracking run with wandb version 0.15.12"
      ],
      "text/plain": [
       "<IPython.core.display.HTML object>"
      ]
     },
     "metadata": {},
     "output_type": "display_data"
    },
    {
     "data": {
      "text/html": [
       "Run data is saved locally in <code>C:\\Users\\nekta\\OneDrive\\Desktop\\botanic-emotion-recognition\\logs\\wandb\\run-20240107_024931-dhojd0jg</code>"
      ],
      "text/plain": [
       "<IPython.core.display.HTML object>"
      ]
     },
     "metadata": {},
     "output_type": "display_data"
    },
    {
     "data": {
      "text/html": [
       "Syncing run <strong><a href='https://wandb.ai/totikos/model_cnn_mfcc_6_grey_81k-hpo/runs/dhojd0jg' target=\"_blank\">76_cnn_mfcc_6_grey_81k_lr-0.01_convf1-16_convf2-32_convker-3_dr-0.2</a></strong> to <a href='https://wandb.ai/totikos/model_cnn_mfcc_6_grey_81k-hpo' target=\"_blank\">Weights & Biases</a> (<a href='https://wandb.me/run' target=\"_blank\">docs</a>)<br/>"
      ],
      "text/plain": [
       "<IPython.core.display.HTML object>"
      ]
     },
     "metadata": {},
     "output_type": "display_data"
    },
    {
     "data": {
      "text/html": [
       " View project at <a href='https://wandb.ai/totikos/model_cnn_mfcc_6_grey_81k-hpo' target=\"_blank\">https://wandb.ai/totikos/model_cnn_mfcc_6_grey_81k-hpo</a>"
      ],
      "text/plain": [
       "<IPython.core.display.HTML object>"
      ]
     },
     "metadata": {},
     "output_type": "display_data"
    },
    {
     "data": {
      "text/html": [
       " View run at <a href='https://wandb.ai/totikos/model_cnn_mfcc_6_grey_81k-hpo/runs/dhojd0jg' target=\"_blank\">https://wandb.ai/totikos/model_cnn_mfcc_6_grey_81k-hpo/runs/dhojd0jg</a>"
      ],
      "text/plain": [
       "<IPython.core.display.HTML object>"
      ]
     },
     "metadata": {},
     "output_type": "display_data"
    },
    {
     "name": "stderr",
     "output_type": "stream",
     "text": [
      "100%|████████████████████████████████████████| 380/380 [00:44<00:00,  8.46it/s]\n",
      "100%|██████████████████████████████████████████| 82/82 [00:04<00:00, 20.10it/s]\n",
      "[I 2024-01-07 02:50:26,667] Trial 76 pruned. \n"
     ]
    },
    {
     "name": "stdout",
     "output_type": "stream",
     "text": [
      "{'out_channels_l1': 32, 'out_channels_l2': 64, 'conv_kernel_size': 5, 'dropout_rate': 0.1}\n"
     ]
    },
    {
     "data": {
      "text/html": [
       "Finishing last run (ID:dhojd0jg) before initializing another..."
      ],
      "text/plain": [
       "<IPython.core.display.HTML object>"
      ]
     },
     "metadata": {},
     "output_type": "display_data"
    },
    {
     "data": {
      "text/html": [
       "Waiting for W&B process to finish... <strong style=\"color:green\">(success).</strong>"
      ],
      "text/plain": [
       "<IPython.core.display.HTML object>"
      ]
     },
     "metadata": {},
     "output_type": "display_data"
    },
    {
     "data": {
      "text/html": [
       " View run <strong style=\"color:#cdcd00\">76_cnn_mfcc_6_grey_81k_lr-0.01_convf1-16_convf2-32_convker-3_dr-0.2</strong> at: <a href='https://wandb.ai/totikos/model_cnn_mfcc_6_grey_81k-hpo/runs/dhojd0jg' target=\"_blank\">https://wandb.ai/totikos/model_cnn_mfcc_6_grey_81k-hpo/runs/dhojd0jg</a><br/> View job at <a href='https://wandb.ai/totikos/model_cnn_mfcc_6_grey_81k-hpo/jobs/QXJ0aWZhY3RDb2xsZWN0aW9uOjEyNzk0NTQwMw==/version_details/v4' target=\"_blank\">https://wandb.ai/totikos/model_cnn_mfcc_6_grey_81k-hpo/jobs/QXJ0aWZhY3RDb2xsZWN0aW9uOjEyNzk0NTQwMw==/version_details/v4</a><br/>Synced 5 W&B file(s), 0 media file(s), 0 artifact file(s) and 0 other file(s)"
      ],
      "text/plain": [
       "<IPython.core.display.HTML object>"
      ]
     },
     "metadata": {},
     "output_type": "display_data"
    },
    {
     "data": {
      "text/html": [
       "Find logs at: <code>C:\\Users\\nekta\\OneDrive\\Desktop\\botanic-emotion-recognition\\logs\\wandb\\run-20240107_024931-dhojd0jg\\logs</code>"
      ],
      "text/plain": [
       "<IPython.core.display.HTML object>"
      ]
     },
     "metadata": {},
     "output_type": "display_data"
    },
    {
     "data": {
      "text/html": [
       "Successfully finished last run (ID:dhojd0jg). Initializing new run:<br/>"
      ],
      "text/plain": [
       "<IPython.core.display.HTML object>"
      ]
     },
     "metadata": {},
     "output_type": "display_data"
    },
    {
     "data": {
      "text/html": [
       "wandb version 0.16.1 is available!  To upgrade, please run:\n",
       " $ pip install wandb --upgrade"
      ],
      "text/plain": [
       "<IPython.core.display.HTML object>"
      ]
     },
     "metadata": {},
     "output_type": "display_data"
    },
    {
     "data": {
      "text/html": [
       "Tracking run with wandb version 0.15.12"
      ],
      "text/plain": [
       "<IPython.core.display.HTML object>"
      ]
     },
     "metadata": {},
     "output_type": "display_data"
    },
    {
     "data": {
      "text/html": [
       "Run data is saved locally in <code>C:\\Users\\nekta\\OneDrive\\Desktop\\botanic-emotion-recognition\\logs\\wandb\\run-20240107_025026-p9x3u12h</code>"
      ],
      "text/plain": [
       "<IPython.core.display.HTML object>"
      ]
     },
     "metadata": {},
     "output_type": "display_data"
    },
    {
     "data": {
      "text/html": [
       "Syncing run <strong><a href='https://wandb.ai/totikos/model_cnn_mfcc_6_grey_81k-hpo/runs/p9x3u12h' target=\"_blank\">77_cnn_mfcc_6_grey_81k_lr-0.0001_convf1-32_convf2-64_convker-5_dr-0.1</a></strong> to <a href='https://wandb.ai/totikos/model_cnn_mfcc_6_grey_81k-hpo' target=\"_blank\">Weights & Biases</a> (<a href='https://wandb.me/run' target=\"_blank\">docs</a>)<br/>"
      ],
      "text/plain": [
       "<IPython.core.display.HTML object>"
      ]
     },
     "metadata": {},
     "output_type": "display_data"
    },
    {
     "data": {
      "text/html": [
       " View project at <a href='https://wandb.ai/totikos/model_cnn_mfcc_6_grey_81k-hpo' target=\"_blank\">https://wandb.ai/totikos/model_cnn_mfcc_6_grey_81k-hpo</a>"
      ],
      "text/plain": [
       "<IPython.core.display.HTML object>"
      ]
     },
     "metadata": {},
     "output_type": "display_data"
    },
    {
     "data": {
      "text/html": [
       " View run at <a href='https://wandb.ai/totikos/model_cnn_mfcc_6_grey_81k-hpo/runs/p9x3u12h' target=\"_blank\">https://wandb.ai/totikos/model_cnn_mfcc_6_grey_81k-hpo/runs/p9x3u12h</a>"
      ],
      "text/plain": [
       "<IPython.core.display.HTML object>"
      ]
     },
     "metadata": {},
     "output_type": "display_data"
    },
    {
     "name": "stderr",
     "output_type": "stream",
     "text": [
      "100%|████████████████████████████████████████| 380/380 [02:03<00:00,  3.08it/s]\n",
      "100%|██████████████████████████████████████████| 82/82 [00:10<00:00,  7.68it/s]\n",
      "[I 2024-01-07 02:52:46,003] Trial 77 pruned. \n"
     ]
    },
    {
     "name": "stdout",
     "output_type": "stream",
     "text": [
      "{'out_channels_l1': 64, 'out_channels_l2': 32, 'conv_kernel_size': 5, 'dropout_rate': 0.0}\n"
     ]
    },
    {
     "data": {
      "text/html": [
       "Finishing last run (ID:p9x3u12h) before initializing another..."
      ],
      "text/plain": [
       "<IPython.core.display.HTML object>"
      ]
     },
     "metadata": {},
     "output_type": "display_data"
    },
    {
     "data": {
      "text/html": [
       "Waiting for W&B process to finish... <strong style=\"color:green\">(success).</strong>"
      ],
      "text/plain": [
       "<IPython.core.display.HTML object>"
      ]
     },
     "metadata": {},
     "output_type": "display_data"
    },
    {
     "data": {
      "text/html": [
       " View run <strong style=\"color:#cdcd00\">77_cnn_mfcc_6_grey_81k_lr-0.0001_convf1-32_convf2-64_convker-5_dr-0.1</strong> at: <a href='https://wandb.ai/totikos/model_cnn_mfcc_6_grey_81k-hpo/runs/p9x3u12h' target=\"_blank\">https://wandb.ai/totikos/model_cnn_mfcc_6_grey_81k-hpo/runs/p9x3u12h</a><br/> View job at <a href='https://wandb.ai/totikos/model_cnn_mfcc_6_grey_81k-hpo/jobs/QXJ0aWZhY3RDb2xsZWN0aW9uOjEyNzk0NTQwMw==/version_details/v4' target=\"_blank\">https://wandb.ai/totikos/model_cnn_mfcc_6_grey_81k-hpo/jobs/QXJ0aWZhY3RDb2xsZWN0aW9uOjEyNzk0NTQwMw==/version_details/v4</a><br/>Synced 5 W&B file(s), 0 media file(s), 0 artifact file(s) and 0 other file(s)"
      ],
      "text/plain": [
       "<IPython.core.display.HTML object>"
      ]
     },
     "metadata": {},
     "output_type": "display_data"
    },
    {
     "data": {
      "text/html": [
       "Find logs at: <code>C:\\Users\\nekta\\OneDrive\\Desktop\\botanic-emotion-recognition\\logs\\wandb\\run-20240107_025026-p9x3u12h\\logs</code>"
      ],
      "text/plain": [
       "<IPython.core.display.HTML object>"
      ]
     },
     "metadata": {},
     "output_type": "display_data"
    },
    {
     "data": {
      "text/html": [
       "Successfully finished last run (ID:p9x3u12h). Initializing new run:<br/>"
      ],
      "text/plain": [
       "<IPython.core.display.HTML object>"
      ]
     },
     "metadata": {},
     "output_type": "display_data"
    },
    {
     "data": {
      "text/html": [
       "wandb version 0.16.1 is available!  To upgrade, please run:\n",
       " $ pip install wandb --upgrade"
      ],
      "text/plain": [
       "<IPython.core.display.HTML object>"
      ]
     },
     "metadata": {},
     "output_type": "display_data"
    },
    {
     "data": {
      "text/html": [
       "Tracking run with wandb version 0.15.12"
      ],
      "text/plain": [
       "<IPython.core.display.HTML object>"
      ]
     },
     "metadata": {},
     "output_type": "display_data"
    },
    {
     "data": {
      "text/html": [
       "Run data is saved locally in <code>C:\\Users\\nekta\\OneDrive\\Desktop\\botanic-emotion-recognition\\logs\\wandb\\run-20240107_025246-odvy97ez</code>"
      ],
      "text/plain": [
       "<IPython.core.display.HTML object>"
      ]
     },
     "metadata": {},
     "output_type": "display_data"
    },
    {
     "data": {
      "text/html": [
       "Syncing run <strong><a href='https://wandb.ai/totikos/model_cnn_mfcc_6_grey_81k-hpo/runs/odvy97ez' target=\"_blank\">78_cnn_mfcc_6_grey_81k_lr-0.0001_convf1-64_convf2-32_convker-5_dr-0.0</a></strong> to <a href='https://wandb.ai/totikos/model_cnn_mfcc_6_grey_81k-hpo' target=\"_blank\">Weights & Biases</a> (<a href='https://wandb.me/run' target=\"_blank\">docs</a>)<br/>"
      ],
      "text/plain": [
       "<IPython.core.display.HTML object>"
      ]
     },
     "metadata": {},
     "output_type": "display_data"
    },
    {
     "data": {
      "text/html": [
       " View project at <a href='https://wandb.ai/totikos/model_cnn_mfcc_6_grey_81k-hpo' target=\"_blank\">https://wandb.ai/totikos/model_cnn_mfcc_6_grey_81k-hpo</a>"
      ],
      "text/plain": [
       "<IPython.core.display.HTML object>"
      ]
     },
     "metadata": {},
     "output_type": "display_data"
    },
    {
     "data": {
      "text/html": [
       " View run at <a href='https://wandb.ai/totikos/model_cnn_mfcc_6_grey_81k-hpo/runs/odvy97ez' target=\"_blank\">https://wandb.ai/totikos/model_cnn_mfcc_6_grey_81k-hpo/runs/odvy97ez</a>"
      ],
      "text/plain": [
       "<IPython.core.display.HTML object>"
      ]
     },
     "metadata": {},
     "output_type": "display_data"
    },
    {
     "name": "stderr",
     "output_type": "stream",
     "text": [
      "100%|████████████████████████████████████████| 380/380 [02:33<00:00,  2.48it/s]\n",
      "100%|██████████████████████████████████████████| 82/82 [00:13<00:00,  6.26it/s]\n",
      "[I 2024-01-07 02:55:39,906] Trial 78 pruned. \n"
     ]
    },
    {
     "name": "stdout",
     "output_type": "stream",
     "text": [
      "{'out_channels_l1': 32, 'out_channels_l2': 64, 'conv_kernel_size': 5, 'dropout_rate': 0.0}\n"
     ]
    },
    {
     "data": {
      "text/html": [
       "Finishing last run (ID:odvy97ez) before initializing another..."
      ],
      "text/plain": [
       "<IPython.core.display.HTML object>"
      ]
     },
     "metadata": {},
     "output_type": "display_data"
    },
    {
     "data": {
      "text/html": [
       "Waiting for W&B process to finish... <strong style=\"color:green\">(success).</strong>"
      ],
      "text/plain": [
       "<IPython.core.display.HTML object>"
      ]
     },
     "metadata": {},
     "output_type": "display_data"
    },
    {
     "data": {
      "text/html": [
       " View run <strong style=\"color:#cdcd00\">78_cnn_mfcc_6_grey_81k_lr-0.0001_convf1-64_convf2-32_convker-5_dr-0.0</strong> at: <a href='https://wandb.ai/totikos/model_cnn_mfcc_6_grey_81k-hpo/runs/odvy97ez' target=\"_blank\">https://wandb.ai/totikos/model_cnn_mfcc_6_grey_81k-hpo/runs/odvy97ez</a><br/> View job at <a href='https://wandb.ai/totikos/model_cnn_mfcc_6_grey_81k-hpo/jobs/QXJ0aWZhY3RDb2xsZWN0aW9uOjEyNzk0NTQwMw==/version_details/v4' target=\"_blank\">https://wandb.ai/totikos/model_cnn_mfcc_6_grey_81k-hpo/jobs/QXJ0aWZhY3RDb2xsZWN0aW9uOjEyNzk0NTQwMw==/version_details/v4</a><br/>Synced 5 W&B file(s), 0 media file(s), 0 artifact file(s) and 0 other file(s)"
      ],
      "text/plain": [
       "<IPython.core.display.HTML object>"
      ]
     },
     "metadata": {},
     "output_type": "display_data"
    },
    {
     "data": {
      "text/html": [
       "Find logs at: <code>C:\\Users\\nekta\\OneDrive\\Desktop\\botanic-emotion-recognition\\logs\\wandb\\run-20240107_025246-odvy97ez\\logs</code>"
      ],
      "text/plain": [
       "<IPython.core.display.HTML object>"
      ]
     },
     "metadata": {},
     "output_type": "display_data"
    },
    {
     "data": {
      "text/html": [
       "Successfully finished last run (ID:odvy97ez). Initializing new run:<br/>"
      ],
      "text/plain": [
       "<IPython.core.display.HTML object>"
      ]
     },
     "metadata": {},
     "output_type": "display_data"
    },
    {
     "data": {
      "text/html": [
       "wandb version 0.16.1 is available!  To upgrade, please run:\n",
       " $ pip install wandb --upgrade"
      ],
      "text/plain": [
       "<IPython.core.display.HTML object>"
      ]
     },
     "metadata": {},
     "output_type": "display_data"
    },
    {
     "data": {
      "text/html": [
       "Tracking run with wandb version 0.15.12"
      ],
      "text/plain": [
       "<IPython.core.display.HTML object>"
      ]
     },
     "metadata": {},
     "output_type": "display_data"
    },
    {
     "data": {
      "text/html": [
       "Run data is saved locally in <code>C:\\Users\\nekta\\OneDrive\\Desktop\\botanic-emotion-recognition\\logs\\wandb\\run-20240107_025540-tojvb6v0</code>"
      ],
      "text/plain": [
       "<IPython.core.display.HTML object>"
      ]
     },
     "metadata": {},
     "output_type": "display_data"
    },
    {
     "data": {
      "text/html": [
       "Syncing run <strong><a href='https://wandb.ai/totikos/model_cnn_mfcc_6_grey_81k-hpo/runs/tojvb6v0' target=\"_blank\">79_cnn_mfcc_6_grey_81k_lr-0.0001_convf1-32_convf2-64_convker-5_dr-0.0</a></strong> to <a href='https://wandb.ai/totikos/model_cnn_mfcc_6_grey_81k-hpo' target=\"_blank\">Weights & Biases</a> (<a href='https://wandb.me/run' target=\"_blank\">docs</a>)<br/>"
      ],
      "text/plain": [
       "<IPython.core.display.HTML object>"
      ]
     },
     "metadata": {},
     "output_type": "display_data"
    },
    {
     "data": {
      "text/html": [
       " View project at <a href='https://wandb.ai/totikos/model_cnn_mfcc_6_grey_81k-hpo' target=\"_blank\">https://wandb.ai/totikos/model_cnn_mfcc_6_grey_81k-hpo</a>"
      ],
      "text/plain": [
       "<IPython.core.display.HTML object>"
      ]
     },
     "metadata": {},
     "output_type": "display_data"
    },
    {
     "data": {
      "text/html": [
       " View run at <a href='https://wandb.ai/totikos/model_cnn_mfcc_6_grey_81k-hpo/runs/tojvb6v0' target=\"_blank\">https://wandb.ai/totikos/model_cnn_mfcc_6_grey_81k-hpo/runs/tojvb6v0</a>"
      ],
      "text/plain": [
       "<IPython.core.display.HTML object>"
      ]
     },
     "metadata": {},
     "output_type": "display_data"
    },
    {
     "name": "stderr",
     "output_type": "stream",
     "text": [
      "100%|████████████████████████████████████████| 380/380 [01:54<00:00,  3.32it/s]\n",
      "100%|██████████████████████████████████████████| 82/82 [00:10<00:00,  7.85it/s]\n",
      "[I 2024-01-07 02:57:51,614] Trial 79 pruned. \n"
     ]
    },
    {
     "name": "stdout",
     "output_type": "stream",
     "text": [
      "{'out_channels_l1': 32, 'out_channels_l2': 32, 'conv_kernel_size': 3, 'dropout_rate': 0.0}\n"
     ]
    },
    {
     "data": {
      "text/html": [
       "Finishing last run (ID:tojvb6v0) before initializing another..."
      ],
      "text/plain": [
       "<IPython.core.display.HTML object>"
      ]
     },
     "metadata": {},
     "output_type": "display_data"
    },
    {
     "data": {
      "text/html": [
       "Waiting for W&B process to finish... <strong style=\"color:green\">(success).</strong>"
      ],
      "text/plain": [
       "<IPython.core.display.HTML object>"
      ]
     },
     "metadata": {},
     "output_type": "display_data"
    },
    {
     "data": {
      "text/html": [
       " View run <strong style=\"color:#cdcd00\">79_cnn_mfcc_6_grey_81k_lr-0.0001_convf1-32_convf2-64_convker-5_dr-0.0</strong> at: <a href='https://wandb.ai/totikos/model_cnn_mfcc_6_grey_81k-hpo/runs/tojvb6v0' target=\"_blank\">https://wandb.ai/totikos/model_cnn_mfcc_6_grey_81k-hpo/runs/tojvb6v0</a><br/> View job at <a href='https://wandb.ai/totikos/model_cnn_mfcc_6_grey_81k-hpo/jobs/QXJ0aWZhY3RDb2xsZWN0aW9uOjEyNzk0NTQwMw==/version_details/v4' target=\"_blank\">https://wandb.ai/totikos/model_cnn_mfcc_6_grey_81k-hpo/jobs/QXJ0aWZhY3RDb2xsZWN0aW9uOjEyNzk0NTQwMw==/version_details/v4</a><br/>Synced 5 W&B file(s), 0 media file(s), 0 artifact file(s) and 0 other file(s)"
      ],
      "text/plain": [
       "<IPython.core.display.HTML object>"
      ]
     },
     "metadata": {},
     "output_type": "display_data"
    },
    {
     "data": {
      "text/html": [
       "Find logs at: <code>C:\\Users\\nekta\\OneDrive\\Desktop\\botanic-emotion-recognition\\logs\\wandb\\run-20240107_025540-tojvb6v0\\logs</code>"
      ],
      "text/plain": [
       "<IPython.core.display.HTML object>"
      ]
     },
     "metadata": {},
     "output_type": "display_data"
    },
    {
     "data": {
      "text/html": [
       "Successfully finished last run (ID:tojvb6v0). Initializing new run:<br/>"
      ],
      "text/plain": [
       "<IPython.core.display.HTML object>"
      ]
     },
     "metadata": {},
     "output_type": "display_data"
    },
    {
     "data": {
      "text/html": [
       "wandb version 0.16.1 is available!  To upgrade, please run:\n",
       " $ pip install wandb --upgrade"
      ],
      "text/plain": [
       "<IPython.core.display.HTML object>"
      ]
     },
     "metadata": {},
     "output_type": "display_data"
    },
    {
     "data": {
      "text/html": [
       "Tracking run with wandb version 0.15.12"
      ],
      "text/plain": [
       "<IPython.core.display.HTML object>"
      ]
     },
     "metadata": {},
     "output_type": "display_data"
    },
    {
     "data": {
      "text/html": [
       "Run data is saved locally in <code>C:\\Users\\nekta\\OneDrive\\Desktop\\botanic-emotion-recognition\\logs\\wandb\\run-20240107_025751-vwe6micf</code>"
      ],
      "text/plain": [
       "<IPython.core.display.HTML object>"
      ]
     },
     "metadata": {},
     "output_type": "display_data"
    },
    {
     "data": {
      "text/html": [
       "Syncing run <strong><a href='https://wandb.ai/totikos/model_cnn_mfcc_6_grey_81k-hpo/runs/vwe6micf' target=\"_blank\">80_cnn_mfcc_6_grey_81k_lr-0.0001_convf1-32_convf2-32_convker-3_dr-0.0</a></strong> to <a href='https://wandb.ai/totikos/model_cnn_mfcc_6_grey_81k-hpo' target=\"_blank\">Weights & Biases</a> (<a href='https://wandb.me/run' target=\"_blank\">docs</a>)<br/>"
      ],
      "text/plain": [
       "<IPython.core.display.HTML object>"
      ]
     },
     "metadata": {},
     "output_type": "display_data"
    },
    {
     "data": {
      "text/html": [
       " View project at <a href='https://wandb.ai/totikos/model_cnn_mfcc_6_grey_81k-hpo' target=\"_blank\">https://wandb.ai/totikos/model_cnn_mfcc_6_grey_81k-hpo</a>"
      ],
      "text/plain": [
       "<IPython.core.display.HTML object>"
      ]
     },
     "metadata": {},
     "output_type": "display_data"
    },
    {
     "data": {
      "text/html": [
       " View run at <a href='https://wandb.ai/totikos/model_cnn_mfcc_6_grey_81k-hpo/runs/vwe6micf' target=\"_blank\">https://wandb.ai/totikos/model_cnn_mfcc_6_grey_81k-hpo/runs/vwe6micf</a>"
      ],
      "text/plain": [
       "<IPython.core.display.HTML object>"
      ]
     },
     "metadata": {},
     "output_type": "display_data"
    },
    {
     "name": "stderr",
     "output_type": "stream",
     "text": [
      "100%|████████████████████████████████████████| 380/380 [01:11<00:00,  5.32it/s]\n",
      "100%|██████████████████████████████████████████| 82/82 [00:07<00:00, 10.93it/s]\n",
      "[I 2024-01-07 02:59:16,123] Trial 80 pruned. \n"
     ]
    },
    {
     "name": "stdout",
     "output_type": "stream",
     "text": [
      "{'out_channels_l1': 16, 'out_channels_l2': 64, 'conv_kernel_size': 3, 'dropout_rate': 0.0}\n"
     ]
    },
    {
     "data": {
      "text/html": [
       "Finishing last run (ID:vwe6micf) before initializing another..."
      ],
      "text/plain": [
       "<IPython.core.display.HTML object>"
      ]
     },
     "metadata": {},
     "output_type": "display_data"
    },
    {
     "data": {
      "text/html": [
       "Waiting for W&B process to finish... <strong style=\"color:green\">(success).</strong>"
      ],
      "text/plain": [
       "<IPython.core.display.HTML object>"
      ]
     },
     "metadata": {},
     "output_type": "display_data"
    },
    {
     "data": {
      "text/html": [
       " View run <strong style=\"color:#cdcd00\">80_cnn_mfcc_6_grey_81k_lr-0.0001_convf1-32_convf2-32_convker-3_dr-0.0</strong> at: <a href='https://wandb.ai/totikos/model_cnn_mfcc_6_grey_81k-hpo/runs/vwe6micf' target=\"_blank\">https://wandb.ai/totikos/model_cnn_mfcc_6_grey_81k-hpo/runs/vwe6micf</a><br/> View job at <a href='https://wandb.ai/totikos/model_cnn_mfcc_6_grey_81k-hpo/jobs/QXJ0aWZhY3RDb2xsZWN0aW9uOjEyNzk0NTQwMw==/version_details/v4' target=\"_blank\">https://wandb.ai/totikos/model_cnn_mfcc_6_grey_81k-hpo/jobs/QXJ0aWZhY3RDb2xsZWN0aW9uOjEyNzk0NTQwMw==/version_details/v4</a><br/>Synced 5 W&B file(s), 0 media file(s), 0 artifact file(s) and 0 other file(s)"
      ],
      "text/plain": [
       "<IPython.core.display.HTML object>"
      ]
     },
     "metadata": {},
     "output_type": "display_data"
    },
    {
     "data": {
      "text/html": [
       "Find logs at: <code>C:\\Users\\nekta\\OneDrive\\Desktop\\botanic-emotion-recognition\\logs\\wandb\\run-20240107_025751-vwe6micf\\logs</code>"
      ],
      "text/plain": [
       "<IPython.core.display.HTML object>"
      ]
     },
     "metadata": {},
     "output_type": "display_data"
    },
    {
     "data": {
      "text/html": [
       "Successfully finished last run (ID:vwe6micf). Initializing new run:<br/>"
      ],
      "text/plain": [
       "<IPython.core.display.HTML object>"
      ]
     },
     "metadata": {},
     "output_type": "display_data"
    },
    {
     "data": {
      "text/html": [
       "wandb version 0.16.1 is available!  To upgrade, please run:\n",
       " $ pip install wandb --upgrade"
      ],
      "text/plain": [
       "<IPython.core.display.HTML object>"
      ]
     },
     "metadata": {},
     "output_type": "display_data"
    },
    {
     "data": {
      "text/html": [
       "Tracking run with wandb version 0.15.12"
      ],
      "text/plain": [
       "<IPython.core.display.HTML object>"
      ]
     },
     "metadata": {},
     "output_type": "display_data"
    },
    {
     "data": {
      "text/html": [
       "Run data is saved locally in <code>C:\\Users\\nekta\\OneDrive\\Desktop\\botanic-emotion-recognition\\logs\\wandb\\run-20240107_025916-llz3vb31</code>"
      ],
      "text/plain": [
       "<IPython.core.display.HTML object>"
      ]
     },
     "metadata": {},
     "output_type": "display_data"
    },
    {
     "data": {
      "text/html": [
       "Syncing run <strong><a href='https://wandb.ai/totikos/model_cnn_mfcc_6_grey_81k-hpo/runs/llz3vb31' target=\"_blank\">81_cnn_mfcc_6_grey_81k_lr-0.0001_convf1-16_convf2-64_convker-3_dr-0.0</a></strong> to <a href='https://wandb.ai/totikos/model_cnn_mfcc_6_grey_81k-hpo' target=\"_blank\">Weights & Biases</a> (<a href='https://wandb.me/run' target=\"_blank\">docs</a>)<br/>"
      ],
      "text/plain": [
       "<IPython.core.display.HTML object>"
      ]
     },
     "metadata": {},
     "output_type": "display_data"
    },
    {
     "data": {
      "text/html": [
       " View project at <a href='https://wandb.ai/totikos/model_cnn_mfcc_6_grey_81k-hpo' target=\"_blank\">https://wandb.ai/totikos/model_cnn_mfcc_6_grey_81k-hpo</a>"
      ],
      "text/plain": [
       "<IPython.core.display.HTML object>"
      ]
     },
     "metadata": {},
     "output_type": "display_data"
    },
    {
     "data": {
      "text/html": [
       " View run at <a href='https://wandb.ai/totikos/model_cnn_mfcc_6_grey_81k-hpo/runs/llz3vb31' target=\"_blank\">https://wandb.ai/totikos/model_cnn_mfcc_6_grey_81k-hpo/runs/llz3vb31</a>"
      ],
      "text/plain": [
       "<IPython.core.display.HTML object>"
      ]
     },
     "metadata": {},
     "output_type": "display_data"
    },
    {
     "name": "stderr",
     "output_type": "stream",
     "text": [
      "100%|████████████████████████████████████████| 380/380 [00:59<00:00,  6.42it/s]\n",
      "100%|██████████████████████████████████████████| 82/82 [00:05<00:00, 14.80it/s]\n",
      "[I 2024-01-07 03:00:27,457] Trial 81 pruned. \n"
     ]
    },
    {
     "name": "stdout",
     "output_type": "stream",
     "text": [
      "{'out_channels_l1': 16, 'out_channels_l2': 64, 'conv_kernel_size': 3, 'dropout_rate': 0.1}\n"
     ]
    },
    {
     "data": {
      "text/html": [
       "Finishing last run (ID:llz3vb31) before initializing another..."
      ],
      "text/plain": [
       "<IPython.core.display.HTML object>"
      ]
     },
     "metadata": {},
     "output_type": "display_data"
    },
    {
     "data": {
      "text/html": [
       "Waiting for W&B process to finish... <strong style=\"color:green\">(success).</strong>"
      ],
      "text/plain": [
       "<IPython.core.display.HTML object>"
      ]
     },
     "metadata": {},
     "output_type": "display_data"
    },
    {
     "data": {
      "text/html": [
       " View run <strong style=\"color:#cdcd00\">81_cnn_mfcc_6_grey_81k_lr-0.0001_convf1-16_convf2-64_convker-3_dr-0.0</strong> at: <a href='https://wandb.ai/totikos/model_cnn_mfcc_6_grey_81k-hpo/runs/llz3vb31' target=\"_blank\">https://wandb.ai/totikos/model_cnn_mfcc_6_grey_81k-hpo/runs/llz3vb31</a><br/> View job at <a href='https://wandb.ai/totikos/model_cnn_mfcc_6_grey_81k-hpo/jobs/QXJ0aWZhY3RDb2xsZWN0aW9uOjEyNzk0NTQwMw==/version_details/v4' target=\"_blank\">https://wandb.ai/totikos/model_cnn_mfcc_6_grey_81k-hpo/jobs/QXJ0aWZhY3RDb2xsZWN0aW9uOjEyNzk0NTQwMw==/version_details/v4</a><br/>Synced 5 W&B file(s), 0 media file(s), 0 artifact file(s) and 0 other file(s)"
      ],
      "text/plain": [
       "<IPython.core.display.HTML object>"
      ]
     },
     "metadata": {},
     "output_type": "display_data"
    },
    {
     "data": {
      "text/html": [
       "Find logs at: <code>C:\\Users\\nekta\\OneDrive\\Desktop\\botanic-emotion-recognition\\logs\\wandb\\run-20240107_025916-llz3vb31\\logs</code>"
      ],
      "text/plain": [
       "<IPython.core.display.HTML object>"
      ]
     },
     "metadata": {},
     "output_type": "display_data"
    },
    {
     "data": {
      "text/html": [
       "Successfully finished last run (ID:llz3vb31). Initializing new run:<br/>"
      ],
      "text/plain": [
       "<IPython.core.display.HTML object>"
      ]
     },
     "metadata": {},
     "output_type": "display_data"
    },
    {
     "data": {
      "text/html": [
       "wandb version 0.16.1 is available!  To upgrade, please run:\n",
       " $ pip install wandb --upgrade"
      ],
      "text/plain": [
       "<IPython.core.display.HTML object>"
      ]
     },
     "metadata": {},
     "output_type": "display_data"
    },
    {
     "data": {
      "text/html": [
       "Tracking run with wandb version 0.15.12"
      ],
      "text/plain": [
       "<IPython.core.display.HTML object>"
      ]
     },
     "metadata": {},
     "output_type": "display_data"
    },
    {
     "data": {
      "text/html": [
       "Run data is saved locally in <code>C:\\Users\\nekta\\OneDrive\\Desktop\\botanic-emotion-recognition\\logs\\wandb\\run-20240107_030027-2nlykfes</code>"
      ],
      "text/plain": [
       "<IPython.core.display.HTML object>"
      ]
     },
     "metadata": {},
     "output_type": "display_data"
    },
    {
     "data": {
      "text/html": [
       "Syncing run <strong><a href='https://wandb.ai/totikos/model_cnn_mfcc_6_grey_81k-hpo/runs/2nlykfes' target=\"_blank\">82_cnn_mfcc_6_grey_81k_lr-0.0001_convf1-16_convf2-64_convker-3_dr-0.1</a></strong> to <a href='https://wandb.ai/totikos/model_cnn_mfcc_6_grey_81k-hpo' target=\"_blank\">Weights & Biases</a> (<a href='https://wandb.me/run' target=\"_blank\">docs</a>)<br/>"
      ],
      "text/plain": [
       "<IPython.core.display.HTML object>"
      ]
     },
     "metadata": {},
     "output_type": "display_data"
    },
    {
     "data": {
      "text/html": [
       " View project at <a href='https://wandb.ai/totikos/model_cnn_mfcc_6_grey_81k-hpo' target=\"_blank\">https://wandb.ai/totikos/model_cnn_mfcc_6_grey_81k-hpo</a>"
      ],
      "text/plain": [
       "<IPython.core.display.HTML object>"
      ]
     },
     "metadata": {},
     "output_type": "display_data"
    },
    {
     "data": {
      "text/html": [
       " View run at <a href='https://wandb.ai/totikos/model_cnn_mfcc_6_grey_81k-hpo/runs/2nlykfes' target=\"_blank\">https://wandb.ai/totikos/model_cnn_mfcc_6_grey_81k-hpo/runs/2nlykfes</a>"
      ],
      "text/plain": [
       "<IPython.core.display.HTML object>"
      ]
     },
     "metadata": {},
     "output_type": "display_data"
    },
    {
     "name": "stderr",
     "output_type": "stream",
     "text": [
      "100%|████████████████████████████████████████| 380/380 [01:07<00:00,  5.64it/s]\n",
      "100%|██████████████████████████████████████████| 82/82 [00:06<00:00, 13.56it/s]\n",
      "[I 2024-01-07 03:01:46,722] Trial 82 pruned. \n"
     ]
    },
    {
     "name": "stdout",
     "output_type": "stream",
     "text": [
      "{'out_channels_l1': 64, 'out_channels_l2': 32, 'conv_kernel_size': 5, 'dropout_rate': 0.2}\n"
     ]
    },
    {
     "data": {
      "text/html": [
       "Finishing last run (ID:2nlykfes) before initializing another..."
      ],
      "text/plain": [
       "<IPython.core.display.HTML object>"
      ]
     },
     "metadata": {},
     "output_type": "display_data"
    },
    {
     "data": {
      "text/html": [
       "Waiting for W&B process to finish... <strong style=\"color:green\">(success).</strong>"
      ],
      "text/plain": [
       "<IPython.core.display.HTML object>"
      ]
     },
     "metadata": {},
     "output_type": "display_data"
    },
    {
     "data": {
      "text/html": [
       " View run <strong style=\"color:#cdcd00\">82_cnn_mfcc_6_grey_81k_lr-0.0001_convf1-16_convf2-64_convker-3_dr-0.1</strong> at: <a href='https://wandb.ai/totikos/model_cnn_mfcc_6_grey_81k-hpo/runs/2nlykfes' target=\"_blank\">https://wandb.ai/totikos/model_cnn_mfcc_6_grey_81k-hpo/runs/2nlykfes</a><br/> View job at <a href='https://wandb.ai/totikos/model_cnn_mfcc_6_grey_81k-hpo/jobs/QXJ0aWZhY3RDb2xsZWN0aW9uOjEyNzk0NTQwMw==/version_details/v4' target=\"_blank\">https://wandb.ai/totikos/model_cnn_mfcc_6_grey_81k-hpo/jobs/QXJ0aWZhY3RDb2xsZWN0aW9uOjEyNzk0NTQwMw==/version_details/v4</a><br/>Synced 5 W&B file(s), 0 media file(s), 0 artifact file(s) and 0 other file(s)"
      ],
      "text/plain": [
       "<IPython.core.display.HTML object>"
      ]
     },
     "metadata": {},
     "output_type": "display_data"
    },
    {
     "data": {
      "text/html": [
       "Find logs at: <code>C:\\Users\\nekta\\OneDrive\\Desktop\\botanic-emotion-recognition\\logs\\wandb\\run-20240107_030027-2nlykfes\\logs</code>"
      ],
      "text/plain": [
       "<IPython.core.display.HTML object>"
      ]
     },
     "metadata": {},
     "output_type": "display_data"
    },
    {
     "data": {
      "text/html": [
       "Successfully finished last run (ID:2nlykfes). Initializing new run:<br/>"
      ],
      "text/plain": [
       "<IPython.core.display.HTML object>"
      ]
     },
     "metadata": {},
     "output_type": "display_data"
    },
    {
     "data": {
      "text/html": [
       "wandb version 0.16.1 is available!  To upgrade, please run:\n",
       " $ pip install wandb --upgrade"
      ],
      "text/plain": [
       "<IPython.core.display.HTML object>"
      ]
     },
     "metadata": {},
     "output_type": "display_data"
    },
    {
     "data": {
      "text/html": [
       "Tracking run with wandb version 0.15.12"
      ],
      "text/plain": [
       "<IPython.core.display.HTML object>"
      ]
     },
     "metadata": {},
     "output_type": "display_data"
    },
    {
     "data": {
      "text/html": [
       "Run data is saved locally in <code>C:\\Users\\nekta\\OneDrive\\Desktop\\botanic-emotion-recognition\\logs\\wandb\\run-20240107_030146-o4tw3ntu</code>"
      ],
      "text/plain": [
       "<IPython.core.display.HTML object>"
      ]
     },
     "metadata": {},
     "output_type": "display_data"
    },
    {
     "data": {
      "text/html": [
       "Syncing run <strong><a href='https://wandb.ai/totikos/model_cnn_mfcc_6_grey_81k-hpo/runs/o4tw3ntu' target=\"_blank\">83_cnn_mfcc_6_grey_81k_lr-0.01_convf1-64_convf2-32_convker-5_dr-0.2</a></strong> to <a href='https://wandb.ai/totikos/model_cnn_mfcc_6_grey_81k-hpo' target=\"_blank\">Weights & Biases</a> (<a href='https://wandb.me/run' target=\"_blank\">docs</a>)<br/>"
      ],
      "text/plain": [
       "<IPython.core.display.HTML object>"
      ]
     },
     "metadata": {},
     "output_type": "display_data"
    },
    {
     "data": {
      "text/html": [
       " View project at <a href='https://wandb.ai/totikos/model_cnn_mfcc_6_grey_81k-hpo' target=\"_blank\">https://wandb.ai/totikos/model_cnn_mfcc_6_grey_81k-hpo</a>"
      ],
      "text/plain": [
       "<IPython.core.display.HTML object>"
      ]
     },
     "metadata": {},
     "output_type": "display_data"
    },
    {
     "data": {
      "text/html": [
       " View run at <a href='https://wandb.ai/totikos/model_cnn_mfcc_6_grey_81k-hpo/runs/o4tw3ntu' target=\"_blank\">https://wandb.ai/totikos/model_cnn_mfcc_6_grey_81k-hpo/runs/o4tw3ntu</a>"
      ],
      "text/plain": [
       "<IPython.core.display.HTML object>"
      ]
     },
     "metadata": {},
     "output_type": "display_data"
    },
    {
     "name": "stderr",
     "output_type": "stream",
     "text": [
      "100%|████████████████████████████████████████| 380/380 [02:49<00:00,  2.25it/s]\n",
      "100%|██████████████████████████████████████████| 82/82 [00:13<00:00,  6.05it/s]\n",
      "[I 2024-01-07 03:04:55,608] Trial 83 pruned. \n"
     ]
    },
    {
     "name": "stdout",
     "output_type": "stream",
     "text": [
      "{'out_channels_l1': 16, 'out_channels_l2': 32, 'conv_kernel_size': 5, 'dropout_rate': 0.2}\n"
     ]
    },
    {
     "data": {
      "text/html": [
       "Finishing last run (ID:o4tw3ntu) before initializing another..."
      ],
      "text/plain": [
       "<IPython.core.display.HTML object>"
      ]
     },
     "metadata": {},
     "output_type": "display_data"
    },
    {
     "data": {
      "text/html": [
       "Waiting for W&B process to finish... <strong style=\"color:green\">(success).</strong>"
      ],
      "text/plain": [
       "<IPython.core.display.HTML object>"
      ]
     },
     "metadata": {},
     "output_type": "display_data"
    },
    {
     "data": {
      "text/html": [
       " View run <strong style=\"color:#cdcd00\">83_cnn_mfcc_6_grey_81k_lr-0.01_convf1-64_convf2-32_convker-5_dr-0.2</strong> at: <a href='https://wandb.ai/totikos/model_cnn_mfcc_6_grey_81k-hpo/runs/o4tw3ntu' target=\"_blank\">https://wandb.ai/totikos/model_cnn_mfcc_6_grey_81k-hpo/runs/o4tw3ntu</a><br/> View job at <a href='https://wandb.ai/totikos/model_cnn_mfcc_6_grey_81k-hpo/jobs/QXJ0aWZhY3RDb2xsZWN0aW9uOjEyNzk0NTQwMw==/version_details/v4' target=\"_blank\">https://wandb.ai/totikos/model_cnn_mfcc_6_grey_81k-hpo/jobs/QXJ0aWZhY3RDb2xsZWN0aW9uOjEyNzk0NTQwMw==/version_details/v4</a><br/>Synced 5 W&B file(s), 0 media file(s), 0 artifact file(s) and 0 other file(s)"
      ],
      "text/plain": [
       "<IPython.core.display.HTML object>"
      ]
     },
     "metadata": {},
     "output_type": "display_data"
    },
    {
     "data": {
      "text/html": [
       "Find logs at: <code>C:\\Users\\nekta\\OneDrive\\Desktop\\botanic-emotion-recognition\\logs\\wandb\\run-20240107_030146-o4tw3ntu\\logs</code>"
      ],
      "text/plain": [
       "<IPython.core.display.HTML object>"
      ]
     },
     "metadata": {},
     "output_type": "display_data"
    },
    {
     "data": {
      "text/html": [
       "Successfully finished last run (ID:o4tw3ntu). Initializing new run:<br/>"
      ],
      "text/plain": [
       "<IPython.core.display.HTML object>"
      ]
     },
     "metadata": {},
     "output_type": "display_data"
    },
    {
     "data": {
      "text/html": [
       "wandb version 0.16.1 is available!  To upgrade, please run:\n",
       " $ pip install wandb --upgrade"
      ],
      "text/plain": [
       "<IPython.core.display.HTML object>"
      ]
     },
     "metadata": {},
     "output_type": "display_data"
    },
    {
     "data": {
      "text/html": [
       "Tracking run with wandb version 0.15.12"
      ],
      "text/plain": [
       "<IPython.core.display.HTML object>"
      ]
     },
     "metadata": {},
     "output_type": "display_data"
    },
    {
     "data": {
      "text/html": [
       "Run data is saved locally in <code>C:\\Users\\nekta\\OneDrive\\Desktop\\botanic-emotion-recognition\\logs\\wandb\\run-20240107_030455-muw3no6h</code>"
      ],
      "text/plain": [
       "<IPython.core.display.HTML object>"
      ]
     },
     "metadata": {},
     "output_type": "display_data"
    },
    {
     "data": {
      "text/html": [
       "Syncing run <strong><a href='https://wandb.ai/totikos/model_cnn_mfcc_6_grey_81k-hpo/runs/muw3no6h' target=\"_blank\">84_cnn_mfcc_6_grey_81k_lr-0.01_convf1-16_convf2-32_convker-5_dr-0.2</a></strong> to <a href='https://wandb.ai/totikos/model_cnn_mfcc_6_grey_81k-hpo' target=\"_blank\">Weights & Biases</a> (<a href='https://wandb.me/run' target=\"_blank\">docs</a>)<br/>"
      ],
      "text/plain": [
       "<IPython.core.display.HTML object>"
      ]
     },
     "metadata": {},
     "output_type": "display_data"
    },
    {
     "data": {
      "text/html": [
       " View project at <a href='https://wandb.ai/totikos/model_cnn_mfcc_6_grey_81k-hpo' target=\"_blank\">https://wandb.ai/totikos/model_cnn_mfcc_6_grey_81k-hpo</a>"
      ],
      "text/plain": [
       "<IPython.core.display.HTML object>"
      ]
     },
     "metadata": {},
     "output_type": "display_data"
    },
    {
     "data": {
      "text/html": [
       " View run at <a href='https://wandb.ai/totikos/model_cnn_mfcc_6_grey_81k-hpo/runs/muw3no6h' target=\"_blank\">https://wandb.ai/totikos/model_cnn_mfcc_6_grey_81k-hpo/runs/muw3no6h</a>"
      ],
      "text/plain": [
       "<IPython.core.display.HTML object>"
      ]
     },
     "metadata": {},
     "output_type": "display_data"
    },
    {
     "name": "stderr",
     "output_type": "stream",
     "text": [
      "100%|████████████████████████████████████████| 380/380 [00:51<00:00,  7.31it/s]\n",
      "100%|██████████████████████████████████████████| 82/82 [00:04<00:00, 17.73it/s]\n",
      "[I 2024-01-07 03:05:58,713] Trial 84 pruned. \n"
     ]
    },
    {
     "name": "stdout",
     "output_type": "stream",
     "text": [
      "{'out_channels_l1': 32, 'out_channels_l2': 32, 'conv_kernel_size': 3, 'dropout_rate': 0.0}\n"
     ]
    },
    {
     "data": {
      "text/html": [
       "Finishing last run (ID:muw3no6h) before initializing another..."
      ],
      "text/plain": [
       "<IPython.core.display.HTML object>"
      ]
     },
     "metadata": {},
     "output_type": "display_data"
    },
    {
     "data": {
      "text/html": [
       "Waiting for W&B process to finish... <strong style=\"color:green\">(success).</strong>"
      ],
      "text/plain": [
       "<IPython.core.display.HTML object>"
      ]
     },
     "metadata": {},
     "output_type": "display_data"
    },
    {
     "data": {
      "text/html": [
       " View run <strong style=\"color:#cdcd00\">84_cnn_mfcc_6_grey_81k_lr-0.01_convf1-16_convf2-32_convker-5_dr-0.2</strong> at: <a href='https://wandb.ai/totikos/model_cnn_mfcc_6_grey_81k-hpo/runs/muw3no6h' target=\"_blank\">https://wandb.ai/totikos/model_cnn_mfcc_6_grey_81k-hpo/runs/muw3no6h</a><br/> View job at <a href='https://wandb.ai/totikos/model_cnn_mfcc_6_grey_81k-hpo/jobs/QXJ0aWZhY3RDb2xsZWN0aW9uOjEyNzk0NTQwMw==/version_details/v4' target=\"_blank\">https://wandb.ai/totikos/model_cnn_mfcc_6_grey_81k-hpo/jobs/QXJ0aWZhY3RDb2xsZWN0aW9uOjEyNzk0NTQwMw==/version_details/v4</a><br/>Synced 5 W&B file(s), 0 media file(s), 0 artifact file(s) and 0 other file(s)"
      ],
      "text/plain": [
       "<IPython.core.display.HTML object>"
      ]
     },
     "metadata": {},
     "output_type": "display_data"
    },
    {
     "data": {
      "text/html": [
       "Find logs at: <code>C:\\Users\\nekta\\OneDrive\\Desktop\\botanic-emotion-recognition\\logs\\wandb\\run-20240107_030455-muw3no6h\\logs</code>"
      ],
      "text/plain": [
       "<IPython.core.display.HTML object>"
      ]
     },
     "metadata": {},
     "output_type": "display_data"
    },
    {
     "data": {
      "text/html": [
       "Successfully finished last run (ID:muw3no6h). Initializing new run:<br/>"
      ],
      "text/plain": [
       "<IPython.core.display.HTML object>"
      ]
     },
     "metadata": {},
     "output_type": "display_data"
    },
    {
     "data": {
      "text/html": [
       "wandb version 0.16.1 is available!  To upgrade, please run:\n",
       " $ pip install wandb --upgrade"
      ],
      "text/plain": [
       "<IPython.core.display.HTML object>"
      ]
     },
     "metadata": {},
     "output_type": "display_data"
    },
    {
     "data": {
      "text/html": [
       "Tracking run with wandb version 0.15.12"
      ],
      "text/plain": [
       "<IPython.core.display.HTML object>"
      ]
     },
     "metadata": {},
     "output_type": "display_data"
    },
    {
     "data": {
      "text/html": [
       "Run data is saved locally in <code>C:\\Users\\nekta\\OneDrive\\Desktop\\botanic-emotion-recognition\\logs\\wandb\\run-20240107_030558-9uinuok9</code>"
      ],
      "text/plain": [
       "<IPython.core.display.HTML object>"
      ]
     },
     "metadata": {},
     "output_type": "display_data"
    },
    {
     "data": {
      "text/html": [
       "Syncing run <strong><a href='https://wandb.ai/totikos/model_cnn_mfcc_6_grey_81k-hpo/runs/9uinuok9' target=\"_blank\">85_cnn_mfcc_6_grey_81k_lr-0.01_convf1-32_convf2-32_convker-3_dr-0.0</a></strong> to <a href='https://wandb.ai/totikos/model_cnn_mfcc_6_grey_81k-hpo' target=\"_blank\">Weights & Biases</a> (<a href='https://wandb.me/run' target=\"_blank\">docs</a>)<br/>"
      ],
      "text/plain": [
       "<IPython.core.display.HTML object>"
      ]
     },
     "metadata": {},
     "output_type": "display_data"
    },
    {
     "data": {
      "text/html": [
       " View project at <a href='https://wandb.ai/totikos/model_cnn_mfcc_6_grey_81k-hpo' target=\"_blank\">https://wandb.ai/totikos/model_cnn_mfcc_6_grey_81k-hpo</a>"
      ],
      "text/plain": [
       "<IPython.core.display.HTML object>"
      ]
     },
     "metadata": {},
     "output_type": "display_data"
    },
    {
     "data": {
      "text/html": [
       " View run at <a href='https://wandb.ai/totikos/model_cnn_mfcc_6_grey_81k-hpo/runs/9uinuok9' target=\"_blank\">https://wandb.ai/totikos/model_cnn_mfcc_6_grey_81k-hpo/runs/9uinuok9</a>"
      ],
      "text/plain": [
       "<IPython.core.display.HTML object>"
      ]
     },
     "metadata": {},
     "output_type": "display_data"
    },
    {
     "name": "stderr",
     "output_type": "stream",
     "text": [
      "100%|████████████████████████████████████████| 380/380 [01:09<00:00,  5.44it/s]\n",
      "100%|██████████████████████████████████████████| 82/82 [00:07<00:00, 11.43it/s]\n",
      "[I 2024-01-07 03:07:22,485] Trial 85 pruned. \n"
     ]
    },
    {
     "name": "stdout",
     "output_type": "stream",
     "text": [
      "{'out_channels_l1': 64, 'out_channels_l2': 64, 'conv_kernel_size': 5, 'dropout_rate': 0.2}\n"
     ]
    },
    {
     "data": {
      "text/html": [
       "Finishing last run (ID:9uinuok9) before initializing another..."
      ],
      "text/plain": [
       "<IPython.core.display.HTML object>"
      ]
     },
     "metadata": {},
     "output_type": "display_data"
    },
    {
     "data": {
      "text/html": [
       "Waiting for W&B process to finish... <strong style=\"color:green\">(success).</strong>"
      ],
      "text/plain": [
       "<IPython.core.display.HTML object>"
      ]
     },
     "metadata": {},
     "output_type": "display_data"
    },
    {
     "data": {
      "text/html": [
       " View run <strong style=\"color:#cdcd00\">85_cnn_mfcc_6_grey_81k_lr-0.01_convf1-32_convf2-32_convker-3_dr-0.0</strong> at: <a href='https://wandb.ai/totikos/model_cnn_mfcc_6_grey_81k-hpo/runs/9uinuok9' target=\"_blank\">https://wandb.ai/totikos/model_cnn_mfcc_6_grey_81k-hpo/runs/9uinuok9</a><br/> View job at <a href='https://wandb.ai/totikos/model_cnn_mfcc_6_grey_81k-hpo/jobs/QXJ0aWZhY3RDb2xsZWN0aW9uOjEyNzk0NTQwMw==/version_details/v4' target=\"_blank\">https://wandb.ai/totikos/model_cnn_mfcc_6_grey_81k-hpo/jobs/QXJ0aWZhY3RDb2xsZWN0aW9uOjEyNzk0NTQwMw==/version_details/v4</a><br/>Synced 5 W&B file(s), 0 media file(s), 0 artifact file(s) and 0 other file(s)"
      ],
      "text/plain": [
       "<IPython.core.display.HTML object>"
      ]
     },
     "metadata": {},
     "output_type": "display_data"
    },
    {
     "data": {
      "text/html": [
       "Find logs at: <code>C:\\Users\\nekta\\OneDrive\\Desktop\\botanic-emotion-recognition\\logs\\wandb\\run-20240107_030558-9uinuok9\\logs</code>"
      ],
      "text/plain": [
       "<IPython.core.display.HTML object>"
      ]
     },
     "metadata": {},
     "output_type": "display_data"
    },
    {
     "data": {
      "text/html": [
       "Successfully finished last run (ID:9uinuok9). Initializing new run:<br/>"
      ],
      "text/plain": [
       "<IPython.core.display.HTML object>"
      ]
     },
     "metadata": {},
     "output_type": "display_data"
    },
    {
     "data": {
      "text/html": [
       "wandb version 0.16.1 is available!  To upgrade, please run:\n",
       " $ pip install wandb --upgrade"
      ],
      "text/plain": [
       "<IPython.core.display.HTML object>"
      ]
     },
     "metadata": {},
     "output_type": "display_data"
    },
    {
     "data": {
      "text/html": [
       "Tracking run with wandb version 0.15.12"
      ],
      "text/plain": [
       "<IPython.core.display.HTML object>"
      ]
     },
     "metadata": {},
     "output_type": "display_data"
    },
    {
     "data": {
      "text/html": [
       "Run data is saved locally in <code>C:\\Users\\nekta\\OneDrive\\Desktop\\botanic-emotion-recognition\\logs\\wandb\\run-20240107_030722-ues56udv</code>"
      ],
      "text/plain": [
       "<IPython.core.display.HTML object>"
      ]
     },
     "metadata": {},
     "output_type": "display_data"
    },
    {
     "data": {
      "text/html": [
       "Syncing run <strong><a href='https://wandb.ai/totikos/model_cnn_mfcc_6_grey_81k-hpo/runs/ues56udv' target=\"_blank\">86_cnn_mfcc_6_grey_81k_lr-0.01_convf1-64_convf2-64_convker-5_dr-0.2</a></strong> to <a href='https://wandb.ai/totikos/model_cnn_mfcc_6_grey_81k-hpo' target=\"_blank\">Weights & Biases</a> (<a href='https://wandb.me/run' target=\"_blank\">docs</a>)<br/>"
      ],
      "text/plain": [
       "<IPython.core.display.HTML object>"
      ]
     },
     "metadata": {},
     "output_type": "display_data"
    },
    {
     "data": {
      "text/html": [
       " View project at <a href='https://wandb.ai/totikos/model_cnn_mfcc_6_grey_81k-hpo' target=\"_blank\">https://wandb.ai/totikos/model_cnn_mfcc_6_grey_81k-hpo</a>"
      ],
      "text/plain": [
       "<IPython.core.display.HTML object>"
      ]
     },
     "metadata": {},
     "output_type": "display_data"
    },
    {
     "data": {
      "text/html": [
       " View run at <a href='https://wandb.ai/totikos/model_cnn_mfcc_6_grey_81k-hpo/runs/ues56udv' target=\"_blank\">https://wandb.ai/totikos/model_cnn_mfcc_6_grey_81k-hpo/runs/ues56udv</a>"
      ],
      "text/plain": [
       "<IPython.core.display.HTML object>"
      ]
     },
     "metadata": {},
     "output_type": "display_data"
    },
    {
     "name": "stderr",
     "output_type": "stream",
     "text": [
      "100%|████████████████████████████████████████| 380/380 [03:28<00:00,  1.83it/s]\n",
      "100%|██████████████████████████████████████████| 82/82 [00:15<00:00,  5.18it/s]\n",
      "[I 2024-01-07 03:11:12,995] Trial 86 pruned. \n"
     ]
    },
    {
     "name": "stdout",
     "output_type": "stream",
     "text": [
      "{'out_channels_l1': 16, 'out_channels_l2': 32, 'conv_kernel_size': 5, 'dropout_rate': 0.0}\n"
     ]
    },
    {
     "data": {
      "text/html": [
       "Finishing last run (ID:ues56udv) before initializing another..."
      ],
      "text/plain": [
       "<IPython.core.display.HTML object>"
      ]
     },
     "metadata": {},
     "output_type": "display_data"
    },
    {
     "data": {
      "text/html": [
       "Waiting for W&B process to finish... <strong style=\"color:green\">(success).</strong>"
      ],
      "text/plain": [
       "<IPython.core.display.HTML object>"
      ]
     },
     "metadata": {},
     "output_type": "display_data"
    },
    {
     "data": {
      "text/html": [
       " View run <strong style=\"color:#cdcd00\">86_cnn_mfcc_6_grey_81k_lr-0.01_convf1-64_convf2-64_convker-5_dr-0.2</strong> at: <a href='https://wandb.ai/totikos/model_cnn_mfcc_6_grey_81k-hpo/runs/ues56udv' target=\"_blank\">https://wandb.ai/totikos/model_cnn_mfcc_6_grey_81k-hpo/runs/ues56udv</a><br/> View job at <a href='https://wandb.ai/totikos/model_cnn_mfcc_6_grey_81k-hpo/jobs/QXJ0aWZhY3RDb2xsZWN0aW9uOjEyNzk0NTQwMw==/version_details/v4' target=\"_blank\">https://wandb.ai/totikos/model_cnn_mfcc_6_grey_81k-hpo/jobs/QXJ0aWZhY3RDb2xsZWN0aW9uOjEyNzk0NTQwMw==/version_details/v4</a><br/>Synced 5 W&B file(s), 0 media file(s), 0 artifact file(s) and 0 other file(s)"
      ],
      "text/plain": [
       "<IPython.core.display.HTML object>"
      ]
     },
     "metadata": {},
     "output_type": "display_data"
    },
    {
     "data": {
      "text/html": [
       "Find logs at: <code>C:\\Users\\nekta\\OneDrive\\Desktop\\botanic-emotion-recognition\\logs\\wandb\\run-20240107_030722-ues56udv\\logs</code>"
      ],
      "text/plain": [
       "<IPython.core.display.HTML object>"
      ]
     },
     "metadata": {},
     "output_type": "display_data"
    },
    {
     "data": {
      "text/html": [
       "Successfully finished last run (ID:ues56udv). Initializing new run:<br/>"
      ],
      "text/plain": [
       "<IPython.core.display.HTML object>"
      ]
     },
     "metadata": {},
     "output_type": "display_data"
    },
    {
     "data": {
      "text/html": [
       "wandb version 0.16.1 is available!  To upgrade, please run:\n",
       " $ pip install wandb --upgrade"
      ],
      "text/plain": [
       "<IPython.core.display.HTML object>"
      ]
     },
     "metadata": {},
     "output_type": "display_data"
    },
    {
     "data": {
      "text/html": [
       "Tracking run with wandb version 0.15.12"
      ],
      "text/plain": [
       "<IPython.core.display.HTML object>"
      ]
     },
     "metadata": {},
     "output_type": "display_data"
    },
    {
     "data": {
      "text/html": [
       "Run data is saved locally in <code>C:\\Users\\nekta\\OneDrive\\Desktop\\botanic-emotion-recognition\\logs\\wandb\\run-20240107_031113-8t16jare</code>"
      ],
      "text/plain": [
       "<IPython.core.display.HTML object>"
      ]
     },
     "metadata": {},
     "output_type": "display_data"
    },
    {
     "data": {
      "text/html": [
       "Syncing run <strong><a href='https://wandb.ai/totikos/model_cnn_mfcc_6_grey_81k-hpo/runs/8t16jare' target=\"_blank\">87_cnn_mfcc_6_grey_81k_lr-0.0001_convf1-16_convf2-32_convker-5_dr-0.0</a></strong> to <a href='https://wandb.ai/totikos/model_cnn_mfcc_6_grey_81k-hpo' target=\"_blank\">Weights & Biases</a> (<a href='https://wandb.me/run' target=\"_blank\">docs</a>)<br/>"
      ],
      "text/plain": [
       "<IPython.core.display.HTML object>"
      ]
     },
     "metadata": {},
     "output_type": "display_data"
    },
    {
     "data": {
      "text/html": [
       " View project at <a href='https://wandb.ai/totikos/model_cnn_mfcc_6_grey_81k-hpo' target=\"_blank\">https://wandb.ai/totikos/model_cnn_mfcc_6_grey_81k-hpo</a>"
      ],
      "text/plain": [
       "<IPython.core.display.HTML object>"
      ]
     },
     "metadata": {},
     "output_type": "display_data"
    },
    {
     "data": {
      "text/html": [
       " View run at <a href='https://wandb.ai/totikos/model_cnn_mfcc_6_grey_81k-hpo/runs/8t16jare' target=\"_blank\">https://wandb.ai/totikos/model_cnn_mfcc_6_grey_81k-hpo/runs/8t16jare</a>"
      ],
      "text/plain": [
       "<IPython.core.display.HTML object>"
      ]
     },
     "metadata": {},
     "output_type": "display_data"
    },
    {
     "name": "stderr",
     "output_type": "stream",
     "text": [
      "100%|████████████████████████████████████████| 380/380 [00:48<00:00,  7.91it/s]\n",
      "100%|██████████████████████████████████████████| 82/82 [00:04<00:00, 18.31it/s]\n",
      "[I 2024-01-07 03:12:12,926] Trial 87 pruned. \n"
     ]
    },
    {
     "name": "stdout",
     "output_type": "stream",
     "text": [
      "{'out_channels_l1': 64, 'out_channels_l2': 64, 'conv_kernel_size': 5, 'dropout_rate': 0.0}\n"
     ]
    },
    {
     "data": {
      "text/html": [
       "Finishing last run (ID:8t16jare) before initializing another..."
      ],
      "text/plain": [
       "<IPython.core.display.HTML object>"
      ]
     },
     "metadata": {},
     "output_type": "display_data"
    },
    {
     "data": {
      "text/html": [
       "Waiting for W&B process to finish... <strong style=\"color:green\">(success).</strong>"
      ],
      "text/plain": [
       "<IPython.core.display.HTML object>"
      ]
     },
     "metadata": {},
     "output_type": "display_data"
    },
    {
     "data": {
      "text/html": [
       " View run <strong style=\"color:#cdcd00\">87_cnn_mfcc_6_grey_81k_lr-0.0001_convf1-16_convf2-32_convker-5_dr-0.0</strong> at: <a href='https://wandb.ai/totikos/model_cnn_mfcc_6_grey_81k-hpo/runs/8t16jare' target=\"_blank\">https://wandb.ai/totikos/model_cnn_mfcc_6_grey_81k-hpo/runs/8t16jare</a><br/> View job at <a href='https://wandb.ai/totikos/model_cnn_mfcc_6_grey_81k-hpo/jobs/QXJ0aWZhY3RDb2xsZWN0aW9uOjEyNzk0NTQwMw==/version_details/v4' target=\"_blank\">https://wandb.ai/totikos/model_cnn_mfcc_6_grey_81k-hpo/jobs/QXJ0aWZhY3RDb2xsZWN0aW9uOjEyNzk0NTQwMw==/version_details/v4</a><br/>Synced 5 W&B file(s), 0 media file(s), 0 artifact file(s) and 0 other file(s)"
      ],
      "text/plain": [
       "<IPython.core.display.HTML object>"
      ]
     },
     "metadata": {},
     "output_type": "display_data"
    },
    {
     "data": {
      "text/html": [
       "Find logs at: <code>C:\\Users\\nekta\\OneDrive\\Desktop\\botanic-emotion-recognition\\logs\\wandb\\run-20240107_031113-8t16jare\\logs</code>"
      ],
      "text/plain": [
       "<IPython.core.display.HTML object>"
      ]
     },
     "metadata": {},
     "output_type": "display_data"
    },
    {
     "data": {
      "text/html": [
       "Successfully finished last run (ID:8t16jare). Initializing new run:<br/>"
      ],
      "text/plain": [
       "<IPython.core.display.HTML object>"
      ]
     },
     "metadata": {},
     "output_type": "display_data"
    },
    {
     "data": {
      "text/html": [
       "wandb version 0.16.1 is available!  To upgrade, please run:\n",
       " $ pip install wandb --upgrade"
      ],
      "text/plain": [
       "<IPython.core.display.HTML object>"
      ]
     },
     "metadata": {},
     "output_type": "display_data"
    },
    {
     "data": {
      "text/html": [
       "Tracking run with wandb version 0.15.12"
      ],
      "text/plain": [
       "<IPython.core.display.HTML object>"
      ]
     },
     "metadata": {},
     "output_type": "display_data"
    },
    {
     "data": {
      "text/html": [
       "Run data is saved locally in <code>C:\\Users\\nekta\\OneDrive\\Desktop\\botanic-emotion-recognition\\logs\\wandb\\run-20240107_031213-qs6idd88</code>"
      ],
      "text/plain": [
       "<IPython.core.display.HTML object>"
      ]
     },
     "metadata": {},
     "output_type": "display_data"
    },
    {
     "data": {
      "text/html": [
       "Syncing run <strong><a href='https://wandb.ai/totikos/model_cnn_mfcc_6_grey_81k-hpo/runs/qs6idd88' target=\"_blank\">88_cnn_mfcc_6_grey_81k_lr-0.001_convf1-64_convf2-64_convker-5_dr-0.0</a></strong> to <a href='https://wandb.ai/totikos/model_cnn_mfcc_6_grey_81k-hpo' target=\"_blank\">Weights & Biases</a> (<a href='https://wandb.me/run' target=\"_blank\">docs</a>)<br/>"
      ],
      "text/plain": [
       "<IPython.core.display.HTML object>"
      ]
     },
     "metadata": {},
     "output_type": "display_data"
    },
    {
     "data": {
      "text/html": [
       " View project at <a href='https://wandb.ai/totikos/model_cnn_mfcc_6_grey_81k-hpo' target=\"_blank\">https://wandb.ai/totikos/model_cnn_mfcc_6_grey_81k-hpo</a>"
      ],
      "text/plain": [
       "<IPython.core.display.HTML object>"
      ]
     },
     "metadata": {},
     "output_type": "display_data"
    },
    {
     "data": {
      "text/html": [
       " View run at <a href='https://wandb.ai/totikos/model_cnn_mfcc_6_grey_81k-hpo/runs/qs6idd88' target=\"_blank\">https://wandb.ai/totikos/model_cnn_mfcc_6_grey_81k-hpo/runs/qs6idd88</a>"
      ],
      "text/plain": [
       "<IPython.core.display.HTML object>"
      ]
     },
     "metadata": {},
     "output_type": "display_data"
    },
    {
     "name": "stderr",
     "output_type": "stream",
     "text": [
      "100%|████████████████████████████████████████| 380/380 [03:23<00:00,  1.87it/s]\n",
      "100%|██████████████████████████████████████████| 82/82 [00:17<00:00,  4.64it/s]\n",
      "100%|████████████████████████████████████████| 380/380 [03:24<00:00,  1.86it/s]\n",
      "100%|██████████████████████████████████████████| 82/82 [00:15<00:00,  5.15it/s]\n",
      "100%|████████████████████████████████████████| 380/380 [03:33<00:00,  1.78it/s]\n",
      "100%|██████████████████████████████████████████| 82/82 [00:17<00:00,  4.70it/s]\n",
      "100%|████████████████████████████████████████| 380/380 [03:22<00:00,  1.88it/s]\n",
      "100%|██████████████████████████████████████████| 82/82 [00:17<00:00,  4.56it/s]\n",
      "100%|████████████████████████████████████████| 380/380 [03:24<00:00,  1.86it/s]\n",
      "100%|██████████████████████████████████████████| 82/82 [00:16<00:00,  4.96it/s]\n",
      "100%|████████████████████████████████████████| 380/380 [03:26<00:00,  1.84it/s]\n",
      "100%|██████████████████████████████████████████| 82/82 [00:16<00:00,  4.85it/s]\n",
      "100%|████████████████████████████████████████| 380/380 [03:20<00:00,  1.89it/s]\n",
      "100%|██████████████████████████████████████████| 82/82 [00:17<00:00,  4.58it/s]\n",
      "100%|████████████████████████████████████████| 380/380 [03:25<00:00,  1.85it/s]\n",
      "100%|██████████████████████████████████████████| 82/82 [00:17<00:00,  4.57it/s]\n",
      "100%|████████████████████████████████████████| 380/380 [03:46<00:00,  1.68it/s]\n",
      "100%|██████████████████████████████████████████| 82/82 [00:18<00:00,  4.54it/s]\n",
      "100%|████████████████████████████████████████| 380/380 [03:26<00:00,  1.84it/s]\n",
      "100%|██████████████████████████████████████████| 82/82 [00:17<00:00,  4.65it/s]\n",
      "100%|████████████████████████████████████████| 380/380 [03:52<00:00,  1.64it/s]\n",
      "100%|██████████████████████████████████████████| 82/82 [00:18<00:00,  4.54it/s]\n",
      "100%|████████████████████████████████████████| 380/380 [03:50<00:00,  1.65it/s]\n",
      "100%|██████████████████████████████████████████| 82/82 [00:16<00:00,  4.94it/s]\n",
      "100%|████████████████████████████████████████| 380/380 [03:42<00:00,  1.71it/s]\n",
      "100%|██████████████████████████████████████████| 82/82 [00:17<00:00,  4.62it/s]\n",
      "100%|████████████████████████████████████████| 380/380 [03:22<00:00,  1.88it/s]\n",
      "100%|██████████████████████████████████████████| 82/82 [00:17<00:00,  4.78it/s]\n",
      "100%|████████████████████████████████████████| 380/380 [03:24<00:00,  1.86it/s]\n",
      "100%|██████████████████████████████████████████| 82/82 [00:16<00:00,  5.07it/s]\n",
      "100%|████████████████████████████████████████| 380/380 [03:24<00:00,  1.86it/s]\n",
      "100%|██████████████████████████████████████████| 82/82 [00:16<00:00,  4.94it/s]\n",
      "100%|████████████████████████████████████████| 380/380 [03:24<00:00,  1.86it/s]\n",
      "100%|██████████████████████████████████████████| 82/82 [00:17<00:00,  4.63it/s]\n",
      "100%|████████████████████████████████████████| 380/380 [03:22<00:00,  1.87it/s]\n",
      "100%|██████████████████████████████████████████| 82/82 [00:16<00:00,  5.11it/s]\n",
      "100%|████████████████████████████████████████| 380/380 [03:23<00:00,  1.87it/s]\n",
      "100%|██████████████████████████████████████████| 82/82 [00:15<00:00,  5.15it/s]\n",
      "100%|████████████████████████████████████████| 380/380 [03:23<00:00,  1.86it/s]\n",
      "100%|██████████████████████████████████████████| 82/82 [00:17<00:00,  4.64it/s]\n"
     ]
    },
    {
     "data": {
      "text/html": [
       "Waiting for W&B process to finish... <strong style=\"color:green\">(success).</strong>"
      ],
      "text/plain": [
       "<IPython.core.display.HTML object>"
      ]
     },
     "metadata": {},
     "output_type": "display_data"
    },
    {
     "data": {
      "text/html": [
       "<style>\n",
       "    table.wandb td:nth-child(1) { padding: 0 10px; text-align: left ; width: auto;} td:nth-child(2) {text-align: left ; width: 100%}\n",
       "    .wandb-row { display: flex; flex-direction: row; flex-wrap: wrap; justify-content: flex-start; width: 100% }\n",
       "    .wandb-col { display: flex; flex-direction: column; flex-basis: 100%; flex: 1; padding: 10px; }\n",
       "    </style>\n",
       "<div class=\"wandb-row\"><div class=\"wandb-col\"><h3>Run history:</h3><br/><table class=\"wandb\"><tr><td>accuracy</td><td>▁▆▇█▇▇██▇▇▇██▇▇▇▇▇▇▇</td></tr><tr><td>balanced_accuracy</td><td>▁▇██▇▇███████▇▇▇▇▇▇▆</td></tr><tr><td>f1_weighted</td><td>▁▆▇█▇███▇▇▇██▇▇▇█▇▇▇</td></tr><tr><td>precision</td><td>▁▅▇█▇▇█▇▇▇▆█▇▆▇▇▇▆▆▆</td></tr><tr><td>recall</td><td>▁▆▇█▇▇██▇▇▇██▇▇▇▇▇▇▇</td></tr></table><br/></div><div class=\"wandb-col\"><h3>Run summary:</h3><br/><table class=\"wandb\"><tr><td>accuracy</td><td>0.53077</td></tr><tr><td>balanced_accuracy</td><td>0.36096</td></tr><tr><td>f1_weighted</td><td>0.5221</td></tr><tr><td>precision</td><td>0.52147</td></tr><tr><td>recall</td><td>0.53077</td></tr></table><br/></div></div>"
      ],
      "text/plain": [
       "<IPython.core.display.HTML object>"
      ]
     },
     "metadata": {},
     "output_type": "display_data"
    },
    {
     "data": {
      "text/html": [
       " View run <strong style=\"color:#cdcd00\">88_cnn_mfcc_6_grey_81k_lr-0.001_convf1-64_convf2-64_convker-5_dr-0.0</strong> at: <a href='https://wandb.ai/totikos/model_cnn_mfcc_6_grey_81k-hpo/runs/qs6idd88' target=\"_blank\">https://wandb.ai/totikos/model_cnn_mfcc_6_grey_81k-hpo/runs/qs6idd88</a><br/> View job at <a href='https://wandb.ai/totikos/model_cnn_mfcc_6_grey_81k-hpo/jobs/QXJ0aWZhY3RDb2xsZWN0aW9uOjEyNzk0NTQwMw==/version_details/v3' target=\"_blank\">https://wandb.ai/totikos/model_cnn_mfcc_6_grey_81k-hpo/jobs/QXJ0aWZhY3RDb2xsZWN0aW9uOjEyNzk0NTQwMw==/version_details/v3</a><br/>Synced 5 W&B file(s), 0 media file(s), 0 artifact file(s) and 0 other file(s)"
      ],
      "text/plain": [
       "<IPython.core.display.HTML object>"
      ]
     },
     "metadata": {},
     "output_type": "display_data"
    },
    {
     "data": {
      "text/html": [
       "Find logs at: <code>C:\\Users\\nekta\\OneDrive\\Desktop\\botanic-emotion-recognition\\logs\\wandb\\run-20240107_031213-qs6idd88\\logs</code>"
      ],
      "text/plain": [
       "<IPython.core.display.HTML object>"
      ]
     },
     "metadata": {},
     "output_type": "display_data"
    },
    {
     "name": "stderr",
     "output_type": "stream",
     "text": [
      "[I 2024-01-07 04:27:52,585] Trial 88 finished with value: 0.3609589025352144 and parameters: {'conv_kernel_size': 5, 'dropout_rate': 0.0, 'out_channels_l1': 64, 'out_channels_l2': 64, 'lr': 0.001}. Best is trial 0 with value: 0.37873863016739945.\n"
     ]
    },
    {
     "name": "stdout",
     "output_type": "stream",
     "text": [
      "{'out_channels_l1': 64, 'out_channels_l2': 64, 'conv_kernel_size': 3, 'dropout_rate': 0.0}\n"
     ]
    },
    {
     "data": {
      "text/html": [
       "wandb version 0.16.1 is available!  To upgrade, please run:\n",
       " $ pip install wandb --upgrade"
      ],
      "text/plain": [
       "<IPython.core.display.HTML object>"
      ]
     },
     "metadata": {},
     "output_type": "display_data"
    },
    {
     "data": {
      "text/html": [
       "Tracking run with wandb version 0.15.12"
      ],
      "text/plain": [
       "<IPython.core.display.HTML object>"
      ]
     },
     "metadata": {},
     "output_type": "display_data"
    },
    {
     "data": {
      "text/html": [
       "Run data is saved locally in <code>C:\\Users\\nekta\\OneDrive\\Desktop\\botanic-emotion-recognition\\logs\\wandb\\run-20240107_042752-ab6bx1iu</code>"
      ],
      "text/plain": [
       "<IPython.core.display.HTML object>"
      ]
     },
     "metadata": {},
     "output_type": "display_data"
    },
    {
     "data": {
      "text/html": [
       "Syncing run <strong><a href='https://wandb.ai/totikos/model_cnn_mfcc_6_grey_81k-hpo/runs/ab6bx1iu' target=\"_blank\">89_cnn_mfcc_6_grey_81k_lr-0.0001_convf1-64_convf2-64_convker-3_dr-0.0</a></strong> to <a href='https://wandb.ai/totikos/model_cnn_mfcc_6_grey_81k-hpo' target=\"_blank\">Weights & Biases</a> (<a href='https://wandb.me/run' target=\"_blank\">docs</a>)<br/>"
      ],
      "text/plain": [
       "<IPython.core.display.HTML object>"
      ]
     },
     "metadata": {},
     "output_type": "display_data"
    },
    {
     "data": {
      "text/html": [
       " View project at <a href='https://wandb.ai/totikos/model_cnn_mfcc_6_grey_81k-hpo' target=\"_blank\">https://wandb.ai/totikos/model_cnn_mfcc_6_grey_81k-hpo</a>"
      ],
      "text/plain": [
       "<IPython.core.display.HTML object>"
      ]
     },
     "metadata": {},
     "output_type": "display_data"
    },
    {
     "data": {
      "text/html": [
       " View run at <a href='https://wandb.ai/totikos/model_cnn_mfcc_6_grey_81k-hpo/runs/ab6bx1iu' target=\"_blank\">https://wandb.ai/totikos/model_cnn_mfcc_6_grey_81k-hpo/runs/ab6bx1iu</a>"
      ],
      "text/plain": [
       "<IPython.core.display.HTML object>"
      ]
     },
     "metadata": {},
     "output_type": "display_data"
    },
    {
     "name": "stderr",
     "output_type": "stream",
     "text": [
      "100%|████████████████████████████████████████| 380/380 [02:38<00:00,  2.40it/s]\n",
      "100%|██████████████████████████████████████████| 82/82 [00:16<00:00,  5.05it/s]\n",
      "[I 2024-01-07 04:30:47,931] Trial 89 pruned. \n"
     ]
    },
    {
     "name": "stdout",
     "output_type": "stream",
     "text": [
      "{'out_channels_l1': 64, 'out_channels_l2': 32, 'conv_kernel_size': 3, 'dropout_rate': 0.0}\n"
     ]
    },
    {
     "data": {
      "text/html": [
       "Finishing last run (ID:ab6bx1iu) before initializing another..."
      ],
      "text/plain": [
       "<IPython.core.display.HTML object>"
      ]
     },
     "metadata": {},
     "output_type": "display_data"
    },
    {
     "data": {
      "text/html": [
       "Waiting for W&B process to finish... <strong style=\"color:green\">(success).</strong>"
      ],
      "text/plain": [
       "<IPython.core.display.HTML object>"
      ]
     },
     "metadata": {},
     "output_type": "display_data"
    },
    {
     "data": {
      "text/html": [
       " View run <strong style=\"color:#cdcd00\">89_cnn_mfcc_6_grey_81k_lr-0.0001_convf1-64_convf2-64_convker-3_dr-0.0</strong> at: <a href='https://wandb.ai/totikos/model_cnn_mfcc_6_grey_81k-hpo/runs/ab6bx1iu' target=\"_blank\">https://wandb.ai/totikos/model_cnn_mfcc_6_grey_81k-hpo/runs/ab6bx1iu</a><br/> View job at <a href='https://wandb.ai/totikos/model_cnn_mfcc_6_grey_81k-hpo/jobs/QXJ0aWZhY3RDb2xsZWN0aW9uOjEyNzk0NTQwMw==/version_details/v4' target=\"_blank\">https://wandb.ai/totikos/model_cnn_mfcc_6_grey_81k-hpo/jobs/QXJ0aWZhY3RDb2xsZWN0aW9uOjEyNzk0NTQwMw==/version_details/v4</a><br/>Synced 5 W&B file(s), 0 media file(s), 0 artifact file(s) and 0 other file(s)"
      ],
      "text/plain": [
       "<IPython.core.display.HTML object>"
      ]
     },
     "metadata": {},
     "output_type": "display_data"
    },
    {
     "data": {
      "text/html": [
       "Find logs at: <code>C:\\Users\\nekta\\OneDrive\\Desktop\\botanic-emotion-recognition\\logs\\wandb\\run-20240107_042752-ab6bx1iu\\logs</code>"
      ],
      "text/plain": [
       "<IPython.core.display.HTML object>"
      ]
     },
     "metadata": {},
     "output_type": "display_data"
    },
    {
     "data": {
      "text/html": [
       "Successfully finished last run (ID:ab6bx1iu). Initializing new run:<br/>"
      ],
      "text/plain": [
       "<IPython.core.display.HTML object>"
      ]
     },
     "metadata": {},
     "output_type": "display_data"
    },
    {
     "data": {
      "text/html": [
       "wandb version 0.16.1 is available!  To upgrade, please run:\n",
       " $ pip install wandb --upgrade"
      ],
      "text/plain": [
       "<IPython.core.display.HTML object>"
      ]
     },
     "metadata": {},
     "output_type": "display_data"
    },
    {
     "data": {
      "text/html": [
       "Tracking run with wandb version 0.15.12"
      ],
      "text/plain": [
       "<IPython.core.display.HTML object>"
      ]
     },
     "metadata": {},
     "output_type": "display_data"
    },
    {
     "data": {
      "text/html": [
       "Run data is saved locally in <code>C:\\Users\\nekta\\OneDrive\\Desktop\\botanic-emotion-recognition\\logs\\wandb\\run-20240107_043048-8yzt78vi</code>"
      ],
      "text/plain": [
       "<IPython.core.display.HTML object>"
      ]
     },
     "metadata": {},
     "output_type": "display_data"
    },
    {
     "data": {
      "text/html": [
       "Syncing run <strong><a href='https://wandb.ai/totikos/model_cnn_mfcc_6_grey_81k-hpo/runs/8yzt78vi' target=\"_blank\">90_cnn_mfcc_6_grey_81k_lr-0.0001_convf1-64_convf2-32_convker-3_dr-0.0</a></strong> to <a href='https://wandb.ai/totikos/model_cnn_mfcc_6_grey_81k-hpo' target=\"_blank\">Weights & Biases</a> (<a href='https://wandb.me/run' target=\"_blank\">docs</a>)<br/>"
      ],
      "text/plain": [
       "<IPython.core.display.HTML object>"
      ]
     },
     "metadata": {},
     "output_type": "display_data"
    },
    {
     "data": {
      "text/html": [
       " View project at <a href='https://wandb.ai/totikos/model_cnn_mfcc_6_grey_81k-hpo' target=\"_blank\">https://wandb.ai/totikos/model_cnn_mfcc_6_grey_81k-hpo</a>"
      ],
      "text/plain": [
       "<IPython.core.display.HTML object>"
      ]
     },
     "metadata": {},
     "output_type": "display_data"
    },
    {
     "data": {
      "text/html": [
       " View run at <a href='https://wandb.ai/totikos/model_cnn_mfcc_6_grey_81k-hpo/runs/8yzt78vi' target=\"_blank\">https://wandb.ai/totikos/model_cnn_mfcc_6_grey_81k-hpo/runs/8yzt78vi</a>"
      ],
      "text/plain": [
       "<IPython.core.display.HTML object>"
      ]
     },
     "metadata": {},
     "output_type": "display_data"
    },
    {
     "name": "stderr",
     "output_type": "stream",
     "text": [
      "100%|████████████████████████████████████████| 380/380 [02:02<00:00,  3.11it/s]\n",
      "100%|██████████████████████████████████████████| 82/82 [00:13<00:00,  6.24it/s]\n",
      "[I 2024-01-07 04:33:09,277] Trial 90 pruned. \n"
     ]
    },
    {
     "name": "stdout",
     "output_type": "stream",
     "text": [
      "{'out_channels_l1': 16, 'out_channels_l2': 64, 'conv_kernel_size': 5, 'dropout_rate': 0.0}\n"
     ]
    },
    {
     "data": {
      "text/html": [
       "Finishing last run (ID:8yzt78vi) before initializing another..."
      ],
      "text/plain": [
       "<IPython.core.display.HTML object>"
      ]
     },
     "metadata": {},
     "output_type": "display_data"
    },
    {
     "data": {
      "text/html": [
       "Waiting for W&B process to finish... <strong style=\"color:green\">(success).</strong>"
      ],
      "text/plain": [
       "<IPython.core.display.HTML object>"
      ]
     },
     "metadata": {},
     "output_type": "display_data"
    },
    {
     "data": {
      "text/html": [
       " View run <strong style=\"color:#cdcd00\">90_cnn_mfcc_6_grey_81k_lr-0.0001_convf1-64_convf2-32_convker-3_dr-0.0</strong> at: <a href='https://wandb.ai/totikos/model_cnn_mfcc_6_grey_81k-hpo/runs/8yzt78vi' target=\"_blank\">https://wandb.ai/totikos/model_cnn_mfcc_6_grey_81k-hpo/runs/8yzt78vi</a><br/> View job at <a href='https://wandb.ai/totikos/model_cnn_mfcc_6_grey_81k-hpo/jobs/QXJ0aWZhY3RDb2xsZWN0aW9uOjEyNzk0NTQwMw==/version_details/v4' target=\"_blank\">https://wandb.ai/totikos/model_cnn_mfcc_6_grey_81k-hpo/jobs/QXJ0aWZhY3RDb2xsZWN0aW9uOjEyNzk0NTQwMw==/version_details/v4</a><br/>Synced 5 W&B file(s), 0 media file(s), 0 artifact file(s) and 0 other file(s)"
      ],
      "text/plain": [
       "<IPython.core.display.HTML object>"
      ]
     },
     "metadata": {},
     "output_type": "display_data"
    },
    {
     "data": {
      "text/html": [
       "Find logs at: <code>C:\\Users\\nekta\\OneDrive\\Desktop\\botanic-emotion-recognition\\logs\\wandb\\run-20240107_043048-8yzt78vi\\logs</code>"
      ],
      "text/plain": [
       "<IPython.core.display.HTML object>"
      ]
     },
     "metadata": {},
     "output_type": "display_data"
    },
    {
     "data": {
      "text/html": [
       "Successfully finished last run (ID:8yzt78vi). Initializing new run:<br/>"
      ],
      "text/plain": [
       "<IPython.core.display.HTML object>"
      ]
     },
     "metadata": {},
     "output_type": "display_data"
    },
    {
     "data": {
      "text/html": [
       "wandb version 0.16.1 is available!  To upgrade, please run:\n",
       " $ pip install wandb --upgrade"
      ],
      "text/plain": [
       "<IPython.core.display.HTML object>"
      ]
     },
     "metadata": {},
     "output_type": "display_data"
    },
    {
     "data": {
      "text/html": [
       "Tracking run with wandb version 0.15.12"
      ],
      "text/plain": [
       "<IPython.core.display.HTML object>"
      ]
     },
     "metadata": {},
     "output_type": "display_data"
    },
    {
     "data": {
      "text/html": [
       "Run data is saved locally in <code>C:\\Users\\nekta\\OneDrive\\Desktop\\botanic-emotion-recognition\\logs\\wandb\\run-20240107_043309-tv9gzvzl</code>"
      ],
      "text/plain": [
       "<IPython.core.display.HTML object>"
      ]
     },
     "metadata": {},
     "output_type": "display_data"
    },
    {
     "data": {
      "text/html": [
       "Syncing run <strong><a href='https://wandb.ai/totikos/model_cnn_mfcc_6_grey_81k-hpo/runs/tv9gzvzl' target=\"_blank\">91_cnn_mfcc_6_grey_81k_lr-0.001_convf1-16_convf2-64_convker-5_dr-0.0</a></strong> to <a href='https://wandb.ai/totikos/model_cnn_mfcc_6_grey_81k-hpo' target=\"_blank\">Weights & Biases</a> (<a href='https://wandb.me/run' target=\"_blank\">docs</a>)<br/>"
      ],
      "text/plain": [
       "<IPython.core.display.HTML object>"
      ]
     },
     "metadata": {},
     "output_type": "display_data"
    },
    {
     "data": {
      "text/html": [
       " View project at <a href='https://wandb.ai/totikos/model_cnn_mfcc_6_grey_81k-hpo' target=\"_blank\">https://wandb.ai/totikos/model_cnn_mfcc_6_grey_81k-hpo</a>"
      ],
      "text/plain": [
       "<IPython.core.display.HTML object>"
      ]
     },
     "metadata": {},
     "output_type": "display_data"
    },
    {
     "data": {
      "text/html": [
       " View run at <a href='https://wandb.ai/totikos/model_cnn_mfcc_6_grey_81k-hpo/runs/tv9gzvzl' target=\"_blank\">https://wandb.ai/totikos/model_cnn_mfcc_6_grey_81k-hpo/runs/tv9gzvzl</a>"
      ],
      "text/plain": [
       "<IPython.core.display.HTML object>"
      ]
     },
     "metadata": {},
     "output_type": "display_data"
    },
    {
     "name": "stderr",
     "output_type": "stream",
     "text": [
      "100%|████████████████████████████████████████| 380/380 [01:10<00:00,  5.38it/s]\n",
      "100%|██████████████████████████████████████████| 82/82 [00:06<00:00, 12.56it/s]\n",
      "100%|████████████████████████████████████████| 380/380 [01:14<00:00,  5.08it/s]\n",
      "100%|██████████████████████████████████████████| 82/82 [00:05<00:00, 13.87it/s]\n",
      "100%|████████████████████████████████████████| 380/380 [01:18<00:00,  4.85it/s]\n",
      "100%|██████████████████████████████████████████| 82/82 [00:06<00:00, 12.59it/s]\n",
      "[I 2024-01-07 04:37:18,519] Trial 91 pruned. \n"
     ]
    },
    {
     "name": "stdout",
     "output_type": "stream",
     "text": [
      "{'out_channels_l1': 32, 'out_channels_l2': 64, 'conv_kernel_size': 5, 'dropout_rate': 0.2}\n"
     ]
    },
    {
     "data": {
      "text/html": [
       "Finishing last run (ID:tv9gzvzl) before initializing another..."
      ],
      "text/plain": [
       "<IPython.core.display.HTML object>"
      ]
     },
     "metadata": {},
     "output_type": "display_data"
    },
    {
     "data": {
      "text/html": [
       "Waiting for W&B process to finish... <strong style=\"color:green\">(success).</strong>"
      ],
      "text/plain": [
       "<IPython.core.display.HTML object>"
      ]
     },
     "metadata": {},
     "output_type": "display_data"
    },
    {
     "data": {
      "text/html": [
       "<style>\n",
       "    table.wandb td:nth-child(1) { padding: 0 10px; text-align: left ; width: auto;} td:nth-child(2) {text-align: left ; width: 100%}\n",
       "    .wandb-row { display: flex; flex-direction: row; flex-wrap: wrap; justify-content: flex-start; width: 100% }\n",
       "    .wandb-col { display: flex; flex-direction: column; flex-basis: 100%; flex: 1; padding: 10px; }\n",
       "    </style>\n",
       "<div class=\"wandb-row\"><div class=\"wandb-col\"><h3>Run history:</h3><br/><table class=\"wandb\"><tr><td>accuracy</td><td>▁█</td></tr><tr><td>balanced_accuracy</td><td>▁█</td></tr><tr><td>f1_weighted</td><td>▁█</td></tr><tr><td>precision</td><td>▁█</td></tr><tr><td>recall</td><td>▁█</td></tr></table><br/></div><div class=\"wandb-col\"><h3>Run summary:</h3><br/><table class=\"wandb\"><tr><td>accuracy</td><td>0.51731</td></tr><tr><td>balanced_accuracy</td><td>0.3643</td></tr><tr><td>f1_weighted</td><td>0.50454</td></tr><tr><td>precision</td><td>0.49358</td></tr><tr><td>recall</td><td>0.51731</td></tr></table><br/></div></div>"
      ],
      "text/plain": [
       "<IPython.core.display.HTML object>"
      ]
     },
     "metadata": {},
     "output_type": "display_data"
    },
    {
     "data": {
      "text/html": [
       " View run <strong style=\"color:#cdcd00\">91_cnn_mfcc_6_grey_81k_lr-0.001_convf1-16_convf2-64_convker-5_dr-0.0</strong> at: <a href='https://wandb.ai/totikos/model_cnn_mfcc_6_grey_81k-hpo/runs/tv9gzvzl' target=\"_blank\">https://wandb.ai/totikos/model_cnn_mfcc_6_grey_81k-hpo/runs/tv9gzvzl</a><br/> View job at <a href='https://wandb.ai/totikos/model_cnn_mfcc_6_grey_81k-hpo/jobs/QXJ0aWZhY3RDb2xsZWN0aW9uOjEyNzk0NTQwMw==/version_details/v3' target=\"_blank\">https://wandb.ai/totikos/model_cnn_mfcc_6_grey_81k-hpo/jobs/QXJ0aWZhY3RDb2xsZWN0aW9uOjEyNzk0NTQwMw==/version_details/v3</a><br/>Synced 5 W&B file(s), 0 media file(s), 0 artifact file(s) and 0 other file(s)"
      ],
      "text/plain": [
       "<IPython.core.display.HTML object>"
      ]
     },
     "metadata": {},
     "output_type": "display_data"
    },
    {
     "data": {
      "text/html": [
       "Find logs at: <code>C:\\Users\\nekta\\OneDrive\\Desktop\\botanic-emotion-recognition\\logs\\wandb\\run-20240107_043309-tv9gzvzl\\logs</code>"
      ],
      "text/plain": [
       "<IPython.core.display.HTML object>"
      ]
     },
     "metadata": {},
     "output_type": "display_data"
    },
    {
     "data": {
      "text/html": [
       "Successfully finished last run (ID:tv9gzvzl). Initializing new run:<br/>"
      ],
      "text/plain": [
       "<IPython.core.display.HTML object>"
      ]
     },
     "metadata": {},
     "output_type": "display_data"
    },
    {
     "data": {
      "text/html": [
       "wandb version 0.16.1 is available!  To upgrade, please run:\n",
       " $ pip install wandb --upgrade"
      ],
      "text/plain": [
       "<IPython.core.display.HTML object>"
      ]
     },
     "metadata": {},
     "output_type": "display_data"
    },
    {
     "data": {
      "text/html": [
       "Tracking run with wandb version 0.15.12"
      ],
      "text/plain": [
       "<IPython.core.display.HTML object>"
      ]
     },
     "metadata": {},
     "output_type": "display_data"
    },
    {
     "data": {
      "text/html": [
       "Run data is saved locally in <code>C:\\Users\\nekta\\OneDrive\\Desktop\\botanic-emotion-recognition\\logs\\wandb\\run-20240107_043718-iwmuszch</code>"
      ],
      "text/plain": [
       "<IPython.core.display.HTML object>"
      ]
     },
     "metadata": {},
     "output_type": "display_data"
    },
    {
     "data": {
      "text/html": [
       "Syncing run <strong><a href='https://wandb.ai/totikos/model_cnn_mfcc_6_grey_81k-hpo/runs/iwmuszch' target=\"_blank\">92_cnn_mfcc_6_grey_81k_lr-0.001_convf1-32_convf2-64_convker-5_dr-0.2</a></strong> to <a href='https://wandb.ai/totikos/model_cnn_mfcc_6_grey_81k-hpo' target=\"_blank\">Weights & Biases</a> (<a href='https://wandb.me/run' target=\"_blank\">docs</a>)<br/>"
      ],
      "text/plain": [
       "<IPython.core.display.HTML object>"
      ]
     },
     "metadata": {},
     "output_type": "display_data"
    },
    {
     "data": {
      "text/html": [
       " View project at <a href='https://wandb.ai/totikos/model_cnn_mfcc_6_grey_81k-hpo' target=\"_blank\">https://wandb.ai/totikos/model_cnn_mfcc_6_grey_81k-hpo</a>"
      ],
      "text/plain": [
       "<IPython.core.display.HTML object>"
      ]
     },
     "metadata": {},
     "output_type": "display_data"
    },
    {
     "data": {
      "text/html": [
       " View run at <a href='https://wandb.ai/totikos/model_cnn_mfcc_6_grey_81k-hpo/runs/iwmuszch' target=\"_blank\">https://wandb.ai/totikos/model_cnn_mfcc_6_grey_81k-hpo/runs/iwmuszch</a>"
      ],
      "text/plain": [
       "<IPython.core.display.HTML object>"
      ]
     },
     "metadata": {},
     "output_type": "display_data"
    },
    {
     "name": "stderr",
     "output_type": "stream",
     "text": [
      "100%|████████████████████████████████████████| 380/380 [01:58<00:00,  3.20it/s]\n",
      "100%|██████████████████████████████████████████| 82/82 [00:10<00:00,  7.88it/s]\n",
      "100%|████████████████████████████████████████| 380/380 [02:02<00:00,  3.09it/s]\n",
      "100%|██████████████████████████████████████████| 82/82 [00:10<00:00,  7.68it/s]\n",
      "100%|████████████████████████████████████████| 380/380 [02:09<00:00,  2.94it/s]\n",
      "100%|██████████████████████████████████████████| 82/82 [00:10<00:00,  7.74it/s]\n",
      "100%|████████████████████████████████████████| 380/380 [02:09<00:00,  2.94it/s]\n",
      "100%|██████████████████████████████████████████| 82/82 [00:09<00:00,  8.45it/s]\n",
      "100%|████████████████████████████████████████| 380/380 [02:07<00:00,  2.98it/s]\n",
      "100%|██████████████████████████████████████████| 82/82 [00:09<00:00,  8.66it/s]\n",
      "100%|████████████████████████████████████████| 380/380 [02:09<00:00,  2.94it/s]\n",
      "100%|██████████████████████████████████████████| 82/82 [00:10<00:00,  7.85it/s]\n",
      "100%|████████████████████████████████████████| 380/380 [02:09<00:00,  2.94it/s]\n",
      "100%|██████████████████████████████████████████| 82/82 [00:10<00:00,  7.97it/s]\n",
      "100%|████████████████████████████████████████| 380/380 [02:08<00:00,  2.97it/s]\n",
      "100%|██████████████████████████████████████████| 82/82 [00:10<00:00,  7.70it/s]\n",
      "100%|████████████████████████████████████████| 380/380 [02:08<00:00,  2.95it/s]\n",
      "100%|██████████████████████████████████████████| 82/82 [00:10<00:00,  7.80it/s]\n",
      "100%|████████████████████████████████████████| 380/380 [02:10<00:00,  2.91it/s]\n",
      "100%|██████████████████████████████████████████| 82/82 [00:10<00:00,  7.89it/s]\n",
      "100%|████████████████████████████████████████| 380/380 [02:08<00:00,  2.95it/s]\n",
      "100%|██████████████████████████████████████████| 82/82 [00:09<00:00,  8.38it/s]\n",
      "100%|████████████████████████████████████████| 380/380 [02:08<00:00,  2.96it/s]\n",
      "100%|██████████████████████████████████████████| 82/82 [00:10<00:00,  7.94it/s]\n",
      "100%|████████████████████████████████████████| 380/380 [02:08<00:00,  2.95it/s]\n",
      "100%|██████████████████████████████████████████| 82/82 [00:10<00:00,  7.89it/s]\n",
      "100%|████████████████████████████████████████| 380/380 [02:09<00:00,  2.94it/s]\n",
      "100%|██████████████████████████████████████████| 82/82 [00:09<00:00,  8.52it/s]\n",
      "100%|████████████████████████████████████████| 380/380 [02:09<00:00,  2.94it/s]\n",
      "100%|██████████████████████████████████████████| 82/82 [00:10<00:00,  7.93it/s]\n",
      "100%|████████████████████████████████████████| 380/380 [02:08<00:00,  2.97it/s]\n",
      "100%|██████████████████████████████████████████| 82/82 [00:10<00:00,  7.71it/s]\n",
      "100%|████████████████████████████████████████| 380/380 [02:07<00:00,  2.97it/s]\n",
      "100%|██████████████████████████████████████████| 82/82 [00:10<00:00,  7.87it/s]\n",
      "100%|████████████████████████████████████████| 380/380 [02:09<00:00,  2.93it/s]\n",
      "100%|██████████████████████████████████████████| 82/82 [00:10<00:00,  7.84it/s]\n",
      "100%|████████████████████████████████████████| 380/380 [02:09<00:00,  2.94it/s]\n",
      "100%|██████████████████████████████████████████| 82/82 [00:10<00:00,  7.79it/s]\n",
      "100%|████████████████████████████████████████| 380/380 [02:08<00:00,  2.96it/s]\n",
      "100%|██████████████████████████████████████████| 82/82 [00:09<00:00,  8.78it/s]\n"
     ]
    },
    {
     "data": {
      "text/html": [
       "Waiting for W&B process to finish... <strong style=\"color:green\">(success).</strong>"
      ],
      "text/plain": [
       "<IPython.core.display.HTML object>"
      ]
     },
     "metadata": {},
     "output_type": "display_data"
    },
    {
     "data": {
      "text/html": [
       "<style>\n",
       "    table.wandb td:nth-child(1) { padding: 0 10px; text-align: left ; width: auto;} td:nth-child(2) {text-align: left ; width: 100%}\n",
       "    .wandb-row { display: flex; flex-direction: row; flex-wrap: wrap; justify-content: flex-start; width: 100% }\n",
       "    .wandb-col { display: flex; flex-direction: column; flex-basis: 100%; flex: 1; padding: 10px; }\n",
       "    </style>\n",
       "<div class=\"wandb-row\"><div class=\"wandb-col\"><h3>Run history:</h3><br/><table class=\"wandb\"><tr><td>accuracy</td><td>▁▇▅▇▇██▇█▇▇██▇█▇█▇▆▅</td></tr><tr><td>balanced_accuracy</td><td>▁▇▅▇▇▇█▇▇▇▆█▇▆███▇█▇</td></tr><tr><td>f1_weighted</td><td>▁▇▆▇▇████▇▇▇▇▆█▇█▇▆▅</td></tr><tr><td>precision</td><td>▁▆▅▆▇█▇▇█▇█▇▇▆▇▇▇▆▆▄</td></tr><tr><td>recall</td><td>▁▇▅▇▇██▇█▇▇██▇█▇█▇▆▅</td></tr></table><br/></div><div class=\"wandb-col\"><h3>Run summary:</h3><br/><table class=\"wandb\"><tr><td>accuracy</td><td>0.51885</td></tr><tr><td>balanced_accuracy</td><td>0.3701</td></tr><tr><td>f1_weighted</td><td>0.50494</td></tr><tr><td>precision</td><td>0.49993</td></tr><tr><td>recall</td><td>0.51885</td></tr></table><br/></div></div>"
      ],
      "text/plain": [
       "<IPython.core.display.HTML object>"
      ]
     },
     "metadata": {},
     "output_type": "display_data"
    },
    {
     "data": {
      "text/html": [
       " View run <strong style=\"color:#cdcd00\">92_cnn_mfcc_6_grey_81k_lr-0.001_convf1-32_convf2-64_convker-5_dr-0.2</strong> at: <a href='https://wandb.ai/totikos/model_cnn_mfcc_6_grey_81k-hpo/runs/iwmuszch' target=\"_blank\">https://wandb.ai/totikos/model_cnn_mfcc_6_grey_81k-hpo/runs/iwmuszch</a><br/> View job at <a href='https://wandb.ai/totikos/model_cnn_mfcc_6_grey_81k-hpo/jobs/QXJ0aWZhY3RDb2xsZWN0aW9uOjEyNzk0NTQwMw==/version_details/v3' target=\"_blank\">https://wandb.ai/totikos/model_cnn_mfcc_6_grey_81k-hpo/jobs/QXJ0aWZhY3RDb2xsZWN0aW9uOjEyNzk0NTQwMw==/version_details/v3</a><br/>Synced 5 W&B file(s), 0 media file(s), 0 artifact file(s) and 0 other file(s)"
      ],
      "text/plain": [
       "<IPython.core.display.HTML object>"
      ]
     },
     "metadata": {},
     "output_type": "display_data"
    },
    {
     "data": {
      "text/html": [
       "Find logs at: <code>C:\\Users\\nekta\\OneDrive\\Desktop\\botanic-emotion-recognition\\logs\\wandb\\run-20240107_043718-iwmuszch\\logs</code>"
      ],
      "text/plain": [
       "<IPython.core.display.HTML object>"
      ]
     },
     "metadata": {},
     "output_type": "display_data"
    },
    {
     "name": "stderr",
     "output_type": "stream",
     "text": [
      "[I 2024-01-07 05:23:36,293] Trial 92 finished with value: 0.3701021932210049 and parameters: {'conv_kernel_size': 5, 'dropout_rate': 0.2, 'out_channels_l1': 32, 'out_channels_l2': 64, 'lr': 0.001}. Best is trial 0 with value: 0.37873863016739945.\n"
     ]
    },
    {
     "name": "stdout",
     "output_type": "stream",
     "text": [
      "{'out_channels_l1': 32, 'out_channels_l2': 64, 'conv_kernel_size': 3, 'dropout_rate': 0.2}\n"
     ]
    },
    {
     "data": {
      "text/html": [
       "wandb version 0.16.1 is available!  To upgrade, please run:\n",
       " $ pip install wandb --upgrade"
      ],
      "text/plain": [
       "<IPython.core.display.HTML object>"
      ]
     },
     "metadata": {},
     "output_type": "display_data"
    },
    {
     "data": {
      "text/html": [
       "Tracking run with wandb version 0.15.12"
      ],
      "text/plain": [
       "<IPython.core.display.HTML object>"
      ]
     },
     "metadata": {},
     "output_type": "display_data"
    },
    {
     "data": {
      "text/html": [
       "Run data is saved locally in <code>C:\\Users\\nekta\\OneDrive\\Desktop\\botanic-emotion-recognition\\logs\\wandb\\run-20240107_052336-f6dmxdtq</code>"
      ],
      "text/plain": [
       "<IPython.core.display.HTML object>"
      ]
     },
     "metadata": {},
     "output_type": "display_data"
    },
    {
     "data": {
      "text/html": [
       "Syncing run <strong><a href='https://wandb.ai/totikos/model_cnn_mfcc_6_grey_81k-hpo/runs/f6dmxdtq' target=\"_blank\">93_cnn_mfcc_6_grey_81k_lr-0.001_convf1-32_convf2-64_convker-3_dr-0.2</a></strong> to <a href='https://wandb.ai/totikos/model_cnn_mfcc_6_grey_81k-hpo' target=\"_blank\">Weights & Biases</a> (<a href='https://wandb.me/run' target=\"_blank\">docs</a>)<br/>"
      ],
      "text/plain": [
       "<IPython.core.display.HTML object>"
      ]
     },
     "metadata": {},
     "output_type": "display_data"
    },
    {
     "data": {
      "text/html": [
       " View project at <a href='https://wandb.ai/totikos/model_cnn_mfcc_6_grey_81k-hpo' target=\"_blank\">https://wandb.ai/totikos/model_cnn_mfcc_6_grey_81k-hpo</a>"
      ],
      "text/plain": [
       "<IPython.core.display.HTML object>"
      ]
     },
     "metadata": {},
     "output_type": "display_data"
    },
    {
     "data": {
      "text/html": [
       " View run at <a href='https://wandb.ai/totikos/model_cnn_mfcc_6_grey_81k-hpo/runs/f6dmxdtq' target=\"_blank\">https://wandb.ai/totikos/model_cnn_mfcc_6_grey_81k-hpo/runs/f6dmxdtq</a>"
      ],
      "text/plain": [
       "<IPython.core.display.HTML object>"
      ]
     },
     "metadata": {},
     "output_type": "display_data"
    },
    {
     "name": "stderr",
     "output_type": "stream",
     "text": [
      "100%|████████████████████████████████████████| 380/380 [01:38<00:00,  3.87it/s]\n",
      "100%|██████████████████████████████████████████| 82/82 [00:09<00:00,  8.97it/s]\n",
      "100%|████████████████████████████████████████| 380/380 [01:38<00:00,  3.86it/s]\n",
      "100%|██████████████████████████████████████████| 82/82 [00:09<00:00,  8.75it/s]\n",
      "[I 2024-01-07 05:27:12,942] Trial 93 pruned. \n"
     ]
    },
    {
     "name": "stdout",
     "output_type": "stream",
     "text": [
      "{'out_channels_l1': 64, 'out_channels_l2': 64, 'conv_kernel_size': 3, 'dropout_rate': 0.1}\n"
     ]
    },
    {
     "data": {
      "text/html": [
       "Finishing last run (ID:f6dmxdtq) before initializing another..."
      ],
      "text/plain": [
       "<IPython.core.display.HTML object>"
      ]
     },
     "metadata": {},
     "output_type": "display_data"
    },
    {
     "data": {
      "text/html": [
       "Waiting for W&B process to finish... <strong style=\"color:green\">(success).</strong>"
      ],
      "text/plain": [
       "<IPython.core.display.HTML object>"
      ]
     },
     "metadata": {},
     "output_type": "display_data"
    },
    {
     "data": {
      "text/html": [
       "<style>\n",
       "    table.wandb td:nth-child(1) { padding: 0 10px; text-align: left ; width: auto;} td:nth-child(2) {text-align: left ; width: 100%}\n",
       "    .wandb-row { display: flex; flex-direction: row; flex-wrap: wrap; justify-content: flex-start; width: 100% }\n",
       "    .wandb-col { display: flex; flex-direction: column; flex-basis: 100%; flex: 1; padding: 10px; }\n",
       "    </style>\n",
       "<div class=\"wandb-row\"><div class=\"wandb-col\"><h3>Run history:</h3><br/><table class=\"wandb\"><tr><td>accuracy</td><td>▁</td></tr><tr><td>balanced_accuracy</td><td>▁</td></tr><tr><td>f1_weighted</td><td>▁</td></tr><tr><td>precision</td><td>▁</td></tr><tr><td>recall</td><td>▁</td></tr></table><br/></div><div class=\"wandb-col\"><h3>Run summary:</h3><br/><table class=\"wandb\"><tr><td>accuracy</td><td>0.49615</td></tr><tr><td>balanced_accuracy</td><td>0.34792</td></tr><tr><td>f1_weighted</td><td>0.4617</td></tr><tr><td>precision</td><td>0.467</td></tr><tr><td>recall</td><td>0.49615</td></tr></table><br/></div></div>"
      ],
      "text/plain": [
       "<IPython.core.display.HTML object>"
      ]
     },
     "metadata": {},
     "output_type": "display_data"
    },
    {
     "data": {
      "text/html": [
       " View run <strong style=\"color:#cdcd00\">93_cnn_mfcc_6_grey_81k_lr-0.001_convf1-32_convf2-64_convker-3_dr-0.2</strong> at: <a href='https://wandb.ai/totikos/model_cnn_mfcc_6_grey_81k-hpo/runs/f6dmxdtq' target=\"_blank\">https://wandb.ai/totikos/model_cnn_mfcc_6_grey_81k-hpo/runs/f6dmxdtq</a><br/> View job at <a href='https://wandb.ai/totikos/model_cnn_mfcc_6_grey_81k-hpo/jobs/QXJ0aWZhY3RDb2xsZWN0aW9uOjEyNzk0NTQwMw==/version_details/v3' target=\"_blank\">https://wandb.ai/totikos/model_cnn_mfcc_6_grey_81k-hpo/jobs/QXJ0aWZhY3RDb2xsZWN0aW9uOjEyNzk0NTQwMw==/version_details/v3</a><br/>Synced 5 W&B file(s), 0 media file(s), 0 artifact file(s) and 0 other file(s)"
      ],
      "text/plain": [
       "<IPython.core.display.HTML object>"
      ]
     },
     "metadata": {},
     "output_type": "display_data"
    },
    {
     "data": {
      "text/html": [
       "Find logs at: <code>C:\\Users\\nekta\\OneDrive\\Desktop\\botanic-emotion-recognition\\logs\\wandb\\run-20240107_052336-f6dmxdtq\\logs</code>"
      ],
      "text/plain": [
       "<IPython.core.display.HTML object>"
      ]
     },
     "metadata": {},
     "output_type": "display_data"
    },
    {
     "data": {
      "text/html": [
       "Successfully finished last run (ID:f6dmxdtq). Initializing new run:<br/>"
      ],
      "text/plain": [
       "<IPython.core.display.HTML object>"
      ]
     },
     "metadata": {},
     "output_type": "display_data"
    },
    {
     "data": {
      "text/html": [
       "wandb version 0.16.1 is available!  To upgrade, please run:\n",
       " $ pip install wandb --upgrade"
      ],
      "text/plain": [
       "<IPython.core.display.HTML object>"
      ]
     },
     "metadata": {},
     "output_type": "display_data"
    },
    {
     "data": {
      "text/html": [
       "Tracking run with wandb version 0.15.12"
      ],
      "text/plain": [
       "<IPython.core.display.HTML object>"
      ]
     },
     "metadata": {},
     "output_type": "display_data"
    },
    {
     "data": {
      "text/html": [
       "Run data is saved locally in <code>C:\\Users\\nekta\\OneDrive\\Desktop\\botanic-emotion-recognition\\logs\\wandb\\run-20240107_052713-dbvnst9o</code>"
      ],
      "text/plain": [
       "<IPython.core.display.HTML object>"
      ]
     },
     "metadata": {},
     "output_type": "display_data"
    },
    {
     "data": {
      "text/html": [
       "Syncing run <strong><a href='https://wandb.ai/totikos/model_cnn_mfcc_6_grey_81k-hpo/runs/dbvnst9o' target=\"_blank\">94_cnn_mfcc_6_grey_81k_lr-0.001_convf1-64_convf2-64_convker-3_dr-0.1</a></strong> to <a href='https://wandb.ai/totikos/model_cnn_mfcc_6_grey_81k-hpo' target=\"_blank\">Weights & Biases</a> (<a href='https://wandb.me/run' target=\"_blank\">docs</a>)<br/>"
      ],
      "text/plain": [
       "<IPython.core.display.HTML object>"
      ]
     },
     "metadata": {},
     "output_type": "display_data"
    },
    {
     "data": {
      "text/html": [
       " View project at <a href='https://wandb.ai/totikos/model_cnn_mfcc_6_grey_81k-hpo' target=\"_blank\">https://wandb.ai/totikos/model_cnn_mfcc_6_grey_81k-hpo</a>"
      ],
      "text/plain": [
       "<IPython.core.display.HTML object>"
      ]
     },
     "metadata": {},
     "output_type": "display_data"
    },
    {
     "data": {
      "text/html": [
       " View run at <a href='https://wandb.ai/totikos/model_cnn_mfcc_6_grey_81k-hpo/runs/dbvnst9o' target=\"_blank\">https://wandb.ai/totikos/model_cnn_mfcc_6_grey_81k-hpo/runs/dbvnst9o</a>"
      ],
      "text/plain": [
       "<IPython.core.display.HTML object>"
      ]
     },
     "metadata": {},
     "output_type": "display_data"
    },
    {
     "name": "stderr",
     "output_type": "stream",
     "text": [
      "100%|████████████████████████████████████████| 380/380 [02:49<00:00,  2.24it/s]\n",
      "100%|██████████████████████████████████████████| 82/82 [00:16<00:00,  5.08it/s]\n",
      "[I 2024-01-07 05:30:24,117] Trial 94 pruned. \n"
     ]
    },
    {
     "name": "stdout",
     "output_type": "stream",
     "text": [
      "{'out_channels_l1': 64, 'out_channels_l2': 64, 'conv_kernel_size': 3, 'dropout_rate': 0.1}\n"
     ]
    },
    {
     "data": {
      "text/html": [
       "Finishing last run (ID:dbvnst9o) before initializing another..."
      ],
      "text/plain": [
       "<IPython.core.display.HTML object>"
      ]
     },
     "metadata": {},
     "output_type": "display_data"
    },
    {
     "data": {
      "text/html": [
       "Waiting for W&B process to finish... <strong style=\"color:green\">(success).</strong>"
      ],
      "text/plain": [
       "<IPython.core.display.HTML object>"
      ]
     },
     "metadata": {},
     "output_type": "display_data"
    },
    {
     "data": {
      "text/html": [
       " View run <strong style=\"color:#cdcd00\">94_cnn_mfcc_6_grey_81k_lr-0.001_convf1-64_convf2-64_convker-3_dr-0.1</strong> at: <a href='https://wandb.ai/totikos/model_cnn_mfcc_6_grey_81k-hpo/runs/dbvnst9o' target=\"_blank\">https://wandb.ai/totikos/model_cnn_mfcc_6_grey_81k-hpo/runs/dbvnst9o</a><br/> View job at <a href='https://wandb.ai/totikos/model_cnn_mfcc_6_grey_81k-hpo/jobs/QXJ0aWZhY3RDb2xsZWN0aW9uOjEyNzk0NTQwMw==/version_details/v4' target=\"_blank\">https://wandb.ai/totikos/model_cnn_mfcc_6_grey_81k-hpo/jobs/QXJ0aWZhY3RDb2xsZWN0aW9uOjEyNzk0NTQwMw==/version_details/v4</a><br/>Synced 5 W&B file(s), 0 media file(s), 0 artifact file(s) and 0 other file(s)"
      ],
      "text/plain": [
       "<IPython.core.display.HTML object>"
      ]
     },
     "metadata": {},
     "output_type": "display_data"
    },
    {
     "data": {
      "text/html": [
       "Find logs at: <code>C:\\Users\\nekta\\OneDrive\\Desktop\\botanic-emotion-recognition\\logs\\wandb\\run-20240107_052713-dbvnst9o\\logs</code>"
      ],
      "text/plain": [
       "<IPython.core.display.HTML object>"
      ]
     },
     "metadata": {},
     "output_type": "display_data"
    },
    {
     "data": {
      "text/html": [
       "Successfully finished last run (ID:dbvnst9o). Initializing new run:<br/>"
      ],
      "text/plain": [
       "<IPython.core.display.HTML object>"
      ]
     },
     "metadata": {},
     "output_type": "display_data"
    },
    {
     "data": {
      "text/html": [
       "wandb version 0.16.1 is available!  To upgrade, please run:\n",
       " $ pip install wandb --upgrade"
      ],
      "text/plain": [
       "<IPython.core.display.HTML object>"
      ]
     },
     "metadata": {},
     "output_type": "display_data"
    },
    {
     "data": {
      "text/html": [
       "Tracking run with wandb version 0.15.12"
      ],
      "text/plain": [
       "<IPython.core.display.HTML object>"
      ]
     },
     "metadata": {},
     "output_type": "display_data"
    },
    {
     "data": {
      "text/html": [
       "Run data is saved locally in <code>C:\\Users\\nekta\\OneDrive\\Desktop\\botanic-emotion-recognition\\logs\\wandb\\run-20240107_053024-yk920431</code>"
      ],
      "text/plain": [
       "<IPython.core.display.HTML object>"
      ]
     },
     "metadata": {},
     "output_type": "display_data"
    },
    {
     "data": {
      "text/html": [
       "Syncing run <strong><a href='https://wandb.ai/totikos/model_cnn_mfcc_6_grey_81k-hpo/runs/yk920431' target=\"_blank\">95_cnn_mfcc_6_grey_81k_lr-0.0001_convf1-64_convf2-64_convker-3_dr-0.1</a></strong> to <a href='https://wandb.ai/totikos/model_cnn_mfcc_6_grey_81k-hpo' target=\"_blank\">Weights & Biases</a> (<a href='https://wandb.me/run' target=\"_blank\">docs</a>)<br/>"
      ],
      "text/plain": [
       "<IPython.core.display.HTML object>"
      ]
     },
     "metadata": {},
     "output_type": "display_data"
    },
    {
     "data": {
      "text/html": [
       " View project at <a href='https://wandb.ai/totikos/model_cnn_mfcc_6_grey_81k-hpo' target=\"_blank\">https://wandb.ai/totikos/model_cnn_mfcc_6_grey_81k-hpo</a>"
      ],
      "text/plain": [
       "<IPython.core.display.HTML object>"
      ]
     },
     "metadata": {},
     "output_type": "display_data"
    },
    {
     "data": {
      "text/html": [
       " View run at <a href='https://wandb.ai/totikos/model_cnn_mfcc_6_grey_81k-hpo/runs/yk920431' target=\"_blank\">https://wandb.ai/totikos/model_cnn_mfcc_6_grey_81k-hpo/runs/yk920431</a>"
      ],
      "text/plain": [
       "<IPython.core.display.HTML object>"
      ]
     },
     "metadata": {},
     "output_type": "display_data"
    },
    {
     "name": "stderr",
     "output_type": "stream",
     "text": [
      "100%|████████████████████████████████████████| 380/380 [02:45<00:00,  2.29it/s]\n",
      "100%|██████████████████████████████████████████| 82/82 [00:14<00:00,  5.77it/s]\n",
      "[I 2024-01-07 05:33:31,795] Trial 95 pruned. \n"
     ]
    },
    {
     "name": "stdout",
     "output_type": "stream",
     "text": [
      "{'out_channels_l1': 64, 'out_channels_l2': 32, 'conv_kernel_size': 3, 'dropout_rate': 0.1}\n"
     ]
    },
    {
     "data": {
      "text/html": [
       "Finishing last run (ID:yk920431) before initializing another..."
      ],
      "text/plain": [
       "<IPython.core.display.HTML object>"
      ]
     },
     "metadata": {},
     "output_type": "display_data"
    },
    {
     "data": {
      "text/html": [
       "Waiting for W&B process to finish... <strong style=\"color:green\">(success).</strong>"
      ],
      "text/plain": [
       "<IPython.core.display.HTML object>"
      ]
     },
     "metadata": {},
     "output_type": "display_data"
    },
    {
     "data": {
      "text/html": [
       " View run <strong style=\"color:#cdcd00\">95_cnn_mfcc_6_grey_81k_lr-0.0001_convf1-64_convf2-64_convker-3_dr-0.1</strong> at: <a href='https://wandb.ai/totikos/model_cnn_mfcc_6_grey_81k-hpo/runs/yk920431' target=\"_blank\">https://wandb.ai/totikos/model_cnn_mfcc_6_grey_81k-hpo/runs/yk920431</a><br/> View job at <a href='https://wandb.ai/totikos/model_cnn_mfcc_6_grey_81k-hpo/jobs/QXJ0aWZhY3RDb2xsZWN0aW9uOjEyNzk0NTQwMw==/version_details/v4' target=\"_blank\">https://wandb.ai/totikos/model_cnn_mfcc_6_grey_81k-hpo/jobs/QXJ0aWZhY3RDb2xsZWN0aW9uOjEyNzk0NTQwMw==/version_details/v4</a><br/>Synced 5 W&B file(s), 0 media file(s), 0 artifact file(s) and 0 other file(s)"
      ],
      "text/plain": [
       "<IPython.core.display.HTML object>"
      ]
     },
     "metadata": {},
     "output_type": "display_data"
    },
    {
     "data": {
      "text/html": [
       "Find logs at: <code>C:\\Users\\nekta\\OneDrive\\Desktop\\botanic-emotion-recognition\\logs\\wandb\\run-20240107_053024-yk920431\\logs</code>"
      ],
      "text/plain": [
       "<IPython.core.display.HTML object>"
      ]
     },
     "metadata": {},
     "output_type": "display_data"
    },
    {
     "data": {
      "text/html": [
       "Successfully finished last run (ID:yk920431). Initializing new run:<br/>"
      ],
      "text/plain": [
       "<IPython.core.display.HTML object>"
      ]
     },
     "metadata": {},
     "output_type": "display_data"
    },
    {
     "data": {
      "text/html": [
       "wandb version 0.16.1 is available!  To upgrade, please run:\n",
       " $ pip install wandb --upgrade"
      ],
      "text/plain": [
       "<IPython.core.display.HTML object>"
      ]
     },
     "metadata": {},
     "output_type": "display_data"
    },
    {
     "data": {
      "text/html": [
       "Tracking run with wandb version 0.15.12"
      ],
      "text/plain": [
       "<IPython.core.display.HTML object>"
      ]
     },
     "metadata": {},
     "output_type": "display_data"
    },
    {
     "data": {
      "text/html": [
       "Run data is saved locally in <code>C:\\Users\\nekta\\OneDrive\\Desktop\\botanic-emotion-recognition\\logs\\wandb\\run-20240107_053331-ctkwvd76</code>"
      ],
      "text/plain": [
       "<IPython.core.display.HTML object>"
      ]
     },
     "metadata": {},
     "output_type": "display_data"
    },
    {
     "data": {
      "text/html": [
       "Syncing run <strong><a href='https://wandb.ai/totikos/model_cnn_mfcc_6_grey_81k-hpo/runs/ctkwvd76' target=\"_blank\">96_cnn_mfcc_6_grey_81k_lr-0.01_convf1-64_convf2-32_convker-3_dr-0.1</a></strong> to <a href='https://wandb.ai/totikos/model_cnn_mfcc_6_grey_81k-hpo' target=\"_blank\">Weights & Biases</a> (<a href='https://wandb.me/run' target=\"_blank\">docs</a>)<br/>"
      ],
      "text/plain": [
       "<IPython.core.display.HTML object>"
      ]
     },
     "metadata": {},
     "output_type": "display_data"
    },
    {
     "data": {
      "text/html": [
       " View project at <a href='https://wandb.ai/totikos/model_cnn_mfcc_6_grey_81k-hpo' target=\"_blank\">https://wandb.ai/totikos/model_cnn_mfcc_6_grey_81k-hpo</a>"
      ],
      "text/plain": [
       "<IPython.core.display.HTML object>"
      ]
     },
     "metadata": {},
     "output_type": "display_data"
    },
    {
     "data": {
      "text/html": [
       " View run at <a href='https://wandb.ai/totikos/model_cnn_mfcc_6_grey_81k-hpo/runs/ctkwvd76' target=\"_blank\">https://wandb.ai/totikos/model_cnn_mfcc_6_grey_81k-hpo/runs/ctkwvd76</a>"
      ],
      "text/plain": [
       "<IPython.core.display.HTML object>"
      ]
     },
     "metadata": {},
     "output_type": "display_data"
    },
    {
     "name": "stderr",
     "output_type": "stream",
     "text": [
      "100%|████████████████████████████████████████| 380/380 [02:11<00:00,  2.90it/s]\n",
      "100%|██████████████████████████████████████████| 82/82 [00:13<00:00,  6.21it/s]\n",
      "[I 2024-01-07 05:36:02,368] Trial 96 pruned. \n"
     ]
    },
    {
     "name": "stdout",
     "output_type": "stream",
     "text": [
      "{'out_channels_l1': 16, 'out_channels_l2': 32, 'conv_kernel_size': 5, 'dropout_rate': 0.0}\n"
     ]
    },
    {
     "data": {
      "text/html": [
       "Finishing last run (ID:ctkwvd76) before initializing another..."
      ],
      "text/plain": [
       "<IPython.core.display.HTML object>"
      ]
     },
     "metadata": {},
     "output_type": "display_data"
    },
    {
     "data": {
      "text/html": [
       "Waiting for W&B process to finish... <strong style=\"color:green\">(success).</strong>"
      ],
      "text/plain": [
       "<IPython.core.display.HTML object>"
      ]
     },
     "metadata": {},
     "output_type": "display_data"
    },
    {
     "data": {
      "text/html": [
       " View run <strong style=\"color:#cdcd00\">96_cnn_mfcc_6_grey_81k_lr-0.01_convf1-64_convf2-32_convker-3_dr-0.1</strong> at: <a href='https://wandb.ai/totikos/model_cnn_mfcc_6_grey_81k-hpo/runs/ctkwvd76' target=\"_blank\">https://wandb.ai/totikos/model_cnn_mfcc_6_grey_81k-hpo/runs/ctkwvd76</a><br/> View job at <a href='https://wandb.ai/totikos/model_cnn_mfcc_6_grey_81k-hpo/jobs/QXJ0aWZhY3RDb2xsZWN0aW9uOjEyNzk0NTQwMw==/version_details/v4' target=\"_blank\">https://wandb.ai/totikos/model_cnn_mfcc_6_grey_81k-hpo/jobs/QXJ0aWZhY3RDb2xsZWN0aW9uOjEyNzk0NTQwMw==/version_details/v4</a><br/>Synced 5 W&B file(s), 0 media file(s), 0 artifact file(s) and 0 other file(s)"
      ],
      "text/plain": [
       "<IPython.core.display.HTML object>"
      ]
     },
     "metadata": {},
     "output_type": "display_data"
    },
    {
     "data": {
      "text/html": [
       "Find logs at: <code>C:\\Users\\nekta\\OneDrive\\Desktop\\botanic-emotion-recognition\\logs\\wandb\\run-20240107_053331-ctkwvd76\\logs</code>"
      ],
      "text/plain": [
       "<IPython.core.display.HTML object>"
      ]
     },
     "metadata": {},
     "output_type": "display_data"
    },
    {
     "data": {
      "text/html": [
       "Successfully finished last run (ID:ctkwvd76). Initializing new run:<br/>"
      ],
      "text/plain": [
       "<IPython.core.display.HTML object>"
      ]
     },
     "metadata": {},
     "output_type": "display_data"
    },
    {
     "data": {
      "text/html": [
       "wandb version 0.16.1 is available!  To upgrade, please run:\n",
       " $ pip install wandb --upgrade"
      ],
      "text/plain": [
       "<IPython.core.display.HTML object>"
      ]
     },
     "metadata": {},
     "output_type": "display_data"
    },
    {
     "data": {
      "text/html": [
       "Tracking run with wandb version 0.15.12"
      ],
      "text/plain": [
       "<IPython.core.display.HTML object>"
      ]
     },
     "metadata": {},
     "output_type": "display_data"
    },
    {
     "data": {
      "text/html": [
       "Run data is saved locally in <code>C:\\Users\\nekta\\OneDrive\\Desktop\\botanic-emotion-recognition\\logs\\wandb\\run-20240107_053602-h3bsvlip</code>"
      ],
      "text/plain": [
       "<IPython.core.display.HTML object>"
      ]
     },
     "metadata": {},
     "output_type": "display_data"
    },
    {
     "data": {
      "text/html": [
       "Syncing run <strong><a href='https://wandb.ai/totikos/model_cnn_mfcc_6_grey_81k-hpo/runs/h3bsvlip' target=\"_blank\">97_cnn_mfcc_6_grey_81k_lr-0.01_convf1-16_convf2-32_convker-5_dr-0.0</a></strong> to <a href='https://wandb.ai/totikos/model_cnn_mfcc_6_grey_81k-hpo' target=\"_blank\">Weights & Biases</a> (<a href='https://wandb.me/run' target=\"_blank\">docs</a>)<br/>"
      ],
      "text/plain": [
       "<IPython.core.display.HTML object>"
      ]
     },
     "metadata": {},
     "output_type": "display_data"
    },
    {
     "data": {
      "text/html": [
       " View project at <a href='https://wandb.ai/totikos/model_cnn_mfcc_6_grey_81k-hpo' target=\"_blank\">https://wandb.ai/totikos/model_cnn_mfcc_6_grey_81k-hpo</a>"
      ],
      "text/plain": [
       "<IPython.core.display.HTML object>"
      ]
     },
     "metadata": {},
     "output_type": "display_data"
    },
    {
     "data": {
      "text/html": [
       " View run at <a href='https://wandb.ai/totikos/model_cnn_mfcc_6_grey_81k-hpo/runs/h3bsvlip' target=\"_blank\">https://wandb.ai/totikos/model_cnn_mfcc_6_grey_81k-hpo/runs/h3bsvlip</a>"
      ],
      "text/plain": [
       "<IPython.core.display.HTML object>"
      ]
     },
     "metadata": {},
     "output_type": "display_data"
    },
    {
     "name": "stderr",
     "output_type": "stream",
     "text": [
      "100%|████████████████████████████████████████| 380/380 [00:49<00:00,  7.73it/s]\n",
      "100%|██████████████████████████████████████████| 82/82 [00:04<00:00, 19.02it/s]\n",
      "[I 2024-01-07 05:37:02,702] Trial 97 pruned. \n"
     ]
    },
    {
     "name": "stdout",
     "output_type": "stream",
     "text": [
      "{'out_channels_l1': 16, 'out_channels_l2': 64, 'conv_kernel_size': 5, 'dropout_rate': 0.0}\n"
     ]
    },
    {
     "data": {
      "text/html": [
       "Finishing last run (ID:h3bsvlip) before initializing another..."
      ],
      "text/plain": [
       "<IPython.core.display.HTML object>"
      ]
     },
     "metadata": {},
     "output_type": "display_data"
    },
    {
     "data": {
      "text/html": [
       "Waiting for W&B process to finish... <strong style=\"color:green\">(success).</strong>"
      ],
      "text/plain": [
       "<IPython.core.display.HTML object>"
      ]
     },
     "metadata": {},
     "output_type": "display_data"
    },
    {
     "data": {
      "text/html": [
       " View run <strong style=\"color:#cdcd00\">97_cnn_mfcc_6_grey_81k_lr-0.01_convf1-16_convf2-32_convker-5_dr-0.0</strong> at: <a href='https://wandb.ai/totikos/model_cnn_mfcc_6_grey_81k-hpo/runs/h3bsvlip' target=\"_blank\">https://wandb.ai/totikos/model_cnn_mfcc_6_grey_81k-hpo/runs/h3bsvlip</a><br/> View job at <a href='https://wandb.ai/totikos/model_cnn_mfcc_6_grey_81k-hpo/jobs/QXJ0aWZhY3RDb2xsZWN0aW9uOjEyNzk0NTQwMw==/version_details/v4' target=\"_blank\">https://wandb.ai/totikos/model_cnn_mfcc_6_grey_81k-hpo/jobs/QXJ0aWZhY3RDb2xsZWN0aW9uOjEyNzk0NTQwMw==/version_details/v4</a><br/>Synced 5 W&B file(s), 0 media file(s), 0 artifact file(s) and 0 other file(s)"
      ],
      "text/plain": [
       "<IPython.core.display.HTML object>"
      ]
     },
     "metadata": {},
     "output_type": "display_data"
    },
    {
     "data": {
      "text/html": [
       "Find logs at: <code>C:\\Users\\nekta\\OneDrive\\Desktop\\botanic-emotion-recognition\\logs\\wandb\\run-20240107_053602-h3bsvlip\\logs</code>"
      ],
      "text/plain": [
       "<IPython.core.display.HTML object>"
      ]
     },
     "metadata": {},
     "output_type": "display_data"
    },
    {
     "data": {
      "text/html": [
       "Successfully finished last run (ID:h3bsvlip). Initializing new run:<br/>"
      ],
      "text/plain": [
       "<IPython.core.display.HTML object>"
      ]
     },
     "metadata": {},
     "output_type": "display_data"
    },
    {
     "data": {
      "text/html": [
       "wandb version 0.16.1 is available!  To upgrade, please run:\n",
       " $ pip install wandb --upgrade"
      ],
      "text/plain": [
       "<IPython.core.display.HTML object>"
      ]
     },
     "metadata": {},
     "output_type": "display_data"
    },
    {
     "data": {
      "text/html": [
       "Tracking run with wandb version 0.15.12"
      ],
      "text/plain": [
       "<IPython.core.display.HTML object>"
      ]
     },
     "metadata": {},
     "output_type": "display_data"
    },
    {
     "data": {
      "text/html": [
       "Run data is saved locally in <code>C:\\Users\\nekta\\OneDrive\\Desktop\\botanic-emotion-recognition\\logs\\wandb\\run-20240107_053702-hflw07bv</code>"
      ],
      "text/plain": [
       "<IPython.core.display.HTML object>"
      ]
     },
     "metadata": {},
     "output_type": "display_data"
    },
    {
     "data": {
      "text/html": [
       "Syncing run <strong><a href='https://wandb.ai/totikos/model_cnn_mfcc_6_grey_81k-hpo/runs/hflw07bv' target=\"_blank\">98_cnn_mfcc_6_grey_81k_lr-0.0001_convf1-16_convf2-64_convker-5_dr-0.0</a></strong> to <a href='https://wandb.ai/totikos/model_cnn_mfcc_6_grey_81k-hpo' target=\"_blank\">Weights & Biases</a> (<a href='https://wandb.me/run' target=\"_blank\">docs</a>)<br/>"
      ],
      "text/plain": [
       "<IPython.core.display.HTML object>"
      ]
     },
     "metadata": {},
     "output_type": "display_data"
    },
    {
     "data": {
      "text/html": [
       " View project at <a href='https://wandb.ai/totikos/model_cnn_mfcc_6_grey_81k-hpo' target=\"_blank\">https://wandb.ai/totikos/model_cnn_mfcc_6_grey_81k-hpo</a>"
      ],
      "text/plain": [
       "<IPython.core.display.HTML object>"
      ]
     },
     "metadata": {},
     "output_type": "display_data"
    },
    {
     "data": {
      "text/html": [
       " View run at <a href='https://wandb.ai/totikos/model_cnn_mfcc_6_grey_81k-hpo/runs/hflw07bv' target=\"_blank\">https://wandb.ai/totikos/model_cnn_mfcc_6_grey_81k-hpo/runs/hflw07bv</a>"
      ],
      "text/plain": [
       "<IPython.core.display.HTML object>"
      ]
     },
     "metadata": {},
     "output_type": "display_data"
    },
    {
     "name": "stderr",
     "output_type": "stream",
     "text": [
      "100%|████████████████████████████████████████| 380/380 [01:09<00:00,  5.46it/s]\n",
      "100%|██████████████████████████████████████████| 82/82 [00:06<00:00, 12.11it/s]\n",
      "[I 2024-01-07 05:38:24,771] Trial 98 pruned. \n"
     ]
    },
    {
     "name": "stdout",
     "output_type": "stream",
     "text": [
      "{'out_channels_l1': 32, 'out_channels_l2': 32, 'conv_kernel_size': 5, 'dropout_rate': 0.1}\n"
     ]
    },
    {
     "data": {
      "text/html": [
       "Finishing last run (ID:hflw07bv) before initializing another..."
      ],
      "text/plain": [
       "<IPython.core.display.HTML object>"
      ]
     },
     "metadata": {},
     "output_type": "display_data"
    },
    {
     "data": {
      "text/html": [
       "Waiting for W&B process to finish... <strong style=\"color:green\">(success).</strong>"
      ],
      "text/plain": [
       "<IPython.core.display.HTML object>"
      ]
     },
     "metadata": {},
     "output_type": "display_data"
    },
    {
     "data": {
      "text/html": [
       " View run <strong style=\"color:#cdcd00\">98_cnn_mfcc_6_grey_81k_lr-0.0001_convf1-16_convf2-64_convker-5_dr-0.0</strong> at: <a href='https://wandb.ai/totikos/model_cnn_mfcc_6_grey_81k-hpo/runs/hflw07bv' target=\"_blank\">https://wandb.ai/totikos/model_cnn_mfcc_6_grey_81k-hpo/runs/hflw07bv</a><br/> View job at <a href='https://wandb.ai/totikos/model_cnn_mfcc_6_grey_81k-hpo/jobs/QXJ0aWZhY3RDb2xsZWN0aW9uOjEyNzk0NTQwMw==/version_details/v4' target=\"_blank\">https://wandb.ai/totikos/model_cnn_mfcc_6_grey_81k-hpo/jobs/QXJ0aWZhY3RDb2xsZWN0aW9uOjEyNzk0NTQwMw==/version_details/v4</a><br/>Synced 5 W&B file(s), 0 media file(s), 0 artifact file(s) and 0 other file(s)"
      ],
      "text/plain": [
       "<IPython.core.display.HTML object>"
      ]
     },
     "metadata": {},
     "output_type": "display_data"
    },
    {
     "data": {
      "text/html": [
       "Find logs at: <code>C:\\Users\\nekta\\OneDrive\\Desktop\\botanic-emotion-recognition\\logs\\wandb\\run-20240107_053702-hflw07bv\\logs</code>"
      ],
      "text/plain": [
       "<IPython.core.display.HTML object>"
      ]
     },
     "metadata": {},
     "output_type": "display_data"
    },
    {
     "data": {
      "text/html": [
       "Successfully finished last run (ID:hflw07bv). Initializing new run:<br/>"
      ],
      "text/plain": [
       "<IPython.core.display.HTML object>"
      ]
     },
     "metadata": {},
     "output_type": "display_data"
    },
    {
     "data": {
      "text/html": [
       "wandb version 0.16.1 is available!  To upgrade, please run:\n",
       " $ pip install wandb --upgrade"
      ],
      "text/plain": [
       "<IPython.core.display.HTML object>"
      ]
     },
     "metadata": {},
     "output_type": "display_data"
    },
    {
     "data": {
      "text/html": [
       "Tracking run with wandb version 0.15.12"
      ],
      "text/plain": [
       "<IPython.core.display.HTML object>"
      ]
     },
     "metadata": {},
     "output_type": "display_data"
    },
    {
     "data": {
      "text/html": [
       "Run data is saved locally in <code>C:\\Users\\nekta\\OneDrive\\Desktop\\botanic-emotion-recognition\\logs\\wandb\\run-20240107_053824-lxksxcls</code>"
      ],
      "text/plain": [
       "<IPython.core.display.HTML object>"
      ]
     },
     "metadata": {},
     "output_type": "display_data"
    },
    {
     "data": {
      "text/html": [
       "Syncing run <strong><a href='https://wandb.ai/totikos/model_cnn_mfcc_6_grey_81k-hpo/runs/lxksxcls' target=\"_blank\">99_cnn_mfcc_6_grey_81k_lr-0.001_convf1-32_convf2-32_convker-5_dr-0.1</a></strong> to <a href='https://wandb.ai/totikos/model_cnn_mfcc_6_grey_81k-hpo' target=\"_blank\">Weights & Biases</a> (<a href='https://wandb.me/run' target=\"_blank\">docs</a>)<br/>"
      ],
      "text/plain": [
       "<IPython.core.display.HTML object>"
      ]
     },
     "metadata": {},
     "output_type": "display_data"
    },
    {
     "data": {
      "text/html": [
       " View project at <a href='https://wandb.ai/totikos/model_cnn_mfcc_6_grey_81k-hpo' target=\"_blank\">https://wandb.ai/totikos/model_cnn_mfcc_6_grey_81k-hpo</a>"
      ],
      "text/plain": [
       "<IPython.core.display.HTML object>"
      ]
     },
     "metadata": {},
     "output_type": "display_data"
    },
    {
     "data": {
      "text/html": [
       " View run at <a href='https://wandb.ai/totikos/model_cnn_mfcc_6_grey_81k-hpo/runs/lxksxcls' target=\"_blank\">https://wandb.ai/totikos/model_cnn_mfcc_6_grey_81k-hpo/runs/lxksxcls</a>"
      ],
      "text/plain": [
       "<IPython.core.display.HTML object>"
      ]
     },
     "metadata": {},
     "output_type": "display_data"
    },
    {
     "name": "stderr",
     "output_type": "stream",
     "text": [
      "100%|████████████████████████████████████████| 380/380 [01:31<00:00,  4.16it/s]\n",
      "100%|██████████████████████████████████████████| 82/82 [00:07<00:00, 11.20it/s]\n",
      "100%|████████████████████████████████████████| 380/380 [01:32<00:00,  4.12it/s]\n",
      "100%|██████████████████████████████████████████| 82/82 [00:07<00:00, 10.38it/s]\n",
      "[I 2024-01-07 05:41:49,702] Trial 99 pruned. \n"
     ]
    },
    {
     "name": "stdout",
     "output_type": "stream",
     "text": [
      "{'out_channels_l1': 16, 'out_channels_l2': 32, 'conv_kernel_size': 3, 'dropout_rate': 0.0}\n"
     ]
    },
    {
     "data": {
      "text/html": [
       "Finishing last run (ID:lxksxcls) before initializing another..."
      ],
      "text/plain": [
       "<IPython.core.display.HTML object>"
      ]
     },
     "metadata": {},
     "output_type": "display_data"
    },
    {
     "data": {
      "text/html": [
       "Waiting for W&B process to finish... <strong style=\"color:green\">(success).</strong>"
      ],
      "text/plain": [
       "<IPython.core.display.HTML object>"
      ]
     },
     "metadata": {},
     "output_type": "display_data"
    },
    {
     "data": {
      "text/html": [
       "<style>\n",
       "    table.wandb td:nth-child(1) { padding: 0 10px; text-align: left ; width: auto;} td:nth-child(2) {text-align: left ; width: 100%}\n",
       "    .wandb-row { display: flex; flex-direction: row; flex-wrap: wrap; justify-content: flex-start; width: 100% }\n",
       "    .wandb-col { display: flex; flex-direction: column; flex-basis: 100%; flex: 1; padding: 10px; }\n",
       "    </style>\n",
       "<div class=\"wandb-row\"><div class=\"wandb-col\"><h3>Run history:</h3><br/><table class=\"wandb\"><tr><td>accuracy</td><td>▁</td></tr><tr><td>balanced_accuracy</td><td>▁</td></tr><tr><td>f1_weighted</td><td>▁</td></tr><tr><td>precision</td><td>▁</td></tr><tr><td>recall</td><td>▁</td></tr></table><br/></div><div class=\"wandb-col\"><h3>Run summary:</h3><br/><table class=\"wandb\"><tr><td>accuracy</td><td>0.47154</td></tr><tr><td>balanced_accuracy</td><td>0.31717</td></tr><tr><td>f1_weighted</td><td>0.44082</td></tr><tr><td>precision</td><td>0.44011</td></tr><tr><td>recall</td><td>0.47154</td></tr></table><br/></div></div>"
      ],
      "text/plain": [
       "<IPython.core.display.HTML object>"
      ]
     },
     "metadata": {},
     "output_type": "display_data"
    },
    {
     "data": {
      "text/html": [
       " View run <strong style=\"color:#cdcd00\">99_cnn_mfcc_6_grey_81k_lr-0.001_convf1-32_convf2-32_convker-5_dr-0.1</strong> at: <a href='https://wandb.ai/totikos/model_cnn_mfcc_6_grey_81k-hpo/runs/lxksxcls' target=\"_blank\">https://wandb.ai/totikos/model_cnn_mfcc_6_grey_81k-hpo/runs/lxksxcls</a><br/> View job at <a href='https://wandb.ai/totikos/model_cnn_mfcc_6_grey_81k-hpo/jobs/QXJ0aWZhY3RDb2xsZWN0aW9uOjEyNzk0NTQwMw==/version_details/v3' target=\"_blank\">https://wandb.ai/totikos/model_cnn_mfcc_6_grey_81k-hpo/jobs/QXJ0aWZhY3RDb2xsZWN0aW9uOjEyNzk0NTQwMw==/version_details/v3</a><br/>Synced 5 W&B file(s), 0 media file(s), 0 artifact file(s) and 0 other file(s)"
      ],
      "text/plain": [
       "<IPython.core.display.HTML object>"
      ]
     },
     "metadata": {},
     "output_type": "display_data"
    },
    {
     "data": {
      "text/html": [
       "Find logs at: <code>C:\\Users\\nekta\\OneDrive\\Desktop\\botanic-emotion-recognition\\logs\\wandb\\run-20240107_053824-lxksxcls\\logs</code>"
      ],
      "text/plain": [
       "<IPython.core.display.HTML object>"
      ]
     },
     "metadata": {},
     "output_type": "display_data"
    },
    {
     "data": {
      "text/html": [
       "Successfully finished last run (ID:lxksxcls). Initializing new run:<br/>"
      ],
      "text/plain": [
       "<IPython.core.display.HTML object>"
      ]
     },
     "metadata": {},
     "output_type": "display_data"
    },
    {
     "data": {
      "text/html": [
       "wandb version 0.16.1 is available!  To upgrade, please run:\n",
       " $ pip install wandb --upgrade"
      ],
      "text/plain": [
       "<IPython.core.display.HTML object>"
      ]
     },
     "metadata": {},
     "output_type": "display_data"
    },
    {
     "data": {
      "text/html": [
       "Tracking run with wandb version 0.15.12"
      ],
      "text/plain": [
       "<IPython.core.display.HTML object>"
      ]
     },
     "metadata": {},
     "output_type": "display_data"
    },
    {
     "data": {
      "text/html": [
       "Run data is saved locally in <code>C:\\Users\\nekta\\OneDrive\\Desktop\\botanic-emotion-recognition\\logs\\wandb\\run-20240107_054149-hb1x1i9a</code>"
      ],
      "text/plain": [
       "<IPython.core.display.HTML object>"
      ]
     },
     "metadata": {},
     "output_type": "display_data"
    },
    {
     "data": {
      "text/html": [
       "Syncing run <strong><a href='https://wandb.ai/totikos/model_cnn_mfcc_6_grey_81k-hpo/runs/hb1x1i9a' target=\"_blank\">100_cnn_mfcc_6_grey_81k_lr-0.001_convf1-16_convf2-32_convker-3_dr-0.0</a></strong> to <a href='https://wandb.ai/totikos/model_cnn_mfcc_6_grey_81k-hpo' target=\"_blank\">Weights & Biases</a> (<a href='https://wandb.me/run' target=\"_blank\">docs</a>)<br/>"
      ],
      "text/plain": [
       "<IPython.core.display.HTML object>"
      ]
     },
     "metadata": {},
     "output_type": "display_data"
    },
    {
     "data": {
      "text/html": [
       " View project at <a href='https://wandb.ai/totikos/model_cnn_mfcc_6_grey_81k-hpo' target=\"_blank\">https://wandb.ai/totikos/model_cnn_mfcc_6_grey_81k-hpo</a>"
      ],
      "text/plain": [
       "<IPython.core.display.HTML object>"
      ]
     },
     "metadata": {},
     "output_type": "display_data"
    },
    {
     "data": {
      "text/html": [
       " View run at <a href='https://wandb.ai/totikos/model_cnn_mfcc_6_grey_81k-hpo/runs/hb1x1i9a' target=\"_blank\">https://wandb.ai/totikos/model_cnn_mfcc_6_grey_81k-hpo/runs/hb1x1i9a</a>"
      ],
      "text/plain": [
       "<IPython.core.display.HTML object>"
      ]
     },
     "metadata": {},
     "output_type": "display_data"
    },
    {
     "name": "stderr",
     "output_type": "stream",
     "text": [
      "100%|████████████████████████████████████████| 380/380 [00:41<00:00,  9.06it/s]\n",
      "100%|██████████████████████████████████████████| 82/82 [00:04<00:00, 17.90it/s]\n",
      "[I 2024-01-07 05:42:43,759] Trial 100 pruned. \n"
     ]
    },
    {
     "name": "stdout",
     "output_type": "stream",
     "text": [
      "{'out_channels_l1': 32, 'out_channels_l2': 32, 'conv_kernel_size': 3, 'dropout_rate': 0.2}\n"
     ]
    },
    {
     "data": {
      "text/html": [
       "Finishing last run (ID:hb1x1i9a) before initializing another..."
      ],
      "text/plain": [
       "<IPython.core.display.HTML object>"
      ]
     },
     "metadata": {},
     "output_type": "display_data"
    },
    {
     "data": {
      "text/html": [
       "Waiting for W&B process to finish... <strong style=\"color:green\">(success).</strong>"
      ],
      "text/plain": [
       "<IPython.core.display.HTML object>"
      ]
     },
     "metadata": {},
     "output_type": "display_data"
    },
    {
     "data": {
      "text/html": [
       " View run <strong style=\"color:#cdcd00\">100_cnn_mfcc_6_grey_81k_lr-0.001_convf1-16_convf2-32_convker-3_dr-0.0</strong> at: <a href='https://wandb.ai/totikos/model_cnn_mfcc_6_grey_81k-hpo/runs/hb1x1i9a' target=\"_blank\">https://wandb.ai/totikos/model_cnn_mfcc_6_grey_81k-hpo/runs/hb1x1i9a</a><br/> View job at <a href='https://wandb.ai/totikos/model_cnn_mfcc_6_grey_81k-hpo/jobs/QXJ0aWZhY3RDb2xsZWN0aW9uOjEyNzk0NTQwMw==/version_details/v4' target=\"_blank\">https://wandb.ai/totikos/model_cnn_mfcc_6_grey_81k-hpo/jobs/QXJ0aWZhY3RDb2xsZWN0aW9uOjEyNzk0NTQwMw==/version_details/v4</a><br/>Synced 5 W&B file(s), 0 media file(s), 0 artifact file(s) and 0 other file(s)"
      ],
      "text/plain": [
       "<IPython.core.display.HTML object>"
      ]
     },
     "metadata": {},
     "output_type": "display_data"
    },
    {
     "data": {
      "text/html": [
       "Find logs at: <code>C:\\Users\\nekta\\OneDrive\\Desktop\\botanic-emotion-recognition\\logs\\wandb\\run-20240107_054149-hb1x1i9a\\logs</code>"
      ],
      "text/plain": [
       "<IPython.core.display.HTML object>"
      ]
     },
     "metadata": {},
     "output_type": "display_data"
    },
    {
     "data": {
      "text/html": [
       "Successfully finished last run (ID:hb1x1i9a). Initializing new run:<br/>"
      ],
      "text/plain": [
       "<IPython.core.display.HTML object>"
      ]
     },
     "metadata": {},
     "output_type": "display_data"
    },
    {
     "data": {
      "text/html": [
       "wandb version 0.16.1 is available!  To upgrade, please run:\n",
       " $ pip install wandb --upgrade"
      ],
      "text/plain": [
       "<IPython.core.display.HTML object>"
      ]
     },
     "metadata": {},
     "output_type": "display_data"
    },
    {
     "data": {
      "text/html": [
       "Tracking run with wandb version 0.15.12"
      ],
      "text/plain": [
       "<IPython.core.display.HTML object>"
      ]
     },
     "metadata": {},
     "output_type": "display_data"
    },
    {
     "data": {
      "text/html": [
       "Run data is saved locally in <code>C:\\Users\\nekta\\OneDrive\\Desktop\\botanic-emotion-recognition\\logs\\wandb\\run-20240107_054243-dpwmtgao</code>"
      ],
      "text/plain": [
       "<IPython.core.display.HTML object>"
      ]
     },
     "metadata": {},
     "output_type": "display_data"
    },
    {
     "data": {
      "text/html": [
       "Syncing run <strong><a href='https://wandb.ai/totikos/model_cnn_mfcc_6_grey_81k-hpo/runs/dpwmtgao' target=\"_blank\">101_cnn_mfcc_6_grey_81k_lr-0.001_convf1-32_convf2-32_convker-3_dr-0.2</a></strong> to <a href='https://wandb.ai/totikos/model_cnn_mfcc_6_grey_81k-hpo' target=\"_blank\">Weights & Biases</a> (<a href='https://wandb.me/run' target=\"_blank\">docs</a>)<br/>"
      ],
      "text/plain": [
       "<IPython.core.display.HTML object>"
      ]
     },
     "metadata": {},
     "output_type": "display_data"
    },
    {
     "data": {
      "text/html": [
       " View project at <a href='https://wandb.ai/totikos/model_cnn_mfcc_6_grey_81k-hpo' target=\"_blank\">https://wandb.ai/totikos/model_cnn_mfcc_6_grey_81k-hpo</a>"
      ],
      "text/plain": [
       "<IPython.core.display.HTML object>"
      ]
     },
     "metadata": {},
     "output_type": "display_data"
    },
    {
     "data": {
      "text/html": [
       " View run at <a href='https://wandb.ai/totikos/model_cnn_mfcc_6_grey_81k-hpo/runs/dpwmtgao' target=\"_blank\">https://wandb.ai/totikos/model_cnn_mfcc_6_grey_81k-hpo/runs/dpwmtgao</a>"
      ],
      "text/plain": [
       "<IPython.core.display.HTML object>"
      ]
     },
     "metadata": {},
     "output_type": "display_data"
    },
    {
     "name": "stderr",
     "output_type": "stream",
     "text": [
      "100%|████████████████████████████████████████| 380/380 [01:17<00:00,  4.93it/s]\n",
      "100%|██████████████████████████████████████████| 82/82 [00:07<00:00, 10.89it/s]\n",
      "[I 2024-01-07 05:44:13,923] Trial 101 pruned. \n"
     ]
    },
    {
     "name": "stdout",
     "output_type": "stream",
     "text": [
      "{'out_channels_l1': 32, 'out_channels_l2': 32, 'conv_kernel_size': 5, 'dropout_rate': 0.1}\n"
     ]
    },
    {
     "data": {
      "text/html": [
       "Finishing last run (ID:dpwmtgao) before initializing another..."
      ],
      "text/plain": [
       "<IPython.core.display.HTML object>"
      ]
     },
     "metadata": {},
     "output_type": "display_data"
    },
    {
     "data": {
      "text/html": [
       "Waiting for W&B process to finish... <strong style=\"color:green\">(success).</strong>"
      ],
      "text/plain": [
       "<IPython.core.display.HTML object>"
      ]
     },
     "metadata": {},
     "output_type": "display_data"
    },
    {
     "data": {
      "text/html": [
       " View run <strong style=\"color:#cdcd00\">101_cnn_mfcc_6_grey_81k_lr-0.001_convf1-32_convf2-32_convker-3_dr-0.2</strong> at: <a href='https://wandb.ai/totikos/model_cnn_mfcc_6_grey_81k-hpo/runs/dpwmtgao' target=\"_blank\">https://wandb.ai/totikos/model_cnn_mfcc_6_grey_81k-hpo/runs/dpwmtgao</a><br/> View job at <a href='https://wandb.ai/totikos/model_cnn_mfcc_6_grey_81k-hpo/jobs/QXJ0aWZhY3RDb2xsZWN0aW9uOjEyNzk0NTQwMw==/version_details/v4' target=\"_blank\">https://wandb.ai/totikos/model_cnn_mfcc_6_grey_81k-hpo/jobs/QXJ0aWZhY3RDb2xsZWN0aW9uOjEyNzk0NTQwMw==/version_details/v4</a><br/>Synced 5 W&B file(s), 0 media file(s), 0 artifact file(s) and 0 other file(s)"
      ],
      "text/plain": [
       "<IPython.core.display.HTML object>"
      ]
     },
     "metadata": {},
     "output_type": "display_data"
    },
    {
     "data": {
      "text/html": [
       "Find logs at: <code>C:\\Users\\nekta\\OneDrive\\Desktop\\botanic-emotion-recognition\\logs\\wandb\\run-20240107_054243-dpwmtgao\\logs</code>"
      ],
      "text/plain": [
       "<IPython.core.display.HTML object>"
      ]
     },
     "metadata": {},
     "output_type": "display_data"
    },
    {
     "data": {
      "text/html": [
       "Successfully finished last run (ID:dpwmtgao). Initializing new run:<br/>"
      ],
      "text/plain": [
       "<IPython.core.display.HTML object>"
      ]
     },
     "metadata": {},
     "output_type": "display_data"
    },
    {
     "data": {
      "text/html": [
       "wandb version 0.16.1 is available!  To upgrade, please run:\n",
       " $ pip install wandb --upgrade"
      ],
      "text/plain": [
       "<IPython.core.display.HTML object>"
      ]
     },
     "metadata": {},
     "output_type": "display_data"
    },
    {
     "data": {
      "text/html": [
       "Tracking run with wandb version 0.15.12"
      ],
      "text/plain": [
       "<IPython.core.display.HTML object>"
      ]
     },
     "metadata": {},
     "output_type": "display_data"
    },
    {
     "data": {
      "text/html": [
       "Run data is saved locally in <code>C:\\Users\\nekta\\OneDrive\\Desktop\\botanic-emotion-recognition\\logs\\wandb\\run-20240107_054414-41byfkp0</code>"
      ],
      "text/plain": [
       "<IPython.core.display.HTML object>"
      ]
     },
     "metadata": {},
     "output_type": "display_data"
    },
    {
     "data": {
      "text/html": [
       "Syncing run <strong><a href='https://wandb.ai/totikos/model_cnn_mfcc_6_grey_81k-hpo/runs/41byfkp0' target=\"_blank\">102_cnn_mfcc_6_grey_81k_lr-0.0001_convf1-32_convf2-32_convker-5_dr-0.1</a></strong> to <a href='https://wandb.ai/totikos/model_cnn_mfcc_6_grey_81k-hpo' target=\"_blank\">Weights & Biases</a> (<a href='https://wandb.me/run' target=\"_blank\">docs</a>)<br/>"
      ],
      "text/plain": [
       "<IPython.core.display.HTML object>"
      ]
     },
     "metadata": {},
     "output_type": "display_data"
    },
    {
     "data": {
      "text/html": [
       " View project at <a href='https://wandb.ai/totikos/model_cnn_mfcc_6_grey_81k-hpo' target=\"_blank\">https://wandb.ai/totikos/model_cnn_mfcc_6_grey_81k-hpo</a>"
      ],
      "text/plain": [
       "<IPython.core.display.HTML object>"
      ]
     },
     "metadata": {},
     "output_type": "display_data"
    },
    {
     "data": {
      "text/html": [
       " View run at <a href='https://wandb.ai/totikos/model_cnn_mfcc_6_grey_81k-hpo/runs/41byfkp0' target=\"_blank\">https://wandb.ai/totikos/model_cnn_mfcc_6_grey_81k-hpo/runs/41byfkp0</a>"
      ],
      "text/plain": [
       "<IPython.core.display.HTML object>"
      ]
     },
     "metadata": {},
     "output_type": "display_data"
    },
    {
     "name": "stderr",
     "output_type": "stream",
     "text": [
      "100%|████████████████████████████████████████| 380/380 [01:31<00:00,  4.15it/s]\n",
      "100%|██████████████████████████████████████████| 82/82 [00:07<00:00, 10.69it/s]\n",
      "[I 2024-01-07 05:45:59,862] Trial 102 pruned. \n"
     ]
    },
    {
     "name": "stdout",
     "output_type": "stream",
     "text": [
      "{'out_channels_l1': 64, 'out_channels_l2': 64, 'conv_kernel_size': 5, 'dropout_rate': 0.1}\n"
     ]
    },
    {
     "data": {
      "text/html": [
       "Finishing last run (ID:41byfkp0) before initializing another..."
      ],
      "text/plain": [
       "<IPython.core.display.HTML object>"
      ]
     },
     "metadata": {},
     "output_type": "display_data"
    },
    {
     "data": {
      "text/html": [
       "Waiting for W&B process to finish... <strong style=\"color:green\">(success).</strong>"
      ],
      "text/plain": [
       "<IPython.core.display.HTML object>"
      ]
     },
     "metadata": {},
     "output_type": "display_data"
    },
    {
     "data": {
      "text/html": [
       " View run <strong style=\"color:#cdcd00\">102_cnn_mfcc_6_grey_81k_lr-0.0001_convf1-32_convf2-32_convker-5_dr-0.1</strong> at: <a href='https://wandb.ai/totikos/model_cnn_mfcc_6_grey_81k-hpo/runs/41byfkp0' target=\"_blank\">https://wandb.ai/totikos/model_cnn_mfcc_6_grey_81k-hpo/runs/41byfkp0</a><br/> View job at <a href='https://wandb.ai/totikos/model_cnn_mfcc_6_grey_81k-hpo/jobs/QXJ0aWZhY3RDb2xsZWN0aW9uOjEyNzk0NTQwMw==/version_details/v4' target=\"_blank\">https://wandb.ai/totikos/model_cnn_mfcc_6_grey_81k-hpo/jobs/QXJ0aWZhY3RDb2xsZWN0aW9uOjEyNzk0NTQwMw==/version_details/v4</a><br/>Synced 5 W&B file(s), 0 media file(s), 0 artifact file(s) and 0 other file(s)"
      ],
      "text/plain": [
       "<IPython.core.display.HTML object>"
      ]
     },
     "metadata": {},
     "output_type": "display_data"
    },
    {
     "data": {
      "text/html": [
       "Find logs at: <code>C:\\Users\\nekta\\OneDrive\\Desktop\\botanic-emotion-recognition\\logs\\wandb\\run-20240107_054414-41byfkp0\\logs</code>"
      ],
      "text/plain": [
       "<IPython.core.display.HTML object>"
      ]
     },
     "metadata": {},
     "output_type": "display_data"
    },
    {
     "data": {
      "text/html": [
       "Successfully finished last run (ID:41byfkp0). Initializing new run:<br/>"
      ],
      "text/plain": [
       "<IPython.core.display.HTML object>"
      ]
     },
     "metadata": {},
     "output_type": "display_data"
    },
    {
     "data": {
      "text/html": [
       "wandb version 0.16.1 is available!  To upgrade, please run:\n",
       " $ pip install wandb --upgrade"
      ],
      "text/plain": [
       "<IPython.core.display.HTML object>"
      ]
     },
     "metadata": {},
     "output_type": "display_data"
    },
    {
     "data": {
      "text/html": [
       "Tracking run with wandb version 0.15.12"
      ],
      "text/plain": [
       "<IPython.core.display.HTML object>"
      ]
     },
     "metadata": {},
     "output_type": "display_data"
    },
    {
     "data": {
      "text/html": [
       "Run data is saved locally in <code>C:\\Users\\nekta\\OneDrive\\Desktop\\botanic-emotion-recognition\\logs\\wandb\\run-20240107_054559-2c04vg3p</code>"
      ],
      "text/plain": [
       "<IPython.core.display.HTML object>"
      ]
     },
     "metadata": {},
     "output_type": "display_data"
    },
    {
     "data": {
      "text/html": [
       "Syncing run <strong><a href='https://wandb.ai/totikos/model_cnn_mfcc_6_grey_81k-hpo/runs/2c04vg3p' target=\"_blank\">103_cnn_mfcc_6_grey_81k_lr-0.001_convf1-64_convf2-64_convker-5_dr-0.1</a></strong> to <a href='https://wandb.ai/totikos/model_cnn_mfcc_6_grey_81k-hpo' target=\"_blank\">Weights & Biases</a> (<a href='https://wandb.me/run' target=\"_blank\">docs</a>)<br/>"
      ],
      "text/plain": [
       "<IPython.core.display.HTML object>"
      ]
     },
     "metadata": {},
     "output_type": "display_data"
    },
    {
     "data": {
      "text/html": [
       " View project at <a href='https://wandb.ai/totikos/model_cnn_mfcc_6_grey_81k-hpo' target=\"_blank\">https://wandb.ai/totikos/model_cnn_mfcc_6_grey_81k-hpo</a>"
      ],
      "text/plain": [
       "<IPython.core.display.HTML object>"
      ]
     },
     "metadata": {},
     "output_type": "display_data"
    },
    {
     "data": {
      "text/html": [
       " View run at <a href='https://wandb.ai/totikos/model_cnn_mfcc_6_grey_81k-hpo/runs/2c04vg3p' target=\"_blank\">https://wandb.ai/totikos/model_cnn_mfcc_6_grey_81k-hpo/runs/2c04vg3p</a>"
      ],
      "text/plain": [
       "<IPython.core.display.HTML object>"
      ]
     },
     "metadata": {},
     "output_type": "display_data"
    },
    {
     "name": "stderr",
     "output_type": "stream",
     "text": [
      "100%|████████████████████████████████████████| 380/380 [03:25<00:00,  1.85it/s]\n",
      "100%|██████████████████████████████████████████| 82/82 [00:17<00:00,  4.60it/s]\n",
      "100%|████████████████████████████████████████| 380/380 [03:27<00:00,  1.83it/s]\n",
      "100%|██████████████████████████████████████████| 82/82 [00:17<00:00,  4.62it/s]\n",
      "100%|████████████████████████████████████████| 380/380 [03:31<00:00,  1.80it/s]\n",
      "100%|██████████████████████████████████████████| 82/82 [00:17<00:00,  4.61it/s]\n",
      "100%|████████████████████████████████████████| 380/380 [03:32<00:00,  1.79it/s]\n",
      "100%|██████████████████████████████████████████| 82/82 [00:17<00:00,  4.63it/s]\n",
      "[I 2024-01-07 06:01:15,238] Trial 103 pruned. \n"
     ]
    },
    {
     "name": "stdout",
     "output_type": "stream",
     "text": [
      "{'out_channels_l1': 32, 'out_channels_l2': 64, 'conv_kernel_size': 3, 'dropout_rate': 0.0}\n"
     ]
    },
    {
     "data": {
      "text/html": [
       "Finishing last run (ID:2c04vg3p) before initializing another..."
      ],
      "text/plain": [
       "<IPython.core.display.HTML object>"
      ]
     },
     "metadata": {},
     "output_type": "display_data"
    },
    {
     "data": {
      "text/html": [
       "Waiting for W&B process to finish... <strong style=\"color:green\">(success).</strong>"
      ],
      "text/plain": [
       "<IPython.core.display.HTML object>"
      ]
     },
     "metadata": {},
     "output_type": "display_data"
    },
    {
     "data": {
      "text/html": [
       "<style>\n",
       "    table.wandb td:nth-child(1) { padding: 0 10px; text-align: left ; width: auto;} td:nth-child(2) {text-align: left ; width: 100%}\n",
       "    .wandb-row { display: flex; flex-direction: row; flex-wrap: wrap; justify-content: flex-start; width: 100% }\n",
       "    .wandb-col { display: flex; flex-direction: column; flex-basis: 100%; flex: 1; padding: 10px; }\n",
       "    </style>\n",
       "<div class=\"wandb-row\"><div class=\"wandb-col\"><h3>Run history:</h3><br/><table class=\"wandb\"><tr><td>accuracy</td><td>▁▇█</td></tr><tr><td>balanced_accuracy</td><td>▁▇█</td></tr><tr><td>f1_weighted</td><td>▁▇█</td></tr><tr><td>precision</td><td>▁▇█</td></tr><tr><td>recall</td><td>▁▇█</td></tr></table><br/></div><div class=\"wandb-col\"><h3>Run summary:</h3><br/><table class=\"wandb\"><tr><td>accuracy</td><td>0.52</td></tr><tr><td>balanced_accuracy</td><td>0.36653</td></tr><tr><td>f1_weighted</td><td>0.49741</td></tr><tr><td>precision</td><td>0.49133</td></tr><tr><td>recall</td><td>0.52</td></tr></table><br/></div></div>"
      ],
      "text/plain": [
       "<IPython.core.display.HTML object>"
      ]
     },
     "metadata": {},
     "output_type": "display_data"
    },
    {
     "data": {
      "text/html": [
       " View run <strong style=\"color:#cdcd00\">103_cnn_mfcc_6_grey_81k_lr-0.001_convf1-64_convf2-64_convker-5_dr-0.1</strong> at: <a href='https://wandb.ai/totikos/model_cnn_mfcc_6_grey_81k-hpo/runs/2c04vg3p' target=\"_blank\">https://wandb.ai/totikos/model_cnn_mfcc_6_grey_81k-hpo/runs/2c04vg3p</a><br/> View job at <a href='https://wandb.ai/totikos/model_cnn_mfcc_6_grey_81k-hpo/jobs/QXJ0aWZhY3RDb2xsZWN0aW9uOjEyNzk0NTQwMw==/version_details/v3' target=\"_blank\">https://wandb.ai/totikos/model_cnn_mfcc_6_grey_81k-hpo/jobs/QXJ0aWZhY3RDb2xsZWN0aW9uOjEyNzk0NTQwMw==/version_details/v3</a><br/>Synced 5 W&B file(s), 0 media file(s), 0 artifact file(s) and 0 other file(s)"
      ],
      "text/plain": [
       "<IPython.core.display.HTML object>"
      ]
     },
     "metadata": {},
     "output_type": "display_data"
    },
    {
     "data": {
      "text/html": [
       "Find logs at: <code>C:\\Users\\nekta\\OneDrive\\Desktop\\botanic-emotion-recognition\\logs\\wandb\\run-20240107_054559-2c04vg3p\\logs</code>"
      ],
      "text/plain": [
       "<IPython.core.display.HTML object>"
      ]
     },
     "metadata": {},
     "output_type": "display_data"
    },
    {
     "data": {
      "text/html": [
       "Successfully finished last run (ID:2c04vg3p). Initializing new run:<br/>"
      ],
      "text/plain": [
       "<IPython.core.display.HTML object>"
      ]
     },
     "metadata": {},
     "output_type": "display_data"
    },
    {
     "data": {
      "text/html": [
       "wandb version 0.16.1 is available!  To upgrade, please run:\n",
       " $ pip install wandb --upgrade"
      ],
      "text/plain": [
       "<IPython.core.display.HTML object>"
      ]
     },
     "metadata": {},
     "output_type": "display_data"
    },
    {
     "data": {
      "text/html": [
       "Tracking run with wandb version 0.15.12"
      ],
      "text/plain": [
       "<IPython.core.display.HTML object>"
      ]
     },
     "metadata": {},
     "output_type": "display_data"
    },
    {
     "data": {
      "text/html": [
       "Run data is saved locally in <code>C:\\Users\\nekta\\OneDrive\\Desktop\\botanic-emotion-recognition\\logs\\wandb\\run-20240107_060115-ocbkec27</code>"
      ],
      "text/plain": [
       "<IPython.core.display.HTML object>"
      ]
     },
     "metadata": {},
     "output_type": "display_data"
    },
    {
     "data": {
      "text/html": [
       "Syncing run <strong><a href='https://wandb.ai/totikos/model_cnn_mfcc_6_grey_81k-hpo/runs/ocbkec27' target=\"_blank\">104_cnn_mfcc_6_grey_81k_lr-0.001_convf1-32_convf2-64_convker-3_dr-0.0</a></strong> to <a href='https://wandb.ai/totikos/model_cnn_mfcc_6_grey_81k-hpo' target=\"_blank\">Weights & Biases</a> (<a href='https://wandb.me/run' target=\"_blank\">docs</a>)<br/>"
      ],
      "text/plain": [
       "<IPython.core.display.HTML object>"
      ]
     },
     "metadata": {},
     "output_type": "display_data"
    },
    {
     "data": {
      "text/html": [
       " View project at <a href='https://wandb.ai/totikos/model_cnn_mfcc_6_grey_81k-hpo' target=\"_blank\">https://wandb.ai/totikos/model_cnn_mfcc_6_grey_81k-hpo</a>"
      ],
      "text/plain": [
       "<IPython.core.display.HTML object>"
      ]
     },
     "metadata": {},
     "output_type": "display_data"
    },
    {
     "data": {
      "text/html": [
       " View run at <a href='https://wandb.ai/totikos/model_cnn_mfcc_6_grey_81k-hpo/runs/ocbkec27' target=\"_blank\">https://wandb.ai/totikos/model_cnn_mfcc_6_grey_81k-hpo/runs/ocbkec27</a>"
      ],
      "text/plain": [
       "<IPython.core.display.HTML object>"
      ]
     },
     "metadata": {},
     "output_type": "display_data"
    },
    {
     "name": "stderr",
     "output_type": "stream",
     "text": [
      "100%|████████████████████████████████████████| 380/380 [01:28<00:00,  4.29it/s]\n",
      "100%|██████████████████████████████████████████| 82/82 [00:09<00:00,  8.74it/s]\n",
      "[I 2024-01-07 06:02:59,412] Trial 104 pruned. \n"
     ]
    },
    {
     "name": "stdout",
     "output_type": "stream",
     "text": [
      "{'out_channels_l1': 32, 'out_channels_l2': 64, 'conv_kernel_size': 3, 'dropout_rate': 0.0}\n"
     ]
    },
    {
     "data": {
      "text/html": [
       "Finishing last run (ID:ocbkec27) before initializing another..."
      ],
      "text/plain": [
       "<IPython.core.display.HTML object>"
      ]
     },
     "metadata": {},
     "output_type": "display_data"
    },
    {
     "data": {
      "text/html": [
       "Waiting for W&B process to finish... <strong style=\"color:green\">(success).</strong>"
      ],
      "text/plain": [
       "<IPython.core.display.HTML object>"
      ]
     },
     "metadata": {},
     "output_type": "display_data"
    },
    {
     "data": {
      "text/html": [
       " View run <strong style=\"color:#cdcd00\">104_cnn_mfcc_6_grey_81k_lr-0.001_convf1-32_convf2-64_convker-3_dr-0.0</strong> at: <a href='https://wandb.ai/totikos/model_cnn_mfcc_6_grey_81k-hpo/runs/ocbkec27' target=\"_blank\">https://wandb.ai/totikos/model_cnn_mfcc_6_grey_81k-hpo/runs/ocbkec27</a><br/> View job at <a href='https://wandb.ai/totikos/model_cnn_mfcc_6_grey_81k-hpo/jobs/QXJ0aWZhY3RDb2xsZWN0aW9uOjEyNzk0NTQwMw==/version_details/v4' target=\"_blank\">https://wandb.ai/totikos/model_cnn_mfcc_6_grey_81k-hpo/jobs/QXJ0aWZhY3RDb2xsZWN0aW9uOjEyNzk0NTQwMw==/version_details/v4</a><br/>Synced 5 W&B file(s), 0 media file(s), 0 artifact file(s) and 0 other file(s)"
      ],
      "text/plain": [
       "<IPython.core.display.HTML object>"
      ]
     },
     "metadata": {},
     "output_type": "display_data"
    },
    {
     "data": {
      "text/html": [
       "Find logs at: <code>C:\\Users\\nekta\\OneDrive\\Desktop\\botanic-emotion-recognition\\logs\\wandb\\run-20240107_060115-ocbkec27\\logs</code>"
      ],
      "text/plain": [
       "<IPython.core.display.HTML object>"
      ]
     },
     "metadata": {},
     "output_type": "display_data"
    },
    {
     "data": {
      "text/html": [
       "Successfully finished last run (ID:ocbkec27). Initializing new run:<br/>"
      ],
      "text/plain": [
       "<IPython.core.display.HTML object>"
      ]
     },
     "metadata": {},
     "output_type": "display_data"
    },
    {
     "data": {
      "text/html": [
       "wandb version 0.16.1 is available!  To upgrade, please run:\n",
       " $ pip install wandb --upgrade"
      ],
      "text/plain": [
       "<IPython.core.display.HTML object>"
      ]
     },
     "metadata": {},
     "output_type": "display_data"
    },
    {
     "data": {
      "text/html": [
       "Tracking run with wandb version 0.15.12"
      ],
      "text/plain": [
       "<IPython.core.display.HTML object>"
      ]
     },
     "metadata": {},
     "output_type": "display_data"
    },
    {
     "data": {
      "text/html": [
       "Run data is saved locally in <code>C:\\Users\\nekta\\OneDrive\\Desktop\\botanic-emotion-recognition\\logs\\wandb\\run-20240107_060259-sb02k80v</code>"
      ],
      "text/plain": [
       "<IPython.core.display.HTML object>"
      ]
     },
     "metadata": {},
     "output_type": "display_data"
    },
    {
     "data": {
      "text/html": [
       "Syncing run <strong><a href='https://wandb.ai/totikos/model_cnn_mfcc_6_grey_81k-hpo/runs/sb02k80v' target=\"_blank\">105_cnn_mfcc_6_grey_81k_lr-0.0001_convf1-32_convf2-64_convker-3_dr-0.0</a></strong> to <a href='https://wandb.ai/totikos/model_cnn_mfcc_6_grey_81k-hpo' target=\"_blank\">Weights & Biases</a> (<a href='https://wandb.me/run' target=\"_blank\">docs</a>)<br/>"
      ],
      "text/plain": [
       "<IPython.core.display.HTML object>"
      ]
     },
     "metadata": {},
     "output_type": "display_data"
    },
    {
     "data": {
      "text/html": [
       " View project at <a href='https://wandb.ai/totikos/model_cnn_mfcc_6_grey_81k-hpo' target=\"_blank\">https://wandb.ai/totikos/model_cnn_mfcc_6_grey_81k-hpo</a>"
      ],
      "text/plain": [
       "<IPython.core.display.HTML object>"
      ]
     },
     "metadata": {},
     "output_type": "display_data"
    },
    {
     "data": {
      "text/html": [
       " View run at <a href='https://wandb.ai/totikos/model_cnn_mfcc_6_grey_81k-hpo/runs/sb02k80v' target=\"_blank\">https://wandb.ai/totikos/model_cnn_mfcc_6_grey_81k-hpo/runs/sb02k80v</a>"
      ],
      "text/plain": [
       "<IPython.core.display.HTML object>"
      ]
     },
     "metadata": {},
     "output_type": "display_data"
    },
    {
     "name": "stderr",
     "output_type": "stream",
     "text": [
      "100%|████████████████████████████████████████| 380/380 [01:30<00:00,  4.20it/s]\n",
      "100%|██████████████████████████████████████████| 82/82 [00:09<00:00,  8.65it/s]\n",
      "[I 2024-01-07 06:04:48,190] Trial 105 pruned. \n"
     ]
    },
    {
     "name": "stdout",
     "output_type": "stream",
     "text": [
      "{'out_channels_l1': 32, 'out_channels_l2': 32, 'conv_kernel_size': 3, 'dropout_rate': 0.1}\n"
     ]
    },
    {
     "data": {
      "text/html": [
       "Finishing last run (ID:sb02k80v) before initializing another..."
      ],
      "text/plain": [
       "<IPython.core.display.HTML object>"
      ]
     },
     "metadata": {},
     "output_type": "display_data"
    },
    {
     "data": {
      "text/html": [
       "Waiting for W&B process to finish... <strong style=\"color:green\">(success).</strong>"
      ],
      "text/plain": [
       "<IPython.core.display.HTML object>"
      ]
     },
     "metadata": {},
     "output_type": "display_data"
    },
    {
     "data": {
      "text/html": [
       " View run <strong style=\"color:#cdcd00\">105_cnn_mfcc_6_grey_81k_lr-0.0001_convf1-32_convf2-64_convker-3_dr-0.0</strong> at: <a href='https://wandb.ai/totikos/model_cnn_mfcc_6_grey_81k-hpo/runs/sb02k80v' target=\"_blank\">https://wandb.ai/totikos/model_cnn_mfcc_6_grey_81k-hpo/runs/sb02k80v</a><br/> View job at <a href='https://wandb.ai/totikos/model_cnn_mfcc_6_grey_81k-hpo/jobs/QXJ0aWZhY3RDb2xsZWN0aW9uOjEyNzk0NTQwMw==/version_details/v4' target=\"_blank\">https://wandb.ai/totikos/model_cnn_mfcc_6_grey_81k-hpo/jobs/QXJ0aWZhY3RDb2xsZWN0aW9uOjEyNzk0NTQwMw==/version_details/v4</a><br/>Synced 5 W&B file(s), 0 media file(s), 0 artifact file(s) and 0 other file(s)"
      ],
      "text/plain": [
       "<IPython.core.display.HTML object>"
      ]
     },
     "metadata": {},
     "output_type": "display_data"
    },
    {
     "data": {
      "text/html": [
       "Find logs at: <code>C:\\Users\\nekta\\OneDrive\\Desktop\\botanic-emotion-recognition\\logs\\wandb\\run-20240107_060259-sb02k80v\\logs</code>"
      ],
      "text/plain": [
       "<IPython.core.display.HTML object>"
      ]
     },
     "metadata": {},
     "output_type": "display_data"
    },
    {
     "data": {
      "text/html": [
       "Successfully finished last run (ID:sb02k80v). Initializing new run:<br/>"
      ],
      "text/plain": [
       "<IPython.core.display.HTML object>"
      ]
     },
     "metadata": {},
     "output_type": "display_data"
    },
    {
     "data": {
      "text/html": [
       "wandb version 0.16.1 is available!  To upgrade, please run:\n",
       " $ pip install wandb --upgrade"
      ],
      "text/plain": [
       "<IPython.core.display.HTML object>"
      ]
     },
     "metadata": {},
     "output_type": "display_data"
    },
    {
     "data": {
      "text/html": [
       "Tracking run with wandb version 0.15.12"
      ],
      "text/plain": [
       "<IPython.core.display.HTML object>"
      ]
     },
     "metadata": {},
     "output_type": "display_data"
    },
    {
     "data": {
      "text/html": [
       "Run data is saved locally in <code>C:\\Users\\nekta\\OneDrive\\Desktop\\botanic-emotion-recognition\\logs\\wandb\\run-20240107_060448-0gp9zbdm</code>"
      ],
      "text/plain": [
       "<IPython.core.display.HTML object>"
      ]
     },
     "metadata": {},
     "output_type": "display_data"
    },
    {
     "data": {
      "text/html": [
       "Syncing run <strong><a href='https://wandb.ai/totikos/model_cnn_mfcc_6_grey_81k-hpo/runs/0gp9zbdm' target=\"_blank\">106_cnn_mfcc_6_grey_81k_lr-0.0001_convf1-32_convf2-32_convker-3_dr-0.1</a></strong> to <a href='https://wandb.ai/totikos/model_cnn_mfcc_6_grey_81k-hpo' target=\"_blank\">Weights & Biases</a> (<a href='https://wandb.me/run' target=\"_blank\">docs</a>)<br/>"
      ],
      "text/plain": [
       "<IPython.core.display.HTML object>"
      ]
     },
     "metadata": {},
     "output_type": "display_data"
    },
    {
     "data": {
      "text/html": [
       " View project at <a href='https://wandb.ai/totikos/model_cnn_mfcc_6_grey_81k-hpo' target=\"_blank\">https://wandb.ai/totikos/model_cnn_mfcc_6_grey_81k-hpo</a>"
      ],
      "text/plain": [
       "<IPython.core.display.HTML object>"
      ]
     },
     "metadata": {},
     "output_type": "display_data"
    },
    {
     "data": {
      "text/html": [
       " View run at <a href='https://wandb.ai/totikos/model_cnn_mfcc_6_grey_81k-hpo/runs/0gp9zbdm' target=\"_blank\">https://wandb.ai/totikos/model_cnn_mfcc_6_grey_81k-hpo/runs/0gp9zbdm</a>"
      ],
      "text/plain": [
       "<IPython.core.display.HTML object>"
      ]
     },
     "metadata": {},
     "output_type": "display_data"
    },
    {
     "name": "stderr",
     "output_type": "stream",
     "text": [
      "100%|████████████████████████████████████████| 380/380 [01:17<00:00,  4.87it/s]\n",
      "100%|██████████████████████████████████████████| 82/82 [00:07<00:00, 10.97it/s]\n",
      "[I 2024-01-07 06:06:22,148] Trial 106 pruned. \n"
     ]
    },
    {
     "name": "stdout",
     "output_type": "stream",
     "text": [
      "{'out_channels_l1': 16, 'out_channels_l2': 32, 'conv_kernel_size': 3, 'dropout_rate': 0.0}\n"
     ]
    },
    {
     "data": {
      "text/html": [
       "Finishing last run (ID:0gp9zbdm) before initializing another..."
      ],
      "text/plain": [
       "<IPython.core.display.HTML object>"
      ]
     },
     "metadata": {},
     "output_type": "display_data"
    },
    {
     "data": {
      "text/html": [
       "Waiting for W&B process to finish... <strong style=\"color:green\">(success).</strong>"
      ],
      "text/plain": [
       "<IPython.core.display.HTML object>"
      ]
     },
     "metadata": {},
     "output_type": "display_data"
    },
    {
     "data": {
      "text/html": [
       " View run <strong style=\"color:#cdcd00\">106_cnn_mfcc_6_grey_81k_lr-0.0001_convf1-32_convf2-32_convker-3_dr-0.1</strong> at: <a href='https://wandb.ai/totikos/model_cnn_mfcc_6_grey_81k-hpo/runs/0gp9zbdm' target=\"_blank\">https://wandb.ai/totikos/model_cnn_mfcc_6_grey_81k-hpo/runs/0gp9zbdm</a><br/> View job at <a href='https://wandb.ai/totikos/model_cnn_mfcc_6_grey_81k-hpo/jobs/QXJ0aWZhY3RDb2xsZWN0aW9uOjEyNzk0NTQwMw==/version_details/v4' target=\"_blank\">https://wandb.ai/totikos/model_cnn_mfcc_6_grey_81k-hpo/jobs/QXJ0aWZhY3RDb2xsZWN0aW9uOjEyNzk0NTQwMw==/version_details/v4</a><br/>Synced 5 W&B file(s), 0 media file(s), 0 artifact file(s) and 0 other file(s)"
      ],
      "text/plain": [
       "<IPython.core.display.HTML object>"
      ]
     },
     "metadata": {},
     "output_type": "display_data"
    },
    {
     "data": {
      "text/html": [
       "Find logs at: <code>C:\\Users\\nekta\\OneDrive\\Desktop\\botanic-emotion-recognition\\logs\\wandb\\run-20240107_060448-0gp9zbdm\\logs</code>"
      ],
      "text/plain": [
       "<IPython.core.display.HTML object>"
      ]
     },
     "metadata": {},
     "output_type": "display_data"
    },
    {
     "data": {
      "text/html": [
       "Successfully finished last run (ID:0gp9zbdm). Initializing new run:<br/>"
      ],
      "text/plain": [
       "<IPython.core.display.HTML object>"
      ]
     },
     "metadata": {},
     "output_type": "display_data"
    },
    {
     "data": {
      "text/html": [
       "wandb version 0.16.1 is available!  To upgrade, please run:\n",
       " $ pip install wandb --upgrade"
      ],
      "text/plain": [
       "<IPython.core.display.HTML object>"
      ]
     },
     "metadata": {},
     "output_type": "display_data"
    },
    {
     "data": {
      "text/html": [
       "Tracking run with wandb version 0.15.12"
      ],
      "text/plain": [
       "<IPython.core.display.HTML object>"
      ]
     },
     "metadata": {},
     "output_type": "display_data"
    },
    {
     "data": {
      "text/html": [
       "Run data is saved locally in <code>C:\\Users\\nekta\\OneDrive\\Desktop\\botanic-emotion-recognition\\logs\\wandb\\run-20240107_060622-g212wnrw</code>"
      ],
      "text/plain": [
       "<IPython.core.display.HTML object>"
      ]
     },
     "metadata": {},
     "output_type": "display_data"
    },
    {
     "data": {
      "text/html": [
       "Syncing run <strong><a href='https://wandb.ai/totikos/model_cnn_mfcc_6_grey_81k-hpo/runs/g212wnrw' target=\"_blank\">107_cnn_mfcc_6_grey_81k_lr-0.01_convf1-16_convf2-32_convker-3_dr-0.0</a></strong> to <a href='https://wandb.ai/totikos/model_cnn_mfcc_6_grey_81k-hpo' target=\"_blank\">Weights & Biases</a> (<a href='https://wandb.me/run' target=\"_blank\">docs</a>)<br/>"
      ],
      "text/plain": [
       "<IPython.core.display.HTML object>"
      ]
     },
     "metadata": {},
     "output_type": "display_data"
    },
    {
     "data": {
      "text/html": [
       " View project at <a href='https://wandb.ai/totikos/model_cnn_mfcc_6_grey_81k-hpo' target=\"_blank\">https://wandb.ai/totikos/model_cnn_mfcc_6_grey_81k-hpo</a>"
      ],
      "text/plain": [
       "<IPython.core.display.HTML object>"
      ]
     },
     "metadata": {},
     "output_type": "display_data"
    },
    {
     "data": {
      "text/html": [
       " View run at <a href='https://wandb.ai/totikos/model_cnn_mfcc_6_grey_81k-hpo/runs/g212wnrw' target=\"_blank\">https://wandb.ai/totikos/model_cnn_mfcc_6_grey_81k-hpo/runs/g212wnrw</a>"
      ],
      "text/plain": [
       "<IPython.core.display.HTML object>"
      ]
     },
     "metadata": {},
     "output_type": "display_data"
    },
    {
     "name": "stderr",
     "output_type": "stream",
     "text": [
      "100%|████████████████████████████████████████| 380/380 [00:41<00:00,  9.16it/s]\n",
      "100%|██████████████████████████████████████████| 82/82 [00:04<00:00, 17.80it/s]\n",
      "100%|████████████████████████████████████████| 380/380 [00:45<00:00,  8.28it/s]\n",
      "100%|██████████████████████████████████████████| 82/82 [00:04<00:00, 18.29it/s]\n",
      "[I 2024-01-07 06:08:04,652] Trial 107 pruned. \n"
     ]
    }
   ],
   "source": [
    "sampler = optuna.samplers.GridSampler(search_space)\n",
    "study = optuna.create_study(sampler=sampler, study_name=NAME_CORE, storage=\"sqlite:///hpo_\" + NAME_CORE + \".db\",\n",
    "                            direction=\"maximize\", load_if_exists=True)\n",
    "study.optimize(objective, n_trials=num_combi)"
   ]
  },
  {
   "cell_type": "markdown",
   "id": "b7a21577-9e3d-4ae8-850e-89b616554358",
   "metadata": {},
   "source": [
    "Closer look into the trials. "
   ]
  },
  {
   "cell_type": "code",
   "execution_count": 43,
   "id": "e7bf469d-5105-4b9f-b8e7-12505e11ad82",
   "metadata": {},
   "outputs": [],
   "source": [
    "pruned_trials = study.get_trials(deepcopy=False, states=[TrialState.PRUNED])\n",
    "complete_trials = study.get_trials(deepcopy=False, states=[TrialState.COMPLETE])"
   ]
  },
  {
   "cell_type": "code",
   "execution_count": 47,
   "id": "1580d071-60b1-468b-935c-c9ddc0de1440",
   "metadata": {},
   "outputs": [
    {
     "name": "stdout",
     "output_type": "stream",
     "text": [
      "Study statistics: \n",
      "  Number of finished trials:  108\n",
      "  Number of complete trials:  10\n",
      "  Number of pruned trials:  98\n",
      "Best trial:\n",
      "  Value:  0.37873863016739945\n",
      "  Params: \n",
      "    conv_kernel_size: 5\n",
      "    dropout_rate: 0.2\n",
      "    out_channels_l1: 64\n",
      "    out_channels_l2: 64\n",
      "    lr: 0.001\n"
     ]
    }
   ],
   "source": [
    "print(\"Study statistics: \")\n",
    "print(\"  Number of finished trials: \", len(study.trials))\n",
    "print(\"  Number of complete trials: \", len(complete_trials))\n",
    "print(\"  Number of pruned trials: \", len(pruned_trials))\n",
    "\n",
    "print(\"Best trial:\")\n",
    "trial_ = study.best_trial\n",
    "\n",
    "print(\"  Value: \", trial_.value)\n",
    "print(\"  Params: \")\n",
    "for key, value in trial_.params.items():\n",
    "    print(\"    {}: {}\".format(key, value))"
   ]
  },
  {
   "cell_type": "markdown",
   "id": "d1ca7d44-9c34-4eab-b619-8c09ab92efbc",
   "metadata": {},
   "source": [
    "#### Training the CNN.\n",
    "10 times training with best HP from HPO, and then average. "
   ]
  },
  {
   "cell_type": "code",
   "execution_count": null,
   "id": "25c62f20-a78f-43db-958b-e6f8b937c6d0",
   "metadata": {},
   "outputs": [],
   "source": []
  },
  {
   "cell_type": "code",
   "execution_count": null,
   "id": "27b20234-c6f3-4af9-b03b-73c8cff9eb95",
   "metadata": {},
   "outputs": [],
   "source": []
  },
  {
   "cell_type": "code",
   "execution_count": null,
   "id": "2748b45a-9596-4ab0-85fa-b15191cd0a09",
   "metadata": {},
   "outputs": [],
   "source": []
  },
  {
   "cell_type": "code",
   "execution_count": null,
   "id": "afb43cba-b17b-4a68-864e-6efcfb9824a3",
   "metadata": {},
   "outputs": [],
   "source": []
  },
  {
   "cell_type": "code",
   "execution_count": null,
   "id": "f58798de-dcde-4035-8a80-34a416ec515b",
   "metadata": {},
   "outputs": [],
   "source": []
  },
  {
   "cell_type": "code",
   "execution_count": null,
   "id": "fe808f1e-acf1-41a1-a752-b4b8fa0da9c7",
   "metadata": {},
   "outputs": [],
   "source": []
  },
  {
   "cell_type": "code",
   "execution_count": null,
   "id": "fe55a52f-7490-4cfa-8103-d760638b25fb",
   "metadata": {},
   "outputs": [],
   "source": []
  },
  {
   "cell_type": "markdown",
   "id": "8ca74ec5-c61d-478c-a22e-c1eaced9f60d",
   "metadata": {},
   "source": [
    "#### Testing the Classifier"
   ]
  },
  {
   "cell_type": "code",
   "execution_count": null,
   "id": "3becc3ca-9df7-4d41-a8f0-9c732799bc2e",
   "metadata": {},
   "outputs": [],
   "source": [
    "import os\n",
    "import numpy as np\n",
    "from tqdm import tqdm\n",
    "from PIL import Image\n",
    "import matplotlib.pyplot as plt\n",
    "\n",
    "%run ../src/utils/constants.py"
   ]
  },
  {
   "cell_type": "code",
   "execution_count": null,
   "id": "0f6cedcf-458e-47e9-8d80-d54017a9ad7d",
   "metadata": {},
   "outputs": [],
   "source": [
    "test_81k_folder = \"test-81k\""
   ]
  },
  {
   "cell_type": "code",
   "execution_count": null,
   "id": "af31eae1-9479-47d3-a7c2-085b1f38a799",
   "metadata": {},
   "outputs": [],
   "source": [
    "# Load all MFCC images and file names. \n",
    "images_test = []\n",
    "labels_test = []\n",
    "\n",
    "image_filenames_test = os.listdir(MFCC_IMAGES_DIR / test_81k_folder)\n",
    "image_paths_test = [os.path.join(MFCC_IMAGES_DIR / test_81k_folder, filename_test) for filename_test in image_filenames_test]\n",
    "\n",
    "IMAGE_SIZE = (97,97)\n",
    "N_CHANNELS = 1  # grey\n",
    "for path_test in tqdm(image_paths_test): \n",
    "    file_name_test = os.path.basename(path_test)\n",
    "    label_test = int(file_name_test.split(\".\")[0].split(\"_\")[-1])    \n",
    "    img_test = Image.open(path_test).convert(\"L\")  # convert to greyscale\n",
    "    img_test = img_test.resize(IMAGE_SIZE)\n",
    "    img_array_test = np.array(img_test) / 255.0\n",
    "    images_test.append(img_array_test)\n",
    "    labels_test.append(label_test)"
   ]
  },
  {
   "cell_type": "code",
   "execution_count": null,
   "id": "10b1c01b-8ff3-4050-9891-e4264d51f48f",
   "metadata": {},
   "outputs": [],
   "source": [
    "for i in range(9):\n",
    "    plt.subplot(3, 3, i + 1)\n",
    "    plt.imshow(images_test[i])\n",
    "    plt.title(f\"Label: {labels_test[i]}\")   \n",
    "    plt.axis(\"off\")\n",
    "plt.show()"
   ]
  },
  {
   "cell_type": "code",
   "execution_count": null,
   "id": "58261199-efaf-414c-906c-61289611a6c6",
   "metadata": {},
   "outputs": [],
   "source": [
    "images_test = torch.tensor(np.array(images_test), dtype=torch.float32)\n",
    "images_test = images_test.unsqueeze(1)\n",
    "labels_test = torch.tensor(np.array(labels_test), dtype=torch.long)\n",
    "test81k_dataset = TensorDataset(images_test, labels_test)"
   ]
  },
  {
   "cell_type": "code",
   "execution_count": null,
   "id": "a3e9a478-9ea5-4f13-8b09-f46782247a4a",
   "metadata": {},
   "outputs": [],
   "source": [
    "batch_size = 32\n",
    "test81k_loader = DataLoader(test81k_dataset, batch_size)"
   ]
  },
  {
   "cell_type": "code",
   "execution_count": null,
   "id": "f0d38062-26e8-4aa0-8929-064329279f75",
   "metadata": {},
   "outputs": [],
   "source": []
  },
  {
   "cell_type": "code",
   "execution_count": null,
   "id": "9ab2a9dd-2aab-4ba9-b3be-99f54ca808c2",
   "metadata": {},
   "outputs": [],
   "source": []
  }
 ],
 "metadata": {
  "kernelspec": {
   "display_name": "Python 3 (ipykernel)",
   "language": "python",
   "name": "python3"
  },
  "language_info": {
   "codemirror_mode": {
    "name": "ipython",
    "version": 3
   },
   "file_extension": ".py",
   "mimetype": "text/x-python",
   "name": "python",
   "nbconvert_exporter": "python",
   "pygments_lexer": "ipython3",
   "version": "3.11.4"
  }
 },
 "nbformat": 4,
 "nbformat_minor": 5
}
