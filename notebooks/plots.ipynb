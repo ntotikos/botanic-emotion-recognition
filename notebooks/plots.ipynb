{
 "cells": [
  {
   "cell_type": "markdown",
   "id": "93707b57-1ca8-43e2-bf43-7c29dca9bb35",
   "metadata": {},
   "source": [
    "# Collection of Plots Relevant to My Thesis\n",
    "### 1. Data"
   ]
  },
  {
   "cell_type": "code",
   "execution_count": 2,
   "id": "12ca790f-ef22-47fa-bb49-4480760ce515",
   "metadata": {},
   "outputs": [],
   "source": [
    "import pickle"
   ]
  },
  {
   "cell_type": "code",
   "execution_count": 1,
   "id": "605a78d3-2a59-4091-875e-e6a65d2eb5e5",
   "metadata": {},
   "outputs": [],
   "source": []
  },
  {
   "cell_type": "code",
   "execution_count": 4,
   "id": "48c4b4b8-bc36-4145-904a-88a1dfa179ae",
   "metadata": {},
   "outputs": [],
   "source": [
    "with open(path_to_pickle, 'rb') as file:\n",
    "    raw_data = pickle.load(file)"
   ]
  },
  {
   "cell_type": "code",
   "execution_count": 6,
   "id": "05b552ba-6081-4d29-b089-7650370c6605",
   "metadata": {},
   "outputs": [
    {
     "name": "stdout",
     "output_type": "stream",
     "text": [
      "191795\n"
     ]
    }
   ],
   "source": [
    "print(len(raw_data))"
   ]
  },
  {
   "cell_type": "code",
   "execution_count": 8,
   "id": "98ad8b7a-5765-40ea-9c11-d442b37cf526",
   "metadata": {},
   "outputs": [
    {
     "name": "stdout",
     "output_type": "stream",
     "text": [
      "{'wav_slice': array([  5,   8,  11, ..., -87, -87, -87], dtype=int16), 'label': 'Neutral', 'segment_id': 0, 'frame_id': 0}\n"
     ]
    }
   ],
   "source": [
    "print(raw_data[0])"
   ]
  },
  {
   "cell_type": "code",
   "execution_count": null,
   "id": "27bc65f4-0574-4a30-95c5-ab733b92fd35",
   "metadata": {},
   "outputs": [],
   "source": []
  },
  {
   "cell_type": "code",
   "execution_count": null,
   "id": "77c30bc3-dd0b-4bf1-b7d4-0c847c94bc7c",
   "metadata": {},
   "outputs": [],
   "source": []
  }
 ],
 "metadata": {
  "kernelspec": {
   "display_name": "Python 3 (ipykernel)",
   "language": "python",
   "name": "python3"
  },
  "language_info": {
   "codemirror_mode": {
    "name": "ipython",
    "version": 3
   },
   "file_extension": ".py",
   "mimetype": "text/x-python",
   "name": "python",
   "nbconvert_exporter": "python",
   "pygments_lexer": "ipython3",
   "version": "3.11.4"
  }
 },
 "nbformat": 4,
 "nbformat_minor": 5
}
