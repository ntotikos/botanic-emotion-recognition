{
 "cells": [
  {
   "cell_type": "markdown",
   "id": "35a79c2d-704b-4550-be00-873fa582fc99",
   "metadata": {},
   "source": [
    "# Get Ground Truth Labels for Plant Data\n",
    "---\n",
    "We are going to use labels for participants' emotions extracted from videos taken in parallel to the plant recordings. The emotions have already been predicted based on the facial expressions and what we are going to do is to get the labels and use them as ground truth for our plant experiments. "
   ]
  },
  {
   "cell_type": "code",
   "execution_count": null,
   "id": "115acd3a-46e6-4e6c-9636-93e2fac9db92",
   "metadata": {},
   "outputs": [],
   "source": [
    "import pandas as pd\n",
    "import os\n",
    "from typing import Union, Tuple, Literal"
   ]
  },
  {
   "cell_type": "code",
   "execution_count": null,
   "id": "6e4d4c5e-3c4c-41cc-90ad-d37ff6f69471",
   "metadata": {},
   "outputs": [],
   "source": [
    "emotions_dir = \"../data/teamwork-emotions\"\n",
    "interim_data_dir = \"../data/interim-plant-data-teamwork-extracted\"\n",
    "\n",
    "logs_dir = \"../logs\""
   ]
  },
  {
   "cell_type": "code",
   "execution_count": null,
   "id": "4b4ccfaa-d204-44d5-bdcf-9522163eb2bf",
   "metadata": {},
   "outputs": [],
   "source": [
    "save_file: bool = True\n",
    "\n",
    "# Team names. \n",
    "teams = [\n",
    "    \"team_01\",\n",
    "    \"team_02\",\n",
    "    \"team_03\",\n",
    "    \"team_04\",\n",
    "    \"team_05\",\n",
    "    \"team_06\",\n",
    "    \"team_07\",\n",
    "    \"team_08\",\n",
    "    \"team_09\",\n",
    "    \"team_10\",\n",
    "    \"team_11\",\n",
    "    \"team_12\",\n",
    "    \"team_13\",\n",
    "    \"team_15\",\n",
    "    \"team_16\",\n",
    "    \"team_17\",\n",
    "    \"team_18\",\n",
    "    \"team_19\",\n",
    "    \"team_20\",\n",
    "    \"team_22\"\n",
    "]\n",
    "\n",
    "# Teamworking days. \n",
    "days = [\"2023-01-10\", \"2023-01-12\", \"2023-01-13\"]"
   ]
  },
  {
   "cell_type": "markdown",
   "id": "a1255bb7-8cde-4643-bf8b-f57d45de89e8",
   "metadata": {},
   "source": [
    "As a matter of fact, from the teamwork session interval extraction I got \"broken\" `.wav` files, meaning that I am not going to use them. I manually changed the folder names so that I know which teams I am going to exclude from the experiment. Valid folder names are \"team_01\" (without any addition), and folders to be ignored have a longer name that indicates the reason for exclusion, e.g. \"team_03_broken_because_44100_samplingrate_on_day1\"."
   ]
  },
  {
   "cell_type": "code",
   "execution_count": null,
   "id": "c59c622f-470e-4dd4-ae23-11233b7d63e8",
   "metadata": {},
   "outputs": [],
   "source": [
    "def custom_sort(label: str, mode: Literal[\"interim\", \"emotions\"] = \"interim\") -> Union[int, Tuple[int, int]]:\n",
    "    \"\"\"\n",
    "    Helper function for customized sorting of file labels in emotions folder or interim data folder.\n",
    "    emotions: Sort labels like \"clip_0_11509_11908.csv\" first by clip id (0) and second by start frame (11509).\n",
    "    interim: Sort labels like \"sdm_2023-01-10_team_01_8333_9490.wav\" first by clip id (0) and second by start\n",
    "    frame (11509).\n",
    "    \"\"\"\n",
    "\n",
    "    if mode == \"interim\":\n",
    "        parts = label.split('_')\n",
    "        return int(parts[4])\n",
    "    elif mode == \"emotions\":\n",
    "        parts = label.split('_')\n",
    "        return int(parts[1]), int(parts[2])"
   ]
  },
  {
   "cell_type": "code",
   "execution_count": null,
   "id": "89842966-9f1b-4c7e-9a69-0a2e996b7b52",
   "metadata": {},
   "outputs": [],
   "source": [
    "def get_duration_from_label(label: str, mode: Literal[\"interim\", \"emotions\"] = \"interim\") -> int:\n",
    "    \"\"\"\n",
    "    Compute the duration of the teamwork session based on the start and end frame in the corresponding label.\n",
    "    emotions: \"clip_0_11509_11908.csv\", i.e. 11908-11509.\n",
    "    interim: \"sdm_2023-01-10_team_01_8333_9490.wav\", i.e. 8333-9490.\n",
    "    \"\"\"\n",
    "    \n",
    "    if mode == \"interim\":\n",
    "        parts = label.split('.')[0].split(\"_\")\n",
    "        duration = int(parts[5]) - int(parts[4])\n",
    "        return duration\n",
    "    elif mode == \"emotions\":\n",
    "        parts = label.split('.')[0].split(\"_\")\n",
    "        duration = int(parts[3]) - int(parts[2])\n",
    "        return duration"
   ]
  },
  {
   "cell_type": "code",
   "execution_count": null,
   "id": "0bf7475c-104d-43b9-b9d3-bc9b491d8e1a",
   "metadata": {},
   "outputs": [],
   "source": [
    "emotion_signal_mappings = pd.DataFrame(columns=['path_emotions', 'duration_emotions', \"path_interim\",\n",
    "                                                \"duration_interim\", 'difference'])\n",
    "\n",
    "for t in teams:\n",
    "    for d in days:\n",
    "        interim_data_path = os.path.join(interim_data_dir, t, d)\n",
    "        emotions_path = os.path.join(emotions_dir, t, d)\n",
    "\n",
    "        if os.path.exists(interim_data_path) and os.path.exists(emotions_path):\n",
    "            print(f\"emotion: {emotions_path}\")\n",
    "            print(f\"interim: {interim_data_path}\")\n",
    "\n",
    "            # 1. Files with emotions per second\n",
    "            clip_files = os.listdir(emotions_path)\n",
    "            clip_files = [item for item in clip_files if not item.startswith('team')]  # remove item \"team_1...csv\"\n",
    "            print(f\"{len(clip_files)}: {clip_files}\")\n",
    "\n",
    "            # lambda function needed because otherwise I could not use self-implemented custom_sort because it takes more than 1 arguments.\n",
    "            clip_files = sorted(clip_files, key=lambda x: custom_sort(x, mode=\"emotions\"))\n",
    "\n",
    "            # 2. Files with interim plant teamwork signal data\n",
    "            interim_data_files = os.listdir(interim_data_path)\n",
    "            print(f\"{len(interim_data_files)}: {interim_data_files}\\n\")\n",
    "\n",
    "            interim_data_files = sorted(interim_data_files, key=custom_sort)\n",
    "            \n",
    "            for i in range(len(clip_files)):\n",
    "                print(clip_files[i],\"\\t\",interim_data_files[i])\n",
    "                print(get_duration_from_label(clip_files[i], mode=\"emotions\"),\"\\t\\t\\t\",get_duration_from_label(interim_data_files[i]))\n",
    "\n",
    "                emotion_signal_mappings.loc[len(emotion_signal_mappings)] = \\\n",
    "                    [os.path.join(t,d,clip_files[i]),get_duration_from_label(clip_files[i], mode=\"emotions\"),\n",
    "                     interim_data_files[i],get_duration_from_label(interim_data_files[i]),\n",
    "                     get_duration_from_label(interim_data_files[i])-get_duration_from_label(clip_files[i], mode=\"emotions\")]\n",
    "            print(\"\")            \n",
    "    print(\"___________________________________\")"
   ]
  },
  {
   "cell_type": "code",
   "execution_count": null,
   "id": "65edf2e0-4eae-49aa-a0b1-7635931ff7a1",
   "metadata": {},
   "outputs": [],
   "source": [
    "#mismatch_logs.to_excel(os.path.join(logs_dir,\"duration_comparison_teamwork_session.xlsx\"))"
   ]
  },
  {
   "cell_type": "markdown",
   "id": "a06cb40c-6b68-49df-93b8-050d5b81bd21",
   "metadata": {},
   "source": [
    "Check number of non-zero elements in column `difference` as this shows that the durations indicated in two corresponding strings is not the same. Number of mismatches is equal to 12. "
   ]
  },
  {
   "cell_type": "code",
   "execution_count": null,
   "id": "a9d74cff-ff7a-485a-b327-8d6e4cc1c72e",
   "metadata": {},
   "outputs": [],
   "source": [
    "df_bool = (emotion_signal_mappings[\"difference\"] != 0)\n",
    "df_bool"
   ]
  },
  {
   "cell_type": "code",
   "execution_count": null,
   "id": "ae81bdaf-de84-474d-aed6-b1b49faca555",
   "metadata": {},
   "outputs": [],
   "source": [
    "print(df_bool.sum())"
   ]
  }
 ],
 "metadata": {
  "kernelspec": {
   "display_name": "Python 3 (ipykernel)",
   "language": "python",
   "name": "python3"
  },
  "language_info": {
   "codemirror_mode": {
    "name": "ipython",
    "version": 3
   },
   "file_extension": ".py",
   "mimetype": "text/x-python",
   "name": "python",
   "nbconvert_exporter": "python",
   "pygments_lexer": "ipython3",
   "version": "3.11.4"
  }
 },
 "nbformat": 4,
 "nbformat_minor": 5
}
